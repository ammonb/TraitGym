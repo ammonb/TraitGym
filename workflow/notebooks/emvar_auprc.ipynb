{
 "cells": [
  {
   "cell_type": "code",
   "execution_count": null,
   "id": "ec03dc29-1f2d-4d65-a542-c57b5f00c918",
   "metadata": {},
   "outputs": [],
   "source": [
    "V = (\n",
    "    pl.read_excel(\n",
    "        \"../../results/siraj/st_other.xlsx\", sheet_name=\"S4.MPRA PrC\", read_options=dict(header_row=1)\n",
    "    )\n",
    "    .to_pandas()\n",
    ")\n",
    "if wildcards.c == \"gwas\":\n",
    "    V = V[V[\"Variant Type\"].str.contains(\"Complex traits\")]\n",
    "elif wildcards.c == \"eqtl\":\n",
    "    V = V[V[\"Variant Type\"].str.contains(\"eQTL\")]\n",
    "V[\"highpip\"] = V[\"Variant Type\"].str.contains(\"test\")\n",
    "V[\"highpip_emvar\"] = V.highpip & V.emVar\n",
    "V[\"label\"] = V[wildcards.label]\n",
    "V[\"chrom\"] = V.Variant.str.split(\":\").str[0].str.replace(\"chr\", \"\")\n",
    "V[\"pos\"] = V.Variant.str.split(\":\").str[1].astype(int)\n",
    "V[\"ref\"] = V.Variant.str.split(\":\").str[2]\n",
    "V[\"alt\"] = V.Variant.str.split(\":\").str[3]\n",
    "V = V[[\"chrom\", \"pos\", \"ref\", \"alt\", \"label\"]]\n",
    "V = V[(V.ref.isin(NUCLEOTIDES)) & (V.alt.isin(NUCLEOTIDES))]\n",
    "V = lift_hg19_to_hg38(V)\n",
    "V = V[V.pos != -1]\n",
    "genome = Genome(\"../../results/genome.fa.gz\")\n",
    "V = check_ref_alt(V, genome)"
   ]
  }
 ],
 "metadata": {
  "kernelspec": {
   "display_name": "gpn",
   "language": "python",
   "name": "gpn"
  },
  "language_info": {
   "codemirror_mode": {
    "name": "ipython",
    "version": 3
   },
   "file_extension": ".py",
   "mimetype": "text/x-python",
   "name": "python",
   "nbconvert_exporter": "python",
   "pygments_lexer": "ipython3",
   "version": "3.11.3"
  }
 },
 "nbformat": 4,
 "nbformat_minor": 5
}
