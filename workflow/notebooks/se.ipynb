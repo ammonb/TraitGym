{
 "cells": [
  {
   "cell_type": "code",
   "execution_count": 20,
   "metadata": {},
   "outputs": [],
   "source": [
    "import pandas as pd\n",
    "import polars as pl\n",
    "from sklearn.metrics import average_precision_score, roc_auc_score\n",
    "from tqdm import tqdm"
   ]
  },
  {
   "cell_type": "code",
   "execution_count": 58,
   "metadata": {},
   "outputs": [],
   "source": [
    "COORDINATES = [\"chrom\", \"pos\", \"ref\", \"alt\"]\n",
    "\n",
    "dataset = \"mendelian_matched_9\"\n",
    "\n",
    "subset = \"all\"\n",
    "#subset = \"non_missense\"\n",
    "\n",
    "#model = \"GPN-MSA_LLR.minus.score\"\n",
    "#model = \"CADD.plus.RawScore\"\n",
    "#model = \"Enformer_L2_L2.plus.all\"\n",
    "model = \"Caduceus_LLR.minus.score\""
   ]
  },
  {
   "cell_type": "code",
   "execution_count": 59,
   "metadata": {},
   "outputs": [
    {
     "data": {
      "text/html": [
       "<div><style>\n",
       ".dataframe > thead > tr,\n",
       ".dataframe > tbody > tr {\n",
       "  text-align: right;\n",
       "  white-space: pre-wrap;\n",
       "}\n",
       "</style>\n",
       "<small>shape: (11_772, 11)</small><table border=\"1\" class=\"dataframe\"><thead><tr><th>chrom</th><th>pos</th><th>ref</th><th>alt</th><th>consequence</th><th>source</th><th>OMIM</th><th>label</th><th>tss_dist</th><th>match_group</th><th>score</th></tr><tr><td>str</td><td>i64</td><td>str</td><td>str</td><td>str</td><td>str</td><td>str</td><td>bool</td><td>i64</td><td>str</td><td>f32</td></tr></thead><tbody><tr><td>&quot;1&quot;</td><td>976215</td><td>&quot;A&quot;</td><td>&quot;G&quot;</td><td>&quot;missense_variant&quot;</td><td>&quot;gnomAD&quot;</td><td>null</td><td>false</td><td>2702</td><td>&quot;missense_variant_49&quot;</td><td>0.875</td></tr><tr><td>&quot;1&quot;</td><td>978953</td><td>&quot;C&quot;</td><td>&quot;G&quot;</td><td>&quot;missense_variant&quot;</td><td>&quot;gnomAD&quot;</td><td>null</td><td>false</td><td>3139</td><td>&quot;missense_variant_30&quot;</td><td>-0.546875</td></tr><tr><td>&quot;1&quot;</td><td>1243545</td><td>&quot;G&quot;</td><td>&quot;A&quot;</td><td>&quot;missense_variant&quot;</td><td>&quot;gnomAD&quot;</td><td>null</td><td>false</td><td>3176</td><td>&quot;missense_variant_30&quot;</td><td>0.699219</td></tr><tr><td>&quot;1&quot;</td><td>1264812</td><td>&quot;C&quot;</td><td>&quot;G&quot;</td><td>&quot;missense_variant&quot;</td><td>&quot;gnomAD&quot;</td><td>null</td><td>false</td><td>8658</td><td>&quot;missense_variant_23&quot;</td><td>-5.152344</td></tr><tr><td>&quot;1&quot;</td><td>1425822</td><td>&quot;C&quot;</td><td>&quot;G&quot;</td><td>&quot;PLS&quot;</td><td>&quot;gnomAD&quot;</td><td>null</td><td>false</td><td>48</td><td>&quot;PLS_4&quot;</td><td>-0.1875</td></tr><tr><td>&hellip;</td><td>&hellip;</td><td>&hellip;</td><td>&hellip;</td><td>&hellip;</td><td>&hellip;</td><td>&hellip;</td><td>&hellip;</td><td>&hellip;</td><td>&hellip;</td><td>&hellip;</td></tr><tr><td>&quot;X&quot;</td><td>156021686</td><td>&quot;C&quot;</td><td>&quot;T&quot;</td><td>&quot;missense_variant&quot;</td><td>&quot;gnomAD&quot;</td><td>null</td><td>false</td><td>724</td><td>&quot;missense_variant_776&quot;</td><td>-0.339844</td></tr><tr><td>&quot;X&quot;</td><td>156022062</td><td>&quot;G&quot;</td><td>&quot;A&quot;</td><td>&quot;missense_variant&quot;</td><td>&quot;gnomAD&quot;</td><td>null</td><td>false</td><td>1100</td><td>&quot;missense_variant_784&quot;</td><td>1.046875</td></tr><tr><td>&quot;X&quot;</td><td>156022092</td><td>&quot;C&quot;</td><td>&quot;T&quot;</td><td>&quot;missense_variant&quot;</td><td>&quot;gnomAD&quot;</td><td>null</td><td>false</td><td>1130</td><td>&quot;missense_variant_790&quot;</td><td>0.371094</td></tr><tr><td>&quot;X&quot;</td><td>156023118</td><td>&quot;G&quot;</td><td>&quot;T&quot;</td><td>&quot;missense_variant&quot;</td><td>&quot;gnomAD&quot;</td><td>null</td><td>false</td><td>2156</td><td>&quot;missense_variant_778&quot;</td><td>-0.390625</td></tr><tr><td>&quot;X&quot;</td><td>156024251</td><td>&quot;A&quot;</td><td>&quot;C&quot;</td><td>&quot;missense_variant&quot;</td><td>&quot;gnomAD&quot;</td><td>null</td><td>false</td><td>3289</td><td>&quot;missense_variant_797&quot;</td><td>0.3984375</td></tr></tbody></table></div>"
      ],
      "text/plain": [
       "shape: (11_772, 11)\n",
       "┌───────┬───────────┬─────┬─────┬───┬───────┬──────────┬──────────────────────┬───────────┐\n",
       "│ chrom ┆ pos       ┆ ref ┆ alt ┆ … ┆ label ┆ tss_dist ┆ match_group          ┆ score     │\n",
       "│ ---   ┆ ---       ┆ --- ┆ --- ┆   ┆ ---   ┆ ---      ┆ ---                  ┆ ---       │\n",
       "│ str   ┆ i64       ┆ str ┆ str ┆   ┆ bool  ┆ i64      ┆ str                  ┆ f32       │\n",
       "╞═══════╪═══════════╪═════╪═════╪═══╪═══════╪══════════╪══════════════════════╪═══════════╡\n",
       "│ 1     ┆ 976215    ┆ A   ┆ G   ┆ … ┆ false ┆ 2702     ┆ missense_variant_49  ┆ 0.875     │\n",
       "│ 1     ┆ 978953    ┆ C   ┆ G   ┆ … ┆ false ┆ 3139     ┆ missense_variant_30  ┆ -0.546875 │\n",
       "│ 1     ┆ 1243545   ┆ G   ┆ A   ┆ … ┆ false ┆ 3176     ┆ missense_variant_30  ┆ 0.699219  │\n",
       "│ 1     ┆ 1264812   ┆ C   ┆ G   ┆ … ┆ false ┆ 8658     ┆ missense_variant_23  ┆ -5.152344 │\n",
       "│ 1     ┆ 1425822   ┆ C   ┆ G   ┆ … ┆ false ┆ 48       ┆ PLS_4                ┆ -0.1875   │\n",
       "│ …     ┆ …         ┆ …   ┆ …   ┆ … ┆ …     ┆ …        ┆ …                    ┆ …         │\n",
       "│ X     ┆ 156021686 ┆ C   ┆ T   ┆ … ┆ false ┆ 724      ┆ missense_variant_776 ┆ -0.339844 │\n",
       "│ X     ┆ 156022062 ┆ G   ┆ A   ┆ … ┆ false ┆ 1100     ┆ missense_variant_784 ┆ 1.046875  │\n",
       "│ X     ┆ 156022092 ┆ C   ┆ T   ┆ … ┆ false ┆ 1130     ┆ missense_variant_790 ┆ 0.371094  │\n",
       "│ X     ┆ 156023118 ┆ G   ┆ T   ┆ … ┆ false ┆ 2156     ┆ missense_variant_778 ┆ -0.390625 │\n",
       "│ X     ┆ 156024251 ┆ A   ┆ C   ┆ … ┆ false ┆ 3289     ┆ missense_variant_797 ┆ 0.3984375 │\n",
       "└───────┴───────────┴─────┴─────┴───┴───────┴──────────┴──────────────────────┴───────────┘"
      ]
     },
     "execution_count": 59,
     "metadata": {},
     "output_type": "execute_result"
    }
   ],
   "source": [
    "V = pl.read_parquet(f\"../../results/dataset/{dataset}/test.parquet\")\n",
    "s = pl.read_parquet(f\"../../results/dataset/{dataset}/subset/{subset}.parquet\")\n",
    "V = s.join(V, on=COORDINATES, how=\"left\")\n",
    "V = V.with_columns(\n",
    "    score=pl.read_parquet(f\"../../results/dataset/{dataset}/preds/{subset}/{model}.parquet\")[\"score\"].to_numpy()\n",
    ")\n",
    "V "
   ]
  },
  {
   "cell_type": "code",
   "execution_count": 60,
   "metadata": {},
   "outputs": [
    {
     "data": {
      "text/html": [
       "<div>\n",
       "<style scoped>\n",
       "    .dataframe tbody tr th:only-of-type {\n",
       "        vertical-align: middle;\n",
       "    }\n",
       "\n",
       "    .dataframe tbody tr th {\n",
       "        vertical-align: top;\n",
       "    }\n",
       "\n",
       "    .dataframe thead th {\n",
       "        text-align: right;\n",
       "    }\n",
       "</style>\n",
       "<table border=\"1\" class=\"dataframe\">\n",
       "  <thead>\n",
       "    <tr style=\"text-align: right;\">\n",
       "      <th></th>\n",
       "      <th>Model</th>\n",
       "      <th>AUPRC</th>\n",
       "    </tr>\n",
       "  </thead>\n",
       "  <tbody>\n",
       "    <tr>\n",
       "      <th>0</th>\n",
       "      <td>Caduceus_LLR.minus.score</td>\n",
       "      <td>0.091912</td>\n",
       "    </tr>\n",
       "  </tbody>\n",
       "</table>\n",
       "</div>"
      ],
      "text/plain": [
       "                      Model     AUPRC\n",
       "0  Caduceus_LLR.minus.score  0.091912"
      ]
     },
     "execution_count": 60,
     "metadata": {},
     "output_type": "execute_result"
    }
   ],
   "source": [
    "balanced = V[\"label\"].sum() == len(V) // 2\n",
    "metric = roc_auc_score if balanced else average_precision_score\n",
    "metric_name = \"AUROC\" if balanced else \"AUPRC\"\n",
    "res = pd.DataFrame({\n",
    "    \"Model\": [model],\n",
    "    metric_name: [metric(V[\"label\"], V[\"score\"])]\n",
    "})\n",
    "res"
   ]
  },
  {
   "cell_type": "code",
   "execution_count": 61,
   "metadata": {},
   "outputs": [
    {
     "name": "stderr",
     "output_type": "stream",
     "text": [
      "  0%| | 0/1000 [00:00<?, ?it/s]"
     ]
    },
    {
     "name": "stderr",
     "output_type": "stream",
     "text": [
      "100%|█| 1000/1000 [00:04<00:00,\n"
     ]
    },
    {
     "data": {
      "text/plain": [
       "(0.09209686569214968, 0.001989706729566541)"
      ]
     },
     "execution_count": 61,
     "metadata": {},
     "output_type": "execute_result"
    }
   ],
   "source": [
    "n_bootstraps = 1000\n",
    "all_chroms = V[\"chrom\"].unique().sort()\n",
    "V_chroms = {chrom: V.filter(chrom=chrom).select([\"label\", \"score\"]) for chrom in all_chroms}\n",
    "bootstraps = []\n",
    "for i in tqdm(range(n_bootstraps)):\n",
    "    boot_chroms = all_chroms.sample(len(all_chroms), with_replacement=True, seed=i)\n",
    "    V_boot = pl.concat([V_chroms[chrom] for chrom in boot_chroms])\n",
    "    bootstraps.append(metric(V_boot[\"label\"], V_boot[\"score\"]))\n",
    "bootstraps = pl.Series(bootstraps)\n",
    "bootstraps.mean(), bootstraps.std()"
   ]
  },
  {
   "cell_type": "code",
   "execution_count": 62,
   "metadata": {},
   "outputs": [
    {
     "data": {
      "text/plain": [
       "<Axes: >"
      ]
     },
     "execution_count": 62,
     "metadata": {},
     "output_type": "execute_result"
    },
    {
     "data": {
      "image/png": "[encoded data removed]",
      "text/plain": [
       "<Figure size 432x288 with 1 Axes>"
      ]
     },
     "metadata": {
      "needs_background": "light"
     },
     "output_type": "display_data"
    }
   ],
   "source": [
    "bootstraps.to_pandas().hist(bins=20)"
   ]
  },
  {
   "cell_type": "code",
   "execution_count": null,
   "metadata": {},
   "outputs": [],
   "source": []
  }
 ],
 "metadata": {
  "kernelspec": {
   "display_name": "gpn",
   "language": "python",
   "name": "gpn"
  },
  "language_info": {
   "codemirror_mode": {
    "name": "ipython",
    "version": 3
   },
   "file_extension": ".py",
   "mimetype": "text/x-python",
   "name": "python",
   "nbconvert_exporter": "python",
   "pygments_lexer": "ipython3",
   "version": "3.11.3"
  }
 },
 "nbformat": 4,
 "nbformat_minor": 2
}
