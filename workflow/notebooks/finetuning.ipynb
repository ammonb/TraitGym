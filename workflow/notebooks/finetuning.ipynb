{
 "cells": [
  {
   "cell_type": "code",
   "execution_count": 6,
   "id": "3fe7035d-69f5-48d6-873f-13af675e11de",
   "metadata": {
    "tags": []
   },
   "outputs": [],
   "source": [
    "from datasets import load_dataset, disable_caching\n",
    "disable_caching()\n",
    "from gpn.data import GenomeMSA, Tokenizer, ReverseComplementer\n",
    "import gpn.model\n",
    "import matplotlib.pyplot as plt\n",
    "import numpy as np\n",
    "import os\n",
    "import pandas as pd\n",
    "from scipy.stats import pearsonr, spearmanr\n",
    "import seaborn as sns\n",
    "from sklearn.linear_model import LogisticRegressionCV\n",
    "from sklearn.metrics import average_precision_score, roc_auc_score\n",
    "from sklearn.preprocessing import StandardScaler, RobustScaler\n",
    "from sklearn.pipeline import Pipeline\n",
    "import tempfile\n",
    "from transformers import AutoModel, Trainer, TrainingArguments\n",
    "from transformers.modeling_outputs import SequenceClassifierOutput\n",
    "import torch\n",
    "from torch import nn\n",
    "import torch.nn.functional as F\n",
    "from tqdm import tqdm\n",
    "import warnings\n",
    "warnings.filterwarnings(\"ignore\")\n",
    "import yaml"
   ]
  },
  {
   "cell_type": "code",
   "execution_count": 2,
   "id": "46297832-4ade-46aa-91ba-939a0de9891f",
   "metadata": {
    "tags": []
   },
   "outputs": [],
   "source": [
    "with open(\"../../config/config.yaml\", 'r') as stream:\n",
    "    config = yaml.safe_load(stream)"
   ]
  },
  {
   "cell_type": "code",
   "execution_count": 3,
   "id": "fd1f9164-fdca-416d-a61c-08c0aa379de2",
   "metadata": {
    "tags": []
   },
   "outputs": [
    {
     "data": {
      "text/html": [
       "<div>\n",
       "<style scoped>\n",
       "    .dataframe tbody tr th:only-of-type {\n",
       "        vertical-align: middle;\n",
       "    }\n",
       "\n",
       "    .dataframe tbody tr th {\n",
       "        vertical-align: top;\n",
       "    }\n",
       "\n",
       "    .dataframe thead th {\n",
       "        text-align: right;\n",
       "    }\n",
       "</style>\n",
       "<table border=\"1\" class=\"dataframe\">\n",
       "  <thead>\n",
       "    <tr style=\"text-align: right;\">\n",
       "      <th></th>\n",
       "      <th>chrom</th>\n",
       "      <th>pos</th>\n",
       "      <th>ref</th>\n",
       "      <th>alt</th>\n",
       "      <th>pip</th>\n",
       "      <th>maf</th>\n",
       "      <th>trait</th>\n",
       "      <th>label</th>\n",
       "      <th>consequence</th>\n",
       "      <th>tss_dist</th>\n",
       "      <th>exon_dist</th>\n",
       "      <th>match_group</th>\n",
       "    </tr>\n",
       "  </thead>\n",
       "  <tbody>\n",
       "    <tr>\n",
       "      <th>0</th>\n",
       "      <td>1</td>\n",
       "      <td>930312</td>\n",
       "      <td>C</td>\n",
       "      <td>G</td>\n",
       "      <td>0.001963</td>\n",
       "      <td>0.000683</td>\n",
       "      <td></td>\n",
       "      <td>False</td>\n",
       "      <td>missense_variant</td>\n",
       "      <td>0</td>\n",
       "      <td>0</td>\n",
       "      <td>missense_variant_5</td>\n",
       "    </tr>\n",
       "    <tr>\n",
       "      <th>1</th>\n",
       "      <td>1</td>\n",
       "      <td>976215</td>\n",
       "      <td>A</td>\n",
       "      <td>G</td>\n",
       "      <td>0.005418</td>\n",
       "      <td>0.199367</td>\n",
       "      <td></td>\n",
       "      <td>False</td>\n",
       "      <td>missense_variant</td>\n",
       "      <td>2703</td>\n",
       "      <td>0</td>\n",
       "      <td>missense_variant_39</td>\n",
       "    </tr>\n",
       "    <tr>\n",
       "      <th>2</th>\n",
       "      <td>1</td>\n",
       "      <td>1203822</td>\n",
       "      <td>T</td>\n",
       "      <td>C</td>\n",
       "      <td>0.006379</td>\n",
       "      <td>0.059558</td>\n",
       "      <td></td>\n",
       "      <td>False</td>\n",
       "      <td>synonymous_variant</td>\n",
       "      <td>1856</td>\n",
       "      <td>0</td>\n",
       "      <td>synonymous_variant_0</td>\n",
       "    </tr>\n",
       "    <tr>\n",
       "      <th>3</th>\n",
       "      <td>1</td>\n",
       "      <td>1224844</td>\n",
       "      <td>C</td>\n",
       "      <td>T</td>\n",
       "      <td>0.001119</td>\n",
       "      <td>0.096291</td>\n",
       "      <td></td>\n",
       "      <td>False</td>\n",
       "      <td>intron_variant</td>\n",
       "      <td>3750</td>\n",
       "      <td>876</td>\n",
       "      <td>intron_variant_11</td>\n",
       "    </tr>\n",
       "    <tr>\n",
       "      <th>4</th>\n",
       "      <td>1</td>\n",
       "      <td>1291417</td>\n",
       "      <td>C</td>\n",
       "      <td>G</td>\n",
       "      <td>0.003143</td>\n",
       "      <td>0.003690</td>\n",
       "      <td></td>\n",
       "      <td>False</td>\n",
       "      <td>missense_variant</td>\n",
       "      <td>4308</td>\n",
       "      <td>0</td>\n",
       "      <td>missense_variant_40</td>\n",
       "    </tr>\n",
       "    <tr>\n",
       "      <th>...</th>\n",
       "      <td>...</td>\n",
       "      <td>...</td>\n",
       "      <td>...</td>\n",
       "      <td>...</td>\n",
       "      <td>...</td>\n",
       "      <td>...</td>\n",
       "      <td>...</td>\n",
       "      <td>...</td>\n",
       "      <td>...</td>\n",
       "      <td>...</td>\n",
       "      <td>...</td>\n",
       "      <td>...</td>\n",
       "    </tr>\n",
       "    <tr>\n",
       "      <th>4589</th>\n",
       "      <td>22</td>\n",
       "      <td>50190508</td>\n",
       "      <td>G</td>\n",
       "      <td>A</td>\n",
       "      <td>1.000000</td>\n",
       "      <td>0.073316</td>\n",
       "      <td>Plt</td>\n",
       "      <td>True</td>\n",
       "      <td>intron_variant</td>\n",
       "      <td>88</td>\n",
       "      <td>88</td>\n",
       "      <td>intron_variant_709</td>\n",
       "    </tr>\n",
       "    <tr>\n",
       "      <th>4590</th>\n",
       "      <td>22</td>\n",
       "      <td>50309599</td>\n",
       "      <td>G</td>\n",
       "      <td>A</td>\n",
       "      <td>0.002612</td>\n",
       "      <td>0.005661</td>\n",
       "      <td></td>\n",
       "      <td>False</td>\n",
       "      <td>3_prime_UTR_variant</td>\n",
       "      <td>1953</td>\n",
       "      <td>0</td>\n",
       "      <td>3_prime_UTR_variant_61</td>\n",
       "    </tr>\n",
       "    <tr>\n",
       "      <th>4591</th>\n",
       "      <td>22</td>\n",
       "      <td>50395752</td>\n",
       "      <td>A</td>\n",
       "      <td>G</td>\n",
       "      <td>0.001928</td>\n",
       "      <td>0.083293</td>\n",
       "      <td></td>\n",
       "      <td>False</td>\n",
       "      <td>intron_variant</td>\n",
       "      <td>23680</td>\n",
       "      <td>1617</td>\n",
       "      <td>intron_variant_692</td>\n",
       "    </tr>\n",
       "    <tr>\n",
       "      <th>4592</th>\n",
       "      <td>22</td>\n",
       "      <td>50516206</td>\n",
       "      <td>G</td>\n",
       "      <td>A</td>\n",
       "      <td>0.978163</td>\n",
       "      <td>0.095820</td>\n",
       "      <td>MCH</td>\n",
       "      <td>True</td>\n",
       "      <td>intron_variant</td>\n",
       "      <td>6317</td>\n",
       "      <td>239</td>\n",
       "      <td>intron_variant_710</td>\n",
       "    </tr>\n",
       "    <tr>\n",
       "      <th>4593</th>\n",
       "      <td>22</td>\n",
       "      <td>50532837</td>\n",
       "      <td>T</td>\n",
       "      <td>C</td>\n",
       "      <td>1.000000</td>\n",
       "      <td>0.327615</td>\n",
       "      <td>MCH,MCV,RBC</td>\n",
       "      <td>True</td>\n",
       "      <td>upstream_gene_variant</td>\n",
       "      <td>331</td>\n",
       "      <td>331</td>\n",
       "      <td>upstream_gene_variant_40</td>\n",
       "    </tr>\n",
       "  </tbody>\n",
       "</table>\n",
       "<p>4594 rows × 12 columns</p>\n",
       "</div>"
      ],
      "text/plain": [
       "     chrom       pos ref alt       pip       maf        trait  label  \\\n",
       "0        1    930312   C   G  0.001963  0.000683               False   \n",
       "1        1    976215   A   G  0.005418  0.199367               False   \n",
       "2        1   1203822   T   C  0.006379  0.059558               False   \n",
       "3        1   1224844   C   T  0.001119  0.096291               False   \n",
       "4        1   1291417   C   G  0.003143  0.003690               False   \n",
       "...    ...       ...  ..  ..       ...       ...          ...    ...   \n",
       "4589    22  50190508   G   A  1.000000  0.073316          Plt   True   \n",
       "4590    22  50309599   G   A  0.002612  0.005661               False   \n",
       "4591    22  50395752   A   G  0.001928  0.083293               False   \n",
       "4592    22  50516206   G   A  0.978163  0.095820          MCH   True   \n",
       "4593    22  50532837   T   C  1.000000  0.327615  MCH,MCV,RBC   True   \n",
       "\n",
       "                consequence  tss_dist  exon_dist               match_group  \n",
       "0          missense_variant         0          0        missense_variant_5  \n",
       "1          missense_variant      2703          0       missense_variant_39  \n",
       "2        synonymous_variant      1856          0      synonymous_variant_0  \n",
       "3            intron_variant      3750        876         intron_variant_11  \n",
       "4          missense_variant      4308          0       missense_variant_40  \n",
       "...                     ...       ...        ...                       ...  \n",
       "4589         intron_variant        88         88        intron_variant_709  \n",
       "4590    3_prime_UTR_variant      1953          0    3_prime_UTR_variant_61  \n",
       "4591         intron_variant     23680       1617        intron_variant_692  \n",
       "4592         intron_variant      6317        239        intron_variant_710  \n",
       "4593  upstream_gene_variant       331        331  upstream_gene_variant_40  \n",
       "\n",
       "[4594 rows x 12 columns]"
      ]
     },
     "execution_count": 3,
     "metadata": {},
     "output_type": "execute_result"
    }
   ],
   "source": [
    "dataset = load_dataset(\"gonzalobenegas/gwas\", split=\"test\")\n",
    "V = dataset.to_pandas()\n",
    "V"
   ]
  },
  {
   "cell_type": "code",
   "execution_count": 68,
   "id": "ef2cdc09-a825-4e43-ba04-c79c8eb8da9a",
   "metadata": {
    "tags": []
   },
   "outputs": [],
   "source": [
    "# TODO: should have train, validation and test splits\n",
    "# (and datasets)\n",
    "# do a train run and then a predict run\n",
    "# although maybe should compute metrics ROC_AUC for the validation while training\n",
    "split_chroms = {\n",
    "    \"train\": [str(i) for i in range(3, 23)],\n",
    "    \"validation\": [\"1\"],\n",
    "    \"test\": [\"2\"],\n",
    "}"
   ]
  },
  {
   "cell_type": "code",
   "execution_count": 4,
   "id": "b1b65b12-0098-4958-9f89-9bf2a138be52",
   "metadata": {
    "tags": []
   },
   "outputs": [
    {
     "name": "stdout",
     "output_type": "stream",
     "text": [
      "Loading MSA...\n",
      "Loading MSA... Done\n"
     ]
    },
    {
     "data": {
      "text/plain": [
       "<gpn.data.GenomeMSA at 0x7effac8e3b90>"
      ]
     },
     "execution_count": 4,
     "metadata": {},
     "output_type": "execute_result"
    }
   ],
   "source": [
    "genome_msa = GenomeMSA(\n",
    "    config[\"gpn_msa\"][\"msa_path\"], subset_chroms=dataset.unique(\"chrom\"), in_memory=False\n",
    ")\n",
    "genome_msa"
   ]
  },
  {
   "cell_type": "code",
   "execution_count": 69,
   "id": "06d00e2c-cc3f-4045-a2ec-42a793ec0bf9",
   "metadata": {
    "tags": []
   },
   "outputs": [
    {
     "name": "stderr",
     "output_type": "stream",
     "text": [
      "Filter: 100%|██████████| 4594/4594 [00:00<00:00, 135323.88 examples/s]\n",
      "Filter: 100%|██████████| 4594/4594 [00:00<00:00, 148198.59 examples/s]\n",
      "Filter: 100%|██████████| 4594/4594 [00:00<00:00, 149237.36 examples/s]\n"
     ]
    }
   ],
   "source": [
    "datasets = {\n",
    "    split: dataset.filter(lambda v: v[\"chrom\"] in chroms).with_transform(tokenize_function)\n",
    "    for split, chroms in split_chroms.items()\n",
    "}"
   ]
  },
  {
   "cell_type": "code",
   "execution_count": 84,
   "id": "c74294b6-7791-4b72-a29a-b447098fecd9",
   "metadata": {
    "tags": []
   },
   "outputs": [],
   "source": [
    "class VEP(nn.Module):\n",
    "    def __init__(self, model_path):\n",
    "        super().__init__()\n",
    "        self.model = AutoModel.from_pretrained(model_path)\n",
    "        #self.cls = nn.Linear(self.model.config.hidden_size*2, 1)\n",
    "        self.cls = nn.Linear(self.model.config.hidden_size, 1)\n",
    "        #self.cls = nn.Linear(1, 1)\n",
    "\n",
    "    def get_embedding(self, input_ids, aux_features):\n",
    "        return self.model(\n",
    "            input_ids=input_ids, aux_features=aux_features,\n",
    "        ).last_hidden_state.mean(dim=1)\n",
    "\n",
    "    def forward(\n",
    "        self,\n",
    "        input_ids_ref=None,\n",
    "        aux_features_ref=None,\n",
    "        input_ids_alt=None,\n",
    "        aux_features_alt=None,\n",
    "        labels=None,\n",
    "    ):\n",
    "        embedding_ref = self.get_embedding(input_ids_ref, aux_features_ref)\n",
    "        embedding_alt = self.get_embedding(input_ids_alt, aux_features_alt)\n",
    "        #features = torch.hstack((embedding_ref, embedding_alt))\n",
    "        #features = (embedding_ref-embedding_alt).abs()\n",
    "        features = embedding_ref*embedding_alt\n",
    "        #features = F.cosine_similarity(embedding_ref, embedding_alt).unsqueeze(-1)\n",
    "        logits = self.cls(features).squeeze()\n",
    "        loss = None\n",
    "        if labels is not None:\n",
    "            loss_fct = nn.BCEWithLogitsLoss()\n",
    "            loss = loss_fct(logits, labels)\n",
    "        return SequenceClassifierOutput(\n",
    "            loss=loss,\n",
    "            logits=logits,\n",
    "        )\n",
    "\n",
    "\n",
    "def tokenize_function(V):\n",
    "    # we convert from 1-based coordinate (standard in VCF) to\n",
    "    # 0-based, to use with GenomeMSA\n",
    "    chrom = np.array(V[\"chrom\"])\n",
    "    pos = np.array(V[\"pos\"]) - 1\n",
    "    start = pos - window_size // 2\n",
    "    end = pos + window_size // 2\n",
    "    strand = [\"+\"] * len(chrom)\n",
    "\n",
    "    msa = genome_msa.get_msa_batch(\n",
    "        chrom,\n",
    "        start,\n",
    "        end,\n",
    "        strand,\n",
    "        tokenize=True,\n",
    "    )\n",
    "    pos = window_size // 2\n",
    "\n",
    "    ref = np.array(\n",
    "        [np.frombuffer(x.encode(\"ascii\"), dtype=\"S1\") for x in V[\"ref\"]]\n",
    "    )\n",
    "    alt = np.array(\n",
    "        [np.frombuffer(x.encode(\"ascii\"), dtype=\"S1\") for x in V[\"alt\"]]\n",
    "    )\n",
    "\n",
    "    ref, alt = tokenizer(ref.flatten()), tokenizer(alt.flatten())\n",
    "    input_ids, aux_features = msa[:, :, 0], msa[:, :, 1:]\n",
    "    assert (\n",
    "        input_ids[:, pos] == ref\n",
    "    ).all(), f\"{input_ids[:, pos].tolist()}, {ref.tolist()}\"\n",
    "    input_ids_alt = input_ids.copy()\n",
    "    input_ids_alt[:, pos] = alt\n",
    "    input_ids = input_ids.astype(np.int64)\n",
    "    input_ids_alt = input_ids_alt.astype(np.int64)\n",
    "    return {\n",
    "        \"input_ids_ref\": input_ids,\n",
    "        \"aux_features_ref\": aux_features,\n",
    "        \"input_ids_alt\": input_ids_alt,\n",
    "        \"aux_features_alt\": aux_features,\n",
    "        \"labels\": np.array(V[\"label\"]).astype(float),\n",
    "    }"
   ]
  },
  {
   "cell_type": "code",
   "execution_count": 101,
   "id": "5cbe7861-5ddf-4c60-ba4b-46f834e60eab",
   "metadata": {
    "tags": []
   },
   "outputs": [
    {
     "data": {
      "text/html": [
       "\n",
       "    <div>\n",
       "      \n",
       "      <progress value='60' max='60' style='width:300px; height:20px; vertical-align: middle;'></progress>\n",
       "      [60/60 00:22, Epoch 1/1]\n",
       "    </div>\n",
       "    <table border=\"1\" class=\"dataframe\">\n",
       "  <thead>\n",
       " <tr style=\"text-align: left;\">\n",
       "      <th>Epoch</th>\n",
       "      <th>Training Loss</th>\n",
       "      <th>Validation Loss</th>\n",
       "    </tr>\n",
       "  </thead>\n",
       "  <tbody>\n",
       "    <tr>\n",
       "      <td>1</td>\n",
       "      <td>0.685800</td>\n",
       "      <td>0.691978</td>\n",
       "    </tr>\n",
       "  </tbody>\n",
       "</table><p>"
      ],
      "text/plain": [
       "<IPython.core.display.HTML object>"
      ]
     },
     "metadata": {},
     "output_type": "display_data"
    },
    {
     "data": {
      "text/plain": [
       "TrainOutput(global_step=60, training_loss=0.6857836405436198, metrics={'train_runtime': 23.214, 'train_samples_per_second': 164.986, 'train_steps_per_second': 2.585, 'total_flos': 0.0, 'train_loss': 0.6857836405436198, 'epoch': 1.0})"
      ]
     },
     "execution_count": 101,
     "metadata": {},
     "output_type": "execute_result"
    }
   ],
   "source": [
    "model_path = config[\"gpn_msa\"][\"model_path\"]\n",
    "window_size = config[\"gpn_msa\"][\"window_size\"]\n",
    "model = VEP(model_path)\n",
    "tokenizer = Tokenizer()\n",
    "reverse_complementer = ReverseComplementer()\n",
    "\n",
    "training_args = TrainingArguments(\n",
    "    output_dir=tempfile.TemporaryDirectory().name,\n",
    "    per_device_train_batch_size=32,\n",
    "    per_device_eval_batch_size=32,\n",
    "    dataloader_num_workers=8,\n",
    "    remove_unused_columns=False,\n",
    "    torch_compile=True,\n",
    "    fp16=True,\n",
    "    prediction_loss_only=False,#True,\n",
    "    weight_decay=0.01,\n",
    "    optim=\"adamw_torch\",\n",
    "    save_strategy=\"epoch\",\n",
    "    evaluation_strategy=\"epoch\",\n",
    "    logging_strategy=\"epoch\",\n",
    "    warmup_ratio=0.1,\n",
    "    num_train_epochs=1,\n",
    "    learning_rate=1e-4,\n",
    "    lr_scheduler_type=\"cosine\",\n",
    "    load_best_model_at_end=True,\n",
    "    save_total_limit=1,\n",
    ")\n",
    "trainer = Trainer(\n",
    "    model=model,\n",
    "    args=training_args,\n",
    "    train_dataset=datasets[\"train\"],\n",
    "    eval_dataset=datasets[\"validation\"],\n",
    ")\n",
    "#res = inference.postprocess(pred)\n",
    "trainer.train()"
   ]
  },
  {
   "cell_type": "code",
   "execution_count": 102,
   "id": "289a2a8d-ccd3-4e93-a3f0-b6859d442926",
   "metadata": {
    "tags": []
   },
   "outputs": [
    {
     "data": {
      "text/html": [],
      "text/plain": [
       "<IPython.core.display.HTML object>"
      ]
     },
     "metadata": {},
     "output_type": "display_data"
    },
    {
     "data": {
      "text/plain": [
       "(346,)"
      ]
     },
     "execution_count": 102,
     "metadata": {},
     "output_type": "execute_result"
    }
   ],
   "source": [
    "pred = trainer.predict(test_dataset=datasets[\"test\"]).predictions\n",
    "pred.shape"
   ]
  },
  {
   "cell_type": "code",
   "execution_count": 103,
   "id": "787b0130-d9f8-47f7-b1f5-fa934e1e9bd2",
   "metadata": {
    "tags": []
   },
   "outputs": [
    {
     "data": {
      "text/plain": [
       "0.6702529319389221"
      ]
     },
     "execution_count": 103,
     "metadata": {},
     "output_type": "execute_result"
    }
   ],
   "source": [
    "roc_auc_score(V[V.chrom.isin(split_chroms[\"test\"])].label, pred)"
   ]
  },
  {
   "cell_type": "code",
   "execution_count": null,
   "id": "9b4a4a10-2ef0-4b9b-bb07-1a489b89d83d",
   "metadata": {},
   "outputs": [],
   "source": []
  }
 ],
 "metadata": {
  "kernelspec": {
   "display_name": "gpn",
   "language": "python",
   "name": "gpn"
  },
  "language_info": {
   "codemirror_mode": {
    "name": "ipython",
    "version": 3
   },
   "file_extension": ".py",
   "mimetype": "text/x-python",
   "name": "python",
   "nbconvert_exporter": "python",
   "pygments_lexer": "ipython3",
   "version": "3.11.3"
  }
 },
 "nbformat": 4,
 "nbformat_minor": 5
}
