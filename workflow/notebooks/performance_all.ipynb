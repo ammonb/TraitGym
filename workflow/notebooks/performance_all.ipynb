{
 "cells": [
  {
   "cell_type": "code",
   "execution_count": 10,
   "metadata": {},
   "outputs": [],
   "source": [
    "import matplotlib.pyplot as plt\n",
    "import numpy as np\n",
    "import pandas as pd\n",
    "import polars as pl\n",
    "import seaborn as sns"
   ]
  },
  {
   "cell_type": "code",
   "execution_count": 24,
   "metadata": {},
   "outputs": [],
   "source": [
    "def format_number(num):\n",
    "    \"\"\"\n",
    "    Converts a number into a more readable format, using K for thousands, M for millions, etc.\n",
    "    Args:\n",
    "    - num: The number to format.\n",
    "    \n",
    "    Returns:\n",
    "    - A formatted string representing the number.\n",
    "    \"\"\"\n",
    "    if num >= 1e9:\n",
    "        return f'{num/1e9:.1f}B'\n",
    "    elif num >= 1e6:\n",
    "        return f'{num/1e6:.1f}M'\n",
    "    elif num >= 1e3:\n",
    "        return f'{num/1e3:.1f}K'\n",
    "    else:\n",
    "        return str(num)"
   ]
  },
  {
   "cell_type": "code",
   "execution_count": 2,
   "metadata": {},
   "outputs": [
    {
     "data": {
      "text/html": [
       "<div>\n",
       "<style scoped>\n",
       "    .dataframe tbody tr th:only-of-type {\n",
       "        vertical-align: middle;\n",
       "    }\n",
       "\n",
       "    .dataframe tbody tr th {\n",
       "        vertical-align: top;\n",
       "    }\n",
       "\n",
       "    .dataframe thead th {\n",
       "        text-align: right;\n",
       "    }\n",
       "</style>\n",
       "<table border=\"1\" class=\"dataframe\">\n",
       "  <thead>\n",
       "    <tr style=\"text-align: right;\">\n",
       "      <th></th>\n",
       "      <th>name</th>\n",
       "      <th>description</th>\n",
       "      <th>color</th>\n",
       "    </tr>\n",
       "  </thead>\n",
       "  <tbody>\n",
       "    <tr>\n",
       "      <th>0</th>\n",
       "      <td>CADD</td>\n",
       "      <td>CADD</td>\n",
       "      <td>C0</td>\n",
       "    </tr>\n",
       "    <tr>\n",
       "      <th>1</th>\n",
       "      <td>GPN-MSA</td>\n",
       "      <td>GPN-MSA</td>\n",
       "      <td>C1</td>\n",
       "    </tr>\n",
       "    <tr>\n",
       "      <th>2</th>\n",
       "      <td>Borzoi</td>\n",
       "      <td>Borzoi</td>\n",
       "      <td>C2</td>\n",
       "    </tr>\n",
       "    <tr>\n",
       "      <th>3</th>\n",
       "      <td>Enformer</td>\n",
       "      <td>Enformer</td>\n",
       "      <td>C3</td>\n",
       "    </tr>\n",
       "    <tr>\n",
       "      <th>4</th>\n",
       "      <td>GPN</td>\n",
       "      <td>gLM-Promoter</td>\n",
       "      <td>C4</td>\n",
       "    </tr>\n",
       "    <tr>\n",
       "      <th>5</th>\n",
       "      <td>NucleotideTransformer</td>\n",
       "      <td>NT</td>\n",
       "      <td>C5</td>\n",
       "    </tr>\n",
       "    <tr>\n",
       "      <th>6</th>\n",
       "      <td>HyenaDNA</td>\n",
       "      <td>HyenaDNA</td>\n",
       "      <td>C6</td>\n",
       "    </tr>\n",
       "    <tr>\n",
       "      <th>7</th>\n",
       "      <td>Caduceus</td>\n",
       "      <td>Caduceus</td>\n",
       "      <td>C7</td>\n",
       "    </tr>\n",
       "    <tr>\n",
       "      <th>8</th>\n",
       "      <td>CADD+GPN-MSA+Borzoi</td>\n",
       "      <td>Ensemble</td>\n",
       "      <td>C8</td>\n",
       "    </tr>\n",
       "  </tbody>\n",
       "</table>\n",
       "</div>"
      ],
      "text/plain": [
       "                    name   description color\n",
       "0                   CADD          CADD    C0\n",
       "1                GPN-MSA       GPN-MSA    C1\n",
       "2                 Borzoi        Borzoi    C2\n",
       "3               Enformer      Enformer    C3\n",
       "4                    GPN  gLM-Promoter    C4\n",
       "5  NucleotideTransformer            NT    C5\n",
       "6               HyenaDNA      HyenaDNA    C6\n",
       "7               Caduceus      Caduceus    C7\n",
       "8    CADD+GPN-MSA+Borzoi      Ensemble    C8"
      ]
     },
     "execution_count": 2,
     "metadata": {},
     "output_type": "execute_result"
    }
   ],
   "source": [
    "model_metadata = pd.read_csv(\"../../config/models.csv\")\n",
    "palette = model_metadata.set_index(\"description\")[\"color\"].to_dict()\n",
    "model_renaming = model_metadata.set_index(\"name\")[\"description\"].to_dict()\n",
    "model_metadata"
   ]
  },
  {
   "cell_type": "code",
   "execution_count": 17,
   "metadata": {},
   "outputs": [],
   "source": [
    "dataset_renaming = {\n",
    "    \"mendelian_traits_all\": \"Mendelian traits\",\n",
    "    \"old/complex_traits_all\": \"Complex traits\",\n",
    "}\n",
    "\n",
    "subset_renaming = {\n",
    "    \"all\": \"All\",\n",
    "}"
   ]
  },
  {
   "cell_type": "code",
   "execution_count": 18,
   "metadata": {},
   "outputs": [],
   "source": [
    "datasets = [\n",
    "    \"mendelian_traits_all\",\n",
    "    \"old/complex_traits_all\",\n",
    "]\n",
    "\n",
    "subsets = [\n",
    "    \"all\",\n",
    "]\n",
    "\n",
    "models = [\n",
    "    \"GPN-MSA\",\n",
    "    \"CADD\",\n",
    "]\n",
    "\n",
    "def load_score(model, dataset, subset):\n",
    "    base_dir = f\"../../results/dataset/{dataset}/unsupervised_metrics/{subset}\"\n",
    "    if model != \"CADD\":\n",
    "        if \"mendelian\" in dataset:\n",
    "            llr_version = \"LLR\"\n",
    "        elif \"complex\" in dataset:\n",
    "            llr_version = \"absLLR\"\n",
    "        path = f\"{base_dir}/{model}_{llr_version}.csv\"\n",
    "    else:\n",
    "        path = f\"{base_dir}/{model}.csv\"\n",
    "    df = pd.read_csv(path)\n",
    "    if model == \"CADD\":\n",
    "        return df[df.feature==\"RawScore\"].AUPRC.values[0]\n",
    "    else:\n",
    "        return df.AUPRC.values[0]"
   ]
  },
  {
   "cell_type": "code",
   "execution_count": 19,
   "metadata": {},
   "outputs": [
    {
     "data": {
      "text/plain": [
       "{'Mendelian traits': (339, 4945336), 'Complex traits': (847, 5423088)}"
      ]
     },
     "execution_count": 19,
     "metadata": {},
     "output_type": "execute_result"
    }
   ],
   "source": [
    "sample_size = {}\n",
    "for dataset in datasets:\n",
    "    V = pl.read_parquet(f\"../../results/dataset/{dataset}/test.parquet\")\n",
    "    n = len(V)\n",
    "    n_pos = V[\"label\"].sum()\n",
    "    sample_size[dataset_renaming.get(dataset, dataset)] = (n_pos, n-n_pos)\n",
    "sample_size"
   ]
  },
  {
   "cell_type": "code",
   "execution_count": 20,
   "metadata": {},
   "outputs": [
    {
     "data": {
      "text/html": [
       "<div>\n",
       "<style scoped>\n",
       "    .dataframe tbody tr th:only-of-type {\n",
       "        vertical-align: middle;\n",
       "    }\n",
       "\n",
       "    .dataframe tbody tr th {\n",
       "        vertical-align: top;\n",
       "    }\n",
       "\n",
       "    .dataframe thead th {\n",
       "        text-align: right;\n",
       "    }\n",
       "</style>\n",
       "<table border=\"1\" class=\"dataframe\">\n",
       "  <thead>\n",
       "    <tr style=\"text-align: right;\">\n",
       "      <th></th>\n",
       "      <th>dataset</th>\n",
       "      <th>subset</th>\n",
       "      <th>model</th>\n",
       "      <th>AUPRC</th>\n",
       "    </tr>\n",
       "  </thead>\n",
       "  <tbody>\n",
       "    <tr>\n",
       "      <th>0</th>\n",
       "      <td>Mendelian traits</td>\n",
       "      <td>All</td>\n",
       "      <td>GPN-MSA</td>\n",
       "      <td>0.080031</td>\n",
       "    </tr>\n",
       "    <tr>\n",
       "      <th>1</th>\n",
       "      <td>Mendelian traits</td>\n",
       "      <td>All</td>\n",
       "      <td>CADD</td>\n",
       "      <td>0.011185</td>\n",
       "    </tr>\n",
       "    <tr>\n",
       "      <th>2</th>\n",
       "      <td>Complex traits</td>\n",
       "      <td>All</td>\n",
       "      <td>GPN-MSA</td>\n",
       "      <td>0.000846</td>\n",
       "    </tr>\n",
       "    <tr>\n",
       "      <th>3</th>\n",
       "      <td>Complex traits</td>\n",
       "      <td>All</td>\n",
       "      <td>CADD</td>\n",
       "      <td>0.001035</td>\n",
       "    </tr>\n",
       "  </tbody>\n",
       "</table>\n",
       "</div>"
      ],
      "text/plain": [
       "            dataset subset    model     AUPRC\n",
       "0  Mendelian traits    All  GPN-MSA  0.080031\n",
       "1  Mendelian traits    All     CADD  0.011185\n",
       "2    Complex traits    All  GPN-MSA  0.000846\n",
       "3    Complex traits    All     CADD  0.001035"
      ]
     },
     "execution_count": 20,
     "metadata": {},
     "output_type": "execute_result"
    }
   ],
   "source": [
    "rows = []\n",
    "for dataset in datasets:\n",
    "    for subset in subsets:\n",
    "        for model in models:\n",
    "            score = load_score(model, dataset, subset)\n",
    "            rows.append([\n",
    "                dataset_renaming.get(dataset, dataset),\n",
    "                subset_renaming.get(subset, subset),\n",
    "                model_renaming.get(model, model),\n",
    "                score,\n",
    "            ])\n",
    "df = pd.DataFrame(rows, columns=[\"dataset\", \"subset\", \"model\", \"AUPRC\"])\n",
    "df"
   ]
  },
  {
   "cell_type": "code",
   "execution_count": 31,
   "metadata": {},
   "outputs": [
    {
     "name": "stderr",
     "output_type": "stream",
     "text": [
      "/scratch/users/gbenegas/software/mambaforge/envs/gpn/lib/python3.11/site-packages/seaborn/_oldcore.py:1498: FutureWarning: is_categorical_dtype is deprecated and will be removed in a future version. Use isinstance(dtype, CategoricalDtype) instead\n",
      "  if pd.api.types.is_categorical_dtype(vector):\n",
      "/scratch/users/gbenegas/software/mambaforge/envs/gpn/lib/python3.11/site-packages/seaborn/_oldcore.py:1498: FutureWarning: is_categorical_dtype is deprecated and will be removed in a future version. Use isinstance(dtype, CategoricalDtype) instead\n",
      "  if pd.api.types.is_categorical_dtype(vector):\n",
      "/scratch/users/gbenegas/software/mambaforge/envs/gpn/lib/python3.11/site-packages/seaborn/_oldcore.py:1498: FutureWarning: is_categorical_dtype is deprecated and will be removed in a future version. Use isinstance(dtype, CategoricalDtype) instead\n",
      "  if pd.api.types.is_categorical_dtype(vector):\n",
      "/scratch/users/gbenegas/software/mambaforge/envs/gpn/lib/python3.11/site-packages/seaborn/_oldcore.py:1498: FutureWarning: is_categorical_dtype is deprecated and will be removed in a future version. Use isinstance(dtype, CategoricalDtype) instead\n",
      "  if pd.api.types.is_categorical_dtype(vector):\n",
      "/scratch/users/gbenegas/software/mambaforge/envs/gpn/lib/python3.11/site-packages/seaborn/_oldcore.py:1498: FutureWarning: is_categorical_dtype is deprecated and will be removed in a future version. Use isinstance(dtype, CategoricalDtype) instead\n",
      "  if pd.api.types.is_categorical_dtype(vector):\n",
      "/scratch/users/gbenegas/software/mambaforge/envs/gpn/lib/python3.11/site-packages/seaborn/_oldcore.py:1498: FutureWarning: is_categorical_dtype is deprecated and will be removed in a future version. Use isinstance(dtype, CategoricalDtype) instead\n",
      "  if pd.api.types.is_categorical_dtype(vector):\n",
      "/scratch/users/gbenegas/software/mambaforge/envs/gpn/lib/python3.11/site-packages/seaborn/_oldcore.py:1498: FutureWarning: is_categorical_dtype is deprecated and will be removed in a future version. Use isinstance(dtype, CategoricalDtype) instead\n",
      "  if pd.api.types.is_categorical_dtype(vector):\n"
     ]
    },
    {
     "name": "stdout",
     "output_type": "stream",
     "text": [
      "Mendelian traits 6.85E-05\n",
      "Complex traits 1.56E-04\n"
     ]
    },
    {
     "data": {
      "text/plain": [
       "<seaborn.axisgrid.FacetGrid at 0x7f224ca5de10>"
      ]
     },
     "execution_count": 31,
     "metadata": {},
     "output_type": "execute_result"
    },
    {
     "data": {
      "image/png": "[encoded data removed]",
      "text/plain": [
       "<Figure size 518.4x144 with 2 Axes>"
      ]
     },
     "metadata": {
      "needs_background": "light"
     },
     "output_type": "display_data"
    }
   ],
   "source": [
    "g = sns.FacetGrid(\n",
    "    data=df,\n",
    "    col=\"dataset\",\n",
    "    sharex=False,\n",
    "    sharey=False,\n",
    "    height=2,\n",
    "    aspect=1.8,\n",
    ")\n",
    "\n",
    "def my_boxplot(data, **kwargs):\n",
    "    dataset = data.dataset.iloc[0]\n",
    "    n_pos, n_neg = sample_size[dataset]\n",
    "    data = data.sort_values(\"AUPRC\", ascending=False)\n",
    "    ax = plt.gca()\n",
    "    g = sns.barplot(\n",
    "        data=data,\n",
    "        y=\"model\",\n",
    "        x=\"AUPRC\",\n",
    "        ax=ax,\n",
    "        palette=palette,\n",
    "    )\n",
    "    baseline = n_pos / (n_pos + n_neg)\n",
    "    ss = f\"n={format_number(n_pos)} vs. {format_number(n_neg)}\"\n",
    "    print(dataset, f\"{baseline:.2E}\")\n",
    "    g.set(\n",
    "        xlim=baseline,\n",
    "        title=f\"{dataset}\\n{ss}\"\n",
    "    )\n",
    "\n",
    "g.map_dataframe(my_boxplot)\n",
    "#g.figure.subplots_adjust(hspace=0)\n",
    "\n",
    "g.set(\n",
    "    ylabel=\"\",\n",
    ")\n",
    "#g.set_titles(\n",
    "#    col_template=\"{col_name}\", row_template=\"{row_name}\",\n",
    "#    fontweight=\"bold\",\n",
    "#    #size=12,\n",
    "#)\n",
    "g.tight_layout()\n",
    "#plt.savefig(\"../../results/plots/performance_all.pdf\", bbox_inches=\"tight\")"
   ]
  },
  {
   "cell_type": "code",
   "execution_count": null,
   "metadata": {},
   "outputs": [],
   "source": []
  }
 ],
 "metadata": {
  "kernelspec": {
   "display_name": "gpn",
   "language": "python",
   "name": "gpn"
  },
  "language_info": {
   "codemirror_mode": {
    "name": "ipython",
    "version": 3
   },
   "file_extension": ".py",
   "mimetype": "text/x-python",
   "name": "python",
   "nbconvert_exporter": "python",
   "pygments_lexer": "ipython3",
   "version": "3.11.3"
  }
 },
 "nbformat": 4,
 "nbformat_minor": 2
}
