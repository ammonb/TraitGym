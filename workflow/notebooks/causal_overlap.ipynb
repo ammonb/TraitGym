{
 "cells": [
  {
   "cell_type": "code",
   "execution_count": 3,
   "metadata": {},
   "outputs": [],
   "source": [
    "from matplotlib_venn import venn2, venn3\n",
    "import matplotlib.pyplot as plt\n",
    "import polars as pl"
   ]
  },
  {
   "cell_type": "code",
   "execution_count": 5,
   "metadata": {},
   "outputs": [],
   "source": [
    "datasets = [\n",
    "    \"gwas_matched_9\",\n",
    "    \"eqtl_matched_1\",\n",
    "]\n",
    "\n",
    "dataset_names = [\n",
    "    \"GWAS\",\n",
    "    \"eQTL\",\n",
    "]\n",
    "\n",
    "def load_variants(dataset):\n",
    "    V = pl.read_parquet(f\"../../results/dataset/{dataset}/test.parquet\").filter(label=True)\n",
    "    return set(V[\"chrom\"]+\"_\"+V[\"pos\"].cast(str)+\"_\"+V[\"ref\"]+\"_\"+V[\"alt\"])\n",
    "\n",
    "variants = [load_variants(dataset) for dataset in datasets]"
   ]
  },
  {
   "cell_type": "code",
   "execution_count": 8,
   "metadata": {},
   "outputs": [
    {
     "data": {
      "text/plain": [
       "<matplotlib_venn._common.VennDiagram at 0x7feafb1629d0>"
      ]
     },
     "execution_count": 8,
     "metadata": {},
     "output_type": "execute_result"
    },
    {
     "data": {
      "image/png": "[encoded data removed]",
      "text/plain": [
       "<Figure size 288x288 with 1 Axes>"
      ]
     },
     "metadata": {},
     "output_type": "display_data"
    }
   ],
   "source": [
    "plt.figure(figsize=(4, 4))\n",
    "venn = venn2(variants, dataset_names)\n",
    "venn"
   ]
  },
  {
   "cell_type": "code",
   "execution_count": null,
   "metadata": {},
   "outputs": [],
   "source": []
  }
 ],
 "metadata": {
  "kernelspec": {
   "display_name": "gpn",
   "language": "python",
   "name": "gpn"
  },
  "language_info": {
   "codemirror_mode": {
    "name": "ipython",
    "version": 3
   },
   "file_extension": ".py",
   "mimetype": "text/x-python",
   "name": "python",
   "nbconvert_exporter": "python",
   "pygments_lexer": "ipython3",
   "version": "3.11.3"
  }
 },
 "nbformat": 4,
 "nbformat_minor": 2
}
