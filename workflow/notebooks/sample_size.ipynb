{
 "cells": [
  {
   "cell_type": "code",
   "execution_count": 4,
   "metadata": {},
   "outputs": [],
   "source": [
    "import numpy as np\n",
    "import polars as pl"
   ]
  },
  {
   "cell_type": "code",
   "execution_count": 38,
   "metadata": {},
   "outputs": [],
   "source": [
    "COORDINATES = [\"chrom\", \"pos\", \"ref\", \"alt\"]"
   ]
  },
  {
   "cell_type": "code",
   "execution_count": 32,
   "metadata": {},
   "outputs": [
    {
     "data": {
      "text/html": [
       "<div><style>\n",
       ".dataframe > thead > tr,\n",
       ".dataframe > tbody > tr {\n",
       "  text-align: right;\n",
       "  white-space: pre-wrap;\n",
       "}\n",
       "</style>\n",
       "<small>shape: (1_200, 12)</small><table border=\"1\" class=\"dataframe\"><thead><tr><th>chrom</th><th>pos</th><th>ref</th><th>alt</th><th>pip</th><th>trait</th><th>label</th><th>maf</th><th>ld_score</th><th>consequence</th><th>tss_dist</th><th>match_group</th></tr><tr><td>str</td><td>i64</td><td>str</td><td>str</td><td>f64</td><td>list[str]</td><td>bool</td><td>f64</td><td>f64</td><td>str</td><td>i64</td><td>str</td></tr></thead><tbody><tr><td>&quot;1&quot;</td><td>2293397</td><td>&quot;G&quot;</td><td>&quot;A&quot;</td><td>0.999932</td><td>[&quot;Height&quot;]</td><td>true</td><td>0.37057</td><td>32.302</td><td>&quot;dELS&quot;</td><td>65077</td><td>&quot;dELS_0&quot;</td></tr><tr><td>&quot;1&quot;</td><td>3080038</td><td>&quot;T&quot;</td><td>&quot;C&quot;</td><td>0.999895</td><td>[&quot;MCH&quot;, &quot;MCV&quot;, … &quot;RBC&quot;]</td><td>true</td><td>0.23272</td><td>31.606</td><td>&quot;dELS&quot;</td><td>10826</td><td>&quot;dELS_1&quot;</td></tr><tr><td>&quot;1&quot;</td><td>3774964</td><td>&quot;A&quot;</td><td>&quot;G&quot;</td><td>0.999973</td><td>[&quot;Hb&quot;, &quot;HbA1c&quot;, … &quot;RBC&quot;]</td><td>true</td><td>0.23057</td><td>95.317</td><td>&quot;dELS&quot;</td><td>2138</td><td>&quot;dELS_2&quot;</td></tr><tr><td>&quot;1&quot;</td><td>9181780</td><td>&quot;G&quot;</td><td>&quot;A&quot;</td><td>1.0</td><td>[&quot;AST&quot;, &quot;Mono&quot;]</td><td>true</td><td>0.074322</td><td>35.472</td><td>&quot;non_coding_transcript_exon_var…</td><td>52677</td><td>&quot;non_coding_transcript_exon_var…</td></tr><tr><td>&quot;1&quot;</td><td>9295877</td><td>&quot;G&quot;</td><td>&quot;T&quot;</td><td>0.993319</td><td>[&quot;DVT&quot;]</td><td>true</td><td>0.26506</td><td>46.307</td><td>&quot;dELS&quot;</td><td>1348</td><td>&quot;dELS_3&quot;</td></tr><tr><td>&hellip;</td><td>&hellip;</td><td>&hellip;</td><td>&hellip;</td><td>&hellip;</td><td>&hellip;</td><td>&hellip;</td><td>&hellip;</td><td>&hellip;</td><td>&hellip;</td><td>&hellip;</td><td>&hellip;</td></tr><tr><td>&quot;22&quot;</td><td>45969257</td><td>&quot;G&quot;</td><td>&quot;A&quot;</td><td>0.999905</td><td>[&quot;eBMD&quot;]</td><td>true</td><td>0.0026413</td><td>9.5349</td><td>&quot;dELS&quot;</td><td>3457</td><td>&quot;dELS_207&quot;</td></tr><tr><td>&quot;22&quot;</td><td>45979731</td><td>&quot;C&quot;</td><td>&quot;T&quot;</td><td>0.98026</td><td>[&quot;eBMD&quot;]</td><td>true</td><td>0.16714</td><td>37.776</td><td>&quot;dELS&quot;</td><td>2568</td><td>&quot;dELS_208&quot;</td></tr><tr><td>&quot;22&quot;</td><td>46219479</td><td>&quot;G&quot;</td><td>&quot;A&quot;</td><td>0.945802</td><td>[&quot;BW&quot;]</td><td>true</td><td>0.12871</td><td>164.85</td><td>&quot;dELS_flank&quot;</td><td>28805</td><td>&quot;dELS_flank_108&quot;</td></tr><tr><td>&quot;22&quot;</td><td>47990921</td><td>&quot;C&quot;</td><td>&quot;T&quot;</td><td>0.997536</td><td>[&quot;BMI&quot;]</td><td>true</td><td>0.43761</td><td>53.514</td><td>&quot;intron_variant&quot;</td><td>498631</td><td>&quot;intron_variant_124&quot;</td></tr><tr><td>&quot;22&quot;</td><td>50190508</td><td>&quot;G&quot;</td><td>&quot;A&quot;</td><td>1.0</td><td>[&quot;Plt&quot;]</td><td>true</td><td>0.072852</td><td>57.97</td><td>&quot;PLS&quot;</td><td>89</td><td>&quot;PLS_21&quot;</td></tr></tbody></table></div>"
      ],
      "text/plain": [
       "shape: (1_200, 12)\n",
       "┌───────┬──────────┬─────┬─────┬───┬──────────┬────────────────────┬──────────┬────────────────────┐\n",
       "│ chrom ┆ pos      ┆ ref ┆ alt ┆ … ┆ ld_score ┆ consequence        ┆ tss_dist ┆ match_group        │\n",
       "│ ---   ┆ ---      ┆ --- ┆ --- ┆   ┆ ---      ┆ ---                ┆ ---      ┆ ---                │\n",
       "│ str   ┆ i64      ┆ str ┆ str ┆   ┆ f64      ┆ str                ┆ i64      ┆ str                │\n",
       "╞═══════╪══════════╪═════╪═════╪═══╪══════════╪════════════════════╪══════════╪════════════════════╡\n",
       "│ 1     ┆ 2293397  ┆ G   ┆ A   ┆ … ┆ 32.302   ┆ dELS               ┆ 65077    ┆ dELS_0             │\n",
       "│ 1     ┆ 3080038  ┆ T   ┆ C   ┆ … ┆ 31.606   ┆ dELS               ┆ 10826    ┆ dELS_1             │\n",
       "│ 1     ┆ 3774964  ┆ A   ┆ G   ┆ … ┆ 95.317   ┆ dELS               ┆ 2138     ┆ dELS_2             │\n",
       "│ 1     ┆ 9181780  ┆ G   ┆ A   ┆ … ┆ 35.472   ┆ non_coding_transcr ┆ 52677    ┆ non_coding_transcr │\n",
       "│       ┆          ┆     ┆     ┆   ┆          ┆ ipt_exon_var…      ┆          ┆ ipt_exon_var…      │\n",
       "│ 1     ┆ 9295877  ┆ G   ┆ T   ┆ … ┆ 46.307   ┆ dELS               ┆ 1348     ┆ dELS_3             │\n",
       "│ …     ┆ …        ┆ …   ┆ …   ┆ … ┆ …        ┆ …                  ┆ …        ┆ …                  │\n",
       "│ 22    ┆ 45969257 ┆ G   ┆ A   ┆ … ┆ 9.5349   ┆ dELS               ┆ 3457     ┆ dELS_207           │\n",
       "│ 22    ┆ 45979731 ┆ C   ┆ T   ┆ … ┆ 37.776   ┆ dELS               ┆ 2568     ┆ dELS_208           │\n",
       "│ 22    ┆ 46219479 ┆ G   ┆ A   ┆ … ┆ 164.85   ┆ dELS_flank         ┆ 28805    ┆ dELS_flank_108     │\n",
       "│ 22    ┆ 47990921 ┆ C   ┆ T   ┆ … ┆ 53.514   ┆ intron_variant     ┆ 498631   ┆ intron_variant_124 │\n",
       "│ 22    ┆ 50190508 ┆ G   ┆ A   ┆ … ┆ 57.97    ┆ PLS                ┆ 89       ┆ PLS_21             │\n",
       "└───────┴──────────┴─────┴─────┴───┴──────────┴────────────────────┴──────────┴────────────────────┘"
      ]
     },
     "execution_count": 32,
     "metadata": {},
     "output_type": "execute_result"
    }
   ],
   "source": [
    "dataset = \"gwas_matched_9\"\n",
    "V = (\n",
    "    pl.read_parquet(f\"../../results/dataset/{dataset}/test.parquet\")\n",
    "    .filter(pl.col(\"label\"))\n",
    "    .filter(pl.col(\"consequence\") != \"missense_variant\")\n",
    "    .with_columns(\n",
    "        pl.col(\"trait\").str.split(\",\"),\n",
    "        id=V[\"chrom\"] + \"_\" + V[\"pos\"].cast(str) + \"_\" + V[\"ref\"] + \"_\" + V[\"alt\"]\n",
    "    )\n",
    ")\n",
    "V"
   ]
  },
  {
   "cell_type": "code",
   "execution_count": null,
   "metadata": {},
   "outputs": [],
   "source": [
    "def n_common_hits(x, y):\n",
    "    return len(\n",
    "        set(V.filter(pl.col(\"trait\").list.contains(x))[\"id\"])\n",
    "        &\n",
    "        set(V.filter(pl.col(\"trait\").list.contains(y))[\"id\"])\n",
    "    )"
   ]
  },
  {
   "cell_type": "code",
   "execution_count": 33,
   "metadata": {},
   "outputs": [
    {
     "data": {
      "text/plain": [
       "array(['AFib', 'AG', 'AID_Combined', 'ALP', 'ALT', 'AST',\n",
       "       'Age_at_Menarche', 'Age_at_Menopause', 'Alb', 'Alzheimer_LTFH',\n",
       "       'ApoA', 'ApoB', 'Asthma', 'BFP', 'BMI', 'BW', 'Balding_Type4',\n",
       "       'Baso', 'BrC', 'CAD', 'CRC', 'CRP', 'Ca', 'Cholelithiasis', 'DBP',\n",
       "       'DVT', 'Eosino', 'FEV1FVC', 'Fibroblastic_Disorders', 'GGT',\n",
       "       'Glaucoma_Combined', 'Glucose', 'HDLC', 'Hb', 'HbA1c', 'Height',\n",
       "       'Ht', 'Hypothyroidism', 'IBD', 'IGF1', 'Insomnia', 'Irritability',\n",
       "       'LDLC', 'LOY', 'LipoA', 'Lym', 'MAP', 'MCH', 'MCHC', 'MCP', 'MCV',\n",
       "       'Migraine_Self', 'Miserableness', 'Mono', 'Mood_Swings',\n",
       "       'Morning_Person', 'Neutro', 'PP', 'Plt', 'PrC', 'RBC',\n",
       "       'Risk_Taking', 'SBP', 'SHBG', 'Sensitivity', 'Smoking_Ever_Never',\n",
       "       'Suffer_from_Nerves', 'T2D', 'T2D_BMI', 'TBil', 'TC', 'TG', 'TP',\n",
       "       'Testosterone', 'UA', 'Urea', 'VitD', 'WBC', 'WHRadjBMI',\n",
       "       'Worrier', 'eBMD', 'eGFR', 'eGFRcys'], dtype='<U22')"
      ]
     },
     "execution_count": 33,
     "metadata": {},
     "output_type": "execute_result"
    }
   ],
   "source": [
    "traits = np.unique(np.concatenate(V[\"trait\"]))\n",
    "traits"
   ]
  },
  {
   "cell_type": "code",
   "execution_count": 34,
   "metadata": {},
   "outputs": [
    {
     "data": {
      "text/html": [
       "<div><style>\n",
       ".dataframe > thead > tr,\n",
       ".dataframe > tbody > tr {\n",
       "  text-align: right;\n",
       "  white-space: pre-wrap;\n",
       "}\n",
       "</style>\n",
       "<small>shape: (83, 3)</small><table border=\"1\" class=\"dataframe\"><thead><tr><th>trait</th><th>n_hits</th><th>n_chroms</th></tr><tr><td>str</td><td>i64</td><td>i64</td></tr></thead><tbody><tr><td>&quot;AFib&quot;</td><td>5</td><td>4</td></tr><tr><td>&quot;AG&quot;</td><td>40</td><td>15</td></tr><tr><td>&quot;AID_Combined&quot;</td><td>2</td><td>2</td></tr><tr><td>&quot;ALP&quot;</td><td>41</td><td>17</td></tr><tr><td>&quot;ALT&quot;</td><td>23</td><td>16</td></tr><tr><td>&hellip;</td><td>&hellip;</td><td>&hellip;</td></tr><tr><td>&quot;WHRadjBMI&quot;</td><td>24</td><td>12</td></tr><tr><td>&quot;Worrier&quot;</td><td>1</td><td>1</td></tr><tr><td>&quot;eBMD&quot;</td><td>68</td><td>21</td></tr><tr><td>&quot;eGFR&quot;</td><td>32</td><td>17</td></tr><tr><td>&quot;eGFRcys&quot;</td><td>40</td><td>17</td></tr></tbody></table></div>"
      ],
      "text/plain": [
       "shape: (83, 3)\n",
       "┌──────────────┬────────┬──────────┐\n",
       "│ trait        ┆ n_hits ┆ n_chroms │\n",
       "│ ---          ┆ ---    ┆ ---      │\n",
       "│ str          ┆ i64    ┆ i64      │\n",
       "╞══════════════╪════════╪══════════╡\n",
       "│ AFib         ┆ 5      ┆ 4        │\n",
       "│ AG           ┆ 40     ┆ 15       │\n",
       "│ AID_Combined ┆ 2      ┆ 2        │\n",
       "│ ALP          ┆ 41     ┆ 17       │\n",
       "│ ALT          ┆ 23     ┆ 16       │\n",
       "│ …            ┆ …      ┆ …        │\n",
       "│ WHRadjBMI    ┆ 24     ┆ 12       │\n",
       "│ Worrier      ┆ 1      ┆ 1        │\n",
       "│ eBMD         ┆ 68     ┆ 21       │\n",
       "│ eGFR         ┆ 32     ┆ 17       │\n",
       "│ eGFRcys      ┆ 40     ┆ 17       │\n",
       "└──────────────┴────────┴──────────┘"
      ]
     },
     "execution_count": 34,
     "metadata": {},
     "output_type": "execute_result"
    }
   ],
   "source": [
    "n_hits = [\n",
    "    len(V.filter(pl.col(\"trait\").list.contains(trait)))\n",
    "    for trait in traits\n",
    "]\n",
    "n_chroms = [\n",
    "    len(V.filter(pl.col(\"trait\").list.contains(trait))[\"chrom\"].unique())\n",
    "    for trait in traits\n",
    "]\n",
    "df = pl.DataFrame(\n",
    "    {\n",
    "        \"trait\": traits,\n",
    "        \"n_hits\": n_hits,\n",
    "        \"n_chroms\": n_chroms,\n",
    "    }\n",
    ")\n",
    "df"
   ]
  },
  {
   "cell_type": "code",
   "execution_count": 95,
   "metadata": {},
   "outputs": [
    {
     "data": {
      "text/html": [
       "<div><style>\n",
       ".dataframe > thead > tr,\n",
       ".dataframe > tbody > tr {\n",
       "  text-align: right;\n",
       "  white-space: pre-wrap;\n",
       "}\n",
       "</style>\n",
       "<small>shape: (28, 3)</small><table border=\"1\" class=\"dataframe\"><thead><tr><th>trait</th><th>n_hits</th><th>n_chroms</th></tr><tr><td>str</td><td>i64</td><td>i64</td></tr></thead><tbody><tr><td>&quot;Height&quot;</td><td>81</td><td>18</td></tr><tr><td>&quot;MCV&quot;</td><td>70</td><td>20</td></tr><tr><td>&quot;Plt&quot;</td><td>70</td><td>17</td></tr><tr><td>&quot;MCH&quot;</td><td>68</td><td>21</td></tr><tr><td>&quot;eBMD&quot;</td><td>68</td><td>21</td></tr><tr><td>&hellip;</td><td>&hellip;</td><td>&hellip;</td></tr><tr><td>&quot;CRP&quot;</td><td>33</td><td>16</td></tr><tr><td>&quot;ApoA&quot;</td><td>32</td><td>16</td></tr><tr><td>&quot;eGFR&quot;</td><td>32</td><td>17</td></tr><tr><td>&quot;BW&quot;</td><td>30</td><td>17</td></tr><tr><td>&quot;FEV1FVC&quot;</td><td>30</td><td>18</td></tr></tbody></table></div>"
      ],
      "text/plain": [
       "shape: (28, 3)\n",
       "┌─────────┬────────┬──────────┐\n",
       "│ trait   ┆ n_hits ┆ n_chroms │\n",
       "│ ---     ┆ ---    ┆ ---      │\n",
       "│ str     ┆ i64    ┆ i64      │\n",
       "╞═════════╪════════╪══════════╡\n",
       "│ Height  ┆ 81     ┆ 18       │\n",
       "│ MCV     ┆ 70     ┆ 20       │\n",
       "│ Plt     ┆ 70     ┆ 17       │\n",
       "│ MCH     ┆ 68     ┆ 21       │\n",
       "│ eBMD    ┆ 68     ┆ 21       │\n",
       "│ …       ┆ …      ┆ …        │\n",
       "│ CRP     ┆ 33     ┆ 16       │\n",
       "│ ApoA    ┆ 32     ┆ 16       │\n",
       "│ eGFR    ┆ 32     ┆ 17       │\n",
       "│ BW      ┆ 30     ┆ 17       │\n",
       "│ FEV1FVC ┆ 30     ┆ 18       │\n",
       "└─────────┴────────┴──────────┘"
      ]
     },
     "execution_count": 95,
     "metadata": {},
     "output_type": "execute_result"
    }
   ],
   "source": [
    "df2 = df.filter(pl.col(\"n_hits\") >= 30, pl.col(\"n_chroms\") >= 3).sort(\"n_hits\", descending=True)\n",
    "df2"
   ]
  },
  {
   "cell_type": "code",
   "execution_count": 96,
   "metadata": {},
   "outputs": [],
   "source": [
    "exclude = np.full(len(df2), False)\n",
    "\n",
    "for i, trait1 in enumerate(df2[\"trait\"]):\n",
    "    if exclude[i]: continue\n",
    "    n1 = df2.filter(trait=trait1)[0, \"n_hits\"]\n",
    "    for j, trait2 in enumerate(df2[\"trait\"]):\n",
    "        if i < j:\n",
    "            if exclude[j]: continue\n",
    "            n = n_common_hits(trait1, trait2)\n",
    "            if n > n1 * 0.1:\n",
    "                exclude[j] = True\n",
    "                "
   ]
  },
  {
   "cell_type": "code",
   "execution_count": 97,
   "metadata": {},
   "outputs": [
    {
     "data": {
      "text/html": [
       "<div><style>\n",
       ".dataframe > thead > tr,\n",
       ".dataframe > tbody > tr {\n",
       "  text-align: right;\n",
       "  white-space: pre-wrap;\n",
       "}\n",
       "</style>\n",
       "<small>shape: (18, 3)</small><table border=\"1\" class=\"dataframe\"><thead><tr><th>trait</th><th>n_hits</th><th>n_chroms</th></tr><tr><td>str</td><td>i64</td><td>i64</td></tr></thead><tbody><tr><td>&quot;Height&quot;</td><td>81</td><td>18</td></tr><tr><td>&quot;MCV&quot;</td><td>70</td><td>20</td></tr><tr><td>&quot;Plt&quot;</td><td>70</td><td>17</td></tr><tr><td>&quot;eBMD&quot;</td><td>68</td><td>21</td></tr><tr><td>&quot;Mono&quot;</td><td>66</td><td>19</td></tr><tr><td>&hellip;</td><td>&hellip;</td><td>&hellip;</td></tr><tr><td>&quot;Hb&quot;</td><td>36</td><td>16</td></tr><tr><td>&quot;Neutro&quot;</td><td>35</td><td>15</td></tr><tr><td>&quot;CRP&quot;</td><td>33</td><td>16</td></tr><tr><td>&quot;BW&quot;</td><td>30</td><td>17</td></tr><tr><td>&quot;FEV1FVC&quot;</td><td>30</td><td>18</td></tr></tbody></table></div>"
      ],
      "text/plain": [
       "shape: (18, 3)\n",
       "┌─────────┬────────┬──────────┐\n",
       "│ trait   ┆ n_hits ┆ n_chroms │\n",
       "│ ---     ┆ ---    ┆ ---      │\n",
       "│ str     ┆ i64    ┆ i64      │\n",
       "╞═════════╪════════╪══════════╡\n",
       "│ Height  ┆ 81     ┆ 18       │\n",
       "│ MCV     ┆ 70     ┆ 20       │\n",
       "│ Plt     ┆ 70     ┆ 17       │\n",
       "│ eBMD    ┆ 68     ┆ 21       │\n",
       "│ Mono    ┆ 66     ┆ 19       │\n",
       "│ …       ┆ …      ┆ …        │\n",
       "│ Hb      ┆ 36     ┆ 16       │\n",
       "│ Neutro  ┆ 35     ┆ 15       │\n",
       "│ CRP     ┆ 33     ┆ 16       │\n",
       "│ BW      ┆ 30     ┆ 17       │\n",
       "│ FEV1FVC ┆ 30     ┆ 18       │\n",
       "└─────────┴────────┴──────────┘"
      ]
     },
     "execution_count": 97,
     "metadata": {},
     "output_type": "execute_result"
    }
   ],
   "source": [
    "df3 = df2.filter(~exclude)\n",
    "df3"
   ]
  },
  {
   "cell_type": "code",
   "execution_count": 101,
   "metadata": {},
   "outputs": [],
   "source": [
    "df3.select(\"trait\").write_csv(\"../../config/gwas/independent_traits_filtered.csv\", include_header=False)"
   ]
  },
  {
   "cell_type": "code",
   "execution_count": null,
   "metadata": {},
   "outputs": [],
   "source": []
  }
 ],
 "metadata": {
  "kernelspec": {
   "display_name": "gpn",
   "language": "python",
   "name": "gpn"
  },
  "language_info": {
   "codemirror_mode": {
    "name": "ipython",
    "version": 3
   },
   "file_extension": ".py",
   "mimetype": "text/x-python",
   "name": "python",
   "nbconvert_exporter": "python",
   "pygments_lexer": "ipython3",
   "version": "3.11.3"
  }
 },
 "nbformat": 4,
 "nbformat_minor": 2
}
