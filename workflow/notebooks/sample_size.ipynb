{
 "cells": [
  {
   "cell_type": "code",
   "execution_count": 1,
   "metadata": {},
   "outputs": [],
   "source": [
    "import numpy as np\n",
    "import polars as pl"
   ]
  },
  {
   "cell_type": "markdown",
   "metadata": {},
   "source": [
    "## Mendelian traits"
   ]
  },
  {
   "cell_type": "code",
   "execution_count": 13,
   "metadata": {},
   "outputs": [
    {
     "data": {
      "text/html": [
       "<div><style>\n",
       ".dataframe > thead > tr,\n",
       ".dataframe > tbody > tr {\n",
       "  text-align: right;\n",
       "  white-space: pre-wrap;\n",
       "}\n",
       "</style>\n",
       "<small>shape: (374, 10)</small><table border=\"1\" class=\"dataframe\"><thead><tr><th>chrom</th><th>pos</th><th>ref</th><th>alt</th><th>consequence</th><th>source</th><th>trait</th><th>label</th><th>tss_dist</th><th>match_group</th></tr><tr><td>str</td><td>i64</td><td>str</td><td>str</td><td>str</td><td>str</td><td>str</td><td>bool</td><td>i64</td><td>str</td></tr></thead><tbody><tr><td>&quot;1&quot;</td><td>7961859</td><td>&quot;C&quot;</td><td>&quot;G&quot;</td><td>&quot;PLS&quot;</td><td>&quot;OMIM&quot;</td><td>&quot;606324&quot;</td><td>true</td><td>34</td><td>&quot;PLS_0&quot;</td></tr><tr><td>&quot;1&quot;</td><td>9943502</td><td>&quot;A&quot;</td><td>&quot;T&quot;</td><td>&quot;5_prime_UTR_variant&quot;</td><td>&quot;OMIM&quot;</td><td>&quot;608553&quot;</td><td>true</td><td>26</td><td>&quot;5_prime_UTR_variant_0&quot;</td></tr><tr><td>&quot;1&quot;</td><td>9943503</td><td>&quot;C&quot;</td><td>&quot;T&quot;</td><td>&quot;5_prime_UTR_variant&quot;</td><td>&quot;OMIM&quot;</td><td>&quot;608553&quot;</td><td>true</td><td>27</td><td>&quot;5_prime_UTR_variant_1&quot;</td></tr><tr><td>&quot;1&quot;</td><td>11023351</td><td>&quot;G&quot;</td><td>&quot;A&quot;</td><td>&quot;3_prime_UTR_variant&quot;</td><td>&quot;OMIM&quot;</td><td>&quot;612069&quot;</td><td>true</td><td>1206</td><td>&quot;3_prime_UTR_variant_0&quot;</td></tr><tr><td>&quot;1&quot;</td><td>21509427</td><td>&quot;C&quot;</td><td>&quot;T&quot;</td><td>&quot;5_prime_UTR_variant&quot;</td><td>&quot;OMIM&quot;</td><td>&quot;241500&quot;</td><td>true</td><td>0</td><td>&quot;5_prime_UTR_variant_2&quot;</td></tr><tr><td>&hellip;</td><td>&hellip;</td><td>&hellip;</td><td>&hellip;</td><td>&hellip;</td><td>&hellip;</td><td>&hellip;</td><td>&hellip;</td><td>&hellip;</td><td>&hellip;</td></tr><tr><td>&quot;X&quot;</td><td>155022770</td><td>&quot;A&quot;</td><td>&quot;G&quot;</td><td>&quot;PLS&quot;</td><td>&quot;OMIM&quot;</td><td>&quot;306700&quot;</td><td>true</td><td>46</td><td>&quot;PLS_69&quot;</td></tr><tr><td>&quot;X&quot;</td><td>155022771</td><td>&quot;G&quot;</td><td>&quot;A&quot;</td><td>&quot;PLS&quot;</td><td>&quot;OMIM&quot;</td><td>&quot;306700&quot;</td><td>true</td><td>47</td><td>&quot;PLS_70&quot;</td></tr><tr><td>&quot;X&quot;</td><td>155022773</td><td>&quot;A&quot;</td><td>&quot;T&quot;</td><td>&quot;PLS&quot;</td><td>&quot;OMIM&quot;</td><td>&quot;306700&quot;</td><td>true</td><td>49</td><td>&quot;PLS_71&quot;</td></tr><tr><td>&quot;X&quot;</td><td>155022807</td><td>&quot;T&quot;</td><td>&quot;C&quot;</td><td>&quot;PLS&quot;</td><td>&quot;OMIM&quot;</td><td>&quot;306700&quot;</td><td>true</td><td>83</td><td>&quot;PLS_72&quot;</td></tr><tr><td>&quot;X&quot;</td><td>155022809</td><td>&quot;A&quot;</td><td>&quot;C&quot;</td><td>&quot;PLS&quot;</td><td>&quot;OMIM&quot;</td><td>&quot;306700&quot;</td><td>true</td><td>85</td><td>&quot;PLS_73&quot;</td></tr></tbody></table></div>"
      ],
      "text/plain": [
       "shape: (374, 10)\n",
       "┌───────┬───────────┬─────┬─────┬───┬────────┬───────┬──────────┬───────────────────────┐\n",
       "│ chrom ┆ pos       ┆ ref ┆ alt ┆ … ┆ trait  ┆ label ┆ tss_dist ┆ match_group           │\n",
       "│ ---   ┆ ---       ┆ --- ┆ --- ┆   ┆ ---    ┆ ---   ┆ ---      ┆ ---                   │\n",
       "│ str   ┆ i64       ┆ str ┆ str ┆   ┆ str    ┆ bool  ┆ i64      ┆ str                   │\n",
       "╞═══════╪═══════════╪═════╪═════╪═══╪════════╪═══════╪══════════╪═══════════════════════╡\n",
       "│ 1     ┆ 7961859   ┆ C   ┆ G   ┆ … ┆ 606324 ┆ true  ┆ 34       ┆ PLS_0                 │\n",
       "│ 1     ┆ 9943502   ┆ A   ┆ T   ┆ … ┆ 608553 ┆ true  ┆ 26       ┆ 5_prime_UTR_variant_0 │\n",
       "│ 1     ┆ 9943503   ┆ C   ┆ T   ┆ … ┆ 608553 ┆ true  ┆ 27       ┆ 5_prime_UTR_variant_1 │\n",
       "│ 1     ┆ 11023351  ┆ G   ┆ A   ┆ … ┆ 612069 ┆ true  ┆ 1206     ┆ 3_prime_UTR_variant_0 │\n",
       "│ 1     ┆ 21509427  ┆ C   ┆ T   ┆ … ┆ 241500 ┆ true  ┆ 0        ┆ 5_prime_UTR_variant_2 │\n",
       "│ …     ┆ …         ┆ …   ┆ …   ┆ … ┆ …      ┆ …     ┆ …        ┆ …                     │\n",
       "│ X     ┆ 155022770 ┆ A   ┆ G   ┆ … ┆ 306700 ┆ true  ┆ 46       ┆ PLS_69                │\n",
       "│ X     ┆ 155022771 ┆ G   ┆ A   ┆ … ┆ 306700 ┆ true  ┆ 47       ┆ PLS_70                │\n",
       "│ X     ┆ 155022773 ┆ A   ┆ T   ┆ … ┆ 306700 ┆ true  ┆ 49       ┆ PLS_71                │\n",
       "│ X     ┆ 155022807 ┆ T   ┆ C   ┆ … ┆ 306700 ┆ true  ┆ 83       ┆ PLS_72                │\n",
       "│ X     ┆ 155022809 ┆ A   ┆ C   ┆ … ┆ 306700 ┆ true  ┆ 85       ┆ PLS_73                │\n",
       "└───────┴───────────┴─────┴─────┴───┴────────┴───────┴──────────┴───────────────────────┘"
      ]
     },
     "execution_count": 13,
     "metadata": {},
     "output_type": "execute_result"
    }
   ],
   "source": [
    "dataset = \"mendelian_matched_9\"\n",
    "V = (\n",
    "    pl.read_parquet(f\"../../results/dataset/{dataset}/test.parquet\")\n",
    "    .filter(pl.col(\"label\"))\n",
    "    .filter(pl.col(\"consequence\") != \"missense_variant\")\n",
    "    .with_columns(\n",
    "        pl.col(\"OMIM\").str.split_exact(\" \", 1).struct.rename_fields([\"dummy\", \"trait\"])\n",
    "    )\n",
    "    .unnest(\"OMIM\").drop(\"dummy\")\n",
    ")\n",
    "V"
   ]
  },
  {
   "cell_type": "code",
   "execution_count": 17,
   "metadata": {},
   "outputs": [
    {
     "data": {
      "text/html": [
       "<div><style>\n",
       ".dataframe > thead > tr,\n",
       ".dataframe > tbody > tr {\n",
       "  text-align: right;\n",
       "  white-space: pre-wrap;\n",
       "}\n",
       "</style>\n",
       "<small>shape: (8, 2)</small><table border=\"1\" class=\"dataframe\"><thead><tr><th>trait</th><th>count</th></tr><tr><td>str</td><td>u32</td></tr></thead><tbody><tr><td>&quot;600886&quot;</td><td>25</td></tr><tr><td>&quot;613985&quot;</td><td>24</td></tr><tr><td>&quot;614743&quot;</td><td>22</td></tr><tr><td>&quot;306900&quot;</td><td>21</td></tr><tr><td>&quot;250250&quot;</td><td>21</td></tr><tr><td>&quot;174500&quot;</td><td>14</td></tr><tr><td>&quot;143890&quot;</td><td>12</td></tr><tr><td>&quot;210710&quot;</td><td>10</td></tr></tbody></table></div>"
      ],
      "text/plain": [
       "shape: (8, 2)\n",
       "┌────────┬───────┐\n",
       "│ trait  ┆ count │\n",
       "│ ---    ┆ ---   │\n",
       "│ str    ┆ u32   │\n",
       "╞════════╪═══════╡\n",
       "│ 600886 ┆ 25    │\n",
       "│ 613985 ┆ 24    │\n",
       "│ 614743 ┆ 22    │\n",
       "│ 306900 ┆ 21    │\n",
       "│ 250250 ┆ 21    │\n",
       "│ 174500 ┆ 14    │\n",
       "│ 143890 ┆ 12    │\n",
       "│ 210710 ┆ 10    │\n",
       "└────────┴───────┘"
      ]
     },
     "execution_count": 17,
     "metadata": {},
     "output_type": "execute_result"
    }
   ],
   "source": [
    "df = V[\"trait\"].value_counts().sort(\"count\", descending=True).filter(pl.col(\"count\") >= 10)\n",
    "df"
   ]
  },
  {
   "cell_type": "code",
   "execution_count": 22,
   "metadata": {},
   "outputs": [
    {
     "data": {
      "text/html": [
       "<div><style>\n",
       ".dataframe > thead > tr,\n",
       ".dataframe > tbody > tr {\n",
       "  text-align: right;\n",
       "  white-space: pre-wrap;\n",
       "}\n",
       "</style>\n",
       "<small>shape: (14, 10)</small><table border=\"1\" class=\"dataframe\"><thead><tr><th>chrom</th><th>pos</th><th>ref</th><th>alt</th><th>consequence</th><th>source</th><th>trait</th><th>label</th><th>tss_dist</th><th>match_group</th></tr><tr><td>str</td><td>i64</td><td>str</td><td>str</td><td>str</td><td>str</td><td>str</td><td>bool</td><td>i64</td><td>str</td></tr></thead><tbody><tr><td>&quot;7&quot;</td><td>156791137</td><td>&quot;T&quot;</td><td>&quot;C&quot;</td><td>&quot;dELS_flank&quot;</td><td>&quot;OMIM&quot;</td><td>&quot;174500&quot;</td><td>true</td><td>101849</td><td>&quot;dELS_flank_1&quot;</td></tr><tr><td>&quot;7&quot;</td><td>156791255</td><td>&quot;G&quot;</td><td>&quot;C&quot;</td><td>&quot;dELS_flank&quot;</td><td>&quot;OMIM&quot;</td><td>&quot;174500&quot;</td><td>true</td><td>101731</td><td>&quot;dELS_flank_2&quot;</td></tr><tr><td>&quot;7&quot;</td><td>156791257</td><td>&quot;G&quot;</td><td>&quot;A&quot;</td><td>&quot;dELS_flank&quot;</td><td>&quot;OMIM&quot;</td><td>&quot;174500&quot;</td><td>true</td><td>101729</td><td>&quot;dELS_flank_3&quot;</td></tr><tr><td>&quot;7&quot;</td><td>156791413</td><td>&quot;A&quot;</td><td>&quot;C&quot;</td><td>&quot;dELS&quot;</td><td>&quot;OMIM&quot;</td><td>&quot;174500&quot;</td><td>true</td><td>101573</td><td>&quot;dELS_1&quot;</td></tr><tr><td>&quot;7&quot;</td><td>156791459</td><td>&quot;T&quot;</td><td>&quot;C&quot;</td><td>&quot;dELS&quot;</td><td>&quot;OMIM&quot;</td><td>&quot;174500&quot;</td><td>true</td><td>101527</td><td>&quot;dELS_2&quot;</td></tr><tr><td>&hellip;</td><td>&hellip;</td><td>&hellip;</td><td>&hellip;</td><td>&hellip;</td><td>&hellip;</td><td>&hellip;</td><td>&hellip;</td><td>&hellip;</td><td>&hellip;</td></tr><tr><td>&quot;7&quot;</td><td>156791571</td><td>&quot;T&quot;</td><td>&quot;A&quot;</td><td>&quot;dELS&quot;</td><td>&quot;OMIM&quot;</td><td>&quot;174500&quot;</td><td>true</td><td>101415</td><td>&quot;dELS_9&quot;</td></tr><tr><td>&quot;7&quot;</td><td>156791579</td><td>&quot;C&quot;</td><td>&quot;T&quot;</td><td>&quot;dELS&quot;</td><td>&quot;OMIM&quot;</td><td>&quot;174500&quot;</td><td>true</td><td>101407</td><td>&quot;dELS_10&quot;</td></tr><tr><td>&quot;7&quot;</td><td>156791581</td><td>&quot;A&quot;</td><td>&quot;G&quot;</td><td>&quot;dELS&quot;</td><td>&quot;OMIM&quot;</td><td>&quot;174500&quot;</td><td>true</td><td>101405</td><td>&quot;dELS_11&quot;</td></tr><tr><td>&quot;7&quot;</td><td>156791771</td><td>&quot;G&quot;</td><td>&quot;C&quot;</td><td>&quot;dELS_flank&quot;</td><td>&quot;OMIM&quot;</td><td>&quot;174500&quot;</td><td>true</td><td>101215</td><td>&quot;dELS_flank_4&quot;</td></tr><tr><td>&quot;7&quot;</td><td>156792169</td><td>&quot;G&quot;</td><td>&quot;A&quot;</td><td>&quot;dELS_flank&quot;</td><td>&quot;OMIM&quot;</td><td>&quot;174500&quot;</td><td>true</td><td>100817</td><td>&quot;dELS_flank_5&quot;</td></tr></tbody></table></div>"
      ],
      "text/plain": [
       "shape: (14, 10)\n",
       "┌───────┬───────────┬─────┬─────┬───┬────────┬───────┬──────────┬──────────────┐\n",
       "│ chrom ┆ pos       ┆ ref ┆ alt ┆ … ┆ trait  ┆ label ┆ tss_dist ┆ match_group  │\n",
       "│ ---   ┆ ---       ┆ --- ┆ --- ┆   ┆ ---    ┆ ---   ┆ ---      ┆ ---          │\n",
       "│ str   ┆ i64       ┆ str ┆ str ┆   ┆ str    ┆ bool  ┆ i64      ┆ str          │\n",
       "╞═══════╪═══════════╪═════╪═════╪═══╪════════╪═══════╪══════════╪══════════════╡\n",
       "│ 7     ┆ 156791137 ┆ T   ┆ C   ┆ … ┆ 174500 ┆ true  ┆ 101849   ┆ dELS_flank_1 │\n",
       "│ 7     ┆ 156791255 ┆ G   ┆ C   ┆ … ┆ 174500 ┆ true  ┆ 101731   ┆ dELS_flank_2 │\n",
       "│ 7     ┆ 156791257 ┆ G   ┆ A   ┆ … ┆ 174500 ┆ true  ┆ 101729   ┆ dELS_flank_3 │\n",
       "│ 7     ┆ 156791413 ┆ A   ┆ C   ┆ … ┆ 174500 ┆ true  ┆ 101573   ┆ dELS_1       │\n",
       "│ 7     ┆ 156791459 ┆ T   ┆ C   ┆ … ┆ 174500 ┆ true  ┆ 101527   ┆ dELS_2       │\n",
       "│ …     ┆ …         ┆ …   ┆ …   ┆ … ┆ …      ┆ …     ┆ …        ┆ …            │\n",
       "│ 7     ┆ 156791571 ┆ T   ┆ A   ┆ … ┆ 174500 ┆ true  ┆ 101415   ┆ dELS_9       │\n",
       "│ 7     ┆ 156791579 ┆ C   ┆ T   ┆ … ┆ 174500 ┆ true  ┆ 101407   ┆ dELS_10      │\n",
       "│ 7     ┆ 156791581 ┆ A   ┆ G   ┆ … ┆ 174500 ┆ true  ┆ 101405   ┆ dELS_11      │\n",
       "│ 7     ┆ 156791771 ┆ G   ┆ C   ┆ … ┆ 174500 ┆ true  ┆ 101215   ┆ dELS_flank_4 │\n",
       "│ 7     ┆ 156792169 ┆ G   ┆ A   ┆ … ┆ 174500 ┆ true  ┆ 100817   ┆ dELS_flank_5 │\n",
       "└───────┴───────────┴─────┴─────┴───┴────────┴───────┴──────────┴──────────────┘"
      ]
     },
     "execution_count": 22,
     "metadata": {},
     "output_type": "execute_result"
    }
   ],
   "source": [
    "# V.filter(trait=\"600886\")  #5' UTR\n",
    "#V.filter(trait=\"613985\")  # 3' UTR\n",
    "#V.filter(trait=\"614743\")  # ncRNA\n",
    "#V.filter(trait=\"306900\")  # promoter\n",
    "#V.filter(trait=\"250250\")  # ncRNA\n",
    "#V.filter(trait=\"174500\")  # Enhancer"
   ]
  },
  {
   "cell_type": "code",
   "execution_count": 30,
   "metadata": {},
   "outputs": [],
   "source": [
    "df.select(\"trait\").write_csv(\"../../config/omim/filtered_traits.txt\", include_header=False)"
   ]
  },
  {
   "cell_type": "markdown",
   "metadata": {},
   "source": [
    "## Complex traits"
   ]
  },
  {
   "cell_type": "code",
   "execution_count": 17,
   "metadata": {},
   "outputs": [
    {
     "data": {
      "text/html": [
       "<div><style>\n",
       ".dataframe > thead > tr,\n",
       ".dataframe > tbody > tr {\n",
       "  text-align: right;\n",
       "  white-space: pre-wrap;\n",
       "}\n",
       "</style>\n",
       "<small>shape: (1_200, 13)</small><table border=\"1\" class=\"dataframe\"><thead><tr><th>chrom</th><th>pos</th><th>ref</th><th>alt</th><th>pip</th><th>trait</th><th>label</th><th>maf</th><th>ld_score</th><th>consequence</th><th>tss_dist</th><th>match_group</th><th>id</th></tr><tr><td>str</td><td>i64</td><td>str</td><td>str</td><td>f64</td><td>list[str]</td><td>bool</td><td>f64</td><td>f64</td><td>str</td><td>i64</td><td>str</td><td>str</td></tr></thead><tbody><tr><td>&quot;1&quot;</td><td>2293397</td><td>&quot;G&quot;</td><td>&quot;A&quot;</td><td>0.999932</td><td>[&quot;Height&quot;]</td><td>true</td><td>0.37057</td><td>32.302</td><td>&quot;dELS&quot;</td><td>65077</td><td>&quot;dELS_0&quot;</td><td>&quot;1_2293397_G_A&quot;</td></tr><tr><td>&quot;1&quot;</td><td>3080038</td><td>&quot;T&quot;</td><td>&quot;C&quot;</td><td>0.999895</td><td>[&quot;MCH&quot;, &quot;MCV&quot;, … &quot;RBC&quot;]</td><td>true</td><td>0.23272</td><td>31.606</td><td>&quot;dELS&quot;</td><td>10826</td><td>&quot;dELS_1&quot;</td><td>&quot;1_3080038_T_C&quot;</td></tr><tr><td>&quot;1&quot;</td><td>3774964</td><td>&quot;A&quot;</td><td>&quot;G&quot;</td><td>0.999973</td><td>[&quot;Hb&quot;, &quot;HbA1c&quot;, … &quot;RBC&quot;]</td><td>true</td><td>0.23057</td><td>95.317</td><td>&quot;dELS&quot;</td><td>2138</td><td>&quot;dELS_2&quot;</td><td>&quot;1_3774964_A_G&quot;</td></tr><tr><td>&quot;1&quot;</td><td>9181780</td><td>&quot;G&quot;</td><td>&quot;A&quot;</td><td>1.0</td><td>[&quot;AST&quot;, &quot;Mono&quot;]</td><td>true</td><td>0.074322</td><td>35.472</td><td>&quot;non_coding_transcript_exon_var…</td><td>52677</td><td>&quot;non_coding_transcript_exon_var…</td><td>&quot;1_9181780_G_A&quot;</td></tr><tr><td>&quot;1&quot;</td><td>9295877</td><td>&quot;G&quot;</td><td>&quot;T&quot;</td><td>0.993319</td><td>[&quot;DVT&quot;]</td><td>true</td><td>0.26506</td><td>46.307</td><td>&quot;dELS&quot;</td><td>1348</td><td>&quot;dELS_3&quot;</td><td>&quot;1_9295877_G_T&quot;</td></tr><tr><td>&hellip;</td><td>&hellip;</td><td>&hellip;</td><td>&hellip;</td><td>&hellip;</td><td>&hellip;</td><td>&hellip;</td><td>&hellip;</td><td>&hellip;</td><td>&hellip;</td><td>&hellip;</td><td>&hellip;</td><td>&hellip;</td></tr><tr><td>&quot;22&quot;</td><td>45969257</td><td>&quot;G&quot;</td><td>&quot;A&quot;</td><td>0.999905</td><td>[&quot;eBMD&quot;]</td><td>true</td><td>0.0026413</td><td>9.5349</td><td>&quot;dELS&quot;</td><td>3457</td><td>&quot;dELS_207&quot;</td><td>&quot;22_45969257_G_A&quot;</td></tr><tr><td>&quot;22&quot;</td><td>45979731</td><td>&quot;C&quot;</td><td>&quot;T&quot;</td><td>0.98026</td><td>[&quot;eBMD&quot;]</td><td>true</td><td>0.16714</td><td>37.776</td><td>&quot;dELS&quot;</td><td>2568</td><td>&quot;dELS_208&quot;</td><td>&quot;22_45979731_C_T&quot;</td></tr><tr><td>&quot;22&quot;</td><td>46219479</td><td>&quot;G&quot;</td><td>&quot;A&quot;</td><td>0.945802</td><td>[&quot;BW&quot;]</td><td>true</td><td>0.12871</td><td>164.85</td><td>&quot;dELS_flank&quot;</td><td>28805</td><td>&quot;dELS_flank_108&quot;</td><td>&quot;22_46219479_G_A&quot;</td></tr><tr><td>&quot;22&quot;</td><td>47990921</td><td>&quot;C&quot;</td><td>&quot;T&quot;</td><td>0.997536</td><td>[&quot;BMI&quot;]</td><td>true</td><td>0.43761</td><td>53.514</td><td>&quot;intron_variant&quot;</td><td>498631</td><td>&quot;intron_variant_124&quot;</td><td>&quot;22_47990921_C_T&quot;</td></tr><tr><td>&quot;22&quot;</td><td>50190508</td><td>&quot;G&quot;</td><td>&quot;A&quot;</td><td>1.0</td><td>[&quot;Plt&quot;]</td><td>true</td><td>0.072852</td><td>57.97</td><td>&quot;PLS&quot;</td><td>89</td><td>&quot;PLS_21&quot;</td><td>&quot;22_50190508_G_A&quot;</td></tr></tbody></table></div>"
      ],
      "text/plain": [
       "shape: (1_200, 13)\n",
       "┌───────┬──────────┬─────┬─────┬───┬─────────────────┬──────────┬─────────────────┬────────────────┐\n",
       "│ chrom ┆ pos      ┆ ref ┆ alt ┆ … ┆ consequence     ┆ tss_dist ┆ match_group     ┆ id             │\n",
       "│ ---   ┆ ---      ┆ --- ┆ --- ┆   ┆ ---             ┆ ---      ┆ ---             ┆ ---            │\n",
       "│ str   ┆ i64      ┆ str ┆ str ┆   ┆ str             ┆ i64      ┆ str             ┆ str            │\n",
       "╞═══════╪══════════╪═════╪═════╪═══╪═════════════════╪══════════╪═════════════════╪════════════════╡\n",
       "│ 1     ┆ 2293397  ┆ G   ┆ A   ┆ … ┆ dELS            ┆ 65077    ┆ dELS_0          ┆ 1_2293397_G_A  │\n",
       "│ 1     ┆ 3080038  ┆ T   ┆ C   ┆ … ┆ dELS            ┆ 10826    ┆ dELS_1          ┆ 1_3080038_T_C  │\n",
       "│ 1     ┆ 3774964  ┆ A   ┆ G   ┆ … ┆ dELS            ┆ 2138     ┆ dELS_2          ┆ 1_3774964_A_G  │\n",
       "│ 1     ┆ 9181780  ┆ G   ┆ A   ┆ … ┆ non_coding_tran ┆ 52677    ┆ non_coding_tran ┆ 1_9181780_G_A  │\n",
       "│       ┆          ┆     ┆     ┆   ┆ script_exon_var ┆          ┆ script_exon_var ┆                │\n",
       "│       ┆          ┆     ┆     ┆   ┆ …               ┆          ┆ …               ┆                │\n",
       "│ 1     ┆ 9295877  ┆ G   ┆ T   ┆ … ┆ dELS            ┆ 1348     ┆ dELS_3          ┆ 1_9295877_G_T  │\n",
       "│ …     ┆ …        ┆ …   ┆ …   ┆ … ┆ …               ┆ …        ┆ …               ┆ …              │\n",
       "│ 22    ┆ 45969257 ┆ G   ┆ A   ┆ … ┆ dELS            ┆ 3457     ┆ dELS_207        ┆ 22_45969257_G_ │\n",
       "│       ┆          ┆     ┆     ┆   ┆                 ┆          ┆                 ┆ A              │\n",
       "│ 22    ┆ 45979731 ┆ C   ┆ T   ┆ … ┆ dELS            ┆ 2568     ┆ dELS_208        ┆ 22_45979731_C_ │\n",
       "│       ┆          ┆     ┆     ┆   ┆                 ┆          ┆                 ┆ T              │\n",
       "│ 22    ┆ 46219479 ┆ G   ┆ A   ┆ … ┆ dELS_flank      ┆ 28805    ┆ dELS_flank_108  ┆ 22_46219479_G_ │\n",
       "│       ┆          ┆     ┆     ┆   ┆                 ┆          ┆                 ┆ A              │\n",
       "│ 22    ┆ 47990921 ┆ C   ┆ T   ┆ … ┆ intron_variant  ┆ 498631   ┆ intron_variant_ ┆ 22_47990921_C_ │\n",
       "│       ┆          ┆     ┆     ┆   ┆                 ┆          ┆ 124             ┆ T              │\n",
       "│ 22    ┆ 50190508 ┆ G   ┆ A   ┆ … ┆ PLS             ┆ 89       ┆ PLS_21          ┆ 22_50190508_G_ │\n",
       "│       ┆          ┆     ┆     ┆   ┆                 ┆          ┆                 ┆ A              │\n",
       "└───────┴──────────┴─────┴─────┴───┴─────────────────┴──────────┴─────────────────┴────────────────┘"
      ]
     },
     "execution_count": 17,
     "metadata": {},
     "output_type": "execute_result"
    }
   ],
   "source": [
    "dataset = \"gwas_matched_9\"\n",
    "V = (\n",
    "    pl.read_parquet(f\"../../results/dataset/{dataset}/test.parquet\")\n",
    "    .filter(pl.col(\"label\"))\n",
    "    .filter(pl.col(\"consequence\") != \"missense_variant\")\n",
    ")\n",
    "V = V.with_columns(\n",
    "    pl.col(\"trait\").str.split(\",\"),\n",
    "    id=V[\"chrom\"] + \"_\" + V[\"pos\"].cast(str) + \"_\" + V[\"ref\"] + \"_\" + V[\"alt\"]\n",
    ")\n",
    "V"
   ]
  },
  {
   "cell_type": "code",
   "execution_count": 18,
   "metadata": {},
   "outputs": [],
   "source": [
    "def n_common_hits(x, y):\n",
    "    return len(\n",
    "        set(V.filter(pl.col(\"trait\").list.contains(x))[\"id\"])\n",
    "        &\n",
    "        set(V.filter(pl.col(\"trait\").list.contains(y))[\"id\"])\n",
    "    )"
   ]
  },
  {
   "cell_type": "code",
   "execution_count": 19,
   "metadata": {},
   "outputs": [
    {
     "data": {
      "text/plain": [
       "array(['AFib', 'AG', 'AID_Combined', 'ALP', 'ALT', 'AST',\n",
       "       'Age_at_Menarche', 'Age_at_Menopause', 'Alb', 'Alzheimer_LTFH',\n",
       "       'ApoA', 'ApoB', 'Asthma', 'BFP', 'BMI', 'BW', 'Balding_Type4',\n",
       "       'Baso', 'BrC', 'CAD', 'CRC', 'CRP', 'Ca', 'Cholelithiasis', 'DBP',\n",
       "       'DVT', 'Eosino', 'FEV1FVC', 'Fibroblastic_Disorders', 'GGT',\n",
       "       'Glaucoma_Combined', 'Glucose', 'HDLC', 'Hb', 'HbA1c', 'Height',\n",
       "       'Ht', 'Hypothyroidism', 'IBD', 'IGF1', 'Insomnia', 'Irritability',\n",
       "       'LDLC', 'LOY', 'LipoA', 'Lym', 'MAP', 'MCH', 'MCHC', 'MCP', 'MCV',\n",
       "       'Migraine_Self', 'Miserableness', 'Mono', 'Mood_Swings',\n",
       "       'Morning_Person', 'Neutro', 'PP', 'Plt', 'PrC', 'RBC',\n",
       "       'Risk_Taking', 'SBP', 'SHBG', 'Sensitivity', 'Smoking_Ever_Never',\n",
       "       'Suffer_from_Nerves', 'T2D', 'T2D_BMI', 'TBil', 'TC', 'TG', 'TP',\n",
       "       'Testosterone', 'UA', 'Urea', 'VitD', 'WBC', 'WHRadjBMI',\n",
       "       'Worrier', 'eBMD', 'eGFR', 'eGFRcys'], dtype='<U22')"
      ]
     },
     "execution_count": 19,
     "metadata": {},
     "output_type": "execute_result"
    }
   ],
   "source": [
    "traits = np.unique(np.concatenate(V[\"trait\"]))\n",
    "traits"
   ]
  },
  {
   "cell_type": "code",
   "execution_count": 20,
   "metadata": {},
   "outputs": [
    {
     "data": {
      "text/html": [
       "<div><style>\n",
       ".dataframe > thead > tr,\n",
       ".dataframe > tbody > tr {\n",
       "  text-align: right;\n",
       "  white-space: pre-wrap;\n",
       "}\n",
       "</style>\n",
       "<small>shape: (83, 3)</small><table border=\"1\" class=\"dataframe\"><thead><tr><th>trait</th><th>n_hits</th><th>n_chroms</th></tr><tr><td>str</td><td>i64</td><td>i64</td></tr></thead><tbody><tr><td>&quot;AFib&quot;</td><td>5</td><td>4</td></tr><tr><td>&quot;AG&quot;</td><td>40</td><td>15</td></tr><tr><td>&quot;AID_Combined&quot;</td><td>2</td><td>2</td></tr><tr><td>&quot;ALP&quot;</td><td>41</td><td>17</td></tr><tr><td>&quot;ALT&quot;</td><td>23</td><td>16</td></tr><tr><td>&hellip;</td><td>&hellip;</td><td>&hellip;</td></tr><tr><td>&quot;WHRadjBMI&quot;</td><td>24</td><td>12</td></tr><tr><td>&quot;Worrier&quot;</td><td>1</td><td>1</td></tr><tr><td>&quot;eBMD&quot;</td><td>68</td><td>21</td></tr><tr><td>&quot;eGFR&quot;</td><td>32</td><td>17</td></tr><tr><td>&quot;eGFRcys&quot;</td><td>40</td><td>17</td></tr></tbody></table></div>"
      ],
      "text/plain": [
       "shape: (83, 3)\n",
       "┌──────────────┬────────┬──────────┐\n",
       "│ trait        ┆ n_hits ┆ n_chroms │\n",
       "│ ---          ┆ ---    ┆ ---      │\n",
       "│ str          ┆ i64    ┆ i64      │\n",
       "╞══════════════╪════════╪══════════╡\n",
       "│ AFib         ┆ 5      ┆ 4        │\n",
       "│ AG           ┆ 40     ┆ 15       │\n",
       "│ AID_Combined ┆ 2      ┆ 2        │\n",
       "│ ALP          ┆ 41     ┆ 17       │\n",
       "│ ALT          ┆ 23     ┆ 16       │\n",
       "│ …            ┆ …      ┆ …        │\n",
       "│ WHRadjBMI    ┆ 24     ┆ 12       │\n",
       "│ Worrier      ┆ 1      ┆ 1        │\n",
       "│ eBMD         ┆ 68     ┆ 21       │\n",
       "│ eGFR         ┆ 32     ┆ 17       │\n",
       "│ eGFRcys      ┆ 40     ┆ 17       │\n",
       "└──────────────┴────────┴──────────┘"
      ]
     },
     "execution_count": 20,
     "metadata": {},
     "output_type": "execute_result"
    }
   ],
   "source": [
    "n_hits = [\n",
    "    len(V.filter(pl.col(\"trait\").list.contains(trait)))\n",
    "    for trait in traits\n",
    "]\n",
    "n_chroms = [\n",
    "    len(V.filter(pl.col(\"trait\").list.contains(trait))[\"chrom\"].unique())\n",
    "    for trait in traits\n",
    "]\n",
    "df = pl.DataFrame(\n",
    "    {\n",
    "        \"trait\": traits,\n",
    "        \"n_hits\": n_hits,\n",
    "        \"n_chroms\": n_chroms,\n",
    "    }\n",
    ")\n",
    "df"
   ]
  },
  {
   "cell_type": "code",
   "execution_count": 21,
   "metadata": {},
   "outputs": [
    {
     "data": {
      "text/html": [
       "<div><style>\n",
       ".dataframe > thead > tr,\n",
       ".dataframe > tbody > tr {\n",
       "  text-align: right;\n",
       "  white-space: pre-wrap;\n",
       "}\n",
       "</style>\n",
       "<small>shape: (52, 3)</small><table border=\"1\" class=\"dataframe\"><thead><tr><th>trait</th><th>n_hits</th><th>n_chroms</th></tr><tr><td>str</td><td>i64</td><td>i64</td></tr></thead><tbody><tr><td>&quot;Height&quot;</td><td>81</td><td>18</td></tr><tr><td>&quot;MCV&quot;</td><td>70</td><td>20</td></tr><tr><td>&quot;Plt&quot;</td><td>70</td><td>17</td></tr><tr><td>&quot;MCH&quot;</td><td>68</td><td>21</td></tr><tr><td>&quot;eBMD&quot;</td><td>68</td><td>21</td></tr><tr><td>&hellip;</td><td>&hellip;</td><td>&hellip;</td></tr><tr><td>&quot;BFP&quot;</td><td>13</td><td>8</td></tr><tr><td>&quot;Baso&quot;</td><td>13</td><td>7</td></tr><tr><td>&quot;SBP&quot;</td><td>13</td><td>9</td></tr><tr><td>&quot;Glucose&quot;</td><td>12</td><td>7</td></tr><tr><td>&quot;VitD&quot;</td><td>11</td><td>5</td></tr></tbody></table></div>"
      ],
      "text/plain": [
       "shape: (52, 3)\n",
       "┌─────────┬────────┬──────────┐\n",
       "│ trait   ┆ n_hits ┆ n_chroms │\n",
       "│ ---     ┆ ---    ┆ ---      │\n",
       "│ str     ┆ i64    ┆ i64      │\n",
       "╞═════════╪════════╪══════════╡\n",
       "│ Height  ┆ 81     ┆ 18       │\n",
       "│ MCV     ┆ 70     ┆ 20       │\n",
       "│ Plt     ┆ 70     ┆ 17       │\n",
       "│ MCH     ┆ 68     ┆ 21       │\n",
       "│ eBMD    ┆ 68     ┆ 21       │\n",
       "│ …       ┆ …      ┆ …        │\n",
       "│ BFP     ┆ 13     ┆ 8        │\n",
       "│ Baso    ┆ 13     ┆ 7        │\n",
       "│ SBP     ┆ 13     ┆ 9        │\n",
       "│ Glucose ┆ 12     ┆ 7        │\n",
       "│ VitD    ┆ 11     ┆ 5        │\n",
       "└─────────┴────────┴──────────┘"
      ]
     },
     "execution_count": 21,
     "metadata": {},
     "output_type": "execute_result"
    }
   ],
   "source": [
    "#df2 = df.filter(pl.col(\"n_hits\") >= 30, pl.col(\"n_chroms\") >= 3).sort(\"n_hits\", descending=True)\n",
    "df2 = df.filter(pl.col(\"n_hits\") >= 10).sort(\"n_hits\", descending=True)\n",
    "df2"
   ]
  },
  {
   "cell_type": "code",
   "execution_count": 22,
   "metadata": {},
   "outputs": [],
   "source": [
    "exclude = np.full(len(df2), False)\n",
    "\n",
    "for i, trait1 in enumerate(df2[\"trait\"]):\n",
    "    if exclude[i]: continue\n",
    "    n1 = df2.filter(trait=trait1)[0, \"n_hits\"]\n",
    "    for j, trait2 in enumerate(df2[\"trait\"]):\n",
    "        if i < j:\n",
    "            if exclude[j]: continue\n",
    "            n = n_common_hits(trait1, trait2)\n",
    "            if n > n1 * 0.1:\n",
    "                exclude[j] = True\n",
    "                "
   ]
  },
  {
   "cell_type": "code",
   "execution_count": 23,
   "metadata": {},
   "outputs": [
    {
     "data": {
      "text/html": [
       "<div><style>\n",
       ".dataframe > thead > tr,\n",
       ".dataframe > tbody > tr {\n",
       "  text-align: right;\n",
       "  white-space: pre-wrap;\n",
       "}\n",
       "</style>\n",
       "<small>shape: (28, 3)</small><table border=\"1\" class=\"dataframe\"><thead><tr><th>trait</th><th>n_hits</th><th>n_chroms</th></tr><tr><td>str</td><td>i64</td><td>i64</td></tr></thead><tbody><tr><td>&quot;Height&quot;</td><td>81</td><td>18</td></tr><tr><td>&quot;MCV&quot;</td><td>70</td><td>20</td></tr><tr><td>&quot;Plt&quot;</td><td>70</td><td>17</td></tr><tr><td>&quot;eBMD&quot;</td><td>68</td><td>21</td></tr><tr><td>&quot;Mono&quot;</td><td>66</td><td>19</td></tr><tr><td>&hellip;</td><td>&hellip;</td><td>&hellip;</td></tr><tr><td>&quot;LOY&quot;</td><td>16</td><td>10</td></tr><tr><td>&quot;AST&quot;</td><td>15</td><td>10</td></tr><tr><td>&quot;DVT&quot;</td><td>15</td><td>11</td></tr><tr><td>&quot;BFP&quot;</td><td>13</td><td>8</td></tr><tr><td>&quot;VitD&quot;</td><td>11</td><td>5</td></tr></tbody></table></div>"
      ],
      "text/plain": [
       "shape: (28, 3)\n",
       "┌────────┬────────┬──────────┐\n",
       "│ trait  ┆ n_hits ┆ n_chroms │\n",
       "│ ---    ┆ ---    ┆ ---      │\n",
       "│ str    ┆ i64    ┆ i64      │\n",
       "╞════════╪════════╪══════════╡\n",
       "│ Height ┆ 81     ┆ 18       │\n",
       "│ MCV    ┆ 70     ┆ 20       │\n",
       "│ Plt    ┆ 70     ┆ 17       │\n",
       "│ eBMD   ┆ 68     ┆ 21       │\n",
       "│ Mono   ┆ 66     ┆ 19       │\n",
       "│ …      ┆ …      ┆ …        │\n",
       "│ LOY    ┆ 16     ┆ 10       │\n",
       "│ AST    ┆ 15     ┆ 10       │\n",
       "│ DVT    ┆ 15     ┆ 11       │\n",
       "│ BFP    ┆ 13     ┆ 8        │\n",
       "│ VitD   ┆ 11     ┆ 5        │\n",
       "└────────┴────────┴──────────┘"
      ]
     },
     "execution_count": 23,
     "metadata": {},
     "output_type": "execute_result"
    }
   ],
   "source": [
    "df3 = df2.filter(~exclude)\n",
    "df3"
   ]
  },
  {
   "cell_type": "code",
   "execution_count": 24,
   "metadata": {},
   "outputs": [],
   "source": [
    "df3.select(\"trait\").write_csv(\"../../config/gwas/independent_traits_filtered.csv\", include_header=False)"
   ]
  },
  {
   "cell_type": "code",
   "execution_count": null,
   "metadata": {},
   "outputs": [],
   "source": []
  }
 ],
 "metadata": {
  "kernelspec": {
   "display_name": "gpn",
   "language": "python",
   "name": "gpn"
  },
  "language_info": {
   "codemirror_mode": {
    "name": "ipython",
    "version": 3
   },
   "file_extension": ".py",
   "mimetype": "text/x-python",
   "name": "python",
   "nbconvert_exporter": "python",
   "pygments_lexer": "ipython3",
   "version": "3.11.3"
  }
 },
 "nbformat": 4,
 "nbformat_minor": 2
}
