{
 "cells": [
  {
   "cell_type": "code",
   "execution_count": 1,
   "metadata": {},
   "outputs": [],
   "source": [
    "import numpy as np\n",
    "import polars as pl"
   ]
  },
  {
   "cell_type": "markdown",
   "metadata": {},
   "source": [
    "## Mendelian traits"
   ]
  },
  {
   "cell_type": "code",
   "execution_count": 2,
   "metadata": {},
   "outputs": [
    {
     "data": {
      "text/html": [
       "<div><style>\n",
       ".dataframe > thead > tr,\n",
       ".dataframe > tbody > tr {\n",
       "  text-align: right;\n",
       "  white-space: pre-wrap;\n",
       "}\n",
       "</style>\n",
       "<small>shape: (338, 9)</small><table border=\"1\" class=\"dataframe\"><thead><tr><th>chrom</th><th>pos</th><th>ref</th><th>alt</th><th>trait</th><th>consequence</th><th>label</th><th>tss_dist</th><th>match_group</th></tr><tr><td>str</td><td>i64</td><td>str</td><td>str</td><td>str</td><td>str</td><td>bool</td><td>i64</td><td>str</td></tr></thead><tbody><tr><td>&quot;1&quot;</td><td>7961859</td><td>&quot;C&quot;</td><td>&quot;G&quot;</td><td>&quot;606324&quot;</td><td>&quot;PLS&quot;</td><td>true</td><td>34</td><td>&quot;PLS_0&quot;</td></tr><tr><td>&quot;1&quot;</td><td>9943502</td><td>&quot;A&quot;</td><td>&quot;T&quot;</td><td>&quot;608553&quot;</td><td>&quot;5_prime_UTR_variant&quot;</td><td>true</td><td>26</td><td>&quot;5_prime_UTR_variant_0&quot;</td></tr><tr><td>&quot;1&quot;</td><td>9943503</td><td>&quot;C&quot;</td><td>&quot;T&quot;</td><td>&quot;608553&quot;</td><td>&quot;5_prime_UTR_variant&quot;</td><td>true</td><td>27</td><td>&quot;5_prime_UTR_variant_1&quot;</td></tr><tr><td>&quot;1&quot;</td><td>11023351</td><td>&quot;G&quot;</td><td>&quot;A&quot;</td><td>&quot;612069&quot;</td><td>&quot;3_prime_UTR_variant&quot;</td><td>true</td><td>1206</td><td>&quot;3_prime_UTR_variant_0&quot;</td></tr><tr><td>&quot;1&quot;</td><td>21509427</td><td>&quot;C&quot;</td><td>&quot;T&quot;</td><td>&quot;241500&quot;</td><td>&quot;5_prime_UTR_variant&quot;</td><td>true</td><td>0</td><td>&quot;5_prime_UTR_variant_2&quot;</td></tr><tr><td>&hellip;</td><td>&hellip;</td><td>&hellip;</td><td>&hellip;</td><td>&hellip;</td><td>&hellip;</td><td>&hellip;</td><td>&hellip;</td><td>&hellip;</td></tr><tr><td>&quot;X&quot;</td><td>155022770</td><td>&quot;A&quot;</td><td>&quot;G&quot;</td><td>&quot;306700&quot;</td><td>&quot;PLS&quot;</td><td>true</td><td>46</td><td>&quot;PLS_57&quot;</td></tr><tr><td>&quot;X&quot;</td><td>155022771</td><td>&quot;G&quot;</td><td>&quot;A&quot;</td><td>&quot;306700&quot;</td><td>&quot;PLS&quot;</td><td>true</td><td>47</td><td>&quot;PLS_62&quot;</td></tr><tr><td>&quot;X&quot;</td><td>155022773</td><td>&quot;A&quot;</td><td>&quot;T&quot;</td><td>&quot;306700&quot;</td><td>&quot;PLS&quot;</td><td>true</td><td>49</td><td>&quot;PLS_58&quot;</td></tr><tr><td>&quot;X&quot;</td><td>155022807</td><td>&quot;T&quot;</td><td>&quot;C&quot;</td><td>&quot;306700&quot;</td><td>&quot;PLS&quot;</td><td>true</td><td>83</td><td>&quot;PLS_59&quot;</td></tr><tr><td>&quot;X&quot;</td><td>155022809</td><td>&quot;A&quot;</td><td>&quot;C&quot;</td><td>&quot;306700&quot;</td><td>&quot;PLS&quot;</td><td>true</td><td>85</td><td>&quot;PLS_60&quot;</td></tr></tbody></table></div>"
      ],
      "text/plain": [
       "shape: (338, 9)\n",
       "┌───────┬───────────┬─────┬─────┬───┬─────────────────────┬───────┬──────────┬─────────────────────┐\n",
       "│ chrom ┆ pos       ┆ ref ┆ alt ┆ … ┆ consequence         ┆ label ┆ tss_dist ┆ match_group         │\n",
       "│ ---   ┆ ---       ┆ --- ┆ --- ┆   ┆ ---                 ┆ ---   ┆ ---      ┆ ---                 │\n",
       "│ str   ┆ i64       ┆ str ┆ str ┆   ┆ str                 ┆ bool  ┆ i64      ┆ str                 │\n",
       "╞═══════╪═══════════╪═════╪═════╪═══╪═════════════════════╪═══════╪══════════╪═════════════════════╡\n",
       "│ 1     ┆ 7961859   ┆ C   ┆ G   ┆ … ┆ PLS                 ┆ true  ┆ 34       ┆ PLS_0               │\n",
       "│ 1     ┆ 9943502   ┆ A   ┆ T   ┆ … ┆ 5_prime_UTR_variant ┆ true  ┆ 26       ┆ 5_prime_UTR_variant │\n",
       "│       ┆           ┆     ┆     ┆   ┆                     ┆       ┆          ┆ _0                  │\n",
       "│ 1     ┆ 9943503   ┆ C   ┆ T   ┆ … ┆ 5_prime_UTR_variant ┆ true  ┆ 27       ┆ 5_prime_UTR_variant │\n",
       "│       ┆           ┆     ┆     ┆   ┆                     ┆       ┆          ┆ _1                  │\n",
       "│ 1     ┆ 11023351  ┆ G   ┆ A   ┆ … ┆ 3_prime_UTR_variant ┆ true  ┆ 1206     ┆ 3_prime_UTR_variant │\n",
       "│       ┆           ┆     ┆     ┆   ┆                     ┆       ┆          ┆ _0                  │\n",
       "│ 1     ┆ 21509427  ┆ C   ┆ T   ┆ … ┆ 5_prime_UTR_variant ┆ true  ┆ 0        ┆ 5_prime_UTR_variant │\n",
       "│       ┆           ┆     ┆     ┆   ┆                     ┆       ┆          ┆ _2                  │\n",
       "│ …     ┆ …         ┆ …   ┆ …   ┆ … ┆ …                   ┆ …     ┆ …        ┆ …                   │\n",
       "│ X     ┆ 155022770 ┆ A   ┆ G   ┆ … ┆ PLS                 ┆ true  ┆ 46       ┆ PLS_57              │\n",
       "│ X     ┆ 155022771 ┆ G   ┆ A   ┆ … ┆ PLS                 ┆ true  ┆ 47       ┆ PLS_62              │\n",
       "│ X     ┆ 155022773 ┆ A   ┆ T   ┆ … ┆ PLS                 ┆ true  ┆ 49       ┆ PLS_58              │\n",
       "│ X     ┆ 155022807 ┆ T   ┆ C   ┆ … ┆ PLS                 ┆ true  ┆ 83       ┆ PLS_59              │\n",
       "│ X     ┆ 155022809 ┆ A   ┆ C   ┆ … ┆ PLS                 ┆ true  ┆ 85       ┆ PLS_60              │\n",
       "└───────┴───────────┴─────┴─────┴───┴─────────────────────┴───────┴──────────┴─────────────────────┘"
      ]
     },
     "execution_count": 2,
     "metadata": {},
     "output_type": "execute_result"
    }
   ],
   "source": [
    "dataset = \"mendelian_traits_matched_9\"\n",
    "V = (\n",
    "    pl.read_parquet(f\"../../results/dataset/{dataset}/test.parquet\")\n",
    "    .filter(pl.col(\"label\"))\n",
    "    .with_columns(\n",
    "        pl.col(\"OMIM\").str.split_exact(\" \", 1).struct.rename_fields([\"dummy\", \"trait\"])\n",
    "    )\n",
    "    .unnest(\"OMIM\").drop(\"dummy\")\n",
    ")\n",
    "V"
   ]
  },
  {
   "cell_type": "code",
   "execution_count": 3,
   "metadata": {},
   "outputs": [
    {
     "data": {
      "text/plain": [
       "113"
      ]
     },
     "execution_count": 3,
     "metadata": {},
     "output_type": "execute_result"
    }
   ],
   "source": [
    "V[\"trait\"].n_unique()"
   ]
  },
  {
   "cell_type": "code",
   "execution_count": 4,
   "metadata": {},
   "outputs": [
    {
     "data": {
      "text/html": [
       "<div><style>\n",
       ".dataframe > thead > tr,\n",
       ".dataframe > tbody > tr {\n",
       "  text-align: right;\n",
       "  white-space: pre-wrap;\n",
       "}\n",
       "</style>\n",
       "<small>shape: (113, 2)</small><table border=\"1\" class=\"dataframe\"><thead><tr><th>trait</th><th>count</th></tr><tr><td>str</td><td>u32</td></tr></thead><tbody><tr><td>&quot;600886&quot;</td><td>25</td></tr><tr><td>&quot;613985&quot;</td><td>23</td></tr><tr><td>&quot;614743&quot;</td><td>22</td></tr><tr><td>&quot;306900&quot;</td><td>21</td></tr><tr><td>&quot;250250&quot;</td><td>20</td></tr><tr><td>&hellip;</td><td>&hellip;</td></tr><tr><td>&quot;612069&quot;</td><td>1</td></tr><tr><td>&quot;604625&quot;</td><td>1</td></tr><tr><td>&quot;176100&quot;</td><td>1</td></tr><tr><td>&quot;606324&quot;</td><td>1</td></tr><tr><td>&quot;613118&quot;</td><td>1</td></tr></tbody></table></div>"
      ],
      "text/plain": [
       "shape: (113, 2)\n",
       "┌────────┬───────┐\n",
       "│ trait  ┆ count │\n",
       "│ ---    ┆ ---   │\n",
       "│ str    ┆ u32   │\n",
       "╞════════╪═══════╡\n",
       "│ 600886 ┆ 25    │\n",
       "│ 613985 ┆ 23    │\n",
       "│ 614743 ┆ 22    │\n",
       "│ 306900 ┆ 21    │\n",
       "│ 250250 ┆ 20    │\n",
       "│ …      ┆ …     │\n",
       "│ 612069 ┆ 1     │\n",
       "│ 604625 ┆ 1     │\n",
       "│ 176100 ┆ 1     │\n",
       "│ 606324 ┆ 1     │\n",
       "│ 613118 ┆ 1     │\n",
       "└────────┴───────┘"
      ]
     },
     "execution_count": 4,
     "metadata": {},
     "output_type": "execute_result"
    }
   ],
   "source": [
    "V[\"trait\"].value_counts().sort(\"count\", descending=True)"
   ]
  },
  {
   "cell_type": "code",
   "execution_count": 5,
   "metadata": {},
   "outputs": [
    {
     "data": {
      "text/html": [
       "<div><style>\n",
       ".dataframe > thead > tr,\n",
       ".dataframe > tbody > tr {\n",
       "  text-align: right;\n",
       "  white-space: pre-wrap;\n",
       "}\n",
       "</style>\n",
       "<small>shape: (8, 2)</small><table border=\"1\" class=\"dataframe\"><thead><tr><th>trait</th><th>count</th></tr><tr><td>str</td><td>u32</td></tr></thead><tbody><tr><td>&quot;600886&quot;</td><td>25</td></tr><tr><td>&quot;613985&quot;</td><td>23</td></tr><tr><td>&quot;614743&quot;</td><td>22</td></tr><tr><td>&quot;306900&quot;</td><td>21</td></tr><tr><td>&quot;250250&quot;</td><td>20</td></tr><tr><td>&quot;174500&quot;</td><td>14</td></tr><tr><td>&quot;143890&quot;</td><td>12</td></tr><tr><td>&quot;210710&quot;</td><td>10</td></tr></tbody></table></div>"
      ],
      "text/plain": [
       "shape: (8, 2)\n",
       "┌────────┬───────┐\n",
       "│ trait  ┆ count │\n",
       "│ ---    ┆ ---   │\n",
       "│ str    ┆ u32   │\n",
       "╞════════╪═══════╡\n",
       "│ 600886 ┆ 25    │\n",
       "│ 613985 ┆ 23    │\n",
       "│ 614743 ┆ 22    │\n",
       "│ 306900 ┆ 21    │\n",
       "│ 250250 ┆ 20    │\n",
       "│ 174500 ┆ 14    │\n",
       "│ 143890 ┆ 12    │\n",
       "│ 210710 ┆ 10    │\n",
       "└────────┴───────┘"
      ]
     },
     "execution_count": 5,
     "metadata": {},
     "output_type": "execute_result"
    }
   ],
   "source": [
    "df = V[\"trait\"].value_counts().sort(\"count\", descending=True).filter(pl.col(\"count\") >= 10)\n",
    "df"
   ]
  },
  {
   "cell_type": "code",
   "execution_count": 30,
   "metadata": {},
   "outputs": [],
   "source": [
    "df.select(\"trait\").write_csv(\"../../config/omim/filtered_traits.txt\", include_header=False)"
   ]
  },
  {
   "cell_type": "markdown",
   "metadata": {},
   "source": [
    "## Complex traits"
   ]
  },
  {
   "cell_type": "code",
   "execution_count": 6,
   "metadata": {},
   "outputs": [
    {
     "data": {
      "text/html": [
       "<div><style>\n",
       ".dataframe > thead > tr,\n",
       ".dataframe > tbody > tr {\n",
       "  text-align: right;\n",
       "  white-space: pre-wrap;\n",
       "}\n",
       "</style>\n",
       "<small>shape: (1_140, 13)</small><table border=\"1\" class=\"dataframe\"><thead><tr><th>chrom</th><th>pos</th><th>ref</th><th>alt</th><th>pip</th><th>trait</th><th>label</th><th>maf</th><th>ld_score</th><th>consequence</th><th>tss_dist</th><th>match_group</th><th>id</th></tr><tr><td>str</td><td>i64</td><td>str</td><td>str</td><td>f64</td><td>list[str]</td><td>bool</td><td>f64</td><td>f64</td><td>str</td><td>i64</td><td>str</td><td>str</td></tr></thead><tbody><tr><td>&quot;1&quot;</td><td>2293397</td><td>&quot;G&quot;</td><td>&quot;A&quot;</td><td>0.999932</td><td>[&quot;Height&quot;]</td><td>true</td><td>0.37057</td><td>32.302</td><td>&quot;dELS&quot;</td><td>65077</td><td>&quot;dELS_0&quot;</td><td>&quot;1_2293397_G_A&quot;</td></tr><tr><td>&quot;1&quot;</td><td>3080038</td><td>&quot;T&quot;</td><td>&quot;C&quot;</td><td>0.999895</td><td>[&quot;MCH&quot;, &quot;MCV&quot;, … &quot;RBC&quot;]</td><td>true</td><td>0.23272</td><td>31.606</td><td>&quot;dELS&quot;</td><td>10826</td><td>&quot;dELS_1&quot;</td><td>&quot;1_3080038_T_C&quot;</td></tr><tr><td>&quot;1&quot;</td><td>3774964</td><td>&quot;A&quot;</td><td>&quot;G&quot;</td><td>0.999973</td><td>[&quot;Hb&quot;, &quot;HbA1c&quot;, … &quot;RBC&quot;]</td><td>true</td><td>0.23057</td><td>95.317</td><td>&quot;dELS&quot;</td><td>2138</td><td>&quot;dELS_2&quot;</td><td>&quot;1_3774964_A_G&quot;</td></tr><tr><td>&quot;1&quot;</td><td>9181780</td><td>&quot;G&quot;</td><td>&quot;A&quot;</td><td>1.0</td><td>[&quot;AST&quot;, &quot;Mono&quot;]</td><td>true</td><td>0.074322</td><td>35.472</td><td>&quot;non_coding_transcript_exon_var…</td><td>52677</td><td>&quot;non_coding_transcript_exon_var…</td><td>&quot;1_9181780_G_A&quot;</td></tr><tr><td>&quot;1&quot;</td><td>9295877</td><td>&quot;G&quot;</td><td>&quot;T&quot;</td><td>0.993319</td><td>[&quot;DVT&quot;]</td><td>true</td><td>0.26506</td><td>46.307</td><td>&quot;dELS&quot;</td><td>1348</td><td>&quot;dELS_3&quot;</td><td>&quot;1_9295877_G_T&quot;</td></tr><tr><td>&hellip;</td><td>&hellip;</td><td>&hellip;</td><td>&hellip;</td><td>&hellip;</td><td>&hellip;</td><td>&hellip;</td><td>&hellip;</td><td>&hellip;</td><td>&hellip;</td><td>&hellip;</td><td>&hellip;</td><td>&hellip;</td></tr><tr><td>&quot;22&quot;</td><td>45969257</td><td>&quot;G&quot;</td><td>&quot;A&quot;</td><td>0.999905</td><td>[&quot;eBMD&quot;]</td><td>true</td><td>0.0026413</td><td>9.5349</td><td>&quot;dELS&quot;</td><td>3457</td><td>&quot;dELS_207&quot;</td><td>&quot;22_45969257_G_A&quot;</td></tr><tr><td>&quot;22&quot;</td><td>45979731</td><td>&quot;C&quot;</td><td>&quot;T&quot;</td><td>0.98026</td><td>[&quot;eBMD&quot;]</td><td>true</td><td>0.16714</td><td>37.776</td><td>&quot;dELS&quot;</td><td>2568</td><td>&quot;dELS_208&quot;</td><td>&quot;22_45979731_C_T&quot;</td></tr><tr><td>&quot;22&quot;</td><td>46219479</td><td>&quot;G&quot;</td><td>&quot;A&quot;</td><td>0.945802</td><td>[&quot;BW&quot;]</td><td>true</td><td>0.12871</td><td>164.85</td><td>&quot;dELS_flank&quot;</td><td>28805</td><td>&quot;dELS_flank_108&quot;</td><td>&quot;22_46219479_G_A&quot;</td></tr><tr><td>&quot;22&quot;</td><td>47990921</td><td>&quot;C&quot;</td><td>&quot;T&quot;</td><td>0.997536</td><td>[&quot;BMI&quot;]</td><td>true</td><td>0.43761</td><td>53.514</td><td>&quot;intron_variant&quot;</td><td>498631</td><td>&quot;intron_variant_124&quot;</td><td>&quot;22_47990921_C_T&quot;</td></tr><tr><td>&quot;22&quot;</td><td>50190508</td><td>&quot;G&quot;</td><td>&quot;A&quot;</td><td>1.0</td><td>[&quot;Plt&quot;]</td><td>true</td><td>0.072852</td><td>57.97</td><td>&quot;PLS&quot;</td><td>89</td><td>&quot;PLS_21&quot;</td><td>&quot;22_50190508_G_A&quot;</td></tr></tbody></table></div>"
      ],
      "text/plain": [
       "shape: (1_140, 13)\n",
       "┌───────┬──────────┬─────┬─────┬───┬─────────────────┬──────────┬─────────────────┬────────────────┐\n",
       "│ chrom ┆ pos      ┆ ref ┆ alt ┆ … ┆ consequence     ┆ tss_dist ┆ match_group     ┆ id             │\n",
       "│ ---   ┆ ---      ┆ --- ┆ --- ┆   ┆ ---             ┆ ---      ┆ ---             ┆ ---            │\n",
       "│ str   ┆ i64      ┆ str ┆ str ┆   ┆ str             ┆ i64      ┆ str             ┆ str            │\n",
       "╞═══════╪══════════╪═════╪═════╪═══╪═════════════════╪══════════╪═════════════════╪════════════════╡\n",
       "│ 1     ┆ 2293397  ┆ G   ┆ A   ┆ … ┆ dELS            ┆ 65077    ┆ dELS_0          ┆ 1_2293397_G_A  │\n",
       "│ 1     ┆ 3080038  ┆ T   ┆ C   ┆ … ┆ dELS            ┆ 10826    ┆ dELS_1          ┆ 1_3080038_T_C  │\n",
       "│ 1     ┆ 3774964  ┆ A   ┆ G   ┆ … ┆ dELS            ┆ 2138     ┆ dELS_2          ┆ 1_3774964_A_G  │\n",
       "│ 1     ┆ 9181780  ┆ G   ┆ A   ┆ … ┆ non_coding_tran ┆ 52677    ┆ non_coding_tran ┆ 1_9181780_G_A  │\n",
       "│       ┆          ┆     ┆     ┆   ┆ script_exon_var ┆          ┆ script_exon_var ┆                │\n",
       "│       ┆          ┆     ┆     ┆   ┆ …               ┆          ┆ …               ┆                │\n",
       "│ 1     ┆ 9295877  ┆ G   ┆ T   ┆ … ┆ dELS            ┆ 1348     ┆ dELS_3          ┆ 1_9295877_G_T  │\n",
       "│ …     ┆ …        ┆ …   ┆ …   ┆ … ┆ …               ┆ …        ┆ …               ┆ …              │\n",
       "│ 22    ┆ 45969257 ┆ G   ┆ A   ┆ … ┆ dELS            ┆ 3457     ┆ dELS_207        ┆ 22_45969257_G_ │\n",
       "│       ┆          ┆     ┆     ┆   ┆                 ┆          ┆                 ┆ A              │\n",
       "│ 22    ┆ 45979731 ┆ C   ┆ T   ┆ … ┆ dELS            ┆ 2568     ┆ dELS_208        ┆ 22_45979731_C_ │\n",
       "│       ┆          ┆     ┆     ┆   ┆                 ┆          ┆                 ┆ T              │\n",
       "│ 22    ┆ 46219479 ┆ G   ┆ A   ┆ … ┆ dELS_flank      ┆ 28805    ┆ dELS_flank_108  ┆ 22_46219479_G_ │\n",
       "│       ┆          ┆     ┆     ┆   ┆                 ┆          ┆                 ┆ A              │\n",
       "│ 22    ┆ 47990921 ┆ C   ┆ T   ┆ … ┆ intron_variant  ┆ 498631   ┆ intron_variant_ ┆ 22_47990921_C_ │\n",
       "│       ┆          ┆     ┆     ┆   ┆                 ┆          ┆ 124             ┆ T              │\n",
       "│ 22    ┆ 50190508 ┆ G   ┆ A   ┆ … ┆ PLS             ┆ 89       ┆ PLS_21          ┆ 22_50190508_G_ │\n",
       "│       ┆          ┆     ┆     ┆   ┆                 ┆          ┆                 ┆ A              │\n",
       "└───────┴──────────┴─────┴─────┴───┴─────────────────┴──────────┴─────────────────┴────────────────┘"
      ]
     },
     "execution_count": 6,
     "metadata": {},
     "output_type": "execute_result"
    }
   ],
   "source": [
    "dataset = \"complex_traits_matched_9\"\n",
    "V = (\n",
    "    pl.read_parquet(f\"../../results/dataset/{dataset}/test.parquet\")\n",
    "    .filter(pl.col(\"label\"))\n",
    ")\n",
    "V = V.with_columns(\n",
    "    pl.col(\"trait\").str.split(\",\"),\n",
    "    id=V[\"chrom\"] + \"_\" + V[\"pos\"].cast(str) + \"_\" + V[\"ref\"] + \"_\" + V[\"alt\"]\n",
    ")\n",
    "V"
   ]
  },
  {
   "cell_type": "code",
   "execution_count": 7,
   "metadata": {},
   "outputs": [],
   "source": [
    "def n_common_hits(x, y):\n",
    "    return len(\n",
    "        set(V.filter(pl.col(\"trait\").list.contains(x))[\"id\"])\n",
    "        &\n",
    "        set(V.filter(pl.col(\"trait\").list.contains(y))[\"id\"])\n",
    "    )"
   ]
  },
  {
   "cell_type": "code",
   "execution_count": 8,
   "metadata": {},
   "outputs": [
    {
     "data": {
      "text/plain": [
       "array(['AFib', 'AG', 'AID_Combined', 'ALP', 'ALT', 'AST',\n",
       "       'Age_at_Menarche', 'Age_at_Menopause', 'Alb', 'Alzheimer_LTFH',\n",
       "       'ApoA', 'ApoB', 'Asthma', 'BFP', 'BMI', 'BW', 'Balding_Type4',\n",
       "       'Baso', 'BrC', 'CAD', 'CRC', 'CRP', 'Ca', 'Cholelithiasis', 'DBP',\n",
       "       'DVT', 'Eosino', 'FEV1FVC', 'Fibroblastic_Disorders', 'GGT',\n",
       "       'Glaucoma_Combined', 'Glucose', 'HDLC', 'Hb', 'HbA1c', 'Height',\n",
       "       'Ht', 'Hypothyroidism', 'IBD', 'IGF1', 'Insomnia', 'Irritability',\n",
       "       'LDLC', 'LOY', 'LipoA', 'Lym', 'MAP', 'MCH', 'MCHC', 'MCP', 'MCV',\n",
       "       'Migraine_Self', 'Miserableness', 'Mono', 'Mood_Swings',\n",
       "       'Morning_Person', 'Neutro', 'PP', 'Plt', 'PrC', 'RBC',\n",
       "       'Risk_Taking', 'SBP', 'SHBG', 'Sensitivity', 'Smoking_Ever_Never',\n",
       "       'Suffer_from_Nerves', 'T2D', 'T2D_BMI', 'TBil', 'TC', 'TG', 'TP',\n",
       "       'Testosterone', 'UA', 'Urea', 'VitD', 'WBC', 'WHRadjBMI',\n",
       "       'Worrier', 'eBMD', 'eGFR', 'eGFRcys'], dtype='<U22')"
      ]
     },
     "execution_count": 8,
     "metadata": {},
     "output_type": "execute_result"
    }
   ],
   "source": [
    "traits = np.unique(np.concatenate(V[\"trait\"]))\n",
    "traits"
   ]
  },
  {
   "cell_type": "code",
   "execution_count": 9,
   "metadata": {},
   "outputs": [
    {
     "data": {
      "text/plain": [
       "83"
      ]
     },
     "execution_count": 9,
     "metadata": {},
     "output_type": "execute_result"
    }
   ],
   "source": [
    "len(traits)"
   ]
  },
  {
   "cell_type": "code",
   "execution_count": 10,
   "metadata": {},
   "outputs": [
    {
     "data": {
      "text/html": [
       "<div><style>\n",
       ".dataframe > thead > tr,\n",
       ".dataframe > tbody > tr {\n",
       "  text-align: right;\n",
       "  white-space: pre-wrap;\n",
       "}\n",
       "</style>\n",
       "<small>shape: (83, 3)</small><table border=\"1\" class=\"dataframe\"><thead><tr><th>trait</th><th>n_hits</th><th>n_chroms</th></tr><tr><td>str</td><td>i64</td><td>i64</td></tr></thead><tbody><tr><td>&quot;AFib&quot;</td><td>4</td><td>3</td></tr><tr><td>&quot;AG&quot;</td><td>40</td><td>15</td></tr><tr><td>&quot;AID_Combined&quot;</td><td>2</td><td>2</td></tr><tr><td>&quot;ALP&quot;</td><td>38</td><td>17</td></tr><tr><td>&quot;ALT&quot;</td><td>23</td><td>16</td></tr><tr><td>&hellip;</td><td>&hellip;</td><td>&hellip;</td></tr><tr><td>&quot;WHRadjBMI&quot;</td><td>23</td><td>12</td></tr><tr><td>&quot;Worrier&quot;</td><td>1</td><td>1</td></tr><tr><td>&quot;eBMD&quot;</td><td>67</td><td>21</td></tr><tr><td>&quot;eGFR&quot;</td><td>28</td><td>16</td></tr><tr><td>&quot;eGFRcys&quot;</td><td>39</td><td>17</td></tr></tbody></table></div>"
      ],
      "text/plain": [
       "shape: (83, 3)\n",
       "┌──────────────┬────────┬──────────┐\n",
       "│ trait        ┆ n_hits ┆ n_chroms │\n",
       "│ ---          ┆ ---    ┆ ---      │\n",
       "│ str          ┆ i64    ┆ i64      │\n",
       "╞══════════════╪════════╪══════════╡\n",
       "│ AFib         ┆ 4      ┆ 3        │\n",
       "│ AG           ┆ 40     ┆ 15       │\n",
       "│ AID_Combined ┆ 2      ┆ 2        │\n",
       "│ ALP          ┆ 38     ┆ 17       │\n",
       "│ ALT          ┆ 23     ┆ 16       │\n",
       "│ …            ┆ …      ┆ …        │\n",
       "│ WHRadjBMI    ┆ 23     ┆ 12       │\n",
       "│ Worrier      ┆ 1      ┆ 1        │\n",
       "│ eBMD         ┆ 67     ┆ 21       │\n",
       "│ eGFR         ┆ 28     ┆ 16       │\n",
       "│ eGFRcys      ┆ 39     ┆ 17       │\n",
       "└──────────────┴────────┴──────────┘"
      ]
     },
     "execution_count": 10,
     "metadata": {},
     "output_type": "execute_result"
    }
   ],
   "source": [
    "n_hits = [\n",
    "    len(V.filter(pl.col(\"trait\").list.contains(trait)))\n",
    "    for trait in traits\n",
    "]\n",
    "n_chroms = [\n",
    "    len(V.filter(pl.col(\"trait\").list.contains(trait))[\"chrom\"].unique())\n",
    "    for trait in traits\n",
    "]\n",
    "df = pl.DataFrame(\n",
    "    {\n",
    "        \"trait\": traits,\n",
    "        \"n_hits\": n_hits,\n",
    "        \"n_chroms\": n_chroms,\n",
    "    }\n",
    ")\n",
    "df"
   ]
  },
  {
   "cell_type": "code",
   "execution_count": 11,
   "metadata": {},
   "outputs": [
    {
     "data": {
      "text/html": [
       "<div><style>\n",
       ".dataframe > thead > tr,\n",
       ".dataframe > tbody > tr {\n",
       "  text-align: right;\n",
       "  white-space: pre-wrap;\n",
       "}\n",
       "</style>\n",
       "<small>shape: (51, 3)</small><table border=\"1\" class=\"dataframe\"><thead><tr><th>trait</th><th>n_hits</th><th>n_chroms</th></tr><tr><td>str</td><td>i64</td><td>i64</td></tr></thead><tbody><tr><td>&quot;Height&quot;</td><td>77</td><td>18</td></tr><tr><td>&quot;Plt&quot;</td><td>67</td><td>17</td></tr><tr><td>&quot;eBMD&quot;</td><td>67</td><td>21</td></tr><tr><td>&quot;MCV&quot;</td><td>66</td><td>20</td></tr><tr><td>&quot;Mono&quot;</td><td>65</td><td>19</td></tr><tr><td>&hellip;</td><td>&hellip;</td><td>&hellip;</td></tr><tr><td>&quot;TBil&quot;</td><td>14</td><td>8</td></tr><tr><td>&quot;SBP&quot;</td><td>13</td><td>9</td></tr><tr><td>&quot;Baso&quot;</td><td>12</td><td>7</td></tr><tr><td>&quot;BFP&quot;</td><td>11</td><td>8</td></tr><tr><td>&quot;Glucose&quot;</td><td>11</td><td>7</td></tr></tbody></table></div>"
      ],
      "text/plain": [
       "shape: (51, 3)\n",
       "┌─────────┬────────┬──────────┐\n",
       "│ trait   ┆ n_hits ┆ n_chroms │\n",
       "│ ---     ┆ ---    ┆ ---      │\n",
       "│ str     ┆ i64    ┆ i64      │\n",
       "╞═════════╪════════╪══════════╡\n",
       "│ Height  ┆ 77     ┆ 18       │\n",
       "│ Plt     ┆ 67     ┆ 17       │\n",
       "│ eBMD    ┆ 67     ┆ 21       │\n",
       "│ MCV     ┆ 66     ┆ 20       │\n",
       "│ Mono    ┆ 65     ┆ 19       │\n",
       "│ …       ┆ …      ┆ …        │\n",
       "│ TBil    ┆ 14     ┆ 8        │\n",
       "│ SBP     ┆ 13     ┆ 9        │\n",
       "│ Baso    ┆ 12     ┆ 7        │\n",
       "│ BFP     ┆ 11     ┆ 8        │\n",
       "│ Glucose ┆ 11     ┆ 7        │\n",
       "└─────────┴────────┴──────────┘"
      ]
     },
     "execution_count": 11,
     "metadata": {},
     "output_type": "execute_result"
    }
   ],
   "source": [
    "df2 = df.filter(pl.col(\"n_hits\") >= 10).sort(\"n_hits\", descending=True)\n",
    "df2"
   ]
  },
  {
   "cell_type": "code",
   "execution_count": 12,
   "metadata": {},
   "outputs": [],
   "source": [
    "exclude = np.full(len(df2), False)\n",
    "\n",
    "for i, trait1 in enumerate(df2[\"trait\"]):\n",
    "    if exclude[i]: continue\n",
    "    n1 = df2.filter(trait=trait1)[0, \"n_hits\"]\n",
    "    for j, trait2 in enumerate(df2[\"trait\"]):\n",
    "        if i < j:\n",
    "            if exclude[j]: continue\n",
    "            n2 = df2.filter(trait=trait2)[0, \"n_hits\"]\n",
    "            n = n_common_hits(trait1, trait2)\n",
    "            if n > n1 * 0.1 or n > n2 * 0.1:\n",
    "                exclude[j] = True\n",
    "                "
   ]
  },
  {
   "cell_type": "code",
   "execution_count": 13,
   "metadata": {},
   "outputs": [
    {
     "data": {
      "text/html": [
       "<div><style>\n",
       ".dataframe > thead > tr,\n",
       ".dataframe > tbody > tr {\n",
       "  text-align: right;\n",
       "  white-space: pre-wrap;\n",
       "}\n",
       "</style>\n",
       "<small>shape: (18, 3)</small><table border=\"1\" class=\"dataframe\"><thead><tr><th>trait</th><th>n_hits</th><th>n_chroms</th></tr><tr><td>str</td><td>i64</td><td>i64</td></tr></thead><tbody><tr><td>&quot;Height&quot;</td><td>77</td><td>18</td></tr><tr><td>&quot;Plt&quot;</td><td>67</td><td>17</td></tr><tr><td>&quot;eBMD&quot;</td><td>67</td><td>21</td></tr><tr><td>&quot;MCV&quot;</td><td>66</td><td>20</td></tr><tr><td>&quot;Mono&quot;</td><td>65</td><td>19</td></tr><tr><td>&hellip;</td><td>&hellip;</td><td>&hellip;</td></tr><tr><td>&quot;Ca&quot;</td><td>22</td><td>11</td></tr><tr><td>&quot;Alb&quot;</td><td>20</td><td>15</td></tr><tr><td>&quot;BMI&quot;</td><td>17</td><td>13</td></tr><tr><td>&quot;Balding_Type4&quot;</td><td>15</td><td>10</td></tr><tr><td>&quot;DVT&quot;</td><td>14</td><td>11</td></tr></tbody></table></div>"
      ],
      "text/plain": [
       "shape: (18, 3)\n",
       "┌───────────────┬────────┬──────────┐\n",
       "│ trait         ┆ n_hits ┆ n_chroms │\n",
       "│ ---           ┆ ---    ┆ ---      │\n",
       "│ str           ┆ i64    ┆ i64      │\n",
       "╞═══════════════╪════════╪══════════╡\n",
       "│ Height        ┆ 77     ┆ 18       │\n",
       "│ Plt           ┆ 67     ┆ 17       │\n",
       "│ eBMD          ┆ 67     ┆ 21       │\n",
       "│ MCV           ┆ 66     ┆ 20       │\n",
       "│ Mono          ┆ 65     ┆ 19       │\n",
       "│ …             ┆ …      ┆ …        │\n",
       "│ Ca            ┆ 22     ┆ 11       │\n",
       "│ Alb           ┆ 20     ┆ 15       │\n",
       "│ BMI           ┆ 17     ┆ 13       │\n",
       "│ Balding_Type4 ┆ 15     ┆ 10       │\n",
       "│ DVT           ┆ 14     ┆ 11       │\n",
       "└───────────────┴────────┴──────────┘"
      ]
     },
     "execution_count": 13,
     "metadata": {},
     "output_type": "execute_result"
    }
   ],
   "source": [
    "df3 = df2.filter(~exclude)\n",
    "df3"
   ]
  },
  {
   "cell_type": "code",
   "execution_count": 14,
   "metadata": {},
   "outputs": [],
   "source": [
    "df3.select(\"trait\").write_csv(\"../../config/gwas/independent_traits_filtered.csv\", include_header=False)"
   ]
  },
  {
   "cell_type": "code",
   "execution_count": 15,
   "metadata": {},
   "outputs": [
    {
     "data": {
      "text/html": [
       "<div><style>\n",
       ".dataframe > thead > tr,\n",
       ".dataframe > tbody > tr {\n",
       "  text-align: right;\n",
       "  white-space: pre-wrap;\n",
       "}\n",
       "</style>\n",
       "<small>shape: (11, 3)</small><table border=\"1\" class=\"dataframe\"><thead><tr><th>trait</th><th>n_hits</th><th>n_chroms</th></tr><tr><td>str</td><td>i64</td><td>i64</td></tr></thead><tbody><tr><td>&quot;Height&quot;</td><td>77</td><td>18</td></tr><tr><td>&quot;Plt&quot;</td><td>67</td><td>17</td></tr><tr><td>&quot;eBMD&quot;</td><td>67</td><td>21</td></tr><tr><td>&quot;MCV&quot;</td><td>66</td><td>20</td></tr><tr><td>&quot;Mono&quot;</td><td>65</td><td>19</td></tr><tr><td>&hellip;</td><td>&hellip;</td><td>&hellip;</td></tr><tr><td>&quot;AG&quot;</td><td>40</td><td>15</td></tr><tr><td>&quot;HDLC&quot;</td><td>39</td><td>16</td></tr><tr><td>&quot;eGFRcys&quot;</td><td>39</td><td>17</td></tr><tr><td>&quot;ALP&quot;</td><td>38</td><td>17</td></tr><tr><td>&quot;GGT&quot;</td><td>36</td><td>16</td></tr></tbody></table></div>"
      ],
      "text/plain": [
       "shape: (11, 3)\n",
       "┌─────────┬────────┬──────────┐\n",
       "│ trait   ┆ n_hits ┆ n_chroms │\n",
       "│ ---     ┆ ---    ┆ ---      │\n",
       "│ str     ┆ i64    ┆ i64      │\n",
       "╞═════════╪════════╪══════════╡\n",
       "│ Height  ┆ 77     ┆ 18       │\n",
       "│ Plt     ┆ 67     ┆ 17       │\n",
       "│ eBMD    ┆ 67     ┆ 21       │\n",
       "│ MCV     ┆ 66     ┆ 20       │\n",
       "│ Mono    ┆ 65     ┆ 19       │\n",
       "│ …       ┆ …      ┆ …        │\n",
       "│ AG      ┆ 40     ┆ 15       │\n",
       "│ HDLC    ┆ 39     ┆ 16       │\n",
       "│ eGFRcys ┆ 39     ┆ 17       │\n",
       "│ ALP     ┆ 38     ┆ 17       │\n",
       "│ GGT     ┆ 36     ┆ 16       │\n",
       "└─────────┴────────┴──────────┘"
      ]
     },
     "execution_count": 15,
     "metadata": {},
     "output_type": "execute_result"
    }
   ],
   "source": [
    "df4 = df3.filter(pl.col(\"n_hits\") >= 30)\n",
    "df4"
   ]
  },
  {
   "cell_type": "code",
   "execution_count": 16,
   "metadata": {},
   "outputs": [],
   "source": [
    "df4.select(\"trait\").write_csv(\"../../config/gwas/independent_traits_filtered_n30.csv\", include_header=False)"
   ]
  },
  {
   "cell_type": "code",
   "execution_count": null,
   "metadata": {},
   "outputs": [],
   "source": []
  }
 ],
 "metadata": {
  "kernelspec": {
   "display_name": "gpn",
   "language": "python",
   "name": "gpn"
  },
  "language_info": {
   "codemirror_mode": {
    "name": "ipython",
    "version": 3
   },
   "file_extension": ".py",
   "mimetype": "text/x-python",
   "name": "python",
   "nbconvert_exporter": "python",
   "pygments_lexer": "ipython3",
   "version": "3.11.3"
  }
 },
 "nbformat": 4,
 "nbformat_minor": 2
}
