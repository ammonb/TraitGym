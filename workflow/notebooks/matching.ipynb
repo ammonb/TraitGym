{
 "cells": [
  {
   "cell_type": "code",
   "execution_count": 1,
   "metadata": {},
   "outputs": [],
   "source": [
    "import matplotlib.pyplot as plt\n",
    "from sklearn.metrics import average_precision_score\n",
    "import polars as pl"
   ]
  },
  {
   "cell_type": "code",
   "execution_count": 2,
   "metadata": {},
   "outputs": [
    {
     "data": {
      "text/html": [
       "<div><style>\n",
       ".dataframe > thead > tr,\n",
       ".dataframe > tbody > tr {\n",
       "  text-align: right;\n",
       "  white-space: pre-wrap;\n",
       "}\n",
       "</style>\n",
       "<small>shape: (4, 3)</small><table border=\"1\" class=\"dataframe\"><thead><tr><th>Dataset</th><th>Feature</th><th>AUPRC</th></tr><tr><td>str</td><td>str</td><td>f64</td></tr></thead><tbody><tr><td>&quot;Mendelian traits&quot;</td><td>&quot;TSS distance&quot;</td><td>0.114833</td></tr><tr><td>&quot;Complex traits&quot;</td><td>&quot;TSS distance&quot;</td><td>0.10406</td></tr><tr><td>&quot;Complex traits&quot;</td><td>&quot;MAF&quot;</td><td>0.10133</td></tr><tr><td>&quot;Complex traits&quot;</td><td>&quot;LD score&quot;</td><td>0.104152</td></tr></tbody></table></div>"
      ],
      "text/plain": [
       "shape: (4, 3)\n",
       "┌──────────────────┬──────────────┬──────────┐\n",
       "│ Dataset          ┆ Feature      ┆ AUPRC    │\n",
       "│ ---              ┆ ---          ┆ ---      │\n",
       "│ str              ┆ str          ┆ f64      │\n",
       "╞══════════════════╪══════════════╪══════════╡\n",
       "│ Mendelian traits ┆ TSS distance ┆ 0.114833 │\n",
       "│ Complex traits   ┆ TSS distance ┆ 0.10406  │\n",
       "│ Complex traits   ┆ MAF          ┆ 0.10133  │\n",
       "│ Complex traits   ┆ LD score     ┆ 0.104152 │\n",
       "└──────────────────┴──────────────┴──────────┘"
      ]
     },
     "execution_count": 2,
     "metadata": {},
     "output_type": "execute_result"
    }
   ],
   "source": [
    "# TODO: add signs\n",
    "matched_features = {\n",
    "    \"mendelian_traits_matched_9\": [\"tss_dist\"],\n",
    "    \"complex_traits_matched_9\": [\"tss_dist\", \"maf\", \"ld_score\"],\n",
    "}\n",
    "feature_signs = {\n",
    "    \"tss_dist\": -1,\n",
    "    \"maf\": 1,\n",
    "    \"ld_score\": -1,\n",
    "}\n",
    "dataset_renaming = {\n",
    "    \"mendelian_traits_matched_9\": \"Mendelian traits\",\n",
    "    \"complex_traits_matched_9\": \"Complex traits\",\n",
    "}\n",
    "feature_renaming = {\n",
    "    \"tss_dist\": \"TSS distance\",\n",
    "    \"maf\": \"MAF\",\n",
    "    \"ld_score\": \"LD score\",\n",
    "}\n",
    "rows = []\n",
    "for dataset, features in matched_features.items():\n",
    "    V = pl.read_parquet(f\"../../results/dataset/{dataset}/test.parquet\")\n",
    "    for feature in features:\n",
    "        rows.append({\n",
    "            \"Dataset\": dataset_renaming.get(dataset, dataset),\n",
    "            \"Feature\": feature_renaming.get(feature, feature),\n",
    "            \"AUPRC\": average_precision_score(V[\"label\"], V[feature] * feature_signs[feature]),\n",
    "        })\n",
    "df = pl.DataFrame(rows)\n",
    "df"
   ]
  },
  {
   "cell_type": "code",
   "execution_count": 6,
   "metadata": {},
   "outputs": [
    {
     "name": "stdout",
     "output_type": "stream",
     "text": [
      "\\begin{tabular}{llr}\n",
      "\\toprule\n",
      "Dataset & Feature & AUPRC \\\\\n",
      "\\midrule\n",
      "Mendelian traits & TSS distance & 0.115 \\\\\n",
      "Complex traits & TSS distance & 0.104 \\\\\n",
      "Complex traits & MAF & 0.101 \\\\\n",
      "Complex traits & LD score & 0.104 \\\\\n",
      "\\bottomrule\n",
      "\\end{tabular}\n",
      "\n"
     ]
    }
   ],
   "source": [
    "print(df.to_pandas().to_latex(index=False, multicolumn_format='c', escape=False, float_format=\"%.3f\"))"
   ]
  },
  {
   "cell_type": "code",
   "execution_count": null,
   "metadata": {},
   "outputs": [],
   "source": []
  }
 ],
 "metadata": {
  "kernelspec": {
   "display_name": "gpn",
   "language": "python",
   "name": "gpn"
  }
 },
 "nbformat": 4,
 "nbformat_minor": 2
}
