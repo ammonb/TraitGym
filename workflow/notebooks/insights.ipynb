{
 "cells": [
  {
   "cell_type": "code",
   "execution_count": 1,
   "metadata": {},
   "outputs": [],
   "source": [
    "import polars as pl"
   ]
  },
  {
   "cell_type": "code",
   "execution_count": 2,
   "metadata": {},
   "outputs": [],
   "source": [
    "#!wget https://www.medrxiv.org/content/medrxiv/early/2021/09/05/2021.09.03.21262975/DC2/embed/media-2.xlsx?download=true -O insights.xlsx"
   ]
  },
  {
   "cell_type": "code",
   "execution_count": 11,
   "metadata": {},
   "outputs": [
    {
     "data": {
      "text/html": [
       "<div><style>\n",
       ".dataframe > thead > tr,\n",
       ".dataframe > tbody > tr {\n",
       "  text-align: right;\n",
       "  white-space: pre-wrap;\n",
       "}\n",
       "</style>\n",
       "<small>shape: (265, 11)</small><table border=\"1\" class=\"dataframe\"><thead><tr><th>cohort</th><th>trait</th><th>description</th><th>definition</th><th>model_marginal</th><th>n_samples</th><th>n_cases</th><th>n_controls</th><th>mean</th><th>sd</th><th>unit</th></tr><tr><td>str</td><td>str</td><td>str</td><td>str</td><td>str</td><td>i64</td><td>i64</td><td>i64</td><td>f64</td><td>f64</td><td>str</td></tr></thead><tbody><tr><td>&quot;BBJ&quot;</td><td>&quot;AD&quot;</td><td>&quot;Atopic dermatitis (Eczema)&quot;</td><td>&quot;Diagnosis by professional phys…</td><td>&quot;SAIGE&quot;</td><td>168103</td><td>4296</td><td>163807</td><td>null</td><td>null</td><td>&quot;NA&quot;</td></tr><tr><td>&quot;FG&quot;</td><td>&quot;AD&quot;</td><td>&quot;Atopic dermatitis&quot;</td><td>&quot;FinnGen: L12_ATOPIC&quot;</td><td>&quot;SAIGE&quot;</td><td>244544</td><td>8383</td><td>236161</td><td>null</td><td>null</td><td>&quot;NA&quot;</td></tr><tr><td>&quot;UKBB&quot;</td><td>&quot;AD&quot;</td><td>&quot;Atopic dermatitis&quot;</td><td>&quot;Phecode 939&quot;</td><td>&quot;SAIGE&quot;</td><td>357633</td><td>1865</td><td>355768</td><td>null</td><td>null</td><td>&quot;NA&quot;</td></tr><tr><td>&quot;BBJ&quot;</td><td>&quot;AFib&quot;</td><td>&quot;Atrial fibrillation&quot;</td><td>&quot;Diagnosis by professional phys…</td><td>&quot;SAIGE&quot;</td><td>164561</td><td>9021</td><td>155540</td><td>null</td><td>null</td><td>&quot;NA&quot;</td></tr><tr><td>&quot;FG&quot;</td><td>&quot;AFib&quot;</td><td>&quot;Atrial fibrillation and flutte…</td><td>&quot;FinnGen: I9_AF&quot;</td><td>&quot;SAIGE&quot;</td><td>164491</td><td>28670</td><td>135821</td><td>null</td><td>null</td><td>&quot;NA&quot;</td></tr><tr><td>&hellip;</td><td>&hellip;</td><td>&hellip;</td><td>&hellip;</td><td>&hellip;</td><td>&hellip;</td><td>&hellip;</td><td>&hellip;</td><td>&hellip;</td><td>&hellip;</td><td>&hellip;</td></tr><tr><td>&quot;BBJ&quot;</td><td>&quot;WBC&quot;</td><td>&quot;White blood cell count&quot;</td><td>&quot;Retrieved from medical records…</td><td>&quot;BOLT&quot;</td><td>154355</td><td>null</td><td>null</td><td>6.141576</td><td>1.907689</td><td>&quot;10^9 cells/L&quot;</td></tr><tr><td>&quot;UKBB&quot;</td><td>&quot;WBC&quot;</td><td>&quot;White blood cell count&quot;</td><td>&quot;UKBB: 30000&quot;</td><td>&quot;BOLT&quot;</td><td>351324</td><td>null</td><td>null</td><td>6.888665</td><td>2.034034</td><td>&quot;10^9 cells/L&quot;</td></tr><tr><td>&quot;UKBB&quot;</td><td>&quot;WHRadjBMI&quot;</td><td>&quot;Waist-to-hip ratio (adjusted b…</td><td>&quot;Waist-to-hip ratio (Waist [UKB…</td><td>&quot;BOLT&quot;</td><td>360505</td><td>null</td><td>null</td><td>0.871666</td><td>0.090196</td><td>&quot;[ratio]&quot;</td></tr><tr><td>&quot;UKBB&quot;</td><td>&quot;Worrier&quot;</td><td>&quot;Worrier&quot;</td><td>&quot;UKBB: 1980&quot;</td><td>&quot;SAIGE&quot;</td><td>351785</td><td>199435</td><td>152350</td><td>null</td><td>null</td><td>&quot;NA&quot;</td></tr><tr><td>&quot;UKBB&quot;</td><td>&quot;Worry_Too_Long&quot;</td><td>&quot;Worry too long after embarrass…</td><td>&quot;UKBB: 2000&quot;</td><td>&quot;SAIGE&quot;</td><td>346479</td><td>165287</td><td>181192</td><td>null</td><td>null</td><td>&quot;NA&quot;</td></tr></tbody></table></div>"
      ],
      "text/plain": [
       "shape: (265, 11)\n",
       "┌────────┬────────────┬────────────┬────────────┬───┬────────────┬──────────┬──────────┬───────────┐\n",
       "│ cohort ┆ trait      ┆ descriptio ┆ definition ┆ … ┆ n_controls ┆ mean     ┆ sd       ┆ unit      │\n",
       "│ ---    ┆ ---        ┆ n          ┆ ---        ┆   ┆ ---        ┆ ---      ┆ ---      ┆ ---       │\n",
       "│ str    ┆ str        ┆ ---        ┆ str        ┆   ┆ i64        ┆ f64      ┆ f64      ┆ str       │\n",
       "│        ┆            ┆ str        ┆            ┆   ┆            ┆          ┆          ┆           │\n",
       "╞════════╪════════════╪════════════╪════════════╪═══╪════════════╪══════════╪══════════╪═══════════╡\n",
       "│ BBJ    ┆ AD         ┆ Atopic     ┆ Diagnosis  ┆ … ┆ 163807     ┆ null     ┆ null     ┆ NA        │\n",
       "│        ┆            ┆ dermatitis ┆ by profess ┆   ┆            ┆          ┆          ┆           │\n",
       "│        ┆            ┆ (Eczema)   ┆ ional      ┆   ┆            ┆          ┆          ┆           │\n",
       "│        ┆            ┆            ┆ phys…      ┆   ┆            ┆          ┆          ┆           │\n",
       "│ FG     ┆ AD         ┆ Atopic     ┆ FinnGen:   ┆ … ┆ 236161     ┆ null     ┆ null     ┆ NA        │\n",
       "│        ┆            ┆ dermatitis ┆ L12_ATOPIC ┆   ┆            ┆          ┆          ┆           │\n",
       "│ UKBB   ┆ AD         ┆ Atopic     ┆ Phecode    ┆ … ┆ 355768     ┆ null     ┆ null     ┆ NA        │\n",
       "│        ┆            ┆ dermatitis ┆ 939        ┆   ┆            ┆          ┆          ┆           │\n",
       "│ BBJ    ┆ AFib       ┆ Atrial fib ┆ Diagnosis  ┆ … ┆ 155540     ┆ null     ┆ null     ┆ NA        │\n",
       "│        ┆            ┆ rillation  ┆ by profess ┆   ┆            ┆          ┆          ┆           │\n",
       "│        ┆            ┆            ┆ ional      ┆   ┆            ┆          ┆          ┆           │\n",
       "│        ┆            ┆            ┆ phys…      ┆   ┆            ┆          ┆          ┆           │\n",
       "│ FG     ┆ AFib       ┆ Atrial fib ┆ FinnGen:   ┆ … ┆ 135821     ┆ null     ┆ null     ┆ NA        │\n",
       "│        ┆            ┆ rillation  ┆ I9_AF      ┆   ┆            ┆          ┆          ┆           │\n",
       "│        ┆            ┆ and        ┆            ┆   ┆            ┆          ┆          ┆           │\n",
       "│        ┆            ┆ flutte…    ┆            ┆   ┆            ┆          ┆          ┆           │\n",
       "│ …      ┆ …          ┆ …          ┆ …          ┆ … ┆ …          ┆ …        ┆ …        ┆ …         │\n",
       "│ BBJ    ┆ WBC        ┆ White      ┆ Retrieved  ┆ … ┆ null       ┆ 6.141576 ┆ 1.907689 ┆ 10^9      │\n",
       "│        ┆            ┆ blood cell ┆ from       ┆   ┆            ┆          ┆          ┆ cells/L   │\n",
       "│        ┆            ┆ count      ┆ medical    ┆   ┆            ┆          ┆          ┆           │\n",
       "│        ┆            ┆            ┆ records…   ┆   ┆            ┆          ┆          ┆           │\n",
       "│ UKBB   ┆ WBC        ┆ White      ┆ UKBB:      ┆ … ┆ null       ┆ 6.888665 ┆ 2.034034 ┆ 10^9      │\n",
       "│        ┆            ┆ blood cell ┆ 30000      ┆   ┆            ┆          ┆          ┆ cells/L   │\n",
       "│        ┆            ┆ count      ┆            ┆   ┆            ┆          ┆          ┆           │\n",
       "│ UKBB   ┆ WHRadjBMI  ┆ Waist-to-h ┆ Waist-to-h ┆ … ┆ null       ┆ 0.871666 ┆ 0.090196 ┆ [ratio]   │\n",
       "│        ┆            ┆ ip ratio   ┆ ip ratio   ┆   ┆            ┆          ┆          ┆           │\n",
       "│        ┆            ┆ (adjusted  ┆ (Waist     ┆   ┆            ┆          ┆          ┆           │\n",
       "│        ┆            ┆ b…         ┆ [UKB…      ┆   ┆            ┆          ┆          ┆           │\n",
       "│ UKBB   ┆ Worrier    ┆ Worrier    ┆ UKBB: 1980 ┆ … ┆ 152350     ┆ null     ┆ null     ┆ NA        │\n",
       "│ UKBB   ┆ Worry_Too_ ┆ Worry too  ┆ UKBB: 2000 ┆ … ┆ 181192     ┆ null     ┆ null     ┆ NA        │\n",
       "│        ┆ Long       ┆ long after ┆            ┆   ┆            ┆          ┆          ┆           │\n",
       "│        ┆            ┆ embarrass… ┆            ┆   ┆            ┆          ┆          ┆           │\n",
       "└────────┴────────────┴────────────┴────────────┴───┴────────────┴──────────┴──────────┴───────────┘"
      ]
     },
     "execution_count": 11,
     "metadata": {},
     "output_type": "execute_result"
    }
   ],
   "source": [
    "ST2 = pl.read_excel(\n",
    "    'insights.xlsx', sheet_name='ST2_overview_traits', read_options=dict(header_row=2)\n",
    ")\n",
    "ST2"
   ]
  },
  {
   "cell_type": "code",
   "execution_count": 13,
   "metadata": {},
   "outputs": [
    {
     "data": {
      "text/html": [
       "<div><style>\n",
       ".dataframe > thead > tr,\n",
       ".dataframe > tbody > tr {\n",
       "  text-align: right;\n",
       "  white-space: pre-wrap;\n",
       "}\n",
       "</style>\n",
       "<small>shape: (67, 11)</small><table border=\"1\" class=\"dataframe\"><thead><tr><th>cohort</th><th>trait</th><th>description</th><th>definition</th><th>model_marginal</th><th>n_samples</th><th>n_cases</th><th>n_controls</th><th>mean</th><th>sd</th><th>unit</th></tr><tr><td>str</td><td>str</td><td>str</td><td>str</td><td>str</td><td>i64</td><td>i64</td><td>i64</td><td>f64</td><td>f64</td><td>str</td></tr></thead><tbody><tr><td>&quot;FG&quot;</td><td>&quot;AD&quot;</td><td>&quot;Atopic dermatitis&quot;</td><td>&quot;FinnGen: L12_ATOPIC&quot;</td><td>&quot;SAIGE&quot;</td><td>244544</td><td>8383</td><td>236161</td><td>null</td><td>null</td><td>&quot;NA&quot;</td></tr><tr><td>&quot;FG&quot;</td><td>&quot;AFib&quot;</td><td>&quot;Atrial fibrillation and flutte…</td><td>&quot;FinnGen: I9_AF&quot;</td><td>&quot;SAIGE&quot;</td><td>164491</td><td>28670</td><td>135821</td><td>null</td><td>null</td><td>&quot;NA&quot;</td></tr><tr><td>&quot;FG&quot;</td><td>&quot;AID&quot;</td><td>&quot;Autoimmune diseases&quot;</td><td>&quot;FinnGen: AUTOIMMUNE&quot;</td><td>&quot;SAIGE&quot;</td><td>260405</td><td>52657</td><td>207748</td><td>null</td><td>null</td><td>&quot;NA&quot;</td></tr><tr><td>&quot;FG&quot;</td><td>&quot;Alzheimer&quot;</td><td>&quot;Alzheimer’s disease, wide defi…</td><td>&quot;FinnGen: G6_AD_WIDE&quot;</td><td>&quot;SAIGE&quot;</td><td>260208</td><td>7329</td><td>252879</td><td>null</td><td>null</td><td>&quot;NA&quot;</td></tr><tr><td>&quot;FG&quot;</td><td>&quot;AMD&quot;</td><td>&quot;Age-related macular degenerati…</td><td>&quot;FinnGen: H7_AMD&quot;</td><td>&quot;SAIGE&quot;</td><td>248596</td><td>4645</td><td>243951</td><td>null</td><td>null</td><td>&quot;NA&quot;</td></tr><tr><td>&hellip;</td><td>&hellip;</td><td>&hellip;</td><td>&hellip;</td><td>&hellip;</td><td>&hellip;</td><td>&hellip;</td><td>&hellip;</td><td>&hellip;</td><td>&hellip;</td><td>&hellip;</td></tr><tr><td>&quot;FG&quot;</td><td>&quot;UC&quot;</td><td>&quot;Ulcerative colitis (strict def…</td><td>&quot;FinnGen: K11_UC_NOCD&quot;</td><td>&quot;SAIGE&quot;</td><td>252473</td><td>2768</td><td>249705</td><td>null</td><td>null</td><td>&quot;NA&quot;</td></tr><tr><td>&quot;FG&quot;</td><td>&quot;UF&quot;</td><td>&quot;Leiomyoma of uterus&quot;</td><td>&quot;FinnGen: CD2_BENIGN_LEIOMYOMA_…</td><td>&quot;SAIGE&quot;</td><td>147061</td><td>21518</td><td>125543</td><td>null</td><td>null</td><td>&quot;NA&quot;</td></tr><tr><td>&quot;FG&quot;</td><td>&quot;Urolithiasis&quot;</td><td>&quot;Urolithiasis&quot;</td><td>&quot;FinnGen: N14_UROLITHIASIS&quot;</td><td>&quot;SAIGE&quot;</td><td>260405</td><td>6462</td><td>253943</td><td>null</td><td>null</td><td>&quot;NA&quot;</td></tr><tr><td>&quot;FG&quot;</td><td>&quot;Varicose_Veins&quot;</td><td>&quot;Varicose veins&quot;</td><td>&quot;FinnGen: I9_VARICVE&quot;</td><td>&quot;SAIGE&quot;</td><td>246160</td><td>20425</td><td>225735</td><td>null</td><td>null</td><td>&quot;NA&quot;</td></tr><tr><td>&quot;FG&quot;</td><td>&quot;VTE&quot;</td><td>&quot;Venous thromboembolism&quot;</td><td>&quot;FinnGen: I9_VTE&quot;</td><td>&quot;SAIGE&quot;</td><td>260405</td><td>11288</td><td>249117</td><td>null</td><td>null</td><td>&quot;NA&quot;</td></tr></tbody></table></div>"
      ],
      "text/plain": [
       "shape: (67, 11)\n",
       "┌────────┬────────────────┬─────────────────┬────────────────┬───┬────────────┬──────┬──────┬──────┐\n",
       "│ cohort ┆ trait          ┆ description     ┆ definition     ┆ … ┆ n_controls ┆ mean ┆ sd   ┆ unit │\n",
       "│ ---    ┆ ---            ┆ ---             ┆ ---            ┆   ┆ ---        ┆ ---  ┆ ---  ┆ ---  │\n",
       "│ str    ┆ str            ┆ str             ┆ str            ┆   ┆ i64        ┆ f64  ┆ f64  ┆ str  │\n",
       "╞════════╪════════════════╪═════════════════╪════════════════╪═══╪════════════╪══════╪══════╪══════╡\n",
       "│ FG     ┆ AD             ┆ Atopic          ┆ FinnGen:       ┆ … ┆ 236161     ┆ null ┆ null ┆ NA   │\n",
       "│        ┆                ┆ dermatitis      ┆ L12_ATOPIC     ┆   ┆            ┆      ┆      ┆      │\n",
       "│ FG     ┆ AFib           ┆ Atrial          ┆ FinnGen: I9_AF ┆ … ┆ 135821     ┆ null ┆ null ┆ NA   │\n",
       "│        ┆                ┆ fibrillation    ┆                ┆   ┆            ┆      ┆      ┆      │\n",
       "│        ┆                ┆ and flutte…     ┆                ┆   ┆            ┆      ┆      ┆      │\n",
       "│ FG     ┆ AID            ┆ Autoimmune      ┆ FinnGen:       ┆ … ┆ 207748     ┆ null ┆ null ┆ NA   │\n",
       "│        ┆                ┆ diseases        ┆ AUTOIMMUNE     ┆   ┆            ┆      ┆      ┆      │\n",
       "│ FG     ┆ Alzheimer      ┆ Alzheimer’s     ┆ FinnGen:       ┆ … ┆ 252879     ┆ null ┆ null ┆ NA   │\n",
       "│        ┆                ┆ disease, wide   ┆ G6_AD_WIDE     ┆   ┆            ┆      ┆      ┆      │\n",
       "│        ┆                ┆ defi…           ┆                ┆   ┆            ┆      ┆      ┆      │\n",
       "│ FG     ┆ AMD            ┆ Age-related     ┆ FinnGen:       ┆ … ┆ 243951     ┆ null ┆ null ┆ NA   │\n",
       "│        ┆                ┆ macular         ┆ H7_AMD         ┆   ┆            ┆      ┆      ┆      │\n",
       "│        ┆                ┆ degenerati…     ┆                ┆   ┆            ┆      ┆      ┆      │\n",
       "│ …      ┆ …              ┆ …               ┆ …              ┆ … ┆ …          ┆ …    ┆ …    ┆ …    │\n",
       "│ FG     ┆ UC             ┆ Ulcerative      ┆ FinnGen:       ┆ … ┆ 249705     ┆ null ┆ null ┆ NA   │\n",
       "│        ┆                ┆ colitis (strict ┆ K11_UC_NOCD    ┆   ┆            ┆      ┆      ┆      │\n",
       "│        ┆                ┆ def…            ┆                ┆   ┆            ┆      ┆      ┆      │\n",
       "│ FG     ┆ UF             ┆ Leiomyoma of    ┆ FinnGen: CD2_B ┆ … ┆ 125543     ┆ null ┆ null ┆ NA   │\n",
       "│        ┆                ┆ uterus          ┆ ENIGN_LEIOMYOM ┆   ┆            ┆      ┆      ┆      │\n",
       "│        ┆                ┆                 ┆ A_…            ┆   ┆            ┆      ┆      ┆      │\n",
       "│ FG     ┆ Urolithiasis   ┆ Urolithiasis    ┆ FinnGen: N14_U ┆ … ┆ 253943     ┆ null ┆ null ┆ NA   │\n",
       "│        ┆                ┆                 ┆ ROLITHIASIS    ┆   ┆            ┆      ┆      ┆      │\n",
       "│ FG     ┆ Varicose_Veins ┆ Varicose veins  ┆ FinnGen:       ┆ … ┆ 225735     ┆ null ┆ null ┆ NA   │\n",
       "│        ┆                ┆                 ┆ I9_VARICVE     ┆   ┆            ┆      ┆      ┆      │\n",
       "│ FG     ┆ VTE            ┆ Venous          ┆ FinnGen:       ┆ … ┆ 249117     ┆ null ┆ null ┆ NA   │\n",
       "│        ┆                ┆ thromboembolism ┆ I9_VTE         ┆   ┆            ┆      ┆      ┆      │\n",
       "└────────┴────────────────┴─────────────────┴────────────────┴───┴────────────┴──────┴──────┴──────┘"
      ]
     },
     "execution_count": 13,
     "metadata": {},
     "output_type": "execute_result"
    }
   ],
   "source": [
    "ST2.filter(cohort=\"FG\")"
   ]
  },
  {
   "cell_type": "code",
   "execution_count": 3,
   "metadata": {},
   "outputs": [
    {
     "data": {
      "text/html": [
       "<div><style>\n",
       ".dataframe > thead > tr,\n",
       ".dataframe > tbody > tr {\n",
       "  text-align: right;\n",
       "  white-space: pre-wrap;\n",
       "}\n",
       "</style>\n",
       "<small>shape: (4_665, 73)</small><table border=\"1\" class=\"dataframe\"><thead><tr><th>variant</th><th>rsid</th><th>trait</th><th>cohort</th><th>consequence</th><th>most_severe</th><th>gene_most_severe</th><th>clinvar</th><th>max_pip_coloc</th><th>tissue_max_pip_coloc</th><th>af</th><th>beta_marginal</th><th>se_marginal</th><th>pvalue</th><th>pip</th><th>susie.pip</th><th>susie.cs_id</th><th>susie.beta_posterior</th><th>susie.sd_posterior</th><th>finemap.pip</th><th>finemap.cs_id</th><th>finemap.beta_posterior</th><th>finemap.sd_posterior</th><th>Ancient_Sequence_Age_Human_Enhancer</th><th>Ancient_Sequence_Age_Human_Promoter</th><th>BivFlnk</th><th>CTCF_Hoffman</th><th>Coding_UCSC</th><th>Conserved_LindbladToh</th><th>Conserved_Mammal_phastCons46way</th><th>Conserved_Primate_phastCons46way</th><th>Conserved_Vertebrate_phastCons46way</th><th>DGF_ENCODE</th><th>DHS_Trynka</th><th>DHS_peaks_Trynka</th><th>Enhancer_Andersson</th><th>Enhancer_Hoffman</th><th>FetalDHS_Trynka</th><th>H3K27ac_Hnisz</th><th>H3K27ac_PGC2</th><th>H3K4me1_Trynka</th><th>H3K4me1_peaks_Trynka</th><th>H3K4me3_Trynka</th><th>H3K4me3_peaks_Trynka</th><th>H3K9ac_Trynka</th><th>H3K9ac_peaks_Trynka</th><th>Human_Enhancer_Villar</th><th>Human_Promoter_Villar</th><th>Human_Promoter_Villar_ExAC</th><th>Intron_UCSC</th><th>PromoterFlanking_Hoffman</th><th>Promoter_UCSC</th><th>Repressed_Hoffman</th><th>SuperEnhancer_Hnisz</th><th>TFBS_ENCODE</th><th>TSS_Hoffman</th><th>Transcribed_Hoffman</th><th>UTR_3_UCSC</th><th>UTR_5_UCSC</th><th>Vahedi_Tcell_SE</th><th>Vahedi_Tcell_TE</th><th>WeakEnhancer_Hoffman</th><th>ASMC</th><th>Backgrd_Selection_Stat</th><th>BLUEPRINT_FE_META_TISSUE_DNAMETH_MaxCPP</th><th>BLUEPRINT_FE_META_TISSUE_H3K27ac_MaxCPP</th><th>BLUEPRINT_FE_META_TISSUE_H3K4me1_MaxCPP</th><th>GTEx_FE_META_TISSUE_GE_MaxCPP</th><th>Human_Enhancer_Villar_Species_Enhancer_Count</th><th>alleleage</th><th>DHSmerged_Ulirsch</th><th>Roadmap_H3K27ac_Ulirsch</th><th>CA_H3K27ac_Ulirsch</th></tr><tr><td>str</td><td>str</td><td>str</td><td>str</td><td>str</td><td>str</td><td>str</td><td>str</td><td>f64</td><td>str</td><td>f64</td><td>f64</td><td>f64</td><td>f64</td><td>f64</td><td>f64</td><td>i64</td><td>f64</td><td>f64</td><td>f64</td><td>i64</td><td>f64</td><td>f64</td><td>i64</td><td>i64</td><td>i64</td><td>i64</td><td>i64</td><td>i64</td><td>i64</td><td>i64</td><td>i64</td><td>i64</td><td>i64</td><td>i64</td><td>i64</td><td>i64</td><td>i64</td><td>i64</td><td>i64</td><td>i64</td><td>i64</td><td>i64</td><td>i64</td><td>i64</td><td>i64</td><td>i64</td><td>i64</td><td>i64</td><td>i64</td><td>i64</td><td>i64</td><td>i64</td><td>i64</td><td>i64</td><td>i64</td><td>i64</td><td>i64</td><td>i64</td><td>i64</td><td>i64</td><td>i64</td><td>f64</td><td>f64</td><td>f64</td><td>f64</td><td>f64</td><td>f64</td><td>i64</td><td>f64</td><td>i64</td><td>i64</td><td>i64</td></tr></thead><tbody><tr><td>&quot;1:1065296:T:C&quot;</td><td>&quot;rs4072537&quot;</td><td>&quot;P&quot;</td><td>&quot;UKBB&quot;</td><td>&quot;Non-genic&quot;</td><td>&quot;intergenic_variant&quot;</td><td>&quot;NA&quot;</td><td>&quot;NA&quot;</td><td>null</td><td>&quot;NA&quot;</td><td>0.68127</td><td>-0.014632</td><td>0.0025222</td><td>6.6000e-9</td><td>0.99291</td><td>0.99592</td><td>1</td><td>-0.014112</td><td>0.0026386</td><td>0.98991</td><td>1</td><td>-0.015451</td><td>0.0031034</td><td>0</td><td>0</td><td>0</td><td>0</td><td>0</td><td>0</td><td>0</td><td>0</td><td>0</td><td>0</td><td>0</td><td>0</td><td>0</td><td>0</td><td>0</td><td>1</td><td>1</td><td>1</td><td>0</td><td>1</td><td>0</td><td>1</td><td>0</td><td>0</td><td>0</td><td>0</td><td>0</td><td>1</td><td>0</td><td>0</td><td>1</td><td>0</td><td>0</td><td>0</td><td>0</td><td>0</td><td>0</td><td>0</td><td>0</td><td>15184.0</td><td>0.06</td><td>1.0</td><td>null</td><td>null</td><td>null</td><td>null</td><td>55558.0</td><td>0</td><td>1</td><td>0</td></tr><tr><td>&quot;1:2205581:C:A&quot;</td><td>&quot;rs12045693&quot;</td><td>&quot;Height&quot;</td><td>&quot;FG&quot;</td><td>&quot;CRE&quot;</td><td>&quot;intron_variant&quot;</td><td>&quot;SKI&quot;</td><td>&quot;NA&quot;</td><td>null</td><td>&quot;NA&quot;</td><td>0.45439</td><td>0.013377</td><td>0.0021935</td><td>1.1000e-9</td><td>0.95993</td><td>0.96102</td><td>1</td><td>0.012205</td><td>0.0032456</td><td>0.95884</td><td>1</td><td>0.018533</td><td>0.025617</td><td>0</td><td>0</td><td>0</td><td>0</td><td>0</td><td>0</td><td>0</td><td>0</td><td>0</td><td>0</td><td>0</td><td>0</td><td>0</td><td>0</td><td>0</td><td>1</td><td>1</td><td>1</td><td>0</td><td>1</td><td>1</td><td>1</td><td>1</td><td>1</td><td>0</td><td>0</td><td>1</td><td>0</td><td>0</td><td>0</td><td>1</td><td>0</td><td>0</td><td>1</td><td>0</td><td>0</td><td>1</td><td>0</td><td>0</td><td>15579.0</td><td>0.072</td><td>0.99999</td><td>null</td><td>null</td><td>null</td><td>2</td><td>29400.0</td><td>1</td><td>1</td><td>0</td></tr><tr><td>&quot;1:2224836:G:A&quot;</td><td>&quot;rs12743493&quot;</td><td>&quot;Height&quot;</td><td>&quot;UKBB&quot;</td><td>&quot;Non-genic&quot;</td><td>&quot;intron_variant&quot;</td><td>&quot;SKI&quot;</td><td>&quot;NA&quot;</td><td>null</td><td>&quot;NA&quot;</td><td>0.3707</td><td>0.0094761</td><td>0.0013345</td><td>1.2000e-12</td><td>0.99993</td><td>0.99986</td><td>3</td><td>0.010871</td><td>0.0013301</td><td>1.0</td><td>5</td><td>0.020761</td><td>0.0025061</td><td>0</td><td>0</td><td>0</td><td>0</td><td>0</td><td>0</td><td>0</td><td>0</td><td>0</td><td>0</td><td>0</td><td>0</td><td>0</td><td>0</td><td>0</td><td>1</td><td>1</td><td>1</td><td>1</td><td>1</td><td>0</td><td>1</td><td>0</td><td>0</td><td>0</td><td>0</td><td>1</td><td>0</td><td>0</td><td>0</td><td>1</td><td>0</td><td>0</td><td>1</td><td>0</td><td>0</td><td>1</td><td>0</td><td>0</td><td>17914.0</td><td>0.089</td><td>null</td><td>null</td><td>null</td><td>null</td><td>null</td><td>21099.0</td><td>0</td><td>1</td><td>0</td></tr><tr><td>&quot;1:2242249:CAG:C&quot;</td><td>&quot;rs74911766&quot;</td><td>&quot;Height&quot;</td><td>&quot;UKBB&quot;</td><td>&quot;CRE&quot;</td><td>&quot;downstream_gene_variant&quot;</td><td>&quot;SKI&quot;</td><td>&quot;NA&quot;</td><td>null</td><td>&quot;NA&quot;</td><td>0.20641</td><td>-0.007188</td><td>0.0016081</td><td>0.0000078</td><td>0.99119</td><td>0.98238</td><td>6</td><td>-0.008901</td><td>0.0019706</td><td>1.0</td><td>6</td><td>-0.017673</td><td>0.002994</td><td>0</td><td>0</td><td>0</td><td>0</td><td>0</td><td>0</td><td>0</td><td>0</td><td>0</td><td>0</td><td>0</td><td>0</td><td>0</td><td>0</td><td>0</td><td>1</td><td>1</td><td>1</td><td>0</td><td>1</td><td>0</td><td>1</td><td>0</td><td>0</td><td>0</td><td>0</td><td>0</td><td>0</td><td>0</td><td>0</td><td>1</td><td>1</td><td>0</td><td>1</td><td>0</td><td>0</td><td>1</td><td>0</td><td>0</td><td>null</td><td>0.112</td><td>null</td><td>null</td><td>null</td><td>null</td><td>null</td><td>null</td><td>1</td><td>1</td><td>0</td></tr><tr><td>&quot;1:2996602:T:C&quot;</td><td>&quot;rs1569419&quot;</td><td>&quot;MCH&quot;</td><td>&quot;UKBB&quot;</td><td>&quot;CRE&quot;</td><td>&quot;intron_variant&quot;</td><td>&quot;PRDM16&quot;</td><td>&quot;NA&quot;</td><td>null</td><td>&quot;NA&quot;</td><td>0.76714</td><td>-0.029702</td><td>0.0025439</td><td>1.7000e-31</td><td>0.99958</td><td>1.0</td><td>1</td><td>-0.028994</td><td>0.0025344</td><td>0.99916</td><td>1</td><td>-0.032396</td><td>0.0029847</td><td>0</td><td>0</td><td>0</td><td>0</td><td>0</td><td>0</td><td>0</td><td>0</td><td>0</td><td>0</td><td>0</td><td>0</td><td>0</td><td>0</td><td>0</td><td>1</td><td>1</td><td>1</td><td>1</td><td>1</td><td>0</td><td>1</td><td>0</td><td>0</td><td>0</td><td>0</td><td>1</td><td>0</td><td>0</td><td>0</td><td>1</td><td>0</td><td>0</td><td>0</td><td>0</td><td>0</td><td>0</td><td>0</td><td>0</td><td>21654.0</td><td>0.027</td><td>1.0</td><td>0.25394</td><td>null</td><td>null</td><td>null</td><td>15896.0</td><td>1</td><td>1</td><td>0</td></tr><tr><td>&hellip;</td><td>&hellip;</td><td>&hellip;</td><td>&hellip;</td><td>&hellip;</td><td>&hellip;</td><td>&hellip;</td><td>&hellip;</td><td>&hellip;</td><td>&hellip;</td><td>&hellip;</td><td>&hellip;</td><td>&hellip;</td><td>&hellip;</td><td>&hellip;</td><td>&hellip;</td><td>&hellip;</td><td>&hellip;</td><td>&hellip;</td><td>&hellip;</td><td>&hellip;</td><td>&hellip;</td><td>&hellip;</td><td>&hellip;</td><td>&hellip;</td><td>&hellip;</td><td>&hellip;</td><td>&hellip;</td><td>&hellip;</td><td>&hellip;</td><td>&hellip;</td><td>&hellip;</td><td>&hellip;</td><td>&hellip;</td><td>&hellip;</td><td>&hellip;</td><td>&hellip;</td><td>&hellip;</td><td>&hellip;</td><td>&hellip;</td><td>&hellip;</td><td>&hellip;</td><td>&hellip;</td><td>&hellip;</td><td>&hellip;</td><td>&hellip;</td><td>&hellip;</td><td>&hellip;</td><td>&hellip;</td><td>&hellip;</td><td>&hellip;</td><td>&hellip;</td><td>&hellip;</td><td>&hellip;</td><td>&hellip;</td><td>&hellip;</td><td>&hellip;</td><td>&hellip;</td><td>&hellip;</td><td>&hellip;</td><td>&hellip;</td><td>&hellip;</td><td>&hellip;</td><td>&hellip;</td><td>&hellip;</td><td>&hellip;</td><td>&hellip;</td><td>&hellip;</td><td>&hellip;</td><td>&hellip;</td><td>&hellip;</td><td>&hellip;</td><td>&hellip;</td></tr><tr><td>&quot;X:147583958:G:A&quot;</td><td>&quot;rs1978082&quot;</td><td>&quot;Mono&quot;</td><td>&quot;UKBB&quot;</td><td>&quot;Promoter&quot;</td><td>&quot;intron_variant&quot;</td><td>&quot;AFF2&quot;</td><td>&quot;NA&quot;</td><td>null</td><td>&quot;NA&quot;</td><td>0.57385</td><td>-0.019647</td><td>0.0018135</td><td>2.4000e-27</td><td>0.98734</td><td>0.99995</td><td>1</td><td>-0.017807</td><td>0.0018088</td><td>0.97472</td><td>1</td><td>-0.025187</td><td>0.0067275</td><td>0</td><td>0</td><td>1</td><td>0</td><td>0</td><td>0</td><td>0</td><td>1</td><td>1</td><td>1</td><td>1</td><td>1</td><td>0</td><td>0</td><td>1</td><td>1</td><td>0</td><td>1</td><td>1</td><td>1</td><td>0</td><td>1</td><td>0</td><td>0</td><td>0</td><td>0</td><td>0</td><td>1</td><td>1</td><td>0</td><td>0</td><td>0</td><td>0</td><td>0</td><td>0</td><td>0</td><td>0</td><td>0</td><td>0</td><td>null</td><td>null</td><td>null</td><td>null</td><td>null</td><td>null</td><td>null</td><td>null</td><td>0</td><td>0</td><td>1</td></tr><tr><td>&quot;X:151524113:C:T&quot;</td><td>&quot;rs145334807&quot;</td><td>&quot;IGF1&quot;</td><td>&quot;UKBB&quot;</td><td>&quot;Non-genic&quot;</td><td>&quot;intron_variant&quot;</td><td>&quot;GABRA3&quot;</td><td>&quot;NA&quot;</td><td>null</td><td>&quot;NA&quot;</td><td>0.021488</td><td>-0.041321</td><td>0.0065418</td><td>2.7000e-10</td><td>0.98589</td><td>0.98052</td><td>2</td><td>-0.041709</td><td>0.0086931</td><td>0.99126</td><td>2</td><td>-0.05493</td><td>0.0097754</td><td>0</td><td>0</td><td>0</td><td>0</td><td>0</td><td>0</td><td>0</td><td>0</td><td>0</td><td>0</td><td>0</td><td>0</td><td>0</td><td>0</td><td>0</td><td>0</td><td>0</td><td>0</td><td>0</td><td>0</td><td>0</td><td>0</td><td>0</td><td>0</td><td>0</td><td>0</td><td>0</td><td>0</td><td>0</td><td>0</td><td>0</td><td>0</td><td>0</td><td>0</td><td>0</td><td>0</td><td>0</td><td>0</td><td>0</td><td>null</td><td>null</td><td>null</td><td>null</td><td>null</td><td>null</td><td>null</td><td>null</td><td>0</td><td>0</td><td>0</td></tr><tr><td>&quot;X:153192349:C:A&quot;</td><td>&quot;rs79022793&quot;</td><td>&quot;Lym&quot;</td><td>&quot;BBJ&quot;</td><td>&quot;Promoter&quot;</td><td>&quot;upstream_gene_variant&quot;</td><td>&quot;ARHGAP4&quot;</td><td>&quot;NA&quot;</td><td>null</td><td>&quot;NA&quot;</td><td>0.15859</td><td>0.03174</td><td>0.0057866</td><td>4.1000e-8</td><td>0.94485</td><td>0.95949</td><td>1</td><td>0.029085</td><td>0.0081695</td><td>0.93022</td><td>1</td><td>0.0316</td><td>0.010643</td><td>0</td><td>1</td><td>1</td><td>0</td><td>0</td><td>0</td><td>0</td><td>0</td><td>0</td><td>1</td><td>1</td><td>1</td><td>0</td><td>1</td><td>1</td><td>1</td><td>0</td><td>1</td><td>1</td><td>1</td><td>0</td><td>1</td><td>0</td><td>0</td><td>1</td><td>0</td><td>0</td><td>0</td><td>1</td><td>0</td><td>1</td><td>1</td><td>1</td><td>0</td><td>0</td><td>0</td><td>1</td><td>0</td><td>0</td><td>null</td><td>null</td><td>null</td><td>null</td><td>null</td><td>null</td><td>null</td><td>null</td><td>1</td><td>0</td><td>1</td></tr><tr><td>&quot;X:153192433:C:A&quot;</td><td>&quot;rs2269369&quot;</td><td>&quot;Plt&quot;</td><td>&quot;BBJ&quot;</td><td>&quot;Promoter&quot;</td><td>&quot;upstream_gene_variant&quot;</td><td>&quot;ARHGAP4&quot;</td><td>&quot;NA&quot;</td><td>null</td><td>&quot;NA&quot;</td><td>0.27361</td><td>0.028409</td><td>0.0034444</td><td>1.6000e-16</td><td>0.99993</td><td>0.99993</td><td>1</td><td>0.027989</td><td>0.0034271</td><td>0.99994</td><td>1</td><td>0.033834</td><td>0.0041318</td><td>0</td><td>1</td><td>1</td><td>0</td><td>0</td><td>0</td><td>0</td><td>0</td><td>0</td><td>1</td><td>1</td><td>1</td><td>0</td><td>1</td><td>1</td><td>1</td><td>0</td><td>1</td><td>1</td><td>1</td><td>0</td><td>1</td><td>0</td><td>0</td><td>1</td><td>0</td><td>0</td><td>0</td><td>1</td><td>0</td><td>1</td><td>1</td><td>1</td><td>0</td><td>0</td><td>0</td><td>1</td><td>0</td><td>0</td><td>null</td><td>null</td><td>null</td><td>null</td><td>null</td><td>null</td><td>null</td><td>null</td><td>1</td><td>0</td><td>1</td></tr><tr><td>&quot;X:153525595:G:GT&quot;</td><td>&quot;rs142646789&quot;</td><td>&quot;WBC&quot;</td><td>&quot;UKBB&quot;</td><td>&quot;Promoter&quot;</td><td>&quot;intron_variant&quot;</td><td>&quot;TKTL1&quot;</td><td>&quot;NA&quot;</td><td>null</td><td>&quot;NA&quot;</td><td>0.092245</td><td>-0.027059</td><td>0.0033046</td><td>2.6000e-16</td><td>0.94476</td><td>0.94881</td><td>1</td><td>-0.024754</td><td>0.006577</td><td>0.94072</td><td>1</td><td>-0.031296</td><td>0.008976</td><td>0</td><td>0</td><td>0</td><td>0</td><td>0</td><td>0</td><td>0</td><td>0</td><td>0</td><td>0</td><td>0</td><td>0</td><td>0</td><td>0</td><td>0</td><td>0</td><td>0</td><td>1</td><td>0</td><td>0</td><td>0</td><td>0</td><td>0</td><td>0</td><td>0</td><td>0</td><td>0</td><td>0</td><td>1</td><td>0</td><td>0</td><td>1</td><td>0</td><td>0</td><td>0</td><td>0</td><td>0</td><td>0</td><td>0</td><td>null</td><td>null</td><td>null</td><td>null</td><td>null</td><td>null</td><td>null</td><td>null</td><td>0</td><td>0</td><td>0</td></tr></tbody></table></div>"
      ],
      "text/plain": [
       "shape: (4_665, 73)\n",
       "┌────────────┬────────────┬────────┬────────┬───┬───────────┬────────────┬────────────┬────────────┐\n",
       "│ variant    ┆ rsid       ┆ trait  ┆ cohort ┆ … ┆ alleleage ┆ DHSmerged_ ┆ Roadmap_H3 ┆ CA_H3K27ac │\n",
       "│ ---        ┆ ---        ┆ ---    ┆ ---    ┆   ┆ ---       ┆ Ulirsch    ┆ K27ac_Ulir ┆ _Ulirsch   │\n",
       "│ str        ┆ str        ┆ str    ┆ str    ┆   ┆ f64       ┆ ---        ┆ sch        ┆ ---        │\n",
       "│            ┆            ┆        ┆        ┆   ┆           ┆ i64        ┆ ---        ┆ i64        │\n",
       "│            ┆            ┆        ┆        ┆   ┆           ┆            ┆ i64        ┆            │\n",
       "╞════════════╪════════════╪════════╪════════╪═══╪═══════════╪════════════╪════════════╪════════════╡\n",
       "│ 1:1065296: ┆ rs4072537  ┆ P      ┆ UKBB   ┆ … ┆ 55558.0   ┆ 0          ┆ 1          ┆ 0          │\n",
       "│ T:C        ┆            ┆        ┆        ┆   ┆           ┆            ┆            ┆            │\n",
       "│ 1:2205581: ┆ rs12045693 ┆ Height ┆ FG     ┆ … ┆ 29400.0   ┆ 1          ┆ 1          ┆ 0          │\n",
       "│ C:A        ┆            ┆        ┆        ┆   ┆           ┆            ┆            ┆            │\n",
       "│ 1:2224836: ┆ rs12743493 ┆ Height ┆ UKBB   ┆ … ┆ 21099.0   ┆ 0          ┆ 1          ┆ 0          │\n",
       "│ G:A        ┆            ┆        ┆        ┆   ┆           ┆            ┆            ┆            │\n",
       "│ 1:2242249: ┆ rs74911766 ┆ Height ┆ UKBB   ┆ … ┆ null      ┆ 1          ┆ 1          ┆ 0          │\n",
       "│ CAG:C      ┆            ┆        ┆        ┆   ┆           ┆            ┆            ┆            │\n",
       "│ 1:2996602: ┆ rs1569419  ┆ MCH    ┆ UKBB   ┆ … ┆ 15896.0   ┆ 1          ┆ 1          ┆ 0          │\n",
       "│ T:C        ┆            ┆        ┆        ┆   ┆           ┆            ┆            ┆            │\n",
       "│ …          ┆ …          ┆ …      ┆ …      ┆ … ┆ …         ┆ …          ┆ …          ┆ …          │\n",
       "│ X:14758395 ┆ rs1978082  ┆ Mono   ┆ UKBB   ┆ … ┆ null      ┆ 0          ┆ 0          ┆ 1          │\n",
       "│ 8:G:A      ┆            ┆        ┆        ┆   ┆           ┆            ┆            ┆            │\n",
       "│ X:15152411 ┆ rs14533480 ┆ IGF1   ┆ UKBB   ┆ … ┆ null      ┆ 0          ┆ 0          ┆ 0          │\n",
       "│ 3:C:T      ┆ 7          ┆        ┆        ┆   ┆           ┆            ┆            ┆            │\n",
       "│ X:15319234 ┆ rs79022793 ┆ Lym    ┆ BBJ    ┆ … ┆ null      ┆ 1          ┆ 0          ┆ 1          │\n",
       "│ 9:C:A      ┆            ┆        ┆        ┆   ┆           ┆            ┆            ┆            │\n",
       "│ X:15319243 ┆ rs2269369  ┆ Plt    ┆ BBJ    ┆ … ┆ null      ┆ 1          ┆ 0          ┆ 1          │\n",
       "│ 3:C:A      ┆            ┆        ┆        ┆   ┆           ┆            ┆            ┆            │\n",
       "│ X:15352559 ┆ rs14264678 ┆ WBC    ┆ UKBB   ┆ … ┆ null      ┆ 0          ┆ 0          ┆ 0          │\n",
       "│ 5:G:GT     ┆ 9          ┆        ┆        ┆   ┆           ┆            ┆            ┆            │\n",
       "└────────────┴────────────┴────────┴────────┴───┴───────────┴────────────┴────────────┴────────────┘"
      ]
     },
     "execution_count": 3,
     "metadata": {},
     "output_type": "execute_result"
    }
   ],
   "source": [
    "ST3 = pl.read_excel(\n",
    "    'insights.xlsx', sheet_name='ST3_high_PIP_pairs', read_options=dict(header_row=2)\n",
    ")\n",
    "ST3"
   ]
  },
  {
   "cell_type": "code",
   "execution_count": 7,
   "metadata": {},
   "outputs": [
    {
     "data": {
      "text/html": [
       "<div><style>\n",
       ".dataframe > thead > tr,\n",
       ".dataframe > tbody > tr {\n",
       "  text-align: right;\n",
       "  white-space: pre-wrap;\n",
       "}\n",
       "</style>\n",
       "<small>shape: (348, 73)</small><table border=\"1\" class=\"dataframe\"><thead><tr><th>variant</th><th>rsid</th><th>trait</th><th>cohort</th><th>consequence</th><th>most_severe</th><th>gene_most_severe</th><th>clinvar</th><th>max_pip_coloc</th><th>tissue_max_pip_coloc</th><th>af</th><th>beta_marginal</th><th>se_marginal</th><th>pvalue</th><th>pip</th><th>susie.pip</th><th>susie.cs_id</th><th>susie.beta_posterior</th><th>susie.sd_posterior</th><th>finemap.pip</th><th>finemap.cs_id</th><th>finemap.beta_posterior</th><th>finemap.sd_posterior</th><th>Ancient_Sequence_Age_Human_Enhancer</th><th>Ancient_Sequence_Age_Human_Promoter</th><th>BivFlnk</th><th>CTCF_Hoffman</th><th>Coding_UCSC</th><th>Conserved_LindbladToh</th><th>Conserved_Mammal_phastCons46way</th><th>Conserved_Primate_phastCons46way</th><th>Conserved_Vertebrate_phastCons46way</th><th>DGF_ENCODE</th><th>DHS_Trynka</th><th>DHS_peaks_Trynka</th><th>Enhancer_Andersson</th><th>Enhancer_Hoffman</th><th>FetalDHS_Trynka</th><th>H3K27ac_Hnisz</th><th>H3K27ac_PGC2</th><th>H3K4me1_Trynka</th><th>H3K4me1_peaks_Trynka</th><th>H3K4me3_Trynka</th><th>H3K4me3_peaks_Trynka</th><th>H3K9ac_Trynka</th><th>H3K9ac_peaks_Trynka</th><th>Human_Enhancer_Villar</th><th>Human_Promoter_Villar</th><th>Human_Promoter_Villar_ExAC</th><th>Intron_UCSC</th><th>PromoterFlanking_Hoffman</th><th>Promoter_UCSC</th><th>Repressed_Hoffman</th><th>SuperEnhancer_Hnisz</th><th>TFBS_ENCODE</th><th>TSS_Hoffman</th><th>Transcribed_Hoffman</th><th>UTR_3_UCSC</th><th>UTR_5_UCSC</th><th>Vahedi_Tcell_SE</th><th>Vahedi_Tcell_TE</th><th>WeakEnhancer_Hoffman</th><th>ASMC</th><th>Backgrd_Selection_Stat</th><th>BLUEPRINT_FE_META_TISSUE_DNAMETH_MaxCPP</th><th>BLUEPRINT_FE_META_TISSUE_H3K27ac_MaxCPP</th><th>BLUEPRINT_FE_META_TISSUE_H3K4me1_MaxCPP</th><th>GTEx_FE_META_TISSUE_GE_MaxCPP</th><th>Human_Enhancer_Villar_Species_Enhancer_Count</th><th>alleleage</th><th>DHSmerged_Ulirsch</th><th>Roadmap_H3K27ac_Ulirsch</th><th>CA_H3K27ac_Ulirsch</th></tr><tr><td>str</td><td>str</td><td>str</td><td>str</td><td>str</td><td>str</td><td>str</td><td>str</td><td>f64</td><td>str</td><td>f64</td><td>f64</td><td>f64</td><td>f64</td><td>f64</td><td>f64</td><td>i64</td><td>f64</td><td>f64</td><td>f64</td><td>i64</td><td>f64</td><td>f64</td><td>i64</td><td>i64</td><td>i64</td><td>i64</td><td>i64</td><td>i64</td><td>i64</td><td>i64</td><td>i64</td><td>i64</td><td>i64</td><td>i64</td><td>i64</td><td>i64</td><td>i64</td><td>i64</td><td>i64</td><td>i64</td><td>i64</td><td>i64</td><td>i64</td><td>i64</td><td>i64</td><td>i64</td><td>i64</td><td>i64</td><td>i64</td><td>i64</td><td>i64</td><td>i64</td><td>i64</td><td>i64</td><td>i64</td><td>i64</td><td>i64</td><td>i64</td><td>i64</td><td>i64</td><td>i64</td><td>f64</td><td>f64</td><td>f64</td><td>f64</td><td>f64</td><td>f64</td><td>i64</td><td>f64</td><td>i64</td><td>i64</td><td>i64</td></tr></thead><tbody><tr><td>&quot;1:2224836:G:A&quot;</td><td>&quot;rs12743493&quot;</td><td>&quot;Height&quot;</td><td>&quot;UKBB&quot;</td><td>&quot;Non-genic&quot;</td><td>&quot;intron_variant&quot;</td><td>&quot;SKI&quot;</td><td>&quot;NA&quot;</td><td>null</td><td>&quot;NA&quot;</td><td>0.3707</td><td>0.0094761</td><td>0.0013345</td><td>1.2000e-12</td><td>0.99993</td><td>0.99986</td><td>3</td><td>0.010871</td><td>0.0013301</td><td>1.0</td><td>5</td><td>0.020761</td><td>0.0025061</td><td>0</td><td>0</td><td>0</td><td>0</td><td>0</td><td>0</td><td>0</td><td>0</td><td>0</td><td>0</td><td>0</td><td>0</td><td>0</td><td>0</td><td>0</td><td>1</td><td>1</td><td>1</td><td>1</td><td>1</td><td>0</td><td>1</td><td>0</td><td>0</td><td>0</td><td>0</td><td>1</td><td>0</td><td>0</td><td>0</td><td>1</td><td>0</td><td>0</td><td>1</td><td>0</td><td>0</td><td>1</td><td>0</td><td>0</td><td>17914.0</td><td>0.089</td><td>null</td><td>null</td><td>null</td><td>null</td><td>null</td><td>21099.0</td><td>0</td><td>1</td><td>0</td></tr><tr><td>&quot;1:2242249:CAG:C&quot;</td><td>&quot;rs74911766&quot;</td><td>&quot;Height&quot;</td><td>&quot;UKBB&quot;</td><td>&quot;CRE&quot;</td><td>&quot;downstream_gene_variant&quot;</td><td>&quot;SKI&quot;</td><td>&quot;NA&quot;</td><td>null</td><td>&quot;NA&quot;</td><td>0.20641</td><td>-0.007188</td><td>0.0016081</td><td>0.0000078</td><td>0.99119</td><td>0.98238</td><td>6</td><td>-0.008901</td><td>0.0019706</td><td>1.0</td><td>6</td><td>-0.017673</td><td>0.002994</td><td>0</td><td>0</td><td>0</td><td>0</td><td>0</td><td>0</td><td>0</td><td>0</td><td>0</td><td>0</td><td>0</td><td>0</td><td>0</td><td>0</td><td>0</td><td>1</td><td>1</td><td>1</td><td>0</td><td>1</td><td>0</td><td>1</td><td>0</td><td>0</td><td>0</td><td>0</td><td>0</td><td>0</td><td>0</td><td>0</td><td>1</td><td>1</td><td>0</td><td>1</td><td>0</td><td>0</td><td>1</td><td>0</td><td>0</td><td>null</td><td>0.112</td><td>null</td><td>null</td><td>null</td><td>null</td><td>null</td><td>null</td><td>1</td><td>1</td><td>0</td></tr><tr><td>&quot;1:8507773:G:A&quot;</td><td>&quot;rs11581328&quot;</td><td>&quot;Height&quot;</td><td>&quot;UKBB&quot;</td><td>&quot;CRE&quot;</td><td>&quot;intron_variant&quot;</td><td>&quot;RERE&quot;</td><td>&quot;NA&quot;</td><td>null</td><td>&quot;NA&quot;</td><td>0.20845</td><td>0.013206</td><td>0.001599</td><td>1.5000e-16</td><td>0.9903</td><td>0.9903</td><td>4</td><td>0.013268</td><td>0.0020535</td><td>null</td><td>null</td><td>null</td><td>null</td><td>0</td><td>0</td><td>0</td><td>0</td><td>0</td><td>0</td><td>0</td><td>0</td><td>0</td><td>0</td><td>0</td><td>0</td><td>0</td><td>0</td><td>0</td><td>1</td><td>1</td><td>1</td><td>1</td><td>0</td><td>0</td><td>1</td><td>0</td><td>0</td><td>0</td><td>0</td><td>1</td><td>0</td><td>0</td><td>0</td><td>1</td><td>0</td><td>0</td><td>1</td><td>0</td><td>0</td><td>0</td><td>0</td><td>0</td><td>9983.3</td><td>0.393</td><td>null</td><td>null</td><td>0.19408</td><td>null</td><td>null</td><td>2663.2</td><td>1</td><td>1</td><td>0</td></tr><tr><td>&quot;1:22462131:T:G&quot;</td><td>&quot;rs10799737&quot;</td><td>&quot;Height&quot;</td><td>&quot;UKBB&quot;</td><td>&quot;Non-genic&quot;</td><td>&quot;intron_variant&quot;</td><td>&quot;WNT4&quot;</td><td>&quot;NA&quot;</td><td>0.63746</td><td>&quot;monocyte_naive&quot;</td><td>0.66004</td><td>-0.013534</td><td>0.0013544</td><td>1.6000e-23</td><td>0.96695</td><td>0.96695</td><td>8</td><td>-0.011403</td><td>0.0024882</td><td>null</td><td>null</td><td>null</td><td>null</td><td>0</td><td>0</td><td>0</td><td>0</td><td>0</td><td>0</td><td>0</td><td>0</td><td>0</td><td>0</td><td>0</td><td>0</td><td>0</td><td>0</td><td>0</td><td>1</td><td>1</td><td>1</td><td>0</td><td>0</td><td>0</td><td>0</td><td>0</td><td>0</td><td>0</td><td>0</td><td>1</td><td>0</td><td>0</td><td>0</td><td>0</td><td>0</td><td>0</td><td>0</td><td>0</td><td>0</td><td>0</td><td>0</td><td>0</td><td>12045.0</td><td>0.307</td><td>null</td><td>null</td><td>null</td><td>null</td><td>null</td><td>12728.0</td><td>0</td><td>1</td><td>0</td></tr><tr><td>&quot;1:26738382:T:C&quot;</td><td>&quot;rs35184161&quot;</td><td>&quot;Height&quot;</td><td>&quot;UKBB&quot;</td><td>&quot;Promoter&quot;</td><td>&quot;intron_variant&quot;</td><td>&quot;LIN28A&quot;</td><td>&quot;NA&quot;</td><td>null</td><td>&quot;NA&quot;</td><td>0.044454</td><td>0.030268</td><td>0.00317</td><td>1.3000e-21</td><td>0.99929</td><td>0.99929</td><td>9</td><td>0.025118</td><td>0.003211</td><td>null</td><td>null</td><td>null</td><td>null</td><td>0</td><td>0</td><td>0</td><td>0</td><td>0</td><td>1</td><td>1</td><td>1</td><td>1</td><td>1</td><td>1</td><td>0</td><td>0</td><td>0</td><td>0</td><td>1</td><td>1</td><td>1</td><td>0</td><td>1</td><td>0</td><td>1</td><td>0</td><td>0</td><td>0</td><td>0</td><td>1</td><td>0</td><td>1</td><td>0</td><td>1</td><td>1</td><td>1</td><td>0</td><td>0</td><td>0</td><td>0</td><td>0</td><td>0</td><td>13906.0</td><td>0.429</td><td>null</td><td>null</td><td>null</td><td>null</td><td>null</td><td>450.97</td><td>1</td><td>1</td><td>1</td></tr><tr><td>&hellip;</td><td>&hellip;</td><td>&hellip;</td><td>&hellip;</td><td>&hellip;</td><td>&hellip;</td><td>&hellip;</td><td>&hellip;</td><td>&hellip;</td><td>&hellip;</td><td>&hellip;</td><td>&hellip;</td><td>&hellip;</td><td>&hellip;</td><td>&hellip;</td><td>&hellip;</td><td>&hellip;</td><td>&hellip;</td><td>&hellip;</td><td>&hellip;</td><td>&hellip;</td><td>&hellip;</td><td>&hellip;</td><td>&hellip;</td><td>&hellip;</td><td>&hellip;</td><td>&hellip;</td><td>&hellip;</td><td>&hellip;</td><td>&hellip;</td><td>&hellip;</td><td>&hellip;</td><td>&hellip;</td><td>&hellip;</td><td>&hellip;</td><td>&hellip;</td><td>&hellip;</td><td>&hellip;</td><td>&hellip;</td><td>&hellip;</td><td>&hellip;</td><td>&hellip;</td><td>&hellip;</td><td>&hellip;</td><td>&hellip;</td><td>&hellip;</td><td>&hellip;</td><td>&hellip;</td><td>&hellip;</td><td>&hellip;</td><td>&hellip;</td><td>&hellip;</td><td>&hellip;</td><td>&hellip;</td><td>&hellip;</td><td>&hellip;</td><td>&hellip;</td><td>&hellip;</td><td>&hellip;</td><td>&hellip;</td><td>&hellip;</td><td>&hellip;</td><td>&hellip;</td><td>&hellip;</td><td>&hellip;</td><td>&hellip;</td><td>&hellip;</td><td>&hellip;</td><td>&hellip;</td><td>&hellip;</td><td>&hellip;</td><td>&hellip;</td><td>&hellip;</td></tr><tr><td>&quot;X:18257521:T:C&quot;</td><td>&quot;rs137959675&quot;</td><td>&quot;Height&quot;</td><td>&quot;UKBB&quot;</td><td>&quot;UTR3&quot;</td><td>&quot;3_prime_UTR_variant&quot;</td><td>&quot;SCML2&quot;</td><td>&quot;NA&quot;</td><td>null</td><td>&quot;NA&quot;</td><td>0.008709</td><td>-0.041352</td><td>0.0061829</td><td>2.3000e-11</td><td>0.98822</td><td>0.9862</td><td>2</td><td>-0.039878</td><td>0.0076879</td><td>0.99023</td><td>1</td><td>-0.083858</td><td>0.015115</td><td>0</td><td>0</td><td>0</td><td>0</td><td>0</td><td>0</td><td>0</td><td>0</td><td>0</td><td>0</td><td>0</td><td>0</td><td>0</td><td>0</td><td>0</td><td>0</td><td>0</td><td>0</td><td>0</td><td>0</td><td>0</td><td>0</td><td>0</td><td>0</td><td>0</td><td>0</td><td>0</td><td>0</td><td>0</td><td>0</td><td>0</td><td>0</td><td>0</td><td>0</td><td>1</td><td>1</td><td>0</td><td>0</td><td>0</td><td>null</td><td>null</td><td>null</td><td>null</td><td>null</td><td>null</td><td>null</td><td>null</td><td>0</td><td>0</td><td>0</td></tr><tr><td>&quot;X:38009121:G:A&quot;</td><td>&quot;rs35318931&quot;</td><td>&quot;Height&quot;</td><td>&quot;UKBB&quot;</td><td>&quot;Missense&quot;</td><td>&quot;missense_variant&quot;</td><td>&quot;SRPX&quot;</td><td>&quot;NA&quot;</td><td>0.10059</td><td>&quot;Esophagus_Muscularis&quot;</td><td>0.089233</td><td>-0.022796</td><td>0.001918</td><td>1.4000e-32</td><td>0.98587</td><td>0.98564</td><td>1</td><td>-0.022309</td><td>0.0032939</td><td>0.98609</td><td>1</td><td>-0.048468</td><td>0.0071072</td><td>0</td><td>0</td><td>0</td><td>0</td><td>0</td><td>0</td><td>1</td><td>1</td><td>1</td><td>0</td><td>0</td><td>0</td><td>0</td><td>0</td><td>0</td><td>0</td><td>0</td><td>1</td><td>0</td><td>0</td><td>0</td><td>0</td><td>0</td><td>0</td><td>0</td><td>0</td><td>0</td><td>0</td><td>0</td><td>0</td><td>0</td><td>0</td><td>0</td><td>1</td><td>0</td><td>0</td><td>0</td><td>0</td><td>0</td><td>null</td><td>null</td><td>null</td><td>null</td><td>null</td><td>null</td><td>null</td><td>null</td><td>0</td><td>0</td><td>0</td></tr><tr><td>&quot;X:45634577:C:A&quot;</td><td>&quot;rs56976399&quot;</td><td>&quot;Height&quot;</td><td>&quot;UKBB&quot;</td><td>&quot;Non-genic&quot;</td><td>&quot;upstream_gene_variant&quot;</td><td>&quot;RP6-99M1.2&quot;</td><td>&quot;NA&quot;</td><td>null</td><td>&quot;NA&quot;</td><td>0.32968</td><td>-0.012294</td><td>0.001186</td><td>3.6000e-25</td><td>0.99991</td><td>0.99983</td><td>1</td><td>-0.011683</td><td>0.0011892</td><td>1.0</td><td>2</td><td>-0.024883</td><td>0.0025085</td><td>0</td><td>0</td><td>0</td><td>0</td><td>0</td><td>0</td><td>0</td><td>1</td><td>1</td><td>1</td><td>1</td><td>1</td><td>0</td><td>1</td><td>1</td><td>1</td><td>0</td><td>1</td><td>1</td><td>1</td><td>0</td><td>1</td><td>0</td><td>0</td><td>0</td><td>0</td><td>0</td><td>0</td><td>0</td><td>0</td><td>1</td><td>1</td><td>0</td><td>0</td><td>0</td><td>0</td><td>0</td><td>1</td><td>0</td><td>null</td><td>null</td><td>null</td><td>null</td><td>null</td><td>null</td><td>null</td><td>null</td><td>1</td><td>0</td><td>0</td></tr><tr><td>&quot;X:64863519:G:C&quot;</td><td>&quot;rs6418386&quot;</td><td>&quot;Height&quot;</td><td>&quot;UKBB&quot;</td><td>&quot;Non-genic&quot;</td><td>&quot;regulatory_region_variant&quot;</td><td>&quot;NA&quot;</td><td>&quot;NA&quot;</td><td>null</td><td>&quot;NA&quot;</td><td>0.6526</td><td>-0.007972</td><td>0.0011823</td><td>1.6000e-11</td><td>0.99693</td><td>0.9994</td><td>3</td><td>-0.007873</td><td>0.0011848</td><td>0.99445</td><td>2</td><td>-0.016689</td><td>0.0027941</td><td>0</td><td>0</td><td>0</td><td>0</td><td>0</td><td>0</td><td>0</td><td>0</td><td>0</td><td>1</td><td>1</td><td>1</td><td>0</td><td>0</td><td>0</td><td>1</td><td>0</td><td>1</td><td>1</td><td>0</td><td>0</td><td>0</td><td>0</td><td>1</td><td>0</td><td>0</td><td>0</td><td>0</td><td>0</td><td>0</td><td>1</td><td>1</td><td>0</td><td>0</td><td>0</td><td>0</td><td>0</td><td>0</td><td>0</td><td>null</td><td>null</td><td>null</td><td>null</td><td>null</td><td>null</td><td>null</td><td>null</td><td>0</td><td>0</td><td>1</td></tr><tr><td>&quot;X:99890204:C:T&quot;</td><td>&quot;rs1802288&quot;</td><td>&quot;Height&quot;</td><td>&quot;UKBB&quot;</td><td>&quot;Missense&quot;</td><td>&quot;missense_variant&quot;</td><td>&quot;TSPAN6&quot;</td><td>&quot;NA&quot;</td><td>null</td><td>&quot;NA&quot;</td><td>0.16544</td><td>-0.014312</td><td>0.0014716</td><td>2.4000e-22</td><td>1.0</td><td>1.0</td><td>3</td><td>-0.013782</td><td>0.0014624</td><td>null</td><td>null</td><td>null</td><td>null</td><td>0</td><td>0</td><td>0</td><td>0</td><td>0</td><td>0</td><td>1</td><td>1</td><td>1</td><td>0</td><td>0</td><td>0</td><td>0</td><td>0</td><td>0</td><td>0</td><td>0</td><td>1</td><td>0</td><td>1</td><td>1</td><td>1</td><td>1</td><td>0</td><td>0</td><td>0</td><td>0</td><td>1</td><td>1</td><td>0</td><td>0</td><td>1</td><td>0</td><td>1</td><td>0</td><td>0</td><td>0</td><td>0</td><td>0</td><td>null</td><td>null</td><td>null</td><td>null</td><td>null</td><td>null</td><td>null</td><td>null</td><td>0</td><td>0</td><td>0</td></tr></tbody></table></div>"
      ],
      "text/plain": [
       "shape: (348, 73)\n",
       "┌────────────┬────────────┬────────┬────────┬───┬───────────┬────────────┬────────────┬────────────┐\n",
       "│ variant    ┆ rsid       ┆ trait  ┆ cohort ┆ … ┆ alleleage ┆ DHSmerged_ ┆ Roadmap_H3 ┆ CA_H3K27ac │\n",
       "│ ---        ┆ ---        ┆ ---    ┆ ---    ┆   ┆ ---       ┆ Ulirsch    ┆ K27ac_Ulir ┆ _Ulirsch   │\n",
       "│ str        ┆ str        ┆ str    ┆ str    ┆   ┆ f64       ┆ ---        ┆ sch        ┆ ---        │\n",
       "│            ┆            ┆        ┆        ┆   ┆           ┆ i64        ┆ ---        ┆ i64        │\n",
       "│            ┆            ┆        ┆        ┆   ┆           ┆            ┆ i64        ┆            │\n",
       "╞════════════╪════════════╪════════╪════════╪═══╪═══════════╪════════════╪════════════╪════════════╡\n",
       "│ 1:2224836: ┆ rs12743493 ┆ Height ┆ UKBB   ┆ … ┆ 21099.0   ┆ 0          ┆ 1          ┆ 0          │\n",
       "│ G:A        ┆            ┆        ┆        ┆   ┆           ┆            ┆            ┆            │\n",
       "│ 1:2242249: ┆ rs74911766 ┆ Height ┆ UKBB   ┆ … ┆ null      ┆ 1          ┆ 1          ┆ 0          │\n",
       "│ CAG:C      ┆            ┆        ┆        ┆   ┆           ┆            ┆            ┆            │\n",
       "│ 1:8507773: ┆ rs11581328 ┆ Height ┆ UKBB   ┆ … ┆ 2663.2    ┆ 1          ┆ 1          ┆ 0          │\n",
       "│ G:A        ┆            ┆        ┆        ┆   ┆           ┆            ┆            ┆            │\n",
       "│ 1:22462131 ┆ rs10799737 ┆ Height ┆ UKBB   ┆ … ┆ 12728.0   ┆ 0          ┆ 1          ┆ 0          │\n",
       "│ :T:G       ┆            ┆        ┆        ┆   ┆           ┆            ┆            ┆            │\n",
       "│ 1:26738382 ┆ rs35184161 ┆ Height ┆ UKBB   ┆ … ┆ 450.97    ┆ 1          ┆ 1          ┆ 1          │\n",
       "│ :T:C       ┆            ┆        ┆        ┆   ┆           ┆            ┆            ┆            │\n",
       "│ …          ┆ …          ┆ …      ┆ …      ┆ … ┆ …         ┆ …          ┆ …          ┆ …          │\n",
       "│ X:18257521 ┆ rs13795967 ┆ Height ┆ UKBB   ┆ … ┆ null      ┆ 0          ┆ 0          ┆ 0          │\n",
       "│ :T:C       ┆ 5          ┆        ┆        ┆   ┆           ┆            ┆            ┆            │\n",
       "│ X:38009121 ┆ rs35318931 ┆ Height ┆ UKBB   ┆ … ┆ null      ┆ 0          ┆ 0          ┆ 0          │\n",
       "│ :G:A       ┆            ┆        ┆        ┆   ┆           ┆            ┆            ┆            │\n",
       "│ X:45634577 ┆ rs56976399 ┆ Height ┆ UKBB   ┆ … ┆ null      ┆ 1          ┆ 0          ┆ 0          │\n",
       "│ :C:A       ┆            ┆        ┆        ┆   ┆           ┆            ┆            ┆            │\n",
       "│ X:64863519 ┆ rs6418386  ┆ Height ┆ UKBB   ┆ … ┆ null      ┆ 0          ┆ 0          ┆ 1          │\n",
       "│ :G:C       ┆            ┆        ┆        ┆   ┆           ┆            ┆            ┆            │\n",
       "│ X:99890204 ┆ rs1802288  ┆ Height ┆ UKBB   ┆ … ┆ null      ┆ 0          ┆ 0          ┆ 0          │\n",
       "│ :C:T       ┆            ┆        ┆        ┆   ┆           ┆            ┆            ┆            │\n",
       "└────────────┴────────────┴────────┴────────┴───┴───────────┴────────────┴────────────┴────────────┘"
      ]
     },
     "execution_count": 7,
     "metadata": {},
     "output_type": "execute_result"
    }
   ],
   "source": [
    "ST3.filter(pl.col(\"trait\")==\"Height\", pl.col(\"cohort\")==\"UKBB\")"
   ]
  },
  {
   "cell_type": "code",
   "execution_count": 9,
   "metadata": {},
   "outputs": [
    {
     "data": {
      "text/html": [
       "<div><style>\n",
       ".dataframe > thead > tr,\n",
       ".dataframe > tbody > tr {\n",
       "  text-align: right;\n",
       "  white-space: pre-wrap;\n",
       "}\n",
       "</style>\n",
       "<small>shape: (3, 73)</small><table border=\"1\" class=\"dataframe\"><thead><tr><th>variant</th><th>rsid</th><th>trait</th><th>cohort</th><th>consequence</th><th>most_severe</th><th>gene_most_severe</th><th>clinvar</th><th>max_pip_coloc</th><th>tissue_max_pip_coloc</th><th>af</th><th>beta_marginal</th><th>se_marginal</th><th>pvalue</th><th>pip</th><th>susie.pip</th><th>susie.cs_id</th><th>susie.beta_posterior</th><th>susie.sd_posterior</th><th>finemap.pip</th><th>finemap.cs_id</th><th>finemap.beta_posterior</th><th>finemap.sd_posterior</th><th>Ancient_Sequence_Age_Human_Enhancer</th><th>Ancient_Sequence_Age_Human_Promoter</th><th>BivFlnk</th><th>CTCF_Hoffman</th><th>Coding_UCSC</th><th>Conserved_LindbladToh</th><th>Conserved_Mammal_phastCons46way</th><th>Conserved_Primate_phastCons46way</th><th>Conserved_Vertebrate_phastCons46way</th><th>DGF_ENCODE</th><th>DHS_Trynka</th><th>DHS_peaks_Trynka</th><th>Enhancer_Andersson</th><th>Enhancer_Hoffman</th><th>FetalDHS_Trynka</th><th>H3K27ac_Hnisz</th><th>H3K27ac_PGC2</th><th>H3K4me1_Trynka</th><th>H3K4me1_peaks_Trynka</th><th>H3K4me3_Trynka</th><th>H3K4me3_peaks_Trynka</th><th>H3K9ac_Trynka</th><th>H3K9ac_peaks_Trynka</th><th>Human_Enhancer_Villar</th><th>Human_Promoter_Villar</th><th>Human_Promoter_Villar_ExAC</th><th>Intron_UCSC</th><th>PromoterFlanking_Hoffman</th><th>Promoter_UCSC</th><th>Repressed_Hoffman</th><th>SuperEnhancer_Hnisz</th><th>TFBS_ENCODE</th><th>TSS_Hoffman</th><th>Transcribed_Hoffman</th><th>UTR_3_UCSC</th><th>UTR_5_UCSC</th><th>Vahedi_Tcell_SE</th><th>Vahedi_Tcell_TE</th><th>WeakEnhancer_Hoffman</th><th>ASMC</th><th>Backgrd_Selection_Stat</th><th>BLUEPRINT_FE_META_TISSUE_DNAMETH_MaxCPP</th><th>BLUEPRINT_FE_META_TISSUE_H3K27ac_MaxCPP</th><th>BLUEPRINT_FE_META_TISSUE_H3K4me1_MaxCPP</th><th>GTEx_FE_META_TISSUE_GE_MaxCPP</th><th>Human_Enhancer_Villar_Species_Enhancer_Count</th><th>alleleage</th><th>DHSmerged_Ulirsch</th><th>Roadmap_H3K27ac_Ulirsch</th><th>CA_H3K27ac_Ulirsch</th></tr><tr><td>str</td><td>str</td><td>str</td><td>str</td><td>str</td><td>str</td><td>str</td><td>str</td><td>f64</td><td>str</td><td>f64</td><td>f64</td><td>f64</td><td>f64</td><td>f64</td><td>f64</td><td>i64</td><td>f64</td><td>f64</td><td>f64</td><td>i64</td><td>f64</td><td>f64</td><td>i64</td><td>i64</td><td>i64</td><td>i64</td><td>i64</td><td>i64</td><td>i64</td><td>i64</td><td>i64</td><td>i64</td><td>i64</td><td>i64</td><td>i64</td><td>i64</td><td>i64</td><td>i64</td><td>i64</td><td>i64</td><td>i64</td><td>i64</td><td>i64</td><td>i64</td><td>i64</td><td>i64</td><td>i64</td><td>i64</td><td>i64</td><td>i64</td><td>i64</td><td>i64</td><td>i64</td><td>i64</td><td>i64</td><td>i64</td><td>i64</td><td>i64</td><td>i64</td><td>i64</td><td>i64</td><td>f64</td><td>f64</td><td>f64</td><td>f64</td><td>f64</td><td>f64</td><td>i64</td><td>f64</td><td>i64</td><td>i64</td><td>i64</td></tr></thead><tbody><tr><td>&quot;7:5436753:C:T&quot;</td><td>&quot;rs748670681&quot;</td><td>&quot;IBD&quot;</td><td>&quot;FG&quot;</td><td>&quot;CRE&quot;</td><td>&quot;intron_variant&quot;</td><td>&quot;TNRC18&quot;</td><td>&quot;NA&quot;</td><td>null</td><td>&quot;NA&quot;</td><td>0.0361</td><td>1.1662</td><td>0.06646</td><td>6.2000e-69</td><td>1.0</td><td>1.0</td><td>1</td><td>1.1615</td><td>0.066352</td><td>1.0</td><td>1</td><td>0.054628</td><td>0.061396</td><td>0</td><td>0</td><td>0</td><td>0</td><td>0</td><td>0</td><td>0</td><td>0</td><td>1</td><td>0</td><td>1</td><td>1</td><td>0</td><td>0</td><td>1</td><td>1</td><td>1</td><td>1</td><td>1</td><td>1</td><td>1</td><td>1</td><td>1</td><td>0</td><td>1</td><td>0</td><td>1</td><td>0</td><td>0</td><td>0</td><td>1</td><td>1</td><td>1</td><td>1</td><td>0</td><td>0</td><td>0</td><td>1</td><td>0</td><td>null</td><td>0.06</td><td>null</td><td>null</td><td>null</td><td>null</td><td>null</td><td>null</td><td>1</td><td>1</td><td>1</td></tr><tr><td>&quot;20:43065028:A:C&quot;</td><td>&quot;rs6017342&quot;</td><td>&quot;IBD&quot;</td><td>&quot;UKBB&quot;</td><td>&quot;Non-genic&quot;</td><td>&quot;downstream_gene_variant&quot;</td><td>&quot;HNF4A&quot;</td><td>&quot;NA&quot;</td><td>null</td><td>&quot;NA&quot;</td><td>0.51573</td><td>0.13908</td><td>0.022807</td><td>1.0741e-9</td><td>0.90373</td><td>0.91421</td><td>-1</td><td>0.12703</td><td>0.044601</td><td>0.89326</td><td>1</td><td>0.012739</td><td>0.0049847</td><td>0</td><td>0</td><td>0</td><td>0</td><td>0</td><td>0</td><td>0</td><td>0</td><td>0</td><td>0</td><td>0</td><td>0</td><td>0</td><td>0</td><td>0</td><td>1</td><td>1</td><td>1</td><td>1</td><td>1</td><td>1</td><td>1</td><td>1</td><td>1</td><td>0</td><td>0</td><td>0</td><td>0</td><td>0</td><td>0</td><td>1</td><td>0</td><td>0</td><td>0</td><td>0</td><td>0</td><td>0</td><td>0</td><td>0</td><td>17859.0</td><td>0.089</td><td>null</td><td>0.027209</td><td>null</td><td>null</td><td>null</td><td>4734.2</td><td>0</td><td>1</td><td>1</td></tr><tr><td>&quot;22:50439194:C:T&quot;</td><td>&quot;rs9617090&quot;</td><td>&quot;IBD&quot;</td><td>&quot;FG&quot;</td><td>&quot;Missense&quot;</td><td>&quot;missense_variant&quot;</td><td>&quot;IL17REL&quot;</td><td>&quot;NA&quot;</td><td>null</td><td>&quot;NA&quot;</td><td>0.372</td><td>-0.13877</td><td>0.02291</td><td>1.3800e-9</td><td>0.95912</td><td>0.95911</td><td>1</td><td>-0.12925</td><td>0.034668</td><td>0.95913</td><td>1</td><td>0.021528</td><td>0.058923</td><td>0</td><td>0</td><td>0</td><td>0</td><td>1</td><td>0</td><td>0</td><td>0</td><td>0</td><td>0</td><td>0</td><td>0</td><td>0</td><td>0</td><td>0</td><td>1</td><td>0</td><td>1</td><td>1</td><td>1</td><td>0</td><td>1</td><td>0</td><td>0</td><td>0</td><td>0</td><td>0</td><td>0</td><td>0</td><td>0</td><td>1</td><td>0</td><td>0</td><td>0</td><td>0</td><td>0</td><td>0</td><td>0</td><td>0</td><td>22945.0</td><td>0.181</td><td>0.077699</td><td>null</td><td>null</td><td>null</td><td>null</td><td>14328.0</td><td>0</td><td>0</td><td>0</td></tr></tbody></table></div>"
      ],
      "text/plain": [
       "shape: (3, 73)\n",
       "┌─────────────┬────────────┬───────┬────────┬───┬───────────┬────────────┬────────────┬────────────┐\n",
       "│ variant     ┆ rsid       ┆ trait ┆ cohort ┆ … ┆ alleleage ┆ DHSmerged_ ┆ Roadmap_H3 ┆ CA_H3K27ac │\n",
       "│ ---         ┆ ---        ┆ ---   ┆ ---    ┆   ┆ ---       ┆ Ulirsch    ┆ K27ac_Ulir ┆ _Ulirsch   │\n",
       "│ str         ┆ str        ┆ str   ┆ str    ┆   ┆ f64       ┆ ---        ┆ sch        ┆ ---        │\n",
       "│             ┆            ┆       ┆        ┆   ┆           ┆ i64        ┆ ---        ┆ i64        │\n",
       "│             ┆            ┆       ┆        ┆   ┆           ┆            ┆ i64        ┆            │\n",
       "╞═════════════╪════════════╪═══════╪════════╪═══╪═══════════╪════════════╪════════════╪════════════╡\n",
       "│ 7:5436753:C ┆ rs74867068 ┆ IBD   ┆ FG     ┆ … ┆ null      ┆ 1          ┆ 1          ┆ 1          │\n",
       "│ :T          ┆ 1          ┆       ┆        ┆   ┆           ┆            ┆            ┆            │\n",
       "│ 20:43065028 ┆ rs6017342  ┆ IBD   ┆ UKBB   ┆ … ┆ 4734.2    ┆ 0          ┆ 1          ┆ 1          │\n",
       "│ :A:C        ┆            ┆       ┆        ┆   ┆           ┆            ┆            ┆            │\n",
       "│ 22:50439194 ┆ rs9617090  ┆ IBD   ┆ FG     ┆ … ┆ 14328.0   ┆ 0          ┆ 0          ┆ 0          │\n",
       "│ :C:T        ┆            ┆       ┆        ┆   ┆           ┆            ┆            ┆            │\n",
       "└─────────────┴────────────┴───────┴────────┴───┴───────────┴────────────┴────────────┴────────────┘"
      ]
     },
     "execution_count": 9,
     "metadata": {},
     "output_type": "execute_result"
    }
   ],
   "source": [
    "ST3.filter(pl.col(\"trait\")==\"IBD\")"
   ]
  },
  {
   "cell_type": "code",
   "execution_count": 8,
   "metadata": {},
   "outputs": [
    {
     "data": {
      "text/html": [
       "<div><style>\n",
       ".dataframe > thead > tr,\n",
       ".dataframe > tbody > tr {\n",
       "  text-align: right;\n",
       "  white-space: pre-wrap;\n",
       "}\n",
       "</style>\n",
       "<small>shape: (1, 73)</small><table border=\"1\" class=\"dataframe\"><thead><tr><th>variant</th><th>rsid</th><th>trait</th><th>cohort</th><th>consequence</th><th>most_severe</th><th>gene_most_severe</th><th>clinvar</th><th>max_pip_coloc</th><th>tissue_max_pip_coloc</th><th>af</th><th>beta_marginal</th><th>se_marginal</th><th>pvalue</th><th>pip</th><th>susie.pip</th><th>susie.cs_id</th><th>susie.beta_posterior</th><th>susie.sd_posterior</th><th>finemap.pip</th><th>finemap.cs_id</th><th>finemap.beta_posterior</th><th>finemap.sd_posterior</th><th>Ancient_Sequence_Age_Human_Enhancer</th><th>Ancient_Sequence_Age_Human_Promoter</th><th>BivFlnk</th><th>CTCF_Hoffman</th><th>Coding_UCSC</th><th>Conserved_LindbladToh</th><th>Conserved_Mammal_phastCons46way</th><th>Conserved_Primate_phastCons46way</th><th>Conserved_Vertebrate_phastCons46way</th><th>DGF_ENCODE</th><th>DHS_Trynka</th><th>DHS_peaks_Trynka</th><th>Enhancer_Andersson</th><th>Enhancer_Hoffman</th><th>FetalDHS_Trynka</th><th>H3K27ac_Hnisz</th><th>H3K27ac_PGC2</th><th>H3K4me1_Trynka</th><th>H3K4me1_peaks_Trynka</th><th>H3K4me3_Trynka</th><th>H3K4me3_peaks_Trynka</th><th>H3K9ac_Trynka</th><th>H3K9ac_peaks_Trynka</th><th>Human_Enhancer_Villar</th><th>Human_Promoter_Villar</th><th>Human_Promoter_Villar_ExAC</th><th>Intron_UCSC</th><th>PromoterFlanking_Hoffman</th><th>Promoter_UCSC</th><th>Repressed_Hoffman</th><th>SuperEnhancer_Hnisz</th><th>TFBS_ENCODE</th><th>TSS_Hoffman</th><th>Transcribed_Hoffman</th><th>UTR_3_UCSC</th><th>UTR_5_UCSC</th><th>Vahedi_Tcell_SE</th><th>Vahedi_Tcell_TE</th><th>WeakEnhancer_Hoffman</th><th>ASMC</th><th>Backgrd_Selection_Stat</th><th>BLUEPRINT_FE_META_TISSUE_DNAMETH_MaxCPP</th><th>BLUEPRINT_FE_META_TISSUE_H3K27ac_MaxCPP</th><th>BLUEPRINT_FE_META_TISSUE_H3K4me1_MaxCPP</th><th>GTEx_FE_META_TISSUE_GE_MaxCPP</th><th>Human_Enhancer_Villar_Species_Enhancer_Count</th><th>alleleage</th><th>DHSmerged_Ulirsch</th><th>Roadmap_H3K27ac_Ulirsch</th><th>CA_H3K27ac_Ulirsch</th></tr><tr><td>str</td><td>str</td><td>str</td><td>str</td><td>str</td><td>str</td><td>str</td><td>str</td><td>f64</td><td>str</td><td>f64</td><td>f64</td><td>f64</td><td>f64</td><td>f64</td><td>f64</td><td>i64</td><td>f64</td><td>f64</td><td>f64</td><td>i64</td><td>f64</td><td>f64</td><td>i64</td><td>i64</td><td>i64</td><td>i64</td><td>i64</td><td>i64</td><td>i64</td><td>i64</td><td>i64</td><td>i64</td><td>i64</td><td>i64</td><td>i64</td><td>i64</td><td>i64</td><td>i64</td><td>i64</td><td>i64</td><td>i64</td><td>i64</td><td>i64</td><td>i64</td><td>i64</td><td>i64</td><td>i64</td><td>i64</td><td>i64</td><td>i64</td><td>i64</td><td>i64</td><td>i64</td><td>i64</td><td>i64</td><td>i64</td><td>i64</td><td>i64</td><td>i64</td><td>i64</td><td>i64</td><td>f64</td><td>f64</td><td>f64</td><td>f64</td><td>f64</td><td>f64</td><td>i64</td><td>f64</td><td>i64</td><td>i64</td><td>i64</td></tr></thead><tbody><tr><td>&quot;20:43065028:A:C&quot;</td><td>&quot;rs6017342&quot;</td><td>&quot;IBD&quot;</td><td>&quot;UKBB&quot;</td><td>&quot;Non-genic&quot;</td><td>&quot;downstream_gene_variant&quot;</td><td>&quot;HNF4A&quot;</td><td>&quot;NA&quot;</td><td>null</td><td>&quot;NA&quot;</td><td>0.51573</td><td>0.13908</td><td>0.022807</td><td>1.0741e-9</td><td>0.90373</td><td>0.91421</td><td>-1</td><td>0.12703</td><td>0.044601</td><td>0.89326</td><td>1</td><td>0.012739</td><td>0.0049847</td><td>0</td><td>0</td><td>0</td><td>0</td><td>0</td><td>0</td><td>0</td><td>0</td><td>0</td><td>0</td><td>0</td><td>0</td><td>0</td><td>0</td><td>0</td><td>1</td><td>1</td><td>1</td><td>1</td><td>1</td><td>1</td><td>1</td><td>1</td><td>1</td><td>0</td><td>0</td><td>0</td><td>0</td><td>0</td><td>0</td><td>1</td><td>0</td><td>0</td><td>0</td><td>0</td><td>0</td><td>0</td><td>0</td><td>0</td><td>17859.0</td><td>0.089</td><td>null</td><td>0.027209</td><td>null</td><td>null</td><td>null</td><td>4734.2</td><td>0</td><td>1</td><td>1</td></tr></tbody></table></div>"
      ],
      "text/plain": [
       "shape: (1, 73)\n",
       "┌─────────────┬───────────┬───────┬────────┬───┬───────────┬─────────────┬────────────┬────────────┐\n",
       "│ variant     ┆ rsid      ┆ trait ┆ cohort ┆ … ┆ alleleage ┆ DHSmerged_U ┆ Roadmap_H3 ┆ CA_H3K27ac │\n",
       "│ ---         ┆ ---       ┆ ---   ┆ ---    ┆   ┆ ---       ┆ lirsch      ┆ K27ac_Ulir ┆ _Ulirsch   │\n",
       "│ str         ┆ str       ┆ str   ┆ str    ┆   ┆ f64       ┆ ---         ┆ sch        ┆ ---        │\n",
       "│             ┆           ┆       ┆        ┆   ┆           ┆ i64         ┆ ---        ┆ i64        │\n",
       "│             ┆           ┆       ┆        ┆   ┆           ┆             ┆ i64        ┆            │\n",
       "╞═════════════╪═══════════╪═══════╪════════╪═══╪═══════════╪═════════════╪════════════╪════════════╡\n",
       "│ 20:43065028 ┆ rs6017342 ┆ IBD   ┆ UKBB   ┆ … ┆ 4734.2    ┆ 0           ┆ 1          ┆ 1          │\n",
       "│ :A:C        ┆           ┆       ┆        ┆   ┆           ┆             ┆            ┆            │\n",
       "└─────────────┴───────────┴───────┴────────┴───┴───────────┴─────────────┴────────────┴────────────┘"
      ]
     },
     "execution_count": 8,
     "metadata": {},
     "output_type": "execute_result"
    }
   ],
   "source": [
    "ST3.filter(pl.col(\"trait\")==\"IBD\", pl.col(\"cohort\")==\"UKBB\")"
   ]
  },
  {
   "cell_type": "code",
   "execution_count": 4,
   "metadata": {},
   "outputs": [
    {
     "data": {
      "text/plain": [
       "(2921,)"
      ]
     },
     "execution_count": 4,
     "metadata": {},
     "output_type": "execute_result"
    }
   ],
   "source": [
    "ST3[\"variant\"].unique().shape"
   ]
  },
  {
   "cell_type": "code",
   "execution_count": 8,
   "metadata": {},
   "outputs": [
    {
     "data": {
      "text/plain": [
       "1.0"
      ]
     },
     "execution_count": 8,
     "metadata": {},
     "output_type": "execute_result"
    }
   ],
   "source": [
    "ST3[\"pvalue\"].max()"
   ]
  },
  {
   "cell_type": "code",
   "execution_count": 27,
   "metadata": {},
   "outputs": [
    {
     "data": {
      "text/plain": [
       "0.06623794212218649"
      ]
     },
     "execution_count": 27,
     "metadata": {},
     "output_type": "execute_result"
    }
   ],
   "source": [
    "309 / len(ST3)"
   ]
  },
  {
   "cell_type": "code",
   "execution_count": 14,
   "metadata": {},
   "outputs": [
    {
     "data": {
      "text/plain": [
       "(309, 84)"
      ]
     },
     "execution_count": 14,
     "metadata": {},
     "output_type": "execute_result"
    }
   ],
   "source": [
    "(ST3[\"pvalue\"] > 5e-8).sum(), (ST3[\"pvalue\"] > 0.05).sum()"
   ]
  },
  {
   "cell_type": "code",
   "execution_count": 20,
   "metadata": {},
   "outputs": [],
   "source": [
    "ST3 = ST3.with_columns(z=(ST3[\"beta_marginal\"] - 0) / ST3[\"se_marginal\"])"
   ]
  },
  {
   "cell_type": "code",
   "execution_count": 10,
   "metadata": {},
   "outputs": [
    {
     "data": {
      "text/html": [
       "<div><style>\n",
       ".dataframe > thead > tr,\n",
       ".dataframe > tbody > tr {\n",
       "  text-align: right;\n",
       "  white-space: pre-wrap;\n",
       "}\n",
       "</style>\n",
       "<small>shape: (84, 73)</small><table border=\"1\" class=\"dataframe\"><thead><tr><th>variant</th><th>rsid</th><th>trait</th><th>cohort</th><th>consequence</th><th>most_severe</th><th>gene_most_severe</th><th>clinvar</th><th>max_pip_coloc</th><th>tissue_max_pip_coloc</th><th>af</th><th>beta_marginal</th><th>se_marginal</th><th>pvalue</th><th>pip</th><th>susie.pip</th><th>susie.cs_id</th><th>susie.beta_posterior</th><th>susie.sd_posterior</th><th>finemap.pip</th><th>finemap.cs_id</th><th>finemap.beta_posterior</th><th>finemap.sd_posterior</th><th>Ancient_Sequence_Age_Human_Enhancer</th><th>Ancient_Sequence_Age_Human_Promoter</th><th>BivFlnk</th><th>CTCF_Hoffman</th><th>Coding_UCSC</th><th>Conserved_LindbladToh</th><th>Conserved_Mammal_phastCons46way</th><th>Conserved_Primate_phastCons46way</th><th>Conserved_Vertebrate_phastCons46way</th><th>DGF_ENCODE</th><th>DHS_Trynka</th><th>DHS_peaks_Trynka</th><th>Enhancer_Andersson</th><th>Enhancer_Hoffman</th><th>FetalDHS_Trynka</th><th>H3K27ac_Hnisz</th><th>H3K27ac_PGC2</th><th>H3K4me1_Trynka</th><th>H3K4me1_peaks_Trynka</th><th>H3K4me3_Trynka</th><th>H3K4me3_peaks_Trynka</th><th>H3K9ac_Trynka</th><th>H3K9ac_peaks_Trynka</th><th>Human_Enhancer_Villar</th><th>Human_Promoter_Villar</th><th>Human_Promoter_Villar_ExAC</th><th>Intron_UCSC</th><th>PromoterFlanking_Hoffman</th><th>Promoter_UCSC</th><th>Repressed_Hoffman</th><th>SuperEnhancer_Hnisz</th><th>TFBS_ENCODE</th><th>TSS_Hoffman</th><th>Transcribed_Hoffman</th><th>UTR_3_UCSC</th><th>UTR_5_UCSC</th><th>Vahedi_Tcell_SE</th><th>Vahedi_Tcell_TE</th><th>WeakEnhancer_Hoffman</th><th>ASMC</th><th>Backgrd_Selection_Stat</th><th>BLUEPRINT_FE_META_TISSUE_DNAMETH_MaxCPP</th><th>BLUEPRINT_FE_META_TISSUE_H3K27ac_MaxCPP</th><th>BLUEPRINT_FE_META_TISSUE_H3K4me1_MaxCPP</th><th>GTEx_FE_META_TISSUE_GE_MaxCPP</th><th>Human_Enhancer_Villar_Species_Enhancer_Count</th><th>alleleage</th><th>DHSmerged_Ulirsch</th><th>Roadmap_H3K27ac_Ulirsch</th><th>CA_H3K27ac_Ulirsch</th></tr><tr><td>str</td><td>str</td><td>str</td><td>str</td><td>str</td><td>str</td><td>str</td><td>str</td><td>f64</td><td>str</td><td>f64</td><td>f64</td><td>f64</td><td>f64</td><td>f64</td><td>f64</td><td>i64</td><td>f64</td><td>f64</td><td>f64</td><td>i64</td><td>f64</td><td>f64</td><td>i64</td><td>i64</td><td>i64</td><td>i64</td><td>i64</td><td>i64</td><td>i64</td><td>i64</td><td>i64</td><td>i64</td><td>i64</td><td>i64</td><td>i64</td><td>i64</td><td>i64</td><td>i64</td><td>i64</td><td>i64</td><td>i64</td><td>i64</td><td>i64</td><td>i64</td><td>i64</td><td>i64</td><td>i64</td><td>i64</td><td>i64</td><td>i64</td><td>i64</td><td>i64</td><td>i64</td><td>i64</td><td>i64</td><td>i64</td><td>i64</td><td>i64</td><td>i64</td><td>i64</td><td>i64</td><td>f64</td><td>f64</td><td>f64</td><td>f64</td><td>f64</td><td>f64</td><td>i64</td><td>f64</td><td>i64</td><td>i64</td><td>i64</td></tr></thead><tbody><tr><td>&quot;1:21935492:C:T&quot;</td><td>&quot;rs61775976&quot;</td><td>&quot;P&quot;</td><td>&quot;UKBB&quot;</td><td>&quot;CRE&quot;</td><td>&quot;intron_variant&quot;</td><td>&quot;RAP1GAP&quot;</td><td>&quot;NA&quot;</td><td>null</td><td>&quot;NA&quot;</td><td>0.07826</td><td>-0.000178</td><td>0.0044026</td><td>0.97</td><td>0.987</td><td>0.989</td><td>6</td><td>0.042195</td><td>0.0062104</td><td>0.985</td><td>9</td><td>0.048886</td><td>0.010754</td><td>0</td><td>0</td><td>0</td><td>0</td><td>0</td><td>0</td><td>0</td><td>0</td><td>0</td><td>1</td><td>1</td><td>0</td><td>0</td><td>1</td><td>0</td><td>1</td><td>1</td><td>1</td><td>0</td><td>0</td><td>0</td><td>0</td><td>0</td><td>0</td><td>0</td><td>0</td><td>1</td><td>0</td><td>0</td><td>0</td><td>1</td><td>1</td><td>0</td><td>0</td><td>0</td><td>0</td><td>0</td><td>0</td><td>0</td><td>18431.0</td><td>0.207</td><td>0.052306</td><td>null</td><td>null</td><td>null</td><td>null</td><td>9152.4</td><td>1</td><td>1</td><td>0</td></tr><tr><td>&quot;1:35217376:T:G&quot;</td><td>&quot;rs585268&quot;</td><td>&quot;Height&quot;</td><td>&quot;UKBB&quot;</td><td>&quot;Non-genic&quot;</td><td>&quot;upstream_gene_variant&quot;</td><td>&quot;GJB5&quot;</td><td>&quot;NA&quot;</td><td>null</td><td>&quot;NA&quot;</td><td>0.36146</td><td>0.000205</td><td>0.0013529</td><td>0.88</td><td>1.0</td><td>null</td><td>null</td><td>null</td><td>null</td><td>1.0</td><td>1</td><td>0.56807</td><td>5.3364e-7</td><td>0</td><td>0</td><td>0</td><td>0</td><td>0</td><td>0</td><td>0</td><td>0</td><td>0</td><td>1</td><td>1</td><td>1</td><td>0</td><td>0</td><td>0</td><td>0</td><td>0</td><td>1</td><td>0</td><td>0</td><td>0</td><td>0</td><td>0</td><td>0</td><td>0</td><td>0</td><td>0</td><td>0</td><td>0</td><td>1</td><td>0</td><td>0</td><td>0</td><td>0</td><td>0</td><td>0</td><td>0</td><td>0</td><td>0</td><td>19928.0</td><td>0.197</td><td>null</td><td>null</td><td>null</td><td>null</td><td>null</td><td>24790.0</td><td>1</td><td>0</td><td>0</td></tr><tr><td>&quot;1:43315531:T:C&quot;</td><td>&quot;rs56653907&quot;</td><td>&quot;Height&quot;</td><td>&quot;UKBB&quot;</td><td>&quot;Promoter&quot;</td><td>&quot;intron_variant&quot;</td><td>&quot;ZNF691&quot;</td><td>&quot;NA&quot;</td><td>null</td><td>&quot;NA&quot;</td><td>0.21966</td><td>-0.001237</td><td>0.0015432</td><td>0.42</td><td>1.0</td><td>null</td><td>null</td><td>null</td><td>null</td><td>1.0</td><td>3</td><td>-0.56058</td><td>6.0785e-7</td><td>0</td><td>0</td><td>0</td><td>0</td><td>0</td><td>0</td><td>0</td><td>0</td><td>0</td><td>0</td><td>0</td><td>0</td><td>0</td><td>0</td><td>0</td><td>1</td><td>1</td><td>1</td><td>1</td><td>1</td><td>1</td><td>0</td><td>0</td><td>0</td><td>0</td><td>0</td><td>1</td><td>0</td><td>1</td><td>0</td><td>0</td><td>0</td><td>0</td><td>1</td><td>0</td><td>0</td><td>0</td><td>0</td><td>0</td><td>11726.0</td><td>0.338</td><td>null</td><td>null</td><td>null</td><td>null</td><td>null</td><td>18058.0</td><td>1</td><td>1</td><td>0</td></tr><tr><td>&quot;1:47265665:T:C&quot;</td><td>&quot;rs837402&quot;</td><td>&quot;Height&quot;</td><td>&quot;UKBB&quot;</td><td>&quot;Promoter&quot;</td><td>&quot;intron_variant&quot;</td><td>&quot;CYP4B1&quot;</td><td>&quot;NA&quot;</td><td>null</td><td>&quot;NA&quot;</td><td>0.93974</td><td>-0.002787</td><td>0.0026887</td><td>0.3</td><td>1.0</td><td>null</td><td>null</td><td>null</td><td>null</td><td>1.0</td><td>6</td><td>-5.7776</td><td>0.000002</td><td>0</td><td>0</td><td>0</td><td>0</td><td>0</td><td>0</td><td>0</td><td>0</td><td>0</td><td>0</td><td>0</td><td>0</td><td>0</td><td>0</td><td>0</td><td>1</td><td>1</td><td>1</td><td>0</td><td>1</td><td>0</td><td>1</td><td>0</td><td>0</td><td>0</td><td>0</td><td>1</td><td>0</td><td>1</td><td>1</td><td>1</td><td>0</td><td>0</td><td>0</td><td>0</td><td>0</td><td>0</td><td>0</td><td>0</td><td>14413.0</td><td>0.336</td><td>0.036116</td><td>null</td><td>null</td><td>null</td><td>null</td><td>29305.0</td><td>0</td><td>1</td><td>0</td></tr><tr><td>&quot;1:47775351:G:A&quot;</td><td>&quot;rs72686217&quot;</td><td>&quot;Height&quot;</td><td>&quot;UKBB&quot;</td><td>&quot;CRE&quot;</td><td>&quot;intron_variant&quot;</td><td>&quot;STIL&quot;</td><td>&quot;NA&quot;</td><td>null</td><td>&quot;NA&quot;</td><td>0.039699</td><td>-0.004671</td><td>0.0032886</td><td>0.16</td><td>1.0</td><td>null</td><td>null</td><td>null</td><td>null</td><td>1.0</td><td>7</td><td>-266.79</td><td>0.00009</td><td>0</td><td>0</td><td>0</td><td>0</td><td>0</td><td>0</td><td>0</td><td>0</td><td>0</td><td>1</td><td>0</td><td>0</td><td>0</td><td>0</td><td>0</td><td>1</td><td>1</td><td>1</td><td>1</td><td>0</td><td>0</td><td>1</td><td>1</td><td>0</td><td>0</td><td>0</td><td>1</td><td>1</td><td>0</td><td>0</td><td>0</td><td>1</td><td>0</td><td>1</td><td>0</td><td>0</td><td>0</td><td>0</td><td>0</td><td>19375.0</td><td>0.475</td><td>null</td><td>null</td><td>null</td><td>null</td><td>null</td><td>1560.7</td><td>1</td><td>1</td><td>0</td></tr><tr><td>&hellip;</td><td>&hellip;</td><td>&hellip;</td><td>&hellip;</td><td>&hellip;</td><td>&hellip;</td><td>&hellip;</td><td>&hellip;</td><td>&hellip;</td><td>&hellip;</td><td>&hellip;</td><td>&hellip;</td><td>&hellip;</td><td>&hellip;</td><td>&hellip;</td><td>&hellip;</td><td>&hellip;</td><td>&hellip;</td><td>&hellip;</td><td>&hellip;</td><td>&hellip;</td><td>&hellip;</td><td>&hellip;</td><td>&hellip;</td><td>&hellip;</td><td>&hellip;</td><td>&hellip;</td><td>&hellip;</td><td>&hellip;</td><td>&hellip;</td><td>&hellip;</td><td>&hellip;</td><td>&hellip;</td><td>&hellip;</td><td>&hellip;</td><td>&hellip;</td><td>&hellip;</td><td>&hellip;</td><td>&hellip;</td><td>&hellip;</td><td>&hellip;</td><td>&hellip;</td><td>&hellip;</td><td>&hellip;</td><td>&hellip;</td><td>&hellip;</td><td>&hellip;</td><td>&hellip;</td><td>&hellip;</td><td>&hellip;</td><td>&hellip;</td><td>&hellip;</td><td>&hellip;</td><td>&hellip;</td><td>&hellip;</td><td>&hellip;</td><td>&hellip;</td><td>&hellip;</td><td>&hellip;</td><td>&hellip;</td><td>&hellip;</td><td>&hellip;</td><td>&hellip;</td><td>&hellip;</td><td>&hellip;</td><td>&hellip;</td><td>&hellip;</td><td>&hellip;</td><td>&hellip;</td><td>&hellip;</td><td>&hellip;</td><td>&hellip;</td><td>&hellip;</td></tr><tr><td>&quot;19:55175009:G:T&quot;</td><td>&quot;rs11540761&quot;</td><td>&quot;ApoA&quot;</td><td>&quot;UKBB&quot;</td><td>&quot;Missense&quot;</td><td>&quot;missense_variant&quot;</td><td>&quot;LILRB4&quot;</td><td>&quot;NA&quot;</td><td>null</td><td>&quot;NA&quot;</td><td>0.17547</td><td>-0.005169</td><td>0.003032</td><td>0.088</td><td>1.0</td><td>null</td><td>null</td><td>null</td><td>null</td><td>1.0</td><td>8</td><td>-50.47</td><td>6.7435e-7</td><td>0</td><td>0</td><td>0</td><td>0</td><td>1</td><td>0</td><td>0</td><td>0</td><td>0</td><td>1</td><td>0</td><td>0</td><td>0</td><td>0</td><td>0</td><td>1</td><td>1</td><td>1</td><td>0</td><td>1</td><td>0</td><td>0</td><td>0</td><td>0</td><td>0</td><td>0</td><td>1</td><td>0</td><td>1</td><td>0</td><td>0</td><td>0</td><td>0</td><td>0</td><td>0</td><td>0</td><td>0</td><td>0</td><td>0</td><td>12489.0</td><td>0.012</td><td>0.85505</td><td>null</td><td>null</td><td>null</td><td>null</td><td>37124.0</td><td>1</td><td>1</td><td>1</td></tr><tr><td>&quot;19:55221901:G:A&quot;</td><td>&quot;rs117696142&quot;</td><td>&quot;ApoA&quot;</td><td>&quot;UKBB&quot;</td><td>&quot;Non-genic&quot;</td><td>&quot;non_coding_transcript_exon_var…</td><td>&quot;LILRP2&quot;</td><td>&quot;NA&quot;</td><td>null</td><td>&quot;NA&quot;</td><td>0.041464</td><td>-0.006185</td><td>0.0054438</td><td>0.26</td><td>1.0</td><td>null</td><td>null</td><td>null</td><td>null</td><td>1.0</td><td>9</td><td>-67.704</td><td>0.0</td><td>0</td><td>0</td><td>0</td><td>0</td><td>0</td><td>0</td><td>0</td><td>0</td><td>0</td><td>0</td><td>0</td><td>0</td><td>0</td><td>0</td><td>0</td><td>0</td><td>0</td><td>1</td><td>0</td><td>0</td><td>0</td><td>0</td><td>0</td><td>0</td><td>0</td><td>0</td><td>0</td><td>0</td><td>0</td><td>0</td><td>0</td><td>0</td><td>0</td><td>1</td><td>1</td><td>0</td><td>0</td><td>0</td><td>0</td><td>14552.0</td><td>0.012</td><td>null</td><td>null</td><td>null</td><td>null</td><td>null</td><td>null</td><td>0</td><td>0</td><td>0</td></tr><tr><td>&quot;19:55437347:G:A&quot;</td><td>&quot;rs4603691&quot;</td><td>&quot;ApoA&quot;</td><td>&quot;UKBB&quot;</td><td>&quot;Non-genic&quot;</td><td>&quot;intron_variant&quot;</td><td>&quot;NLRP7&quot;</td><td>&quot;NA&quot;</td><td>null</td><td>&quot;NA&quot;</td><td>0.072045</td><td>-0.000244</td><td>0.0041629</td><td>0.95</td><td>1.0</td><td>null</td><td>null</td><td>null</td><td>null</td><td>1.0</td><td>10</td><td>15.529</td><td>1.6859e-7</td><td>0</td><td>0</td><td>0</td><td>0</td><td>0</td><td>0</td><td>0</td><td>0</td><td>1</td><td>0</td><td>0</td><td>0</td><td>0</td><td>0</td><td>0</td><td>0</td><td>0</td><td>0</td><td>0</td><td>0</td><td>0</td><td>0</td><td>0</td><td>0</td><td>0</td><td>0</td><td>1</td><td>0</td><td>0</td><td>0</td><td>0</td><td>0</td><td>0</td><td>1</td><td>0</td><td>0</td><td>0</td><td>0</td><td>0</td><td>29934.0</td><td>0.018</td><td>null</td><td>0.14761</td><td>null</td><td>null</td><td>null</td><td>23443.0</td><td>0</td><td>0</td><td>0</td></tr><tr><td>&quot;21:37443658:T:C&quot;</td><td>&quot;rs1005694&quot;</td><td>&quot;IGF1&quot;</td><td>&quot;UKBB&quot;</td><td>&quot;Promoter&quot;</td><td>&quot;intron_variant&quot;</td><td>&quot;AP000688.14&quot;</td><td>&quot;NA&quot;</td><td>null</td><td>&quot;NA&quot;</td><td>0.94455</td><td>-0.007934</td><td>0.0047394</td><td>0.094</td><td>0.99997</td><td>1.0</td><td>3</td><td>-0.040568</td><td>0.0047043</td><td>0.99995</td><td>3</td><td>-0.049283</td><td>0.0061442</td><td>0</td><td>0</td><td>0</td><td>0</td><td>0</td><td>0</td><td>0</td><td>0</td><td>0</td><td>0</td><td>0</td><td>0</td><td>0</td><td>0</td><td>0</td><td>1</td><td>1</td><td>1</td><td>1</td><td>1</td><td>0</td><td>1</td><td>0</td><td>0</td><td>1</td><td>0</td><td>1</td><td>1</td><td>1</td><td>0</td><td>1</td><td>0</td><td>0</td><td>0</td><td>1</td><td>0</td><td>0</td><td>0</td><td>0</td><td>14801.0</td><td>0.228</td><td>null</td><td>null</td><td>null</td><td>null</td><td>null</td><td>2304.8</td><td>1</td><td>1</td><td>0</td></tr><tr><td>&quot;22:43500212:G:T&quot;</td><td>&quot;rs5759167&quot;</td><td>&quot;Plt&quot;</td><td>&quot;UKBB&quot;</td><td>&quot;CRE&quot;</td><td>&quot;regulatory_region_variant&quot;</td><td>&quot;NA&quot;</td><td>&quot;NA&quot;</td><td>0.99911</td><td>&quot;macrophage_naive&quot;</td><td>0.49855</td><td>-0.004038</td><td>0.0020746</td><td>0.052</td><td>0.99979</td><td>0.99979</td><td>6</td><td>-0.015994</td><td>0.0020678</td><td>null</td><td>null</td><td>null</td><td>null</td><td>0</td><td>0</td><td>0</td><td>0</td><td>0</td><td>0</td><td>0</td><td>0</td><td>0</td><td>1</td><td>1</td><td>1</td><td>1</td><td>1</td><td>1</td><td>1</td><td>1</td><td>1</td><td>1</td><td>1</td><td>1</td><td>0</td><td>0</td><td>0</td><td>0</td><td>0</td><td>0</td><td>0</td><td>0</td><td>0</td><td>1</td><td>1</td><td>1</td><td>0</td><td>0</td><td>0</td><td>0</td><td>0</td><td>0</td><td>15692.0</td><td>0.154</td><td>1.0</td><td>1.0</td><td>1.0</td><td>null</td><td>null</td><td>28491.0</td><td>1</td><td>1</td><td>1</td></tr></tbody></table></div>"
      ],
      "text/plain": [
       "shape: (84, 73)\n",
       "┌────────────┬────────────┬────────┬────────┬───┬───────────┬────────────┬────────────┬────────────┐\n",
       "│ variant    ┆ rsid       ┆ trait  ┆ cohort ┆ … ┆ alleleage ┆ DHSmerged_ ┆ Roadmap_H3 ┆ CA_H3K27ac │\n",
       "│ ---        ┆ ---        ┆ ---    ┆ ---    ┆   ┆ ---       ┆ Ulirsch    ┆ K27ac_Ulir ┆ _Ulirsch   │\n",
       "│ str        ┆ str        ┆ str    ┆ str    ┆   ┆ f64       ┆ ---        ┆ sch        ┆ ---        │\n",
       "│            ┆            ┆        ┆        ┆   ┆           ┆ i64        ┆ ---        ┆ i64        │\n",
       "│            ┆            ┆        ┆        ┆   ┆           ┆            ┆ i64        ┆            │\n",
       "╞════════════╪════════════╪════════╪════════╪═══╪═══════════╪════════════╪════════════╪════════════╡\n",
       "│ 1:21935492 ┆ rs61775976 ┆ P      ┆ UKBB   ┆ … ┆ 9152.4    ┆ 1          ┆ 1          ┆ 0          │\n",
       "│ :C:T       ┆            ┆        ┆        ┆   ┆           ┆            ┆            ┆            │\n",
       "│ 1:35217376 ┆ rs585268   ┆ Height ┆ UKBB   ┆ … ┆ 24790.0   ┆ 1          ┆ 0          ┆ 0          │\n",
       "│ :T:G       ┆            ┆        ┆        ┆   ┆           ┆            ┆            ┆            │\n",
       "│ 1:43315531 ┆ rs56653907 ┆ Height ┆ UKBB   ┆ … ┆ 18058.0   ┆ 1          ┆ 1          ┆ 0          │\n",
       "│ :T:C       ┆            ┆        ┆        ┆   ┆           ┆            ┆            ┆            │\n",
       "│ 1:47265665 ┆ rs837402   ┆ Height ┆ UKBB   ┆ … ┆ 29305.0   ┆ 0          ┆ 1          ┆ 0          │\n",
       "│ :T:C       ┆            ┆        ┆        ┆   ┆           ┆            ┆            ┆            │\n",
       "│ 1:47775351 ┆ rs72686217 ┆ Height ┆ UKBB   ┆ … ┆ 1560.7    ┆ 1          ┆ 1          ┆ 0          │\n",
       "│ :G:A       ┆            ┆        ┆        ┆   ┆           ┆            ┆            ┆            │\n",
       "│ …          ┆ …          ┆ …      ┆ …      ┆ … ┆ …         ┆ …          ┆ …          ┆ …          │\n",
       "│ 19:5517500 ┆ rs11540761 ┆ ApoA   ┆ UKBB   ┆ … ┆ 37124.0   ┆ 1          ┆ 1          ┆ 1          │\n",
       "│ 9:G:T      ┆            ┆        ┆        ┆   ┆           ┆            ┆            ┆            │\n",
       "│ 19:5522190 ┆ rs11769614 ┆ ApoA   ┆ UKBB   ┆ … ┆ null      ┆ 0          ┆ 0          ┆ 0          │\n",
       "│ 1:G:A      ┆ 2          ┆        ┆        ┆   ┆           ┆            ┆            ┆            │\n",
       "│ 19:5543734 ┆ rs4603691  ┆ ApoA   ┆ UKBB   ┆ … ┆ 23443.0   ┆ 0          ┆ 0          ┆ 0          │\n",
       "│ 7:G:A      ┆            ┆        ┆        ┆   ┆           ┆            ┆            ┆            │\n",
       "│ 21:3744365 ┆ rs1005694  ┆ IGF1   ┆ UKBB   ┆ … ┆ 2304.8    ┆ 1          ┆ 1          ┆ 0          │\n",
       "│ 8:T:C      ┆            ┆        ┆        ┆   ┆           ┆            ┆            ┆            │\n",
       "│ 22:4350021 ┆ rs5759167  ┆ Plt    ┆ UKBB   ┆ … ┆ 28491.0   ┆ 1          ┆ 1          ┆ 1          │\n",
       "│ 2:G:T      ┆            ┆        ┆        ┆   ┆           ┆            ┆            ┆            │\n",
       "└────────────┴────────────┴────────┴────────┴───┴───────────┴────────────┴────────────┴────────────┘"
      ]
     },
     "execution_count": 10,
     "metadata": {},
     "output_type": "execute_result"
    }
   ],
   "source": [
    "ST3.filter(pl.col(\"pvalue\") > 0.05)"
   ]
  },
  {
   "cell_type": "code",
   "execution_count": 25,
   "metadata": {},
   "outputs": [
    {
     "data": {
      "text/plain": [
       "SignificanceResult(statistic=0.9999967190208577, pvalue=0.0)"
      ]
     },
     "execution_count": 25,
     "metadata": {},
     "output_type": "execute_result"
    }
   ],
   "source": [
    "from scipy.stats import spearmanr\n",
    "spearmanr(-ST3[\"z\"].abs(), ST3[\"pvalue\"])"
   ]
  },
  {
   "cell_type": "code",
   "execution_count": 26,
   "metadata": {},
   "outputs": [
    {
     "data": {
      "text/plain": [
       "SignificanceResult(statistic=nan, pvalue=nan)"
      ]
     },
     "execution_count": 26,
     "metadata": {},
     "output_type": "execute_result"
    }
   ],
   "source": [
    "spearmanr(-ST3[\"susie.beta_posterior\"].abs(), ST3[\"pvalue\"])"
   ]
  },
  {
   "cell_type": "code",
   "execution_count": 22,
   "metadata": {},
   "outputs": [
    {
     "name": "stderr",
     "output_type": "stream",
     "text": [
      "/scratch/users/gbenegas/software/mambaforge/envs/gpn/lib/python3.11/site-packages/seaborn/_oldcore.py:1498: FutureWarning: is_categorical_dtype is deprecated and will be removed in a future version. Use isinstance(dtype, CategoricalDtype) instead\n",
      "  if pd.api.types.is_categorical_dtype(vector):\n",
      "/scratch/users/gbenegas/software/mambaforge/envs/gpn/lib/python3.11/site-packages/seaborn/_oldcore.py:1498: FutureWarning: is_categorical_dtype is deprecated and will be removed in a future version. Use isinstance(dtype, CategoricalDtype) instead\n",
      "  if pd.api.types.is_categorical_dtype(vector):\n"
     ]
    },
    {
     "data": {
      "text/plain": [
       "<Axes: xlabel='z', ylabel='pvalue'>"
      ]
     },
     "execution_count": 22,
     "metadata": {},
     "output_type": "execute_result"
    },
    {
     "data": {
      "image/png": "[encoded data removed]",
      "text/plain": [
       "<Figure size 432x288 with 1 Axes>"
      ]
     },
     "metadata": {
      "needs_background": "light"
     },
     "output_type": "display_data"
    }
   ],
   "source": [
    "import seaborn as sns\n",
    "sns.scatterplot(data=ST3.to_pandas(), x=\"z\", y=\"pvalue\")"
   ]
  },
  {
   "cell_type": "code",
   "execution_count": 18,
   "metadata": {},
   "outputs": [
    {
     "data": {
      "text/plain": [
       "71"
      ]
     },
     "execution_count": 18,
     "metadata": {},
     "output_type": "execute_result"
    }
   ],
   "source": [
    "(ST3.filter(trait=\"Height\")[\"pvalue\"] > 5e-8).sum()"
   ]
  },
  {
   "cell_type": "code",
   "execution_count": null,
   "metadata": {},
   "outputs": [],
   "source": []
  }
 ],
 "metadata": {
  "kernelspec": {
   "display_name": "gpn",
   "language": "python",
   "name": "gpn"
  },
  "language_info": {
   "codemirror_mode": {
    "name": "ipython",
    "version": 3
   },
   "file_extension": ".py",
   "mimetype": "text/x-python",
   "name": "python",
   "nbconvert_exporter": "python",
   "pygments_lexer": "ipython3",
   "version": "3.11.3"
  }
 },
 "nbformat": 4,
 "nbformat_minor": 2
}
