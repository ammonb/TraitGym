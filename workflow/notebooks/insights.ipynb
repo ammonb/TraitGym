{
 "cells": [
  {
   "cell_type": "code",
   "execution_count": null,
   "metadata": {},
   "outputs": [],
   "source": [
    "import polars as pl"
   ]
  },
  {
   "cell_type": "code",
   "execution_count": null,
   "metadata": {},
   "outputs": [
    {
     "name": "stdout",
     "output_type": "stream",
     "text": [
      "--2024-11-27 11:01:56--  https://www.medrxiv.org/content/medrxiv/early/2021/09/05/2021.09.03.21262975/DC2/embed/media-2.xlsx?download=true\n",
      "Resolving www.medrxiv.org (www.medrxiv.org)... 104.21.11.180, 172.67.166.236, 2606:4700:3031::ac43:a6ec, ...\n",
      "Connecting to www.medrxiv.org (www.medrxiv.org)|104.21.11.180|:443... connected.\n",
      "HTTP request sent, awaiting response... 200 OK\n",
      "Length: 3841791 (3.7M) [application/vnd.openxmlformats-officedocument.spreadsheetml.sheet]\n",
      "Saving to: ‘insights.xlsx’\n",
      "\n",
      "insights.xlsx       100%[===================>]   3.66M  --.-KB/s    in 0.04s   \n",
      "\n",
      "2024-11-27 11:01:57 (91.6 MB/s) - ‘insights.xlsx’ saved [3841791/3841791]\n",
      "\n"
     ]
    }
   ],
   "source": [
    "#!wget https://www.medrxiv.org/content/medrxiv/early/2021/09/05/2021.09.03.21262975/DC2/embed/media-2.xlsx?download=true -O insights.xlsx"
   ]
  },
  {
   "cell_type": "code",
   "execution_count": 12,
   "metadata": {},
   "outputs": [
    {
     "data": {
      "text/html": [
       "<div><style>\n",
       ".dataframe > thead > tr,\n",
       ".dataframe > tbody > tr {\n",
       "  text-align: right;\n",
       "  white-space: pre-wrap;\n",
       "}\n",
       "</style>\n",
       "<small>shape: (4_665, 73)</small><table border=\"1\" class=\"dataframe\"><thead><tr><th>variant</th><th>rsid</th><th>trait</th><th>cohort</th><th>consequence</th><th>most_severe</th><th>gene_most_severe</th><th>clinvar</th><th>max_pip_coloc</th><th>tissue_max_pip_coloc</th><th>af</th><th>beta_marginal</th><th>se_marginal</th><th>pvalue</th><th>pip</th><th>susie.pip</th><th>susie.cs_id</th><th>susie.beta_posterior</th><th>susie.sd_posterior</th><th>finemap.pip</th><th>finemap.cs_id</th><th>finemap.beta_posterior</th><th>finemap.sd_posterior</th><th>Ancient_Sequence_Age_Human_Enhancer</th><th>Ancient_Sequence_Age_Human_Promoter</th><th>BivFlnk</th><th>CTCF_Hoffman</th><th>Coding_UCSC</th><th>Conserved_LindbladToh</th><th>Conserved_Mammal_phastCons46way</th><th>Conserved_Primate_phastCons46way</th><th>Conserved_Vertebrate_phastCons46way</th><th>DGF_ENCODE</th><th>DHS_Trynka</th><th>DHS_peaks_Trynka</th><th>Enhancer_Andersson</th><th>Enhancer_Hoffman</th><th>FetalDHS_Trynka</th><th>H3K27ac_Hnisz</th><th>H3K27ac_PGC2</th><th>H3K4me1_Trynka</th><th>H3K4me1_peaks_Trynka</th><th>H3K4me3_Trynka</th><th>H3K4me3_peaks_Trynka</th><th>H3K9ac_Trynka</th><th>H3K9ac_peaks_Trynka</th><th>Human_Enhancer_Villar</th><th>Human_Promoter_Villar</th><th>Human_Promoter_Villar_ExAC</th><th>Intron_UCSC</th><th>PromoterFlanking_Hoffman</th><th>Promoter_UCSC</th><th>Repressed_Hoffman</th><th>SuperEnhancer_Hnisz</th><th>TFBS_ENCODE</th><th>TSS_Hoffman</th><th>Transcribed_Hoffman</th><th>UTR_3_UCSC</th><th>UTR_5_UCSC</th><th>Vahedi_Tcell_SE</th><th>Vahedi_Tcell_TE</th><th>WeakEnhancer_Hoffman</th><th>ASMC</th><th>Backgrd_Selection_Stat</th><th>BLUEPRINT_FE_META_TISSUE_DNAMETH_MaxCPP</th><th>BLUEPRINT_FE_META_TISSUE_H3K27ac_MaxCPP</th><th>BLUEPRINT_FE_META_TISSUE_H3K4me1_MaxCPP</th><th>GTEx_FE_META_TISSUE_GE_MaxCPP</th><th>Human_Enhancer_Villar_Species_Enhancer_Count</th><th>alleleage</th><th>DHSmerged_Ulirsch</th><th>Roadmap_H3K27ac_Ulirsch</th><th>CA_H3K27ac_Ulirsch</th></tr><tr><td>str</td><td>str</td><td>str</td><td>str</td><td>str</td><td>str</td><td>str</td><td>str</td><td>f64</td><td>str</td><td>f64</td><td>f64</td><td>f64</td><td>f64</td><td>f64</td><td>f64</td><td>i64</td><td>f64</td><td>f64</td><td>f64</td><td>i64</td><td>f64</td><td>f64</td><td>i64</td><td>i64</td><td>i64</td><td>i64</td><td>i64</td><td>i64</td><td>i64</td><td>i64</td><td>i64</td><td>i64</td><td>i64</td><td>i64</td><td>i64</td><td>i64</td><td>i64</td><td>i64</td><td>i64</td><td>i64</td><td>i64</td><td>i64</td><td>i64</td><td>i64</td><td>i64</td><td>i64</td><td>i64</td><td>i64</td><td>i64</td><td>i64</td><td>i64</td><td>i64</td><td>i64</td><td>i64</td><td>i64</td><td>i64</td><td>i64</td><td>i64</td><td>i64</td><td>i64</td><td>i64</td><td>f64</td><td>f64</td><td>f64</td><td>f64</td><td>f64</td><td>f64</td><td>i64</td><td>f64</td><td>i64</td><td>i64</td><td>i64</td></tr></thead><tbody><tr><td>&quot;1:1065296:T:C&quot;</td><td>&quot;rs4072537&quot;</td><td>&quot;P&quot;</td><td>&quot;UKBB&quot;</td><td>&quot;Non-genic&quot;</td><td>&quot;intergenic_variant&quot;</td><td>&quot;NA&quot;</td><td>&quot;NA&quot;</td><td>null</td><td>&quot;NA&quot;</td><td>0.68127</td><td>-0.014632</td><td>0.0025222</td><td>6.6000e-9</td><td>0.99291</td><td>0.99592</td><td>1</td><td>-0.014112</td><td>0.0026386</td><td>0.98991</td><td>1</td><td>-0.015451</td><td>0.0031034</td><td>0</td><td>0</td><td>0</td><td>0</td><td>0</td><td>0</td><td>0</td><td>0</td><td>0</td><td>0</td><td>0</td><td>0</td><td>0</td><td>0</td><td>0</td><td>1</td><td>1</td><td>1</td><td>0</td><td>1</td><td>0</td><td>1</td><td>0</td><td>0</td><td>0</td><td>0</td><td>0</td><td>1</td><td>0</td><td>0</td><td>1</td><td>0</td><td>0</td><td>0</td><td>0</td><td>0</td><td>0</td><td>0</td><td>0</td><td>15184.0</td><td>0.06</td><td>1.0</td><td>null</td><td>null</td><td>null</td><td>null</td><td>55558.0</td><td>0</td><td>1</td><td>0</td></tr><tr><td>&quot;1:2205581:C:A&quot;</td><td>&quot;rs12045693&quot;</td><td>&quot;Height&quot;</td><td>&quot;FG&quot;</td><td>&quot;CRE&quot;</td><td>&quot;intron_variant&quot;</td><td>&quot;SKI&quot;</td><td>&quot;NA&quot;</td><td>null</td><td>&quot;NA&quot;</td><td>0.45439</td><td>0.013377</td><td>0.0021935</td><td>1.1000e-9</td><td>0.95993</td><td>0.96102</td><td>1</td><td>0.012205</td><td>0.0032456</td><td>0.95884</td><td>1</td><td>0.018533</td><td>0.025617</td><td>0</td><td>0</td><td>0</td><td>0</td><td>0</td><td>0</td><td>0</td><td>0</td><td>0</td><td>0</td><td>0</td><td>0</td><td>0</td><td>0</td><td>0</td><td>1</td><td>1</td><td>1</td><td>0</td><td>1</td><td>1</td><td>1</td><td>1</td><td>1</td><td>0</td><td>0</td><td>1</td><td>0</td><td>0</td><td>0</td><td>1</td><td>0</td><td>0</td><td>1</td><td>0</td><td>0</td><td>1</td><td>0</td><td>0</td><td>15579.0</td><td>0.072</td><td>0.99999</td><td>null</td><td>null</td><td>null</td><td>2</td><td>29400.0</td><td>1</td><td>1</td><td>0</td></tr><tr><td>&quot;1:2224836:G:A&quot;</td><td>&quot;rs12743493&quot;</td><td>&quot;Height&quot;</td><td>&quot;UKBB&quot;</td><td>&quot;Non-genic&quot;</td><td>&quot;intron_variant&quot;</td><td>&quot;SKI&quot;</td><td>&quot;NA&quot;</td><td>null</td><td>&quot;NA&quot;</td><td>0.3707</td><td>0.0094761</td><td>0.0013345</td><td>1.2000e-12</td><td>0.99993</td><td>0.99986</td><td>3</td><td>0.010871</td><td>0.0013301</td><td>1.0</td><td>5</td><td>0.020761</td><td>0.0025061</td><td>0</td><td>0</td><td>0</td><td>0</td><td>0</td><td>0</td><td>0</td><td>0</td><td>0</td><td>0</td><td>0</td><td>0</td><td>0</td><td>0</td><td>0</td><td>1</td><td>1</td><td>1</td><td>1</td><td>1</td><td>0</td><td>1</td><td>0</td><td>0</td><td>0</td><td>0</td><td>1</td><td>0</td><td>0</td><td>0</td><td>1</td><td>0</td><td>0</td><td>1</td><td>0</td><td>0</td><td>1</td><td>0</td><td>0</td><td>17914.0</td><td>0.089</td><td>null</td><td>null</td><td>null</td><td>null</td><td>null</td><td>21099.0</td><td>0</td><td>1</td><td>0</td></tr><tr><td>&quot;1:2242249:CAG:C&quot;</td><td>&quot;rs74911766&quot;</td><td>&quot;Height&quot;</td><td>&quot;UKBB&quot;</td><td>&quot;CRE&quot;</td><td>&quot;downstream_gene_variant&quot;</td><td>&quot;SKI&quot;</td><td>&quot;NA&quot;</td><td>null</td><td>&quot;NA&quot;</td><td>0.20641</td><td>-0.007188</td><td>0.0016081</td><td>0.0000078</td><td>0.99119</td><td>0.98238</td><td>6</td><td>-0.008901</td><td>0.0019706</td><td>1.0</td><td>6</td><td>-0.017673</td><td>0.002994</td><td>0</td><td>0</td><td>0</td><td>0</td><td>0</td><td>0</td><td>0</td><td>0</td><td>0</td><td>0</td><td>0</td><td>0</td><td>0</td><td>0</td><td>0</td><td>1</td><td>1</td><td>1</td><td>0</td><td>1</td><td>0</td><td>1</td><td>0</td><td>0</td><td>0</td><td>0</td><td>0</td><td>0</td><td>0</td><td>0</td><td>1</td><td>1</td><td>0</td><td>1</td><td>0</td><td>0</td><td>1</td><td>0</td><td>0</td><td>null</td><td>0.112</td><td>null</td><td>null</td><td>null</td><td>null</td><td>null</td><td>null</td><td>1</td><td>1</td><td>0</td></tr><tr><td>&quot;1:2996602:T:C&quot;</td><td>&quot;rs1569419&quot;</td><td>&quot;MCH&quot;</td><td>&quot;UKBB&quot;</td><td>&quot;CRE&quot;</td><td>&quot;intron_variant&quot;</td><td>&quot;PRDM16&quot;</td><td>&quot;NA&quot;</td><td>null</td><td>&quot;NA&quot;</td><td>0.76714</td><td>-0.029702</td><td>0.0025439</td><td>1.7000e-31</td><td>0.99958</td><td>1.0</td><td>1</td><td>-0.028994</td><td>0.0025344</td><td>0.99916</td><td>1</td><td>-0.032396</td><td>0.0029847</td><td>0</td><td>0</td><td>0</td><td>0</td><td>0</td><td>0</td><td>0</td><td>0</td><td>0</td><td>0</td><td>0</td><td>0</td><td>0</td><td>0</td><td>0</td><td>1</td><td>1</td><td>1</td><td>1</td><td>1</td><td>0</td><td>1</td><td>0</td><td>0</td><td>0</td><td>0</td><td>1</td><td>0</td><td>0</td><td>0</td><td>1</td><td>0</td><td>0</td><td>0</td><td>0</td><td>0</td><td>0</td><td>0</td><td>0</td><td>21654.0</td><td>0.027</td><td>1.0</td><td>0.25394</td><td>null</td><td>null</td><td>null</td><td>15896.0</td><td>1</td><td>1</td><td>0</td></tr><tr><td>&hellip;</td><td>&hellip;</td><td>&hellip;</td><td>&hellip;</td><td>&hellip;</td><td>&hellip;</td><td>&hellip;</td><td>&hellip;</td><td>&hellip;</td><td>&hellip;</td><td>&hellip;</td><td>&hellip;</td><td>&hellip;</td><td>&hellip;</td><td>&hellip;</td><td>&hellip;</td><td>&hellip;</td><td>&hellip;</td><td>&hellip;</td><td>&hellip;</td><td>&hellip;</td><td>&hellip;</td><td>&hellip;</td><td>&hellip;</td><td>&hellip;</td><td>&hellip;</td><td>&hellip;</td><td>&hellip;</td><td>&hellip;</td><td>&hellip;</td><td>&hellip;</td><td>&hellip;</td><td>&hellip;</td><td>&hellip;</td><td>&hellip;</td><td>&hellip;</td><td>&hellip;</td><td>&hellip;</td><td>&hellip;</td><td>&hellip;</td><td>&hellip;</td><td>&hellip;</td><td>&hellip;</td><td>&hellip;</td><td>&hellip;</td><td>&hellip;</td><td>&hellip;</td><td>&hellip;</td><td>&hellip;</td><td>&hellip;</td><td>&hellip;</td><td>&hellip;</td><td>&hellip;</td><td>&hellip;</td><td>&hellip;</td><td>&hellip;</td><td>&hellip;</td><td>&hellip;</td><td>&hellip;</td><td>&hellip;</td><td>&hellip;</td><td>&hellip;</td><td>&hellip;</td><td>&hellip;</td><td>&hellip;</td><td>&hellip;</td><td>&hellip;</td><td>&hellip;</td><td>&hellip;</td><td>&hellip;</td><td>&hellip;</td><td>&hellip;</td><td>&hellip;</td></tr><tr><td>&quot;X:147583958:G:A&quot;</td><td>&quot;rs1978082&quot;</td><td>&quot;Mono&quot;</td><td>&quot;UKBB&quot;</td><td>&quot;Promoter&quot;</td><td>&quot;intron_variant&quot;</td><td>&quot;AFF2&quot;</td><td>&quot;NA&quot;</td><td>null</td><td>&quot;NA&quot;</td><td>0.57385</td><td>-0.019647</td><td>0.0018135</td><td>2.4000e-27</td><td>0.98734</td><td>0.99995</td><td>1</td><td>-0.017807</td><td>0.0018088</td><td>0.97472</td><td>1</td><td>-0.025187</td><td>0.0067275</td><td>0</td><td>0</td><td>1</td><td>0</td><td>0</td><td>0</td><td>0</td><td>1</td><td>1</td><td>1</td><td>1</td><td>1</td><td>0</td><td>0</td><td>1</td><td>1</td><td>0</td><td>1</td><td>1</td><td>1</td><td>0</td><td>1</td><td>0</td><td>0</td><td>0</td><td>0</td><td>0</td><td>1</td><td>1</td><td>0</td><td>0</td><td>0</td><td>0</td><td>0</td><td>0</td><td>0</td><td>0</td><td>0</td><td>0</td><td>null</td><td>null</td><td>null</td><td>null</td><td>null</td><td>null</td><td>null</td><td>null</td><td>0</td><td>0</td><td>1</td></tr><tr><td>&quot;X:151524113:C:T&quot;</td><td>&quot;rs145334807&quot;</td><td>&quot;IGF1&quot;</td><td>&quot;UKBB&quot;</td><td>&quot;Non-genic&quot;</td><td>&quot;intron_variant&quot;</td><td>&quot;GABRA3&quot;</td><td>&quot;NA&quot;</td><td>null</td><td>&quot;NA&quot;</td><td>0.021488</td><td>-0.041321</td><td>0.0065418</td><td>2.7000e-10</td><td>0.98589</td><td>0.98052</td><td>2</td><td>-0.041709</td><td>0.0086931</td><td>0.99126</td><td>2</td><td>-0.05493</td><td>0.0097754</td><td>0</td><td>0</td><td>0</td><td>0</td><td>0</td><td>0</td><td>0</td><td>0</td><td>0</td><td>0</td><td>0</td><td>0</td><td>0</td><td>0</td><td>0</td><td>0</td><td>0</td><td>0</td><td>0</td><td>0</td><td>0</td><td>0</td><td>0</td><td>0</td><td>0</td><td>0</td><td>0</td><td>0</td><td>0</td><td>0</td><td>0</td><td>0</td><td>0</td><td>0</td><td>0</td><td>0</td><td>0</td><td>0</td><td>0</td><td>null</td><td>null</td><td>null</td><td>null</td><td>null</td><td>null</td><td>null</td><td>null</td><td>0</td><td>0</td><td>0</td></tr><tr><td>&quot;X:153192349:C:A&quot;</td><td>&quot;rs79022793&quot;</td><td>&quot;Lym&quot;</td><td>&quot;BBJ&quot;</td><td>&quot;Promoter&quot;</td><td>&quot;upstream_gene_variant&quot;</td><td>&quot;ARHGAP4&quot;</td><td>&quot;NA&quot;</td><td>null</td><td>&quot;NA&quot;</td><td>0.15859</td><td>0.03174</td><td>0.0057866</td><td>4.1000e-8</td><td>0.94485</td><td>0.95949</td><td>1</td><td>0.029085</td><td>0.0081695</td><td>0.93022</td><td>1</td><td>0.0316</td><td>0.010643</td><td>0</td><td>1</td><td>1</td><td>0</td><td>0</td><td>0</td><td>0</td><td>0</td><td>0</td><td>1</td><td>1</td><td>1</td><td>0</td><td>1</td><td>1</td><td>1</td><td>0</td><td>1</td><td>1</td><td>1</td><td>0</td><td>1</td><td>0</td><td>0</td><td>1</td><td>0</td><td>0</td><td>0</td><td>1</td><td>0</td><td>1</td><td>1</td><td>1</td><td>0</td><td>0</td><td>0</td><td>1</td><td>0</td><td>0</td><td>null</td><td>null</td><td>null</td><td>null</td><td>null</td><td>null</td><td>null</td><td>null</td><td>1</td><td>0</td><td>1</td></tr><tr><td>&quot;X:153192433:C:A&quot;</td><td>&quot;rs2269369&quot;</td><td>&quot;Plt&quot;</td><td>&quot;BBJ&quot;</td><td>&quot;Promoter&quot;</td><td>&quot;upstream_gene_variant&quot;</td><td>&quot;ARHGAP4&quot;</td><td>&quot;NA&quot;</td><td>null</td><td>&quot;NA&quot;</td><td>0.27361</td><td>0.028409</td><td>0.0034444</td><td>1.6000e-16</td><td>0.99993</td><td>0.99993</td><td>1</td><td>0.027989</td><td>0.0034271</td><td>0.99994</td><td>1</td><td>0.033834</td><td>0.0041318</td><td>0</td><td>1</td><td>1</td><td>0</td><td>0</td><td>0</td><td>0</td><td>0</td><td>0</td><td>1</td><td>1</td><td>1</td><td>0</td><td>1</td><td>1</td><td>1</td><td>0</td><td>1</td><td>1</td><td>1</td><td>0</td><td>1</td><td>0</td><td>0</td><td>1</td><td>0</td><td>0</td><td>0</td><td>1</td><td>0</td><td>1</td><td>1</td><td>1</td><td>0</td><td>0</td><td>0</td><td>1</td><td>0</td><td>0</td><td>null</td><td>null</td><td>null</td><td>null</td><td>null</td><td>null</td><td>null</td><td>null</td><td>1</td><td>0</td><td>1</td></tr><tr><td>&quot;X:153525595:G:GT&quot;</td><td>&quot;rs142646789&quot;</td><td>&quot;WBC&quot;</td><td>&quot;UKBB&quot;</td><td>&quot;Promoter&quot;</td><td>&quot;intron_variant&quot;</td><td>&quot;TKTL1&quot;</td><td>&quot;NA&quot;</td><td>null</td><td>&quot;NA&quot;</td><td>0.092245</td><td>-0.027059</td><td>0.0033046</td><td>2.6000e-16</td><td>0.94476</td><td>0.94881</td><td>1</td><td>-0.024754</td><td>0.006577</td><td>0.94072</td><td>1</td><td>-0.031296</td><td>0.008976</td><td>0</td><td>0</td><td>0</td><td>0</td><td>0</td><td>0</td><td>0</td><td>0</td><td>0</td><td>0</td><td>0</td><td>0</td><td>0</td><td>0</td><td>0</td><td>0</td><td>0</td><td>1</td><td>0</td><td>0</td><td>0</td><td>0</td><td>0</td><td>0</td><td>0</td><td>0</td><td>0</td><td>0</td><td>1</td><td>0</td><td>0</td><td>1</td><td>0</td><td>0</td><td>0</td><td>0</td><td>0</td><td>0</td><td>0</td><td>null</td><td>null</td><td>null</td><td>null</td><td>null</td><td>null</td><td>null</td><td>null</td><td>0</td><td>0</td><td>0</td></tr></tbody></table></div>"
      ],
      "text/plain": [
       "shape: (4_665, 73)\n",
       "┌────────────┬────────────┬────────┬────────┬───┬───────────┬────────────┬────────────┬────────────┐\n",
       "│ variant    ┆ rsid       ┆ trait  ┆ cohort ┆ … ┆ alleleage ┆ DHSmerged_ ┆ Roadmap_H3 ┆ CA_H3K27ac │\n",
       "│ ---        ┆ ---        ┆ ---    ┆ ---    ┆   ┆ ---       ┆ Ulirsch    ┆ K27ac_Ulir ┆ _Ulirsch   │\n",
       "│ str        ┆ str        ┆ str    ┆ str    ┆   ┆ f64       ┆ ---        ┆ sch        ┆ ---        │\n",
       "│            ┆            ┆        ┆        ┆   ┆           ┆ i64        ┆ ---        ┆ i64        │\n",
       "│            ┆            ┆        ┆        ┆   ┆           ┆            ┆ i64        ┆            │\n",
       "╞════════════╪════════════╪════════╪════════╪═══╪═══════════╪════════════╪════════════╪════════════╡\n",
       "│ 1:1065296: ┆ rs4072537  ┆ P      ┆ UKBB   ┆ … ┆ 55558.0   ┆ 0          ┆ 1          ┆ 0          │\n",
       "│ T:C        ┆            ┆        ┆        ┆   ┆           ┆            ┆            ┆            │\n",
       "│ 1:2205581: ┆ rs12045693 ┆ Height ┆ FG     ┆ … ┆ 29400.0   ┆ 1          ┆ 1          ┆ 0          │\n",
       "│ C:A        ┆            ┆        ┆        ┆   ┆           ┆            ┆            ┆            │\n",
       "│ 1:2224836: ┆ rs12743493 ┆ Height ┆ UKBB   ┆ … ┆ 21099.0   ┆ 0          ┆ 1          ┆ 0          │\n",
       "│ G:A        ┆            ┆        ┆        ┆   ┆           ┆            ┆            ┆            │\n",
       "│ 1:2242249: ┆ rs74911766 ┆ Height ┆ UKBB   ┆ … ┆ null      ┆ 1          ┆ 1          ┆ 0          │\n",
       "│ CAG:C      ┆            ┆        ┆        ┆   ┆           ┆            ┆            ┆            │\n",
       "│ 1:2996602: ┆ rs1569419  ┆ MCH    ┆ UKBB   ┆ … ┆ 15896.0   ┆ 1          ┆ 1          ┆ 0          │\n",
       "│ T:C        ┆            ┆        ┆        ┆   ┆           ┆            ┆            ┆            │\n",
       "│ …          ┆ …          ┆ …      ┆ …      ┆ … ┆ …         ┆ …          ┆ …          ┆ …          │\n",
       "│ X:14758395 ┆ rs1978082  ┆ Mono   ┆ UKBB   ┆ … ┆ null      ┆ 0          ┆ 0          ┆ 1          │\n",
       "│ 8:G:A      ┆            ┆        ┆        ┆   ┆           ┆            ┆            ┆            │\n",
       "│ X:15152411 ┆ rs14533480 ┆ IGF1   ┆ UKBB   ┆ … ┆ null      ┆ 0          ┆ 0          ┆ 0          │\n",
       "│ 3:C:T      ┆ 7          ┆        ┆        ┆   ┆           ┆            ┆            ┆            │\n",
       "│ X:15319234 ┆ rs79022793 ┆ Lym    ┆ BBJ    ┆ … ┆ null      ┆ 1          ┆ 0          ┆ 1          │\n",
       "│ 9:C:A      ┆            ┆        ┆        ┆   ┆           ┆            ┆            ┆            │\n",
       "│ X:15319243 ┆ rs2269369  ┆ Plt    ┆ BBJ    ┆ … ┆ null      ┆ 1          ┆ 0          ┆ 1          │\n",
       "│ 3:C:A      ┆            ┆        ┆        ┆   ┆           ┆            ┆            ┆            │\n",
       "│ X:15352559 ┆ rs14264678 ┆ WBC    ┆ UKBB   ┆ … ┆ null      ┆ 0          ┆ 0          ┆ 0          │\n",
       "│ 5:G:GT     ┆ 9          ┆        ┆        ┆   ┆           ┆            ┆            ┆            │\n",
       "└────────────┴────────────┴────────┴────────┴───┴───────────┴────────────┴────────────┴────────────┘"
      ]
     },
     "execution_count": 12,
     "metadata": {},
     "output_type": "execute_result"
    }
   ],
   "source": [
    "V = pl.read_excel(\n",
    "    'insights.xlsx', sheet_name='ST3_high_PIP_pairs', read_options=dict(header_row=2)\n",
    ")\n",
    "V"
   ]
  },
  {
   "cell_type": "code",
   "execution_count": 15,
   "metadata": {},
   "outputs": [
    {
     "data": {
      "text/html": [
       "<div><style>\n",
       ".dataframe > thead > tr,\n",
       ".dataframe > tbody > tr {\n",
       "  text-align: right;\n",
       "  white-space: pre-wrap;\n",
       "}\n",
       "</style>\n",
       "<small>shape: (8, 2)</small><table border=\"1\" class=\"dataframe\"><thead><tr><th>consequence</th><th>count</th></tr><tr><td>str</td><td>u32</td></tr></thead><tbody><tr><td>&quot;Non-genic&quot;</td><td>1341</td></tr><tr><td>&quot;Missense&quot;</td><td>1241</td></tr><tr><td>&quot;CRE&quot;</td><td>1161</td></tr><tr><td>&quot;Promoter&quot;</td><td>579</td></tr><tr><td>&quot;UTR3&quot;</td><td>138</td></tr><tr><td>&quot;UTR5&quot;</td><td>78</td></tr><tr><td>&quot;Synonymous&quot;</td><td>75</td></tr><tr><td>&quot;pLoF&quot;</td><td>52</td></tr></tbody></table></div>"
      ],
      "text/plain": [
       "shape: (8, 2)\n",
       "┌─────────────┬───────┐\n",
       "│ consequence ┆ count │\n",
       "│ ---         ┆ ---   │\n",
       "│ str         ┆ u32   │\n",
       "╞═════════════╪═══════╡\n",
       "│ Non-genic   ┆ 1341  │\n",
       "│ Missense    ┆ 1241  │\n",
       "│ CRE         ┆ 1161  │\n",
       "│ Promoter    ┆ 579   │\n",
       "│ UTR3        ┆ 138   │\n",
       "│ UTR5        ┆ 78    │\n",
       "│ Synonymous  ┆ 75    │\n",
       "│ pLoF        ┆ 52    │\n",
       "└─────────────┴───────┘"
      ]
     },
     "execution_count": 15,
     "metadata": {},
     "output_type": "execute_result"
    }
   ],
   "source": [
    "V[\"consequence\"].value_counts().sort(\"count\", descending=True)"
   ]
  },
  {
   "cell_type": "code",
   "execution_count": 16,
   "metadata": {},
   "outputs": [
    {
     "data": {
      "text/html": [
       "<div><style>\n",
       ".dataframe > thead > tr,\n",
       ".dataframe > tbody > tr {\n",
       "  text-align: right;\n",
       "  white-space: pre-wrap;\n",
       "}\n",
       "</style>\n",
       "<small>shape: (3_054, 73)</small><table border=\"1\" class=\"dataframe\"><thead><tr><th>variant</th><th>rsid</th><th>trait</th><th>cohort</th><th>consequence</th><th>most_severe</th><th>gene_most_severe</th><th>clinvar</th><th>max_pip_coloc</th><th>tissue_max_pip_coloc</th><th>af</th><th>beta_marginal</th><th>se_marginal</th><th>pvalue</th><th>pip</th><th>susie.pip</th><th>susie.cs_id</th><th>susie.beta_posterior</th><th>susie.sd_posterior</th><th>finemap.pip</th><th>finemap.cs_id</th><th>finemap.beta_posterior</th><th>finemap.sd_posterior</th><th>Ancient_Sequence_Age_Human_Enhancer</th><th>Ancient_Sequence_Age_Human_Promoter</th><th>BivFlnk</th><th>CTCF_Hoffman</th><th>Coding_UCSC</th><th>Conserved_LindbladToh</th><th>Conserved_Mammal_phastCons46way</th><th>Conserved_Primate_phastCons46way</th><th>Conserved_Vertebrate_phastCons46way</th><th>DGF_ENCODE</th><th>DHS_Trynka</th><th>DHS_peaks_Trynka</th><th>Enhancer_Andersson</th><th>Enhancer_Hoffman</th><th>FetalDHS_Trynka</th><th>H3K27ac_Hnisz</th><th>H3K27ac_PGC2</th><th>H3K4me1_Trynka</th><th>H3K4me1_peaks_Trynka</th><th>H3K4me3_Trynka</th><th>H3K4me3_peaks_Trynka</th><th>H3K9ac_Trynka</th><th>H3K9ac_peaks_Trynka</th><th>Human_Enhancer_Villar</th><th>Human_Promoter_Villar</th><th>Human_Promoter_Villar_ExAC</th><th>Intron_UCSC</th><th>PromoterFlanking_Hoffman</th><th>Promoter_UCSC</th><th>Repressed_Hoffman</th><th>SuperEnhancer_Hnisz</th><th>TFBS_ENCODE</th><th>TSS_Hoffman</th><th>Transcribed_Hoffman</th><th>UTR_3_UCSC</th><th>UTR_5_UCSC</th><th>Vahedi_Tcell_SE</th><th>Vahedi_Tcell_TE</th><th>WeakEnhancer_Hoffman</th><th>ASMC</th><th>Backgrd_Selection_Stat</th><th>BLUEPRINT_FE_META_TISSUE_DNAMETH_MaxCPP</th><th>BLUEPRINT_FE_META_TISSUE_H3K27ac_MaxCPP</th><th>BLUEPRINT_FE_META_TISSUE_H3K4me1_MaxCPP</th><th>GTEx_FE_META_TISSUE_GE_MaxCPP</th><th>Human_Enhancer_Villar_Species_Enhancer_Count</th><th>alleleage</th><th>DHSmerged_Ulirsch</th><th>Roadmap_H3K27ac_Ulirsch</th><th>CA_H3K27ac_Ulirsch</th></tr><tr><td>str</td><td>str</td><td>str</td><td>str</td><td>str</td><td>str</td><td>str</td><td>str</td><td>f64</td><td>str</td><td>f64</td><td>f64</td><td>f64</td><td>f64</td><td>f64</td><td>f64</td><td>i64</td><td>f64</td><td>f64</td><td>f64</td><td>i64</td><td>f64</td><td>f64</td><td>i64</td><td>i64</td><td>i64</td><td>i64</td><td>i64</td><td>i64</td><td>i64</td><td>i64</td><td>i64</td><td>i64</td><td>i64</td><td>i64</td><td>i64</td><td>i64</td><td>i64</td><td>i64</td><td>i64</td><td>i64</td><td>i64</td><td>i64</td><td>i64</td><td>i64</td><td>i64</td><td>i64</td><td>i64</td><td>i64</td><td>i64</td><td>i64</td><td>i64</td><td>i64</td><td>i64</td><td>i64</td><td>i64</td><td>i64</td><td>i64</td><td>i64</td><td>i64</td><td>i64</td><td>i64</td><td>f64</td><td>f64</td><td>f64</td><td>f64</td><td>f64</td><td>f64</td><td>i64</td><td>f64</td><td>i64</td><td>i64</td><td>i64</td></tr></thead><tbody><tr><td>&quot;1:1065296:T:C&quot;</td><td>&quot;rs4072537&quot;</td><td>&quot;P&quot;</td><td>&quot;UKBB&quot;</td><td>&quot;Non-genic&quot;</td><td>&quot;intergenic_variant&quot;</td><td>&quot;NA&quot;</td><td>&quot;NA&quot;</td><td>null</td><td>&quot;NA&quot;</td><td>0.68127</td><td>-0.014632</td><td>0.0025222</td><td>6.6000e-9</td><td>0.99291</td><td>0.99592</td><td>1</td><td>-0.014112</td><td>0.0026386</td><td>0.98991</td><td>1</td><td>-0.015451</td><td>0.0031034</td><td>0</td><td>0</td><td>0</td><td>0</td><td>0</td><td>0</td><td>0</td><td>0</td><td>0</td><td>0</td><td>0</td><td>0</td><td>0</td><td>0</td><td>0</td><td>1</td><td>1</td><td>1</td><td>0</td><td>1</td><td>0</td><td>1</td><td>0</td><td>0</td><td>0</td><td>0</td><td>0</td><td>1</td><td>0</td><td>0</td><td>1</td><td>0</td><td>0</td><td>0</td><td>0</td><td>0</td><td>0</td><td>0</td><td>0</td><td>15184.0</td><td>0.06</td><td>1.0</td><td>null</td><td>null</td><td>null</td><td>null</td><td>55558.0</td><td>0</td><td>1</td><td>0</td></tr><tr><td>&quot;1:2205581:C:A&quot;</td><td>&quot;rs12045693&quot;</td><td>&quot;Height&quot;</td><td>&quot;FG&quot;</td><td>&quot;CRE&quot;</td><td>&quot;intron_variant&quot;</td><td>&quot;SKI&quot;</td><td>&quot;NA&quot;</td><td>null</td><td>&quot;NA&quot;</td><td>0.45439</td><td>0.013377</td><td>0.0021935</td><td>1.1000e-9</td><td>0.95993</td><td>0.96102</td><td>1</td><td>0.012205</td><td>0.0032456</td><td>0.95884</td><td>1</td><td>0.018533</td><td>0.025617</td><td>0</td><td>0</td><td>0</td><td>0</td><td>0</td><td>0</td><td>0</td><td>0</td><td>0</td><td>0</td><td>0</td><td>0</td><td>0</td><td>0</td><td>0</td><td>1</td><td>1</td><td>1</td><td>0</td><td>1</td><td>1</td><td>1</td><td>1</td><td>1</td><td>0</td><td>0</td><td>1</td><td>0</td><td>0</td><td>0</td><td>1</td><td>0</td><td>0</td><td>1</td><td>0</td><td>0</td><td>1</td><td>0</td><td>0</td><td>15579.0</td><td>0.072</td><td>0.99999</td><td>null</td><td>null</td><td>null</td><td>2</td><td>29400.0</td><td>1</td><td>1</td><td>0</td></tr><tr><td>&quot;1:2224836:G:A&quot;</td><td>&quot;rs12743493&quot;</td><td>&quot;Height&quot;</td><td>&quot;UKBB&quot;</td><td>&quot;Non-genic&quot;</td><td>&quot;intron_variant&quot;</td><td>&quot;SKI&quot;</td><td>&quot;NA&quot;</td><td>null</td><td>&quot;NA&quot;</td><td>0.3707</td><td>0.0094761</td><td>0.0013345</td><td>1.2000e-12</td><td>0.99993</td><td>0.99986</td><td>3</td><td>0.010871</td><td>0.0013301</td><td>1.0</td><td>5</td><td>0.020761</td><td>0.0025061</td><td>0</td><td>0</td><td>0</td><td>0</td><td>0</td><td>0</td><td>0</td><td>0</td><td>0</td><td>0</td><td>0</td><td>0</td><td>0</td><td>0</td><td>0</td><td>1</td><td>1</td><td>1</td><td>1</td><td>1</td><td>0</td><td>1</td><td>0</td><td>0</td><td>0</td><td>0</td><td>1</td><td>0</td><td>0</td><td>0</td><td>1</td><td>0</td><td>0</td><td>1</td><td>0</td><td>0</td><td>1</td><td>0</td><td>0</td><td>17914.0</td><td>0.089</td><td>null</td><td>null</td><td>null</td><td>null</td><td>null</td><td>21099.0</td><td>0</td><td>1</td><td>0</td></tr><tr><td>&quot;1:2996602:T:C&quot;</td><td>&quot;rs1569419&quot;</td><td>&quot;MCH&quot;</td><td>&quot;UKBB&quot;</td><td>&quot;CRE&quot;</td><td>&quot;intron_variant&quot;</td><td>&quot;PRDM16&quot;</td><td>&quot;NA&quot;</td><td>null</td><td>&quot;NA&quot;</td><td>0.76714</td><td>-0.029702</td><td>0.0025439</td><td>1.7000e-31</td><td>0.99958</td><td>1.0</td><td>1</td><td>-0.028994</td><td>0.0025344</td><td>0.99916</td><td>1</td><td>-0.032396</td><td>0.0029847</td><td>0</td><td>0</td><td>0</td><td>0</td><td>0</td><td>0</td><td>0</td><td>0</td><td>0</td><td>0</td><td>0</td><td>0</td><td>0</td><td>0</td><td>0</td><td>1</td><td>1</td><td>1</td><td>1</td><td>1</td><td>0</td><td>1</td><td>0</td><td>0</td><td>0</td><td>0</td><td>1</td><td>0</td><td>0</td><td>0</td><td>1</td><td>0</td><td>0</td><td>0</td><td>0</td><td>0</td><td>0</td><td>0</td><td>0</td><td>21654.0</td><td>0.027</td><td>1.0</td><td>0.25394</td><td>null</td><td>null</td><td>null</td><td>15896.0</td><td>1</td><td>1</td><td>0</td></tr><tr><td>&quot;1:2996602:T:C&quot;</td><td>&quot;rs1569419&quot;</td><td>&quot;MCV&quot;</td><td>&quot;UKBB&quot;</td><td>&quot;CRE&quot;</td><td>&quot;intron_variant&quot;</td><td>&quot;PRDM16&quot;</td><td>&quot;NA&quot;</td><td>null</td><td>&quot;NA&quot;</td><td>0.76714</td><td>-0.027512</td><td>0.0025409</td><td>2.5000e-27</td><td>0.99968</td><td>0.99936</td><td>1</td><td>-0.026642</td><td>0.0026162</td><td>1.0</td><td>1</td><td>-0.029954</td><td>0.0028245</td><td>0</td><td>0</td><td>0</td><td>0</td><td>0</td><td>0</td><td>0</td><td>0</td><td>0</td><td>0</td><td>0</td><td>0</td><td>0</td><td>0</td><td>0</td><td>1</td><td>1</td><td>1</td><td>1</td><td>1</td><td>0</td><td>1</td><td>0</td><td>0</td><td>0</td><td>0</td><td>1</td><td>0</td><td>0</td><td>0</td><td>1</td><td>0</td><td>0</td><td>0</td><td>0</td><td>0</td><td>0</td><td>0</td><td>0</td><td>21654.0</td><td>0.027</td><td>1.0</td><td>0.25394</td><td>null</td><td>null</td><td>null</td><td>15896.0</td><td>1</td><td>1</td><td>0</td></tr><tr><td>&hellip;</td><td>&hellip;</td><td>&hellip;</td><td>&hellip;</td><td>&hellip;</td><td>&hellip;</td><td>&hellip;</td><td>&hellip;</td><td>&hellip;</td><td>&hellip;</td><td>&hellip;</td><td>&hellip;</td><td>&hellip;</td><td>&hellip;</td><td>&hellip;</td><td>&hellip;</td><td>&hellip;</td><td>&hellip;</td><td>&hellip;</td><td>&hellip;</td><td>&hellip;</td><td>&hellip;</td><td>&hellip;</td><td>&hellip;</td><td>&hellip;</td><td>&hellip;</td><td>&hellip;</td><td>&hellip;</td><td>&hellip;</td><td>&hellip;</td><td>&hellip;</td><td>&hellip;</td><td>&hellip;</td><td>&hellip;</td><td>&hellip;</td><td>&hellip;</td><td>&hellip;</td><td>&hellip;</td><td>&hellip;</td><td>&hellip;</td><td>&hellip;</td><td>&hellip;</td><td>&hellip;</td><td>&hellip;</td><td>&hellip;</td><td>&hellip;</td><td>&hellip;</td><td>&hellip;</td><td>&hellip;</td><td>&hellip;</td><td>&hellip;</td><td>&hellip;</td><td>&hellip;</td><td>&hellip;</td><td>&hellip;</td><td>&hellip;</td><td>&hellip;</td><td>&hellip;</td><td>&hellip;</td><td>&hellip;</td><td>&hellip;</td><td>&hellip;</td><td>&hellip;</td><td>&hellip;</td><td>&hellip;</td><td>&hellip;</td><td>&hellip;</td><td>&hellip;</td><td>&hellip;</td><td>&hellip;</td><td>&hellip;</td><td>&hellip;</td><td>&hellip;</td></tr><tr><td>&quot;X:147583958:G:A&quot;</td><td>&quot;rs1978082&quot;</td><td>&quot;Mono&quot;</td><td>&quot;UKBB&quot;</td><td>&quot;Promoter&quot;</td><td>&quot;intron_variant&quot;</td><td>&quot;AFF2&quot;</td><td>&quot;NA&quot;</td><td>null</td><td>&quot;NA&quot;</td><td>0.57385</td><td>-0.019647</td><td>0.0018135</td><td>2.4000e-27</td><td>0.98734</td><td>0.99995</td><td>1</td><td>-0.017807</td><td>0.0018088</td><td>0.97472</td><td>1</td><td>-0.025187</td><td>0.0067275</td><td>0</td><td>0</td><td>1</td><td>0</td><td>0</td><td>0</td><td>0</td><td>1</td><td>1</td><td>1</td><td>1</td><td>1</td><td>0</td><td>0</td><td>1</td><td>1</td><td>0</td><td>1</td><td>1</td><td>1</td><td>0</td><td>1</td><td>0</td><td>0</td><td>0</td><td>0</td><td>0</td><td>1</td><td>1</td><td>0</td><td>0</td><td>0</td><td>0</td><td>0</td><td>0</td><td>0</td><td>0</td><td>0</td><td>0</td><td>null</td><td>null</td><td>null</td><td>null</td><td>null</td><td>null</td><td>null</td><td>null</td><td>0</td><td>0</td><td>1</td></tr><tr><td>&quot;X:151524113:C:T&quot;</td><td>&quot;rs145334807&quot;</td><td>&quot;IGF1&quot;</td><td>&quot;UKBB&quot;</td><td>&quot;Non-genic&quot;</td><td>&quot;intron_variant&quot;</td><td>&quot;GABRA3&quot;</td><td>&quot;NA&quot;</td><td>null</td><td>&quot;NA&quot;</td><td>0.021488</td><td>-0.041321</td><td>0.0065418</td><td>2.7000e-10</td><td>0.98589</td><td>0.98052</td><td>2</td><td>-0.041709</td><td>0.0086931</td><td>0.99126</td><td>2</td><td>-0.05493</td><td>0.0097754</td><td>0</td><td>0</td><td>0</td><td>0</td><td>0</td><td>0</td><td>0</td><td>0</td><td>0</td><td>0</td><td>0</td><td>0</td><td>0</td><td>0</td><td>0</td><td>0</td><td>0</td><td>0</td><td>0</td><td>0</td><td>0</td><td>0</td><td>0</td><td>0</td><td>0</td><td>0</td><td>0</td><td>0</td><td>0</td><td>0</td><td>0</td><td>0</td><td>0</td><td>0</td><td>0</td><td>0</td><td>0</td><td>0</td><td>0</td><td>null</td><td>null</td><td>null</td><td>null</td><td>null</td><td>null</td><td>null</td><td>null</td><td>0</td><td>0</td><td>0</td></tr><tr><td>&quot;X:153192349:C:A&quot;</td><td>&quot;rs79022793&quot;</td><td>&quot;Lym&quot;</td><td>&quot;BBJ&quot;</td><td>&quot;Promoter&quot;</td><td>&quot;upstream_gene_variant&quot;</td><td>&quot;ARHGAP4&quot;</td><td>&quot;NA&quot;</td><td>null</td><td>&quot;NA&quot;</td><td>0.15859</td><td>0.03174</td><td>0.0057866</td><td>4.1000e-8</td><td>0.94485</td><td>0.95949</td><td>1</td><td>0.029085</td><td>0.0081695</td><td>0.93022</td><td>1</td><td>0.0316</td><td>0.010643</td><td>0</td><td>1</td><td>1</td><td>0</td><td>0</td><td>0</td><td>0</td><td>0</td><td>0</td><td>1</td><td>1</td><td>1</td><td>0</td><td>1</td><td>1</td><td>1</td><td>0</td><td>1</td><td>1</td><td>1</td><td>0</td><td>1</td><td>0</td><td>0</td><td>1</td><td>0</td><td>0</td><td>0</td><td>1</td><td>0</td><td>1</td><td>1</td><td>1</td><td>0</td><td>0</td><td>0</td><td>1</td><td>0</td><td>0</td><td>null</td><td>null</td><td>null</td><td>null</td><td>null</td><td>null</td><td>null</td><td>null</td><td>1</td><td>0</td><td>1</td></tr><tr><td>&quot;X:153192433:C:A&quot;</td><td>&quot;rs2269369&quot;</td><td>&quot;Plt&quot;</td><td>&quot;BBJ&quot;</td><td>&quot;Promoter&quot;</td><td>&quot;upstream_gene_variant&quot;</td><td>&quot;ARHGAP4&quot;</td><td>&quot;NA&quot;</td><td>null</td><td>&quot;NA&quot;</td><td>0.27361</td><td>0.028409</td><td>0.0034444</td><td>1.6000e-16</td><td>0.99993</td><td>0.99993</td><td>1</td><td>0.027989</td><td>0.0034271</td><td>0.99994</td><td>1</td><td>0.033834</td><td>0.0041318</td><td>0</td><td>1</td><td>1</td><td>0</td><td>0</td><td>0</td><td>0</td><td>0</td><td>0</td><td>1</td><td>1</td><td>1</td><td>0</td><td>1</td><td>1</td><td>1</td><td>0</td><td>1</td><td>1</td><td>1</td><td>0</td><td>1</td><td>0</td><td>0</td><td>1</td><td>0</td><td>0</td><td>0</td><td>1</td><td>0</td><td>1</td><td>1</td><td>1</td><td>0</td><td>0</td><td>0</td><td>1</td><td>0</td><td>0</td><td>null</td><td>null</td><td>null</td><td>null</td><td>null</td><td>null</td><td>null</td><td>null</td><td>1</td><td>0</td><td>1</td></tr><tr><td>&quot;X:153525595:G:GT&quot;</td><td>&quot;rs142646789&quot;</td><td>&quot;WBC&quot;</td><td>&quot;UKBB&quot;</td><td>&quot;Promoter&quot;</td><td>&quot;intron_variant&quot;</td><td>&quot;TKTL1&quot;</td><td>&quot;NA&quot;</td><td>null</td><td>&quot;NA&quot;</td><td>0.092245</td><td>-0.027059</td><td>0.0033046</td><td>2.6000e-16</td><td>0.94476</td><td>0.94881</td><td>1</td><td>-0.024754</td><td>0.006577</td><td>0.94072</td><td>1</td><td>-0.031296</td><td>0.008976</td><td>0</td><td>0</td><td>0</td><td>0</td><td>0</td><td>0</td><td>0</td><td>0</td><td>0</td><td>0</td><td>0</td><td>0</td><td>0</td><td>0</td><td>0</td><td>0</td><td>0</td><td>1</td><td>0</td><td>0</td><td>0</td><td>0</td><td>0</td><td>0</td><td>0</td><td>0</td><td>0</td><td>0</td><td>1</td><td>0</td><td>0</td><td>1</td><td>0</td><td>0</td><td>0</td><td>0</td><td>0</td><td>0</td><td>0</td><td>null</td><td>null</td><td>null</td><td>null</td><td>null</td><td>null</td><td>null</td><td>null</td><td>0</td><td>0</td><td>0</td></tr></tbody></table></div>"
      ],
      "text/plain": [
       "shape: (3_054, 73)\n",
       "┌────────────┬────────────┬────────┬────────┬───┬───────────┬────────────┬────────────┬────────────┐\n",
       "│ variant    ┆ rsid       ┆ trait  ┆ cohort ┆ … ┆ alleleage ┆ DHSmerged_ ┆ Roadmap_H3 ┆ CA_H3K27ac │\n",
       "│ ---        ┆ ---        ┆ ---    ┆ ---    ┆   ┆ ---       ┆ Ulirsch    ┆ K27ac_Ulir ┆ _Ulirsch   │\n",
       "│ str        ┆ str        ┆ str    ┆ str    ┆   ┆ f64       ┆ ---        ┆ sch        ┆ ---        │\n",
       "│            ┆            ┆        ┆        ┆   ┆           ┆ i64        ┆ ---        ┆ i64        │\n",
       "│            ┆            ┆        ┆        ┆   ┆           ┆            ┆ i64        ┆            │\n",
       "╞════════════╪════════════╪════════╪════════╪═══╪═══════════╪════════════╪════════════╪════════════╡\n",
       "│ 1:1065296: ┆ rs4072537  ┆ P      ┆ UKBB   ┆ … ┆ 55558.0   ┆ 0          ┆ 1          ┆ 0          │\n",
       "│ T:C        ┆            ┆        ┆        ┆   ┆           ┆            ┆            ┆            │\n",
       "│ 1:2205581: ┆ rs12045693 ┆ Height ┆ FG     ┆ … ┆ 29400.0   ┆ 1          ┆ 1          ┆ 0          │\n",
       "│ C:A        ┆            ┆        ┆        ┆   ┆           ┆            ┆            ┆            │\n",
       "│ 1:2224836: ┆ rs12743493 ┆ Height ┆ UKBB   ┆ … ┆ 21099.0   ┆ 0          ┆ 1          ┆ 0          │\n",
       "│ G:A        ┆            ┆        ┆        ┆   ┆           ┆            ┆            ┆            │\n",
       "│ 1:2996602: ┆ rs1569419  ┆ MCH    ┆ UKBB   ┆ … ┆ 15896.0   ┆ 1          ┆ 1          ┆ 0          │\n",
       "│ T:C        ┆            ┆        ┆        ┆   ┆           ┆            ┆            ┆            │\n",
       "│ 1:2996602: ┆ rs1569419  ┆ MCV    ┆ UKBB   ┆ … ┆ 15896.0   ┆ 1          ┆ 1          ┆ 0          │\n",
       "│ T:C        ┆            ┆        ┆        ┆   ┆           ┆            ┆            ┆            │\n",
       "│ …          ┆ …          ┆ …      ┆ …      ┆ … ┆ …         ┆ …          ┆ …          ┆ …          │\n",
       "│ X:14758395 ┆ rs1978082  ┆ Mono   ┆ UKBB   ┆ … ┆ null      ┆ 0          ┆ 0          ┆ 1          │\n",
       "│ 8:G:A      ┆            ┆        ┆        ┆   ┆           ┆            ┆            ┆            │\n",
       "│ X:15152411 ┆ rs14533480 ┆ IGF1   ┆ UKBB   ┆ … ┆ null      ┆ 0          ┆ 0          ┆ 0          │\n",
       "│ 3:C:T      ┆ 7          ┆        ┆        ┆   ┆           ┆            ┆            ┆            │\n",
       "│ X:15319234 ┆ rs79022793 ┆ Lym    ┆ BBJ    ┆ … ┆ null      ┆ 1          ┆ 0          ┆ 1          │\n",
       "│ 9:C:A      ┆            ┆        ┆        ┆   ┆           ┆            ┆            ┆            │\n",
       "│ X:15319243 ┆ rs2269369  ┆ Plt    ┆ BBJ    ┆ … ┆ null      ┆ 1          ┆ 0          ┆ 1          │\n",
       "│ 3:C:A      ┆            ┆        ┆        ┆   ┆           ┆            ┆            ┆            │\n",
       "│ X:15352559 ┆ rs14264678 ┆ WBC    ┆ UKBB   ┆ … ┆ null      ┆ 0          ┆ 0          ┆ 0          │\n",
       "│ 5:G:GT     ┆ 9          ┆        ┆        ┆   ┆           ┆            ┆            ┆            │\n",
       "└────────────┴────────────┴────────┴────────┴───┴───────────┴────────────┴────────────┴────────────┘"
      ]
     },
     "execution_count": 16,
     "metadata": {},
     "output_type": "execute_result"
    }
   ],
   "source": [
    "V = V.filter(\n",
    "    pl.col(\"pvalue\") < 5e-8,\n",
    "    pl.col(\"consequence\").is_in([\"UTR3\", \"UTR5\", \"CRE\", \"Non-genic\", \"Promoter\"])\n",
    ")\n",
    "V"
   ]
  },
  {
   "cell_type": "code",
   "execution_count": 17,
   "metadata": {},
   "outputs": [
    {
     "data": {
      "text/plain": [
       "1702"
      ]
     },
     "execution_count": 17,
     "metadata": {},
     "output_type": "execute_result"
    }
   ],
   "source": [
    "len(V.filter(pl.col(\"cohort\")==\"UKBB\").unique(\"variant\"))"
   ]
  },
  {
   "cell_type": "code",
   "execution_count": 18,
   "metadata": {},
   "outputs": [
    {
     "data": {
      "text/plain": [
       "2037"
      ]
     },
     "execution_count": 18,
     "metadata": {},
     "output_type": "execute_result"
    }
   ],
   "source": [
    "len(V.unique(\"variant\"))"
   ]
  },
  {
   "cell_type": "code",
   "execution_count": 19,
   "metadata": {},
   "outputs": [
    {
     "data": {
      "text/plain": [
       "335"
      ]
     },
     "execution_count": 19,
     "metadata": {},
     "output_type": "execute_result"
    }
   ],
   "source": [
    "2037 - 1702"
   ]
  },
  {
   "cell_type": "code",
   "execution_count": null,
   "metadata": {},
   "outputs": [],
   "source": []
  }
 ],
 "metadata": {
  "kernelspec": {
   "display_name": "gpn",
   "language": "python",
   "name": "gpn"
  },
  "language_info": {
   "codemirror_mode": {
    "name": "ipython",
    "version": 3
   },
   "file_extension": ".py",
   "mimetype": "text/x-python",
   "name": "python",
   "nbconvert_exporter": "python",
   "pygments_lexer": "ipython3",
   "version": "3.11.3"
  }
 },
 "nbformat": 4,
 "nbformat_minor": 2
}
