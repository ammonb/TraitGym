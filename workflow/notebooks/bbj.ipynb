{
 "cells": [
  {
   "cell_type": "code",
   "execution_count": 1,
   "metadata": {},
   "outputs": [],
   "source": [
    "import polars as pl"
   ]
  },
  {
   "cell_type": "code",
   "execution_count": 2,
   "metadata": {},
   "outputs": [
    {
     "name": "stdout",
     "output_type": "stream",
     "text": [
      "--2024-08-19 10:41:39--  https://humandbs.dbcls.jp/files/hum0197/hum0197.v5.finemap.AD.v1.zip\n",
      "Resolving humandbs.dbcls.jp (humandbs.dbcls.jp)... 133.39.78.111\n",
      "Connecting to humandbs.dbcls.jp (humandbs.dbcls.jp)|133.39.78.111|:443... connected.\n",
      "HTTP request sent, awaiting response... 200 OK\n",
      "Length: 19339169 (18M) [application/zip]\n",
      "Saving to: ‘hum0197.v5.finemap.AD.v1.zip’\n",
      "\n",
      "hum0197.v5.finemap. 100%[===================>]  18.44M  10.0MB/s    in 1.8s    \n",
      "\n",
      "2024-08-19 10:41:42 (10.0 MB/s) - ‘hum0197.v5.finemap.AD.v1.zip’ saved [19339169/19339169]\n",
      "\n"
     ]
    }
   ],
   "source": [
    "!wget https://humandbs.dbcls.jp/files/hum0197/hum0197.v5.finemap.AD.v1.zip"
   ]
  },
  {
   "cell_type": "code",
   "execution_count": 3,
   "metadata": {},
   "outputs": [
    {
     "name": "stdout",
     "output_type": "stream",
     "text": [
      "Archive:  hum0197.v5.finemap.AD.v1.zip\n",
      " extracting: BBJ.AD.Kanai2021.FINEMAP.tsv.gz  \n",
      "  inflating: BBJ.AD.Kanai2021.SuSiE.tsv.gz  \n"
     ]
    }
   ],
   "source": [
    "!unzip hum0197.v5.finemap.AD.v1.zip"
   ]
  },
  {
   "cell_type": "code",
   "execution_count": 6,
   "metadata": {},
   "outputs": [
    {
     "name": "stdout",
     "output_type": "stream",
     "text": [
      "chromosome\tposition\tallele1\tallele2\tvariant\trsid\taf_allele2\tbeta_marginal\tse_marginal\tpvalue\tregion\tpip\tcs_id\tbeta_posterior\tsd_posterior\talpha1\talpha2\talpha3\talpha4\talpha5\talpha6\talpha7\talpha8\talpha9\talpha10\tlbf_variable1\tlbf_variable2\tlbf_variable3\tlbf_variable4\tlbf_variable5\tlbf_variable6\tlbf_variable7\tlbf_variable8\tlbf_variable9\tlbf_variable10\n",
      "1\t150702248\tT\tC\t1:150702248:T:C\trs587677365\t5.0057e-04\t3.1721e-01\t5.9102e-01\t5.9146e-01\t1:150701387-153701387\t9.4639e-07\t-1\t3.0025e-07\t6.5152e-04\t6.0826e-18\t5.7962e-10\t9.4581e-07\t7.6324e-05\t7.6324e-05\t7.6324e-05\t7.6324e-05\t7.6324e-05\t7.6324e-05\t7.6324e-05\t-2.7282e+00\t-2.7128e+00\t-2.7199e+00\t0.0000e+00\t0.0000e+00\t0.0000e+00\t0.0000e+00\t0.0000e+00\t0.0000e+00\t0.0000e+00\n",
      "1\t150702249\tT\tC\t1:150702249:T:C\trs587732848\t5.0060e-04\t3.1716e-01\t5.9102e-01\t5.9151e-01\t1:150701387-153701387\t9.4635e-07\t-1\t3.0020e-07\t6.5149e-04\t6.0824e-18\t5.7960e-10\t9.4577e-07\t7.6324e-05\t7.6324e-05\t7.6324e-05\t7.6324e-05\t7.6324e-05\t7.6324e-05\t7.6324e-05\t-2.7282e+00\t-2.7129e+00\t-2.7200e+00\t0.0000e+00\t0.0000e+00\t0.0000e+00\t0.0000e+00\t0.0000e+00\t0.0000e+00\t0.0000e+00\n",
      "1\t150702663\tA\tC\t1:150702663:A:C\trs7540874\t3.9122e-01\t6.3056e-03\t2.5349e-02\t8.0356e-01\t1:150701387-153701387\t8.7332e-07\t-1\t7.9206e-09\t2.5116e-05\t5.3085e-18\t6.7522e-10\t8.7264e-07\t7.6324e-05\t7.6324e-05\t7.6324e-05\t7.6324e-05\t7.6324e-05\t7.6324e-05\t7.6324e-05\t-2.8643e+00\t-2.5602e+00\t-2.8004e+00\t0.0000e+00\t0.0000e+00\t0.0000e+00\t0.0000e+00\t0.0000e+00\t0.0000e+00\t0.0000e+00\n",
      "1\t150702717\tG\tC\t1:150702717:G:C\trs1136808\t3.9122e-01\t6.3104e-03\t2.5349e-02\t8.0341e-01\t1:150701387-153701387\t8.7338e-07\t-1\t7.9250e-09\t2.5118e-05\t5.3085e-18\t6.7532e-10\t8.7270e-07\t7.6324e-05\t7.6324e-05\t7.6324e-05\t7.6324e-05\t7.6324e-05\t7.6324e-05\t7.6324e-05\t-2.8643e+00\t-2.5600e+00\t-2.8004e+00\t0.0000e+00\t0.0000e+00\t0.0000e+00\t0.0000e+00\t0.0000e+00\t0.0000e+00\t0.0000e+00\n",
      "1\t150703034\tCAGA\tC\t1:150703034:CAGA:C\t1:150703034:CAGA:C\t3.9114e-01\t6.3147e-03\t2.5352e-02\t8.0329e-01\t1:150701387-153701387\t8.7338e-07\t-1\t7.9259e-09\t2.5120e-05\t5.3085e-18\t6.7538e-10\t8.7270e-07\t7.6324e-05\t7.6324e-05\t7.6324e-05\t7.6324e-05\t7.6324e-05\t7.6324e-05\t7.6324e-05\t-2.8643e+00\t-2.5599e+00\t-2.8004e+00\t0.0000e+00\t0.0000e+00\t0.0000e+00\t0.0000e+00\t0.0000e+00\t0.0000e+00\t0.0000e+00\n",
      "1\t150703366\tTAACA\tT\t1:150703366:TAACA:T\t1:150703366:TAACA:T\t3.9102e-01\t6.3949e-03\t2.5359e-02\t8.0091e-01\t1:150701387-153701387\t8.7432e-07\t-1\t8.0031e-09\t2.5165e-05\t5.3081e-18\t6.7706e-10\t8.7364e-07\t7.6324e-05\t7.6324e-05\t7.6324e-05\t7.6324e-05\t7.6324e-05\t7.6324e-05\t7.6324e-05\t-2.8644e+00\t-2.5574e+00\t-2.7993e+00\t0.0000e+00\t0.0000e+00\t0.0000e+00\t0.0000e+00\t0.0000e+00\t0.0000e+00\t0.0000e+00\n",
      "1\t150703484\tA\tG\t1:150703484:A:G\trs374227676\t1.4418e-03\t8.1295e-01\t3.5554e-01\t2.2225e-02\t1:150701387-153701387\t1.2299e-05\t-1\t1.0158e-05\t3.1525e-03\t7.8033e-17\t7.4093e-09\t1.2291e-05\t7.6324e-05\t7.6324e-05\t7.6324e-05\t7.6324e-05\t7.6324e-05\t7.6324e-05\t7.6324e-05\t-1.7648e-01\t-1.6471e-01\t-1.5531e-01\t0.0000e+00\t0.0000e+00\t0.0000e+00\t0.0000e+00\t0.0000e+00\t0.0000e+00\t0.0000e+00\n",
      "1\t150703757\tG\tA\t1:150703757:G:A\trs587619777\t2.2622e-04\t-1.4621e+00\t1.0472e+00\t1.6263e-01\t1:150701387-153701387\t2.1808e-06\t-1\t-3.1897e-06\t2.6546e-03\t1.3716e-17\t1.3308e-09\t2.1795e-06\t7.6324e-05\t7.6324e-05\t7.6324e-05\t7.6324e-05\t7.6324e-05\t7.6324e-05\t7.6324e-05\t-1.9150e+00\t-1.8817e+00\t-1.8851e+00\t0.0000e+00\t0.0000e+00\t0.0000e+00\t0.0000e+00\t0.0000e+00\t0.0000e+00\t0.0000e+00\n",
      "1\t150704681\tG\tA\t1:150704681:G:A\trs142768900\t2.5147e-03\t-3.2523e-01\t2.4605e-01\t1.8623e-01\t1:150701387-153701387\t1.8391e-06\t-1\t-5.7444e-07\t5.3880e-04\t1.2224e-17\t1.0848e-09\t1.8380e-06\t7.6324e-05\t7.6324e-05\t7.6324e-05\t7.6324e-05\t7.6324e-05\t7.6324e-05\t7.6324e-05\t-2.0302e+00\t-2.0861e+00\t-2.0555e+00\t0.0000e+00\t0.0000e+00\t0.0000e+00\t0.0000e+00\t0.0000e+00\t0.0000e+00\t0.0000e+00\n",
      "\n",
      "gzip: stdout: Broken pipe\n"
     ]
    }
   ],
   "source": [
    "!zcat BBJ.AD.Kanai2021.SuSiE.tsv.gz | head"
   ]
  },
  {
   "cell_type": "code",
   "execution_count": 8,
   "metadata": {},
   "outputs": [
    {
     "data": {
      "text/html": [
       "<div><style>\n",
       ".dataframe > thead > tr,\n",
       ".dataframe > tbody > tr {\n",
       "  text-align: right;\n",
       "  white-space: pre-wrap;\n",
       "}\n",
       "</style>\n",
       "<small>shape: (197_993, 35)</small><table border=\"1\" class=\"dataframe\"><thead><tr><th>chromosome</th><th>position</th><th>allele1</th><th>allele2</th><th>variant</th><th>rsid</th><th>af_allele2</th><th>beta_marginal</th><th>se_marginal</th><th>pvalue</th><th>region</th><th>pip</th><th>cs_id</th><th>beta_posterior</th><th>sd_posterior</th><th>alpha1</th><th>alpha2</th><th>alpha3</th><th>alpha4</th><th>alpha5</th><th>alpha6</th><th>alpha7</th><th>alpha8</th><th>alpha9</th><th>alpha10</th><th>lbf_variable1</th><th>lbf_variable2</th><th>lbf_variable3</th><th>lbf_variable4</th><th>lbf_variable5</th><th>lbf_variable6</th><th>lbf_variable7</th><th>lbf_variable8</th><th>lbf_variable9</th><th>lbf_variable10</th></tr><tr><td>i64</td><td>i64</td><td>str</td><td>str</td><td>str</td><td>str</td><td>f64</td><td>f64</td><td>f64</td><td>f64</td><td>str</td><td>f64</td><td>i64</td><td>f64</td><td>f64</td><td>f64</td><td>f64</td><td>f64</td><td>f64</td><td>f64</td><td>f64</td><td>f64</td><td>f64</td><td>f64</td><td>f64</td><td>f64</td><td>f64</td><td>f64</td><td>f64</td><td>f64</td><td>f64</td><td>f64</td><td>f64</td><td>f64</td><td>f64</td></tr></thead><tbody><tr><td>1</td><td>150702248</td><td>&quot;T&quot;</td><td>&quot;C&quot;</td><td>&quot;1:150702248:T:C&quot;</td><td>&quot;rs587677365&quot;</td><td>0.000501</td><td>0.31721</td><td>0.59102</td><td>0.59146</td><td>&quot;1:150701387-153701387&quot;</td><td>9.4639e-7</td><td>-1</td><td>3.0025e-7</td><td>0.000652</td><td>6.0826e-18</td><td>5.7962e-10</td><td>9.4581e-7</td><td>0.000076</td><td>0.000076</td><td>0.000076</td><td>0.000076</td><td>0.000076</td><td>0.000076</td><td>0.000076</td><td>-2.7282</td><td>-2.7128</td><td>-2.7199</td><td>0.0</td><td>0.0</td><td>0.0</td><td>0.0</td><td>0.0</td><td>0.0</td><td>0.0</td></tr><tr><td>1</td><td>150702249</td><td>&quot;T&quot;</td><td>&quot;C&quot;</td><td>&quot;1:150702249:T:C&quot;</td><td>&quot;rs587732848&quot;</td><td>0.0005006</td><td>0.31716</td><td>0.59102</td><td>0.59151</td><td>&quot;1:150701387-153701387&quot;</td><td>9.4635e-7</td><td>-1</td><td>3.0020e-7</td><td>0.000651</td><td>6.0824e-18</td><td>5.7960e-10</td><td>9.4577e-7</td><td>0.000076</td><td>0.000076</td><td>0.000076</td><td>0.000076</td><td>0.000076</td><td>0.000076</td><td>0.000076</td><td>-2.7282</td><td>-2.7129</td><td>-2.72</td><td>0.0</td><td>0.0</td><td>0.0</td><td>0.0</td><td>0.0</td><td>0.0</td><td>0.0</td></tr><tr><td>1</td><td>150702663</td><td>&quot;A&quot;</td><td>&quot;C&quot;</td><td>&quot;1:150702663:A:C&quot;</td><td>&quot;rs7540874&quot;</td><td>0.39122</td><td>0.0063056</td><td>0.025349</td><td>0.80356</td><td>&quot;1:150701387-153701387&quot;</td><td>8.7332e-7</td><td>-1</td><td>7.9206e-9</td><td>0.000025</td><td>5.3085e-18</td><td>6.7522e-10</td><td>8.7264e-7</td><td>0.000076</td><td>0.000076</td><td>0.000076</td><td>0.000076</td><td>0.000076</td><td>0.000076</td><td>0.000076</td><td>-2.8643</td><td>-2.5602</td><td>-2.8004</td><td>0.0</td><td>0.0</td><td>0.0</td><td>0.0</td><td>0.0</td><td>0.0</td><td>0.0</td></tr><tr><td>1</td><td>150702717</td><td>&quot;G&quot;</td><td>&quot;C&quot;</td><td>&quot;1:150702717:G:C&quot;</td><td>&quot;rs1136808&quot;</td><td>0.39122</td><td>0.0063104</td><td>0.025349</td><td>0.80341</td><td>&quot;1:150701387-153701387&quot;</td><td>8.7338e-7</td><td>-1</td><td>7.9250e-9</td><td>0.000025</td><td>5.3085e-18</td><td>6.7532e-10</td><td>8.7270e-7</td><td>0.000076</td><td>0.000076</td><td>0.000076</td><td>0.000076</td><td>0.000076</td><td>0.000076</td><td>0.000076</td><td>-2.8643</td><td>-2.56</td><td>-2.8004</td><td>0.0</td><td>0.0</td><td>0.0</td><td>0.0</td><td>0.0</td><td>0.0</td><td>0.0</td></tr><tr><td>1</td><td>150703034</td><td>&quot;CAGA&quot;</td><td>&quot;C&quot;</td><td>&quot;1:150703034:CAGA:C&quot;</td><td>&quot;1:150703034:CAGA:C&quot;</td><td>0.39114</td><td>0.0063147</td><td>0.025352</td><td>0.80329</td><td>&quot;1:150701387-153701387&quot;</td><td>8.7338e-7</td><td>-1</td><td>7.9259e-9</td><td>0.000025</td><td>5.3085e-18</td><td>6.7538e-10</td><td>8.7270e-7</td><td>0.000076</td><td>0.000076</td><td>0.000076</td><td>0.000076</td><td>0.000076</td><td>0.000076</td><td>0.000076</td><td>-2.8643</td><td>-2.5599</td><td>-2.8004</td><td>0.0</td><td>0.0</td><td>0.0</td><td>0.0</td><td>0.0</td><td>0.0</td><td>0.0</td></tr><tr><td>&hellip;</td><td>&hellip;</td><td>&hellip;</td><td>&hellip;</td><td>&hellip;</td><td>&hellip;</td><td>&hellip;</td><td>&hellip;</td><td>&hellip;</td><td>&hellip;</td><td>&hellip;</td><td>&hellip;</td><td>&hellip;</td><td>&hellip;</td><td>&hellip;</td><td>&hellip;</td><td>&hellip;</td><td>&hellip;</td><td>&hellip;</td><td>&hellip;</td><td>&hellip;</td><td>&hellip;</td><td>&hellip;</td><td>&hellip;</td><td>&hellip;</td><td>&hellip;</td><td>&hellip;</td><td>&hellip;</td><td>&hellip;</td><td>&hellip;</td><td>&hellip;</td><td>&hellip;</td><td>&hellip;</td><td>&hellip;</td><td>&hellip;</td></tr><tr><td>20</td><td>62917667</td><td>&quot;C&quot;</td><td>&quot;T&quot;</td><td>&quot;20:62917667:C:T&quot;</td><td>&quot;rs116843256&quot;</td><td>0.041023</td><td>0.050207</td><td>0.066344</td><td>0.44919</td><td>&quot;20:60809839-63025520&quot;</td><td>3.5071e-10</td><td>-1</td><td>1.7551e-11</td><td>0.000002</td><td>3.5071e-10</td><td>0.000111</td><td>0.000111</td><td>0.000111</td><td>0.000111</td><td>0.000111</td><td>0.000111</td><td>0.000111</td><td>0.000111</td><td>0.000111</td><td>-2.5788</td><td>0.0</td><td>0.0</td><td>0.0</td><td>0.0</td><td>0.0</td><td>0.0</td><td>0.0</td><td>0.0</td><td>0.0</td></tr><tr><td>20</td><td>62917729</td><td>&quot;C&quot;</td><td>&quot;T&quot;</td><td>&quot;20:62917729:C:T&quot;</td><td>&quot;rs73626487&quot;</td><td>0.88447</td><td>-0.032093</td><td>0.045526</td><td>0.48085</td><td>&quot;20:60809839-63025520&quot;</td><td>3.3771e-10</td><td>-1</td><td>-1.0803e-11</td><td>0.000001</td><td>3.3771e-10</td><td>0.000111</td><td>0.000111</td><td>0.000111</td><td>0.000111</td><td>0.000111</td><td>0.000111</td><td>0.000111</td><td>0.000111</td><td>0.000111</td><td>-2.6166</td><td>0.0</td><td>0.0</td><td>0.0</td><td>0.0</td><td>0.0</td><td>0.0</td><td>0.0</td><td>0.0</td><td>0.0</td></tr><tr><td>20</td><td>62934878</td><td>&quot;G&quot;</td><td>&quot;A&quot;</td><td>&quot;20:62934878:G:A&quot;</td><td>&quot;rs564355340&quot;</td><td>0.0013585</td><td>0.61902</td><td>0.4256</td><td>0.14582</td><td>&quot;20:60809839-63025520&quot;</td><td>7.5672e-10</td><td>-1</td><td>4.6691e-10</td><td>0.000021</td><td>7.5672e-10</td><td>0.000111</td><td>0.000111</td><td>0.000111</td><td>0.000111</td><td>0.000111</td><td>0.000111</td><td>0.000111</td><td>0.000111</td><td>0.000111</td><td>-1.8098</td><td>0.0</td><td>0.0</td><td>0.0</td><td>0.0</td><td>0.0</td><td>0.0</td><td>0.0</td><td>0.0</td><td>0.0</td></tr><tr><td>20</td><td>62937082</td><td>&quot;C&quot;</td><td>&quot;T&quot;</td><td>&quot;20:62937082:C:T&quot;</td><td>&quot;20:62937082:C:T&quot;</td><td>0.010893</td><td>-0.16809</td><td>0.13234</td><td>0.20403</td><td>&quot;20:60809839-63025520&quot;</td><td>5.8915e-10</td><td>-1</td><td>-9.8710e-11</td><td>0.000005</td><td>5.8915e-10</td><td>0.000111</td><td>0.000111</td><td>0.000111</td><td>0.000111</td><td>0.000111</td><td>0.000111</td><td>0.000111</td><td>0.000111</td><td>0.000111</td><td>-2.0601</td><td>0.0</td><td>0.0</td><td>0.0</td><td>0.0</td><td>0.0</td><td>0.0</td><td>0.0</td><td>0.0</td><td>0.0</td></tr><tr><td>20</td><td>62940524</td><td>&quot;C&quot;</td><td>&quot;T&quot;</td><td>&quot;20:62940524:C:T&quot;</td><td>&quot;rs562989767&quot;</td><td>0.000259</td><td>0.4158</td><td>0.9497</td><td>0.66152</td><td>&quot;20:60809839-63025520&quot;</td><td>2.9004e-10</td><td>-1</td><td>1.2021e-10</td><td>0.000018</td><td>2.9004e-10</td><td>0.000111</td><td>0.000111</td><td>0.000111</td><td>0.000111</td><td>0.000111</td><td>0.000111</td><td>0.000111</td><td>0.000111</td><td>0.000111</td><td>-2.7687</td><td>0.0</td><td>0.0</td><td>0.0</td><td>0.0</td><td>0.0</td><td>0.0</td><td>0.0</td><td>0.0</td><td>0.0</td></tr></tbody></table></div>"
      ],
      "text/plain": [
       "shape: (197_993, 35)\n",
       "┌────────────┬───────────┬─────────┬─────────┬───┬────────────┬────────────┬───────────┬───────────┐\n",
       "│ chromosome ┆ position  ┆ allele1 ┆ allele2 ┆ … ┆ lbf_variab ┆ lbf_variab ┆ lbf_varia ┆ lbf_varia │\n",
       "│ ---        ┆ ---       ┆ ---     ┆ ---     ┆   ┆ le7        ┆ le8        ┆ ble9      ┆ ble10     │\n",
       "│ i64        ┆ i64       ┆ str     ┆ str     ┆   ┆ ---        ┆ ---        ┆ ---       ┆ ---       │\n",
       "│            ┆           ┆         ┆         ┆   ┆ f64        ┆ f64        ┆ f64       ┆ f64       │\n",
       "╞════════════╪═══════════╪═════════╪═════════╪═══╪════════════╪════════════╪═══════════╪═══════════╡\n",
       "│ 1          ┆ 150702248 ┆ T       ┆ C       ┆ … ┆ 0.0        ┆ 0.0        ┆ 0.0       ┆ 0.0       │\n",
       "│ 1          ┆ 150702249 ┆ T       ┆ C       ┆ … ┆ 0.0        ┆ 0.0        ┆ 0.0       ┆ 0.0       │\n",
       "│ 1          ┆ 150702663 ┆ A       ┆ C       ┆ … ┆ 0.0        ┆ 0.0        ┆ 0.0       ┆ 0.0       │\n",
       "│ 1          ┆ 150702717 ┆ G       ┆ C       ┆ … ┆ 0.0        ┆ 0.0        ┆ 0.0       ┆ 0.0       │\n",
       "│ 1          ┆ 150703034 ┆ CAGA    ┆ C       ┆ … ┆ 0.0        ┆ 0.0        ┆ 0.0       ┆ 0.0       │\n",
       "│ …          ┆ …         ┆ …       ┆ …       ┆ … ┆ …          ┆ …          ┆ …         ┆ …         │\n",
       "│ 20         ┆ 62917667  ┆ C       ┆ T       ┆ … ┆ 0.0        ┆ 0.0        ┆ 0.0       ┆ 0.0       │\n",
       "│ 20         ┆ 62917729  ┆ C       ┆ T       ┆ … ┆ 0.0        ┆ 0.0        ┆ 0.0       ┆ 0.0       │\n",
       "│ 20         ┆ 62934878  ┆ G       ┆ A       ┆ … ┆ 0.0        ┆ 0.0        ┆ 0.0       ┆ 0.0       │\n",
       "│ 20         ┆ 62937082  ┆ C       ┆ T       ┆ … ┆ 0.0        ┆ 0.0        ┆ 0.0       ┆ 0.0       │\n",
       "│ 20         ┆ 62940524  ┆ C       ┆ T       ┆ … ┆ 0.0        ┆ 0.0        ┆ 0.0       ┆ 0.0       │\n",
       "└────────────┴───────────┴─────────┴─────────┴───┴────────────┴────────────┴───────────┴───────────┘"
      ]
     },
     "execution_count": 8,
     "metadata": {},
     "output_type": "execute_result"
    }
   ],
   "source": [
    "df = pl.read_csv(\"BBJ.AD.Kanai2021.SuSiE.tsv.gz\", separator=\"\\t\")\n",
    "df"
   ]
  },
  {
   "cell_type": "code",
   "execution_count": 9,
   "metadata": {},
   "outputs": [
    {
     "data": {
      "text/plain": [
       "2"
      ]
     },
     "execution_count": 9,
     "metadata": {},
     "output_type": "execute_result"
    }
   ],
   "source": [
    "(df[\"pip\"] > 0.9).sum()"
   ]
  },
  {
   "cell_type": "code",
   "execution_count": 11,
   "metadata": {},
   "outputs": [
    {
     "data": {
      "application/javascript": "(function(root) {\n  function now() {\n    return new Date();\n  }\n\n  var force = true;\n  var py_version = '3.1.1'.replace('rc', '-rc.');\n  var is_dev = py_version.indexOf(\"+\") !== -1 || py_version.indexOf(\"-\") !== -1;\n  var reloading = false;\n  var Bokeh = root.Bokeh;\n  var bokeh_loaded = Bokeh != null && (Bokeh.version === py_version || (Bokeh.versions !== undefined && Bokeh.versions.has(py_version)));\n\n  if (typeof (root._bokeh_timeout) === \"undefined\" || force) {\n    root._bokeh_timeout = Date.now() + 5000;\n    root._bokeh_failed_load = false;\n  }\n\n  function run_callbacks() {\n    try {\n      root._bokeh_onload_callbacks.forEach(function(callback) {\n        if (callback != null)\n          callback();\n      });\n    } finally {\n      delete root._bokeh_onload_callbacks;\n    }\n    console.debug(\"Bokeh: all callbacks have finished\");\n  }\n\n  function load_libs(css_urls, js_urls, js_modules, js_exports, callback) {\n    if (css_urls == null) css_urls = [];\n    if (js_urls == null) js_urls = [];\n    if (js_modules == null) js_modules = [];\n    if (js_exports == null) js_exports = {};\n\n    root._bokeh_onload_callbacks.push(callback);\n\n    if (root._bokeh_is_loading > 0) {\n      console.debug(\"Bokeh: BokehJS is being loaded, scheduling callback at\", now());\n      return null;\n    }\n    if (js_urls.length === 0 && js_modules.length === 0 && Object.keys(js_exports).length === 0) {\n      run_callbacks();\n      return null;\n    }\n    if (!reloading) {\n      console.debug(\"Bokeh: BokehJS not loaded, scheduling load and callback at\", now());\n    }\n\n    function on_load() {\n      root._bokeh_is_loading--;\n      if (root._bokeh_is_loading === 0) {\n        console.debug(\"Bokeh: all BokehJS libraries/stylesheets loaded\");\n        run_callbacks()\n      }\n    }\n    window._bokeh_on_load = on_load\n\n    function on_error() {\n      console.error(\"failed to load \" + url);\n    }\n\n    var skip = [];\n    if (window.requirejs) {\n      window.requirejs.config({'packages': {}, 'paths': {'jspanel': 'https://cdn.jsdelivr.net/npm/jspanel4@4.12.0/dist/jspanel', 'jspanel-modal': 'https://cdn.jsdelivr.net/npm/jspanel4@4.12.0/dist/extensions/modal/jspanel.modal', 'jspanel-tooltip': 'https://cdn.jsdelivr.net/npm/jspanel4@4.12.0/dist/extensions/tooltip/jspanel.tooltip', 'jspanel-hint': 'https://cdn.jsdelivr.net/npm/jspanel4@4.12.0/dist/extensions/hint/jspanel.hint', 'jspanel-layout': 'https://cdn.jsdelivr.net/npm/jspanel4@4.12.0/dist/extensions/layout/jspanel.layout', 'jspanel-contextmenu': 'https://cdn.jsdelivr.net/npm/jspanel4@4.12.0/dist/extensions/contextmenu/jspanel.contextmenu', 'jspanel-dock': 'https://cdn.jsdelivr.net/npm/jspanel4@4.12.0/dist/extensions/dock/jspanel.dock', 'gridstack': 'https://cdn.jsdelivr.net/npm/gridstack@7.2.3/dist/gridstack-all', 'notyf': 'https://cdn.jsdelivr.net/npm/notyf@3/notyf.min'}, 'shim': {'jspanel': {'exports': 'jsPanel'}, 'gridstack': {'exports': 'GridStack'}}});\n      require([\"jspanel\"], function(jsPanel) {\n\twindow.jsPanel = jsPanel\n\ton_load()\n      })\n      require([\"jspanel-modal\"], function() {\n\ton_load()\n      })\n      require([\"jspanel-tooltip\"], function() {\n\ton_load()\n      })\n      require([\"jspanel-hint\"], function() {\n\ton_load()\n      })\n      require([\"jspanel-layout\"], function() {\n\ton_load()\n      })\n      require([\"jspanel-contextmenu\"], function() {\n\ton_load()\n      })\n      require([\"jspanel-dock\"], function() {\n\ton_load()\n      })\n      require([\"gridstack\"], function(GridStack) {\n\twindow.GridStack = GridStack\n\ton_load()\n      })\n      require([\"notyf\"], function() {\n\ton_load()\n      })\n      root._bokeh_is_loading = css_urls.length + 9;\n    } else {\n      root._bokeh_is_loading = css_urls.length + js_urls.length + js_modules.length + Object.keys(js_exports).length;\n    }\n\n    var existing_stylesheets = []\n    var links = document.getElementsByTagName('link')\n    for (var i = 0; i < links.length; i++) {\n      var link = links[i]\n      if (link.href != null) {\n\texisting_stylesheets.push(link.href)\n      }\n    }\n    for (var i = 0; i < css_urls.length; i++) {\n      var url = css_urls[i];\n      if (existing_stylesheets.indexOf(url) !== -1) {\n\ton_load()\n\tcontinue;\n      }\n      const element = document.createElement(\"link\");\n      element.onload = on_load;\n      element.onerror = on_error;\n      element.rel = \"stylesheet\";\n      element.type = \"text/css\";\n      element.href = url;\n      console.debug(\"Bokeh: injecting link tag for BokehJS stylesheet: \", url);\n      document.body.appendChild(element);\n    }    if (((window['jsPanel'] !== undefined) && (!(window['jsPanel'] instanceof HTMLElement))) || window.requirejs) {\n      var urls = ['https://cdn.holoviz.org/panel/1.1.0/dist/bundled/floatpanel/jspanel4@4.12.0/dist/jspanel.js', 'https://cdn.holoviz.org/panel/1.1.0/dist/bundled/floatpanel/jspanel4@4.12.0/dist/extensions/modal/jspanel.modal.js', 'https://cdn.holoviz.org/panel/1.1.0/dist/bundled/floatpanel/jspanel4@4.12.0/dist/extensions/tooltip/jspanel.tooltip.js', 'https://cdn.holoviz.org/panel/1.1.0/dist/bundled/floatpanel/jspanel4@4.12.0/dist/extensions/hint/jspanel.hint.js', 'https://cdn.holoviz.org/panel/1.1.0/dist/bundled/floatpanel/jspanel4@4.12.0/dist/extensions/layout/jspanel.layout.js', 'https://cdn.holoviz.org/panel/1.1.0/dist/bundled/floatpanel/jspanel4@4.12.0/dist/extensions/contextmenu/jspanel.contextmenu.js', 'https://cdn.holoviz.org/panel/1.1.0/dist/bundled/floatpanel/jspanel4@4.12.0/dist/extensions/dock/jspanel.dock.js'];\n      for (var i = 0; i < urls.length; i++) {\n        skip.push(urls[i])\n      }\n    }    if (((window['GridStack'] !== undefined) && (!(window['GridStack'] instanceof HTMLElement))) || window.requirejs) {\n      var urls = ['https://cdn.holoviz.org/panel/1.1.0/dist/bundled/gridstack/gridstack@7.2.3/dist/gridstack-all.js'];\n      for (var i = 0; i < urls.length; i++) {\n        skip.push(urls[i])\n      }\n    }    if (((window['Notyf'] !== undefined) && (!(window['Notyf'] instanceof HTMLElement))) || window.requirejs) {\n      var urls = ['https://cdn.holoviz.org/panel/1.1.0/dist/bundled/notificationarea/notyf@3/notyf.min.js'];\n      for (var i = 0; i < urls.length; i++) {\n        skip.push(urls[i])\n      }\n    }    var existing_scripts = []\n    var scripts = document.getElementsByTagName('script')\n    for (var i = 0; i < scripts.length; i++) {\n      var script = scripts[i]\n      if (script.src != null) {\n\texisting_scripts.push(script.src)\n      }\n    }\n    for (var i = 0; i < js_urls.length; i++) {\n      var url = js_urls[i];\n      if (skip.indexOf(url) !== -1 || existing_scripts.indexOf(url) !== -1) {\n\tif (!window.requirejs) {\n\t  on_load();\n\t}\n\tcontinue;\n      }\n      var element = document.createElement('script');\n      element.onload = on_load;\n      element.onerror = on_error;\n      element.async = false;\n      element.src = url;\n      console.debug(\"Bokeh: injecting script tag for BokehJS library: \", url);\n      document.head.appendChild(element);\n    }\n    for (var i = 0; i < js_modules.length; i++) {\n      var url = js_modules[i];\n      if (skip.indexOf(url) !== -1 || existing_scripts.indexOf(url) !== -1) {\n\tif (!window.requirejs) {\n\t  on_load();\n\t}\n\tcontinue;\n      }\n      var element = document.createElement('script');\n      element.onload = on_load;\n      element.onerror = on_error;\n      element.async = false;\n      element.src = url;\n      element.type = \"module\";\n      console.debug(\"Bokeh: injecting script tag for BokehJS library: \", url);\n      document.head.appendChild(element);\n    }\n    for (const name in js_exports) {\n      var url = js_exports[name];\n      if (skip.indexOf(url) >= 0 || root[name] != null) {\n\tif (!window.requirejs) {\n\t  on_load();\n\t}\n\tcontinue;\n      }\n      var element = document.createElement('script');\n      element.onerror = on_error;\n      element.async = false;\n      element.type = \"module\";\n      console.debug(\"Bokeh: injecting script tag for BokehJS library: \", url);\n      element.textContent = `\n      import ${name} from \"${url}\"\n      window.${name} = ${name}\n      window._bokeh_on_load()\n      `\n      document.head.appendChild(element);\n    }\n    if (!js_urls.length && !js_modules.length) {\n      on_load()\n    }\n  };\n\n  function inject_raw_css(css) {\n    const element = document.createElement(\"style\");\n    element.appendChild(document.createTextNode(css));\n    document.body.appendChild(element);\n  }\n\n  var js_urls = [\"https://cdn.bokeh.org/bokeh/release/bokeh-3.1.1.min.js\", \"https://cdn.bokeh.org/bokeh/release/bokeh-gl-3.1.1.min.js\", \"https://cdn.bokeh.org/bokeh/release/bokeh-widgets-3.1.1.min.js\", \"https://cdn.bokeh.org/bokeh/release/bokeh-tables-3.1.1.min.js\", \"https://cdn.holoviz.org/panel/1.1.0/dist/panel.min.js\"];\n  var js_modules = [];\n  var js_exports = {};\n  var css_urls = [];\n  var inline_js = [    function(Bokeh) {\n      Bokeh.set_log_level(\"info\");\n    },\nfunction(Bokeh) {} // ensure no trailing comma for IE\n  ];\n\n  function run_inline_js() {\n    if ((root.Bokeh !== undefined) || (force === true)) {\n      for (var i = 0; i < inline_js.length; i++) {\n        inline_js[i].call(root, root.Bokeh);\n      }\n      // Cache old bokeh versions\n      if (Bokeh != undefined && !reloading) {\n\tvar NewBokeh = root.Bokeh;\n\tif (Bokeh.versions === undefined) {\n\t  Bokeh.versions = new Map();\n\t}\n\tif (NewBokeh.version !== Bokeh.version) {\n\t  Bokeh.versions.set(NewBokeh.version, NewBokeh)\n\t}\n\troot.Bokeh = Bokeh;\n      }} else if (Date.now() < root._bokeh_timeout) {\n      setTimeout(run_inline_js, 100);\n    } else if (!root._bokeh_failed_load) {\n      console.log(\"Bokeh: BokehJS failed to load within specified timeout.\");\n      root._bokeh_failed_load = true;\n    }\n    root._bokeh_is_initializing = false\n  }\n\n  function load_or_wait() {\n    // Implement a backoff loop that tries to ensure we do not load multiple\n    // versions of Bokeh and its dependencies at the same time.\n    // In recent versions we use the root._bokeh_is_initializing flag\n    // to determine whether there is an ongoing attempt to initialize\n    // bokeh, however for backward compatibility we also try to ensure\n    // that we do not start loading a newer (Panel>=1.0 and Bokeh>3) version\n    // before older versions are fully initialized.\n    if (root._bokeh_is_initializing && Date.now() > root._bokeh_timeout) {\n      root._bokeh_is_initializing = false;\n      root._bokeh_onload_callbacks = undefined;\n      console.log(\"Bokeh: BokehJS was loaded multiple times but one version failed to initialize.\");\n      load_or_wait();\n    } else if (root._bokeh_is_initializing || (typeof root._bokeh_is_initializing === \"undefined\" && root._bokeh_onload_callbacks !== undefined)) {\n      setTimeout(load_or_wait, 100);\n    } else {\n      Bokeh = root.Bokeh;\n      bokeh_loaded = Bokeh != null && (Bokeh.version === py_version || (Bokeh.versions !== undefined && Bokeh.versions.has(py_version)));\n      root._bokeh_is_initializing = true\n      root._bokeh_onload_callbacks = []\n      if (!reloading && (!bokeh_loaded || is_dev)) {\n\troot.Bokeh = undefined;\n      }\n      load_libs(css_urls, js_urls, js_modules, js_exports, function() {\n\tconsole.debug(\"Bokeh: BokehJS plotting callback run at\", now());\n\trun_inline_js();\n      });\n    }\n  }\n  // Give older versions of the autoload script a head-start to ensure\n  // they initialize before we start loading newer version.\n  setTimeout(load_or_wait, 100)\n}(window));",
      "application/vnd.holoviews_load.v0+json": ""
     },
     "metadata": {},
     "output_type": "display_data"
    },
    {
     "data": {
      "application/javascript": "\nif ((window.PyViz === undefined) || (window.PyViz instanceof HTMLElement)) {\n  window.PyViz = {comms: {}, comm_status:{}, kernels:{}, receivers: {}, plot_index: []}\n}\n\n\n    function JupyterCommManager() {\n    }\n\n    JupyterCommManager.prototype.register_target = function(plot_id, comm_id, msg_handler) {\n      if (window.comm_manager || ((window.Jupyter !== undefined) && (Jupyter.notebook.kernel != null))) {\n        var comm_manager = window.comm_manager || Jupyter.notebook.kernel.comm_manager;\n        comm_manager.register_target(comm_id, function(comm) {\n          comm.on_msg(msg_handler);\n        });\n      } else if ((plot_id in window.PyViz.kernels) && (window.PyViz.kernels[plot_id])) {\n        window.PyViz.kernels[plot_id].registerCommTarget(comm_id, function(comm) {\n          comm.onMsg = msg_handler;\n        });\n      } else if (typeof google != 'undefined' && google.colab.kernel != null) {\n        google.colab.kernel.comms.registerTarget(comm_id, (comm) => {\n          var messages = comm.messages[Symbol.asyncIterator]();\n          function processIteratorResult(result) {\n            var message = result.value;\n            console.log(message)\n            var content = {data: message.data, comm_id};\n            var buffers = []\n            for (var buffer of message.buffers || []) {\n              buffers.push(new DataView(buffer))\n            }\n            var metadata = message.metadata || {};\n            var msg = {content, buffers, metadata}\n            msg_handler(msg);\n            return messages.next().then(processIteratorResult);\n          }\n          return messages.next().then(processIteratorResult);\n        })\n      }\n    }\n\n    JupyterCommManager.prototype.get_client_comm = function(plot_id, comm_id, msg_handler) {\n      if (comm_id in window.PyViz.comms) {\n        return window.PyViz.comms[comm_id];\n      } else if (window.comm_manager || ((window.Jupyter !== undefined) && (Jupyter.notebook.kernel != null))) {\n        var comm_manager = window.comm_manager || Jupyter.notebook.kernel.comm_manager;\n        var comm = comm_manager.new_comm(comm_id, {}, {}, {}, comm_id);\n        if (msg_handler) {\n          comm.on_msg(msg_handler);\n        }\n      } else if ((plot_id in window.PyViz.kernels) && (window.PyViz.kernels[plot_id])) {\n        var comm = window.PyViz.kernels[plot_id].connectToComm(comm_id);\n        comm.open();\n        if (msg_handler) {\n          comm.onMsg = msg_handler;\n        }\n      } else if (typeof google != 'undefined' && google.colab.kernel != null) {\n        var comm_promise = google.colab.kernel.comms.open(comm_id)\n        comm_promise.then((comm) => {\n          window.PyViz.comms[comm_id] = comm;\n          if (msg_handler) {\n            var messages = comm.messages[Symbol.asyncIterator]();\n            function processIteratorResult(result) {\n              var message = result.value;\n              var content = {data: message.data};\n              var metadata = message.metadata || {comm_id};\n              var msg = {content, metadata}\n              msg_handler(msg);\n              return messages.next().then(processIteratorResult);\n            }\n            return messages.next().then(processIteratorResult);\n          }\n        }) \n        var sendClosure = (data, metadata, buffers, disposeOnDone) => {\n          return comm_promise.then((comm) => {\n            comm.send(data, metadata, buffers, disposeOnDone);\n          });\n        };\n        var comm = {\n          send: sendClosure\n        };\n      }\n      window.PyViz.comms[comm_id] = comm;\n      return comm;\n    }\n    window.PyViz.comm_manager = new JupyterCommManager();\n    \n\n\nvar JS_MIME_TYPE = 'application/javascript';\nvar HTML_MIME_TYPE = 'text/html';\nvar EXEC_MIME_TYPE = 'application/vnd.holoviews_exec.v0+json';\nvar CLASS_NAME = 'output';\n\n/**\n * Render data to the DOM node\n */\nfunction render(props, node) {\n  var div = document.createElement(\"div\");\n  var script = document.createElement(\"script\");\n  node.appendChild(div);\n  node.appendChild(script);\n}\n\n/**\n * Handle when a new output is added\n */\nfunction handle_add_output(event, handle) {\n  var output_area = handle.output_area;\n  var output = handle.output;\n  if ((output.data == undefined) || (!output.data.hasOwnProperty(EXEC_MIME_TYPE))) {\n    return\n  }\n  var id = output.metadata[EXEC_MIME_TYPE][\"id\"];\n  var toinsert = output_area.element.find(\".\" + CLASS_NAME.split(' ')[0]);\n  if (id !== undefined) {\n    var nchildren = toinsert.length;\n    var html_node = toinsert[nchildren-1].children[0];\n    html_node.innerHTML = output.data[HTML_MIME_TYPE];\n    var scripts = [];\n    var nodelist = html_node.querySelectorAll(\"script\");\n    for (var i in nodelist) {\n      if (nodelist.hasOwnProperty(i)) {\n        scripts.push(nodelist[i])\n      }\n    }\n\n    scripts.forEach( function (oldScript) {\n      var newScript = document.createElement(\"script\");\n      var attrs = [];\n      var nodemap = oldScript.attributes;\n      for (var j in nodemap) {\n        if (nodemap.hasOwnProperty(j)) {\n          attrs.push(nodemap[j])\n        }\n      }\n      attrs.forEach(function(attr) { newScript.setAttribute(attr.name, attr.value) });\n      newScript.appendChild(document.createTextNode(oldScript.innerHTML));\n      oldScript.parentNode.replaceChild(newScript, oldScript);\n    });\n    if (JS_MIME_TYPE in output.data) {\n      toinsert[nchildren-1].children[1].textContent = output.data[JS_MIME_TYPE];\n    }\n    output_area._hv_plot_id = id;\n    if ((window.Bokeh !== undefined) && (id in Bokeh.index)) {\n      window.PyViz.plot_index[id] = Bokeh.index[id];\n    } else {\n      window.PyViz.plot_index[id] = null;\n    }\n  } else if (output.metadata[EXEC_MIME_TYPE][\"server_id\"] !== undefined) {\n    var bk_div = document.createElement(\"div\");\n    bk_div.innerHTML = output.data[HTML_MIME_TYPE];\n    var script_attrs = bk_div.children[0].attributes;\n    for (var i = 0; i < script_attrs.length; i++) {\n      toinsert[toinsert.length - 1].childNodes[1].setAttribute(script_attrs[i].name, script_attrs[i].value);\n    }\n    // store reference to server id on output_area\n    output_area._bokeh_server_id = output.metadata[EXEC_MIME_TYPE][\"server_id\"];\n  }\n}\n\n/**\n * Handle when an output is cleared or removed\n */\nfunction handle_clear_output(event, handle) {\n  var id = handle.cell.output_area._hv_plot_id;\n  var server_id = handle.cell.output_area._bokeh_server_id;\n  if (((id === undefined) || !(id in PyViz.plot_index)) && (server_id !== undefined)) { return; }\n  var comm = window.PyViz.comm_manager.get_client_comm(\"hv-extension-comm\", \"hv-extension-comm\", function () {});\n  if (server_id !== null) {\n    comm.send({event_type: 'server_delete', 'id': server_id});\n    return;\n  } else if (comm !== null) {\n    comm.send({event_type: 'delete', 'id': id});\n  }\n  delete PyViz.plot_index[id];\n  if ((window.Bokeh !== undefined) & (id in window.Bokeh.index)) {\n    var doc = window.Bokeh.index[id].model.document\n    doc.clear();\n    const i = window.Bokeh.documents.indexOf(doc);\n    if (i > -1) {\n      window.Bokeh.documents.splice(i, 1);\n    }\n  }\n}\n\n/**\n * Handle kernel restart event\n */\nfunction handle_kernel_cleanup(event, handle) {\n  delete PyViz.comms[\"hv-extension-comm\"];\n  window.PyViz.plot_index = {}\n}\n\n/**\n * Handle update_display_data messages\n */\nfunction handle_update_output(event, handle) {\n  handle_clear_output(event, {cell: {output_area: handle.output_area}})\n  handle_add_output(event, handle)\n}\n\nfunction register_renderer(events, OutputArea) {\n  function append_mime(data, metadata, element) {\n    // create a DOM node to render to\n    var toinsert = this.create_output_subarea(\n    metadata,\n    CLASS_NAME,\n    EXEC_MIME_TYPE\n    );\n    this.keyboard_manager.register_events(toinsert);\n    // Render to node\n    var props = {data: data, metadata: metadata[EXEC_MIME_TYPE]};\n    render(props, toinsert[0]);\n    element.append(toinsert);\n    return toinsert\n  }\n\n  events.on('output_added.OutputArea', handle_add_output);\n  events.on('output_updated.OutputArea', handle_update_output);\n  events.on('clear_output.CodeCell', handle_clear_output);\n  events.on('delete.Cell', handle_clear_output);\n  events.on('kernel_ready.Kernel', handle_kernel_cleanup);\n\n  OutputArea.prototype.register_mime_type(EXEC_MIME_TYPE, append_mime, {\n    safe: true,\n    index: 0\n  });\n}\n\nif (window.Jupyter !== undefined) {\n  try {\n    var events = require('base/js/events');\n    var OutputArea = require('notebook/js/outputarea').OutputArea;\n    if (OutputArea.prototype.mime_types().indexOf(EXEC_MIME_TYPE) == -1) {\n      register_renderer(events, OutputArea);\n    }\n  } catch(err) {\n  }\n}\n",
      "application/vnd.holoviews_load.v0+json": ""
     },
     "metadata": {},
     "output_type": "display_data"
    },
    {
     "data": {
      "text/html": [
       "<style>*[data-root-id],\n",
       "*[data-root-id] > * {\n",
       "  box-sizing: border-box;\n",
       "  font-family: var(--jp-ui-font-family);\n",
       "  font-size: var(--jp-ui-font-size1);\n",
       "  color: var(--vscode-editor-foreground, var(--jp-ui-font-color1));\n",
       "}\n",
       "\n",
       "/* Override VSCode background color */\n",
       ".cell-output-ipywidget-background:has(> .cell-output-ipywidget-background\n",
       "    > .lm-Widget\n",
       "    > *[data-root-id]),\n",
       ".cell-output-ipywidget-background:has(> .lm-Widget > *[data-root-id]) {\n",
       "  background-color: transparent !important;\n",
       "}\n",
       "</style>"
      ]
     },
     "metadata": {},
     "output_type": "display_data"
    },
    {
     "data": {},
     "metadata": {},
     "output_type": "display_data"
    },
    {
     "data": {
      "application/vnd.holoviews_exec.v0+json": "",
      "text/html": [
       "<div id='p1002'>\n",
       "  <div id=\"b3260bc8-af78-467f-b6d0-b0cf8c120e2d\" data-root-id=\"p1002\" style=\"display: contents;\"></div>\n",
       "</div>\n",
       "<script type=\"application/javascript\">(function(root) {\n",
       "  var docs_json = {\"0540f636-7985-4733-9ecb-d6e1c97182de\":{\"version\":\"3.1.1\",\"title\":\"Bokeh Application\",\"defs\":[{\"type\":\"model\",\"name\":\"ReactiveHTML1\"},{\"type\":\"model\",\"name\":\"FlexBox1\",\"properties\":[{\"name\":\"align_content\",\"kind\":\"Any\",\"default\":\"flex-start\"},{\"name\":\"align_items\",\"kind\":\"Any\",\"default\":\"flex-start\"},{\"name\":\"flex_direction\",\"kind\":\"Any\",\"default\":\"row\"},{\"name\":\"flex_wrap\",\"kind\":\"Any\",\"default\":\"wrap\"},{\"name\":\"justify_content\",\"kind\":\"Any\",\"default\":\"flex-start\"}]},{\"type\":\"model\",\"name\":\"FloatPanel1\",\"properties\":[{\"name\":\"config\",\"kind\":\"Any\",\"default\":{\"type\":\"map\"}},{\"name\":\"contained\",\"kind\":\"Any\",\"default\":true},{\"name\":\"position\",\"kind\":\"Any\",\"default\":\"right-top\"},{\"name\":\"offsetx\",\"kind\":\"Any\",\"default\":null},{\"name\":\"offsety\",\"kind\":\"Any\",\"default\":null},{\"name\":\"theme\",\"kind\":\"Any\",\"default\":\"primary\"},{\"name\":\"status\",\"kind\":\"Any\",\"default\":\"normalized\"}]},{\"type\":\"model\",\"name\":\"GridStack1\",\"properties\":[{\"name\":\"mode\",\"kind\":\"Any\",\"default\":\"warn\"},{\"name\":\"ncols\",\"kind\":\"Any\",\"default\":null},{\"name\":\"nrows\",\"kind\":\"Any\",\"default\":null},{\"name\":\"allow_resize\",\"kind\":\"Any\",\"default\":true},{\"name\":\"allow_drag\",\"kind\":\"Any\",\"default\":true},{\"name\":\"state\",\"kind\":\"Any\",\"default\":[]}]},{\"type\":\"model\",\"name\":\"drag1\",\"properties\":[{\"name\":\"slider_width\",\"kind\":\"Any\",\"default\":5},{\"name\":\"slider_color\",\"kind\":\"Any\",\"default\":\"black\"},{\"name\":\"value\",\"kind\":\"Any\",\"default\":50}]},{\"type\":\"model\",\"name\":\"click1\",\"properties\":[{\"name\":\"terminal_output\",\"kind\":\"Any\",\"default\":\"\"},{\"name\":\"debug_name\",\"kind\":\"Any\",\"default\":\"\"},{\"name\":\"clears\",\"kind\":\"Any\",\"default\":0}]},{\"type\":\"model\",\"name\":\"FastWrapper1\",\"properties\":[{\"name\":\"object\",\"kind\":\"Any\",\"default\":null},{\"name\":\"style\",\"kind\":\"Any\",\"default\":null}]},{\"type\":\"model\",\"name\":\"NotificationAreaBase1\",\"properties\":[{\"name\":\"position\",\"kind\":\"Any\",\"default\":\"bottom-right\"},{\"name\":\"_clear\",\"kind\":\"Any\",\"default\":0}]},{\"type\":\"model\",\"name\":\"NotificationArea1\",\"properties\":[{\"name\":\"notifications\",\"kind\":\"Any\",\"default\":[]},{\"name\":\"position\",\"kind\":\"Any\",\"default\":\"bottom-right\"},{\"name\":\"_clear\",\"kind\":\"Any\",\"default\":0},{\"name\":\"types\",\"kind\":\"Any\",\"default\":[{\"type\":\"map\",\"entries\":[[\"type\",\"warning\"],[\"background\",\"#ffc107\"],[\"icon\",{\"type\":\"map\",\"entries\":[[\"className\",\"fas fa-exclamation-triangle\"],[\"tagName\",\"i\"],[\"color\",\"white\"]]}]]},{\"type\":\"map\",\"entries\":[[\"type\",\"info\"],[\"background\",\"#007bff\"],[\"icon\",{\"type\":\"map\",\"entries\":[[\"className\",\"fas fa-info-circle\"],[\"tagName\",\"i\"],[\"color\",\"white\"]]}]]}]}]},{\"type\":\"model\",\"name\":\"Notification\",\"properties\":[{\"name\":\"background\",\"kind\":\"Any\",\"default\":null},{\"name\":\"duration\",\"kind\":\"Any\",\"default\":3000},{\"name\":\"icon\",\"kind\":\"Any\",\"default\":null},{\"name\":\"message\",\"kind\":\"Any\",\"default\":\"\"},{\"name\":\"notification_type\",\"kind\":\"Any\",\"default\":null},{\"name\":\"_destroyed\",\"kind\":\"Any\",\"default\":false}]},{\"type\":\"model\",\"name\":\"TemplateActions1\",\"properties\":[{\"name\":\"open_modal\",\"kind\":\"Any\",\"default\":0},{\"name\":\"close_modal\",\"kind\":\"Any\",\"default\":0}]},{\"type\":\"model\",\"name\":\"BootstrapTemplateActions1\",\"properties\":[{\"name\":\"open_modal\",\"kind\":\"Any\",\"default\":0},{\"name\":\"close_modal\",\"kind\":\"Any\",\"default\":0}]},{\"type\":\"model\",\"name\":\"MaterialTemplateActions1\",\"properties\":[{\"name\":\"open_modal\",\"kind\":\"Any\",\"default\":0},{\"name\":\"close_modal\",\"kind\":\"Any\",\"default\":0}]}],\"roots\":[{\"type\":\"object\",\"name\":\"Row\",\"id\":\"p1002\",\"attributes\":{\"name\":\"Row00868\",\"tags\":[\"embedded\"],\"stylesheets\":[\"\\n:host(.pn-loading.pn-arc):before, .pn-loading.pn-arc:before {\\n  background-image: url(\\\"data:image/svg+xml;base64,PHN2ZyB4bWxucz0iaHR0cDovL3d3dy53My5vcmcvMjAwMC9zdmciIHN0eWxlPSJtYXJnaW46IGF1dG87IGJhY2tncm91bmQ6IG5vbmU7IGRpc3BsYXk6IGJsb2NrOyBzaGFwZS1yZW5kZXJpbmc6IGF1dG87IiB2aWV3Qm94PSIwIDAgMTAwIDEwMCIgcHJlc2VydmVBc3BlY3RSYXRpbz0ieE1pZFlNaWQiPiAgPGNpcmNsZSBjeD0iNTAiIGN5PSI1MCIgZmlsbD0ibm9uZSIgc3Ryb2tlPSIjYzNjM2MzIiBzdHJva2Utd2lkdGg9IjEwIiByPSIzNSIgc3Ryb2tlLWRhc2hhcnJheT0iMTY0LjkzMzYxNDMxMzQ2NDE1IDU2Ljk3Nzg3MTQzNzgyMTM4Ij4gICAgPGFuaW1hdGVUcmFuc2Zvcm0gYXR0cmlidXRlTmFtZT0idHJhbnNmb3JtIiB0eXBlPSJyb3RhdGUiIHJlcGVhdENvdW50PSJpbmRlZmluaXRlIiBkdXI9IjFzIiB2YWx1ZXM9IjAgNTAgNTA7MzYwIDUwIDUwIiBrZXlUaW1lcz0iMDsxIj48L2FuaW1hdGVUcmFuc2Zvcm0+ICA8L2NpcmNsZT48L3N2Zz4=\\\");\\n  background-size: auto calc(min(50%, 400px));\\n}\",{\"type\":\"object\",\"name\":\"ImportedStyleSheet\",\"id\":\"p1005\",\"attributes\":{\"url\":\"https://cdn.holoviz.org/panel/1.1.0/dist/css/loading.css\"}},{\"type\":\"object\",\"name\":\"ImportedStyleSheet\",\"id\":\"p1094\",\"attributes\":{\"url\":\"https://cdn.holoviz.org/panel/1.1.0/dist/css/listpanel.css\"}},{\"type\":\"object\",\"name\":\"ImportedStyleSheet\",\"id\":\"p1003\",\"attributes\":{\"url\":\"https://cdn.holoviz.org/panel/1.1.0/dist/bundled/theme/default.css\"}},{\"type\":\"object\",\"name\":\"ImportedStyleSheet\",\"id\":\"p1004\",\"attributes\":{\"url\":\"https://cdn.holoviz.org/panel/1.1.0/dist/bundled/theme/native.css\"}}],\"min_width\":0,\"margin\":0,\"sizing_mode\":\"stretch_width\",\"align\":\"start\",\"children\":[{\"type\":\"object\",\"name\":\"Spacer\",\"id\":\"p1006\",\"attributes\":{\"name\":\"HSpacer00879\",\"stylesheets\":[\"\\n:host(.pn-loading.pn-arc):before, .pn-loading.pn-arc:before {\\n  background-image: url(\\\"data:image/svg+xml;base64,PHN2ZyB4bWxucz0iaHR0cDovL3d3dy53My5vcmcvMjAwMC9zdmciIHN0eWxlPSJtYXJnaW46IGF1dG87IGJhY2tncm91bmQ6IG5vbmU7IGRpc3BsYXk6IGJsb2NrOyBzaGFwZS1yZW5kZXJpbmc6IGF1dG87IiB2aWV3Qm94PSIwIDAgMTAwIDEwMCIgcHJlc2VydmVBc3BlY3RSYXRpbz0ieE1pZFlNaWQiPiAgPGNpcmNsZSBjeD0iNTAiIGN5PSI1MCIgZmlsbD0ibm9uZSIgc3Ryb2tlPSIjYzNjM2MzIiBzdHJva2Utd2lkdGg9IjEwIiByPSIzNSIgc3Ryb2tlLWRhc2hhcnJheT0iMTY0LjkzMzYxNDMxMzQ2NDE1IDU2Ljk3Nzg3MTQzNzgyMTM4Ij4gICAgPGFuaW1hdGVUcmFuc2Zvcm0gYXR0cmlidXRlTmFtZT0idHJhbnNmb3JtIiB0eXBlPSJyb3RhdGUiIHJlcGVhdENvdW50PSJpbmRlZmluaXRlIiBkdXI9IjFzIiB2YWx1ZXM9IjAgNTAgNTA7MzYwIDUwIDUwIiBrZXlUaW1lcz0iMDsxIj48L2FuaW1hdGVUcmFuc2Zvcm0+ICA8L2NpcmNsZT48L3N2Zz4=\\\");\\n  background-size: auto calc(min(50%, 400px));\\n}\",{\"id\":\"p1005\"},{\"id\":\"p1003\"},{\"id\":\"p1004\"}],\"margin\":0,\"sizing_mode\":\"stretch_width\",\"align\":\"start\"}},{\"type\":\"object\",\"name\":\"Figure\",\"id\":\"p1010\",\"attributes\":{\"width\":700,\"height\":300,\"margin\":[5,10],\"sizing_mode\":\"fixed\",\"align\":\"start\",\"x_range\":{\"type\":\"object\",\"name\":\"Range1d\",\"id\":\"p1007\",\"attributes\":{\"tags\":[[[\"pvalue\",\"pvalue\",null]]],\"start\":-0.04285671428571429,\"end\":1.0428467142857143,\"reset_start\":-0.04285671428571429,\"reset_end\":1.0428467142857143}},\"y_range\":{\"type\":\"object\",\"name\":\"Range1d\",\"id\":\"p1008\",\"attributes\":{\"tags\":[[[\"pvalue_count\",\"Count\",null]]],\"end\":20213.0,\"reset_start\":0.0,\"reset_end\":20213.0}},\"x_scale\":{\"type\":\"object\",\"name\":\"LinearScale\",\"id\":\"p1022\"},\"y_scale\":{\"type\":\"object\",\"name\":\"LinearScale\",\"id\":\"p1024\"},\"title\":{\"type\":\"object\",\"name\":\"Title\",\"id\":\"p1013\",\"attributes\":{\"text_color\":\"black\",\"text_font_size\":\"12pt\"}},\"renderers\":[{\"type\":\"object\",\"name\":\"GlyphRenderer\",\"id\":\"p1064\",\"attributes\":{\"data_source\":{\"type\":\"object\",\"name\":\"ColumnDataSource\",\"id\":\"p1054\",\"attributes\":{\"selected\":{\"type\":\"object\",\"name\":\"Selection\",\"id\":\"p1055\",\"attributes\":{\"indices\":[],\"line_indices\":[]}},\"selection_policy\":{\"type\":\"object\",\"name\":\"UnionRenderers\",\"id\":\"p1056\"},\"data\":{\"type\":\"map\",\"entries\":[[\"top\",{\"type\":\"ndarray\",\"array\":{\"type\":\"bytes\",\"data\":\"30oAAAcqAABaKgAAZigAAF4mAADFJAAAziQAAIwjAADkJAAABiYAAIMmAAA7JAAALSIAAMgiAAADIgAARCIAAHIiAADyIwAADSIAAPEiAAA=\"},\"shape\":[20],\"dtype\":\"int32\",\"order\":\"little\"}],[\"left\",{\"type\":\"ndarray\",\"array\":{\"type\":\"bytes\",\"data\":\"6ms6fkInqjjk+KHSiJmpP+T4odKImbk/q3r5nSYzwz/k+KHSiJnJPx13Sgfr/88/q3r5nSYz0z/IuU24V2bWP+T4odKImdk/ADj27LnM3D8dd0oH6//fPx1bzxCOmeE/q3r5nSYz4z85miMrv8zkP8i5TbhXZuY/Vtl3RfD/5z/k+KHSiJnpP3IYzF8hM+s/ADj27LnM7D+PVyB6UmbuPw==\"},\"shape\":[20],\"dtype\":\"float64\",\"order\":\"little\"}],[\"right\",{\"type\":\"ndarray\",\"array\":{\"type\":\"bytes\",\"data\":\"5Pih0oiZqT/k+KHSiJm5P6t6+Z0mM8M/5Pih0oiZyT8dd0oH6//PP6t6+Z0mM9M/yLlNuFdm1j/k+KHSiJnZPwA49uy5zNw/HXdKB+v/3z8dW88QjpnhP6t6+Z0mM+M/OZojK7/M5D/IuU24V2bmP1bZd0Xw/+c/5Pih0oiZ6T9yGMxfITPrPwA49uy5zOw/j1cgelJm7j8dd0oH6//vPw==\"},\"shape\":[20],\"dtype\":\"float64\",\"order\":\"little\"}],[\"pvalue\",{\"type\":\"ndarray\",\"array\":{\"type\":\"bytes\",\"data\":\"5Pih0oiZmT+revmdJjOzPx13Sgfr/78/yLlNuFdmxj8AOPbsuczMPx1bzxCOmdE/OpojK7/M1D9W2XdF8P/XP3IYzF8hM9s/jlcgelJm3j9WSzrKwczgP+RqZFdaZuI/coqO5PL/4z8Aqrhxi5nlP4/J4v4jM+c/HekMjLzM6D+rCDcZVWbqPzkoYabt/+s/yEeLM4aZ7T9WZ7XAHjPvPw==\"},\"shape\":[20],\"dtype\":\"float64\",\"order\":\"little\"}],[\"pvalue_count\",{\"type\":\"ndarray\",\"array\":{\"type\":\"bytes\",\"data\":\"30oAAAcqAABaKgAAZigAAF4mAADFJAAAziQAAIwjAADkJAAABiYAAIMmAAA7JAAALSIAAMgiAAADIgAARCIAAHIiAADyIwAADSIAAPEiAAA=\"},\"shape\":[20],\"dtype\":\"int32\",\"order\":\"little\"}]]}}},\"view\":{\"type\":\"object\",\"name\":\"CDSView\",\"id\":\"p1065\",\"attributes\":{\"filter\":{\"type\":\"object\",\"name\":\"AllIndices\",\"id\":\"p1066\"}}},\"glyph\":{\"type\":\"object\",\"name\":\"Quad\",\"id\":\"p1061\",\"attributes\":{\"tags\":[\"apply_ranges\"],\"left\":{\"type\":\"field\",\"field\":\"left\"},\"right\":{\"type\":\"field\",\"field\":\"right\"},\"bottom\":{\"type\":\"value\",\"value\":0},\"top\":{\"type\":\"field\",\"field\":\"top\"},\"fill_color\":{\"type\":\"value\",\"value\":\"#30a2da\"},\"hatch_color\":{\"type\":\"value\",\"value\":\"#30a2da\"}}},\"selection_glyph\":{\"type\":\"object\",\"name\":\"Quad\",\"id\":\"p1067\",\"attributes\":{\"tags\":[\"apply_ranges\"],\"left\":{\"type\":\"field\",\"field\":\"left\"},\"right\":{\"type\":\"field\",\"field\":\"right\"},\"bottom\":{\"type\":\"value\",\"value\":0},\"top\":{\"type\":\"field\",\"field\":\"top\"},\"line_color\":{\"type\":\"value\",\"value\":\"black\"},\"line_alpha\":{\"type\":\"value\",\"value\":1.0},\"line_width\":{\"type\":\"value\",\"value\":1},\"line_join\":{\"type\":\"value\",\"value\":\"bevel\"},\"line_cap\":{\"type\":\"value\",\"value\":\"butt\"},\"line_dash\":{\"type\":\"value\",\"value\":[]},\"line_dash_offset\":{\"type\":\"value\",\"value\":0},\"fill_color\":{\"type\":\"value\",\"value\":\"#30a2da\"},\"fill_alpha\":{\"type\":\"value\",\"value\":1.0},\"hatch_color\":{\"type\":\"value\",\"value\":\"#30a2da\"},\"hatch_alpha\":{\"type\":\"value\",\"value\":1.0},\"hatch_scale\":{\"type\":\"value\",\"value\":12.0},\"hatch_pattern\":{\"type\":\"value\",\"value\":null},\"hatch_weight\":{\"type\":\"value\",\"value\":1.0}}},\"nonselection_glyph\":{\"type\":\"object\",\"name\":\"Quad\",\"id\":\"p1062\",\"attributes\":{\"tags\":[\"apply_ranges\"],\"left\":{\"type\":\"field\",\"field\":\"left\"},\"right\":{\"type\":\"field\",\"field\":\"right\"},\"bottom\":{\"type\":\"value\",\"value\":0},\"top\":{\"type\":\"field\",\"field\":\"top\"},\"line_alpha\":{\"type\":\"value\",\"value\":0.1},\"fill_color\":{\"type\":\"value\",\"value\":\"#30a2da\"},\"fill_alpha\":{\"type\":\"value\",\"value\":0.1},\"hatch_color\":{\"type\":\"value\",\"value\":\"#30a2da\"},\"hatch_alpha\":{\"type\":\"value\",\"value\":0.1}}},\"muted_glyph\":{\"type\":\"object\",\"name\":\"Quad\",\"id\":\"p1063\",\"attributes\":{\"tags\":[\"apply_ranges\"],\"left\":{\"type\":\"field\",\"field\":\"left\"},\"right\":{\"type\":\"field\",\"field\":\"right\"},\"bottom\":{\"type\":\"value\",\"value\":0},\"top\":{\"type\":\"field\",\"field\":\"top\"},\"line_alpha\":{\"type\":\"value\",\"value\":0.2},\"fill_color\":{\"type\":\"value\",\"value\":\"#30a2da\"},\"fill_alpha\":{\"type\":\"value\",\"value\":0.2},\"hatch_color\":{\"type\":\"value\",\"value\":\"#30a2da\"},\"hatch_alpha\":{\"type\":\"value\",\"value\":0.2}}}}}],\"toolbar\":{\"type\":\"object\",\"name\":\"Toolbar\",\"id\":\"p1017\",\"attributes\":{\"tools\":[{\"type\":\"object\",\"name\":\"HoverTool\",\"id\":\"p1009\",\"attributes\":{\"tags\":[\"hv_created\"],\"renderers\":[{\"id\":\"p1064\"}],\"tooltips\":[[\"pvalue\",\"@{pvalue}\"],[\"Count\",\"@{pvalue_count}\"]]}},{\"type\":\"object\",\"name\":\"SaveTool\",\"id\":\"p1040\"},{\"type\":\"object\",\"name\":\"PanTool\",\"id\":\"p1041\"},{\"type\":\"object\",\"name\":\"WheelZoomTool\",\"id\":\"p1042\"},{\"type\":\"object\",\"name\":\"BoxZoomTool\",\"id\":\"p1043\",\"attributes\":{\"overlay\":{\"type\":\"object\",\"name\":\"BoxAnnotation\",\"id\":\"p1044\",\"attributes\":{\"syncable\":false,\"level\":\"overlay\",\"visible\":false,\"left_units\":\"canvas\",\"right_units\":\"canvas\",\"bottom_units\":\"canvas\",\"top_units\":\"canvas\",\"line_color\":\"black\",\"line_alpha\":1.0,\"line_width\":2,\"line_dash\":[4,4],\"fill_color\":\"lightgrey\",\"fill_alpha\":0.5}}}},{\"type\":\"object\",\"name\":\"ResetTool\",\"id\":\"p1045\"}],\"active_drag\":{\"id\":\"p1041\"},\"active_scroll\":{\"id\":\"p1042\"}}},\"left\":[{\"type\":\"object\",\"name\":\"LinearAxis\",\"id\":\"p1033\",\"attributes\":{\"ticker\":{\"type\":\"object\",\"name\":\"BasicTicker\",\"id\":\"p1035\",\"attributes\":{\"mantissas\":[1,2,5]}},\"formatter\":{\"type\":\"object\",\"name\":\"BasicTickFormatter\",\"id\":\"p1034\"},\"axis_label\":\"\",\"major_label_policy\":{\"type\":\"object\",\"name\":\"AllLabels\",\"id\":\"p1036\"}}}],\"below\":[{\"type\":\"object\",\"name\":\"LinearAxis\",\"id\":\"p1026\",\"attributes\":{\"ticker\":{\"type\":\"object\",\"name\":\"BasicTicker\",\"id\":\"p1028\",\"attributes\":{\"mantissas\":[1,2,5]}},\"formatter\":{\"type\":\"object\",\"name\":\"BasicTickFormatter\",\"id\":\"p1027\"},\"axis_label\":\"pvalue\",\"major_label_policy\":{\"type\":\"object\",\"name\":\"AllLabels\",\"id\":\"p1029\"}}}],\"center\":[{\"type\":\"object\",\"name\":\"Grid\",\"id\":\"p1032\",\"attributes\":{\"axis\":{\"id\":\"p1026\"},\"grid_line_color\":null}},{\"type\":\"object\",\"name\":\"Grid\",\"id\":\"p1039\",\"attributes\":{\"dimension\":1,\"axis\":{\"id\":\"p1033\"},\"grid_line_color\":null}}],\"min_border_top\":10,\"min_border_bottom\":10,\"min_border_left\":10,\"min_border_right\":10,\"output_backend\":\"webgl\"}},{\"type\":\"object\",\"name\":\"Spacer\",\"id\":\"p1092\",\"attributes\":{\"name\":\"HSpacer00882\",\"stylesheets\":[\"\\n:host(.pn-loading.pn-arc):before, .pn-loading.pn-arc:before {\\n  background-image: url(\\\"data:image/svg+xml;base64,PHN2ZyB4bWxucz0iaHR0cDovL3d3dy53My5vcmcvMjAwMC9zdmciIHN0eWxlPSJtYXJnaW46IGF1dG87IGJhY2tncm91bmQ6IG5vbmU7IGRpc3BsYXk6IGJsb2NrOyBzaGFwZS1yZW5kZXJpbmc6IGF1dG87IiB2aWV3Qm94PSIwIDAgMTAwIDEwMCIgcHJlc2VydmVBc3BlY3RSYXRpbz0ieE1pZFlNaWQiPiAgPGNpcmNsZSBjeD0iNTAiIGN5PSI1MCIgZmlsbD0ibm9uZSIgc3Ryb2tlPSIjYzNjM2MzIiBzdHJva2Utd2lkdGg9IjEwIiByPSIzNSIgc3Ryb2tlLWRhc2hhcnJheT0iMTY0LjkzMzYxNDMxMzQ2NDE1IDU2Ljk3Nzg3MTQzNzgyMTM4Ij4gICAgPGFuaW1hdGVUcmFuc2Zvcm0gYXR0cmlidXRlTmFtZT0idHJhbnNmb3JtIiB0eXBlPSJyb3RhdGUiIHJlcGVhdENvdW50PSJpbmRlZmluaXRlIiBkdXI9IjFzIiB2YWx1ZXM9IjAgNTAgNTA7MzYwIDUwIDUwIiBrZXlUaW1lcz0iMDsxIj48L2FuaW1hdGVUcmFuc2Zvcm0+ICA8L2NpcmNsZT48L3N2Zz4=\\\");\\n  background-size: auto calc(min(50%, 400px));\\n}\",{\"id\":\"p1005\"},{\"id\":\"p1003\"},{\"id\":\"p1004\"}],\"margin\":0,\"sizing_mode\":\"stretch_width\",\"align\":\"start\"}}]}}],\"callbacks\":{\"type\":\"map\"}}};\n",
       "  var render_items = [{\"docid\":\"0540f636-7985-4733-9ecb-d6e1c97182de\",\"roots\":{\"p1002\":\"b3260bc8-af78-467f-b6d0-b0cf8c120e2d\"},\"root_ids\":[\"p1002\"]}];\n",
       "  var docs = Object.values(docs_json)\n",
       "  if (!docs) {\n",
       "    return\n",
       "  }\n",
       "  const py_version = docs[0].version.replace('rc', '-rc.')\n",
       "  const is_dev = py_version.indexOf(\"+\") !== -1 || py_version.indexOf(\"-\") !== -1\n",
       "  function embed_document(root) {\n",
       "    var Bokeh = get_bokeh(root)\n",
       "    Bokeh.embed.embed_items_notebook(docs_json, render_items);\n",
       "    for (const render_item of render_items) {\n",
       "      for (const root_id of render_item.root_ids) {\n",
       "\tconst id_el = document.getElementById(root_id)\n",
       "\tif (id_el.children.length && (id_el.children[0].className === 'bk-root')) {\n",
       "\t  const root_el = id_el.children[0]\n",
       "\t  root_el.id = root_el.id + '-rendered'\n",
       "\t}\n",
       "      }\n",
       "    }\n",
       "  }\n",
       "  function get_bokeh(root) {\n",
       "    if (root.Bokeh === undefined) {\n",
       "      return null\n",
       "    } else if (root.Bokeh.version !== py_version && !is_dev) {\n",
       "      if (root.Bokeh.versions === undefined || !root.Bokeh.versions.has(py_version)) {\n",
       "\treturn null\n",
       "      }\n",
       "      return root.Bokeh.versions.get(py_version);\n",
       "    } else if (root.Bokeh.version === py_version) {\n",
       "      return root.Bokeh\n",
       "    }\n",
       "    return null\n",
       "  }\n",
       "  function is_loaded(root) {\n",
       "    var Bokeh = get_bokeh(root)\n",
       "    return (Bokeh != null && Bokeh.Panel !== undefined)\n",
       "  }\n",
       "  if (is_loaded(root)) {\n",
       "    embed_document(root);\n",
       "  } else {\n",
       "    var attempts = 0;\n",
       "    var timer = setInterval(function(root) {\n",
       "      if (is_loaded(root)) {\n",
       "        clearInterval(timer);\n",
       "        embed_document(root);\n",
       "      } else if (document.readyState == \"complete\") {\n",
       "        attempts++;\n",
       "        if (attempts > 200) {\n",
       "          clearInterval(timer);\n",
       "\t  var Bokeh = get_bokeh(root)\n",
       "\t  if (Bokeh == null || Bokeh.Panel == null) {\n",
       "            console.warn(\"Panel: ERROR: Unable to run Panel code because Bokeh or Panel library is missing\");\n",
       "\t  } else {\n",
       "\t    console.warn(\"Panel: WARNING: Attempting to render but not all required libraries could be resolved.\")\n",
       "\t    embed_document(root)\n",
       "\t  }\n",
       "        }\n",
       "      }\n",
       "    }, 25, root)\n",
       "  }\n",
       "})(window);</script>"
      ],
      "text/plain": [
       ":Histogram   [pvalue]   (pvalue_count)"
      ]
     },
     "execution_count": 11,
     "metadata": {
      "application/vnd.holoviews_exec.v0+json": {
       "id": "p1002"
      }
     },
     "output_type": "execute_result"
    }
   ],
   "source": [
    "df[\"pvalue\"].plot.hist()"
   ]
  },
  {
   "cell_type": "code",
   "execution_count": 14,
   "metadata": {},
   "outputs": [
    {
     "data": {
      "text/html": [
       "<div><style>\n",
       ".dataframe > thead > tr,\n",
       ".dataframe > tbody > tr {\n",
       "  text-align: right;\n",
       "  white-space: pre-wrap;\n",
       "}\n",
       "</style>\n",
       "<small>shape: (2, 35)</small><table border=\"1\" class=\"dataframe\"><thead><tr><th>chromosome</th><th>position</th><th>allele1</th><th>allele2</th><th>variant</th><th>rsid</th><th>af_allele2</th><th>beta_marginal</th><th>se_marginal</th><th>pvalue</th><th>region</th><th>pip</th><th>cs_id</th><th>beta_posterior</th><th>sd_posterior</th><th>alpha1</th><th>alpha2</th><th>alpha3</th><th>alpha4</th><th>alpha5</th><th>alpha6</th><th>alpha7</th><th>alpha8</th><th>alpha9</th><th>alpha10</th><th>lbf_variable1</th><th>lbf_variable2</th><th>lbf_variable3</th><th>lbf_variable4</th><th>lbf_variable5</th><th>lbf_variable6</th><th>lbf_variable7</th><th>lbf_variable8</th><th>lbf_variable9</th><th>lbf_variable10</th></tr><tr><td>i64</td><td>i64</td><td>str</td><td>str</td><td>str</td><td>str</td><td>f64</td><td>f64</td><td>f64</td><td>f64</td><td>str</td><td>f64</td><td>i64</td><td>f64</td><td>f64</td><td>f64</td><td>f64</td><td>f64</td><td>f64</td><td>f64</td><td>f64</td><td>f64</td><td>f64</td><td>f64</td><td>f64</td><td>f64</td><td>f64</td><td>f64</td><td>f64</td><td>f64</td><td>f64</td><td>f64</td><td>f64</td><td>f64</td><td>f64</td></tr></thead><tbody><tr><td>1</td><td>152201387</td><td>&quot;C&quot;</td><td>&quot;T&quot;</td><td>&quot;1:152201387:C:T&quot;</td><td>&quot;rs187068709&quot;</td><td>0.014619</td><td>0.98232</td><td>0.11141</td><td>1.1758e-18</td><td>&quot;1:150701387-153701387&quot;</td><td>0.9132</td><td>1</td><td>0.90479</td><td>0.29851</td><td>0.9132</td><td>4.9837e-10</td><td>8.1947e-7</td><td>0.000076</td><td>0.000076</td><td>0.000076</td><td>0.000076</td><td>0.000076</td><td>0.000076</td><td>0.000076</td><td>36.822</td><td>-2.8639</td><td>-2.8633</td><td>0.0</td><td>0.0</td><td>0.0</td><td>0.0</td><td>0.0</td><td>0.0</td><td>0.0</td></tr><tr><td>11</td><td>7982432</td><td>&quot;G&quot;</td><td>&quot;A&quot;</td><td>&quot;11:7982432:G:A&quot;</td><td>&quot;rs59039403&quot;</td><td>0.13377</td><td>-0.47764</td><td>0.038278</td><td>9.8378e-36</td><td>&quot;11:6482432-9482432&quot;</td><td>1.0</td><td>1</td><td>-0.47609</td><td>0.038216</td><td>1.0</td><td>0.000058</td><td>0.000058</td><td>0.000058</td><td>0.000058</td><td>0.000058</td><td>0.000058</td><td>0.000058</td><td>0.000058</td><td>0.000058</td><td>74.734</td><td>0.0</td><td>0.0</td><td>0.0</td><td>0.0</td><td>0.0</td><td>0.0</td><td>0.0</td><td>0.0</td><td>0.0</td></tr></tbody></table></div>"
      ],
      "text/plain": [
       "shape: (2, 35)\n",
       "┌────────────┬───────────┬─────────┬─────────┬───┬────────────┬────────────┬───────────┬───────────┐\n",
       "│ chromosome ┆ position  ┆ allele1 ┆ allele2 ┆ … ┆ lbf_variab ┆ lbf_variab ┆ lbf_varia ┆ lbf_varia │\n",
       "│ ---        ┆ ---       ┆ ---     ┆ ---     ┆   ┆ le7        ┆ le8        ┆ ble9      ┆ ble10     │\n",
       "│ i64        ┆ i64       ┆ str     ┆ str     ┆   ┆ ---        ┆ ---        ┆ ---       ┆ ---       │\n",
       "│            ┆           ┆         ┆         ┆   ┆ f64        ┆ f64        ┆ f64       ┆ f64       │\n",
       "╞════════════╪═══════════╪═════════╪═════════╪═══╪════════════╪════════════╪═══════════╪═══════════╡\n",
       "│ 1          ┆ 152201387 ┆ C       ┆ T       ┆ … ┆ 0.0        ┆ 0.0        ┆ 0.0       ┆ 0.0       │\n",
       "│ 11         ┆ 7982432   ┆ G       ┆ A       ┆ … ┆ 0.0        ┆ 0.0        ┆ 0.0       ┆ 0.0       │\n",
       "└────────────┴───────────┴─────────┴─────────┴───┴────────────┴────────────┴───────────┴───────────┘"
      ]
     },
     "execution_count": 14,
     "metadata": {},
     "output_type": "execute_result"
    }
   ],
   "source": [
    "df.filter(pl.col(\"pip\") > 0.9)"
   ]
  },
  {
   "cell_type": "code",
   "execution_count": 15,
   "metadata": {},
   "outputs": [
    {
     "data": {
      "text/html": [
       "<div><style>\n",
       ".dataframe > thead > tr,\n",
       ".dataframe > tbody > tr {\n",
       "  text-align: right;\n",
       "  white-space: pre-wrap;\n",
       "}\n",
       "</style>\n",
       "<small>shape: (833, 35)</small><table border=\"1\" class=\"dataframe\"><thead><tr><th>chromosome</th><th>position</th><th>allele1</th><th>allele2</th><th>variant</th><th>rsid</th><th>af_allele2</th><th>beta_marginal</th><th>se_marginal</th><th>pvalue</th><th>region</th><th>pip</th><th>cs_id</th><th>beta_posterior</th><th>sd_posterior</th><th>alpha1</th><th>alpha2</th><th>alpha3</th><th>alpha4</th><th>alpha5</th><th>alpha6</th><th>alpha7</th><th>alpha8</th><th>alpha9</th><th>alpha10</th><th>lbf_variable1</th><th>lbf_variable2</th><th>lbf_variable3</th><th>lbf_variable4</th><th>lbf_variable5</th><th>lbf_variable6</th><th>lbf_variable7</th><th>lbf_variable8</th><th>lbf_variable9</th><th>lbf_variable10</th></tr><tr><td>i64</td><td>i64</td><td>str</td><td>str</td><td>str</td><td>str</td><td>f64</td><td>f64</td><td>f64</td><td>f64</td><td>str</td><td>f64</td><td>i64</td><td>f64</td><td>f64</td><td>f64</td><td>f64</td><td>f64</td><td>f64</td><td>f64</td><td>f64</td><td>f64</td><td>f64</td><td>f64</td><td>f64</td><td>f64</td><td>f64</td><td>f64</td><td>f64</td><td>f64</td><td>f64</td><td>f64</td><td>f64</td><td>f64</td><td>f64</td></tr></thead><tbody><tr><td>1</td><td>151547777</td><td>&quot;T&quot;</td><td>&quot;C&quot;</td><td>&quot;1:151547777:T:C&quot;</td><td>&quot;rs74340559&quot;</td><td>0.020116</td><td>0.61509</td><td>0.098662</td><td>4.5372e-10</td><td>&quot;1:150701387-153701387&quot;</td><td>9.9742e-7</td><td>-1</td><td>6.2749e-8</td><td>0.00012</td><td>2.6474e-9</td><td>6.0540e-10</td><td>9.9416e-7</td><td>0.000076</td><td>0.000076</td><td>0.000076</td><td>0.000076</td><td>0.000076</td><td>0.000076</td><td>0.000076</td><td>17.163</td><td>-2.6693</td><td>-2.6701</td><td>0.0</td><td>0.0</td><td>0.0</td><td>0.0</td><td>0.0</td><td>0.0</td><td>0.0</td></tr><tr><td>1</td><td>151567719</td><td>&quot;G&quot;</td><td>&quot;A&quot;</td><td>&quot;1:151567719:G:A&quot;</td><td>&quot;rs180926465&quot;</td><td>0.019381</td><td>0.63652</td><td>0.10162</td><td>3.7623e-10</td><td>&quot;1:150701387-153701387&quot;</td><td>0.000001</td><td>-1</td><td>6.8893e-8</td><td>0.000127</td><td>3.2570e-9</td><td>6.1638e-10</td><td>0.000001</td><td>0.000076</td><td>0.000076</td><td>0.000076</td><td>0.000076</td><td>0.000076</td><td>0.000076</td><td>0.000076</td><td>17.37</td><td>-2.6513</td><td>-2.6529</td><td>0.0</td><td>0.0</td><td>0.0</td><td>0.0</td><td>0.0</td><td>0.0</td><td>0.0</td></tr><tr><td>1</td><td>151625490</td><td>&quot;G&quot;</td><td>&quot;A&quot;</td><td>&quot;1:151625490:G:A&quot;</td><td>&quot;rs186731315&quot;</td><td>0.019817</td><td>0.62429</td><td>0.098248</td><td>2.0955e-10</td><td>&quot;1:150701387-153701387&quot;</td><td>0.000001</td><td>-1</td><td>6.7651e-8</td><td>0.0001271</td><td>5.8503e-9</td><td>6.1571e-10</td><td>0.000001</td><td>0.000076</td><td>0.000076</td><td>0.000076</td><td>0.000076</td><td>0.000076</td><td>0.000076</td><td>0.000076</td><td>17.956</td><td>-2.6524</td><td>-2.6558</td><td>0.0</td><td>0.0</td><td>0.0</td><td>0.0</td><td>0.0</td><td>0.0</td><td>0.0</td></tr><tr><td>1</td><td>151627544</td><td>&quot;G&quot;</td><td>&quot;A&quot;</td><td>&quot;1:151627544:G:A&quot;</td><td>&quot;rs369891658&quot;</td><td>0.0066055</td><td>0.99285</td><td>0.17783</td><td>2.3634e-8</td><td>&quot;1:150701387-153701387&quot;</td><td>0.0058448</td><td>-1</td><td>0.0059179</td><td>0.078371</td><td>8.0143e-18</td><td>0.0058435</td><td>0.000001</td><td>0.000076</td><td>0.000076</td><td>0.000076</td><td>0.000076</td><td>0.000076</td><td>0.000076</td><td>0.000076</td><td>-2.4524</td><td>13.413</td><td>-2.3909</td><td>0.0</td><td>0.0</td><td>0.0</td><td>0.0</td><td>0.0</td><td>0.0</td><td>0.0</td></tr><tr><td>1</td><td>151761585</td><td>&quot;AATG&quot;</td><td>&quot;A&quot;</td><td>&quot;1:151761585:AATG:A&quot;</td><td>&quot;1:151761585:AATG:A&quot;</td><td>0.0062156</td><td>1.0</td><td>0.16294</td><td>8.3762e-10</td><td>&quot;1:150701387-153701387&quot;</td><td>0.14483</td><td>2</td><td>0.14704</td><td>0.36262</td><td>7.1370e-18</td><td>0.14483</td><td>0.000001</td><td>0.000076</td><td>0.000076</td><td>0.000076</td><td>0.000076</td><td>0.000076</td><td>0.000076</td><td>0.000076</td><td>-2.5683</td><td>16.624</td><td>-2.515</td><td>0.0</td><td>0.0</td><td>0.0</td><td>0.0</td><td>0.0</td><td>0.0</td><td>0.0</td></tr><tr><td>&hellip;</td><td>&hellip;</td><td>&hellip;</td><td>&hellip;</td><td>&hellip;</td><td>&hellip;</td><td>&hellip;</td><td>&hellip;</td><td>&hellip;</td><td>&hellip;</td><td>&hellip;</td><td>&hellip;</td><td>&hellip;</td><td>&hellip;</td><td>&hellip;</td><td>&hellip;</td><td>&hellip;</td><td>&hellip;</td><td>&hellip;</td><td>&hellip;</td><td>&hellip;</td><td>&hellip;</td><td>&hellip;</td><td>&hellip;</td><td>&hellip;</td><td>&hellip;</td><td>&hellip;</td><td>&hellip;</td><td>&hellip;</td><td>&hellip;</td><td>&hellip;</td><td>&hellip;</td><td>&hellip;</td><td>&hellip;</td><td>&hellip;</td></tr><tr><td>20</td><td>62346459</td><td>&quot;A&quot;</td><td>&quot;T&quot;</td><td>&quot;20:62346459:A:T&quot;</td><td>&quot;rs2259858&quot;</td><td>0.5932</td><td>-0.13637</td><td>0.024986</td><td>4.8175e-8</td><td>&quot;20:60809839-63025520&quot;</td><td>0.000739</td><td>-1</td><td>-0.0001</td><td>0.0037559</td><td>0.000739</td><td>0.000111</td><td>0.000111</td><td>0.000111</td><td>0.000111</td><td>0.000111</td><td>0.000111</td><td>0.000111</td><td>0.000111</td><td>0.000111</td><td>11.982</td><td>0.0</td><td>0.0</td><td>0.0</td><td>0.0</td><td>0.0</td><td>0.0</td><td>0.0</td><td>0.0</td><td>0.0</td></tr><tr><td>20</td><td>62348917</td><td>&quot;A&quot;</td><td>&quot;ATTGTTTTTTG&quot;</td><td>&quot;20:62348917:A:ATTGTTTTTTG&quot;</td><td>&quot;20:62348917:A:ATTGTTTTTTG&quot;</td><td>0.57615</td><td>-0.14341</td><td>0.025163</td><td>1.2030e-8</td><td>&quot;20:60809839-63025520&quot;</td><td>0.002829</td><td>1</td><td>-0.000404</td><td>0.0077089</td><td>0.002829</td><td>0.000111</td><td>0.000111</td><td>0.000111</td><td>0.000111</td><td>0.000111</td><td>0.000111</td><td>0.000111</td><td>0.000111</td><td>0.000111</td><td>13.324</td><td>0.0</td><td>0.0</td><td>0.0</td><td>0.0</td><td>0.0</td><td>0.0</td><td>0.0</td><td>0.0</td><td>0.0</td></tr><tr><td>20</td><td>62349491</td><td>&quot;G&quot;</td><td>&quot;A&quot;</td><td>&quot;20:62349491:G:A&quot;</td><td>&quot;rs6089961&quot;</td><td>0.59332</td><td>-0.13634</td><td>0.024964</td><td>4.7255e-8</td><td>&quot;20:60809839-63025520&quot;</td><td>0.000753</td><td>-1</td><td>-0.000102</td><td>0.0037903</td><td>0.000753</td><td>0.000111</td><td>0.000111</td><td>0.000111</td><td>0.000111</td><td>0.000111</td><td>0.000111</td><td>0.000111</td><td>0.000111</td><td>0.000111</td><td>12.001</td><td>0.0</td><td>0.0</td><td>0.0</td><td>0.0</td><td>0.0</td><td>0.0</td><td>0.0</td><td>0.0</td><td>0.0</td></tr><tr><td>20</td><td>62349625</td><td>&quot;C&quot;</td><td>&quot;G&quot;</td><td>&quot;20:62349625:C:G&quot;</td><td>&quot;rs2738758&quot;</td><td>0.59333</td><td>-0.13631</td><td>0.024963</td><td>4.7535e-8</td><td>&quot;20:60809839-63025520&quot;</td><td>0.000749</td><td>-1</td><td>-0.000102</td><td>0.0037789</td><td>0.000749</td><td>0.000111</td><td>0.000111</td><td>0.000111</td><td>0.000111</td><td>0.000111</td><td>0.000111</td><td>0.000111</td><td>0.000111</td><td>0.000111</td><td>11.995</td><td>0.0</td><td>0.0</td><td>0.0</td><td>0.0</td><td>0.0</td><td>0.0</td><td>0.0</td><td>0.0</td><td>0.0</td></tr><tr><td>20</td><td>62351150</td><td>&quot;T&quot;</td><td>&quot;C&quot;</td><td>&quot;20:62351150:T:C&quot;</td><td>&quot;rs2263805&quot;</td><td>0.5933</td><td>-0.13623</td><td>0.024965</td><td>4.8490e-8</td><td>&quot;20:60809839-63025520&quot;</td><td>0.000735</td><td>-1</td><td>-0.0001</td><td>0.0037404</td><td>0.000735</td><td>0.000111</td><td>0.000111</td><td>0.000111</td><td>0.000111</td><td>0.000111</td><td>0.000111</td><td>0.000111</td><td>0.000111</td><td>0.000111</td><td>11.976</td><td>0.0</td><td>0.0</td><td>0.0</td><td>0.0</td><td>0.0</td><td>0.0</td><td>0.0</td><td>0.0</td><td>0.0</td></tr></tbody></table></div>"
      ],
      "text/plain": [
       "shape: (833, 35)\n",
       "┌────────────┬───────────┬─────────┬───────────┬───┬───────────┬───────────┬───────────┬───────────┐\n",
       "│ chromosome ┆ position  ┆ allele1 ┆ allele2   ┆ … ┆ lbf_varia ┆ lbf_varia ┆ lbf_varia ┆ lbf_varia │\n",
       "│ ---        ┆ ---       ┆ ---     ┆ ---       ┆   ┆ ble7      ┆ ble8      ┆ ble9      ┆ ble10     │\n",
       "│ i64        ┆ i64       ┆ str     ┆ str       ┆   ┆ ---       ┆ ---       ┆ ---       ┆ ---       │\n",
       "│            ┆           ┆         ┆           ┆   ┆ f64       ┆ f64       ┆ f64       ┆ f64       │\n",
       "╞════════════╪═══════════╪═════════╪═══════════╪═══╪═══════════╪═══════════╪═══════════╪═══════════╡\n",
       "│ 1          ┆ 151547777 ┆ T       ┆ C         ┆ … ┆ 0.0       ┆ 0.0       ┆ 0.0       ┆ 0.0       │\n",
       "│ 1          ┆ 151567719 ┆ G       ┆ A         ┆ … ┆ 0.0       ┆ 0.0       ┆ 0.0       ┆ 0.0       │\n",
       "│ 1          ┆ 151625490 ┆ G       ┆ A         ┆ … ┆ 0.0       ┆ 0.0       ┆ 0.0       ┆ 0.0       │\n",
       "│ 1          ┆ 151627544 ┆ G       ┆ A         ┆ … ┆ 0.0       ┆ 0.0       ┆ 0.0       ┆ 0.0       │\n",
       "│ 1          ┆ 151761585 ┆ AATG    ┆ A         ┆ … ┆ 0.0       ┆ 0.0       ┆ 0.0       ┆ 0.0       │\n",
       "│ …          ┆ …         ┆ …       ┆ …         ┆ … ┆ …         ┆ …         ┆ …         ┆ …         │\n",
       "│ 20         ┆ 62346459  ┆ A       ┆ T         ┆ … ┆ 0.0       ┆ 0.0       ┆ 0.0       ┆ 0.0       │\n",
       "│ 20         ┆ 62348917  ┆ A       ┆ ATTGTTTTT ┆ … ┆ 0.0       ┆ 0.0       ┆ 0.0       ┆ 0.0       │\n",
       "│            ┆           ┆         ┆ TG        ┆   ┆           ┆           ┆           ┆           │\n",
       "│ 20         ┆ 62349491  ┆ G       ┆ A         ┆ … ┆ 0.0       ┆ 0.0       ┆ 0.0       ┆ 0.0       │\n",
       "│ 20         ┆ 62349625  ┆ C       ┆ G         ┆ … ┆ 0.0       ┆ 0.0       ┆ 0.0       ┆ 0.0       │\n",
       "│ 20         ┆ 62351150  ┆ T       ┆ C         ┆ … ┆ 0.0       ┆ 0.0       ┆ 0.0       ┆ 0.0       │\n",
       "└────────────┴───────────┴─────────┴───────────┴───┴───────────┴───────────┴───────────┴───────────┘"
      ]
     },
     "execution_count": 15,
     "metadata": {},
     "output_type": "execute_result"
    }
   ],
   "source": [
    "df.filter(pl.col(\"pvalue\") < 5e-8)"
   ]
  },
  {
   "cell_type": "code",
   "execution_count": null,
   "metadata": {},
   "outputs": [],
   "source": []
  }
 ],
 "metadata": {
  "kernelspec": {
   "display_name": "gpn",
   "language": "python",
   "name": "gpn"
  }
 },
 "nbformat": 4,
 "nbformat_minor": 2
}
