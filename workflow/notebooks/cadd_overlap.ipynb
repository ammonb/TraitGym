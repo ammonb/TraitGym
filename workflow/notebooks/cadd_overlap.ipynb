{
 "cells": [
  {
   "cell_type": "code",
   "execution_count": 1,
   "metadata": {},
   "outputs": [],
   "source": [
    "import polars as pl"
   ]
  },
  {
   "cell_type": "code",
   "execution_count": null,
   "metadata": {},
   "outputs": [
    {
     "name": "stdout",
     "output_type": "stream",
     "text": [
      "--2024-11-23 22:25:33--  https://krishna.gs.washington.edu/download/CADD-development/v1.7/training_data/GRCh38/simulation_SNVs.vcf.gz\n",
      "Resolving krishna.gs.washington.edu (krishna.gs.washington.edu)... 128.208.8.136\n",
      "Connecting to krishna.gs.washington.edu (krishna.gs.washington.edu)|128.208.8.136|:443... connected.\n",
      "HTTP request sent, awaiting response... 200 OK\n",
      "Length: 57579931 (55M) [application/x-gzip]\n",
      "Saving to: ‘simulation_SNVs.vcf.gz’\n",
      "\n",
      "simulation_SNVs.vcf 100%[===================>]  54.91M  83.0MB/s    in 0.7s    \n",
      "\n",
      "2024-11-23 22:25:35 (83.0 MB/s) - ‘simulation_SNVs.vcf.gz’ saved [57579931/57579931]\n",
      "\n"
     ]
    }
   ],
   "source": [
    "#!wget https://krishna.gs.washington.edu/download/CADD-development/v1.7/training_data/GRCh38/simulation_SNVs.vcf.gz"
   ]
  },
  {
   "cell_type": "code",
   "execution_count": null,
   "metadata": {},
   "outputs": [
    {
     "name": "stdout",
     "output_type": "stream",
     "text": [
      "--2024-11-23 22:29:46--  https://krishna.gs.washington.edu/download/CADD-development/v1.7/training_data/GRCh38/humanDerived_SNVs.vcf.gz\n",
      "Resolving krishna.gs.washington.edu (krishna.gs.washington.edu)... 128.208.8.136\n",
      "Connecting to krishna.gs.washington.edu (krishna.gs.washington.edu)|128.208.8.136|:443... connected.\n",
      "HTTP request sent, awaiting response... 200 OK\n",
      "Length: 56676936 (54M) [application/x-gzip]\n",
      "Saving to: ‘humanDerived_SNVs.vcf.gz’\n",
      "\n",
      "humanDerived_SNVs.v 100%[===================>]  54.05M  75.5MB/s    in 0.7s    \n",
      "\n",
      "2024-11-23 22:29:48 (75.5 MB/s) - ‘humanDerived_SNVs.vcf.gz’ saved [56676936/56676936]\n",
      "\n"
     ]
    }
   ],
   "source": [
    "#!wget https://krishna.gs.washington.edu/download/CADD-development/v1.7/training_data/GRCh38/humanDerived_SNVs.vcf.gz"
   ]
  },
  {
   "cell_type": "code",
   "execution_count": 11,
   "metadata": {},
   "outputs": [],
   "source": [
    "COORDINATES = [\"chrom\", \"pos\", \"ref\", \"alt\"]"
   ]
  },
  {
   "cell_type": "code",
   "execution_count": 9,
   "metadata": {},
   "outputs": [
    {
     "data": {
      "text/html": [
       "<div><style>\n",
       ".dataframe > thead > tr,\n",
       ".dataframe > tbody > tr {\n",
       "  text-align: right;\n",
       "  white-space: pre-wrap;\n",
       "}\n",
       "</style>\n",
       "<small>shape: (28_022_592, 5)</small><table border=\"1\" class=\"dataframe\"><thead><tr><th>chrom</th><th>pos</th><th>ref</th><th>alt</th><th>cadd_label</th></tr><tr><td>str</td><td>i64</td><td>str</td><td>str</td><td>bool</td></tr></thead><tbody><tr><td>&quot;1&quot;</td><td>967602</td><td>&quot;C&quot;</td><td>&quot;G&quot;</td><td>true</td></tr><tr><td>&quot;1&quot;</td><td>967847</td><td>&quot;A&quot;</td><td>&quot;C&quot;</td><td>true</td></tr><tr><td>&quot;1&quot;</td><td>968093</td><td>&quot;G&quot;</td><td>&quot;A&quot;</td><td>true</td></tr><tr><td>&quot;1&quot;</td><td>968228</td><td>&quot;G&quot;</td><td>&quot;A&quot;</td><td>true</td></tr><tr><td>&quot;1&quot;</td><td>968299</td><td>&quot;G&quot;</td><td>&quot;A&quot;</td><td>true</td></tr><tr><td>&hellip;</td><td>&hellip;</td><td>&hellip;</td><td>&hellip;</td><td>&hellip;</td></tr><tr><td>&quot;22&quot;</td><td>50781424</td><td>&quot;C&quot;</td><td>&quot;G&quot;</td><td>false</td></tr><tr><td>&quot;22&quot;</td><td>50781566</td><td>&quot;G&quot;</td><td>&quot;A&quot;</td><td>false</td></tr><tr><td>&quot;22&quot;</td><td>50781718</td><td>&quot;C&quot;</td><td>&quot;T&quot;</td><td>false</td></tr><tr><td>&quot;22&quot;</td><td>50782014</td><td>&quot;G&quot;</td><td>&quot;A&quot;</td><td>false</td></tr><tr><td>&quot;22&quot;</td><td>50782141</td><td>&quot;T&quot;</td><td>&quot;C&quot;</td><td>false</td></tr></tbody></table></div>"
      ],
      "text/plain": [
       "shape: (28_022_592, 5)\n",
       "┌───────┬──────────┬─────┬─────┬────────────┐\n",
       "│ chrom ┆ pos      ┆ ref ┆ alt ┆ cadd_label │\n",
       "│ ---   ┆ ---      ┆ --- ┆ --- ┆ ---        │\n",
       "│ str   ┆ i64      ┆ str ┆ str ┆ bool       │\n",
       "╞═══════╪══════════╪═════╪═════╪════════════╡\n",
       "│ 1     ┆ 967602   ┆ C   ┆ G   ┆ true       │\n",
       "│ 1     ┆ 967847   ┆ A   ┆ C   ┆ true       │\n",
       "│ 1     ┆ 968093   ┆ G   ┆ A   ┆ true       │\n",
       "│ 1     ┆ 968228   ┆ G   ┆ A   ┆ true       │\n",
       "│ 1     ┆ 968299   ┆ G   ┆ A   ┆ true       │\n",
       "│ …     ┆ …        ┆ …   ┆ …   ┆ …          │\n",
       "│ 22    ┆ 50781424 ┆ C   ┆ G   ┆ false      │\n",
       "│ 22    ┆ 50781566 ┆ G   ┆ A   ┆ false      │\n",
       "│ 22    ┆ 50781718 ┆ C   ┆ T   ┆ false      │\n",
       "│ 22    ┆ 50782014 ┆ G   ┆ A   ┆ false      │\n",
       "│ 22    ┆ 50782141 ┆ T   ┆ C   ┆ false      │\n",
       "└───────┴──────────┴─────┴─────┴────────────┘"
      ]
     },
     "execution_count": 9,
     "metadata": {},
     "output_type": "execute_result"
    }
   ],
   "source": [
    "def load_vcf(path):\n",
    "    return (\n",
    "        pl.read_csv(\n",
    "            path,\n",
    "            has_header=False,\n",
    "            separator=\"\\t\",\n",
    "            new_columns=[\"chrom\", \"pos\", \"id\", \"ref\", \"alt\"],\n",
    "            schema_overrides=dict(chrom=str),\n",
    "        )\n",
    "        .drop(\"id\")\n",
    "    )\n",
    "\n",
    "cadd = pl.concat([\n",
    "    load_vcf(\"simulation_SNVs.vcf.gz\").with_columns(cadd_label=pl.lit(True)),\n",
    "    load_vcf(\"humanDerived_SNVs.vcf.gz\").with_columns(cadd_label=pl.lit(False)),\n",
    "])\n",
    "cadd"
   ]
  },
  {
   "cell_type": "code",
   "execution_count": 24,
   "metadata": {},
   "outputs": [
    {
     "data": {
      "text/html": [
       "<div><style>\n",
       ".dataframe > thead > tr,\n",
       ".dataframe > tbody > tr {\n",
       "  text-align: right;\n",
       "  white-space: pre-wrap;\n",
       "}\n",
       "</style>\n",
       "<small>shape: (28_022_592, 5)</small><table border=\"1\" class=\"dataframe\"><thead><tr><th>chrom</th><th>pos</th><th>ref</th><th>alt</th><th>cadd_label</th></tr><tr><td>str</td><td>i64</td><td>str</td><td>str</td><td>bool</td></tr></thead><tbody><tr><td>&quot;6&quot;</td><td>16167852</td><td>&quot;A&quot;</td><td>&quot;G&quot;</td><td>true</td></tr><tr><td>&quot;11&quot;</td><td>103780646</td><td>&quot;C&quot;</td><td>&quot;T&quot;</td><td>true</td></tr><tr><td>&quot;9&quot;</td><td>137658303</td><td>&quot;T&quot;</td><td>&quot;A&quot;</td><td>false</td></tr><tr><td>&quot;9&quot;</td><td>6530340</td><td>&quot;T&quot;</td><td>&quot;C&quot;</td><td>false</td></tr><tr><td>&quot;5&quot;</td><td>169827456</td><td>&quot;G&quot;</td><td>&quot;T&quot;</td><td>true</td></tr><tr><td>&hellip;</td><td>&hellip;</td><td>&hellip;</td><td>&hellip;</td><td>&hellip;</td></tr><tr><td>&quot;4&quot;</td><td>58931409</td><td>&quot;A&quot;</td><td>&quot;G&quot;</td><td>false</td></tr><tr><td>&quot;1&quot;</td><td>152899039</td><td>&quot;A&quot;</td><td>&quot;G&quot;</td><td>true</td></tr><tr><td>&quot;8&quot;</td><td>39490136</td><td>&quot;G&quot;</td><td>&quot;A&quot;</td><td>true</td></tr><tr><td>&quot;19&quot;</td><td>47952142</td><td>&quot;C&quot;</td><td>&quot;T&quot;</td><td>true</td></tr><tr><td>&quot;9&quot;</td><td>101931801</td><td>&quot;G&quot;</td><td>&quot;C&quot;</td><td>true</td></tr></tbody></table></div>"
      ],
      "text/plain": [
       "shape: (28_022_592, 5)\n",
       "┌───────┬───────────┬─────┬─────┬────────────┐\n",
       "│ chrom ┆ pos       ┆ ref ┆ alt ┆ cadd_label │\n",
       "│ ---   ┆ ---       ┆ --- ┆ --- ┆ ---        │\n",
       "│ str   ┆ i64       ┆ str ┆ str ┆ bool       │\n",
       "╞═══════╪═══════════╪═════╪═════╪════════════╡\n",
       "│ 6     ┆ 16167852  ┆ A   ┆ G   ┆ true       │\n",
       "│ 11    ┆ 103780646 ┆ C   ┆ T   ┆ true       │\n",
       "│ 9     ┆ 137658303 ┆ T   ┆ A   ┆ false      │\n",
       "│ 9     ┆ 6530340   ┆ T   ┆ C   ┆ false      │\n",
       "│ 5     ┆ 169827456 ┆ G   ┆ T   ┆ true       │\n",
       "│ …     ┆ …         ┆ …   ┆ …   ┆ …          │\n",
       "│ 4     ┆ 58931409  ┆ A   ┆ G   ┆ false      │\n",
       "│ 1     ┆ 152899039 ┆ A   ┆ G   ┆ true       │\n",
       "│ 8     ┆ 39490136  ┆ G   ┆ A   ┆ true       │\n",
       "│ 19    ┆ 47952142  ┆ C   ┆ T   ┆ true       │\n",
       "│ 9     ┆ 101931801 ┆ G   ┆ C   ┆ true       │\n",
       "└───────┴───────────┴─────┴─────┴────────────┘"
      ]
     },
     "execution_count": 24,
     "metadata": {},
     "output_type": "execute_result"
    }
   ],
   "source": [
    "cadd.unique()"
   ]
  },
  {
   "cell_type": "code",
   "execution_count": null,
   "metadata": {},
   "outputs": [
    {
     "data": {
      "text/html": [
       "<div><style>\n",
       ".dataframe > thead > tr,\n",
       ".dataframe > tbody > tr {\n",
       "  text-align: right;\n",
       "  white-space: pre-wrap;\n",
       "}\n",
       "</style>\n",
       "<small>shape: (27_943_468, 5)</small><table border=\"1\" class=\"dataframe\"><thead><tr><th>chrom</th><th>pos</th><th>ref</th><th>alt</th><th>cadd_label</th></tr><tr><td>str</td><td>i64</td><td>str</td><td>str</td><td>bool</td></tr></thead><tbody><tr><td>&quot;15&quot;</td><td>60784012</td><td>&quot;G&quot;</td><td>&quot;A&quot;</td><td>false</td></tr><tr><td>&quot;1&quot;</td><td>21934711</td><td>&quot;T&quot;</td><td>&quot;A&quot;</td><td>true</td></tr><tr><td>&quot;3&quot;</td><td>143735149</td><td>&quot;A&quot;</td><td>&quot;G&quot;</td><td>true</td></tr><tr><td>&quot;3&quot;</td><td>18577145</td><td>&quot;C&quot;</td><td>&quot;T&quot;</td><td>true</td></tr><tr><td>&quot;1&quot;</td><td>36538814</td><td>&quot;T&quot;</td><td>&quot;G&quot;</td><td>true</td></tr><tr><td>&hellip;</td><td>&hellip;</td><td>&hellip;</td><td>&hellip;</td><td>&hellip;</td></tr><tr><td>&quot;12&quot;</td><td>102385225</td><td>&quot;G&quot;</td><td>&quot;A&quot;</td><td>false</td></tr><tr><td>&quot;6&quot;</td><td>122855134</td><td>&quot;C&quot;</td><td>&quot;T&quot;</td><td>true</td></tr><tr><td>&quot;21&quot;</td><td>31522863</td><td>&quot;T&quot;</td><td>&quot;C&quot;</td><td>false</td></tr><tr><td>&quot;22&quot;</td><td>49378792</td><td>&quot;C&quot;</td><td>&quot;T&quot;</td><td>false</td></tr><tr><td>&quot;3&quot;</td><td>157597386</td><td>&quot;C&quot;</td><td>&quot;T&quot;</td><td>false</td></tr></tbody></table></div>"
      ],
      "text/plain": [
       "shape: (27_943_468, 5)\n",
       "┌───────┬───────────┬─────┬─────┬────────────┐\n",
       "│ chrom ┆ pos       ┆ ref ┆ alt ┆ cadd_label │\n",
       "│ ---   ┆ ---       ┆ --- ┆ --- ┆ ---        │\n",
       "│ str   ┆ i64       ┆ str ┆ str ┆ bool       │\n",
       "╞═══════╪═══════════╪═════╪═════╪════════════╡\n",
       "│ 15    ┆ 60784012  ┆ G   ┆ A   ┆ false      │\n",
       "│ 1     ┆ 21934711  ┆ T   ┆ A   ┆ true       │\n",
       "│ 3     ┆ 143735149 ┆ A   ┆ G   ┆ true       │\n",
       "│ 3     ┆ 18577145  ┆ C   ┆ T   ┆ true       │\n",
       "│ 1     ┆ 36538814  ┆ T   ┆ G   ┆ true       │\n",
       "│ …     ┆ …         ┆ …   ┆ …   ┆ …          │\n",
       "│ 12    ┆ 102385225 ┆ G   ┆ A   ┆ false      │\n",
       "│ 6     ┆ 122855134 ┆ C   ┆ T   ┆ true       │\n",
       "│ 21    ┆ 31522863  ┆ T   ┆ C   ┆ false      │\n",
       "│ 22    ┆ 49378792  ┆ C   ┆ T   ┆ false      │\n",
       "│ 3     ┆ 157597386 ┆ C   ┆ T   ┆ false      │\n",
       "└───────┴───────────┴─────┴─────┴────────────┘"
      ]
     },
     "execution_count": 22,
     "metadata": {},
     "output_type": "execute_result"
    }
   ],
   "source": [
    "# CADD even has variants in both positive and negative set, what a mess\n",
    "cadd.unique(COORDINATES)"
   ]
  },
  {
   "cell_type": "code",
   "execution_count": 10,
   "metadata": {},
   "outputs": [
    {
     "data": {
      "text/html": [
       "<div><style>\n",
       ".dataframe > thead > tr,\n",
       ".dataframe > tbody > tr {\n",
       "  text-align: right;\n",
       "  white-space: pre-wrap;\n",
       "}\n",
       "</style>\n",
       "<small>shape: (3_380, 9)</small><table border=\"1\" class=\"dataframe\"><thead><tr><th>chrom</th><th>pos</th><th>ref</th><th>alt</th><th>OMIM</th><th>consequence</th><th>label</th><th>tss_dist</th><th>match_group</th></tr><tr><td>str</td><td>i64</td><td>str</td><td>str</td><td>str</td><td>str</td><td>bool</td><td>i64</td><td>str</td></tr></thead><tbody><tr><td>&quot;1&quot;</td><td>1425822</td><td>&quot;C&quot;</td><td>&quot;G&quot;</td><td>null</td><td>&quot;PLS&quot;</td><td>false</td><td>48</td><td>&quot;PLS_4&quot;</td></tr><tr><td>&quot;1&quot;</td><td>1615869</td><td>&quot;C&quot;</td><td>&quot;T&quot;</td><td>null</td><td>&quot;PLS&quot;</td><td>false</td><td>35</td><td>&quot;PLS_0&quot;</td></tr><tr><td>&quot;1&quot;</td><td>1659060</td><td>&quot;G&quot;</td><td>&quot;A&quot;</td><td>null</td><td>&quot;PLS&quot;</td><td>false</td><td>47</td><td>&quot;PLS_4&quot;</td></tr><tr><td>&quot;1&quot;</td><td>1659114</td><td>&quot;A&quot;</td><td>&quot;G&quot;</td><td>null</td><td>&quot;PLS&quot;</td><td>false</td><td>101</td><td>&quot;PLS_5&quot;</td></tr><tr><td>&quot;1&quot;</td><td>2050958</td><td>&quot;T&quot;</td><td>&quot;C&quot;</td><td>null</td><td>&quot;5_prime_UTR_variant&quot;</td><td>false</td><td>149</td><td>&quot;5_prime_UTR_variant_7&quot;</td></tr><tr><td>&hellip;</td><td>&hellip;</td><td>&hellip;</td><td>&hellip;</td><td>&hellip;</td><td>&hellip;</td><td>&hellip;</td><td>&hellip;</td><td>&hellip;</td></tr><tr><td>&quot;X&quot;</td><td>155613005</td><td>&quot;C&quot;</td><td>&quot;T&quot;</td><td>null</td><td>&quot;PLS&quot;</td><td>false</td><td>52</td><td>&quot;PLS_52&quot;</td></tr><tr><td>&quot;X&quot;</td><td>155719093</td><td>&quot;C&quot;</td><td>&quot;A&quot;</td><td>null</td><td>&quot;5_prime_UTR_variant&quot;</td><td>false</td><td>4</td><td>&quot;5_prime_UTR_variant_101&quot;</td></tr><tr><td>&quot;X&quot;</td><td>155881342</td><td>&quot;A&quot;</td><td>&quot;C&quot;</td><td>null</td><td>&quot;PLS&quot;</td><td>false</td><td>2</td><td>&quot;PLS_57&quot;</td></tr><tr><td>&quot;X&quot;</td><td>155881414</td><td>&quot;C&quot;</td><td>&quot;T&quot;</td><td>null</td><td>&quot;5_prime_UTR_variant&quot;</td><td>false</td><td>35</td><td>&quot;5_prime_UTR_variant_110&quot;</td></tr><tr><td>&quot;X&quot;</td><td>156020793</td><td>&quot;A&quot;</td><td>&quot;G&quot;</td><td>null</td><td>&quot;upstream_gene_variant&quot;</td><td>false</td><td>167</td><td>&quot;upstream_gene_variant_9&quot;</td></tr></tbody></table></div>"
      ],
      "text/plain": [
       "shape: (3_380, 9)\n",
       "┌───────┬───────────┬─────┬─────┬───┬─────────────────────┬───────┬──────────┬─────────────────────┐\n",
       "│ chrom ┆ pos       ┆ ref ┆ alt ┆ … ┆ consequence         ┆ label ┆ tss_dist ┆ match_group         │\n",
       "│ ---   ┆ ---       ┆ --- ┆ --- ┆   ┆ ---                 ┆ ---   ┆ ---      ┆ ---                 │\n",
       "│ str   ┆ i64       ┆ str ┆ str ┆   ┆ str                 ┆ bool  ┆ i64      ┆ str                 │\n",
       "╞═══════╪═══════════╪═════╪═════╪═══╪═════════════════════╪═══════╪══════════╪═════════════════════╡\n",
       "│ 1     ┆ 1425822   ┆ C   ┆ G   ┆ … ┆ PLS                 ┆ false ┆ 48       ┆ PLS_4               │\n",
       "│ 1     ┆ 1615869   ┆ C   ┆ T   ┆ … ┆ PLS                 ┆ false ┆ 35       ┆ PLS_0               │\n",
       "│ 1     ┆ 1659060   ┆ G   ┆ A   ┆ … ┆ PLS                 ┆ false ┆ 47       ┆ PLS_4               │\n",
       "│ 1     ┆ 1659114   ┆ A   ┆ G   ┆ … ┆ PLS                 ┆ false ┆ 101      ┆ PLS_5               │\n",
       "│ 1     ┆ 2050958   ┆ T   ┆ C   ┆ … ┆ 5_prime_UTR_variant ┆ false ┆ 149      ┆ 5_prime_UTR_variant │\n",
       "│       ┆           ┆     ┆     ┆   ┆                     ┆       ┆          ┆ _7                  │\n",
       "│ …     ┆ …         ┆ …   ┆ …   ┆ … ┆ …                   ┆ …     ┆ …        ┆ …                   │\n",
       "│ X     ┆ 155613005 ┆ C   ┆ T   ┆ … ┆ PLS                 ┆ false ┆ 52       ┆ PLS_52              │\n",
       "│ X     ┆ 155719093 ┆ C   ┆ A   ┆ … ┆ 5_prime_UTR_variant ┆ false ┆ 4        ┆ 5_prime_UTR_variant │\n",
       "│       ┆           ┆     ┆     ┆   ┆                     ┆       ┆          ┆ _101                │\n",
       "│ X     ┆ 155881342 ┆ A   ┆ C   ┆ … ┆ PLS                 ┆ false ┆ 2        ┆ PLS_57              │\n",
       "│ X     ┆ 155881414 ┆ C   ┆ T   ┆ … ┆ 5_prime_UTR_variant ┆ false ┆ 35       ┆ 5_prime_UTR_variant │\n",
       "│       ┆           ┆     ┆     ┆   ┆                     ┆       ┆          ┆ _110                │\n",
       "│ X     ┆ 156020793 ┆ A   ┆ G   ┆ … ┆ upstream_gene_varia ┆ false ┆ 167      ┆ upstream_gene_varia │\n",
       "│       ┆           ┆     ┆     ┆   ┆ nt                  ┆       ┆          ┆ nt_9                │\n",
       "└───────┴───────────┴─────┴─────┴───┴─────────────────────┴───────┴──────────┴─────────────────────┘"
      ]
     },
     "execution_count": 10,
     "metadata": {},
     "output_type": "execute_result"
    }
   ],
   "source": [
    "mendelian = pl.read_parquet(\"../../results/dataset/mendelian_traits_matched_9/test.parquet\")\n",
    "mendelian"
   ]
  },
  {
   "cell_type": "code",
   "execution_count": 12,
   "metadata": {},
   "outputs": [
    {
     "data": {
      "text/html": [
       "<div><style>\n",
       ".dataframe > thead > tr,\n",
       ".dataframe > tbody > tr {\n",
       "  text-align: right;\n",
       "  white-space: pre-wrap;\n",
       "}\n",
       "</style>\n",
       "<small>shape: (37, 10)</small><table border=\"1\" class=\"dataframe\"><thead><tr><th>chrom</th><th>pos</th><th>ref</th><th>alt</th><th>OMIM</th><th>consequence</th><th>label</th><th>tss_dist</th><th>match_group</th><th>cadd_label</th></tr><tr><td>str</td><td>i64</td><td>str</td><td>str</td><td>str</td><td>str</td><td>bool</td><td>i64</td><td>str</td><td>bool</td></tr></thead><tbody><tr><td>&quot;1&quot;</td><td>5886890</td><td>&quot;T&quot;</td><td>&quot;C&quot;</td><td>null</td><td>&quot;3_prime_UTR_variant&quot;</td><td>false</td><td>104036</td><td>&quot;3_prime_UTR_variant_3&quot;</td><td>true</td></tr><tr><td>&quot;1&quot;</td><td>182671948</td><td>&quot;G&quot;</td><td>&quot;A&quot;</td><td>null</td><td>&quot;PLS&quot;</td><td>false</td><td>18</td><td>&quot;PLS_3&quot;</td><td>true</td></tr><tr><td>&quot;10&quot;</td><td>112375255</td><td>&quot;C&quot;</td><td>&quot;T&quot;</td><td>null</td><td>&quot;5_prime_UTR_variant&quot;</td><td>false</td><td>19</td><td>&quot;5_prime_UTR_variant_16&quot;</td><td>true</td></tr><tr><td>&quot;10&quot;</td><td>132331810</td><td>&quot;A&quot;</td><td>&quot;G&quot;</td><td>null</td><td>&quot;5_prime_UTR_variant&quot;</td><td>false</td><td>20</td><td>&quot;5_prime_UTR_variant_16&quot;</td><td>true</td></tr><tr><td>&quot;11&quot;</td><td>2390138</td><td>&quot;G&quot;</td><td>&quot;A&quot;</td><td>null</td><td>&quot;5_prime_UTR_variant&quot;</td><td>false</td><td>42</td><td>&quot;5_prime_UTR_variant_33&quot;</td><td>true</td></tr><tr><td>&hellip;</td><td>&hellip;</td><td>&hellip;</td><td>&hellip;</td><td>&hellip;</td><td>&hellip;</td><td>&hellip;</td><td>&hellip;</td><td>&hellip;</td><td>&hellip;</td></tr><tr><td>&quot;11&quot;</td><td>56289547</td><td>&quot;A&quot;</td><td>&quot;G&quot;</td><td>null</td><td>&quot;3_prime_UTR_variant&quot;</td><td>false</td><td>1542</td><td>&quot;3_prime_UTR_variant_9&quot;</td><td>false</td></tr><tr><td>&quot;13&quot;</td><td>43879803</td><td>&quot;C&quot;</td><td>&quot;T&quot;</td><td>null</td><td>&quot;PLS&quot;</td><td>false</td><td>62</td><td>&quot;PLS_17&quot;</td><td>false</td></tr><tr><td>&quot;19&quot;</td><td>6373528</td><td>&quot;A&quot;</td><td>&quot;G&quot;</td><td>null</td><td>&quot;5_prime_UTR_variant&quot;</td><td>false</td><td>56</td><td>&quot;5_prime_UTR_variant_75&quot;</td><td>false</td></tr><tr><td>&quot;19&quot;</td><td>54173307</td><td>&quot;C&quot;</td><td>&quot;G&quot;</td><td>null</td><td>&quot;PLS&quot;</td><td>false</td><td>56</td><td>&quot;PLS_30&quot;</td><td>false</td></tr><tr><td>&quot;20&quot;</td><td>47785454</td><td>&quot;C&quot;</td><td>&quot;T&quot;</td><td>null</td><td>&quot;5_prime_UTR_variant&quot;</td><td>false</td><td>26</td><td>&quot;5_prime_UTR_variant_83&quot;</td><td>false</td></tr></tbody></table></div>"
      ],
      "text/plain": [
       "shape: (37, 10)\n",
       "┌───────┬───────────┬─────┬─────┬───┬───────┬──────────┬────────────────────────┬────────────┐\n",
       "│ chrom ┆ pos       ┆ ref ┆ alt ┆ … ┆ label ┆ tss_dist ┆ match_group            ┆ cadd_label │\n",
       "│ ---   ┆ ---       ┆ --- ┆ --- ┆   ┆ ---   ┆ ---      ┆ ---                    ┆ ---        │\n",
       "│ str   ┆ i64       ┆ str ┆ str ┆   ┆ bool  ┆ i64      ┆ str                    ┆ bool       │\n",
       "╞═══════╪═══════════╪═════╪═════╪═══╪═══════╪══════════╪════════════════════════╪════════════╡\n",
       "│ 1     ┆ 5886890   ┆ T   ┆ C   ┆ … ┆ false ┆ 104036   ┆ 3_prime_UTR_variant_3  ┆ true       │\n",
       "│ 1     ┆ 182671948 ┆ G   ┆ A   ┆ … ┆ false ┆ 18       ┆ PLS_3                  ┆ true       │\n",
       "│ 10    ┆ 112375255 ┆ C   ┆ T   ┆ … ┆ false ┆ 19       ┆ 5_prime_UTR_variant_16 ┆ true       │\n",
       "│ 10    ┆ 132331810 ┆ A   ┆ G   ┆ … ┆ false ┆ 20       ┆ 5_prime_UTR_variant_16 ┆ true       │\n",
       "│ 11    ┆ 2390138   ┆ G   ┆ A   ┆ … ┆ false ┆ 42       ┆ 5_prime_UTR_variant_33 ┆ true       │\n",
       "│ …     ┆ …         ┆ …   ┆ …   ┆ … ┆ …     ┆ …        ┆ …                      ┆ …          │\n",
       "│ 11    ┆ 56289547  ┆ A   ┆ G   ┆ … ┆ false ┆ 1542     ┆ 3_prime_UTR_variant_9  ┆ false      │\n",
       "│ 13    ┆ 43879803  ┆ C   ┆ T   ┆ … ┆ false ┆ 62       ┆ PLS_17                 ┆ false      │\n",
       "│ 19    ┆ 6373528   ┆ A   ┆ G   ┆ … ┆ false ┆ 56       ┆ 5_prime_UTR_variant_75 ┆ false      │\n",
       "│ 19    ┆ 54173307  ┆ C   ┆ G   ┆ … ┆ false ┆ 56       ┆ PLS_30                 ┆ false      │\n",
       "│ 20    ┆ 47785454  ┆ C   ┆ T   ┆ … ┆ false ┆ 26       ┆ 5_prime_UTR_variant_83 ┆ false      │\n",
       "└───────┴───────────┴─────┴─────┴───┴───────┴──────────┴────────────────────────┴────────────┘"
      ]
     },
     "execution_count": 12,
     "metadata": {},
     "output_type": "execute_result"
    }
   ],
   "source": [
    "overlap_mendelian = mendelian.join(cadd, on=COORDINATES, how=\"inner\")\n",
    "overlap_mendelian"
   ]
  },
  {
   "cell_type": "code",
   "execution_count": 13,
   "metadata": {},
   "outputs": [
    {
     "data": {
      "text/html": [
       "<div><style>\n",
       ".dataframe > thead > tr,\n",
       ".dataframe > tbody > tr {\n",
       "  text-align: right;\n",
       "  white-space: pre-wrap;\n",
       "}\n",
       "</style>\n",
       "<small>shape: (1, 2)</small><table border=\"1\" class=\"dataframe\"><thead><tr><th>label</th><th>count</th></tr><tr><td>bool</td><td>u32</td></tr></thead><tbody><tr><td>false</td><td>37</td></tr></tbody></table></div>"
      ],
      "text/plain": [
       "shape: (1, 2)\n",
       "┌───────┬───────┐\n",
       "│ label ┆ count │\n",
       "│ ---   ┆ ---   │\n",
       "│ bool  ┆ u32   │\n",
       "╞═══════╪═══════╡\n",
       "│ false ┆ 37    │\n",
       "└───────┴───────┘"
      ]
     },
     "execution_count": 13,
     "metadata": {},
     "output_type": "execute_result"
    }
   ],
   "source": [
    "overlap_mendelian[\"label\"].value_counts()"
   ]
  },
  {
   "cell_type": "code",
   "execution_count": 18,
   "metadata": {},
   "outputs": [
    {
     "data": {
      "text/plain": [
       "33"
      ]
     },
     "execution_count": 18,
     "metadata": {},
     "output_type": "execute_result"
    }
   ],
   "source": [
    "overlap_mendelian[\"match_group\"].n_unique()"
   ]
  },
  {
   "cell_type": "code",
   "execution_count": null,
   "metadata": {},
   "outputs": [
    {
     "name": "stderr",
     "output_type": "stream",
     "text": [
      "/tmp/ipykernel_3910967/3574528169.py:1: DeprecationWarning: `GroupBy.count` is deprecated. It has been renamed to `len`.\n",
      "  overlap_mendelian.group_by([\"label\", \"cadd_label\"]).count()\n"
     ]
    },
    {
     "data": {
      "text/html": [
       "<div><style>\n",
       ".dataframe > thead > tr,\n",
       ".dataframe > tbody > tr {\n",
       "  text-align: right;\n",
       "  white-space: pre-wrap;\n",
       "}\n",
       "</style>\n",
       "<small>shape: (2, 3)</small><table border=\"1\" class=\"dataframe\"><thead><tr><th>label</th><th>cadd_label</th><th>count</th></tr><tr><td>bool</td><td>bool</td><td>u32</td></tr></thead><tbody><tr><td>false</td><td>false</td><td>19</td></tr><tr><td>false</td><td>true</td><td>18</td></tr></tbody></table></div>"
      ],
      "text/plain": [
       "shape: (2, 3)\n",
       "┌───────┬────────────┬───────┐\n",
       "│ label ┆ cadd_label ┆ count │\n",
       "│ ---   ┆ ---        ┆ ---   │\n",
       "│ bool  ┆ bool       ┆ u32   │\n",
       "╞═══════╪════════════╪═══════╡\n",
       "│ false ┆ false      ┆ 19    │\n",
       "│ false ┆ true       ┆ 18    │\n",
       "└───────┴────────────┴───────┘"
      ]
     },
     "execution_count": 21,
     "metadata": {},
     "output_type": "execute_result"
    }
   ],
   "source": [
    "# would \n",
    "overlap_mendelian.group_by([\"label\", \"cadd_label\"]).count()"
   ]
  },
  {
   "cell_type": "code",
   "execution_count": 14,
   "metadata": {},
   "outputs": [
    {
     "data": {
      "text/html": [
       "<div><style>\n",
       ".dataframe > thead > tr,\n",
       ".dataframe > tbody > tr {\n",
       "  text-align: right;\n",
       "  white-space: pre-wrap;\n",
       "}\n",
       "</style>\n",
       "<small>shape: (11_400, 12)</small><table border=\"1\" class=\"dataframe\"><thead><tr><th>chrom</th><th>pos</th><th>ref</th><th>alt</th><th>pip</th><th>trait</th><th>label</th><th>maf</th><th>ld_score</th><th>consequence</th><th>tss_dist</th><th>match_group</th></tr><tr><td>str</td><td>i64</td><td>str</td><td>str</td><td>f64</td><td>str</td><td>bool</td><td>f64</td><td>f64</td><td>str</td><td>i64</td><td>str</td></tr></thead><tbody><tr><td>&quot;1&quot;</td><td>867476</td><td>&quot;C&quot;</td><td>&quot;T&quot;</td><td>0.00156</td><td>&quot;&quot;</td><td>false</td><td>0.079465</td><td>44.053</td><td>&quot;non_coding_transcript_exon_var…</td><td>56446</td><td>&quot;non_coding_transcript_exon_var…</td></tr><tr><td>&quot;1&quot;</td><td>868052</td><td>&quot;T&quot;</td><td>&quot;C&quot;</td><td>0.001791</td><td>&quot;&quot;</td><td>false</td><td>0.077747</td><td>44.057</td><td>&quot;non_coding_transcript_exon_var…</td><td>55870</td><td>&quot;non_coding_transcript_exon_var…</td></tr><tr><td>&quot;1&quot;</td><td>868635</td><td>&quot;A&quot;</td><td>&quot;G&quot;</td><td>0.004349</td><td>&quot;&quot;</td><td>false</td><td>0.075255</td><td>43.639</td><td>&quot;non_coding_transcript_exon_var…</td><td>55287</td><td>&quot;non_coding_transcript_exon_var…</td></tr><tr><td>&quot;1&quot;</td><td>870176</td><td>&quot;T&quot;</td><td>&quot;A&quot;</td><td>0.0</td><td>&quot;&quot;</td><td>false</td><td>0.084371</td><td>37.271</td><td>&quot;non_coding_transcript_exon_var…</td><td>53746</td><td>&quot;non_coding_transcript_exon_var…</td></tr><tr><td>&quot;1&quot;</td><td>1052930</td><td>&quot;A&quot;</td><td>&quot;G&quot;</td><td>0.001467</td><td>&quot;&quot;</td><td>false</td><td>0.058385</td><td>46.907</td><td>&quot;non_coding_transcript_exon_var…</td><td>18823</td><td>&quot;non_coding_transcript_exon_var…</td></tr><tr><td>&hellip;</td><td>&hellip;</td><td>&hellip;</td><td>&hellip;</td><td>&hellip;</td><td>&hellip;</td><td>&hellip;</td><td>&hellip;</td><td>&hellip;</td><td>&hellip;</td><td>&hellip;</td><td>&hellip;</td></tr><tr><td>&quot;22&quot;</td><td>50368376</td><td>&quot;T&quot;</td><td>&quot;C&quot;</td><td>0.0</td><td>&quot;&quot;</td><td>false</td><td>0.19181</td><td>86.507</td><td>&quot;dELS&quot;</td><td>3695</td><td>&quot;dELS_204&quot;</td></tr><tr><td>&quot;22&quot;</td><td>50571623</td><td>&quot;C&quot;</td><td>&quot;T&quot;</td><td>0.0</td><td>&quot;&quot;</td><td>false</td><td>0.061159</td><td>23.9</td><td>&quot;dELS&quot;</td><td>6291</td><td>&quot;dELS_202&quot;</td></tr><tr><td>&quot;22&quot;</td><td>50671289</td><td>&quot;G&quot;</td><td>&quot;A&quot;</td><td>0.0</td><td>&quot;&quot;</td><td>false</td><td>0.036223</td><td>12.733</td><td>&quot;pELS_flank&quot;</td><td>3125</td><td>&quot;pELS_flank_26&quot;</td></tr><tr><td>&quot;22&quot;</td><td>50713837</td><td>&quot;C&quot;</td><td>&quot;G&quot;</td><td>0.0</td><td>&quot;&quot;</td><td>false</td><td>0.060562</td><td>20.896</td><td>&quot;dELS&quot;</td><td>8340</td><td>&quot;dELS_202&quot;</td></tr><tr><td>&quot;22&quot;</td><td>50783672</td><td>&quot;G&quot;</td><td>&quot;T&quot;</td><td>0.0</td><td>&quot;&quot;</td><td>false</td><td>0.05465</td><td>43.615</td><td>&quot;PLS&quot;</td><td>4</td><td>&quot;PLS_21&quot;</td></tr></tbody></table></div>"
      ],
      "text/plain": [
       "shape: (11_400, 12)\n",
       "┌───────┬──────────┬─────┬─────┬───┬──────────┬────────────────────┬──────────┬────────────────────┐\n",
       "│ chrom ┆ pos      ┆ ref ┆ alt ┆ … ┆ ld_score ┆ consequence        ┆ tss_dist ┆ match_group        │\n",
       "│ ---   ┆ ---      ┆ --- ┆ --- ┆   ┆ ---      ┆ ---                ┆ ---      ┆ ---                │\n",
       "│ str   ┆ i64      ┆ str ┆ str ┆   ┆ f64      ┆ str                ┆ i64      ┆ str                │\n",
       "╞═══════╪══════════╪═════╪═════╪═══╪══════════╪════════════════════╪══════════╪════════════════════╡\n",
       "│ 1     ┆ 867476   ┆ C   ┆ T   ┆ … ┆ 44.053   ┆ non_coding_transcr ┆ 56446    ┆ non_coding_transcr │\n",
       "│       ┆          ┆     ┆     ┆   ┆          ┆ ipt_exon_var…      ┆          ┆ ipt_exon_var…      │\n",
       "│ 1     ┆ 868052   ┆ T   ┆ C   ┆ … ┆ 44.057   ┆ non_coding_transcr ┆ 55870    ┆ non_coding_transcr │\n",
       "│       ┆          ┆     ┆     ┆   ┆          ┆ ipt_exon_var…      ┆          ┆ ipt_exon_var…      │\n",
       "│ 1     ┆ 868635   ┆ A   ┆ G   ┆ … ┆ 43.639   ┆ non_coding_transcr ┆ 55287    ┆ non_coding_transcr │\n",
       "│       ┆          ┆     ┆     ┆   ┆          ┆ ipt_exon_var…      ┆          ┆ ipt_exon_var…      │\n",
       "│ 1     ┆ 870176   ┆ T   ┆ A   ┆ … ┆ 37.271   ┆ non_coding_transcr ┆ 53746    ┆ non_coding_transcr │\n",
       "│       ┆          ┆     ┆     ┆   ┆          ┆ ipt_exon_var…      ┆          ┆ ipt_exon_var…      │\n",
       "│ 1     ┆ 1052930  ┆ A   ┆ G   ┆ … ┆ 46.907   ┆ non_coding_transcr ┆ 18823    ┆ non_coding_transcr │\n",
       "│       ┆          ┆     ┆     ┆   ┆          ┆ ipt_exon_var…      ┆          ┆ ipt_exon_var…      │\n",
       "│ …     ┆ …        ┆ …   ┆ …   ┆ … ┆ …        ┆ …                  ┆ …        ┆ …                  │\n",
       "│ 22    ┆ 50368376 ┆ T   ┆ C   ┆ … ┆ 86.507   ┆ dELS               ┆ 3695     ┆ dELS_204           │\n",
       "│ 22    ┆ 50571623 ┆ C   ┆ T   ┆ … ┆ 23.9     ┆ dELS               ┆ 6291     ┆ dELS_202           │\n",
       "│ 22    ┆ 50671289 ┆ G   ┆ A   ┆ … ┆ 12.733   ┆ pELS_flank         ┆ 3125     ┆ pELS_flank_26      │\n",
       "│ 22    ┆ 50713837 ┆ C   ┆ G   ┆ … ┆ 20.896   ┆ dELS               ┆ 8340     ┆ dELS_202           │\n",
       "│ 22    ┆ 50783672 ┆ G   ┆ T   ┆ … ┆ 43.615   ┆ PLS                ┆ 4        ┆ PLS_21             │\n",
       "└───────┴──────────┴─────┴─────┴───┴──────────┴────────────────────┴──────────┴────────────────────┘"
      ]
     },
     "execution_count": 14,
     "metadata": {},
     "output_type": "execute_result"
    }
   ],
   "source": [
    "complex = pl.read_parquet(\"../../results/dataset/complex_traits_matched_9/test.parquet\")\n",
    "complex"
   ]
  },
  {
   "cell_type": "code",
   "execution_count": 15,
   "metadata": {},
   "outputs": [
    {
     "data": {
      "text/html": [
       "<div><style>\n",
       ".dataframe > thead > tr,\n",
       ".dataframe > tbody > tr {\n",
       "  text-align: right;\n",
       "  white-space: pre-wrap;\n",
       "}\n",
       "</style>\n",
       "<small>shape: (143, 13)</small><table border=\"1\" class=\"dataframe\"><thead><tr><th>chrom</th><th>pos</th><th>ref</th><th>alt</th><th>pip</th><th>trait</th><th>label</th><th>maf</th><th>ld_score</th><th>consequence</th><th>tss_dist</th><th>match_group</th><th>cadd_label</th></tr><tr><td>str</td><td>i64</td><td>str</td><td>str</td><td>f64</td><td>str</td><td>bool</td><td>f64</td><td>f64</td><td>str</td><td>i64</td><td>str</td><td>bool</td></tr></thead><tbody><tr><td>&quot;1&quot;</td><td>6100638</td><td>&quot;A&quot;</td><td>&quot;G&quot;</td><td>0.0</td><td>&quot;&quot;</td><td>false</td><td>0.21997</td><td>48.887</td><td>&quot;3_prime_UTR_variant&quot;</td><td>6133</td><td>&quot;3_prime_UTR_variant_1&quot;</td><td>true</td></tr><tr><td>&quot;1&quot;</td><td>8945251</td><td>&quot;C&quot;</td><td>&quot;T&quot;</td><td>0.000528</td><td>&quot;&quot;</td><td>false</td><td>0.01779</td><td>14.655</td><td>&quot;pELS&quot;</td><td>615</td><td>&quot;pELS_1&quot;</td><td>true</td></tr><tr><td>&quot;1&quot;</td><td>17265255</td><td>&quot;C&quot;</td><td>&quot;T&quot;</td><td>0.0</td><td>&quot;&quot;</td><td>false</td><td>0.090727</td><td>65.903</td><td>&quot;dELS&quot;</td><td>16156</td><td>&quot;dELS_14&quot;</td><td>true</td></tr><tr><td>&quot;1&quot;</td><td>23643640</td><td>&quot;C&quot;</td><td>&quot;T&quot;</td><td>0.0</td><td>&quot;&quot;</td><td>false</td><td>0.28617</td><td>40.919</td><td>&quot;dELS_flank&quot;</td><td>48101</td><td>&quot;dELS_flank_0&quot;</td><td>true</td></tr><tr><td>&quot;1&quot;</td><td>50067414</td><td>&quot;T&quot;</td><td>&quot;C&quot;</td><td>0.0</td><td>&quot;&quot;</td><td>false</td><td>0.049883</td><td>45.136</td><td>&quot;non_coding_transcript_exon_var…</td><td>19399</td><td>&quot;non_coding_transcript_exon_var…</td><td>true</td></tr><tr><td>&hellip;</td><td>&hellip;</td><td>&hellip;</td><td>&hellip;</td><td>&hellip;</td><td>&hellip;</td><td>&hellip;</td><td>&hellip;</td><td>&hellip;</td><td>&hellip;</td><td>&hellip;</td><td>&hellip;</td><td>&hellip;</td></tr><tr><td>&quot;20&quot;</td><td>951868</td><td>&quot;C&quot;</td><td>&quot;T&quot;</td><td>0.0</td><td>&quot;&quot;</td><td>false</td><td>0.41336</td><td>19.908</td><td>&quot;dELS&quot;</td><td>35533</td><td>&quot;dELS_182&quot;</td><td>false</td></tr><tr><td>&quot;20&quot;</td><td>1893313</td><td>&quot;G&quot;</td><td>&quot;A&quot;</td><td>0.0</td><td>&quot;&quot;</td><td>false</td><td>0.025223</td><td>15.178</td><td>&quot;pELS&quot;</td><td>853</td><td>&quot;pELS_61&quot;</td><td>false</td></tr><tr><td>&quot;20&quot;</td><td>4225891</td><td>&quot;C&quot;</td><td>&quot;T&quot;</td><td>0.0</td><td>&quot;&quot;</td><td>false</td><td>0.0016623</td><td>8.7078</td><td>&quot;dELS&quot;</td><td>23395</td><td>&quot;dELS_194&quot;</td><td>false</td></tr><tr><td>&quot;20&quot;</td><td>55481916</td><td>&quot;C&quot;</td><td>&quot;T&quot;</td><td>0.001097</td><td>&quot;&quot;</td><td>false</td><td>0.02195</td><td>33.902</td><td>&quot;intron_variant&quot;</td><td>523602</td><td>&quot;intron_variant_118&quot;</td><td>false</td></tr><tr><td>&quot;21&quot;</td><td>41714784</td><td>&quot;G&quot;</td><td>&quot;A&quot;</td><td>0.0</td><td>&quot;&quot;</td><td>false</td><td>0.01101</td><td>9.1642</td><td>&quot;pELS&quot;</td><td>52267</td><td>&quot;pELS_64&quot;</td><td>false</td></tr></tbody></table></div>"
      ],
      "text/plain": [
       "shape: (143, 13)\n",
       "┌───────┬──────────┬─────┬─────┬───┬───────────────────┬──────────┬───────────────────┬────────────┐\n",
       "│ chrom ┆ pos      ┆ ref ┆ alt ┆ … ┆ consequence       ┆ tss_dist ┆ match_group       ┆ cadd_label │\n",
       "│ ---   ┆ ---      ┆ --- ┆ --- ┆   ┆ ---               ┆ ---      ┆ ---               ┆ ---        │\n",
       "│ str   ┆ i64      ┆ str ┆ str ┆   ┆ str               ┆ i64      ┆ str               ┆ bool       │\n",
       "╞═══════╪══════════╪═════╪═════╪═══╪═══════════════════╪══════════╪═══════════════════╪════════════╡\n",
       "│ 1     ┆ 6100638  ┆ A   ┆ G   ┆ … ┆ 3_prime_UTR_varia ┆ 6133     ┆ 3_prime_UTR_varia ┆ true       │\n",
       "│       ┆          ┆     ┆     ┆   ┆ nt                ┆          ┆ nt_1              ┆            │\n",
       "│ 1     ┆ 8945251  ┆ C   ┆ T   ┆ … ┆ pELS              ┆ 615      ┆ pELS_1            ┆ true       │\n",
       "│ 1     ┆ 17265255 ┆ C   ┆ T   ┆ … ┆ dELS              ┆ 16156    ┆ dELS_14           ┆ true       │\n",
       "│ 1     ┆ 23643640 ┆ C   ┆ T   ┆ … ┆ dELS_flank        ┆ 48101    ┆ dELS_flank_0      ┆ true       │\n",
       "│ 1     ┆ 50067414 ┆ T   ┆ C   ┆ … ┆ non_coding_transc ┆ 19399    ┆ non_coding_transc ┆ true       │\n",
       "│       ┆          ┆     ┆     ┆   ┆ ript_exon_var…    ┆          ┆ ript_exon_var…    ┆            │\n",
       "│ …     ┆ …        ┆ …   ┆ …   ┆ … ┆ …                 ┆ …        ┆ …                 ┆ …          │\n",
       "│ 20    ┆ 951868   ┆ C   ┆ T   ┆ … ┆ dELS              ┆ 35533    ┆ dELS_182          ┆ false      │\n",
       "│ 20    ┆ 1893313  ┆ G   ┆ A   ┆ … ┆ pELS              ┆ 853      ┆ pELS_61           ┆ false      │\n",
       "│ 20    ┆ 4225891  ┆ C   ┆ T   ┆ … ┆ dELS              ┆ 23395    ┆ dELS_194          ┆ false      │\n",
       "│ 20    ┆ 55481916 ┆ C   ┆ T   ┆ … ┆ intron_variant    ┆ 523602   ┆ intron_variant_11 ┆ false      │\n",
       "│       ┆          ┆     ┆     ┆   ┆                   ┆          ┆ 8                 ┆            │\n",
       "│ 21    ┆ 41714784 ┆ G   ┆ A   ┆ … ┆ pELS              ┆ 52267    ┆ pELS_64           ┆ false      │\n",
       "└───────┴──────────┴─────┴─────┴───┴───────────────────┴──────────┴───────────────────┴────────────┘"
      ]
     },
     "execution_count": 15,
     "metadata": {},
     "output_type": "execute_result"
    }
   ],
   "source": [
    "overlap_complex = complex.join(cadd, on=COORDINATES, how=\"inner\")\n",
    "overlap_complex"
   ]
  },
  {
   "cell_type": "code",
   "execution_count": 16,
   "metadata": {},
   "outputs": [
    {
     "data": {
      "text/html": [
       "<div><style>\n",
       ".dataframe > thead > tr,\n",
       ".dataframe > tbody > tr {\n",
       "  text-align: right;\n",
       "  white-space: pre-wrap;\n",
       "}\n",
       "</style>\n",
       "<small>shape: (2, 2)</small><table border=\"1\" class=\"dataframe\"><thead><tr><th>label</th><th>count</th></tr><tr><td>bool</td><td>u32</td></tr></thead><tbody><tr><td>true</td><td>9</td></tr><tr><td>false</td><td>134</td></tr></tbody></table></div>"
      ],
      "text/plain": [
       "shape: (2, 2)\n",
       "┌───────┬───────┐\n",
       "│ label ┆ count │\n",
       "│ ---   ┆ ---   │\n",
       "│ bool  ┆ u32   │\n",
       "╞═══════╪═══════╡\n",
       "│ true  ┆ 9     │\n",
       "│ false ┆ 134   │\n",
       "└───────┴───────┘"
      ]
     },
     "execution_count": 16,
     "metadata": {},
     "output_type": "execute_result"
    }
   ],
   "source": [
    "overlap_complex[\"label\"].value_counts()"
   ]
  },
  {
   "cell_type": "code",
   "execution_count": 17,
   "metadata": {},
   "outputs": [
    {
     "data": {
      "text/plain": [
       "130"
      ]
     },
     "execution_count": 17,
     "metadata": {},
     "output_type": "execute_result"
    }
   ],
   "source": [
    "overlap_complex[\"match_group\"].n_unique()"
   ]
  },
  {
   "cell_type": "code",
   "execution_count": 20,
   "metadata": {},
   "outputs": [
    {
     "name": "stderr",
     "output_type": "stream",
     "text": [
      "/tmp/ipykernel_3910967/174212295.py:1: DeprecationWarning: `GroupBy.count` is deprecated. It has been renamed to `len`.\n",
      "  overlap_complex.group_by([\"label\", \"cadd_label\"]).count()\n"
     ]
    },
    {
     "data": {
      "text/html": [
       "<div><style>\n",
       ".dataframe > thead > tr,\n",
       ".dataframe > tbody > tr {\n",
       "  text-align: right;\n",
       "  white-space: pre-wrap;\n",
       "}\n",
       "</style>\n",
       "<small>shape: (4, 3)</small><table border=\"1\" class=\"dataframe\"><thead><tr><th>label</th><th>cadd_label</th><th>count</th></tr><tr><td>bool</td><td>bool</td><td>u32</td></tr></thead><tbody><tr><td>true</td><td>false</td><td>1</td></tr><tr><td>true</td><td>true</td><td>8</td></tr><tr><td>false</td><td>false</td><td>55</td></tr><tr><td>false</td><td>true</td><td>79</td></tr></tbody></table></div>"
      ],
      "text/plain": [
       "shape: (4, 3)\n",
       "┌───────┬────────────┬───────┐\n",
       "│ label ┆ cadd_label ┆ count │\n",
       "│ ---   ┆ ---        ┆ ---   │\n",
       "│ bool  ┆ bool       ┆ u32   │\n",
       "╞═══════╪════════════╪═══════╡\n",
       "│ true  ┆ false      ┆ 1     │\n",
       "│ true  ┆ true       ┆ 8     │\n",
       "│ false ┆ false      ┆ 55    │\n",
       "│ false ┆ true       ┆ 79    │\n",
       "└───────┴────────────┴───────┘"
      ]
     },
     "execution_count": 20,
     "metadata": {},
     "output_type": "execute_result"
    }
   ],
   "source": [
    "overlap_complex.group_by([\"label\", \"cadd_label\"]).count()"
   ]
  },
  {
   "cell_type": "code",
   "execution_count": 26,
   "metadata": {},
   "outputs": [],
   "source": [
    "# should get a p-value fisher exact test\n",
    "# 1-sided"
   ]
  },
  {
   "cell_type": "code",
   "execution_count": 30,
   "metadata": {},
   "outputs": [
    {
     "data": {
      "text/plain": [
       "0.0897618381919682"
      ]
     },
     "execution_count": 30,
     "metadata": {},
     "output_type": "execute_result"
    }
   ],
   "source": [
    "from scipy.stats import fisher_exact\n",
    "\n",
    "fisher_exact([[1, 8], [55, 79]], alternative=\"two-sided\").pvalue"
   ]
  },
  {
   "cell_type": "code",
   "execution_count": 31,
   "metadata": {},
   "outputs": [
    {
     "data": {
      "text/plain": [
       "0.07102197746064398"
      ]
     },
     "execution_count": 31,
     "metadata": {},
     "output_type": "execute_result"
    }
   ],
   "source": [
    "fisher_exact([[1, 8], [55, 79]], alternative=\"less\").pvalue"
   ]
  },
  {
   "cell_type": "code",
   "execution_count": 33,
   "metadata": {},
   "outputs": [
    {
     "data": {
      "text/plain": [
       "0.9903760956785749"
      ]
     },
     "execution_count": 33,
     "metadata": {},
     "output_type": "execute_result"
    }
   ],
   "source": [
    "fisher_exact([[1, 8], [55, 79]], alternative=\"greater\").pvalue"
   ]
  },
  {
   "cell_type": "code",
   "execution_count": null,
   "metadata": {},
   "outputs": [],
   "source": []
  }
 ],
 "metadata": {
  "kernelspec": {
   "display_name": "gpn",
   "language": "python",
   "name": "gpn"
  },
  "language_info": {
   "codemirror_mode": {
    "name": "ipython",
    "version": 3
   },
   "file_extension": ".py",
   "mimetype": "text/x-python",
   "name": "python",
   "nbconvert_exporter": "python",
   "pygments_lexer": "ipython3",
   "version": "3.11.3"
  }
 },
 "nbformat": 4,
 "nbformat_minor": 2
}
