{
 "cells": [
  {
   "cell_type": "code",
   "execution_count": 1,
   "id": "c3d39fe4-48bb-4c83-afe7-3e03edf37139",
   "metadata": {},
   "outputs": [],
   "source": [
    "import polars as pl"
   ]
  },
  {
   "cell_type": "code",
   "execution_count": 2,
   "id": "a47299cb-af82-407b-b44a-ddebc1c2a278",
   "metadata": {},
   "outputs": [],
   "source": [
    "#!wget https://ftp.ncbi.nlm.nih.gov/pub/clinvar/tab_delimited/submission_summary.txt.gz"
   ]
  },
  {
   "cell_type": "code",
   "execution_count": 3,
   "id": "b09a40a5-46fa-412c-a320-b922d509391d",
   "metadata": {},
   "outputs": [
    {
     "name": "stdout",
     "output_type": "stream",
     "text": [
      "##Overview of interpretation, phenotypes, observations, and methods reported in each current submission \n",
      "##Explanation of the columns in this report\n",
      "#VariationID:                   the identifier assigned by ClinVar and used to build the URL, namely https://ncbi.nlm.nih.gov/clinvar/VariationID\n",
      "#ClinicalSignificance:          the germline classification on this submitted record\n",
      "#DateLastEvaluated:             the last date the classification on this record was evaluated by the submitter\n",
      "#Description:                   an optional free text description comment describing the rationale for the classification\n",
      "#SubmittedPhenotypeInfo:        the name(s) or identifier(s) submitted as the condition for the classification \n",
      "#ReportedPhenotypeInfo:         the MedGen identifier/name combinations that the submitted condition for the classification maps to. 'na' means there is no public identifer in MedGen for the condition.\n",
      "#ReviewStatus:                  the level of review for this submitted record; see http//www.ncbi.nlm.nih.gov/clinvar/docs/variation_report/#review_status\n",
      "#CollectionMethod:              the method by which the submitter collected the data for the classification; see https://www.ncbi.nlm.nih.gov/clinvar/docs/spreadsheet/#collection\n",
      "#OriginCounts:                  the allele origin reported by the submitter and the number of observations for each origin. ‘na’ means that the number of observations was not provided by the submitter.\n",
      "#Submitter:                     the submitter of this record\n",
      "#SCV:                            the accession and current version assigned by ClinVar to this submitted record\n",
      "#SubmittedGeneSymbol:           the gene symbol reported in this submitted record\n",
      "#ExplanationOfInterpretation:   more details if the germline classification (ClinicalSignificance) is 'other' or 'drug response'\n",
      "#SomaticClinicalImpact:         the somatic classification of clinical impact on this submitted record\n",
      "#Oncogenicity:                  the somatic classification of oncogenicity on this submitted record\n",
      "#ContributesToAggregateClassification: indicate if the SCV contributes to the aggregate classification\n",
      "\n",
      "gzip: stdout: Broken pipe\n"
     ]
    },
    {
     "name": "stderr",
     "output_type": "stream",
     "text": [
      "/scratch/users/gbenegas/software/mambaforge/envs/gpn/lib/python3.11/pty.py:89: RuntimeWarning: Using fork() can cause Polars to deadlock in the child process.\n",
      "In addition, using fork() with Python in general is a recipe for mysterious\n",
      "deadlocks and crashes.\n",
      "\n",
      "The most likely reason you are seeing this error is because you are using the\n",
      "multiprocessing module on Linux, which uses fork() by default. This will be\n",
      "fixed in Python 3.14. Until then, you want to use the \"spawn\" context instead.\n",
      "\n",
      "See https://docs.pola.rs/user-guide/misc/multiprocessing/ for details.\n",
      "\n",
      "If you really know what your doing, you can silence this warning with the warning module\n",
      "or by setting POLARS_ALLOW_FORKING_THREAD=1.\n",
      "\n",
      "  pid, fd = os.forkpty()\n"
     ]
    }
   ],
   "source": [
    "!zcat submission_summary.txt.gz | head -n 18"
   ]
  },
  {
   "cell_type": "code",
   "execution_count": 4,
   "id": "53b97529-4ab4-485b-828e-ab57e02df839",
   "metadata": {},
   "outputs": [
    {
     "data": {
      "text/html": [
       "<div><style>\n",
       ".dataframe > thead > tr,\n",
       ".dataframe > tbody > tr {\n",
       "  text-align: right;\n",
       "  white-space: pre-wrap;\n",
       "}\n",
       "</style>\n",
       "<small>shape: (5_399_159, 5)</small><table border=\"1\" class=\"dataframe\"><thead><tr><th>#VariationID</th><th>ClinicalSignificance</th><th>ReportedPhenotypeInfo</th><th>CollectionMethod</th><th>Submitter</th></tr><tr><td>i64</td><td>str</td><td>str</td><td>str</td><td>str</td></tr></thead><tbody><tr><td>2</td><td>&quot;Pathogenic&quot;</td><td>&quot;C3150901:Hereditary spastic pa…</td><td>&quot;clinical testing&quot;</td><td>&quot;Paris Brain Institute, Inserm …</td></tr><tr><td>2</td><td>&quot;Pathogenic&quot;</td><td>&quot;C3661900:not provided&quot;</td><td>&quot;clinical testing&quot;</td><td>&quot;Athena Diagnostics&quot;</td></tr><tr><td>2</td><td>&quot;Pathogenic&quot;</td><td>&quot;C3150901:Hereditary spastic pa…</td><td>&quot;literature only&quot;</td><td>&quot;OMIM&quot;</td></tr><tr><td>2</td><td>&quot;Likely pathogenic&quot;</td><td>&quot;na:Macular dystrophy with or w…</td><td>&quot;research&quot;</td><td>&quot;Ophthalmic Genetics Group, Ins…</td></tr><tr><td>3</td><td>&quot;Pathogenic&quot;</td><td>&quot;C3150901:Hereditary spastic pa…</td><td>&quot;literature only&quot;</td><td>&quot;OMIM&quot;</td></tr><tr><td>&hellip;</td><td>&hellip;</td><td>&hellip;</td><td>&hellip;</td><td>&hellip;</td></tr><tr><td>3900693</td><td>&quot;Pathogenic&quot;</td><td>&quot;na:GUILLOUET-GORDON SYNDROME&quot;</td><td>&quot;literature only&quot;</td><td>&quot;OMIM&quot;</td></tr><tr><td>3900694</td><td>&quot;Pathogenic&quot;</td><td>&quot;na:GUILLOUET-GORDON SYNDROME&quot;</td><td>&quot;literature only&quot;</td><td>&quot;OMIM&quot;</td></tr><tr><td>3900695</td><td>&quot;Pathogenic&quot;</td><td>&quot;na:GUILLOUET-GORDON SYNDROME&quot;</td><td>&quot;literature only&quot;</td><td>&quot;OMIM&quot;</td></tr><tr><td>3900696</td><td>&quot;Pathogenic&quot;</td><td>&quot;na:GUILLOUET-GORDON SYNDROME&quot;</td><td>&quot;literature only&quot;</td><td>&quot;OMIM&quot;</td></tr><tr><td>3900697</td><td>&quot;Pathogenic&quot;</td><td>&quot;na:GUILLOUET-GORDON SYNDROME&quot;</td><td>&quot;literature only&quot;</td><td>&quot;OMIM&quot;</td></tr></tbody></table></div>"
      ],
      "text/plain": [
       "shape: (5_399_159, 5)\n",
       "┌──────────────┬─────────────────────┬─────────────────────┬──────────────────┬────────────────────┐\n",
       "│ #VariationID ┆ ClinicalSignificanc ┆ ReportedPhenotypeIn ┆ CollectionMethod ┆ Submitter          │\n",
       "│ ---          ┆ e                   ┆ fo                  ┆ ---              ┆ ---                │\n",
       "│ i64          ┆ ---                 ┆ ---                 ┆ str              ┆ str                │\n",
       "│              ┆ str                 ┆ str                 ┆                  ┆                    │\n",
       "╞══════════════╪═════════════════════╪═════════════════════╪══════════════════╪════════════════════╡\n",
       "│ 2            ┆ Pathogenic          ┆ C3150901:Hereditary ┆ clinical testing ┆ Paris Brain        │\n",
       "│              ┆                     ┆ spastic pa…         ┆                  ┆ Institute, Inserm  │\n",
       "│              ┆                     ┆                     ┆                  ┆ …                  │\n",
       "│ 2            ┆ Pathogenic          ┆ C3661900:not        ┆ clinical testing ┆ Athena Diagnostics │\n",
       "│              ┆                     ┆ provided            ┆                  ┆                    │\n",
       "│ 2            ┆ Pathogenic          ┆ C3150901:Hereditary ┆ literature only  ┆ OMIM               │\n",
       "│              ┆                     ┆ spastic pa…         ┆                  ┆                    │\n",
       "│ 2            ┆ Likely pathogenic   ┆ na:Macular          ┆ research         ┆ Ophthalmic         │\n",
       "│              ┆                     ┆ dystrophy with or   ┆                  ┆ Genetics Group,    │\n",
       "│              ┆                     ┆ w…                  ┆                  ┆ Ins…               │\n",
       "│ 3            ┆ Pathogenic          ┆ C3150901:Hereditary ┆ literature only  ┆ OMIM               │\n",
       "│              ┆                     ┆ spastic pa…         ┆                  ┆                    │\n",
       "│ …            ┆ …                   ┆ …                   ┆ …                ┆ …                  │\n",
       "│ 3900693      ┆ Pathogenic          ┆ na:GUILLOUET-GORDON ┆ literature only  ┆ OMIM               │\n",
       "│              ┆                     ┆ SYNDROME            ┆                  ┆                    │\n",
       "│ 3900694      ┆ Pathogenic          ┆ na:GUILLOUET-GORDON ┆ literature only  ┆ OMIM               │\n",
       "│              ┆                     ┆ SYNDROME            ┆                  ┆                    │\n",
       "│ 3900695      ┆ Pathogenic          ┆ na:GUILLOUET-GORDON ┆ literature only  ┆ OMIM               │\n",
       "│              ┆                     ┆ SYNDROME            ┆                  ┆                    │\n",
       "│ 3900696      ┆ Pathogenic          ┆ na:GUILLOUET-GORDON ┆ literature only  ┆ OMIM               │\n",
       "│              ┆                     ┆ SYNDROME            ┆                  ┆                    │\n",
       "│ 3900697      ┆ Pathogenic          ┆ na:GUILLOUET-GORDON ┆ literature only  ┆ OMIM               │\n",
       "│              ┆                     ┆ SYNDROME            ┆                  ┆                    │\n",
       "└──────────────┴─────────────────────┴─────────────────────┴──────────────────┴────────────────────┘"
      ]
     },
     "execution_count": 4,
     "metadata": {},
     "output_type": "execute_result"
    }
   ],
   "source": [
    "df = pl.read_csv(\n",
    "    \"submission_summary.txt.gz\", separator=\"\\t\", skip_rows=18,\n",
    "    columns=[\n",
    "        \"#VariationID\",\n",
    "        \"ClinicalSignificance\",\n",
    "        \"ReportedPhenotypeInfo\",\n",
    "        \"CollectionMethod\",\n",
    "        \"Submitter\",\n",
    "    ]\n",
    ")\n",
    "df"
   ]
  },
  {
   "cell_type": "code",
   "execution_count": 5,
   "id": "d9f77871-4b62-437d-ab43-cb43bf7b2964",
   "metadata": {},
   "outputs": [
    {
     "data": {
      "text/html": [
       "<div><style>\n",
       ".dataframe > thead > tr,\n",
       ".dataframe > tbody > tr {\n",
       "  text-align: right;\n",
       "  white-space: pre-wrap;\n",
       "}\n",
       "</style>\n",
       "<small>shape: (36_803, 5)</small><table border=\"1\" class=\"dataframe\"><thead><tr><th>#VariationID</th><th>ClinicalSignificance</th><th>ReportedPhenotypeInfo</th><th>CollectionMethod</th><th>Submitter</th></tr><tr><td>i64</td><td>str</td><td>str</td><td>str</td><td>str</td></tr></thead><tbody><tr><td>2</td><td>&quot;Pathogenic&quot;</td><td>&quot;C3150901:Hereditary spastic pa…</td><td>&quot;literature only&quot;</td><td>&quot;OMIM&quot;</td></tr><tr><td>3</td><td>&quot;Pathogenic&quot;</td><td>&quot;C3150901:Hereditary spastic pa…</td><td>&quot;literature only&quot;</td><td>&quot;OMIM&quot;</td></tr><tr><td>4</td><td>&quot;Uncertain significance&quot;</td><td>&quot;C4551772:Galloway-Mowat syndro…</td><td>&quot;literature only&quot;</td><td>&quot;OMIM&quot;</td></tr><tr><td>5</td><td>&quot;Pathogenic&quot;</td><td>&quot;C4748791:Mitochondrial complex…</td><td>&quot;literature only&quot;</td><td>&quot;OMIM&quot;</td></tr><tr><td>6</td><td>&quot;Pathogenic&quot;</td><td>&quot;C4748791:Mitochondrial complex…</td><td>&quot;literature only&quot;</td><td>&quot;OMIM&quot;</td></tr><tr><td>&hellip;</td><td>&hellip;</td><td>&hellip;</td><td>&hellip;</td><td>&hellip;</td></tr><tr><td>3900693</td><td>&quot;Pathogenic&quot;</td><td>&quot;na:GUILLOUET-GORDON SYNDROME&quot;</td><td>&quot;literature only&quot;</td><td>&quot;OMIM&quot;</td></tr><tr><td>3900694</td><td>&quot;Pathogenic&quot;</td><td>&quot;na:GUILLOUET-GORDON SYNDROME&quot;</td><td>&quot;literature only&quot;</td><td>&quot;OMIM&quot;</td></tr><tr><td>3900695</td><td>&quot;Pathogenic&quot;</td><td>&quot;na:GUILLOUET-GORDON SYNDROME&quot;</td><td>&quot;literature only&quot;</td><td>&quot;OMIM&quot;</td></tr><tr><td>3900696</td><td>&quot;Pathogenic&quot;</td><td>&quot;na:GUILLOUET-GORDON SYNDROME&quot;</td><td>&quot;literature only&quot;</td><td>&quot;OMIM&quot;</td></tr><tr><td>3900697</td><td>&quot;Pathogenic&quot;</td><td>&quot;na:GUILLOUET-GORDON SYNDROME&quot;</td><td>&quot;literature only&quot;</td><td>&quot;OMIM&quot;</td></tr></tbody></table></div>"
      ],
      "text/plain": [
       "shape: (36_803, 5)\n",
       "┌──────────────┬────────────────────────┬───────────────────────────┬──────────────────┬───────────┐\n",
       "│ #VariationID ┆ ClinicalSignificance   ┆ ReportedPhenotypeInfo     ┆ CollectionMethod ┆ Submitter │\n",
       "│ ---          ┆ ---                    ┆ ---                       ┆ ---              ┆ ---       │\n",
       "│ i64          ┆ str                    ┆ str                       ┆ str              ┆ str       │\n",
       "╞══════════════╪════════════════════════╪═══════════════════════════╪══════════════════╪═══════════╡\n",
       "│ 2            ┆ Pathogenic             ┆ C3150901:Hereditary       ┆ literature only  ┆ OMIM      │\n",
       "│              ┆                        ┆ spastic pa…               ┆                  ┆           │\n",
       "│ 3            ┆ Pathogenic             ┆ C3150901:Hereditary       ┆ literature only  ┆ OMIM      │\n",
       "│              ┆                        ┆ spastic pa…               ┆                  ┆           │\n",
       "│ 4            ┆ Uncertain significance ┆ C4551772:Galloway-Mowat   ┆ literature only  ┆ OMIM      │\n",
       "│              ┆                        ┆ syndro…                   ┆                  ┆           │\n",
       "│ 5            ┆ Pathogenic             ┆ C4748791:Mitochondrial    ┆ literature only  ┆ OMIM      │\n",
       "│              ┆                        ┆ complex…                  ┆                  ┆           │\n",
       "│ 6            ┆ Pathogenic             ┆ C4748791:Mitochondrial    ┆ literature only  ┆ OMIM      │\n",
       "│              ┆                        ┆ complex…                  ┆                  ┆           │\n",
       "│ …            ┆ …                      ┆ …                         ┆ …                ┆ …         │\n",
       "│ 3900693      ┆ Pathogenic             ┆ na:GUILLOUET-GORDON       ┆ literature only  ┆ OMIM      │\n",
       "│              ┆                        ┆ SYNDROME                  ┆                  ┆           │\n",
       "│ 3900694      ┆ Pathogenic             ┆ na:GUILLOUET-GORDON       ┆ literature only  ┆ OMIM      │\n",
       "│              ┆                        ┆ SYNDROME                  ┆                  ┆           │\n",
       "│ 3900695      ┆ Pathogenic             ┆ na:GUILLOUET-GORDON       ┆ literature only  ┆ OMIM      │\n",
       "│              ┆                        ┆ SYNDROME                  ┆                  ┆           │\n",
       "│ 3900696      ┆ Pathogenic             ┆ na:GUILLOUET-GORDON       ┆ literature only  ┆ OMIM      │\n",
       "│              ┆                        ┆ SYNDROME                  ┆                  ┆           │\n",
       "│ 3900697      ┆ Pathogenic             ┆ na:GUILLOUET-GORDON       ┆ literature only  ┆ OMIM      │\n",
       "│              ┆                        ┆ SYNDROME                  ┆                  ┆           │\n",
       "└──────────────┴────────────────────────┴───────────────────────────┴──────────────────┴───────────┘"
      ]
     },
     "execution_count": 5,
     "metadata": {},
     "output_type": "execute_result"
    }
   ],
   "source": [
    "df = df.filter(Submitter=\"OMIM\")\n",
    "df"
   ]
  },
  {
   "cell_type": "code",
   "execution_count": 6,
   "id": "dabcfc49-203f-4540-9cad-e96d3c1797cb",
   "metadata": {},
   "outputs": [
    {
     "data": {
      "text/html": [
       "<div><style>\n",
       ".dataframe > thead > tr,\n",
       ".dataframe > tbody > tr {\n",
       "  text-align: right;\n",
       "  white-space: pre-wrap;\n",
       "}\n",
       "</style>\n",
       "<small>shape: (36_148, 5)</small><table border=\"1\" class=\"dataframe\"><thead><tr><th>#VariationID</th><th>ClinicalSignificance</th><th>ReportedPhenotypeInfo</th><th>CollectionMethod</th><th>Submitter</th></tr><tr><td>i64</td><td>str</td><td>str</td><td>str</td><td>str</td></tr></thead><tbody><tr><td>2</td><td>&quot;Pathogenic&quot;</td><td>&quot;C3150901:Hereditary spastic pa…</td><td>&quot;literature only&quot;</td><td>&quot;OMIM&quot;</td></tr><tr><td>3</td><td>&quot;Pathogenic&quot;</td><td>&quot;C3150901:Hereditary spastic pa…</td><td>&quot;literature only&quot;</td><td>&quot;OMIM&quot;</td></tr><tr><td>4</td><td>&quot;Uncertain significance&quot;</td><td>&quot;C4551772:Galloway-Mowat syndro…</td><td>&quot;literature only&quot;</td><td>&quot;OMIM&quot;</td></tr><tr><td>5</td><td>&quot;Pathogenic&quot;</td><td>&quot;C4748791:Mitochondrial complex…</td><td>&quot;literature only&quot;</td><td>&quot;OMIM&quot;</td></tr><tr><td>6</td><td>&quot;Pathogenic&quot;</td><td>&quot;C4748791:Mitochondrial complex…</td><td>&quot;literature only&quot;</td><td>&quot;OMIM&quot;</td></tr><tr><td>&hellip;</td><td>&hellip;</td><td>&hellip;</td><td>&hellip;</td><td>&hellip;</td></tr><tr><td>3900693</td><td>&quot;Pathogenic&quot;</td><td>&quot;na:GUILLOUET-GORDON SYNDROME&quot;</td><td>&quot;literature only&quot;</td><td>&quot;OMIM&quot;</td></tr><tr><td>3900694</td><td>&quot;Pathogenic&quot;</td><td>&quot;na:GUILLOUET-GORDON SYNDROME&quot;</td><td>&quot;literature only&quot;</td><td>&quot;OMIM&quot;</td></tr><tr><td>3900695</td><td>&quot;Pathogenic&quot;</td><td>&quot;na:GUILLOUET-GORDON SYNDROME&quot;</td><td>&quot;literature only&quot;</td><td>&quot;OMIM&quot;</td></tr><tr><td>3900696</td><td>&quot;Pathogenic&quot;</td><td>&quot;na:GUILLOUET-GORDON SYNDROME&quot;</td><td>&quot;literature only&quot;</td><td>&quot;OMIM&quot;</td></tr><tr><td>3900697</td><td>&quot;Pathogenic&quot;</td><td>&quot;na:GUILLOUET-GORDON SYNDROME&quot;</td><td>&quot;literature only&quot;</td><td>&quot;OMIM&quot;</td></tr></tbody></table></div>"
      ],
      "text/plain": [
       "shape: (36_148, 5)\n",
       "┌──────────────┬────────────────────────┬───────────────────────────┬──────────────────┬───────────┐\n",
       "│ #VariationID ┆ ClinicalSignificance   ┆ ReportedPhenotypeInfo     ┆ CollectionMethod ┆ Submitter │\n",
       "│ ---          ┆ ---                    ┆ ---                       ┆ ---              ┆ ---       │\n",
       "│ i64          ┆ str                    ┆ str                       ┆ str              ┆ str       │\n",
       "╞══════════════╪════════════════════════╪═══════════════════════════╪══════════════════╪═══════════╡\n",
       "│ 2            ┆ Pathogenic             ┆ C3150901:Hereditary       ┆ literature only  ┆ OMIM      │\n",
       "│              ┆                        ┆ spastic pa…               ┆                  ┆           │\n",
       "│ 3            ┆ Pathogenic             ┆ C3150901:Hereditary       ┆ literature only  ┆ OMIM      │\n",
       "│              ┆                        ┆ spastic pa…               ┆                  ┆           │\n",
       "│ 4            ┆ Uncertain significance ┆ C4551772:Galloway-Mowat   ┆ literature only  ┆ OMIM      │\n",
       "│              ┆                        ┆ syndro…                   ┆                  ┆           │\n",
       "│ 5            ┆ Pathogenic             ┆ C4748791:Mitochondrial    ┆ literature only  ┆ OMIM      │\n",
       "│              ┆                        ┆ complex…                  ┆                  ┆           │\n",
       "│ 6            ┆ Pathogenic             ┆ C4748791:Mitochondrial    ┆ literature only  ┆ OMIM      │\n",
       "│              ┆                        ┆ complex…                  ┆                  ┆           │\n",
       "│ …            ┆ …                      ┆ …                         ┆ …                ┆ …         │\n",
       "│ 3900693      ┆ Pathogenic             ┆ na:GUILLOUET-GORDON       ┆ literature only  ┆ OMIM      │\n",
       "│              ┆                        ┆ SYNDROME                  ┆                  ┆           │\n",
       "│ 3900694      ┆ Pathogenic             ┆ na:GUILLOUET-GORDON       ┆ literature only  ┆ OMIM      │\n",
       "│              ┆                        ┆ SYNDROME                  ┆                  ┆           │\n",
       "│ 3900695      ┆ Pathogenic             ┆ na:GUILLOUET-GORDON       ┆ literature only  ┆ OMIM      │\n",
       "│              ┆                        ┆ SYNDROME                  ┆                  ┆           │\n",
       "│ 3900696      ┆ Pathogenic             ┆ na:GUILLOUET-GORDON       ┆ literature only  ┆ OMIM      │\n",
       "│              ┆                        ┆ SYNDROME                  ┆                  ┆           │\n",
       "│ 3900697      ┆ Pathogenic             ┆ na:GUILLOUET-GORDON       ┆ literature only  ┆ OMIM      │\n",
       "│              ┆                        ┆ SYNDROME                  ┆                  ┆           │\n",
       "└──────────────┴────────────────────────┴───────────────────────────┴──────────────────┴───────────┘"
      ]
     },
     "execution_count": 6,
     "metadata": {},
     "output_type": "execute_result"
    }
   ],
   "source": [
    "unambiguous_ids = df.group_by(\"#VariationID\").n_unique().filter(ClinicalSignificance=1)[\"#VariationID\"]\n",
    "df = df.filter(pl.col(\"#VariationID\").is_in(unambiguous_ids))\n",
    "df"
   ]
  },
  {
   "cell_type": "code",
   "execution_count": 7,
   "id": "99a8b8b0-49a3-4671-af89-0772d3a2ea73",
   "metadata": {},
   "outputs": [
    {
     "data": {
      "text/html": [
       "<div><style>\n",
       ".dataframe > thead > tr,\n",
       ".dataframe > tbody > tr {\n",
       "  text-align: right;\n",
       "  white-space: pre-wrap;\n",
       "}\n",
       "</style>\n",
       "<small>shape: (32_910, 5)</small><table border=\"1\" class=\"dataframe\"><thead><tr><th>#VariationID</th><th>ClinicalSignificance</th><th>ReportedPhenotypeInfo</th><th>CollectionMethod</th><th>Submitter</th></tr><tr><td>i64</td><td>str</td><td>str</td><td>str</td><td>str</td></tr></thead><tbody><tr><td>2</td><td>&quot;Pathogenic&quot;</td><td>&quot;C3150901:Hereditary spastic pa…</td><td>&quot;literature only&quot;</td><td>&quot;OMIM&quot;</td></tr><tr><td>3</td><td>&quot;Pathogenic&quot;</td><td>&quot;C3150901:Hereditary spastic pa…</td><td>&quot;literature only&quot;</td><td>&quot;OMIM&quot;</td></tr><tr><td>5</td><td>&quot;Pathogenic&quot;</td><td>&quot;C4748791:Mitochondrial complex…</td><td>&quot;literature only&quot;</td><td>&quot;OMIM&quot;</td></tr><tr><td>6</td><td>&quot;Pathogenic&quot;</td><td>&quot;C4748791:Mitochondrial complex…</td><td>&quot;literature only&quot;</td><td>&quot;OMIM&quot;</td></tr><tr><td>7</td><td>&quot;Pathogenic&quot;</td><td>&quot;C4748792:Mitochondrial complex…</td><td>&quot;literature only&quot;</td><td>&quot;OMIM&quot;</td></tr><tr><td>&hellip;</td><td>&hellip;</td><td>&hellip;</td><td>&hellip;</td><td>&hellip;</td></tr><tr><td>3900693</td><td>&quot;Pathogenic&quot;</td><td>&quot;na:GUILLOUET-GORDON SYNDROME&quot;</td><td>&quot;literature only&quot;</td><td>&quot;OMIM&quot;</td></tr><tr><td>3900694</td><td>&quot;Pathogenic&quot;</td><td>&quot;na:GUILLOUET-GORDON SYNDROME&quot;</td><td>&quot;literature only&quot;</td><td>&quot;OMIM&quot;</td></tr><tr><td>3900695</td><td>&quot;Pathogenic&quot;</td><td>&quot;na:GUILLOUET-GORDON SYNDROME&quot;</td><td>&quot;literature only&quot;</td><td>&quot;OMIM&quot;</td></tr><tr><td>3900696</td><td>&quot;Pathogenic&quot;</td><td>&quot;na:GUILLOUET-GORDON SYNDROME&quot;</td><td>&quot;literature only&quot;</td><td>&quot;OMIM&quot;</td></tr><tr><td>3900697</td><td>&quot;Pathogenic&quot;</td><td>&quot;na:GUILLOUET-GORDON SYNDROME&quot;</td><td>&quot;literature only&quot;</td><td>&quot;OMIM&quot;</td></tr></tbody></table></div>"
      ],
      "text/plain": [
       "shape: (32_910, 5)\n",
       "┌──────────────┬──────────────────────┬─────────────────────────────┬──────────────────┬───────────┐\n",
       "│ #VariationID ┆ ClinicalSignificance ┆ ReportedPhenotypeInfo       ┆ CollectionMethod ┆ Submitter │\n",
       "│ ---          ┆ ---                  ┆ ---                         ┆ ---              ┆ ---       │\n",
       "│ i64          ┆ str                  ┆ str                         ┆ str              ┆ str       │\n",
       "╞══════════════╪══════════════════════╪═════════════════════════════╪══════════════════╪═══════════╡\n",
       "│ 2            ┆ Pathogenic           ┆ C3150901:Hereditary spastic ┆ literature only  ┆ OMIM      │\n",
       "│              ┆                      ┆ pa…                         ┆                  ┆           │\n",
       "│ 3            ┆ Pathogenic           ┆ C3150901:Hereditary spastic ┆ literature only  ┆ OMIM      │\n",
       "│              ┆                      ┆ pa…                         ┆                  ┆           │\n",
       "│ 5            ┆ Pathogenic           ┆ C4748791:Mitochondrial      ┆ literature only  ┆ OMIM      │\n",
       "│              ┆                      ┆ complex…                    ┆                  ┆           │\n",
       "│ 6            ┆ Pathogenic           ┆ C4748791:Mitochondrial      ┆ literature only  ┆ OMIM      │\n",
       "│              ┆                      ┆ complex…                    ┆                  ┆           │\n",
       "│ 7            ┆ Pathogenic           ┆ C4748792:Mitochondrial      ┆ literature only  ┆ OMIM      │\n",
       "│              ┆                      ┆ complex…                    ┆                  ┆           │\n",
       "│ …            ┆ …                    ┆ …                           ┆ …                ┆ …         │\n",
       "│ 3900693      ┆ Pathogenic           ┆ na:GUILLOUET-GORDON         ┆ literature only  ┆ OMIM      │\n",
       "│              ┆                      ┆ SYNDROME                    ┆                  ┆           │\n",
       "│ 3900694      ┆ Pathogenic           ┆ na:GUILLOUET-GORDON         ┆ literature only  ┆ OMIM      │\n",
       "│              ┆                      ┆ SYNDROME                    ┆                  ┆           │\n",
       "│ 3900695      ┆ Pathogenic           ┆ na:GUILLOUET-GORDON         ┆ literature only  ┆ OMIM      │\n",
       "│              ┆                      ┆ SYNDROME                    ┆                  ┆           │\n",
       "│ 3900696      ┆ Pathogenic           ┆ na:GUILLOUET-GORDON         ┆ literature only  ┆ OMIM      │\n",
       "│              ┆                      ┆ SYNDROME                    ┆                  ┆           │\n",
       "│ 3900697      ┆ Pathogenic           ┆ na:GUILLOUET-GORDON         ┆ literature only  ┆ OMIM      │\n",
       "│              ┆                      ┆ SYNDROME                    ┆                  ┆           │\n",
       "└──────────────┴──────────────────────┴─────────────────────────────┴──────────────────┴───────────┘"
      ]
     },
     "execution_count": 7,
     "metadata": {},
     "output_type": "execute_result"
    }
   ],
   "source": [
    "df = df.filter(pl.col(\"ClinicalSignificance\") == \"Pathogenic\")\n",
    "df"
   ]
  },
  {
   "cell_type": "code",
   "execution_count": 8,
   "id": "19926eb4-384c-446f-a815-650d07f1bd84",
   "metadata": {},
   "outputs": [],
   "source": [
    "# TODO: should check that the ClinicalSignificance is the one from OMIM, not the aggregate one from ClinVar\n",
    "# yes, I think it's working"
   ]
  },
  {
   "cell_type": "code",
   "execution_count": 9,
   "id": "33209854-7e33-432c-8f8a-4e0bd9f1ac36",
   "metadata": {},
   "outputs": [
    {
     "data": {
      "text/html": [
       "<div><style>\n",
       ".dataframe > thead > tr,\n",
       ".dataframe > tbody > tr {\n",
       "  text-align: right;\n",
       "  white-space: pre-wrap;\n",
       "}\n",
       "</style>\n",
       "<small>shape: (1, 5)</small><table border=\"1\" class=\"dataframe\"><thead><tr><th>#VariationID</th><th>ClinicalSignificance</th><th>ReportedPhenotypeInfo</th><th>CollectionMethod</th><th>Submitter</th></tr><tr><td>i64</td><td>str</td><td>str</td><td>str</td><td>str</td></tr></thead><tbody><tr><td>4907</td><td>&quot;Pathogenic&quot;</td><td>&quot;C1868114:Polydactyly of a trip…</td><td>&quot;literature only&quot;</td><td>&quot;OMIM&quot;</td></tr></tbody></table></div>"
      ],
      "text/plain": [
       "shape: (1, 5)\n",
       "┌──────────────┬──────────────────────┬─────────────────────────────┬──────────────────┬───────────┐\n",
       "│ #VariationID ┆ ClinicalSignificance ┆ ReportedPhenotypeInfo       ┆ CollectionMethod ┆ Submitter │\n",
       "│ ---          ┆ ---                  ┆ ---                         ┆ ---              ┆ ---       │\n",
       "│ i64          ┆ str                  ┆ str                         ┆ str              ┆ str       │\n",
       "╞══════════════╪══════════════════════╪═════════════════════════════╪══════════════════╪═══════════╡\n",
       "│ 4907         ┆ Pathogenic           ┆ C1868114:Polydactyly of a   ┆ literature only  ┆ OMIM      │\n",
       "│              ┆                      ┆ trip…                       ┆                  ┆           │\n",
       "└──────────────┴──────────────────────┴─────────────────────────────┴──────────────────┴───────────┘"
      ]
     },
     "execution_count": 9,
     "metadata": {},
     "output_type": "execute_result"
    }
   ],
   "source": [
    "df.filter(pl.col(\"#VariationID\") == 4907)"
   ]
  },
  {
   "cell_type": "code",
   "execution_count": 10,
   "id": "8107d1d9-e5fe-4e94-a23e-1aece8ce0b42",
   "metadata": {},
   "outputs": [
    {
     "data": {
      "text/html": [
       "<div><style>\n",
       ".dataframe > thead > tr,\n",
       ".dataframe > tbody > tr {\n",
       "  text-align: right;\n",
       "  white-space: pre-wrap;\n",
       "}\n",
       "</style>\n",
       "<small>shape: (2, 5)</small><table border=\"1\" class=\"dataframe\"><thead><tr><th>#VariationID</th><th>ClinicalSignificance</th><th>ReportedPhenotypeInfo</th><th>CollectionMethod</th><th>Submitter</th></tr><tr><td>i64</td><td>str</td><td>str</td><td>str</td><td>str</td></tr></thead><tbody><tr><td>3370406</td><td>&quot;Pathogenic&quot;</td><td>&quot;C5975503:Spermatogenic failure…</td><td>&quot;literature only&quot;</td><td>&quot;OMIM&quot;</td></tr><tr><td>3370406</td><td>&quot;Pathogenic&quot;</td><td>&quot;C5975510:Premature ovarian fai…</td><td>&quot;literature only&quot;</td><td>&quot;OMIM&quot;</td></tr></tbody></table></div>"
      ],
      "text/plain": [
       "shape: (2, 5)\n",
       "┌──────────────┬──────────────────────┬─────────────────────────────┬──────────────────┬───────────┐\n",
       "│ #VariationID ┆ ClinicalSignificance ┆ ReportedPhenotypeInfo       ┆ CollectionMethod ┆ Submitter │\n",
       "│ ---          ┆ ---                  ┆ ---                         ┆ ---              ┆ ---       │\n",
       "│ i64          ┆ str                  ┆ str                         ┆ str              ┆ str       │\n",
       "╞══════════════╪══════════════════════╪═════════════════════════════╪══════════════════╪═══════════╡\n",
       "│ 3370406      ┆ Pathogenic           ┆ C5975503:Spermatogenic      ┆ literature only  ┆ OMIM      │\n",
       "│              ┆                      ┆ failure…                    ┆                  ┆           │\n",
       "│ 3370406      ┆ Pathogenic           ┆ C5975510:Premature ovarian  ┆ literature only  ┆ OMIM      │\n",
       "│              ┆                      ┆ fai…                        ┆                  ┆           │\n",
       "└──────────────┴──────────────────────┴─────────────────────────────┴──────────────────┴───────────┘"
      ]
     },
     "execution_count": 10,
     "metadata": {},
     "output_type": "execute_result"
    }
   ],
   "source": [
    "df.filter(pl.col(\"#VariationID\") == 3370406)"
   ]
  },
  {
   "cell_type": "code",
   "execution_count": 11,
   "id": "6bdd3610-068d-4745-9017-895d20195111",
   "metadata": {},
   "outputs": [
    {
     "data": {
      "text/html": [
       "<div><style>\n",
       ".dataframe > thead > tr,\n",
       ".dataframe > tbody > tr {\n",
       "  text-align: right;\n",
       "  white-space: pre-wrap;\n",
       "}\n",
       "</style>\n",
       "<small>shape: (1, 2)</small><table border=\"1\" class=\"dataframe\"><thead><tr><th>CollectionMethod</th><th>count</th></tr><tr><td>str</td><td>u32</td></tr></thead><tbody><tr><td>&quot;literature only&quot;</td><td>32910</td></tr></tbody></table></div>"
      ],
      "text/plain": [
       "shape: (1, 2)\n",
       "┌──────────────────┬───────┐\n",
       "│ CollectionMethod ┆ count │\n",
       "│ ---              ┆ ---   │\n",
       "│ str              ┆ u32   │\n",
       "╞══════════════════╪═══════╡\n",
       "│ literature only  ┆ 32910 │\n",
       "└──────────────────┴───────┘"
      ]
     },
     "execution_count": 11,
     "metadata": {},
     "output_type": "execute_result"
    }
   ],
   "source": [
    "df[\"CollectionMethod\"].value_counts()"
   ]
  },
  {
   "cell_type": "code",
   "execution_count": 12,
   "id": "783c35a2-4da6-4fd1-8ea0-b7ae7ff902cf",
   "metadata": {},
   "outputs": [],
   "source": [
    "# comma is not good, need an escape character, maybe \"|\""
   ]
  },
  {
   "cell_type": "code",
   "execution_count": 13,
   "id": "0daea2ce-2fab-4b94-bf9c-c458e06d42e3",
   "metadata": {},
   "outputs": [
    {
     "data": {
      "text/html": [
       "<div><style>\n",
       ".dataframe > thead > tr,\n",
       ".dataframe > tbody > tr {\n",
       "  text-align: right;\n",
       "  white-space: pre-wrap;\n",
       "}\n",
       "</style>\n",
       "<small>shape: (0, 5)</small><table border=\"1\" class=\"dataframe\"><thead><tr><th>#VariationID</th><th>ClinicalSignificance</th><th>ReportedPhenotypeInfo</th><th>CollectionMethod</th><th>Submitter</th></tr><tr><td>i64</td><td>str</td><td>str</td><td>str</td><td>str</td></tr></thead><tbody></tbody></table></div>"
      ],
      "text/plain": [
       "shape: (0, 5)\n",
       "┌──────────────┬──────────────────────┬───────────────────────┬──────────────────┬───────────┐\n",
       "│ #VariationID ┆ ClinicalSignificance ┆ ReportedPhenotypeInfo ┆ CollectionMethod ┆ Submitter │\n",
       "│ ---          ┆ ---                  ┆ ---                   ┆ ---              ┆ ---       │\n",
       "│ i64          ┆ str                  ┆ str                   ┆ str              ┆ str       │\n",
       "╞══════════════╪══════════════════════╪═══════════════════════╪══════════════════╪═══════════╡\n",
       "└──────────────┴──────────────────────┴───────────────────────┴──────────────────┴───────────┘"
      ]
     },
     "execution_count": 13,
     "metadata": {},
     "output_type": "execute_result"
    }
   ],
   "source": [
    "df.filter(pl.col(\"ReportedPhenotypeInfo\").str.contains(\"|\", literal=True))"
   ]
  },
  {
   "cell_type": "code",
   "execution_count": 14,
   "id": "2a29c66b-d0d2-481e-a47a-cbe8053e40f9",
   "metadata": {},
   "outputs": [
    {
     "data": {
      "text/html": [
       "<div><style>\n",
       ".dataframe > thead > tr,\n",
       ".dataframe > tbody > tr {\n",
       "  text-align: right;\n",
       "  white-space: pre-wrap;\n",
       "}\n",
       "</style>\n",
       "<small>shape: (31_677, 2)</small><table border=\"1\" class=\"dataframe\"><thead><tr><th>#VariationID</th><th>ReportedPhenotypeInfo</th></tr><tr><td>i64</td><td>str</td></tr></thead><tbody><tr><td>5282</td><td>&quot;C2931875:Hermansky-Pudlak synd…</td></tr><tr><td>11168</td><td>&quot;C0398689:Hyper-IgM syndrome ty…</td></tr><tr><td>2443903</td><td>&quot;C5830283:Congenital myopathy 1…</td></tr><tr><td>430614</td><td>&quot;C4478383:Intellectual disabili…</td></tr><tr><td>144068</td><td>&quot;C3539506:Hereditary spastic pa…</td></tr><tr><td>&hellip;</td><td>&hellip;</td></tr><tr><td>547999</td><td>&quot;C5562061:Rauch-Steindl syndrom…</td></tr><tr><td>120184</td><td>&quot;C4040739:3-methylglutaconic ac…</td></tr><tr><td>4701</td><td>&quot;C5201146:Blau syndrome&quot;</td></tr><tr><td>545022</td><td>&quot;C4693870:Ehlers-Danlos syndrom…</td></tr><tr><td>1539</td><td>&quot;C0023817:Hyperlipoproteinemia,…</td></tr></tbody></table></div>"
      ],
      "text/plain": [
       "shape: (31_677, 2)\n",
       "┌──────────────┬─────────────────────────────────┐\n",
       "│ #VariationID ┆ ReportedPhenotypeInfo           │\n",
       "│ ---          ┆ ---                             │\n",
       "│ i64          ┆ str                             │\n",
       "╞══════════════╪═════════════════════════════════╡\n",
       "│ 5282         ┆ C2931875:Hermansky-Pudlak synd… │\n",
       "│ 11168        ┆ C0398689:Hyper-IgM syndrome ty… │\n",
       "│ 2443903      ┆ C5830283:Congenital myopathy 1… │\n",
       "│ 430614       ┆ C4478383:Intellectual disabili… │\n",
       "│ 144068       ┆ C3539506:Hereditary spastic pa… │\n",
       "│ …            ┆ …                               │\n",
       "│ 547999       ┆ C5562061:Rauch-Steindl syndrom… │\n",
       "│ 120184       ┆ C4040739:3-methylglutaconic ac… │\n",
       "│ 4701         ┆ C5201146:Blau syndrome          │\n",
       "│ 545022       ┆ C4693870:Ehlers-Danlos syndrom… │\n",
       "│ 1539         ┆ C0023817:Hyperlipoproteinemia,… │\n",
       "└──────────────┴─────────────────────────────────┘"
      ]
     },
     "execution_count": 14,
     "metadata": {},
     "output_type": "execute_result"
    }
   ],
   "source": [
    "df = df.group_by(\"#VariationID\").agg(pl.col(\"ReportedPhenotypeInfo\").unique()).with_columns(pl.col(\"ReportedPhenotypeInfo\").list.join(\"|\"))\n",
    "df"
   ]
  },
  {
   "cell_type": "code",
   "execution_count": 15,
   "id": "d7fbdfb3-3b21-4f49-9b4b-812035719a59",
   "metadata": {},
   "outputs": [
    {
     "data": {
      "text/html": [
       "<div><style>\n",
       ".dataframe > thead > tr,\n",
       ".dataframe > tbody > tr {\n",
       "  text-align: right;\n",
       "  white-space: pre-wrap;\n",
       "}\n",
       "</style>\n",
       "<small>shape: (1_062, 2)</small><table border=\"1\" class=\"dataframe\"><thead><tr><th>#VariationID</th><th>ReportedPhenotypeInfo</th></tr><tr><td>i64</td><td>str</td></tr></thead><tbody><tr><td>7911</td><td>&quot;C1858806:Cone-rod dystrophy 3|…</td></tr><tr><td>11549</td><td>&quot;C2678061:X-linked scapuloperon…</td></tr><tr><td>14440</td><td>&quot;C3150943:Long QT syndrome 2|C3…</td></tr><tr><td>11930</td><td>&quot;C0398691:Hyperimmunoglobulin D…</td></tr><tr><td>979212</td><td>&quot;C5436637:Spastic paraplegia 83…</td></tr><tr><td>&hellip;</td><td>&hellip;</td></tr><tr><td>1333342</td><td>&quot;C5830453:Congenital myopathy 2…</td></tr><tr><td>9396</td><td>&quot;C1832680:Dilated cardiomyopath…</td></tr><tr><td>13594</td><td>&quot;C4551985:Arterial calcificatio…</td></tr><tr><td>9283</td><td>&quot;C1851920:Dystonia 5|CN322657:D…</td></tr><tr><td>12805</td><td>&quot;C2751825:Premature ovarian fai…</td></tr></tbody></table></div>"
      ],
      "text/plain": [
       "shape: (1_062, 2)\n",
       "┌──────────────┬─────────────────────────────────┐\n",
       "│ #VariationID ┆ ReportedPhenotypeInfo           │\n",
       "│ ---          ┆ ---                             │\n",
       "│ i64          ┆ str                             │\n",
       "╞══════════════╪═════════════════════════════════╡\n",
       "│ 7911         ┆ C1858806:Cone-rod dystrophy 3|… │\n",
       "│ 11549        ┆ C2678061:X-linked scapuloperon… │\n",
       "│ 14440        ┆ C3150943:Long QT syndrome 2|C3… │\n",
       "│ 11930        ┆ C0398691:Hyperimmunoglobulin D… │\n",
       "│ 979212       ┆ C5436637:Spastic paraplegia 83… │\n",
       "│ …            ┆ …                               │\n",
       "│ 1333342      ┆ C5830453:Congenital myopathy 2… │\n",
       "│ 9396         ┆ C1832680:Dilated cardiomyopath… │\n",
       "│ 13594        ┆ C4551985:Arterial calcificatio… │\n",
       "│ 9283         ┆ C1851920:Dystonia 5|CN322657:D… │\n",
       "│ 12805        ┆ C2751825:Premature ovarian fai… │\n",
       "└──────────────┴─────────────────────────────────┘"
      ]
     },
     "execution_count": 15,
     "metadata": {},
     "output_type": "execute_result"
    }
   ],
   "source": [
    "df.filter(pl.col(\"ReportedPhenotypeInfo\").str.contains(\"|\", literal=True))"
   ]
  },
  {
   "cell_type": "code",
   "execution_count": 30,
   "id": "dee49db2-352d-4b54-9ee6-ba02a22866d9",
   "metadata": {},
   "outputs": [
    {
     "data": {
      "text/html": [
       "<div><style>\n",
       ".dataframe > thead > tr,\n",
       ".dataframe > tbody > tr {\n",
       "  text-align: right;\n",
       "  white-space: pre-wrap;\n",
       "}\n",
       "</style>\n",
       "<small>shape: (31_677, 2)</small><table border=\"1\" class=\"dataframe\"><thead><tr><th>clinvar_id</th><th>ReportedPhenotypeInfo</th></tr><tr><td>i64</td><td>str</td></tr></thead><tbody><tr><td>5282</td><td>&quot;C2931875:Hermansky-Pudlak synd…</td></tr><tr><td>11168</td><td>&quot;C0398689:Hyper-IgM syndrome ty…</td></tr><tr><td>2443903</td><td>&quot;C5830283:Congenital myopathy 1…</td></tr><tr><td>430614</td><td>&quot;C4478383:Intellectual disabili…</td></tr><tr><td>144068</td><td>&quot;C3539506:Hereditary spastic pa…</td></tr><tr><td>&hellip;</td><td>&hellip;</td></tr><tr><td>547999</td><td>&quot;C5562061:Rauch-Steindl syndrom…</td></tr><tr><td>120184</td><td>&quot;C4040739:3-methylglutaconic ac…</td></tr><tr><td>4701</td><td>&quot;C5201146:Blau syndrome&quot;</td></tr><tr><td>545022</td><td>&quot;C4693870:Ehlers-Danlos syndrom…</td></tr><tr><td>1539</td><td>&quot;C0023817:Hyperlipoproteinemia,…</td></tr></tbody></table></div>"
      ],
      "text/plain": [
       "shape: (31_677, 2)\n",
       "┌────────────┬─────────────────────────────────┐\n",
       "│ clinvar_id ┆ ReportedPhenotypeInfo           │\n",
       "│ ---        ┆ ---                             │\n",
       "│ i64        ┆ str                             │\n",
       "╞════════════╪═════════════════════════════════╡\n",
       "│ 5282       ┆ C2931875:Hermansky-Pudlak synd… │\n",
       "│ 11168      ┆ C0398689:Hyper-IgM syndrome ty… │\n",
       "│ 2443903    ┆ C5830283:Congenital myopathy 1… │\n",
       "│ 430614     ┆ C4478383:Intellectual disabili… │\n",
       "│ 144068     ┆ C3539506:Hereditary spastic pa… │\n",
       "│ …          ┆ …                               │\n",
       "│ 547999     ┆ C5562061:Rauch-Steindl syndrom… │\n",
       "│ 120184     ┆ C4040739:3-methylglutaconic ac… │\n",
       "│ 4701       ┆ C5201146:Blau syndrome          │\n",
       "│ 545022     ┆ C4693870:Ehlers-Danlos syndrom… │\n",
       "│ 1539       ┆ C0023817:Hyperlipoproteinemia,… │\n",
       "└────────────┴─────────────────────────────────┘"
      ]
     },
     "execution_count": 30,
     "metadata": {},
     "output_type": "execute_result"
    }
   ],
   "source": [
    "df = df.rename({\"#VariationID\": \"clinvar_id\"})\n",
    "df"
   ]
  },
  {
   "cell_type": "code",
   "execution_count": 16,
   "id": "13da083e-6be2-4e2d-a40b-ab3618d47ce3",
   "metadata": {},
   "outputs": [],
   "source": [
    "# TODO: merge ids with those in the vcf (hopefully there)"
   ]
  },
  {
   "cell_type": "code",
   "execution_count": 18,
   "id": "3e4b9bd6-33a4-4471-a482-1d61015c1cc0",
   "metadata": {},
   "outputs": [],
   "source": [
    "#!wget https://ftp.ncbi.nlm.nih.gov/pub/clinvar/vcf_GRCh38/weekly/clinvar_20250601.vcf.gz -O clinvar.vcf.gz"
   ]
  },
  {
   "cell_type": "code",
   "execution_count": 37,
   "id": "23cee897-c883-4acd-84a5-2b67c81b9e93",
   "metadata": {},
   "outputs": [],
   "source": [
    "NUCLEOTIDES = list(\"ACGT\")\n",
    "CHROMS = [str(i) for i in range(1, 23)] + ['X', 'Y']\n",
    "COORDINATES = [\"chrom\", \"pos\", \"ref\", \"alt\"]"
   ]
  },
  {
   "cell_type": "raw",
   "id": "a2b6d3eb-c673-4e70-b0a9-4013b31af191",
   "metadata": {},
   "source": [
    "from cyvcf2 import VCF\n",
    "\n",
    "rows = []\n",
    "for variant in VCF(\"clinvar.vcf.gz\"):\n",
    "    if variant.INFO.get(\"CLNVC\") != \"single_nucleotide_variant\": continue\n",
    "    if len(variant.ALT) != 1: continue\n",
    "    rows.append([variant.CHROM, variant.POS, variant.REF, variant.ALT[0], int(variant.ID)])\n",
    "\n",
    "V = pl.DataFrame(rows, schema=[\"chrom\", \"pos\", \"ref\", \"alt\", \"clinvar_id\"], orient=\"row\")\n",
    "V"
   ]
  },
  {
   "cell_type": "code",
   "execution_count": 29,
   "id": "53e68802-f21f-49b5-a438-781d7b502767",
   "metadata": {},
   "outputs": [
    {
     "data": {
      "text/html": [
       "<div><style>\n",
       ".dataframe > thead > tr,\n",
       ".dataframe > tbody > tr {\n",
       "  text-align: right;\n",
       "  white-space: pre-wrap;\n",
       "}\n",
       "</style>\n",
       "<small>shape: (3_232_804, 5)</small><table border=\"1\" class=\"dataframe\"><thead><tr><th>chrom</th><th>pos</th><th>ref</th><th>alt</th><th>clinvar_id</th></tr><tr><td>str</td><td>i64</td><td>str</td><td>str</td><td>i64</td></tr></thead><tbody><tr><td>&quot;1&quot;</td><td>69134</td><td>&quot;A&quot;</td><td>&quot;G&quot;</td><td>2205837</td></tr><tr><td>&quot;1&quot;</td><td>69314</td><td>&quot;T&quot;</td><td>&quot;G&quot;</td><td>3205580</td></tr><tr><td>&quot;1&quot;</td><td>69423</td><td>&quot;G&quot;</td><td>&quot;A&quot;</td><td>3205581</td></tr><tr><td>&quot;1&quot;</td><td>69581</td><td>&quot;C&quot;</td><td>&quot;G&quot;</td><td>2252161</td></tr><tr><td>&quot;1&quot;</td><td>69682</td><td>&quot;G&quot;</td><td>&quot;A&quot;</td><td>2396347</td></tr><tr><td>&hellip;</td><td>&hellip;</td><td>&hellip;</td><td>&hellip;</td><td>&hellip;</td></tr><tr><td>&quot;Y&quot;</td><td>14830121</td><td>&quot;C&quot;</td><td>&quot;A&quot;</td><td>391879</td></tr><tr><td>&quot;Y&quot;</td><td>14840423</td><td>&quot;C&quot;</td><td>&quot;T&quot;</td><td>2689591</td></tr><tr><td>&quot;Y&quot;</td><td>14840785</td><td>&quot;C&quot;</td><td>&quot;T&quot;</td><td>770316</td></tr><tr><td>&quot;Y&quot;</td><td>14840887</td><td>&quot;C&quot;</td><td>&quot;T&quot;</td><td>2661892</td></tr><tr><td>&quot;Y&quot;</td><td>21548157</td><td>&quot;G&quot;</td><td>&quot;T&quot;</td><td>2689863</td></tr></tbody></table></div>"
      ],
      "text/plain": [
       "shape: (3_232_804, 5)\n",
       "┌───────┬──────────┬─────┬─────┬────────────┐\n",
       "│ chrom ┆ pos      ┆ ref ┆ alt ┆ clinvar_id │\n",
       "│ ---   ┆ ---      ┆ --- ┆ --- ┆ ---        │\n",
       "│ str   ┆ i64      ┆ str ┆ str ┆ i64        │\n",
       "╞═══════╪══════════╪═════╪═════╪════════════╡\n",
       "│ 1     ┆ 69134    ┆ A   ┆ G   ┆ 2205837    │\n",
       "│ 1     ┆ 69314    ┆ T   ┆ G   ┆ 3205580    │\n",
       "│ 1     ┆ 69423    ┆ G   ┆ A   ┆ 3205581    │\n",
       "│ 1     ┆ 69581    ┆ C   ┆ G   ┆ 2252161    │\n",
       "│ 1     ┆ 69682    ┆ G   ┆ A   ┆ 2396347    │\n",
       "│ …     ┆ …        ┆ …   ┆ …   ┆ …          │\n",
       "│ Y     ┆ 14830121 ┆ C   ┆ A   ┆ 391879     │\n",
       "│ Y     ┆ 14840423 ┆ C   ┆ T   ┆ 2689591    │\n",
       "│ Y     ┆ 14840785 ┆ C   ┆ T   ┆ 770316     │\n",
       "│ Y     ┆ 14840887 ┆ C   ┆ T   ┆ 2661892    │\n",
       "│ Y     ┆ 21548157 ┆ G   ┆ T   ┆ 2689863    │\n",
       "└───────┴──────────┴─────┴─────┴────────────┘"
      ]
     },
     "execution_count": 29,
     "metadata": {},
     "output_type": "execute_result"
    }
   ],
   "source": [
    "V = V.filter(pl.col(\"chrom\").is_in(CHROMS), pl.col(\"ref\").is_in(NUCLEOTIDES), pl.col(\"alt\").is_in(NUCLEOTIDES))\n",
    "V"
   ]
  },
  {
   "cell_type": "code",
   "execution_count": 31,
   "id": "d49adc18-5fdc-4d91-a9a6-a478db201cba",
   "metadata": {},
   "outputs": [
    {
     "data": {
      "text/html": [
       "<div><style>\n",
       ".dataframe > thead > tr,\n",
       ".dataframe > tbody > tr {\n",
       "  text-align: right;\n",
       "  white-space: pre-wrap;\n",
       "}\n",
       "</style>\n",
       "<small>shape: (23_401, 6)</small><table border=\"1\" class=\"dataframe\"><thead><tr><th>chrom</th><th>pos</th><th>ref</th><th>alt</th><th>clinvar_id</th><th>ReportedPhenotypeInfo</th></tr><tr><td>str</td><td>i64</td><td>str</td><td>str</td><td>i64</td><td>str</td></tr></thead><tbody><tr><td>&quot;1&quot;</td><td>1014143</td><td>&quot;C&quot;</td><td>&quot;T&quot;</td><td>183381</td><td>&quot;C4015293:Mendelian susceptibil…</td></tr><tr><td>&quot;1&quot;</td><td>1014359</td><td>&quot;G&quot;</td><td>&quot;T&quot;</td><td>161454</td><td>&quot;C4015293:Mendelian susceptibil…</td></tr><tr><td>&quot;1&quot;</td><td>1041582</td><td>&quot;C&quot;</td><td>&quot;T&quot;</td><td>126556</td><td>&quot;C3808739:Congenital myasthenic…</td></tr><tr><td>&quot;1&quot;</td><td>1050575</td><td>&quot;G&quot;</td><td>&quot;C&quot;</td><td>18241</td><td>&quot;C3808739:Congenital myasthenic…</td></tr><tr><td>&quot;1&quot;</td><td>1050763</td><td>&quot;G&quot;</td><td>&quot;T&quot;</td><td>126555</td><td>&quot;C3808739:Congenital myasthenic…</td></tr><tr><td>&hellip;</td><td>&hellip;</td><td>&hellip;</td><td>&hellip;</td><td>&hellip;</td><td>&hellip;</td></tr><tr><td>&quot;Y&quot;</td><td>2787426</td><td>&quot;C&quot;</td><td>&quot;G&quot;</td><td>9739</td><td>&quot;C2748896:46,XY sex reversal 1&quot;</td></tr><tr><td>&quot;Y&quot;</td><td>2787551</td><td>&quot;C&quot;</td><td>&quot;T&quot;</td><td>9754</td><td>&quot;C2748896:46,XY sex reversal 1&quot;</td></tr><tr><td>&quot;Y&quot;</td><td>2787592</td><td>&quot;A&quot;</td><td>&quot;T&quot;</td><td>9751</td><td>&quot;C2748896:46,XY sex reversal 1&quot;</td></tr><tr><td>&quot;Y&quot;</td><td>2787600</td><td>&quot;G&quot;</td><td>&quot;A&quot;</td><td>9753</td><td>&quot;C2748896:46,XY sex reversal 1&quot;</td></tr><tr><td>&quot;Y&quot;</td><td>7063898</td><td>&quot;A&quot;</td><td>&quot;T&quot;</td><td>625467</td><td>&quot;C5193013:Deafness, Y-linked 2&quot;</td></tr></tbody></table></div>"
      ],
      "text/plain": [
       "shape: (23_401, 6)\n",
       "┌───────┬─────────┬─────┬─────┬────────────┬─────────────────────────────────┐\n",
       "│ chrom ┆ pos     ┆ ref ┆ alt ┆ clinvar_id ┆ ReportedPhenotypeInfo           │\n",
       "│ ---   ┆ ---     ┆ --- ┆ --- ┆ ---        ┆ ---                             │\n",
       "│ str   ┆ i64     ┆ str ┆ str ┆ i64        ┆ str                             │\n",
       "╞═══════╪═════════╪═════╪═════╪════════════╪═════════════════════════════════╡\n",
       "│ 1     ┆ 1014143 ┆ C   ┆ T   ┆ 183381     ┆ C4015293:Mendelian susceptibil… │\n",
       "│ 1     ┆ 1014359 ┆ G   ┆ T   ┆ 161454     ┆ C4015293:Mendelian susceptibil… │\n",
       "│ 1     ┆ 1041582 ┆ C   ┆ T   ┆ 126556     ┆ C3808739:Congenital myasthenic… │\n",
       "│ 1     ┆ 1050575 ┆ G   ┆ C   ┆ 18241      ┆ C3808739:Congenital myasthenic… │\n",
       "│ 1     ┆ 1050763 ┆ G   ┆ T   ┆ 126555     ┆ C3808739:Congenital myasthenic… │\n",
       "│ …     ┆ …       ┆ …   ┆ …   ┆ …          ┆ …                               │\n",
       "│ Y     ┆ 2787426 ┆ C   ┆ G   ┆ 9739       ┆ C2748896:46,XY sex reversal 1   │\n",
       "│ Y     ┆ 2787551 ┆ C   ┆ T   ┆ 9754       ┆ C2748896:46,XY sex reversal 1   │\n",
       "│ Y     ┆ 2787592 ┆ A   ┆ T   ┆ 9751       ┆ C2748896:46,XY sex reversal 1   │\n",
       "│ Y     ┆ 2787600 ┆ G   ┆ A   ┆ 9753       ┆ C2748896:46,XY sex reversal 1   │\n",
       "│ Y     ┆ 7063898 ┆ A   ┆ T   ┆ 625467     ┆ C5193013:Deafness, Y-linked 2   │\n",
       "└───────┴─────────┴─────┴─────┴────────────┴─────────────────────────────────┘"
      ]
     },
     "execution_count": 31,
     "metadata": {},
     "output_type": "execute_result"
    }
   ],
   "source": [
    "V = V.join(df, how=\"inner\", on=\"clinvar_id\")\n",
    "V"
   ]
  },
  {
   "cell_type": "code",
   "execution_count": 43,
   "id": "e0a057d4-7a3f-4690-acfa-e18171112912",
   "metadata": {},
   "outputs": [
    {
     "data": {
      "text/plain": [
       "(23401, 31677)"
      ]
     },
     "execution_count": 43,
     "metadata": {},
     "output_type": "execute_result"
    }
   ],
   "source": [
    "len(V), len(df)  # TODO: we are dropping too many, need to understand why\n",
    "# start by analyzing some specific examples, are there in clinvar database?"
   ]
  },
  {
   "cell_type": "code",
   "execution_count": 34,
   "id": "4468cb54-dd87-4043-b697-d2a3f0fc19b4",
   "metadata": {},
   "outputs": [
    {
     "data": {
      "text/html": [
       "<div><style>\n",
       ".dataframe > thead > tr,\n",
       ".dataframe > tbody > tr {\n",
       "  text-align: right;\n",
       "  white-space: pre-wrap;\n",
       "}\n",
       "</style>\n",
       "<small>shape: (1, 6)</small><table border=\"1\" class=\"dataframe\"><thead><tr><th>chrom</th><th>pos</th><th>ref</th><th>alt</th><th>clinvar_id</th><th>ReportedPhenotypeInfo</th></tr><tr><td>str</td><td>i64</td><td>str</td><td>str</td><td>i64</td><td>str</td></tr></thead><tbody><tr><td>&quot;7&quot;</td><td>156791480</td><td>&quot;G&quot;</td><td>&quot;A&quot;</td><td>4907</td><td>&quot;C1868114:Polydactyly of a trip…</td></tr></tbody></table></div>"
      ],
      "text/plain": [
       "shape: (1, 6)\n",
       "┌───────┬───────────┬─────┬─────┬────────────┬─────────────────────────────────┐\n",
       "│ chrom ┆ pos       ┆ ref ┆ alt ┆ clinvar_id ┆ ReportedPhenotypeInfo           │\n",
       "│ ---   ┆ ---       ┆ --- ┆ --- ┆ ---        ┆ ---                             │\n",
       "│ str   ┆ i64       ┆ str ┆ str ┆ i64        ┆ str                             │\n",
       "╞═══════╪═══════════╪═════╪═════╪════════════╪═════════════════════════════════╡\n",
       "│ 7     ┆ 156791480 ┆ G   ┆ A   ┆ 4907       ┆ C1868114:Polydactyly of a trip… │\n",
       "└───────┴───────────┴─────┴─────┴────────────┴─────────────────────────────────┘"
      ]
     },
     "execution_count": 34,
     "metadata": {},
     "output_type": "execute_result"
    }
   ],
   "source": [
    "V.filter(clinvar_id=4907)"
   ]
  },
  {
   "cell_type": "code",
   "execution_count": 36,
   "id": "061e6dfc-42ba-4323-99e5-86716331ad04",
   "metadata": {},
   "outputs": [
    {
     "data": {
      "text/html": [
       "<div><style>\n",
       ".dataframe > thead > tr,\n",
       ".dataframe > tbody > tr {\n",
       "  text-align: right;\n",
       "  white-space: pre-wrap;\n",
       "}\n",
       "</style>\n",
       "<small>shape: (338, 9)</small><table border=\"1\" class=\"dataframe\"><thead><tr><th>chrom</th><th>pos</th><th>ref</th><th>alt</th><th>OMIM</th><th>consequence</th><th>label</th><th>tss_dist</th><th>match_group</th></tr><tr><td>str</td><td>i64</td><td>str</td><td>str</td><td>str</td><td>str</td><td>bool</td><td>i64</td><td>str</td></tr></thead><tbody><tr><td>&quot;1&quot;</td><td>7961859</td><td>&quot;C&quot;</td><td>&quot;G&quot;</td><td>&quot;MIM 606324&quot;</td><td>&quot;PLS&quot;</td><td>true</td><td>34</td><td>&quot;PLS_0&quot;</td></tr><tr><td>&quot;1&quot;</td><td>9943502</td><td>&quot;A&quot;</td><td>&quot;T&quot;</td><td>&quot;MIM 608553&quot;</td><td>&quot;5_prime_UTR_variant&quot;</td><td>true</td><td>26</td><td>&quot;5_prime_UTR_variant_0&quot;</td></tr><tr><td>&quot;1&quot;</td><td>9943503</td><td>&quot;C&quot;</td><td>&quot;T&quot;</td><td>&quot;MIM 608553&quot;</td><td>&quot;5_prime_UTR_variant&quot;</td><td>true</td><td>27</td><td>&quot;5_prime_UTR_variant_1&quot;</td></tr><tr><td>&quot;1&quot;</td><td>11023351</td><td>&quot;G&quot;</td><td>&quot;A&quot;</td><td>&quot;MIM 612069&quot;</td><td>&quot;3_prime_UTR_variant&quot;</td><td>true</td><td>1206</td><td>&quot;3_prime_UTR_variant_0&quot;</td></tr><tr><td>&quot;1&quot;</td><td>21509427</td><td>&quot;C&quot;</td><td>&quot;T&quot;</td><td>&quot;MIM 241500&quot;</td><td>&quot;5_prime_UTR_variant&quot;</td><td>true</td><td>0</td><td>&quot;5_prime_UTR_variant_2&quot;</td></tr><tr><td>&hellip;</td><td>&hellip;</td><td>&hellip;</td><td>&hellip;</td><td>&hellip;</td><td>&hellip;</td><td>&hellip;</td><td>&hellip;</td><td>&hellip;</td></tr><tr><td>&quot;X&quot;</td><td>155022770</td><td>&quot;A&quot;</td><td>&quot;G&quot;</td><td>&quot;MIM 306700&quot;</td><td>&quot;PLS&quot;</td><td>true</td><td>46</td><td>&quot;PLS_57&quot;</td></tr><tr><td>&quot;X&quot;</td><td>155022771</td><td>&quot;G&quot;</td><td>&quot;A&quot;</td><td>&quot;MIM 306700&quot;</td><td>&quot;PLS&quot;</td><td>true</td><td>47</td><td>&quot;PLS_62&quot;</td></tr><tr><td>&quot;X&quot;</td><td>155022773</td><td>&quot;A&quot;</td><td>&quot;T&quot;</td><td>&quot;MIM 306700&quot;</td><td>&quot;PLS&quot;</td><td>true</td><td>49</td><td>&quot;PLS_58&quot;</td></tr><tr><td>&quot;X&quot;</td><td>155022807</td><td>&quot;T&quot;</td><td>&quot;C&quot;</td><td>&quot;MIM 306700&quot;</td><td>&quot;PLS&quot;</td><td>true</td><td>83</td><td>&quot;PLS_59&quot;</td></tr><tr><td>&quot;X&quot;</td><td>155022809</td><td>&quot;A&quot;</td><td>&quot;C&quot;</td><td>&quot;MIM 306700&quot;</td><td>&quot;PLS&quot;</td><td>true</td><td>85</td><td>&quot;PLS_60&quot;</td></tr></tbody></table></div>"
      ],
      "text/plain": [
       "shape: (338, 9)\n",
       "┌───────┬───────────┬─────┬─────┬───┬─────────────────────┬───────┬──────────┬─────────────────────┐\n",
       "│ chrom ┆ pos       ┆ ref ┆ alt ┆ … ┆ consequence         ┆ label ┆ tss_dist ┆ match_group         │\n",
       "│ ---   ┆ ---       ┆ --- ┆ --- ┆   ┆ ---                 ┆ ---   ┆ ---      ┆ ---                 │\n",
       "│ str   ┆ i64       ┆ str ┆ str ┆   ┆ str                 ┆ bool  ┆ i64      ┆ str                 │\n",
       "╞═══════╪═══════════╪═════╪═════╪═══╪═════════════════════╪═══════╪══════════╪═════════════════════╡\n",
       "│ 1     ┆ 7961859   ┆ C   ┆ G   ┆ … ┆ PLS                 ┆ true  ┆ 34       ┆ PLS_0               │\n",
       "│ 1     ┆ 9943502   ┆ A   ┆ T   ┆ … ┆ 5_prime_UTR_variant ┆ true  ┆ 26       ┆ 5_prime_UTR_variant │\n",
       "│       ┆           ┆     ┆     ┆   ┆                     ┆       ┆          ┆ _0                  │\n",
       "│ 1     ┆ 9943503   ┆ C   ┆ T   ┆ … ┆ 5_prime_UTR_variant ┆ true  ┆ 27       ┆ 5_prime_UTR_variant │\n",
       "│       ┆           ┆     ┆     ┆   ┆                     ┆       ┆          ┆ _1                  │\n",
       "│ 1     ┆ 11023351  ┆ G   ┆ A   ┆ … ┆ 3_prime_UTR_variant ┆ true  ┆ 1206     ┆ 3_prime_UTR_variant │\n",
       "│       ┆           ┆     ┆     ┆   ┆                     ┆       ┆          ┆ _0                  │\n",
       "│ 1     ┆ 21509427  ┆ C   ┆ T   ┆ … ┆ 5_prime_UTR_variant ┆ true  ┆ 0        ┆ 5_prime_UTR_variant │\n",
       "│       ┆           ┆     ┆     ┆   ┆                     ┆       ┆          ┆ _2                  │\n",
       "│ …     ┆ …         ┆ …   ┆ …   ┆ … ┆ …                   ┆ …     ┆ …        ┆ …                   │\n",
       "│ X     ┆ 155022770 ┆ A   ┆ G   ┆ … ┆ PLS                 ┆ true  ┆ 46       ┆ PLS_57              │\n",
       "│ X     ┆ 155022771 ┆ G   ┆ A   ┆ … ┆ PLS                 ┆ true  ┆ 47       ┆ PLS_62              │\n",
       "│ X     ┆ 155022773 ┆ A   ┆ T   ┆ … ┆ PLS                 ┆ true  ┆ 49       ┆ PLS_58              │\n",
       "│ X     ┆ 155022807 ┆ T   ┆ C   ┆ … ┆ PLS                 ┆ true  ┆ 83       ┆ PLS_59              │\n",
       "│ X     ┆ 155022809 ┆ A   ┆ C   ┆ … ┆ PLS                 ┆ true  ┆ 85       ┆ PLS_60              │\n",
       "└───────┴───────────┴─────┴─────┴───┴─────────────────────┴───────┴──────────┴─────────────────────┘"
      ]
     },
     "execution_count": 36,
     "metadata": {},
     "output_type": "execute_result"
    }
   ],
   "source": [
    "traitgym = pl.read_parquet('hf://datasets/songlab/TraitGym/mendelian_traits_matched_9/test.parquet').filter(pl.col(\"label\"))\n",
    "traitgym"
   ]
  },
  {
   "cell_type": "code",
   "execution_count": 39,
   "id": "291f7e20-8922-450e-ad23-7894629b786c",
   "metadata": {},
   "outputs": [
    {
     "data": {
      "text/html": [
       "<div><style>\n",
       ".dataframe > thead > tr,\n",
       ".dataframe > tbody > tr {\n",
       "  text-align: right;\n",
       "  white-space: pre-wrap;\n",
       "}\n",
       "</style>\n",
       "<small>shape: (120, 11)</small><table border=\"1\" class=\"dataframe\"><thead><tr><th>chrom</th><th>pos</th><th>ref</th><th>alt</th><th>clinvar_id</th><th>ReportedPhenotypeInfo</th><th>OMIM</th><th>consequence</th><th>label</th><th>tss_dist</th><th>match_group</th></tr><tr><td>str</td><td>i64</td><td>str</td><td>str</td><td>i64</td><td>str</td><td>str</td><td>str</td><td>bool</td><td>i64</td><td>str</td></tr></thead><tbody><tr><td>&quot;1&quot;</td><td>11023351</td><td>&quot;G&quot;</td><td>&quot;A&quot;</td><td>5239</td><td>&quot;C3148872:FRONTOTEMPORAL DEMENT…</td><td>&quot;MIM 612069&quot;</td><td>&quot;3_prime_UTR_variant&quot;</td><td>true</td><td>1206</td><td>&quot;3_prime_UTR_variant_0&quot;</td></tr><tr><td>&quot;1&quot;</td><td>90916206</td><td>&quot;C&quot;</td><td>&quot;T&quot;</td><td>31109</td><td>&quot;C3279997:Myopia 21, autosomal …</td><td>&quot;MIM 614167&quot;</td><td>&quot;3_prime_UTR_variant&quot;</td><td>true</td><td>105250</td><td>&quot;3_prime_UTR_variant_3&quot;</td></tr><tr><td>&quot;1&quot;</td><td>112956192</td><td>&quot;C&quot;</td><td>&quot;T&quot;</td><td>8916</td><td>&quot;C1864902:Exercise-induced hype…</td><td>&quot;MIM 610021&quot;</td><td>&quot;5_prime_UTR_variant&quot;</td><td>true</td><td>3</td><td>&quot;5_prime_UTR_variant_5&quot;</td></tr><tr><td>&quot;1&quot;</td><td>155301478</td><td>&quot;C&quot;</td><td>&quot;G&quot;</td><td>1515</td><td>&quot;C0340968:Pyruvate kinase defic…</td><td>&quot;MIM 266200&quot;</td><td>&quot;PLS&quot;</td><td>true</td><td>39</td><td>&quot;PLS_2&quot;</td></tr><tr><td>&quot;1&quot;</td><td>160032009</td><td>&quot;G&quot;</td><td>&quot;C&quot;</td><td>1288</td><td>&quot;C5201145:Hypercoagulability sy…</td><td>&quot;MIM 610293&quot;</td><td>&quot;PLS&quot;</td><td>true</td><td>18</td><td>&quot;PLS_3&quot;</td></tr><tr><td>&hellip;</td><td>&hellip;</td><td>&hellip;</td><td>&hellip;</td><td>&hellip;</td><td>&hellip;</td><td>&hellip;</td><td>&hellip;</td><td>&hellip;</td><td>&hellip;</td><td>&hellip;</td></tr><tr><td>&quot;X&quot;</td><td>139530730</td><td>&quot;G&quot;</td><td>&quot;A&quot;</td><td>641767</td><td>&quot;C5848256:Hemophilia B leyden&quot;</td><td>&quot;MIM 306900&quot;</td><td>&quot;upstream_gene_variant&quot;</td><td>true</td><td>8</td><td>&quot;upstream_gene_variant_17&quot;</td></tr><tr><td>&quot;X&quot;</td><td>139530731</td><td>&quot;A&quot;</td><td>&quot;T&quot;</td><td>10645</td><td>&quot;C5848256:Hemophilia B leyden&quot;</td><td>&quot;MIM 306900&quot;</td><td>&quot;upstream_gene_variant&quot;</td><td>true</td><td>7</td><td>&quot;upstream_gene_variant_19&quot;</td></tr><tr><td>&quot;X&quot;</td><td>139530743</td><td>&quot;T&quot;</td><td>&quot;C&quot;</td><td>10644</td><td>&quot;C5848256:Hemophilia B leyden&quot;</td><td>&quot;MIM 306900&quot;</td><td>&quot;5_prime_UTR_variant&quot;</td><td>true</td><td>3</td><td>&quot;5_prime_UTR_variant_107&quot;</td></tr><tr><td>&quot;X&quot;</td><td>139530748</td><td>&quot;A&quot;</td><td>&quot;G&quot;</td><td>10646</td><td>&quot;C5848256:Hemophilia B leyden&quot;</td><td>&quot;MIM 306900&quot;</td><td>&quot;5_prime_UTR_variant&quot;</td><td>true</td><td>8</td><td>&quot;5_prime_UTR_variant_110&quot;</td></tr><tr><td>&quot;X&quot;</td><td>153971810</td><td>&quot;A&quot;</td><td>&quot;G&quot;</td><td>39694</td><td>&quot;C0796208:Methylmalonic acidemi…</td><td>&quot;MIM 309541&quot;</td><td>&quot;5_prime_UTR_variant&quot;</td><td>true</td><td>7</td><td>&quot;5_prime_UTR_variant_100&quot;</td></tr></tbody></table></div>"
      ],
      "text/plain": [
       "shape: (120, 11)\n",
       "┌───────┬───────────┬─────┬─────┬───┬─────────────────────┬───────┬──────────┬─────────────────────┐\n",
       "│ chrom ┆ pos       ┆ ref ┆ alt ┆ … ┆ consequence         ┆ label ┆ tss_dist ┆ match_group         │\n",
       "│ ---   ┆ ---       ┆ --- ┆ --- ┆   ┆ ---                 ┆ ---   ┆ ---      ┆ ---                 │\n",
       "│ str   ┆ i64       ┆ str ┆ str ┆   ┆ str                 ┆ bool  ┆ i64      ┆ str                 │\n",
       "╞═══════╪═══════════╪═════╪═════╪═══╪═════════════════════╪═══════╪══════════╪═════════════════════╡\n",
       "│ 1     ┆ 11023351  ┆ G   ┆ A   ┆ … ┆ 3_prime_UTR_variant ┆ true  ┆ 1206     ┆ 3_prime_UTR_variant │\n",
       "│       ┆           ┆     ┆     ┆   ┆                     ┆       ┆          ┆ _0                  │\n",
       "│ 1     ┆ 90916206  ┆ C   ┆ T   ┆ … ┆ 3_prime_UTR_variant ┆ true  ┆ 105250   ┆ 3_prime_UTR_variant │\n",
       "│       ┆           ┆     ┆     ┆   ┆                     ┆       ┆          ┆ _3                  │\n",
       "│ 1     ┆ 112956192 ┆ C   ┆ T   ┆ … ┆ 5_prime_UTR_variant ┆ true  ┆ 3        ┆ 5_prime_UTR_variant │\n",
       "│       ┆           ┆     ┆     ┆   ┆                     ┆       ┆          ┆ _5                  │\n",
       "│ 1     ┆ 155301478 ┆ C   ┆ G   ┆ … ┆ PLS                 ┆ true  ┆ 39       ┆ PLS_2               │\n",
       "│ 1     ┆ 160032009 ┆ G   ┆ C   ┆ … ┆ PLS                 ┆ true  ┆ 18       ┆ PLS_3               │\n",
       "│ …     ┆ …         ┆ …   ┆ …   ┆ … ┆ …                   ┆ …     ┆ …        ┆ …                   │\n",
       "│ X     ┆ 139530730 ┆ G   ┆ A   ┆ … ┆ upstream_gene_varia ┆ true  ┆ 8        ┆ upstream_gene_varia │\n",
       "│       ┆           ┆     ┆     ┆   ┆ nt                  ┆       ┆          ┆ nt_17               │\n",
       "│ X     ┆ 139530731 ┆ A   ┆ T   ┆ … ┆ upstream_gene_varia ┆ true  ┆ 7        ┆ upstream_gene_varia │\n",
       "│       ┆           ┆     ┆     ┆   ┆ nt                  ┆       ┆          ┆ nt_19               │\n",
       "│ X     ┆ 139530743 ┆ T   ┆ C   ┆ … ┆ 5_prime_UTR_variant ┆ true  ┆ 3        ┆ 5_prime_UTR_variant │\n",
       "│       ┆           ┆     ┆     ┆   ┆                     ┆       ┆          ┆ _107                │\n",
       "│ X     ┆ 139530748 ┆ A   ┆ G   ┆ … ┆ 5_prime_UTR_variant ┆ true  ┆ 8        ┆ 5_prime_UTR_variant │\n",
       "│       ┆           ┆     ┆     ┆   ┆                     ┆       ┆          ┆ _110                │\n",
       "│ X     ┆ 153971810 ┆ A   ┆ G   ┆ … ┆ 5_prime_UTR_variant ┆ true  ┆ 7        ┆ 5_prime_UTR_variant │\n",
       "│       ┆           ┆     ┆     ┆   ┆                     ┆       ┆          ┆ _100                │\n",
       "└───────┴───────────┴─────┴─────┴───┴─────────────────────┴───────┴──────────┴─────────────────────┘"
      ]
     },
     "execution_count": 39,
     "metadata": {},
     "output_type": "execute_result"
    }
   ],
   "source": [
    "x = V.join(traitgym, how=\"inner\", on=COORDINATES)  # dropping too many, seems random though, no obvious pattern\n",
    "x"
   ]
  },
  {
   "cell_type": "code",
   "execution_count": 41,
   "id": "58f1e266-e80f-4cd6-8348-cd56ea2972b2",
   "metadata": {},
   "outputs": [
    {
     "data": {
      "text/html": [
       "<div><style>\n",
       ".dataframe > thead > tr,\n",
       ".dataframe > tbody > tr {\n",
       "  text-align: right;\n",
       "  white-space: pre-wrap;\n",
       "}\n",
       "</style>\n",
       "<small>shape: (9, 2)</small><table border=\"1\" class=\"dataframe\"><thead><tr><th>consequence</th><th>count</th></tr><tr><td>str</td><td>u32</td></tr></thead><tbody><tr><td>&quot;pELS_flank&quot;</td><td>3</td></tr><tr><td>&quot;5_prime_UTR_variant&quot;</td><td>41</td></tr><tr><td>&quot;dELS&quot;</td><td>9</td></tr><tr><td>&quot;dELS_flank&quot;</td><td>3</td></tr><tr><td>&quot;3_prime_UTR_variant&quot;</td><td>11</td></tr><tr><td>&quot;PLS&quot;</td><td>16</td></tr><tr><td>&quot;upstream_gene_variant&quot;</td><td>5</td></tr><tr><td>&quot;intron_variant&quot;</td><td>1</td></tr><tr><td>&quot;non_coding_transcript_exon_var…</td><td>31</td></tr></tbody></table></div>"
      ],
      "text/plain": [
       "shape: (9, 2)\n",
       "┌─────────────────────────────────┬───────┐\n",
       "│ consequence                     ┆ count │\n",
       "│ ---                             ┆ ---   │\n",
       "│ str                             ┆ u32   │\n",
       "╞═════════════════════════════════╪═══════╡\n",
       "│ pELS_flank                      ┆ 3     │\n",
       "│ 5_prime_UTR_variant             ┆ 41    │\n",
       "│ dELS                            ┆ 9     │\n",
       "│ dELS_flank                      ┆ 3     │\n",
       "│ 3_prime_UTR_variant             ┆ 11    │\n",
       "│ PLS                             ┆ 16    │\n",
       "│ upstream_gene_variant           ┆ 5     │\n",
       "│ intron_variant                  ┆ 1     │\n",
       "│ non_coding_transcript_exon_var… ┆ 31    │\n",
       "└─────────────────────────────────┴───────┘"
      ]
     },
     "execution_count": 41,
     "metadata": {},
     "output_type": "execute_result"
    }
   ],
   "source": [
    "x[\"consequence\"].value_counts()"
   ]
  },
  {
   "cell_type": "code",
   "execution_count": 42,
   "id": "4997533e-a627-4123-830b-41b701b6464b",
   "metadata": {},
   "outputs": [
    {
     "data": {
      "text/html": [
       "<div><style>\n",
       ".dataframe > thead > tr,\n",
       ".dataframe > tbody > tr {\n",
       "  text-align: right;\n",
       "  white-space: pre-wrap;\n",
       "}\n",
       "</style>\n",
       "<small>shape: (218, 9)</small><table border=\"1\" class=\"dataframe\"><thead><tr><th>chrom</th><th>pos</th><th>ref</th><th>alt</th><th>OMIM</th><th>consequence</th><th>label</th><th>tss_dist</th><th>match_group</th></tr><tr><td>str</td><td>i64</td><td>str</td><td>str</td><td>str</td><td>str</td><td>bool</td><td>i64</td><td>str</td></tr></thead><tbody><tr><td>&quot;1&quot;</td><td>7961859</td><td>&quot;C&quot;</td><td>&quot;G&quot;</td><td>&quot;MIM 606324&quot;</td><td>&quot;PLS&quot;</td><td>true</td><td>34</td><td>&quot;PLS_0&quot;</td></tr><tr><td>&quot;1&quot;</td><td>9943502</td><td>&quot;A&quot;</td><td>&quot;T&quot;</td><td>&quot;MIM 608553&quot;</td><td>&quot;5_prime_UTR_variant&quot;</td><td>true</td><td>26</td><td>&quot;5_prime_UTR_variant_0&quot;</td></tr><tr><td>&quot;1&quot;</td><td>9943503</td><td>&quot;C&quot;</td><td>&quot;T&quot;</td><td>&quot;MIM 608553&quot;</td><td>&quot;5_prime_UTR_variant&quot;</td><td>true</td><td>27</td><td>&quot;5_prime_UTR_variant_1&quot;</td></tr><tr><td>&quot;1&quot;</td><td>21509427</td><td>&quot;C&quot;</td><td>&quot;T&quot;</td><td>&quot;MIM 241500&quot;</td><td>&quot;5_prime_UTR_variant&quot;</td><td>true</td><td>0</td><td>&quot;5_prime_UTR_variant_2&quot;</td></tr><tr><td>&quot;1&quot;</td><td>25816825</td><td>&quot;T&quot;</td><td>&quot;C&quot;</td><td>&quot;MIM 602771&quot;</td><td>&quot;3_prime_UTR_variant&quot;</td><td>true</td><td>1814</td><td>&quot;3_prime_UTR_variant_1&quot;</td></tr><tr><td>&hellip;</td><td>&hellip;</td><td>&hellip;</td><td>&hellip;</td><td>&hellip;</td><td>&hellip;</td><td>&hellip;</td><td>&hellip;</td><td>&hellip;</td></tr><tr><td>&quot;X&quot;</td><td>155022770</td><td>&quot;A&quot;</td><td>&quot;G&quot;</td><td>&quot;MIM 306700&quot;</td><td>&quot;PLS&quot;</td><td>true</td><td>46</td><td>&quot;PLS_57&quot;</td></tr><tr><td>&quot;X&quot;</td><td>155022771</td><td>&quot;G&quot;</td><td>&quot;A&quot;</td><td>&quot;MIM 306700&quot;</td><td>&quot;PLS&quot;</td><td>true</td><td>47</td><td>&quot;PLS_62&quot;</td></tr><tr><td>&quot;X&quot;</td><td>155022773</td><td>&quot;A&quot;</td><td>&quot;T&quot;</td><td>&quot;MIM 306700&quot;</td><td>&quot;PLS&quot;</td><td>true</td><td>49</td><td>&quot;PLS_58&quot;</td></tr><tr><td>&quot;X&quot;</td><td>155022807</td><td>&quot;T&quot;</td><td>&quot;C&quot;</td><td>&quot;MIM 306700&quot;</td><td>&quot;PLS&quot;</td><td>true</td><td>83</td><td>&quot;PLS_59&quot;</td></tr><tr><td>&quot;X&quot;</td><td>155022809</td><td>&quot;A&quot;</td><td>&quot;C&quot;</td><td>&quot;MIM 306700&quot;</td><td>&quot;PLS&quot;</td><td>true</td><td>85</td><td>&quot;PLS_60&quot;</td></tr></tbody></table></div>"
      ],
      "text/plain": [
       "shape: (218, 9)\n",
       "┌───────┬───────────┬─────┬─────┬───┬─────────────────────┬───────┬──────────┬─────────────────────┐\n",
       "│ chrom ┆ pos       ┆ ref ┆ alt ┆ … ┆ consequence         ┆ label ┆ tss_dist ┆ match_group         │\n",
       "│ ---   ┆ ---       ┆ --- ┆ --- ┆   ┆ ---                 ┆ ---   ┆ ---      ┆ ---                 │\n",
       "│ str   ┆ i64       ┆ str ┆ str ┆   ┆ str                 ┆ bool  ┆ i64      ┆ str                 │\n",
       "╞═══════╪═══════════╪═════╪═════╪═══╪═════════════════════╪═══════╪══════════╪═════════════════════╡\n",
       "│ 1     ┆ 7961859   ┆ C   ┆ G   ┆ … ┆ PLS                 ┆ true  ┆ 34       ┆ PLS_0               │\n",
       "│ 1     ┆ 9943502   ┆ A   ┆ T   ┆ … ┆ 5_prime_UTR_variant ┆ true  ┆ 26       ┆ 5_prime_UTR_variant │\n",
       "│       ┆           ┆     ┆     ┆   ┆                     ┆       ┆          ┆ _0                  │\n",
       "│ 1     ┆ 9943503   ┆ C   ┆ T   ┆ … ┆ 5_prime_UTR_variant ┆ true  ┆ 27       ┆ 5_prime_UTR_variant │\n",
       "│       ┆           ┆     ┆     ┆   ┆                     ┆       ┆          ┆ _1                  │\n",
       "│ 1     ┆ 21509427  ┆ C   ┆ T   ┆ … ┆ 5_prime_UTR_variant ┆ true  ┆ 0        ┆ 5_prime_UTR_variant │\n",
       "│       ┆           ┆     ┆     ┆   ┆                     ┆       ┆          ┆ _2                  │\n",
       "│ 1     ┆ 25816825  ┆ T   ┆ C   ┆ … ┆ 3_prime_UTR_variant ┆ true  ┆ 1814     ┆ 3_prime_UTR_variant │\n",
       "│       ┆           ┆     ┆     ┆   ┆                     ┆       ┆          ┆ _1                  │\n",
       "│ …     ┆ …         ┆ …   ┆ …   ┆ … ┆ …                   ┆ …     ┆ …        ┆ …                   │\n",
       "│ X     ┆ 155022770 ┆ A   ┆ G   ┆ … ┆ PLS                 ┆ true  ┆ 46       ┆ PLS_57              │\n",
       "│ X     ┆ 155022771 ┆ G   ┆ A   ┆ … ┆ PLS                 ┆ true  ┆ 47       ┆ PLS_62              │\n",
       "│ X     ┆ 155022773 ┆ A   ┆ T   ┆ … ┆ PLS                 ┆ true  ┆ 49       ┆ PLS_58              │\n",
       "│ X     ┆ 155022807 ┆ T   ┆ C   ┆ … ┆ PLS                 ┆ true  ┆ 83       ┆ PLS_59              │\n",
       "│ X     ┆ 155022809 ┆ A   ┆ C   ┆ … ┆ PLS                 ┆ true  ┆ 85       ┆ PLS_60              │\n",
       "└───────┴───────────┴─────┴─────┴───┴─────────────────────┴───────┴──────────┴─────────────────────┘"
      ]
     },
     "execution_count": 42,
     "metadata": {},
     "output_type": "execute_result"
    }
   ],
   "source": [
    "# maybe some are no longer pathogenic according to OMIM?\n",
    "# or maybe, Smedley et al. did their own literature review rather than take them from OMIM\n",
    "# TODO: check if these missing variants are perhaps not in UCSC genome browser OMIM\n",
    "traitgym.join(V, how=\"anti\", on=COORDINATES)"
   ]
  },
  {
   "cell_type": "code",
   "execution_count": null,
   "id": "df4535b5-574a-4d80-8ba5-d9100a8058c8",
   "metadata": {},
   "outputs": [],
   "source": []
  }
 ],
 "metadata": {
  "kernelspec": {
   "display_name": "gpn",
   "language": "python",
   "name": "gpn"
  },
  "language_info": {
   "codemirror_mode": {
    "name": "ipython",
    "version": 3
   },
   "file_extension": ".py",
   "mimetype": "text/x-python",
   "name": "python",
   "nbconvert_exporter": "python",
   "pygments_lexer": "ipython3",
   "version": "3.11.3"
  }
 },
 "nbformat": 4,
 "nbformat_minor": 5
}
