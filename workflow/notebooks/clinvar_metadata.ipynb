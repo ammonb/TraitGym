{
 "cells": [
  {
   "cell_type": "code",
   "execution_count": 1,
   "id": "c3d39fe4-48bb-4c83-afe7-3e03edf37139",
   "metadata": {},
   "outputs": [],
   "source": [
    "import polars as pl"
   ]
  },
  {
   "cell_type": "code",
   "execution_count": 2,
   "id": "a47299cb-af82-407b-b44a-ddebc1c2a278",
   "metadata": {},
   "outputs": [],
   "source": [
    "#!wget https://ftp.ncbi.nlm.nih.gov/pub/clinvar/tab_delimited/submission_summary.txt.gz"
   ]
  },
  {
   "cell_type": "code",
   "execution_count": 8,
   "id": "b09a40a5-46fa-412c-a320-b922d509391d",
   "metadata": {},
   "outputs": [
    {
     "name": "stdout",
     "output_type": "stream",
     "text": [
      "##Overview of interpretation, phenotypes, observations, and methods reported in each current submission \n",
      "##Explanation of the columns in this report\n",
      "#VariationID:                   the identifier assigned by ClinVar and used to build the URL, namely https://ncbi.nlm.nih.gov/clinvar/VariationID\n",
      "#ClinicalSignificance:          the germline classification on this submitted record\n",
      "#DateLastEvaluated:             the last date the classification on this record was evaluated by the submitter\n",
      "#Description:                   an optional free text description comment describing the rationale for the classification\n",
      "#SubmittedPhenotypeInfo:        the name(s) or identifier(s) submitted as the condition for the classification \n",
      "#ReportedPhenotypeInfo:         the MedGen identifier/name combinations that the submitted condition for the classification maps to. 'na' means there is no public identifer in MedGen for the condition.\n",
      "#ReviewStatus:                  the level of review for this submitted record; see http//www.ncbi.nlm.nih.gov/clinvar/docs/variation_report/#review_status\n",
      "#CollectionMethod:              the method by which the submitter collected the data for the classification; see https://www.ncbi.nlm.nih.gov/clinvar/docs/spreadsheet/#collection\n",
      "#OriginCounts:                  the allele origin reported by the submitter and the number of observations for each origin. ‘na’ means that the number of observations was not provided by the submitter.\n",
      "#Submitter:                     the submitter of this record\n",
      "#SCV:                            the accession and current version assigned by ClinVar to this submitted record\n",
      "#SubmittedGeneSymbol:           the gene symbol reported in this submitted record\n",
      "#ExplanationOfInterpretation:   more details if the germline classification (ClinicalSignificance) is 'other' or 'drug response'\n",
      "#SomaticClinicalImpact:         the somatic classification of clinical impact on this submitted record\n",
      "#Oncogenicity:                  the somatic classification of oncogenicity on this submitted record\n",
      "#ContributesToAggregateClassification: indicate if the SCV contributes to the aggregate classification\n",
      "\n",
      "gzip: stdout: Broken pipe\n"
     ]
    }
   ],
   "source": [
    "!zcat submission_summary.txt.gz | head -n 18"
   ]
  },
  {
   "cell_type": "code",
   "execution_count": 47,
   "id": "53b97529-4ab4-485b-828e-ab57e02df839",
   "metadata": {},
   "outputs": [
    {
     "data": {
      "text/html": [
       "<div><style>\n",
       ".dataframe > thead > tr,\n",
       ".dataframe > tbody > tr {\n",
       "  text-align: right;\n",
       "  white-space: pre-wrap;\n",
       "}\n",
       "</style>\n",
       "<small>shape: (5_399_159, 5)</small><table border=\"1\" class=\"dataframe\"><thead><tr><th>#VariationID</th><th>ClinicalSignificance</th><th>ReportedPhenotypeInfo</th><th>CollectionMethod</th><th>Submitter</th></tr><tr><td>i64</td><td>str</td><td>str</td><td>str</td><td>str</td></tr></thead><tbody><tr><td>2</td><td>&quot;Pathogenic&quot;</td><td>&quot;C3150901:Hereditary spastic pa…</td><td>&quot;clinical testing&quot;</td><td>&quot;Paris Brain Institute, Inserm …</td></tr><tr><td>2</td><td>&quot;Pathogenic&quot;</td><td>&quot;C3661900:not provided&quot;</td><td>&quot;clinical testing&quot;</td><td>&quot;Athena Diagnostics&quot;</td></tr><tr><td>2</td><td>&quot;Pathogenic&quot;</td><td>&quot;C3150901:Hereditary spastic pa…</td><td>&quot;literature only&quot;</td><td>&quot;OMIM&quot;</td></tr><tr><td>2</td><td>&quot;Likely pathogenic&quot;</td><td>&quot;na:Macular dystrophy with or w…</td><td>&quot;research&quot;</td><td>&quot;Ophthalmic Genetics Group, Ins…</td></tr><tr><td>3</td><td>&quot;Pathogenic&quot;</td><td>&quot;C3150901:Hereditary spastic pa…</td><td>&quot;literature only&quot;</td><td>&quot;OMIM&quot;</td></tr><tr><td>&hellip;</td><td>&hellip;</td><td>&hellip;</td><td>&hellip;</td><td>&hellip;</td></tr><tr><td>3900693</td><td>&quot;Pathogenic&quot;</td><td>&quot;na:GUILLOUET-GORDON SYNDROME&quot;</td><td>&quot;literature only&quot;</td><td>&quot;OMIM&quot;</td></tr><tr><td>3900694</td><td>&quot;Pathogenic&quot;</td><td>&quot;na:GUILLOUET-GORDON SYNDROME&quot;</td><td>&quot;literature only&quot;</td><td>&quot;OMIM&quot;</td></tr><tr><td>3900695</td><td>&quot;Pathogenic&quot;</td><td>&quot;na:GUILLOUET-GORDON SYNDROME&quot;</td><td>&quot;literature only&quot;</td><td>&quot;OMIM&quot;</td></tr><tr><td>3900696</td><td>&quot;Pathogenic&quot;</td><td>&quot;na:GUILLOUET-GORDON SYNDROME&quot;</td><td>&quot;literature only&quot;</td><td>&quot;OMIM&quot;</td></tr><tr><td>3900697</td><td>&quot;Pathogenic&quot;</td><td>&quot;na:GUILLOUET-GORDON SYNDROME&quot;</td><td>&quot;literature only&quot;</td><td>&quot;OMIM&quot;</td></tr></tbody></table></div>"
      ],
      "text/plain": [
       "shape: (5_399_159, 5)\n",
       "┌──────────────┬─────────────────────┬─────────────────────┬──────────────────┬────────────────────┐\n",
       "│ #VariationID ┆ ClinicalSignificanc ┆ ReportedPhenotypeIn ┆ CollectionMethod ┆ Submitter          │\n",
       "│ ---          ┆ e                   ┆ fo                  ┆ ---              ┆ ---                │\n",
       "│ i64          ┆ ---                 ┆ ---                 ┆ str              ┆ str                │\n",
       "│              ┆ str                 ┆ str                 ┆                  ┆                    │\n",
       "╞══════════════╪═════════════════════╪═════════════════════╪══════════════════╪════════════════════╡\n",
       "│ 2            ┆ Pathogenic          ┆ C3150901:Hereditary ┆ clinical testing ┆ Paris Brain        │\n",
       "│              ┆                     ┆ spastic pa…         ┆                  ┆ Institute, Inserm  │\n",
       "│              ┆                     ┆                     ┆                  ┆ …                  │\n",
       "│ 2            ┆ Pathogenic          ┆ C3661900:not        ┆ clinical testing ┆ Athena Diagnostics │\n",
       "│              ┆                     ┆ provided            ┆                  ┆                    │\n",
       "│ 2            ┆ Pathogenic          ┆ C3150901:Hereditary ┆ literature only  ┆ OMIM               │\n",
       "│              ┆                     ┆ spastic pa…         ┆                  ┆                    │\n",
       "│ 2            ┆ Likely pathogenic   ┆ na:Macular          ┆ research         ┆ Ophthalmic         │\n",
       "│              ┆                     ┆ dystrophy with or   ┆                  ┆ Genetics Group,    │\n",
       "│              ┆                     ┆ w…                  ┆                  ┆ Ins…               │\n",
       "│ 3            ┆ Pathogenic          ┆ C3150901:Hereditary ┆ literature only  ┆ OMIM               │\n",
       "│              ┆                     ┆ spastic pa…         ┆                  ┆                    │\n",
       "│ …            ┆ …                   ┆ …                   ┆ …                ┆ …                  │\n",
       "│ 3900693      ┆ Pathogenic          ┆ na:GUILLOUET-GORDON ┆ literature only  ┆ OMIM               │\n",
       "│              ┆                     ┆ SYNDROME            ┆                  ┆                    │\n",
       "│ 3900694      ┆ Pathogenic          ┆ na:GUILLOUET-GORDON ┆ literature only  ┆ OMIM               │\n",
       "│              ┆                     ┆ SYNDROME            ┆                  ┆                    │\n",
       "│ 3900695      ┆ Pathogenic          ┆ na:GUILLOUET-GORDON ┆ literature only  ┆ OMIM               │\n",
       "│              ┆                     ┆ SYNDROME            ┆                  ┆                    │\n",
       "│ 3900696      ┆ Pathogenic          ┆ na:GUILLOUET-GORDON ┆ literature only  ┆ OMIM               │\n",
       "│              ┆                     ┆ SYNDROME            ┆                  ┆                    │\n",
       "│ 3900697      ┆ Pathogenic          ┆ na:GUILLOUET-GORDON ┆ literature only  ┆ OMIM               │\n",
       "│              ┆                     ┆ SYNDROME            ┆                  ┆                    │\n",
       "└──────────────┴─────────────────────┴─────────────────────┴──────────────────┴────────────────────┘"
      ]
     },
     "execution_count": 47,
     "metadata": {},
     "output_type": "execute_result"
    }
   ],
   "source": [
    "df = pl.read_csv(\n",
    "    \"submission_summary.txt.gz\", separator=\"\\t\", skip_rows=18,\n",
    "    columns=[\n",
    "        \"#VariationID\",\n",
    "        \"ClinicalSignificance\",\n",
    "        \"ReportedPhenotypeInfo\",\n",
    "        \"CollectionMethod\",\n",
    "        \"Submitter\",\n",
    "    ]\n",
    ")\n",
    "df"
   ]
  },
  {
   "cell_type": "code",
   "execution_count": 48,
   "id": "d9f77871-4b62-437d-ab43-cb43bf7b2964",
   "metadata": {},
   "outputs": [
    {
     "data": {
      "text/html": [
       "<div><style>\n",
       ".dataframe > thead > tr,\n",
       ".dataframe > tbody > tr {\n",
       "  text-align: right;\n",
       "  white-space: pre-wrap;\n",
       "}\n",
       "</style>\n",
       "<small>shape: (36_803, 5)</small><table border=\"1\" class=\"dataframe\"><thead><tr><th>#VariationID</th><th>ClinicalSignificance</th><th>ReportedPhenotypeInfo</th><th>CollectionMethod</th><th>Submitter</th></tr><tr><td>i64</td><td>str</td><td>str</td><td>str</td><td>str</td></tr></thead><tbody><tr><td>2</td><td>&quot;Pathogenic&quot;</td><td>&quot;C3150901:Hereditary spastic pa…</td><td>&quot;literature only&quot;</td><td>&quot;OMIM&quot;</td></tr><tr><td>3</td><td>&quot;Pathogenic&quot;</td><td>&quot;C3150901:Hereditary spastic pa…</td><td>&quot;literature only&quot;</td><td>&quot;OMIM&quot;</td></tr><tr><td>4</td><td>&quot;Uncertain significance&quot;</td><td>&quot;C4551772:Galloway-Mowat syndro…</td><td>&quot;literature only&quot;</td><td>&quot;OMIM&quot;</td></tr><tr><td>5</td><td>&quot;Pathogenic&quot;</td><td>&quot;C4748791:Mitochondrial complex…</td><td>&quot;literature only&quot;</td><td>&quot;OMIM&quot;</td></tr><tr><td>6</td><td>&quot;Pathogenic&quot;</td><td>&quot;C4748791:Mitochondrial complex…</td><td>&quot;literature only&quot;</td><td>&quot;OMIM&quot;</td></tr><tr><td>&hellip;</td><td>&hellip;</td><td>&hellip;</td><td>&hellip;</td><td>&hellip;</td></tr><tr><td>3900693</td><td>&quot;Pathogenic&quot;</td><td>&quot;na:GUILLOUET-GORDON SYNDROME&quot;</td><td>&quot;literature only&quot;</td><td>&quot;OMIM&quot;</td></tr><tr><td>3900694</td><td>&quot;Pathogenic&quot;</td><td>&quot;na:GUILLOUET-GORDON SYNDROME&quot;</td><td>&quot;literature only&quot;</td><td>&quot;OMIM&quot;</td></tr><tr><td>3900695</td><td>&quot;Pathogenic&quot;</td><td>&quot;na:GUILLOUET-GORDON SYNDROME&quot;</td><td>&quot;literature only&quot;</td><td>&quot;OMIM&quot;</td></tr><tr><td>3900696</td><td>&quot;Pathogenic&quot;</td><td>&quot;na:GUILLOUET-GORDON SYNDROME&quot;</td><td>&quot;literature only&quot;</td><td>&quot;OMIM&quot;</td></tr><tr><td>3900697</td><td>&quot;Pathogenic&quot;</td><td>&quot;na:GUILLOUET-GORDON SYNDROME&quot;</td><td>&quot;literature only&quot;</td><td>&quot;OMIM&quot;</td></tr></tbody></table></div>"
      ],
      "text/plain": [
       "shape: (36_803, 5)\n",
       "┌──────────────┬────────────────────────┬───────────────────────────┬──────────────────┬───────────┐\n",
       "│ #VariationID ┆ ClinicalSignificance   ┆ ReportedPhenotypeInfo     ┆ CollectionMethod ┆ Submitter │\n",
       "│ ---          ┆ ---                    ┆ ---                       ┆ ---              ┆ ---       │\n",
       "│ i64          ┆ str                    ┆ str                       ┆ str              ┆ str       │\n",
       "╞══════════════╪════════════════════════╪═══════════════════════════╪══════════════════╪═══════════╡\n",
       "│ 2            ┆ Pathogenic             ┆ C3150901:Hereditary       ┆ literature only  ┆ OMIM      │\n",
       "│              ┆                        ┆ spastic pa…               ┆                  ┆           │\n",
       "│ 3            ┆ Pathogenic             ┆ C3150901:Hereditary       ┆ literature only  ┆ OMIM      │\n",
       "│              ┆                        ┆ spastic pa…               ┆                  ┆           │\n",
       "│ 4            ┆ Uncertain significance ┆ C4551772:Galloway-Mowat   ┆ literature only  ┆ OMIM      │\n",
       "│              ┆                        ┆ syndro…                   ┆                  ┆           │\n",
       "│ 5            ┆ Pathogenic             ┆ C4748791:Mitochondrial    ┆ literature only  ┆ OMIM      │\n",
       "│              ┆                        ┆ complex…                  ┆                  ┆           │\n",
       "│ 6            ┆ Pathogenic             ┆ C4748791:Mitochondrial    ┆ literature only  ┆ OMIM      │\n",
       "│              ┆                        ┆ complex…                  ┆                  ┆           │\n",
       "│ …            ┆ …                      ┆ …                         ┆ …                ┆ …         │\n",
       "│ 3900693      ┆ Pathogenic             ┆ na:GUILLOUET-GORDON       ┆ literature only  ┆ OMIM      │\n",
       "│              ┆                        ┆ SYNDROME                  ┆                  ┆           │\n",
       "│ 3900694      ┆ Pathogenic             ┆ na:GUILLOUET-GORDON       ┆ literature only  ┆ OMIM      │\n",
       "│              ┆                        ┆ SYNDROME                  ┆                  ┆           │\n",
       "│ 3900695      ┆ Pathogenic             ┆ na:GUILLOUET-GORDON       ┆ literature only  ┆ OMIM      │\n",
       "│              ┆                        ┆ SYNDROME                  ┆                  ┆           │\n",
       "│ 3900696      ┆ Pathogenic             ┆ na:GUILLOUET-GORDON       ┆ literature only  ┆ OMIM      │\n",
       "│              ┆                        ┆ SYNDROME                  ┆                  ┆           │\n",
       "│ 3900697      ┆ Pathogenic             ┆ na:GUILLOUET-GORDON       ┆ literature only  ┆ OMIM      │\n",
       "│              ┆                        ┆ SYNDROME                  ┆                  ┆           │\n",
       "└──────────────┴────────────────────────┴───────────────────────────┴──────────────────┴───────────┘"
      ]
     },
     "execution_count": 48,
     "metadata": {},
     "output_type": "execute_result"
    }
   ],
   "source": [
    "df = df.filter(Submitter=\"OMIM\")\n",
    "df"
   ]
  },
  {
   "cell_type": "code",
   "execution_count": 49,
   "id": "dabcfc49-203f-4540-9cad-e96d3c1797cb",
   "metadata": {},
   "outputs": [
    {
     "data": {
      "text/html": [
       "<div><style>\n",
       ".dataframe > thead > tr,\n",
       ".dataframe > tbody > tr {\n",
       "  text-align: right;\n",
       "  white-space: pre-wrap;\n",
       "}\n",
       "</style>\n",
       "<small>shape: (36_148, 5)</small><table border=\"1\" class=\"dataframe\"><thead><tr><th>#VariationID</th><th>ClinicalSignificance</th><th>ReportedPhenotypeInfo</th><th>CollectionMethod</th><th>Submitter</th></tr><tr><td>i64</td><td>str</td><td>str</td><td>str</td><td>str</td></tr></thead><tbody><tr><td>2</td><td>&quot;Pathogenic&quot;</td><td>&quot;C3150901:Hereditary spastic pa…</td><td>&quot;literature only&quot;</td><td>&quot;OMIM&quot;</td></tr><tr><td>3</td><td>&quot;Pathogenic&quot;</td><td>&quot;C3150901:Hereditary spastic pa…</td><td>&quot;literature only&quot;</td><td>&quot;OMIM&quot;</td></tr><tr><td>4</td><td>&quot;Uncertain significance&quot;</td><td>&quot;C4551772:Galloway-Mowat syndro…</td><td>&quot;literature only&quot;</td><td>&quot;OMIM&quot;</td></tr><tr><td>5</td><td>&quot;Pathogenic&quot;</td><td>&quot;C4748791:Mitochondrial complex…</td><td>&quot;literature only&quot;</td><td>&quot;OMIM&quot;</td></tr><tr><td>6</td><td>&quot;Pathogenic&quot;</td><td>&quot;C4748791:Mitochondrial complex…</td><td>&quot;literature only&quot;</td><td>&quot;OMIM&quot;</td></tr><tr><td>&hellip;</td><td>&hellip;</td><td>&hellip;</td><td>&hellip;</td><td>&hellip;</td></tr><tr><td>3900693</td><td>&quot;Pathogenic&quot;</td><td>&quot;na:GUILLOUET-GORDON SYNDROME&quot;</td><td>&quot;literature only&quot;</td><td>&quot;OMIM&quot;</td></tr><tr><td>3900694</td><td>&quot;Pathogenic&quot;</td><td>&quot;na:GUILLOUET-GORDON SYNDROME&quot;</td><td>&quot;literature only&quot;</td><td>&quot;OMIM&quot;</td></tr><tr><td>3900695</td><td>&quot;Pathogenic&quot;</td><td>&quot;na:GUILLOUET-GORDON SYNDROME&quot;</td><td>&quot;literature only&quot;</td><td>&quot;OMIM&quot;</td></tr><tr><td>3900696</td><td>&quot;Pathogenic&quot;</td><td>&quot;na:GUILLOUET-GORDON SYNDROME&quot;</td><td>&quot;literature only&quot;</td><td>&quot;OMIM&quot;</td></tr><tr><td>3900697</td><td>&quot;Pathogenic&quot;</td><td>&quot;na:GUILLOUET-GORDON SYNDROME&quot;</td><td>&quot;literature only&quot;</td><td>&quot;OMIM&quot;</td></tr></tbody></table></div>"
      ],
      "text/plain": [
       "shape: (36_148, 5)\n",
       "┌──────────────┬────────────────────────┬───────────────────────────┬──────────────────┬───────────┐\n",
       "│ #VariationID ┆ ClinicalSignificance   ┆ ReportedPhenotypeInfo     ┆ CollectionMethod ┆ Submitter │\n",
       "│ ---          ┆ ---                    ┆ ---                       ┆ ---              ┆ ---       │\n",
       "│ i64          ┆ str                    ┆ str                       ┆ str              ┆ str       │\n",
       "╞══════════════╪════════════════════════╪═══════════════════════════╪══════════════════╪═══════════╡\n",
       "│ 2            ┆ Pathogenic             ┆ C3150901:Hereditary       ┆ literature only  ┆ OMIM      │\n",
       "│              ┆                        ┆ spastic pa…               ┆                  ┆           │\n",
       "│ 3            ┆ Pathogenic             ┆ C3150901:Hereditary       ┆ literature only  ┆ OMIM      │\n",
       "│              ┆                        ┆ spastic pa…               ┆                  ┆           │\n",
       "│ 4            ┆ Uncertain significance ┆ C4551772:Galloway-Mowat   ┆ literature only  ┆ OMIM      │\n",
       "│              ┆                        ┆ syndro…                   ┆                  ┆           │\n",
       "│ 5            ┆ Pathogenic             ┆ C4748791:Mitochondrial    ┆ literature only  ┆ OMIM      │\n",
       "│              ┆                        ┆ complex…                  ┆                  ┆           │\n",
       "│ 6            ┆ Pathogenic             ┆ C4748791:Mitochondrial    ┆ literature only  ┆ OMIM      │\n",
       "│              ┆                        ┆ complex…                  ┆                  ┆           │\n",
       "│ …            ┆ …                      ┆ …                         ┆ …                ┆ …         │\n",
       "│ 3900693      ┆ Pathogenic             ┆ na:GUILLOUET-GORDON       ┆ literature only  ┆ OMIM      │\n",
       "│              ┆                        ┆ SYNDROME                  ┆                  ┆           │\n",
       "│ 3900694      ┆ Pathogenic             ┆ na:GUILLOUET-GORDON       ┆ literature only  ┆ OMIM      │\n",
       "│              ┆                        ┆ SYNDROME                  ┆                  ┆           │\n",
       "│ 3900695      ┆ Pathogenic             ┆ na:GUILLOUET-GORDON       ┆ literature only  ┆ OMIM      │\n",
       "│              ┆                        ┆ SYNDROME                  ┆                  ┆           │\n",
       "│ 3900696      ┆ Pathogenic             ┆ na:GUILLOUET-GORDON       ┆ literature only  ┆ OMIM      │\n",
       "│              ┆                        ┆ SYNDROME                  ┆                  ┆           │\n",
       "│ 3900697      ┆ Pathogenic             ┆ na:GUILLOUET-GORDON       ┆ literature only  ┆ OMIM      │\n",
       "│              ┆                        ┆ SYNDROME                  ┆                  ┆           │\n",
       "└──────────────┴────────────────────────┴───────────────────────────┴──────────────────┴───────────┘"
      ]
     },
     "execution_count": 49,
     "metadata": {},
     "output_type": "execute_result"
    }
   ],
   "source": [
    "unambiguous_ids = df.group_by(\"#VariationID\").n_unique().filter(ClinicalSignificance=1)[\"#VariationID\"]\n",
    "df = df.filter(pl.col(\"#VariationID\").is_in(unambiguous_ids))\n",
    "df"
   ]
  },
  {
   "cell_type": "code",
   "execution_count": 50,
   "id": "99a8b8b0-49a3-4671-af89-0772d3a2ea73",
   "metadata": {},
   "outputs": [
    {
     "data": {
      "text/html": [
       "<div><style>\n",
       ".dataframe > thead > tr,\n",
       ".dataframe > tbody > tr {\n",
       "  text-align: right;\n",
       "  white-space: pre-wrap;\n",
       "}\n",
       "</style>\n",
       "<small>shape: (32_910, 5)</small><table border=\"1\" class=\"dataframe\"><thead><tr><th>#VariationID</th><th>ClinicalSignificance</th><th>ReportedPhenotypeInfo</th><th>CollectionMethod</th><th>Submitter</th></tr><tr><td>i64</td><td>str</td><td>str</td><td>str</td><td>str</td></tr></thead><tbody><tr><td>2</td><td>&quot;Pathogenic&quot;</td><td>&quot;C3150901:Hereditary spastic pa…</td><td>&quot;literature only&quot;</td><td>&quot;OMIM&quot;</td></tr><tr><td>3</td><td>&quot;Pathogenic&quot;</td><td>&quot;C3150901:Hereditary spastic pa…</td><td>&quot;literature only&quot;</td><td>&quot;OMIM&quot;</td></tr><tr><td>5</td><td>&quot;Pathogenic&quot;</td><td>&quot;C4748791:Mitochondrial complex…</td><td>&quot;literature only&quot;</td><td>&quot;OMIM&quot;</td></tr><tr><td>6</td><td>&quot;Pathogenic&quot;</td><td>&quot;C4748791:Mitochondrial complex…</td><td>&quot;literature only&quot;</td><td>&quot;OMIM&quot;</td></tr><tr><td>7</td><td>&quot;Pathogenic&quot;</td><td>&quot;C4748792:Mitochondrial complex…</td><td>&quot;literature only&quot;</td><td>&quot;OMIM&quot;</td></tr><tr><td>&hellip;</td><td>&hellip;</td><td>&hellip;</td><td>&hellip;</td><td>&hellip;</td></tr><tr><td>3900693</td><td>&quot;Pathogenic&quot;</td><td>&quot;na:GUILLOUET-GORDON SYNDROME&quot;</td><td>&quot;literature only&quot;</td><td>&quot;OMIM&quot;</td></tr><tr><td>3900694</td><td>&quot;Pathogenic&quot;</td><td>&quot;na:GUILLOUET-GORDON SYNDROME&quot;</td><td>&quot;literature only&quot;</td><td>&quot;OMIM&quot;</td></tr><tr><td>3900695</td><td>&quot;Pathogenic&quot;</td><td>&quot;na:GUILLOUET-GORDON SYNDROME&quot;</td><td>&quot;literature only&quot;</td><td>&quot;OMIM&quot;</td></tr><tr><td>3900696</td><td>&quot;Pathogenic&quot;</td><td>&quot;na:GUILLOUET-GORDON SYNDROME&quot;</td><td>&quot;literature only&quot;</td><td>&quot;OMIM&quot;</td></tr><tr><td>3900697</td><td>&quot;Pathogenic&quot;</td><td>&quot;na:GUILLOUET-GORDON SYNDROME&quot;</td><td>&quot;literature only&quot;</td><td>&quot;OMIM&quot;</td></tr></tbody></table></div>"
      ],
      "text/plain": [
       "shape: (32_910, 5)\n",
       "┌──────────────┬──────────────────────┬─────────────────────────────┬──────────────────┬───────────┐\n",
       "│ #VariationID ┆ ClinicalSignificance ┆ ReportedPhenotypeInfo       ┆ CollectionMethod ┆ Submitter │\n",
       "│ ---          ┆ ---                  ┆ ---                         ┆ ---              ┆ ---       │\n",
       "│ i64          ┆ str                  ┆ str                         ┆ str              ┆ str       │\n",
       "╞══════════════╪══════════════════════╪═════════════════════════════╪══════════════════╪═══════════╡\n",
       "│ 2            ┆ Pathogenic           ┆ C3150901:Hereditary spastic ┆ literature only  ┆ OMIM      │\n",
       "│              ┆                      ┆ pa…                         ┆                  ┆           │\n",
       "│ 3            ┆ Pathogenic           ┆ C3150901:Hereditary spastic ┆ literature only  ┆ OMIM      │\n",
       "│              ┆                      ┆ pa…                         ┆                  ┆           │\n",
       "│ 5            ┆ Pathogenic           ┆ C4748791:Mitochondrial      ┆ literature only  ┆ OMIM      │\n",
       "│              ┆                      ┆ complex…                    ┆                  ┆           │\n",
       "│ 6            ┆ Pathogenic           ┆ C4748791:Mitochondrial      ┆ literature only  ┆ OMIM      │\n",
       "│              ┆                      ┆ complex…                    ┆                  ┆           │\n",
       "│ 7            ┆ Pathogenic           ┆ C4748792:Mitochondrial      ┆ literature only  ┆ OMIM      │\n",
       "│              ┆                      ┆ complex…                    ┆                  ┆           │\n",
       "│ …            ┆ …                    ┆ …                           ┆ …                ┆ …         │\n",
       "│ 3900693      ┆ Pathogenic           ┆ na:GUILLOUET-GORDON         ┆ literature only  ┆ OMIM      │\n",
       "│              ┆                      ┆ SYNDROME                    ┆                  ┆           │\n",
       "│ 3900694      ┆ Pathogenic           ┆ na:GUILLOUET-GORDON         ┆ literature only  ┆ OMIM      │\n",
       "│              ┆                      ┆ SYNDROME                    ┆                  ┆           │\n",
       "│ 3900695      ┆ Pathogenic           ┆ na:GUILLOUET-GORDON         ┆ literature only  ┆ OMIM      │\n",
       "│              ┆                      ┆ SYNDROME                    ┆                  ┆           │\n",
       "│ 3900696      ┆ Pathogenic           ┆ na:GUILLOUET-GORDON         ┆ literature only  ┆ OMIM      │\n",
       "│              ┆                      ┆ SYNDROME                    ┆                  ┆           │\n",
       "│ 3900697      ┆ Pathogenic           ┆ na:GUILLOUET-GORDON         ┆ literature only  ┆ OMIM      │\n",
       "│              ┆                      ┆ SYNDROME                    ┆                  ┆           │\n",
       "└──────────────┴──────────────────────┴─────────────────────────────┴──────────────────┴───────────┘"
      ]
     },
     "execution_count": 50,
     "metadata": {},
     "output_type": "execute_result"
    }
   ],
   "source": [
    "df = df.filter(pl.col(\"ClinicalSignificance\") == \"Pathogenic\")\n",
    "df"
   ]
  },
  {
   "cell_type": "code",
   "execution_count": 13,
   "id": "19926eb4-384c-446f-a815-650d07f1bd84",
   "metadata": {},
   "outputs": [],
   "source": [
    "# TODO: should check that the ClinicalSignificance is the one from OMIM, not the aggregate one from ClinVar\n",
    "# yes, I think it's working"
   ]
  },
  {
   "cell_type": "code",
   "execution_count": 51,
   "id": "33209854-7e33-432c-8f8a-4e0bd9f1ac36",
   "metadata": {},
   "outputs": [
    {
     "data": {
      "text/html": [
       "<div><style>\n",
       ".dataframe > thead > tr,\n",
       ".dataframe > tbody > tr {\n",
       "  text-align: right;\n",
       "  white-space: pre-wrap;\n",
       "}\n",
       "</style>\n",
       "<small>shape: (1, 5)</small><table border=\"1\" class=\"dataframe\"><thead><tr><th>#VariationID</th><th>ClinicalSignificance</th><th>ReportedPhenotypeInfo</th><th>CollectionMethod</th><th>Submitter</th></tr><tr><td>i64</td><td>str</td><td>str</td><td>str</td><td>str</td></tr></thead><tbody><tr><td>4907</td><td>&quot;Pathogenic&quot;</td><td>&quot;C1868114:Polydactyly of a trip…</td><td>&quot;literature only&quot;</td><td>&quot;OMIM&quot;</td></tr></tbody></table></div>"
      ],
      "text/plain": [
       "shape: (1, 5)\n",
       "┌──────────────┬──────────────────────┬─────────────────────────────┬──────────────────┬───────────┐\n",
       "│ #VariationID ┆ ClinicalSignificance ┆ ReportedPhenotypeInfo       ┆ CollectionMethod ┆ Submitter │\n",
       "│ ---          ┆ ---                  ┆ ---                         ┆ ---              ┆ ---       │\n",
       "│ i64          ┆ str                  ┆ str                         ┆ str              ┆ str       │\n",
       "╞══════════════╪══════════════════════╪═════════════════════════════╪══════════════════╪═══════════╡\n",
       "│ 4907         ┆ Pathogenic           ┆ C1868114:Polydactyly of a   ┆ literature only  ┆ OMIM      │\n",
       "│              ┆                      ┆ trip…                       ┆                  ┆           │\n",
       "└──────────────┴──────────────────────┴─────────────────────────────┴──────────────────┴───────────┘"
      ]
     },
     "execution_count": 51,
     "metadata": {},
     "output_type": "execute_result"
    }
   ],
   "source": [
    "df.filter(pl.col(\"#VariationID\") == 4907)"
   ]
  },
  {
   "cell_type": "code",
   "execution_count": 52,
   "id": "8107d1d9-e5fe-4e94-a23e-1aece8ce0b42",
   "metadata": {},
   "outputs": [
    {
     "data": {
      "text/html": [
       "<div><style>\n",
       ".dataframe > thead > tr,\n",
       ".dataframe > tbody > tr {\n",
       "  text-align: right;\n",
       "  white-space: pre-wrap;\n",
       "}\n",
       "</style>\n",
       "<small>shape: (2, 5)</small><table border=\"1\" class=\"dataframe\"><thead><tr><th>#VariationID</th><th>ClinicalSignificance</th><th>ReportedPhenotypeInfo</th><th>CollectionMethod</th><th>Submitter</th></tr><tr><td>i64</td><td>str</td><td>str</td><td>str</td><td>str</td></tr></thead><tbody><tr><td>3370406</td><td>&quot;Pathogenic&quot;</td><td>&quot;C5975503:Spermatogenic failure…</td><td>&quot;literature only&quot;</td><td>&quot;OMIM&quot;</td></tr><tr><td>3370406</td><td>&quot;Pathogenic&quot;</td><td>&quot;C5975510:Premature ovarian fai…</td><td>&quot;literature only&quot;</td><td>&quot;OMIM&quot;</td></tr></tbody></table></div>"
      ],
      "text/plain": [
       "shape: (2, 5)\n",
       "┌──────────────┬──────────────────────┬─────────────────────────────┬──────────────────┬───────────┐\n",
       "│ #VariationID ┆ ClinicalSignificance ┆ ReportedPhenotypeInfo       ┆ CollectionMethod ┆ Submitter │\n",
       "│ ---          ┆ ---                  ┆ ---                         ┆ ---              ┆ ---       │\n",
       "│ i64          ┆ str                  ┆ str                         ┆ str              ┆ str       │\n",
       "╞══════════════╪══════════════════════╪═════════════════════════════╪══════════════════╪═══════════╡\n",
       "│ 3370406      ┆ Pathogenic           ┆ C5975503:Spermatogenic      ┆ literature only  ┆ OMIM      │\n",
       "│              ┆                      ┆ failure…                    ┆                  ┆           │\n",
       "│ 3370406      ┆ Pathogenic           ┆ C5975510:Premature ovarian  ┆ literature only  ┆ OMIM      │\n",
       "│              ┆                      ┆ fai…                        ┆                  ┆           │\n",
       "└──────────────┴──────────────────────┴─────────────────────────────┴──────────────────┴───────────┘"
      ]
     },
     "execution_count": 52,
     "metadata": {},
     "output_type": "execute_result"
    }
   ],
   "source": [
    "df.filter(pl.col(\"#VariationID\") == 3370406)"
   ]
  },
  {
   "cell_type": "code",
   "execution_count": 53,
   "id": "6bdd3610-068d-4745-9017-895d20195111",
   "metadata": {},
   "outputs": [
    {
     "data": {
      "text/html": [
       "<div><style>\n",
       ".dataframe > thead > tr,\n",
       ".dataframe > tbody > tr {\n",
       "  text-align: right;\n",
       "  white-space: pre-wrap;\n",
       "}\n",
       "</style>\n",
       "<small>shape: (1, 2)</small><table border=\"1\" class=\"dataframe\"><thead><tr><th>CollectionMethod</th><th>count</th></tr><tr><td>str</td><td>u32</td></tr></thead><tbody><tr><td>&quot;literature only&quot;</td><td>32910</td></tr></tbody></table></div>"
      ],
      "text/plain": [
       "shape: (1, 2)\n",
       "┌──────────────────┬───────┐\n",
       "│ CollectionMethod ┆ count │\n",
       "│ ---              ┆ ---   │\n",
       "│ str              ┆ u32   │\n",
       "╞══════════════════╪═══════╡\n",
       "│ literature only  ┆ 32910 │\n",
       "└──────────────────┴───────┘"
      ]
     },
     "execution_count": 53,
     "metadata": {},
     "output_type": "execute_result"
    }
   ],
   "source": [
    "df[\"CollectionMethod\"].value_counts()"
   ]
  },
  {
   "cell_type": "code",
   "execution_count": null,
   "id": "783c35a2-4da6-4fd1-8ea0-b7ae7ff902cf",
   "metadata": {},
   "outputs": [],
   "source": [
    "# comma is not good, need an escape character, maybe \"|\""
   ]
  },
  {
   "cell_type": "code",
   "execution_count": 65,
   "id": "0daea2ce-2fab-4b94-bf9c-c458e06d42e3",
   "metadata": {},
   "outputs": [
    {
     "data": {
      "text/html": [
       "<div><style>\n",
       ".dataframe > thead > tr,\n",
       ".dataframe > tbody > tr {\n",
       "  text-align: right;\n",
       "  white-space: pre-wrap;\n",
       "}\n",
       "</style>\n",
       "<small>shape: (0, 5)</small><table border=\"1\" class=\"dataframe\"><thead><tr><th>#VariationID</th><th>ClinicalSignificance</th><th>ReportedPhenotypeInfo</th><th>CollectionMethod</th><th>Submitter</th></tr><tr><td>i64</td><td>str</td><td>str</td><td>str</td><td>str</td></tr></thead><tbody></tbody></table></div>"
      ],
      "text/plain": [
       "shape: (0, 5)\n",
       "┌──────────────┬──────────────────────┬───────────────────────┬──────────────────┬───────────┐\n",
       "│ #VariationID ┆ ClinicalSignificance ┆ ReportedPhenotypeInfo ┆ CollectionMethod ┆ Submitter │\n",
       "│ ---          ┆ ---                  ┆ ---                   ┆ ---              ┆ ---       │\n",
       "│ i64          ┆ str                  ┆ str                   ┆ str              ┆ str       │\n",
       "╞══════════════╪══════════════════════╪═══════════════════════╪══════════════════╪═══════════╡\n",
       "└──────────────┴──────────────────────┴───────────────────────┴──────────────────┴───────────┘"
      ]
     },
     "execution_count": 65,
     "metadata": {},
     "output_type": "execute_result"
    }
   ],
   "source": [
    "df.filter(pl.col(\"ReportedPhenotypeInfo\").str.contains(\"|\", literal=True))"
   ]
  },
  {
   "cell_type": "code",
   "execution_count": 75,
   "id": "2a29c66b-d0d2-481e-a47a-cbe8053e40f9",
   "metadata": {},
   "outputs": [
    {
     "data": {
      "text/html": [
       "<div><style>\n",
       ".dataframe > thead > tr,\n",
       ".dataframe > tbody > tr {\n",
       "  text-align: right;\n",
       "  white-space: pre-wrap;\n",
       "}\n",
       "</style>\n",
       "<small>shape: (31_677, 2)</small><table border=\"1\" class=\"dataframe\"><thead><tr><th>#VariationID</th><th>ReportedPhenotypeInfo</th></tr><tr><td>i64</td><td>str</td></tr></thead><tbody><tr><td>869368</td><td>&quot;C1845543:Syndromic X-linked in…</td></tr><tr><td>3746</td><td>&quot;C0745103:Hypercholesterolemia,…</td></tr><tr><td>14774</td><td>&quot;C1862939:Amyotrophic lateral s…</td></tr><tr><td>6086</td><td>&quot;C0013364:Familial dysautonomia&quot;</td></tr><tr><td>224330</td><td>&quot;C4225180:Even-plus syndrome&quot;</td></tr><tr><td>&hellip;</td><td>&hellip;</td></tr><tr><td>1834</td><td>&quot;C1836517:Senior-Loken syndrome…</td></tr><tr><td>218104</td><td>&quot;C3275447:Ogden syndrome&quot;</td></tr><tr><td>10614</td><td>&quot;C0008533:Hereditary factor IX …</td></tr><tr><td>3346</td><td>&quot;C0268297:3-Oxo-5 alpha-steroid…</td></tr><tr><td>29624</td><td>&quot;C0751083:Duane retraction synd…</td></tr></tbody></table></div>"
      ],
      "text/plain": [
       "shape: (31_677, 2)\n",
       "┌──────────────┬─────────────────────────────────┐\n",
       "│ #VariationID ┆ ReportedPhenotypeInfo           │\n",
       "│ ---          ┆ ---                             │\n",
       "│ i64          ┆ str                             │\n",
       "╞══════════════╪═════════════════════════════════╡\n",
       "│ 869368       ┆ C1845543:Syndromic X-linked in… │\n",
       "│ 3746         ┆ C0745103:Hypercholesterolemia,… │\n",
       "│ 14774        ┆ C1862939:Amyotrophic lateral s… │\n",
       "│ 6086         ┆ C0013364:Familial dysautonomia  │\n",
       "│ 224330       ┆ C4225180:Even-plus syndrome     │\n",
       "│ …            ┆ …                               │\n",
       "│ 1834         ┆ C1836517:Senior-Loken syndrome… │\n",
       "│ 218104       ┆ C3275447:Ogden syndrome         │\n",
       "│ 10614        ┆ C0008533:Hereditary factor IX … │\n",
       "│ 3346         ┆ C0268297:3-Oxo-5 alpha-steroid… │\n",
       "│ 29624        ┆ C0751083:Duane retraction synd… │\n",
       "└──────────────┴─────────────────────────────────┘"
      ]
     },
     "execution_count": 75,
     "metadata": {},
     "output_type": "execute_result"
    }
   ],
   "source": [
    "df = df.group_by(\"#VariationID\").agg(pl.col(\"ReportedPhenotypeInfo\").unique()).with_columns(pl.col(\"ReportedPhenotypeInfo\").list.join(\"|\"))\n",
    "df"
   ]
  },
  {
   "cell_type": "code",
   "execution_count": 76,
   "id": "d7fbdfb3-3b21-4f49-9b4b-812035719a59",
   "metadata": {},
   "outputs": [
    {
     "data": {
      "text/html": [
       "<div><style>\n",
       ".dataframe > thead > tr,\n",
       ".dataframe > tbody > tr {\n",
       "  text-align: right;\n",
       "  white-space: pre-wrap;\n",
       "}\n",
       "</style>\n",
       "<small>shape: (1_062, 2)</small><table border=\"1\" class=\"dataframe\"><thead><tr><th>#VariationID</th><th>ReportedPhenotypeInfo</th></tr><tr><td>i64</td><td>str</td></tr></thead><tbody><tr><td>9641</td><td>&quot;C1328349:NARP syndrome|C327568…</td></tr><tr><td>916034</td><td>&quot;C5394441:46,xx sex reversal 5|…</td></tr><tr><td>7402</td><td>&quot;C2750452:Waardenburg syndrome …</td></tr><tr><td>1385</td><td>&quot;C3150796:Nephronophthisis 11|C…</td></tr><tr><td>17581</td><td>&quot;C0206711:Pilomatrixoma|C020662…</td></tr><tr><td>&hellip;</td><td>&hellip;</td></tr><tr><td>374882</td><td>&quot;C4310634:Dystonia, childhood-o…</td></tr><tr><td>11772</td><td>&quot;C1844696:Oto-palato-digital sy…</td></tr><tr><td>14591</td><td>&quot;C1721007:Pachyonychia congenit…</td></tr><tr><td>9634</td><td>&quot;C1838854:Aminoglycoside-induce…</td></tr><tr><td>12579</td><td>&quot;C0149782:Squamous cell lung ca…</td></tr></tbody></table></div>"
      ],
      "text/plain": [
       "shape: (1_062, 2)\n",
       "┌──────────────┬─────────────────────────────────┐\n",
       "│ #VariationID ┆ ReportedPhenotypeInfo           │\n",
       "│ ---          ┆ ---                             │\n",
       "│ i64          ┆ str                             │\n",
       "╞══════════════╪═════════════════════════════════╡\n",
       "│ 9641         ┆ C1328349:NARP syndrome|C327568… │\n",
       "│ 916034       ┆ C5394441:46,xx sex reversal 5|… │\n",
       "│ 7402         ┆ C2750452:Waardenburg syndrome … │\n",
       "│ 1385         ┆ C3150796:Nephronophthisis 11|C… │\n",
       "│ 17581        ┆ C0206711:Pilomatrixoma|C020662… │\n",
       "│ …            ┆ …                               │\n",
       "│ 374882       ┆ C4310634:Dystonia, childhood-o… │\n",
       "│ 11772        ┆ C1844696:Oto-palato-digital sy… │\n",
       "│ 14591        ┆ C1721007:Pachyonychia congenit… │\n",
       "│ 9634         ┆ C1838854:Aminoglycoside-induce… │\n",
       "│ 12579        ┆ C0149782:Squamous cell lung ca… │\n",
       "└──────────────┴─────────────────────────────────┘"
      ]
     },
     "execution_count": 76,
     "metadata": {},
     "output_type": "execute_result"
    }
   ],
   "source": [
    "df.filter(pl.col(\"ReportedPhenotypeInfo\").str.contains(\"|\", literal=True))"
   ]
  },
  {
   "cell_type": "code",
   "execution_count": null,
   "id": "13da083e-6be2-4e2d-a40b-ab3618d47ce3",
   "metadata": {},
   "outputs": [],
   "source": [
    "# TODO: merge ids with those in the vcf (hopefully there)"
   ]
  }
 ],
 "metadata": {
  "kernelspec": {
   "display_name": "gpn",
   "language": "python",
   "name": "gpn"
  },
  "language_info": {
   "codemirror_mode": {
    "name": "ipython",
    "version": 3
   },
   "file_extension": ".py",
   "mimetype": "text/x-python",
   "name": "python",
   "nbconvert_exporter": "python",
   "pygments_lexer": "ipython3",
   "version": "3.11.3"
  }
 },
 "nbformat": 4,
 "nbformat_minor": 5
}
