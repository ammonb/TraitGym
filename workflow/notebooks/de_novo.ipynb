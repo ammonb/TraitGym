{
 "cells": [
  {
   "cell_type": "code",
   "execution_count": 1,
   "id": "195e86e9-4539-49d6-9914-e8ca5285f1cb",
   "metadata": {},
   "outputs": [],
   "source": [
    "import matplotlib.pyplot as plt\n",
    "import pandas as pd\n",
    "import polars as pl\n",
    "from scipy.stats import fisher_exact\n",
    "from scipy.stats.contingency import odds_ratio\n",
    "from sklearn.metrics import average_precision_score\n",
    "import seaborn as sns\n",
    "from tqdm import tqdm"
   ]
  },
  {
   "cell_type": "code",
   "execution_count": 138,
   "id": "52117eb5-17c4-4970-aaa5-6bc796e2830d",
   "metadata": {},
   "outputs": [
    {
     "data": {
      "text/html": [
       "<div><style>\n",
       ".dataframe > thead > tr,\n",
       ".dataframe > tbody > tr {\n",
       "  text-align: right;\n",
       "  white-space: pre-wrap;\n",
       "}\n",
       "</style>\n",
       "<small>shape: (4_039, 13)</small><table border=\"1\" class=\"dataframe\"><thead><tr><th>label</th><th>chrom</th><th>pos</th><th>ref</th><th>alt</th><th>consequence</th><th>trait</th><th>AF</th><th>GPN-MSA</th><th>CADD</th><th>phyloP-100v</th><th>phyloP-241m</th><th>phastCons-43p</th></tr><tr><td>bool</td><td>str</td><td>i64</td><td>str</td><td>str</td><td>str</td><td>str</td><td>f64</td><td>f32</td><td>f32</td><td>f64</td><td>f64</td><td>f64</td></tr></thead><tbody><tr><td>false</td><td>&quot;21&quot;</td><td>18460729</td><td>&quot;C&quot;</td><td>&quot;A&quot;</td><td>&quot;5_prime_UTR_variant&quot;</td><td>null</td><td>null</td><td>1.75</td><td>0.329983</td><td>0.212</td><td>0.134</td><td>0.029</td></tr><tr><td>false</td><td>&quot;21&quot;</td><td>43954790</td><td>&quot;T&quot;</td><td>&quot;A&quot;</td><td>&quot;5_prime_UTR_variant&quot;</td><td>null</td><td>null</td><td>0.49</td><td>-0.288572</td><td>-0.7</td><td>-2.217</td><td>0.0</td></tr><tr><td>false</td><td>&quot;21&quot;</td><td>43104732</td><td>&quot;A&quot;</td><td>&quot;C&quot;</td><td>&quot;5_prime_UTR_variant&quot;</td><td>null</td><td>null</td><td>1.92</td><td>0.438464</td><td>0.943</td><td>-0.514</td><td>0.0</td></tr><tr><td>false</td><td>&quot;21&quot;</td><td>37365964</td><td>&quot;G&quot;</td><td>&quot;C&quot;</td><td>&quot;5_prime_UTR_variant&quot;</td><td>null</td><td>null</td><td>-0.03</td><td>0.208013</td><td>-1.112</td><td>-0.958</td><td>0.0</td></tr><tr><td>false</td><td>&quot;21&quot;</td><td>44921004</td><td>&quot;C&quot;</td><td>&quot;A&quot;</td><td>&quot;5_prime_UTR_variant&quot;</td><td>null</td><td>null</td><td>1.73</td><td>0.55617</td><td>-0.189</td><td>-0.542</td><td>0.999</td></tr><tr><td>&hellip;</td><td>&hellip;</td><td>&hellip;</td><td>&hellip;</td><td>&hellip;</td><td>&hellip;</td><td>&hellip;</td><td>&hellip;</td><td>&hellip;</td><td>&hellip;</td><td>&hellip;</td><td>&hellip;</td><td>&hellip;</td></tr><tr><td>true</td><td>&quot;3&quot;</td><td>169764849</td><td>&quot;G&quot;</td><td>&quot;C&quot;</td><td>&quot;non_coding_transcript_exon_var…</td><td>&quot;Myelodysplastic syndrome&quot;</td><td>null</td><td>5.84</td><td>2.567641</td><td>1.119</td><td>5.353</td><td>0.998</td></tr><tr><td>true</td><td>&quot;9&quot;</td><td>35657991</td><td>&quot;C&quot;</td><td>&quot;G&quot;</td><td>&quot;non_coding_transcript_exon_var…</td><td>&quot;MIM 250250&quot;</td><td>null</td><td>8.88</td><td>2.490352</td><td>7.065</td><td>7.13</td><td>0.991</td></tr><tr><td>true</td><td>&quot;3&quot;</td><td>169764756</td><td>&quot;C&quot;</td><td>&quot;T&quot;</td><td>&quot;non_coding_transcript_exon_var…</td><td>&quot;Aplastic anaemia&quot;</td><td>null</td><td>5.44</td><td>3.281707</td><td>4.399</td><td>8.377</td><td>0.999</td></tr><tr><td>true</td><td>&quot;9&quot;</td><td>35657757</td><td>&quot;G&quot;</td><td>&quot;A&quot;</td><td>&quot;non_coding_transcript_exon_var…</td><td>&quot;MIM 250250&quot;</td><td>null</td><td>4.11</td><td>2.577449</td><td>4.366</td><td>8.74</td><td>0.068</td></tr><tr><td>true</td><td>&quot;9&quot;</td><td>35657978</td><td>&quot;C&quot;</td><td>&quot;T&quot;</td><td>&quot;non_coding_transcript_exon_var…</td><td>&quot;MIM 250250&quot;</td><td>null</td><td>4.19</td><td>1.73897</td><td>3.797</td><td>5.984</td><td>0.034</td></tr></tbody></table></div>"
      ],
      "text/plain": [
       "shape: (4_039, 13)\n",
       "┌───────┬───────┬───────────┬─────┬───┬───────────┬─────────────┬─────────────┬───────────────┐\n",
       "│ label ┆ chrom ┆ pos       ┆ ref ┆ … ┆ CADD      ┆ phyloP-100v ┆ phyloP-241m ┆ phastCons-43p │\n",
       "│ ---   ┆ ---   ┆ ---       ┆ --- ┆   ┆ ---       ┆ ---         ┆ ---         ┆ ---           │\n",
       "│ bool  ┆ str   ┆ i64       ┆ str ┆   ┆ f32       ┆ f64         ┆ f64         ┆ f64           │\n",
       "╞═══════╪═══════╪═══════════╪═════╪═══╪═══════════╪═════════════╪═════════════╪═══════════════╡\n",
       "│ false ┆ 21    ┆ 18460729  ┆ C   ┆ … ┆ 0.329983  ┆ 0.212       ┆ 0.134       ┆ 0.029         │\n",
       "│ false ┆ 21    ┆ 43954790  ┆ T   ┆ … ┆ -0.288572 ┆ -0.7        ┆ -2.217      ┆ 0.0           │\n",
       "│ false ┆ 21    ┆ 43104732  ┆ A   ┆ … ┆ 0.438464  ┆ 0.943       ┆ -0.514      ┆ 0.0           │\n",
       "│ false ┆ 21    ┆ 37365964  ┆ G   ┆ … ┆ 0.208013  ┆ -1.112      ┆ -0.958      ┆ 0.0           │\n",
       "│ false ┆ 21    ┆ 44921004  ┆ C   ┆ … ┆ 0.55617   ┆ -0.189      ┆ -0.542      ┆ 0.999         │\n",
       "│ …     ┆ …     ┆ …         ┆ …   ┆ … ┆ …         ┆ …           ┆ …           ┆ …             │\n",
       "│ true  ┆ 3     ┆ 169764849 ┆ G   ┆ … ┆ 2.567641  ┆ 1.119       ┆ 5.353       ┆ 0.998         │\n",
       "│ true  ┆ 9     ┆ 35657991  ┆ C   ┆ … ┆ 2.490352  ┆ 7.065       ┆ 7.13        ┆ 0.991         │\n",
       "│ true  ┆ 3     ┆ 169764756 ┆ C   ┆ … ┆ 3.281707  ┆ 4.399       ┆ 8.377       ┆ 0.999         │\n",
       "│ true  ┆ 9     ┆ 35657757  ┆ G   ┆ … ┆ 2.577449  ┆ 4.366       ┆ 8.74        ┆ 0.068         │\n",
       "│ true  ┆ 9     ┆ 35657978  ┆ C   ┆ … ┆ 1.73897   ┆ 3.797       ┆ 5.984       ┆ 0.034         │\n",
       "└───────┴───────┴───────────┴─────┴───┴───────────┴─────────────┴─────────────┴───────────────┘"
      ]
     },
     "execution_count": 138,
     "metadata": {},
     "output_type": "execute_result"
    }
   ],
   "source": [
    "datasets = [\n",
    "    \"de_novo_v3/5_prime_UTR_variant/9\",\n",
    "    \"de_novo_v3/3_prime_UTR_variant/9\",\n",
    "    \"de_novo_v3/upstream_gene_variant/9\",\n",
    "    \"de_novo_v3/non_coding_transcript_exon_variant/9\",\n",
    "]\n",
    "\n",
    "models = [\n",
    "    \"gpnmsa\",\n",
    "    \"CADD_RawScore\",\n",
    "    \"phyloP-100v\",\n",
    "    \"phyloP-241m\",\n",
    "    \"phastCons-43p\",\n",
    "]\n",
    "\n",
    "model_renaming = {\n",
    "    \"gpnmsa\": \"GPN-MSA\",\n",
    "    \"CADD_RawScore\": \"CADD\",\n",
    "}\n",
    "\n",
    "def load_dataset(dataset):\n",
    "    V = pl.read_parquet(f\"../../results/dataset/{dataset}/test.parquet\")\n",
    "    for model in models:\n",
    "        V = V.with_columns(\n",
    "            pl.read_parquet(f\"../../results/dataset/{dataset}/features/{model}.parquet\")[\"score\"].alias(model_renaming.get(model, model))\n",
    "        )\n",
    "    return V\n",
    "\n",
    "#V = load_dataset(\"de_novo_v3/5_prime_UTR_variant/9\")\n",
    "\n",
    "V = pl.concat((load_dataset(dataset) for dataset in datasets))\n",
    "\n",
    "models = [model_renaming.get(model, model) for model in models]\n",
    "V = V.drop_nulls(models)\n",
    "V"
   ]
  },
  {
   "cell_type": "code",
   "execution_count": 140,
   "id": "fe4d3162-029e-4a71-a527-7ab39200f548",
   "metadata": {},
   "outputs": [
    {
     "data": {
      "text/html": [
       "<div><style>\n",
       ".dataframe > thead > tr,\n",
       ".dataframe > tbody > tr {\n",
       "  text-align: right;\n",
       "  white-space: pre-wrap;\n",
       "}\n",
       "</style>\n",
       "<small>shape: (2, 6)</small><table border=\"1\" class=\"dataframe\"><thead><tr><th>label</th><th>GPN-MSA</th><th>CADD</th><th>phyloP-100v</th><th>phyloP-241m</th><th>phastCons-43p</th></tr><tr><td>bool</td><td>f32</td><td>f32</td><td>f64</td><td>f64</td><td>f64</td></tr></thead><tbody><tr><td>false</td><td>1.82091</td><td>0.531316</td><td>0.076679</td><td>0.199255</td><td>0.198083</td></tr><tr><td>true</td><td>4.94453</td><td>1.980193</td><td>2.107921</td><td>3.785418</td><td>0.711238</td></tr></tbody></table></div>"
      ],
      "text/plain": [
       "shape: (2, 6)\n",
       "┌───────┬─────────┬──────────┬─────────────┬─────────────┬───────────────┐\n",
       "│ label ┆ GPN-MSA ┆ CADD     ┆ phyloP-100v ┆ phyloP-241m ┆ phastCons-43p │\n",
       "│ ---   ┆ ---     ┆ ---      ┆ ---         ┆ ---         ┆ ---           │\n",
       "│ bool  ┆ f32     ┆ f32      ┆ f64         ┆ f64         ┆ f64           │\n",
       "╞═══════╪═════════╪══════════╪═════════════╪═════════════╪═══════════════╡\n",
       "│ false ┆ 1.82091 ┆ 0.531316 ┆ 0.076679    ┆ 0.199255    ┆ 0.198083      │\n",
       "│ true  ┆ 4.94453 ┆ 1.980193 ┆ 2.107921    ┆ 3.785418    ┆ 0.711238      │\n",
       "└───────┴─────────┴──────────┴─────────────┴─────────────┴───────────────┘"
      ]
     },
     "execution_count": 140,
     "metadata": {},
     "output_type": "execute_result"
    }
   ],
   "source": [
    "# TODO: should be careful about setting nan = 0 for conservation models\n",
    "V.group_by(\"label\").agg(pl.mean(models))"
   ]
  },
  {
   "cell_type": "code",
   "execution_count": 141,
   "id": "02392396-4461-4698-b640-bf2cd16f5d3b",
   "metadata": {},
   "outputs": [],
   "source": [
    "def odds_ratio_score(y_true, y_pred, threshold_q=0.05):\n",
    "    df = pl.DataFrame({\"label\": y_true, \"score\": -y_pred})\n",
    "    threshold = df.select(pl.col(\"score\").quantile(threshold_q))[\"score\"]\n",
    "    # TODO: need to decide how to handle ties... they are certainly an issue with phastCons\n",
    "    #if threshold_q == 0.05:\n",
    "    #    print((df[\"score\"] <= threshold).sum())\n",
    "    group_counts = (\n",
    "        df.group_by([\"label\", pl.col(\"score\") <= threshold]).len()\n",
    "        .sort([\"label\", \"score\"])[\"len\"].to_numpy().reshape((2,2))\n",
    "    )\n",
    "    #if threshold_q == 0.05:\n",
    "    #    print(group_counts)\n",
    "    res = odds_ratio(group_counts, kind=\"sample\")\n",
    "    ci = res.confidence_interval(confidence_level=0.95)\n",
    "    return res.statistic, ci.low, ci.high"
   ]
  },
  {
   "cell_type": "code",
   "execution_count": 148,
   "id": "dbf23915-80d6-41c2-946a-084bdb19ee42",
   "metadata": {},
   "outputs": [
    {
     "name": "stderr",
     "output_type": "stream",
     "text": [
      "100%|██████████| 5/5 [00:00<00:00, 163.09it/s]\n"
     ]
    },
    {
     "data": {
      "text/html": [
       "<div>\n",
       "<style scoped>\n",
       "    .dataframe tbody tr th:only-of-type {\n",
       "        vertical-align: middle;\n",
       "    }\n",
       "\n",
       "    .dataframe tbody tr th {\n",
       "        vertical-align: top;\n",
       "    }\n",
       "\n",
       "    .dataframe thead th {\n",
       "        text-align: right;\n",
       "    }\n",
       "</style>\n",
       "<table border=\"1\" class=\"dataframe\">\n",
       "  <thead>\n",
       "    <tr style=\"text-align: right;\">\n",
       "      <th></th>\n",
       "      <th>model</th>\n",
       "      <th>AUPRC</th>\n",
       "      <th>OR@5</th>\n",
       "      <th>OR@10</th>\n",
       "    </tr>\n",
       "  </thead>\n",
       "  <tbody>\n",
       "    <tr>\n",
       "      <th>0</th>\n",
       "      <td>GPN-MSA</td>\n",
       "      <td>0.423518</td>\n",
       "      <td>(15.295341733486064, 11.312951822770266, 20.67...</td>\n",
       "      <td>(12.858149058149058, 10.132187697563744, 16.31...</td>\n",
       "    </tr>\n",
       "    <tr>\n",
       "      <th>1</th>\n",
       "      <td>CADD</td>\n",
       "      <td>0.548368</td>\n",
       "      <td>(27.024281577188685, 19.66703556659574, 37.133...</td>\n",
       "      <td>(18.520252771159225, 14.535807053856376, 23.59...</td>\n",
       "    </tr>\n",
       "    <tr>\n",
       "      <th>2</th>\n",
       "      <td>phyloP-100v</td>\n",
       "      <td>0.425278</td>\n",
       "      <td>(19.45129003558719, 14.315141147228553, 26.430...</td>\n",
       "      <td>(13.91453488372093, 10.956981267017266, 17.670...</td>\n",
       "    </tr>\n",
       "    <tr>\n",
       "      <th>3</th>\n",
       "      <td>phyloP-241m</td>\n",
       "      <td>0.485021</td>\n",
       "      <td>(19.45129003558719, 14.315141147228553, 26.430...</td>\n",
       "      <td>(20.948328267477205, 16.408663609880847, 26.74...</td>\n",
       "    </tr>\n",
       "    <tr>\n",
       "      <th>4</th>\n",
       "      <td>phastCons-43p</td>\n",
       "      <td>0.317878</td>\n",
       "      <td>(7.57672829085519, 5.7742675763698195, 9.94183...</td>\n",
       "      <td>(8.165322580645162, 6.444292518823366, 10.3459...</td>\n",
       "    </tr>\n",
       "  </tbody>\n",
       "</table>\n",
       "</div>"
      ],
      "text/plain": [
       "           model     AUPRC                                               OR@5  \\\n",
       "0        GPN-MSA  0.423518  (15.295341733486064, 11.312951822770266, 20.67...   \n",
       "1           CADD  0.548368  (27.024281577188685, 19.66703556659574, 37.133...   \n",
       "2    phyloP-100v  0.425278  (19.45129003558719, 14.315141147228553, 26.430...   \n",
       "3    phyloP-241m  0.485021  (19.45129003558719, 14.315141147228553, 26.430...   \n",
       "4  phastCons-43p  0.317878  (7.57672829085519, 5.7742675763698195, 9.94183...   \n",
       "\n",
       "                                               OR@10  \n",
       "0  (12.858149058149058, 10.132187697563744, 16.31...  \n",
       "1  (18.520252771159225, 14.535807053856376, 23.59...  \n",
       "2  (13.91453488372093, 10.956981267017266, 17.670...  \n",
       "3  (20.948328267477205, 16.408663609880847, 26.74...  \n",
       "4  (8.165322580645162, 6.444292518823366, 10.3459...  "
      ]
     },
     "execution_count": 148,
     "metadata": {},
     "output_type": "execute_result"
    }
   ],
   "source": [
    "or_pcts = [\n",
    "    #1,\n",
    "    #2,\n",
    "    5,\n",
    "    10,\n",
    "]\n",
    "\n",
    "or_pct_cols = [f\"OR@{or_pct}\" for or_pct in or_pcts]\n",
    "\n",
    "res = []\n",
    "for model in tqdm(models):\n",
    "    y_true = V[\"label\"]\n",
    "    y_pred = V[model]\n",
    "    res.append((\n",
    "        model,\n",
    "        average_precision_score(y_true, y_pred),\n",
    "        *[odds_ratio_score(y_true, y_pred, or_pct / 100) for or_pct in or_pcts]\n",
    "    ))\n",
    "res = pd.DataFrame(res, columns=[\"model\", \"AUPRC\"] + or_pct_cols)\n",
    "res"
   ]
  },
  {
   "cell_type": "code",
   "execution_count": 149,
   "id": "65046705-f186-4aee-bd86-b26971419090",
   "metadata": {},
   "outputs": [
    {
     "data": {
      "text/html": [
       "<div>\n",
       "<style scoped>\n",
       "    .dataframe tbody tr th:only-of-type {\n",
       "        vertical-align: middle;\n",
       "    }\n",
       "\n",
       "    .dataframe tbody tr th {\n",
       "        vertical-align: top;\n",
       "    }\n",
       "\n",
       "    .dataframe thead th {\n",
       "        text-align: right;\n",
       "    }\n",
       "</style>\n",
       "<table border=\"1\" class=\"dataframe\">\n",
       "  <thead>\n",
       "    <tr style=\"text-align: right;\">\n",
       "      <th></th>\n",
       "      <th>model</th>\n",
       "      <th>%</th>\n",
       "      <th>OR_CI</th>\n",
       "      <th>OR</th>\n",
       "      <th>ci_low</th>\n",
       "      <th>ci_high</th>\n",
       "    </tr>\n",
       "  </thead>\n",
       "  <tbody>\n",
       "    <tr>\n",
       "      <th>0</th>\n",
       "      <td>GPN-MSA</td>\n",
       "      <td>OR@5</td>\n",
       "      <td>(15.295341733486064, 11.312951822770266, 20.67...</td>\n",
       "      <td>15.295342</td>\n",
       "      <td>11.312952</td>\n",
       "      <td>20.679614</td>\n",
       "    </tr>\n",
       "    <tr>\n",
       "      <th>1</th>\n",
       "      <td>CADD</td>\n",
       "      <td>OR@5</td>\n",
       "      <td>(27.024281577188685, 19.66703556659574, 37.133...</td>\n",
       "      <td>27.024282</td>\n",
       "      <td>19.667036</td>\n",
       "      <td>37.133801</td>\n",
       "    </tr>\n",
       "    <tr>\n",
       "      <th>2</th>\n",
       "      <td>phyloP-100v</td>\n",
       "      <td>OR@5</td>\n",
       "      <td>(19.45129003558719, 14.315141147228553, 26.430...</td>\n",
       "      <td>19.451290</td>\n",
       "      <td>14.315141</td>\n",
       "      <td>26.430245</td>\n",
       "    </tr>\n",
       "    <tr>\n",
       "      <th>3</th>\n",
       "      <td>phyloP-241m</td>\n",
       "      <td>OR@5</td>\n",
       "      <td>(19.45129003558719, 14.315141147228553, 26.430...</td>\n",
       "      <td>19.451290</td>\n",
       "      <td>14.315141</td>\n",
       "      <td>26.430245</td>\n",
       "    </tr>\n",
       "    <tr>\n",
       "      <th>4</th>\n",
       "      <td>phastCons-43p</td>\n",
       "      <td>OR@5</td>\n",
       "      <td>(7.57672829085519, 5.7742675763698195, 9.94183...</td>\n",
       "      <td>7.576728</td>\n",
       "      <td>5.774268</td>\n",
       "      <td>9.941834</td>\n",
       "    </tr>\n",
       "    <tr>\n",
       "      <th>5</th>\n",
       "      <td>GPN-MSA</td>\n",
       "      <td>OR@10</td>\n",
       "      <td>(12.858149058149058, 10.132187697563744, 16.31...</td>\n",
       "      <td>12.858149</td>\n",
       "      <td>10.132188</td>\n",
       "      <td>16.317502</td>\n",
       "    </tr>\n",
       "    <tr>\n",
       "      <th>6</th>\n",
       "      <td>CADD</td>\n",
       "      <td>OR@10</td>\n",
       "      <td>(18.520252771159225, 14.535807053856376, 23.59...</td>\n",
       "      <td>18.520253</td>\n",
       "      <td>14.535807</td>\n",
       "      <td>23.596885</td>\n",
       "    </tr>\n",
       "    <tr>\n",
       "      <th>7</th>\n",
       "      <td>phyloP-100v</td>\n",
       "      <td>OR@10</td>\n",
       "      <td>(13.91453488372093, 10.956981267017266, 17.670...</td>\n",
       "      <td>13.914535</td>\n",
       "      <td>10.956981</td>\n",
       "      <td>17.670404</td>\n",
       "    </tr>\n",
       "    <tr>\n",
       "      <th>8</th>\n",
       "      <td>phyloP-241m</td>\n",
       "      <td>OR@10</td>\n",
       "      <td>(20.948328267477205, 16.408663609880847, 26.74...</td>\n",
       "      <td>20.948328</td>\n",
       "      <td>16.408664</td>\n",
       "      <td>26.743949</td>\n",
       "    </tr>\n",
       "    <tr>\n",
       "      <th>9</th>\n",
       "      <td>phastCons-43p</td>\n",
       "      <td>OR@10</td>\n",
       "      <td>(8.165322580645162, 6.444292518823366, 10.3459...</td>\n",
       "      <td>8.165323</td>\n",
       "      <td>6.444293</td>\n",
       "      <td>10.345976</td>\n",
       "    </tr>\n",
       "  </tbody>\n",
       "</table>\n",
       "</div>"
      ],
      "text/plain": [
       "           model      %                                              OR_CI  \\\n",
       "0        GPN-MSA   OR@5  (15.295341733486064, 11.312951822770266, 20.67...   \n",
       "1           CADD   OR@5  (27.024281577188685, 19.66703556659574, 37.133...   \n",
       "2    phyloP-100v   OR@5  (19.45129003558719, 14.315141147228553, 26.430...   \n",
       "3    phyloP-241m   OR@5  (19.45129003558719, 14.315141147228553, 26.430...   \n",
       "4  phastCons-43p   OR@5  (7.57672829085519, 5.7742675763698195, 9.94183...   \n",
       "5        GPN-MSA  OR@10  (12.858149058149058, 10.132187697563744, 16.31...   \n",
       "6           CADD  OR@10  (18.520252771159225, 14.535807053856376, 23.59...   \n",
       "7    phyloP-100v  OR@10  (13.91453488372093, 10.956981267017266, 17.670...   \n",
       "8    phyloP-241m  OR@10  (20.948328267477205, 16.408663609880847, 26.74...   \n",
       "9  phastCons-43p  OR@10  (8.165322580645162, 6.444292518823366, 10.3459...   \n",
       "\n",
       "          OR     ci_low    ci_high  \n",
       "0  15.295342  11.312952  20.679614  \n",
       "1  27.024282  19.667036  37.133801  \n",
       "2  19.451290  14.315141  26.430245  \n",
       "3  19.451290  14.315141  26.430245  \n",
       "4   7.576728   5.774268   9.941834  \n",
       "5  12.858149  10.132188  16.317502  \n",
       "6  18.520253  14.535807  23.596885  \n",
       "7  13.914535  10.956981  17.670404  \n",
       "8  20.948328  16.408664  26.743949  \n",
       "9   8.165323   6.444293  10.345976  "
      ]
     },
     "execution_count": 149,
     "metadata": {},
     "output_type": "execute_result"
    }
   ],
   "source": [
    "# Reshape the data from wide to long format for plotting using pandas.melt\n",
    "res_long = res.melt(\n",
    "    id_vars=\"model\",\n",
    "    value_vars=or_pct_cols,\n",
    "    var_name=\"%\",\n",
    "    value_name=\"OR_CI\",\n",
    ")\n",
    "\n",
    "# Extract OR and CI values into separate columns\n",
    "# The .str accessor provides an efficient way to split tuples in a Series\n",
    "res_long['OR'] = res_long['OR_CI'].str[0]\n",
    "res_long['ci_low'] = res_long['OR_CI'].str[1]\n",
    "res_long['ci_high'] = res_long['OR_CI'].str[2]\n",
    "res_long"
   ]
  },
  {
   "cell_type": "code",
   "execution_count": 150,
   "id": "64d0f521-60a5-4d16-98cb-7817501c759e",
   "metadata": {},
   "outputs": [
    {
     "data": {
      "image/png": "[encoded data removed]",
      "text/plain": [
       "<Figure size 600x400 with 1 Axes>"
      ]
     },
     "metadata": {},
     "output_type": "display_data"
    }
   ],
   "source": [
    "# 1. Create the bar plot\n",
    "plt.figure(figsize=(6, 4))\n",
    "ax = sns.barplot(data=res_long, x=\"%\", y=\"OR\", hue=\"model\")\n",
    "\n",
    "# 2. Add custom error bars robustly\n",
    "for bar in ax.patches:\n",
    "    # --- THIS IS THE FIX ---\n",
    "    # Ignore invisible \"ghost\" patches that seaborn sometimes creates\n",
    "    if bar.get_height() == 0 and bar.get_width() == 0:\n",
    "        continue\n",
    "\n",
    "    # Get the bar's color to identify its hue\n",
    "    bar_color = bar.get_facecolor()\n",
    "\n",
    "    # Get the x-tick label for the bar\n",
    "    x_tick_index = int(round(bar.get_x() + bar.get_width() / 2))\n",
    "    x_tick_label = ax.get_xticklabels()[x_tick_index].get_text()\n",
    "\n",
    "    # Get the handles for the legend\n",
    "    legend_handles, _ = ax.get_legend_handles_labels()\n",
    "\n",
    "    hue_label = \"\"\n",
    "    for handle in legend_handles:\n",
    "        # Use the .patches[0] version for robustness across matplotlib versions\n",
    "        if handle.get_facecolor() == bar_color:\n",
    "            hue_label = handle.get_label()\n",
    "            break\n",
    "\n",
    "    # Find the corresponding data row in the DataFrame\n",
    "    data_row = res_long[(res_long['model'] == hue_label) & (res_long['%'] == x_tick_label)]\n",
    "\n",
    "    if data_row.empty:\n",
    "        continue\n",
    "\n",
    "    # Extract data from the correctly identified row\n",
    "    ci_low = data_row['ci_low'].iloc[0]\n",
    "    ci_high = data_row['ci_high'].iloc[0]\n",
    "\n",
    "    # Use the bar's actual height for y-position and calculation\n",
    "    bar_height = bar.get_height()\n",
    "\n",
    "    # Calculate error bar magnitudes\n",
    "    lower_error = bar_height - ci_low\n",
    "    upper_error = ci_high - bar_height\n",
    "\n",
    "    # Ensure errors are positive\n",
    "    if lower_error < 0: lower_error = 0\n",
    "    if upper_error < 0: upper_error = 0\n",
    "\n",
    "    # Get the x-coordinate for the error bar\n",
    "    x_coord = bar.get_x() + bar.get_width() / 2\n",
    "\n",
    "    # Plot the correctly aligned error bar\n",
    "    ax.errorbar(x=x_coord, y=bar_height, yerr=[[lower_error], [upper_error]],\n",
    "                fmt='none',\n",
    "                c='black')\n",
    "\n",
    "# --- Final Touches ---\n",
    "# Use ax.set_ylim() for setting y-axis limits\n",
    "ax.set_ylim(bottom=0)\n",
    "sns.move_legend(ax, \"upper left\", bbox_to_anchor=(1, 1))\n",
    "ax.set_title(\"OR with 95% CI\")\n",
    "ax.set_ylabel(\"Odds Ratio (OR)\")\n",
    "ax.set_xlabel(\"\")\n",
    "sns.despine()\n",
    "plt.tight_layout()\n",
    "plt.show()"
   ]
  },
  {
   "cell_type": "code",
   "execution_count": 161,
   "id": "ef92bf11-bee7-4fce-a376-67f90f5ebbda",
   "metadata": {},
   "outputs": [
    {
     "data": {
      "image/png": "[encoded data removed]",
      "text/plain": [
       "<Figure size 300x300 with 1 Axes>"
      ]
     },
     "metadata": {},
     "output_type": "display_data"
    }
   ],
   "source": [
    "plt.figure(figsize=(3, 3))\n",
    "sns.histplot(\n",
    "    data=V,\n",
    "    x=\"GPN-MSA\",\n",
    "    hue=\"label\",\n",
    "    stat=\"density\",\n",
    "    common_norm=False,\n",
    "    common_bins=True,\n",
    "    bins=25,\n",
    ")\n",
    "sns.despine();"
   ]
  },
  {
   "cell_type": "code",
   "execution_count": 162,
   "id": "25727509-99df-4dac-b9fa-6c6b78bac19c",
   "metadata": {},
   "outputs": [
    {
     "data": {
      "image/png": "[encoded data removed]",
      "text/plain": [
       "<Figure size 300x300 with 1 Axes>"
      ]
     },
     "metadata": {},
     "output_type": "display_data"
    }
   ],
   "source": [
    "plt.figure(figsize=(3, 3))\n",
    "sns.histplot(\n",
    "    data=V,\n",
    "    x=\"CADD\",\n",
    "    hue=\"label\",\n",
    "    stat=\"density\",\n",
    "    common_norm=False,\n",
    "    common_bins=True,\n",
    "    bins=25,\n",
    ")\n",
    "sns.despine();"
   ]
  },
  {
   "cell_type": "code",
   "execution_count": 163,
   "id": "5a78fc67-21d5-440e-be37-f16d42fe79cb",
   "metadata": {},
   "outputs": [
    {
     "data": {
      "image/png": "[encoded data removed]",
      "text/plain": [
       "<Figure size 300x300 with 1 Axes>"
      ]
     },
     "metadata": {},
     "output_type": "display_data"
    }
   ],
   "source": [
    "plt.figure(figsize=(3, 3))\n",
    "sns.histplot(\n",
    "    data=V,\n",
    "    x=\"phyloP-241m\",\n",
    "    hue=\"label\",\n",
    "    stat=\"density\",\n",
    "    common_norm=False,\n",
    "    common_bins=True,\n",
    "    bins=25,\n",
    ")\n",
    "sns.despine();"
   ]
  },
  {
   "cell_type": "code",
   "execution_count": 166,
   "id": "f96d67f2-f521-4f93-9f1e-ead6c5e7b3fc",
   "metadata": {},
   "outputs": [
    {
     "data": {
      "text/html": [
       "<div><style>\n",
       ".dataframe > thead > tr,\n",
       ".dataframe > tbody > tr {\n",
       "  text-align: right;\n",
       "  white-space: pre-wrap;\n",
       "}\n",
       "</style>\n",
       "<small>shape: (23, 2)</small><table border=\"1\" class=\"dataframe\"><thead><tr><th>chrom</th><th>count</th></tr><tr><td>str</td><td>u32</td></tr></thead><tbody><tr><td>&quot;18&quot;</td><td>1</td></tr><tr><td>&quot;14&quot;</td><td>1</td></tr><tr><td>&quot;21&quot;</td><td>2</td></tr><tr><td>&quot;6&quot;</td><td>2</td></tr><tr><td>&quot;15&quot;</td><td>2</td></tr><tr><td>&hellip;</td><td>&hellip;</td></tr><tr><td>&quot;13&quot;</td><td>31</td></tr><tr><td>&quot;X&quot;</td><td>51</td></tr><tr><td>&quot;3&quot;</td><td>52</td></tr><tr><td>&quot;19&quot;</td><td>53</td></tr><tr><td>&quot;11&quot;</td><td>70</td></tr></tbody></table></div>"
      ],
      "text/plain": [
       "shape: (23, 2)\n",
       "┌───────┬───────┐\n",
       "│ chrom ┆ count │\n",
       "│ ---   ┆ ---   │\n",
       "│ str   ┆ u32   │\n",
       "╞═══════╪═══════╡\n",
       "│ 18    ┆ 1     │\n",
       "│ 14    ┆ 1     │\n",
       "│ 21    ┆ 2     │\n",
       "│ 6     ┆ 2     │\n",
       "│ 15    ┆ 2     │\n",
       "│ …     ┆ …     │\n",
       "│ 13    ┆ 31    │\n",
       "│ X     ┆ 51    │\n",
       "│ 3     ┆ 52    │\n",
       "│ 19    ┆ 53    │\n",
       "│ 11    ┆ 70    │\n",
       "└───────┴───────┘"
      ]
     },
     "execution_count": 166,
     "metadata": {},
     "output_type": "execute_result"
    }
   ],
   "source": [
    "V.filter(pl.col(\"label\"))[\"chrom\"].value_counts().sort(\"count\")"
   ]
  },
  {
   "cell_type": "code",
   "execution_count": null,
   "id": "81ea32e7-0bd9-427a-827c-4561deb6e000",
   "metadata": {},
   "outputs": [],
   "source": []
  }
 ],
 "metadata": {
  "kernelspec": {
   "display_name": "gpn",
   "language": "python",
   "name": "gpn"
  },
  "language_info": {
   "codemirror_mode": {
    "name": "ipython",
    "version": 3
   },
   "file_extension": ".py",
   "mimetype": "text/x-python",
   "name": "python",
   "nbconvert_exporter": "python",
   "pygments_lexer": "ipython3",
   "version": "3.10.8"
  }
 },
 "nbformat": 4,
 "nbformat_minor": 5
}
