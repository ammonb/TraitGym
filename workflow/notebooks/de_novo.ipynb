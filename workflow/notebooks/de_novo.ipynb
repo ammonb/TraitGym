{
 "cells": [
  {
   "cell_type": "code",
   "execution_count": 16,
   "id": "195e86e9-4539-49d6-9914-e8ca5285f1cb",
   "metadata": {},
   "outputs": [],
   "source": [
    "from gpn.data import Genome\n",
    "import matplotlib.pyplot as plt\n",
    "import numpy as np\n",
    "import pandas as pd\n",
    "import polars as pl\n",
    "from scipy.stats import fisher_exact\n",
    "from scipy.stats.contingency import odds_ratio\n",
    "from sklearn.metrics import average_precision_score\n",
    "import seaborn as sns\n",
    "from tqdm import tqdm\n",
    "tqdm.pandas()"
   ]
  },
  {
   "cell_type": "code",
   "execution_count": 147,
   "id": "52117eb5-17c4-4970-aaa5-6bc796e2830d",
   "metadata": {},
   "outputs": [
    {
     "name": "stdout",
     "output_type": "stream",
     "text": [
      "shape: (1, 5)\n",
      "┌─────────┬──────┬─────────────┬─────────────┬───────────────┐\n",
      "│ GPN-MSA ┆ CADD ┆ phyloP-100v ┆ phyloP-241m ┆ phastCons-43p │\n",
      "│ ---     ┆ ---  ┆ ---         ┆ ---         ┆ ---           │\n",
      "│ u32     ┆ u32  ┆ u32         ┆ u32         ┆ u32           │\n",
      "╞═════════╪══════╪═════════════╪═════════════╪═══════════════╡\n",
      "│ 0       ┆ 0    ┆ 8           ┆ 4           ┆ 4             │\n",
      "└─────────┴──────┴─────────────┴─────────────┴───────────────┘\n"
     ]
    },
    {
     "data": {
      "text/html": [
       "<div><style>\n",
       ".dataframe > thead > tr,\n",
       ".dataframe > tbody > tr {\n",
       "  text-align: right;\n",
       "  white-space: pre-wrap;\n",
       "}\n",
       "</style>\n",
       "<small>shape: (4_251, 14)</small><table border=\"1\" class=\"dataframe\"><thead><tr><th>chrom</th><th>consequence</th><th>pos</th><th>ref</th><th>alt</th><th>label</th><th>trait</th><th>AF</th><th>match_group</th><th>GPN-MSA</th><th>CADD</th><th>phyloP-100v</th><th>phyloP-241m</th><th>phastCons-43p</th></tr><tr><td>str</td><td>str</td><td>i64</td><td>str</td><td>str</td><td>bool</td><td>str</td><td>f64</td><td>i64</td><td>f32</td><td>f32</td><td>f64</td><td>f64</td><td>f64</td></tr></thead><tbody><tr><td>&quot;1&quot;</td><td>&quot;upstream_gene_variant&quot;</td><td>1448789</td><td>&quot;T&quot;</td><td>&quot;A&quot;</td><td>false</td><td>null</td><td>0.0</td><td>116</td><td>1.28</td><td>0.129763</td><td>-1.292</td><td>0.11</td><td>0.034</td></tr><tr><td>&quot;1&quot;</td><td>&quot;5_prime_UTR_variant&quot;</td><td>1471844</td><td>&quot;G&quot;</td><td>&quot;A&quot;</td><td>false</td><td>null</td><td>0.0</td><td>204</td><td>1.11</td><td>0.657277</td><td>-0.557</td><td>-0.1</td><td>0.0</td></tr><tr><td>&quot;1&quot;</td><td>&quot;5_prime_UTR_variant&quot;</td><td>2228478</td><td>&quot;G&quot;</td><td>&quot;A&quot;</td><td>false</td><td>null</td><td>0.0</td><td>201</td><td>1.74</td><td>1.412812</td><td>0.215</td><td>0.13</td><td>0.735</td></tr><tr><td>&quot;1&quot;</td><td>&quot;5_prime_UTR_variant&quot;</td><td>2476337</td><td>&quot;G&quot;</td><td>&quot;T&quot;</td><td>false</td><td>null</td><td>0.0</td><td>199</td><td>-0.22</td><td>-0.114094</td><td>-3.137</td><td>-3.52</td><td>0.561</td></tr><tr><td>&quot;1&quot;</td><td>&quot;5_prime_UTR_variant&quot;</td><td>3650030</td><td>&quot;G&quot;</td><td>&quot;A&quot;</td><td>false</td><td>null</td><td>0.0</td><td>208</td><td>1.38</td><td>1.171913</td><td>0.33</td><td>-0.546</td><td>0.0</td></tr><tr><td>&hellip;</td><td>&hellip;</td><td>&hellip;</td><td>&hellip;</td><td>&hellip;</td><td>&hellip;</td><td>&hellip;</td><td>&hellip;</td><td>&hellip;</td><td>&hellip;</td><td>&hellip;</td><td>&hellip;</td><td>&hellip;</td><td>&hellip;</td></tr><tr><td>&quot;22&quot;</td><td>&quot;3_prime_UTR_variant&quot;</td><td>38864827</td><td>&quot;C&quot;</td><td>&quot;T&quot;</td><td>false</td><td>null</td><td>0.0</td><td>401</td><td>1.14</td><td>-0.007061</td><td>-0.602</td><td>-0.016</td><td>0.002</td></tr><tr><td>&quot;22&quot;</td><td>&quot;3_prime_UTR_variant&quot;</td><td>39131928</td><td>&quot;G&quot;</td><td>&quot;A&quot;</td><td>false</td><td>null</td><td>0.0</td><td>400</td><td>2.33</td><td>0.234098</td><td>-0.231</td><td>0.127</td><td>0.549</td></tr><tr><td>&quot;22&quot;</td><td>&quot;3_prime_UTR_variant&quot;</td><td>45194868</td><td>&quot;A&quot;</td><td>&quot;C&quot;</td><td>false</td><td>null</td><td>0.0</td><td>401</td><td>0.54</td><td>0.188425</td><td>-0.042</td><td>0.43</td><td>0.001</td></tr><tr><td>&quot;22&quot;</td><td>&quot;3_prime_UTR_variant&quot;</td><td>45565058</td><td>&quot;A&quot;</td><td>&quot;T&quot;</td><td>false</td><td>null</td><td>0.0</td><td>400</td><td>1.27</td><td>-1.423424</td><td>-1.945</td><td>-5.322</td><td>0.0</td></tr><tr><td>&quot;22&quot;</td><td>&quot;upstream_gene_variant&quot;</td><td>46044942</td><td>&quot;C&quot;</td><td>&quot;G&quot;</td><td>false</td><td>null</td><td>0.0</td><td>412</td><td>1.29</td><td>1.267478</td><td>-0.704</td><td>0.015</td><td>0.537</td></tr></tbody></table></div>"
      ],
      "text/plain": [
       "shape: (4_251, 14)\n",
       "┌───────┬──────────────┬──────────┬─────┬───┬───────────┬─────────────┬─────────────┬──────────────┐\n",
       "│ chrom ┆ consequence  ┆ pos      ┆ ref ┆ … ┆ CADD      ┆ phyloP-100v ┆ phyloP-241m ┆ phastCons-43 │\n",
       "│ ---   ┆ ---          ┆ ---      ┆ --- ┆   ┆ ---       ┆ ---         ┆ ---         ┆ p            │\n",
       "│ str   ┆ str          ┆ i64      ┆ str ┆   ┆ f32       ┆ f64         ┆ f64         ┆ ---          │\n",
       "│       ┆              ┆          ┆     ┆   ┆           ┆             ┆             ┆ f64          │\n",
       "╞═══════╪══════════════╪══════════╪═════╪═══╪═══════════╪═════════════╪═════════════╪══════════════╡\n",
       "│ 1     ┆ upstream_gen ┆ 1448789  ┆ T   ┆ … ┆ 0.129763  ┆ -1.292      ┆ 0.11        ┆ 0.034        │\n",
       "│       ┆ e_variant    ┆          ┆     ┆   ┆           ┆             ┆             ┆              │\n",
       "│ 1     ┆ 5_prime_UTR_ ┆ 1471844  ┆ G   ┆ … ┆ 0.657277  ┆ -0.557      ┆ -0.1        ┆ 0.0          │\n",
       "│       ┆ variant      ┆          ┆     ┆   ┆           ┆             ┆             ┆              │\n",
       "│ 1     ┆ 5_prime_UTR_ ┆ 2228478  ┆ G   ┆ … ┆ 1.412812  ┆ 0.215       ┆ 0.13        ┆ 0.735        │\n",
       "│       ┆ variant      ┆          ┆     ┆   ┆           ┆             ┆             ┆              │\n",
       "│ 1     ┆ 5_prime_UTR_ ┆ 2476337  ┆ G   ┆ … ┆ -0.114094 ┆ -3.137      ┆ -3.52       ┆ 0.561        │\n",
       "│       ┆ variant      ┆          ┆     ┆   ┆           ┆             ┆             ┆              │\n",
       "│ 1     ┆ 5_prime_UTR_ ┆ 3650030  ┆ G   ┆ … ┆ 1.171913  ┆ 0.33        ┆ -0.546      ┆ 0.0          │\n",
       "│       ┆ variant      ┆          ┆     ┆   ┆           ┆             ┆             ┆              │\n",
       "│ …     ┆ …            ┆ …        ┆ …   ┆ … ┆ …         ┆ …           ┆ …           ┆ …            │\n",
       "│ 22    ┆ 3_prime_UTR_ ┆ 38864827 ┆ C   ┆ … ┆ -0.007061 ┆ -0.602      ┆ -0.016      ┆ 0.002        │\n",
       "│       ┆ variant      ┆          ┆     ┆   ┆           ┆             ┆             ┆              │\n",
       "│ 22    ┆ 3_prime_UTR_ ┆ 39131928 ┆ G   ┆ … ┆ 0.234098  ┆ -0.231      ┆ 0.127       ┆ 0.549        │\n",
       "│       ┆ variant      ┆          ┆     ┆   ┆           ┆             ┆             ┆              │\n",
       "│ 22    ┆ 3_prime_UTR_ ┆ 45194868 ┆ A   ┆ … ┆ 0.188425  ┆ -0.042      ┆ 0.43        ┆ 0.001        │\n",
       "│       ┆ variant      ┆          ┆     ┆   ┆           ┆             ┆             ┆              │\n",
       "│ 22    ┆ 3_prime_UTR_ ┆ 45565058 ┆ A   ┆ … ┆ -1.423424 ┆ -1.945      ┆ -5.322      ┆ 0.0          │\n",
       "│       ┆ variant      ┆          ┆     ┆   ┆           ┆             ┆             ┆              │\n",
       "│ 22    ┆ upstream_gen ┆ 46044942 ┆ C   ┆ … ┆ 1.267478  ┆ -0.704      ┆ 0.015       ┆ 0.537        │\n",
       "│       ┆ e_variant    ┆          ┆     ┆   ┆           ┆             ┆             ┆              │\n",
       "└───────┴──────────────┴──────────┴─────┴───┴───────────┴─────────────┴─────────────┴──────────────┘"
      ]
     },
     "execution_count": 147,
     "metadata": {},
     "output_type": "execute_result"
    }
   ],
   "source": [
    "datasets = [\n",
    "    #\"de_novo_v3/5_prime_UTR_variant/9\",\n",
    "    #\"de_novo_v3/3_prime_UTR_variant/9\",\n",
    "    #\"de_novo_v3/upstream_gene_variant/9\",\n",
    "    #\"de_novo_v3/non_coding_transcript_exon_variant/9\",\n",
    "    #\"de_novo_v2\",\n",
    "    \"de_novo_v4/9\",\n",
    "    #\"de_novo_v4_all\",\n",
    "]\n",
    "\n",
    "models = [\n",
    "    \"gpnmsa\",\n",
    "    \"CADD_RawScore\",\n",
    "    #\"phyloP-100v\",\n",
    "    #\"phyloP-241m\",\n",
    "    #\"phastCons-43p\",\n",
    "    \"phyloP-100v_noimputation\",\n",
    "    \"phyloP-241m_noimputation\",\n",
    "    \"phastCons-43p_noimputation\",\n",
    "]\n",
    "\n",
    "model_renaming = {\n",
    "    \"gpnmsa\": \"GPN-MSA\",\n",
    "    \"CADD_RawScore\": \"CADD\",\n",
    "    \"phyloP-100v_noimputation\": \"phyloP-100v\",\n",
    "    \"phyloP-241m_noimputation\": \"phyloP-241m\",\n",
    "    \"phastCons-43p_noimputation\": \"phastCons-43p\",\n",
    "}\n",
    "\n",
    "def load_dataset(dataset):\n",
    "    V = pl.read_parquet(f\"../../results/dataset/{dataset}/test.parquet\")\n",
    "    for model in models:\n",
    "        V = V.with_columns(\n",
    "            pl.read_parquet(f\"../../results/dataset/{dataset}/features/{model}.parquet\")[\"score\"].alias(model_renaming.get(model, model))\n",
    "        )\n",
    "    return V\n",
    "\n",
    "V = pl.concat((load_dataset(dataset) for dataset in datasets))\n",
    "models = [model_renaming.get(model, model) for model in models]\n",
    "print(V.select(models).null_count())\n",
    "V = V.drop_nulls(models)\n",
    "V"
   ]
  },
  {
   "cell_type": "code",
   "execution_count": 148,
   "id": "1f52b4eb-3660-4c48-876a-1dbeea178a37",
   "metadata": {},
   "outputs": [
    {
     "data": {
      "text/plain": [
       "0.10021171489061398"
      ]
     },
     "execution_count": 148,
     "metadata": {},
     "output_type": "execute_result"
    }
   ],
   "source": [
    "V[\"label\"].mean()"
   ]
  },
  {
   "cell_type": "code",
   "execution_count": 149,
   "id": "02392396-4461-4698-b640-bf2cd16f5d3b",
   "metadata": {},
   "outputs": [],
   "source": [
    "def odds_ratio_score(y_true, y_pred, threshold_q=0.05):\n",
    "    df = pl.DataFrame({\"label\": y_true, \"score\": -y_pred})\n",
    "    threshold = df.select(pl.col(\"score\").quantile(threshold_q))[\"score\"]\n",
    "    # TODO: need to decide how to handle ties... they are certainly an issue with phastCons\n",
    "    #if threshold_q == 0.05:\n",
    "    #    print((df[\"score\"] <= threshold).sum())\n",
    "    group_counts = (\n",
    "        df.group_by([\"label\", pl.col(\"score\") <= threshold]).len()\n",
    "        .sort([\"label\", \"score\"])[\"len\"].to_numpy().reshape((2,2))\n",
    "    )\n",
    "    #if threshold_q == 0.05:\n",
    "    #    print(group_counts)\n",
    "    res = odds_ratio(group_counts, kind=\"sample\")\n",
    "    ci = res.confidence_interval(confidence_level=0.95)\n",
    "    return res.statistic, ci.low, ci.high"
   ]
  },
  {
   "cell_type": "code",
   "execution_count": 150,
   "id": "dbf23915-80d6-41c2-946a-084bdb19ee42",
   "metadata": {},
   "outputs": [
    {
     "name": "stderr",
     "output_type": "stream",
     "text": [
      "100%|██████████| 5/5 [00:00<00:00, 17.52it/s]\n"
     ]
    },
    {
     "data": {
      "text/html": [
       "<div>\n",
       "<style scoped>\n",
       "    .dataframe tbody tr th:only-of-type {\n",
       "        vertical-align: middle;\n",
       "    }\n",
       "\n",
       "    .dataframe tbody tr th {\n",
       "        vertical-align: top;\n",
       "    }\n",
       "\n",
       "    .dataframe thead th {\n",
       "        text-align: right;\n",
       "    }\n",
       "</style>\n",
       "<table border=\"1\" class=\"dataframe\">\n",
       "  <thead>\n",
       "    <tr style=\"text-align: right;\">\n",
       "      <th></th>\n",
       "      <th>model</th>\n",
       "      <th>AUPRC</th>\n",
       "      <th>OR@0.1</th>\n",
       "      <th>OR@1</th>\n",
       "      <th>OR@10</th>\n",
       "    </tr>\n",
       "  </thead>\n",
       "  <tbody>\n",
       "    <tr>\n",
       "      <th>0</th>\n",
       "      <td>GPN-MSA</td>\n",
       "      <td>0.487902</td>\n",
       "      <td>(36.24644549763033, 4.041960709632535, 325.041...</td>\n",
       "      <td>(62.33762886597938, 26.18658159638974, 148.395...</td>\n",
       "      <td>(17.20323068707725, 13.599529263383138, 21.761...</td>\n",
       "    </tr>\n",
       "    <tr>\n",
       "      <th>1</th>\n",
       "      <td>CADD</td>\n",
       "      <td>0.464267</td>\n",
       "      <td>(6.009433962264151, 1.0013267478590135, 36.065...</td>\n",
       "      <td>(29.114503816793892, 14.599824216112216, 58.05...</td>\n",
       "      <td>(15.786886625704907, 12.492597571450387, 19.94...</td>\n",
       "    </tr>\n",
       "    <tr>\n",
       "      <th>2</th>\n",
       "      <td>phyloP-100v</td>\n",
       "      <td>0.425150</td>\n",
       "      <td>(36.24644549763033, 4.041960709632535, 325.041...</td>\n",
       "      <td>(51.87881013587955, 22.974040513725924, 117.15...</td>\n",
       "      <td>(14.092724567311457, 11.164060380234133, 17.78...</td>\n",
       "    </tr>\n",
       "    <tr>\n",
       "      <th>3</th>\n",
       "      <td>phyloP-241m</td>\n",
       "      <td>0.450092</td>\n",
       "      <td>(36.24644549763033, 4.041960709632535, 325.041...</td>\n",
       "      <td>(19.934177215189873, 10.668939976302193, 37.24...</td>\n",
       "      <td>(19.036763831052944, 15.027710365300246, 24.11...</td>\n",
       "    </tr>\n",
       "    <tr>\n",
       "      <th>4</th>\n",
       "      <td>phastCons-43p</td>\n",
       "      <td>0.306434</td>\n",
       "      <td>(7.938297872340425, 5.725112158653985, 11.0070...</td>\n",
       "      <td>(7.938297872340425, 5.725112158653985, 11.0070...</td>\n",
       "      <td>(7.691981132075472, 6.108099111405598, 9.68657...</td>\n",
       "    </tr>\n",
       "  </tbody>\n",
       "</table>\n",
       "</div>"
      ],
      "text/plain": [
       "           model     AUPRC                                             OR@0.1  \\\n",
       "0        GPN-MSA  0.487902  (36.24644549763033, 4.041960709632535, 325.041...   \n",
       "1           CADD  0.464267  (6.009433962264151, 1.0013267478590135, 36.065...   \n",
       "2    phyloP-100v  0.425150  (36.24644549763033, 4.041960709632535, 325.041...   \n",
       "3    phyloP-241m  0.450092  (36.24644549763033, 4.041960709632535, 325.041...   \n",
       "4  phastCons-43p  0.306434  (7.938297872340425, 5.725112158653985, 11.0070...   \n",
       "\n",
       "                                                OR@1  \\\n",
       "0  (62.33762886597938, 26.18658159638974, 148.395...   \n",
       "1  (29.114503816793892, 14.599824216112216, 58.05...   \n",
       "2  (51.87881013587955, 22.974040513725924, 117.15...   \n",
       "3  (19.934177215189873, 10.668939976302193, 37.24...   \n",
       "4  (7.938297872340425, 5.725112158653985, 11.0070...   \n",
       "\n",
       "                                               OR@10  \n",
       "0  (17.20323068707725, 13.599529263383138, 21.761...  \n",
       "1  (15.786886625704907, 12.492597571450387, 19.94...  \n",
       "2  (14.092724567311457, 11.164060380234133, 17.78...  \n",
       "3  (19.036763831052944, 15.027710365300246, 24.11...  \n",
       "4  (7.691981132075472, 6.108099111405598, 9.68657...  "
      ]
     },
     "execution_count": 150,
     "metadata": {},
     "output_type": "execute_result"
    }
   ],
   "source": [
    "or_pcts = [\n",
    "    0.1,\n",
    "    1,\n",
    "    10,\n",
    "]\n",
    "\n",
    "or_pct_cols = [f\"OR@{or_pct}\" for or_pct in or_pcts]\n",
    "\n",
    "res = []\n",
    "for model in tqdm(models):\n",
    "    y_true = V[\"label\"]\n",
    "    y_pred = V[model]\n",
    "    res.append((\n",
    "        model,\n",
    "        average_precision_score(y_true, y_pred),\n",
    "        *[odds_ratio_score(y_true, y_pred, or_pct / 100) for or_pct in or_pcts]\n",
    "    ))\n",
    "res = pd.DataFrame(res, columns=[\"model\", \"AUPRC\"] + or_pct_cols)\n",
    "res"
   ]
  },
  {
   "cell_type": "code",
   "execution_count": 151,
   "id": "06a03f9a-b301-498e-8286-9943e435c252",
   "metadata": {},
   "outputs": [
    {
     "data": {
      "text/plain": [
       "<Axes: xlabel='model', ylabel='AUPRC'>"
      ]
     },
     "execution_count": 151,
     "metadata": {},
     "output_type": "execute_result"
    },
    {
     "data": {
      "image/png": "[encoded data removed]",
      "text/plain": [
       "<Figure size 640x480 with 1 Axes>"
      ]
     },
     "metadata": {},
     "output_type": "display_data"
    }
   ],
   "source": [
    "# TODO: should get AUPRC error bars\n",
    "sns.barplot(data=res, x=\"model\", y=\"AUPRC\")"
   ]
  },
  {
   "cell_type": "code",
   "execution_count": 152,
   "id": "65046705-f186-4aee-bd86-b26971419090",
   "metadata": {},
   "outputs": [
    {
     "data": {
      "text/html": [
       "<div>\n",
       "<style scoped>\n",
       "    .dataframe tbody tr th:only-of-type {\n",
       "        vertical-align: middle;\n",
       "    }\n",
       "\n",
       "    .dataframe tbody tr th {\n",
       "        vertical-align: top;\n",
       "    }\n",
       "\n",
       "    .dataframe thead th {\n",
       "        text-align: right;\n",
       "    }\n",
       "</style>\n",
       "<table border=\"1\" class=\"dataframe\">\n",
       "  <thead>\n",
       "    <tr style=\"text-align: right;\">\n",
       "      <th></th>\n",
       "      <th>model</th>\n",
       "      <th>%</th>\n",
       "      <th>OR_CI</th>\n",
       "      <th>OR</th>\n",
       "      <th>ci_low</th>\n",
       "      <th>ci_high</th>\n",
       "    </tr>\n",
       "  </thead>\n",
       "  <tbody>\n",
       "    <tr>\n",
       "      <th>0</th>\n",
       "      <td>GPN-MSA</td>\n",
       "      <td>OR@0.1</td>\n",
       "      <td>(36.24644549763033, 4.041960709632535, 325.041...</td>\n",
       "      <td>36.246445</td>\n",
       "      <td>4.041961</td>\n",
       "      <td>325.041460</td>\n",
       "    </tr>\n",
       "    <tr>\n",
       "      <th>1</th>\n",
       "      <td>CADD</td>\n",
       "      <td>OR@0.1</td>\n",
       "      <td>(6.009433962264151, 1.0013267478590135, 36.065...</td>\n",
       "      <td>6.009434</td>\n",
       "      <td>1.001327</td>\n",
       "      <td>36.065447</td>\n",
       "    </tr>\n",
       "    <tr>\n",
       "      <th>2</th>\n",
       "      <td>phyloP-100v</td>\n",
       "      <td>OR@0.1</td>\n",
       "      <td>(36.24644549763033, 4.041960709632535, 325.041...</td>\n",
       "      <td>36.246445</td>\n",
       "      <td>4.041961</td>\n",
       "      <td>325.041460</td>\n",
       "    </tr>\n",
       "    <tr>\n",
       "      <th>3</th>\n",
       "      <td>phyloP-241m</td>\n",
       "      <td>OR@0.1</td>\n",
       "      <td>(36.24644549763033, 4.041960709632535, 325.041...</td>\n",
       "      <td>36.246445</td>\n",
       "      <td>4.041961</td>\n",
       "      <td>325.041460</td>\n",
       "    </tr>\n",
       "    <tr>\n",
       "      <th>4</th>\n",
       "      <td>phastCons-43p</td>\n",
       "      <td>OR@0.1</td>\n",
       "      <td>(7.938297872340425, 5.725112158653985, 11.0070...</td>\n",
       "      <td>7.938298</td>\n",
       "      <td>5.725112</td>\n",
       "      <td>11.007046</td>\n",
       "    </tr>\n",
       "    <tr>\n",
       "      <th>5</th>\n",
       "      <td>GPN-MSA</td>\n",
       "      <td>OR@1</td>\n",
       "      <td>(62.33762886597938, 26.18658159638974, 148.395...</td>\n",
       "      <td>62.337629</td>\n",
       "      <td>26.186582</td>\n",
       "      <td>148.395848</td>\n",
       "    </tr>\n",
       "    <tr>\n",
       "      <th>6</th>\n",
       "      <td>CADD</td>\n",
       "      <td>OR@1</td>\n",
       "      <td>(29.114503816793892, 14.599824216112216, 58.05...</td>\n",
       "      <td>29.114504</td>\n",
       "      <td>14.599824</td>\n",
       "      <td>58.059215</td>\n",
       "    </tr>\n",
       "    <tr>\n",
       "      <th>7</th>\n",
       "      <td>phyloP-100v</td>\n",
       "      <td>OR@1</td>\n",
       "      <td>(51.87881013587955, 22.974040513725924, 117.15...</td>\n",
       "      <td>51.878810</td>\n",
       "      <td>22.974041</td>\n",
       "      <td>117.150091</td>\n",
       "    </tr>\n",
       "    <tr>\n",
       "      <th>8</th>\n",
       "      <td>phyloP-241m</td>\n",
       "      <td>OR@1</td>\n",
       "      <td>(19.934177215189873, 10.668939976302193, 37.24...</td>\n",
       "      <td>19.934177</td>\n",
       "      <td>10.668940</td>\n",
       "      <td>37.245633</td>\n",
       "    </tr>\n",
       "    <tr>\n",
       "      <th>9</th>\n",
       "      <td>phastCons-43p</td>\n",
       "      <td>OR@1</td>\n",
       "      <td>(7.938297872340425, 5.725112158653985, 11.0070...</td>\n",
       "      <td>7.938298</td>\n",
       "      <td>5.725112</td>\n",
       "      <td>11.007046</td>\n",
       "    </tr>\n",
       "    <tr>\n",
       "      <th>10</th>\n",
       "      <td>GPN-MSA</td>\n",
       "      <td>OR@10</td>\n",
       "      <td>(17.20323068707725, 13.599529263383138, 21.761...</td>\n",
       "      <td>17.203231</td>\n",
       "      <td>13.599529</td>\n",
       "      <td>21.761867</td>\n",
       "    </tr>\n",
       "    <tr>\n",
       "      <th>11</th>\n",
       "      <td>CADD</td>\n",
       "      <td>OR@10</td>\n",
       "      <td>(15.786886625704907, 12.492597571450387, 19.94...</td>\n",
       "      <td>15.786887</td>\n",
       "      <td>12.492598</td>\n",
       "      <td>19.949877</td>\n",
       "    </tr>\n",
       "    <tr>\n",
       "      <th>12</th>\n",
       "      <td>phyloP-100v</td>\n",
       "      <td>OR@10</td>\n",
       "      <td>(14.092724567311457, 11.164060380234133, 17.78...</td>\n",
       "      <td>14.092725</td>\n",
       "      <td>11.164060</td>\n",
       "      <td>17.789664</td>\n",
       "    </tr>\n",
       "    <tr>\n",
       "      <th>13</th>\n",
       "      <td>phyloP-241m</td>\n",
       "      <td>OR@10</td>\n",
       "      <td>(19.036763831052944, 15.027710365300246, 24.11...</td>\n",
       "      <td>19.036764</td>\n",
       "      <td>15.027710</td>\n",
       "      <td>24.115342</td>\n",
       "    </tr>\n",
       "    <tr>\n",
       "      <th>14</th>\n",
       "      <td>phastCons-43p</td>\n",
       "      <td>OR@10</td>\n",
       "      <td>(7.691981132075472, 6.108099111405598, 9.68657...</td>\n",
       "      <td>7.691981</td>\n",
       "      <td>6.108099</td>\n",
       "      <td>9.686577</td>\n",
       "    </tr>\n",
       "  </tbody>\n",
       "</table>\n",
       "</div>"
      ],
      "text/plain": [
       "            model       %                                              OR_CI  \\\n",
       "0         GPN-MSA  OR@0.1  (36.24644549763033, 4.041960709632535, 325.041...   \n",
       "1            CADD  OR@0.1  (6.009433962264151, 1.0013267478590135, 36.065...   \n",
       "2     phyloP-100v  OR@0.1  (36.24644549763033, 4.041960709632535, 325.041...   \n",
       "3     phyloP-241m  OR@0.1  (36.24644549763033, 4.041960709632535, 325.041...   \n",
       "4   phastCons-43p  OR@0.1  (7.938297872340425, 5.725112158653985, 11.0070...   \n",
       "5         GPN-MSA    OR@1  (62.33762886597938, 26.18658159638974, 148.395...   \n",
       "6            CADD    OR@1  (29.114503816793892, 14.599824216112216, 58.05...   \n",
       "7     phyloP-100v    OR@1  (51.87881013587955, 22.974040513725924, 117.15...   \n",
       "8     phyloP-241m    OR@1  (19.934177215189873, 10.668939976302193, 37.24...   \n",
       "9   phastCons-43p    OR@1  (7.938297872340425, 5.725112158653985, 11.0070...   \n",
       "10        GPN-MSA   OR@10  (17.20323068707725, 13.599529263383138, 21.761...   \n",
       "11           CADD   OR@10  (15.786886625704907, 12.492597571450387, 19.94...   \n",
       "12    phyloP-100v   OR@10  (14.092724567311457, 11.164060380234133, 17.78...   \n",
       "13    phyloP-241m   OR@10  (19.036763831052944, 15.027710365300246, 24.11...   \n",
       "14  phastCons-43p   OR@10  (7.691981132075472, 6.108099111405598, 9.68657...   \n",
       "\n",
       "           OR     ci_low     ci_high  \n",
       "0   36.246445   4.041961  325.041460  \n",
       "1    6.009434   1.001327   36.065447  \n",
       "2   36.246445   4.041961  325.041460  \n",
       "3   36.246445   4.041961  325.041460  \n",
       "4    7.938298   5.725112   11.007046  \n",
       "5   62.337629  26.186582  148.395848  \n",
       "6   29.114504  14.599824   58.059215  \n",
       "7   51.878810  22.974041  117.150091  \n",
       "8   19.934177  10.668940   37.245633  \n",
       "9    7.938298   5.725112   11.007046  \n",
       "10  17.203231  13.599529   21.761867  \n",
       "11  15.786887  12.492598   19.949877  \n",
       "12  14.092725  11.164060   17.789664  \n",
       "13  19.036764  15.027710   24.115342  \n",
       "14   7.691981   6.108099    9.686577  "
      ]
     },
     "execution_count": 152,
     "metadata": {},
     "output_type": "execute_result"
    }
   ],
   "source": [
    "# Reshape the data from wide to long format for plotting using pandas.melt\n",
    "res_long = res.melt(\n",
    "    id_vars=\"model\",\n",
    "    value_vars=or_pct_cols,\n",
    "    var_name=\"%\",\n",
    "    value_name=\"OR_CI\",\n",
    ")\n",
    "\n",
    "# Extract OR and CI values into separate columns\n",
    "# The .str accessor provides an efficient way to split tuples in a Series\n",
    "res_long['OR'] = res_long['OR_CI'].str[0]\n",
    "res_long['ci_low'] = res_long['OR_CI'].str[1]\n",
    "res_long['ci_high'] = res_long['OR_CI'].str[2]\n",
    "res_long"
   ]
  },
  {
   "cell_type": "code",
   "execution_count": 153,
   "id": "64d0f521-60a5-4d16-98cb-7817501c759e",
   "metadata": {},
   "outputs": [
    {
     "data": {
      "image/png": "[encoded data removed]",
      "text/plain": [
       "<Figure size 600x400 with 1 Axes>"
      ]
     },
     "metadata": {},
     "output_type": "display_data"
    }
   ],
   "source": [
    "# 1. Create the bar plot\n",
    "plt.figure(figsize=(6, 4))\n",
    "ax = sns.barplot(data=res_long, x=\"%\", y=\"OR\", hue=\"model\")\n",
    "\n",
    "# 2. Add custom error bars robustly\n",
    "for bar in ax.patches:\n",
    "    # --- THIS IS THE FIX ---\n",
    "    # Ignore invisible \"ghost\" patches that seaborn sometimes creates\n",
    "    if bar.get_height() == 0 and bar.get_width() == 0:\n",
    "        continue\n",
    "\n",
    "    # Get the bar's color to identify its hue\n",
    "    bar_color = bar.get_facecolor()\n",
    "\n",
    "    # Get the x-tick label for the bar\n",
    "    x_tick_index = int(round(bar.get_x() + bar.get_width() / 2))\n",
    "    x_tick_label = ax.get_xticklabels()[x_tick_index].get_text()\n",
    "\n",
    "    # Get the handles for the legend\n",
    "    legend_handles, _ = ax.get_legend_handles_labels()\n",
    "\n",
    "    hue_label = \"\"\n",
    "    for handle in legend_handles:\n",
    "        # Use the .patches[0] version for robustness across matplotlib versions\n",
    "        if handle.get_facecolor() == bar_color:\n",
    "            hue_label = handle.get_label()\n",
    "            break\n",
    "\n",
    "    # Find the corresponding data row in the DataFrame\n",
    "    data_row = res_long[(res_long['model'] == hue_label) & (res_long['%'] == x_tick_label)]\n",
    "\n",
    "    if data_row.empty:\n",
    "        continue\n",
    "\n",
    "    # Extract data from the correctly identified row\n",
    "    ci_low = data_row['ci_low'].iloc[0]\n",
    "    ci_high = data_row['ci_high'].iloc[0]\n",
    "\n",
    "    # Use the bar's actual height for y-position and calculation\n",
    "    bar_height = bar.get_height()\n",
    "\n",
    "    # Calculate error bar magnitudes\n",
    "    lower_error = bar_height - ci_low\n",
    "    upper_error = ci_high - bar_height\n",
    "\n",
    "    # Ensure errors are positive\n",
    "    if lower_error < 0: lower_error = 0\n",
    "    if upper_error < 0: upper_error = 0\n",
    "\n",
    "    # Get the x-coordinate for the error bar\n",
    "    x_coord = bar.get_x() + bar.get_width() / 2\n",
    "\n",
    "    # Plot the correctly aligned error bar\n",
    "    ax.errorbar(x=x_coord, y=bar_height, yerr=[[lower_error], [upper_error]],\n",
    "                fmt='none',\n",
    "                c='black')\n",
    "\n",
    "# --- Final Touches ---\n",
    "# Use ax.set_ylim() for setting y-axis limits\n",
    "ax.set_ylim(bottom=0)\n",
    "sns.move_legend(ax, \"upper left\", bbox_to_anchor=(1, 1))\n",
    "ax.set_title(\"OR with 95% CI\")\n",
    "ax.set_ylabel(\"Odds Ratio (OR)\")\n",
    "ax.set_xlabel(\"\")\n",
    "sns.despine()\n",
    "plt.tight_layout()\n",
    "plt.show()"
   ]
  },
  {
   "cell_type": "code",
   "execution_count": 154,
   "id": "ef92bf11-bee7-4fce-a376-67f90f5ebbda",
   "metadata": {
    "scrolled": true
   },
   "outputs": [
    {
     "data": {
      "image/png": "[encoded data removed]",
      "text/plain": [
       "<Figure size 300x300 with 1 Axes>"
      ]
     },
     "metadata": {},
     "output_type": "display_data"
    }
   ],
   "source": [
    "plt.figure(figsize=(3, 3))\n",
    "sns.histplot(\n",
    "    data=V,\n",
    "    x=\"GPN-MSA\",\n",
    "    hue=\"label\",\n",
    "    stat=\"density\",\n",
    "    common_norm=False,\n",
    "    common_bins=True,\n",
    "    bins=25,\n",
    ")\n",
    "sns.despine();"
   ]
  },
  {
   "cell_type": "code",
   "execution_count": 155,
   "id": "25727509-99df-4dac-b9fa-6c6b78bac19c",
   "metadata": {},
   "outputs": [
    {
     "data": {
      "image/png": "[encoded data removed]",
      "text/plain": [
       "<Figure size 300x300 with 1 Axes>"
      ]
     },
     "metadata": {},
     "output_type": "display_data"
    }
   ],
   "source": [
    "plt.figure(figsize=(3, 3))\n",
    "sns.histplot(\n",
    "    data=V,\n",
    "    x=\"CADD\",\n",
    "    hue=\"label\",\n",
    "    stat=\"density\",\n",
    "    common_norm=False,\n",
    "    common_bins=True,\n",
    "    bins=25,\n",
    ")\n",
    "sns.despine();"
   ]
  },
  {
   "cell_type": "code",
   "execution_count": 156,
   "id": "5a78fc67-21d5-440e-be37-f16d42fe79cb",
   "metadata": {},
   "outputs": [
    {
     "data": {
      "image/png": "[encoded data removed]",
      "text/plain": [
       "<Figure size 300x300 with 1 Axes>"
      ]
     },
     "metadata": {},
     "output_type": "display_data"
    }
   ],
   "source": [
    "plt.figure(figsize=(3, 3))\n",
    "sns.histplot(\n",
    "    data=V,\n",
    "    x=\"phyloP-241m\",\n",
    "    hue=\"label\",\n",
    "    stat=\"density\",\n",
    "    common_norm=False,\n",
    "    common_bins=True,\n",
    "    bins=25,\n",
    ")\n",
    "sns.despine();"
   ]
  },
  {
   "cell_type": "code",
   "execution_count": 182,
   "id": "1050549a-acba-42e5-8d0c-1ea3daa5789f",
   "metadata": {},
   "outputs": [
    {
     "data": {
      "text/plain": [
       "0.8280902480312181"
      ]
     },
     "execution_count": 182,
     "metadata": {},
     "output_type": "execute_result"
    }
   ],
   "source": [
    "def my_ap_at_k(df, col_true, col_pred, n=100):\n",
    "    labels = df.sort(col_pred, descending=True).head(n)[col_true]\n",
    "    res = np.mean([\n",
    "        labels[:i+1].mean()\n",
    "        for i in np.where(labels)[0]\n",
    "    ])\n",
    "    return res\n",
    "\n",
    "my_ap_at_k(V, \"label\", \"GPN-MSA\", 100)"
   ]
  },
  {
   "cell_type": "code",
   "execution_count": 192,
   "id": "7f294c67-5da5-4cfe-945c-e9af8249263a",
   "metadata": {},
   "outputs": [
    {
     "name": "stdout",
     "output_type": "stream",
     "text": [
      "GPN-MSA 0.7116871465163811\n",
      "CADD 0.652108000580071\n",
      "phyloP-100v 0.6729598183430231\n",
      "phyloP-241m 0.6447420282673697\n",
      "phastCons-43p 0.4274612582974554\n"
     ]
    }
   ],
   "source": [
    "# I guess we want to average preciosion@N for N=1...M\n",
    "# potentially weighted?\n",
    "# see here:\n",
    "# https://stackoverflow.com/questions/55748792/understanding-precisionk-apk-mapk\n",
    "\n",
    "for model in models:\n",
    "    print(\n",
    "        model,\n",
    "        #my_ap_at_k(V, \"label\", model, 100),\n",
    "        my_ap_at_k(V, \"label\", model, len(V) // 10),\n",
    "        #my_ap_at_k(V, \"label\", model, len(V)),\n",
    "    )"
   ]
  },
  {
   "cell_type": "code",
   "execution_count": null,
   "id": "1cd0d538-117d-4191-bad4-c3dc67d93c0b",
   "metadata": {},
   "outputs": [],
   "source": []
  }
 ],
 "metadata": {
  "kernelspec": {
   "display_name": "gpn",
   "language": "python",
   "name": "gpn"
  },
  "language_info": {
   "codemirror_mode": {
    "name": "ipython",
    "version": 3
   },
   "file_extension": ".py",
   "mimetype": "text/x-python",
   "name": "python",
   "nbconvert_exporter": "python",
   "pygments_lexer": "ipython3",
   "version": "3.10.8"
  }
 },
 "nbformat": 4,
 "nbformat_minor": 5
}
