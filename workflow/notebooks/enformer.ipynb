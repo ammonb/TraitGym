{
 "cells": [
  {
   "cell_type": "code",
   "execution_count": 1,
   "metadata": {},
   "outputs": [
    {
     "name": "stderr",
     "output_type": "stream",
     "text": [
      "/accounts/projects/yss/gbenegas/.local/lib/python3.11/site-packages/tqdm/auto.py:21: TqdmWarning: IProgress not found. Please update jupyter and ipywidgets. See https://ipywidgets.readthedocs.io/en/stable/user_install.html\n",
      "  from .autonotebook import tqdm as notebook_tqdm\n",
      "/scratch/users/gbenegas/software/mambaforge/envs/gpn/lib/python3.11/site-packages/transformers/utils/hub.py:124: FutureWarning: Using `TRANSFORMERS_CACHE` is deprecated and will be removed in v5 of Transformers. Use `HF_HOME` instead.\n",
      "  warnings.warn(\n"
     ]
    }
   ],
   "source": [
    "from datasets import load_dataset\n",
    "import grelu.resources\n",
    "import grelu.variant\n",
    "import numpy as np\n",
    "import pandas as pd\n",
    "from scipy.stats import spearmanr, pearsonr\n",
    "from sklearn.metrics import average_precision_score"
   ]
  },
  {
   "cell_type": "code",
   "execution_count": 2,
   "metadata": {},
   "outputs": [
    {
     "data": {
      "text/html": [
       "<div>\n",
       "<style scoped>\n",
       "    .dataframe tbody tr th:only-of-type {\n",
       "        vertical-align: middle;\n",
       "    }\n",
       "\n",
       "    .dataframe tbody tr th {\n",
       "        vertical-align: top;\n",
       "    }\n",
       "\n",
       "    .dataframe thead th {\n",
       "        text-align: right;\n",
       "    }\n",
       "</style>\n",
       "<table border=\"1\" class=\"dataframe\">\n",
       "  <thead>\n",
       "    <tr style=\"text-align: right;\">\n",
       "      <th></th>\n",
       "      <th>chrom</th>\n",
       "      <th>pos</th>\n",
       "      <th>ref</th>\n",
       "      <th>alt</th>\n",
       "      <th>label</th>\n",
       "    </tr>\n",
       "  </thead>\n",
       "  <tbody>\n",
       "    <tr>\n",
       "      <th>0</th>\n",
       "      <td>chr1</td>\n",
       "      <td>3080038</td>\n",
       "      <td>T</td>\n",
       "      <td>C</td>\n",
       "      <td>True</td>\n",
       "    </tr>\n",
       "    <tr>\n",
       "      <th>1</th>\n",
       "      <td>chr1</td>\n",
       "      <td>3774964</td>\n",
       "      <td>A</td>\n",
       "      <td>G</td>\n",
       "      <td>True</td>\n",
       "    </tr>\n",
       "    <tr>\n",
       "      <th>2</th>\n",
       "      <td>chr1</td>\n",
       "      <td>6616131</td>\n",
       "      <td>C</td>\n",
       "      <td>T</td>\n",
       "      <td>False</td>\n",
       "    </tr>\n",
       "    <tr>\n",
       "      <th>3</th>\n",
       "      <td>chr1</td>\n",
       "      <td>7665224</td>\n",
       "      <td>C</td>\n",
       "      <td>A</td>\n",
       "      <td>False</td>\n",
       "    </tr>\n",
       "    <tr>\n",
       "      <th>4</th>\n",
       "      <td>chr1</td>\n",
       "      <td>8407293</td>\n",
       "      <td>G</td>\n",
       "      <td>A</td>\n",
       "      <td>False</td>\n",
       "    </tr>\n",
       "    <tr>\n",
       "      <th>...</th>\n",
       "      <td>...</td>\n",
       "      <td>...</td>\n",
       "      <td>...</td>\n",
       "      <td>...</td>\n",
       "      <td>...</td>\n",
       "    </tr>\n",
       "    <tr>\n",
       "      <th>1778</th>\n",
       "      <td>chr22</td>\n",
       "      <td>47019717</td>\n",
       "      <td>G</td>\n",
       "      <td>T</td>\n",
       "      <td>False</td>\n",
       "    </tr>\n",
       "    <tr>\n",
       "      <th>1779</th>\n",
       "      <td>chr22</td>\n",
       "      <td>47990921</td>\n",
       "      <td>C</td>\n",
       "      <td>T</td>\n",
       "      <td>True</td>\n",
       "    </tr>\n",
       "    <tr>\n",
       "      <th>1780</th>\n",
       "      <td>chr22</td>\n",
       "      <td>50007172</td>\n",
       "      <td>T</td>\n",
       "      <td>C</td>\n",
       "      <td>False</td>\n",
       "    </tr>\n",
       "    <tr>\n",
       "      <th>1781</th>\n",
       "      <td>chr22</td>\n",
       "      <td>50190508</td>\n",
       "      <td>G</td>\n",
       "      <td>A</td>\n",
       "      <td>True</td>\n",
       "    </tr>\n",
       "    <tr>\n",
       "      <th>1782</th>\n",
       "      <td>chr22</td>\n",
       "      <td>50532837</td>\n",
       "      <td>T</td>\n",
       "      <td>C</td>\n",
       "      <td>True</td>\n",
       "    </tr>\n",
       "  </tbody>\n",
       "</table>\n",
       "<p>1783 rows × 5 columns</p>\n",
       "</div>"
      ],
      "text/plain": [
       "      chrom       pos ref alt  label\n",
       "0      chr1   3080038   T   C   True\n",
       "1      chr1   3774964   A   G   True\n",
       "2      chr1   6616131   C   T  False\n",
       "3      chr1   7665224   C   A  False\n",
       "4      chr1   8407293   G   A  False\n",
       "...     ...       ...  ..  ..    ...\n",
       "1778  chr22  47019717   G   T  False\n",
       "1779  chr22  47990921   C   T   True\n",
       "1780  chr22  50007172   T   C  False\n",
       "1781  chr22  50190508   G   A   True\n",
       "1782  chr22  50532837   T   C   True\n",
       "\n",
       "[1783 rows x 5 columns]"
      ]
     },
     "execution_count": 2,
     "metadata": {},
     "output_type": "execute_result"
    }
   ],
   "source": [
    "dataset_path = \"gonzalobenegas/siraj_gwas_highpip\"\n",
    "V = load_dataset(dataset_path, split=\"test\").to_pandas()\n",
    "V.chrom = \"chr\" + V.chrom\n",
    "V"
   ]
  },
  {
   "cell_type": "code",
   "execution_count": 3,
   "metadata": {},
   "outputs": [],
   "source": [
    "#precomputed = pd.read_parquet(f\"https://huggingface.co/datasets/{dataset_path}/resolve/main/features/Enformer_absDelta.parquet\")\n",
    "#precomputed_cols = precomputed.columns\n",
    "#V = pd.concat([V, precomputed], axis=1)\n",
    "#V = V.dropna()\n",
    "#precomputed = V[precomputed_cols].values\n",
    "#V.shape"
   ]
  },
  {
   "cell_type": "code",
   "execution_count": 4,
   "metadata": {},
   "outputs": [
    {
     "name": "stderr",
     "output_type": "stream",
     "text": [
      "Failed to detect the name of this notebook, you can set it manually with the WANDB_NOTEBOOK_NAME environment variable to enable code saving.\n",
      "\u001b[34m\u001b[1mwandb\u001b[0m: Currently logged in as: \u001b[33mgonzalobenegas\u001b[0m. Use \u001b[1m`wandb login --relogin`\u001b[0m to force relogin\n",
      "\u001b[34m\u001b[1mwandb\u001b[0m: Downloading large artifact human:latest, 940.48MB. 1 files... \n",
      "\u001b[34m\u001b[1mwandb\u001b[0m:   1 of 1 files downloaded.  \n",
      "Done. 0:0:0.7\n"
     ]
    }
   ],
   "source": [
    "model = grelu.resources.load_model(project=\"enformer\", model_name=\"human\")\n",
    "#model = grelu.resources.load_model(project=\"borzoi\", model_name=\"human_fold0\")"
   ]
  },
  {
   "cell_type": "code",
   "execution_count": 23,
   "metadata": {},
   "outputs": [
    {
     "data": {
      "text/plain": [
       "196608"
      ]
     },
     "execution_count": 23,
     "metadata": {},
     "output_type": "execute_result"
    }
   ],
   "source": [
    "L = model.data_params[\"train_seq_len\"]\n",
    "L"
   ]
  },
  {
   "cell_type": "code",
   "execution_count": 26,
   "metadata": {},
   "outputs": [
    {
     "data": {
      "text/html": [
       "<div>\n",
       "<style scoped>\n",
       "    .dataframe tbody tr th:only-of-type {\n",
       "        vertical-align: middle;\n",
       "    }\n",
       "\n",
       "    .dataframe tbody tr th {\n",
       "        vertical-align: top;\n",
       "    }\n",
       "\n",
       "    .dataframe thead th {\n",
       "        text-align: right;\n",
       "    }\n",
       "</style>\n",
       "<table border=\"1\" class=\"dataframe\">\n",
       "  <thead>\n",
       "    <tr style=\"text-align: right;\">\n",
       "      <th></th>\n",
       "      <th>chrom</th>\n",
       "      <th>pos</th>\n",
       "      <th>ref</th>\n",
       "      <th>alt</th>\n",
       "      <th>label</th>\n",
       "      <th>start</th>\n",
       "      <th>end</th>\n",
       "    </tr>\n",
       "  </thead>\n",
       "  <tbody>\n",
       "    <tr>\n",
       "      <th>0</th>\n",
       "      <td>chr1</td>\n",
       "      <td>3080038</td>\n",
       "      <td>T</td>\n",
       "      <td>C</td>\n",
       "      <td>True</td>\n",
       "      <td>2981733</td>\n",
       "      <td>3178341</td>\n",
       "    </tr>\n",
       "    <tr>\n",
       "      <th>1</th>\n",
       "      <td>chr1</td>\n",
       "      <td>3774964</td>\n",
       "      <td>A</td>\n",
       "      <td>G</td>\n",
       "      <td>True</td>\n",
       "      <td>3676659</td>\n",
       "      <td>3873267</td>\n",
       "    </tr>\n",
       "    <tr>\n",
       "      <th>2</th>\n",
       "      <td>chr1</td>\n",
       "      <td>6616131</td>\n",
       "      <td>C</td>\n",
       "      <td>T</td>\n",
       "      <td>False</td>\n",
       "      <td>6517826</td>\n",
       "      <td>6714434</td>\n",
       "    </tr>\n",
       "    <tr>\n",
       "      <th>3</th>\n",
       "      <td>chr1</td>\n",
       "      <td>7665224</td>\n",
       "      <td>C</td>\n",
       "      <td>A</td>\n",
       "      <td>False</td>\n",
       "      <td>7566919</td>\n",
       "      <td>7763527</td>\n",
       "    </tr>\n",
       "    <tr>\n",
       "      <th>4</th>\n",
       "      <td>chr1</td>\n",
       "      <td>8407293</td>\n",
       "      <td>G</td>\n",
       "      <td>A</td>\n",
       "      <td>False</td>\n",
       "      <td>8308988</td>\n",
       "      <td>8505596</td>\n",
       "    </tr>\n",
       "    <tr>\n",
       "      <th>...</th>\n",
       "      <td>...</td>\n",
       "      <td>...</td>\n",
       "      <td>...</td>\n",
       "      <td>...</td>\n",
       "      <td>...</td>\n",
       "      <td>...</td>\n",
       "      <td>...</td>\n",
       "    </tr>\n",
       "    <tr>\n",
       "      <th>1778</th>\n",
       "      <td>chr22</td>\n",
       "      <td>47019717</td>\n",
       "      <td>G</td>\n",
       "      <td>T</td>\n",
       "      <td>False</td>\n",
       "      <td>46921412</td>\n",
       "      <td>47118020</td>\n",
       "    </tr>\n",
       "    <tr>\n",
       "      <th>1779</th>\n",
       "      <td>chr22</td>\n",
       "      <td>47990921</td>\n",
       "      <td>C</td>\n",
       "      <td>T</td>\n",
       "      <td>True</td>\n",
       "      <td>47892616</td>\n",
       "      <td>48089224</td>\n",
       "    </tr>\n",
       "    <tr>\n",
       "      <th>1780</th>\n",
       "      <td>chr22</td>\n",
       "      <td>50007172</td>\n",
       "      <td>T</td>\n",
       "      <td>C</td>\n",
       "      <td>False</td>\n",
       "      <td>49908867</td>\n",
       "      <td>50105475</td>\n",
       "    </tr>\n",
       "    <tr>\n",
       "      <th>1781</th>\n",
       "      <td>chr22</td>\n",
       "      <td>50190508</td>\n",
       "      <td>G</td>\n",
       "      <td>A</td>\n",
       "      <td>True</td>\n",
       "      <td>50092203</td>\n",
       "      <td>50288811</td>\n",
       "    </tr>\n",
       "    <tr>\n",
       "      <th>1782</th>\n",
       "      <td>chr22</td>\n",
       "      <td>50532837</td>\n",
       "      <td>T</td>\n",
       "      <td>C</td>\n",
       "      <td>True</td>\n",
       "      <td>50434532</td>\n",
       "      <td>50631140</td>\n",
       "    </tr>\n",
       "  </tbody>\n",
       "</table>\n",
       "<p>1783 rows × 7 columns</p>\n",
       "</div>"
      ],
      "text/plain": [
       "      chrom       pos ref alt  label     start       end\n",
       "0      chr1   3080038   T   C   True   2981733   3178341\n",
       "1      chr1   3774964   A   G   True   3676659   3873267\n",
       "2      chr1   6616131   C   T  False   6517826   6714434\n",
       "3      chr1   7665224   C   A  False   7566919   7763527\n",
       "4      chr1   8407293   G   A  False   8308988   8505596\n",
       "...     ...       ...  ..  ..    ...       ...       ...\n",
       "1778  chr22  47019717   G   T  False  46921412  47118020\n",
       "1779  chr22  47990921   C   T   True  47892616  48089224\n",
       "1780  chr22  50007172   T   C  False  49908867  50105475\n",
       "1781  chr22  50190508   G   A   True  50092203  50288811\n",
       "1782  chr22  50532837   T   C   True  50434532  50631140\n",
       "\n",
       "[1783 rows x 7 columns]"
      ]
     },
     "execution_count": 26,
     "metadata": {},
     "output_type": "execute_result"
    }
   ],
   "source": [
    "V[\"start\"] = V.pos - 1 - L // 2\n",
    "V[\"end\"] = V.start + L\n",
    "V"
   ]
  },
  {
   "cell_type": "code",
   "execution_count": 31,
   "metadata": {},
   "outputs": [
    {
     "data": {
      "text/html": [
       "<div>\n",
       "<style scoped>\n",
       "    .dataframe tbody tr th:only-of-type {\n",
       "        vertical-align: middle;\n",
       "    }\n",
       "\n",
       "    .dataframe tbody tr th {\n",
       "        vertical-align: top;\n",
       "    }\n",
       "\n",
       "    .dataframe thead th {\n",
       "        text-align: right;\n",
       "    }\n",
       "</style>\n",
       "<table border=\"1\" class=\"dataframe\">\n",
       "  <thead>\n",
       "    <tr style=\"text-align: right;\">\n",
       "      <th></th>\n",
       "      <th>chrom</th>\n",
       "      <th>length</th>\n",
       "    </tr>\n",
       "  </thead>\n",
       "  <tbody>\n",
       "    <tr>\n",
       "      <th>0</th>\n",
       "      <td>chr1</td>\n",
       "      <td>248956422</td>\n",
       "    </tr>\n",
       "    <tr>\n",
       "      <th>1</th>\n",
       "      <td>chr2</td>\n",
       "      <td>242193529</td>\n",
       "    </tr>\n",
       "    <tr>\n",
       "      <th>2</th>\n",
       "      <td>chr3</td>\n",
       "      <td>198295559</td>\n",
       "    </tr>\n",
       "    <tr>\n",
       "      <th>3</th>\n",
       "      <td>chr4</td>\n",
       "      <td>190214555</td>\n",
       "    </tr>\n",
       "    <tr>\n",
       "      <th>4</th>\n",
       "      <td>chr5</td>\n",
       "      <td>181538259</td>\n",
       "    </tr>\n",
       "    <tr>\n",
       "      <th>5</th>\n",
       "      <td>chr6</td>\n",
       "      <td>170805979</td>\n",
       "    </tr>\n",
       "    <tr>\n",
       "      <th>6</th>\n",
       "      <td>chr7</td>\n",
       "      <td>159345973</td>\n",
       "    </tr>\n",
       "    <tr>\n",
       "      <th>7</th>\n",
       "      <td>chr8</td>\n",
       "      <td>145138636</td>\n",
       "    </tr>\n",
       "    <tr>\n",
       "      <th>8</th>\n",
       "      <td>chr9</td>\n",
       "      <td>138394717</td>\n",
       "    </tr>\n",
       "    <tr>\n",
       "      <th>9</th>\n",
       "      <td>chr10</td>\n",
       "      <td>133797422</td>\n",
       "    </tr>\n",
       "    <tr>\n",
       "      <th>10</th>\n",
       "      <td>chr11</td>\n",
       "      <td>135086622</td>\n",
       "    </tr>\n",
       "    <tr>\n",
       "      <th>11</th>\n",
       "      <td>chr12</td>\n",
       "      <td>133275309</td>\n",
       "    </tr>\n",
       "    <tr>\n",
       "      <th>12</th>\n",
       "      <td>chr13</td>\n",
       "      <td>114364328</td>\n",
       "    </tr>\n",
       "    <tr>\n",
       "      <th>13</th>\n",
       "      <td>chr14</td>\n",
       "      <td>107043718</td>\n",
       "    </tr>\n",
       "    <tr>\n",
       "      <th>14</th>\n",
       "      <td>chr15</td>\n",
       "      <td>101991189</td>\n",
       "    </tr>\n",
       "    <tr>\n",
       "      <th>15</th>\n",
       "      <td>chr16</td>\n",
       "      <td>90338345</td>\n",
       "    </tr>\n",
       "    <tr>\n",
       "      <th>16</th>\n",
       "      <td>chr17</td>\n",
       "      <td>83257441</td>\n",
       "    </tr>\n",
       "    <tr>\n",
       "      <th>17</th>\n",
       "      <td>chr18</td>\n",
       "      <td>80373285</td>\n",
       "    </tr>\n",
       "    <tr>\n",
       "      <th>18</th>\n",
       "      <td>chr19</td>\n",
       "      <td>58617616</td>\n",
       "    </tr>\n",
       "    <tr>\n",
       "      <th>19</th>\n",
       "      <td>chr20</td>\n",
       "      <td>64444167</td>\n",
       "    </tr>\n",
       "    <tr>\n",
       "      <th>20</th>\n",
       "      <td>chr21</td>\n",
       "      <td>46709983</td>\n",
       "    </tr>\n",
       "    <tr>\n",
       "      <th>21</th>\n",
       "      <td>chr22</td>\n",
       "      <td>50818468</td>\n",
       "    </tr>\n",
       "    <tr>\n",
       "      <th>22</th>\n",
       "      <td>chrX</td>\n",
       "      <td>156040895</td>\n",
       "    </tr>\n",
       "    <tr>\n",
       "      <th>23</th>\n",
       "      <td>chrY</td>\n",
       "      <td>57227415</td>\n",
       "    </tr>\n",
       "    <tr>\n",
       "      <th>24</th>\n",
       "      <td>chrM</td>\n",
       "      <td>16569</td>\n",
       "    </tr>\n",
       "  </tbody>\n",
       "</table>\n",
       "</div>"
      ],
      "text/plain": [
       "    chrom     length\n",
       "0    chr1  248956422\n",
       "1    chr2  242193529\n",
       "2    chr3  198295559\n",
       "3    chr4  190214555\n",
       "4    chr5  181538259\n",
       "5    chr6  170805979\n",
       "6    chr7  159345973\n",
       "7    chr8  145138636\n",
       "8    chr9  138394717\n",
       "9   chr10  133797422\n",
       "10  chr11  135086622\n",
       "11  chr12  133275309\n",
       "12  chr13  114364328\n",
       "13  chr14  107043718\n",
       "14  chr15  101991189\n",
       "15  chr16   90338345\n",
       "16  chr17   83257441\n",
       "17  chr18   80373285\n",
       "18  chr19   58617616\n",
       "19  chr20   64444167\n",
       "20  chr21   46709983\n",
       "21  chr22   50818468\n",
       "22   chrX  156040895\n",
       "23   chrY   57227415\n",
       "24   chrM      16569"
      ]
     },
     "execution_count": 31,
     "metadata": {},
     "output_type": "execute_result"
    }
   ],
   "source": [
    "import bioframe as bf\n",
    "\n",
    "\n",
    "chromsizes = bf.fetch_chromsizes(\"hg38\").to_frame().reset_index().rename(columns={\"index\": \"chrom\"})\n",
    "chromsizes"
   ]
  },
  {
   "cell_type": "code",
   "execution_count": 32,
   "metadata": {},
   "outputs": [
    {
     "data": {
      "text/html": [
       "<div>\n",
       "<style scoped>\n",
       "    .dataframe tbody tr th:only-of-type {\n",
       "        vertical-align: middle;\n",
       "    }\n",
       "\n",
       "    .dataframe tbody tr th {\n",
       "        vertical-align: top;\n",
       "    }\n",
       "\n",
       "    .dataframe thead th {\n",
       "        text-align: right;\n",
       "    }\n",
       "</style>\n",
       "<table border=\"1\" class=\"dataframe\">\n",
       "  <thead>\n",
       "    <tr style=\"text-align: right;\">\n",
       "      <th></th>\n",
       "      <th>chrom</th>\n",
       "      <th>pos</th>\n",
       "      <th>ref</th>\n",
       "      <th>alt</th>\n",
       "      <th>label</th>\n",
       "      <th>start</th>\n",
       "      <th>end</th>\n",
       "      <th>length</th>\n",
       "    </tr>\n",
       "  </thead>\n",
       "  <tbody>\n",
       "    <tr>\n",
       "      <th>0</th>\n",
       "      <td>chr1</td>\n",
       "      <td>3080038</td>\n",
       "      <td>T</td>\n",
       "      <td>C</td>\n",
       "      <td>True</td>\n",
       "      <td>2981733</td>\n",
       "      <td>3178341</td>\n",
       "      <td>248956422</td>\n",
       "    </tr>\n",
       "    <tr>\n",
       "      <th>1</th>\n",
       "      <td>chr1</td>\n",
       "      <td>3774964</td>\n",
       "      <td>A</td>\n",
       "      <td>G</td>\n",
       "      <td>True</td>\n",
       "      <td>3676659</td>\n",
       "      <td>3873267</td>\n",
       "      <td>248956422</td>\n",
       "    </tr>\n",
       "    <tr>\n",
       "      <th>2</th>\n",
       "      <td>chr1</td>\n",
       "      <td>6616131</td>\n",
       "      <td>C</td>\n",
       "      <td>T</td>\n",
       "      <td>False</td>\n",
       "      <td>6517826</td>\n",
       "      <td>6714434</td>\n",
       "      <td>248956422</td>\n",
       "    </tr>\n",
       "    <tr>\n",
       "      <th>3</th>\n",
       "      <td>chr1</td>\n",
       "      <td>7665224</td>\n",
       "      <td>C</td>\n",
       "      <td>A</td>\n",
       "      <td>False</td>\n",
       "      <td>7566919</td>\n",
       "      <td>7763527</td>\n",
       "      <td>248956422</td>\n",
       "    </tr>\n",
       "    <tr>\n",
       "      <th>4</th>\n",
       "      <td>chr1</td>\n",
       "      <td>8407293</td>\n",
       "      <td>G</td>\n",
       "      <td>A</td>\n",
       "      <td>False</td>\n",
       "      <td>8308988</td>\n",
       "      <td>8505596</td>\n",
       "      <td>248956422</td>\n",
       "    </tr>\n",
       "    <tr>\n",
       "      <th>...</th>\n",
       "      <td>...</td>\n",
       "      <td>...</td>\n",
       "      <td>...</td>\n",
       "      <td>...</td>\n",
       "      <td>...</td>\n",
       "      <td>...</td>\n",
       "      <td>...</td>\n",
       "      <td>...</td>\n",
       "    </tr>\n",
       "    <tr>\n",
       "      <th>1778</th>\n",
       "      <td>chr22</td>\n",
       "      <td>47019717</td>\n",
       "      <td>G</td>\n",
       "      <td>T</td>\n",
       "      <td>False</td>\n",
       "      <td>46921412</td>\n",
       "      <td>47118020</td>\n",
       "      <td>50818468</td>\n",
       "    </tr>\n",
       "    <tr>\n",
       "      <th>1779</th>\n",
       "      <td>chr22</td>\n",
       "      <td>47990921</td>\n",
       "      <td>C</td>\n",
       "      <td>T</td>\n",
       "      <td>True</td>\n",
       "      <td>47892616</td>\n",
       "      <td>48089224</td>\n",
       "      <td>50818468</td>\n",
       "    </tr>\n",
       "    <tr>\n",
       "      <th>1780</th>\n",
       "      <td>chr22</td>\n",
       "      <td>50007172</td>\n",
       "      <td>T</td>\n",
       "      <td>C</td>\n",
       "      <td>False</td>\n",
       "      <td>49908867</td>\n",
       "      <td>50105475</td>\n",
       "      <td>50818468</td>\n",
       "    </tr>\n",
       "    <tr>\n",
       "      <th>1781</th>\n",
       "      <td>chr22</td>\n",
       "      <td>50190508</td>\n",
       "      <td>G</td>\n",
       "      <td>A</td>\n",
       "      <td>True</td>\n",
       "      <td>50092203</td>\n",
       "      <td>50288811</td>\n",
       "      <td>50818468</td>\n",
       "    </tr>\n",
       "    <tr>\n",
       "      <th>1782</th>\n",
       "      <td>chr22</td>\n",
       "      <td>50532837</td>\n",
       "      <td>T</td>\n",
       "      <td>C</td>\n",
       "      <td>True</td>\n",
       "      <td>50434532</td>\n",
       "      <td>50631140</td>\n",
       "      <td>50818468</td>\n",
       "    </tr>\n",
       "  </tbody>\n",
       "</table>\n",
       "<p>1783 rows × 8 columns</p>\n",
       "</div>"
      ],
      "text/plain": [
       "      chrom       pos ref alt  label     start       end     length\n",
       "0      chr1   3080038   T   C   True   2981733   3178341  248956422\n",
       "1      chr1   3774964   A   G   True   3676659   3873267  248956422\n",
       "2      chr1   6616131   C   T  False   6517826   6714434  248956422\n",
       "3      chr1   7665224   C   A  False   7566919   7763527  248956422\n",
       "4      chr1   8407293   G   A  False   8308988   8505596  248956422\n",
       "...     ...       ...  ..  ..    ...       ...       ...        ...\n",
       "1778  chr22  47019717   G   T  False  46921412  47118020   50818468\n",
       "1779  chr22  47990921   C   T   True  47892616  48089224   50818468\n",
       "1780  chr22  50007172   T   C  False  49908867  50105475   50818468\n",
       "1781  chr22  50190508   G   A   True  50092203  50288811   50818468\n",
       "1782  chr22  50532837   T   C   True  50434532  50631140   50818468\n",
       "\n",
       "[1783 rows x 8 columns]"
      ]
     },
     "execution_count": 32,
     "metadata": {},
     "output_type": "execute_result"
    }
   ],
   "source": [
    "V = pd.merge(V, chromsizes, on=\"chrom\", how=\"left\")\n",
    "V"
   ]
  },
  {
   "cell_type": "code",
   "execution_count": 33,
   "metadata": {},
   "outputs": [
    {
     "data": {
      "text/plain": [
       "within_bounds\n",
       "True     1782\n",
       "False       1\n",
       "Name: count, dtype: int64"
      ]
     },
     "execution_count": 33,
     "metadata": {},
     "output_type": "execute_result"
    }
   ],
   "source": [
    "V[\"within_bounds\"] = (V.start >= 0) & (V.end <= V.length)\n",
    "V[\"within_bounds\"].value_counts()"
   ]
  },
  {
   "cell_type": "code",
   "execution_count": 34,
   "metadata": {},
   "outputs": [
    {
     "data": {
      "text/html": [
       "<div>\n",
       "<style scoped>\n",
       "    .dataframe tbody tr th:only-of-type {\n",
       "        vertical-align: middle;\n",
       "    }\n",
       "\n",
       "    .dataframe tbody tr th {\n",
       "        vertical-align: top;\n",
       "    }\n",
       "\n",
       "    .dataframe thead th {\n",
       "        text-align: right;\n",
       "    }\n",
       "</style>\n",
       "<table border=\"1\" class=\"dataframe\">\n",
       "  <thead>\n",
       "    <tr style=\"text-align: right;\">\n",
       "      <th></th>\n",
       "      <th>chrom</th>\n",
       "      <th>pos</th>\n",
       "      <th>ref</th>\n",
       "      <th>alt</th>\n",
       "      <th>label</th>\n",
       "      <th>start</th>\n",
       "      <th>end</th>\n",
       "      <th>length</th>\n",
       "      <th>within_bounds</th>\n",
       "    </tr>\n",
       "  </thead>\n",
       "  <tbody>\n",
       "    <tr>\n",
       "      <th>167</th>\n",
       "      <td>chr1</td>\n",
       "      <td>248897507</td>\n",
       "      <td>G</td>\n",
       "      <td>A</td>\n",
       "      <td>True</td>\n",
       "      <td>248799202</td>\n",
       "      <td>248995810</td>\n",
       "      <td>248956422</td>\n",
       "      <td>False</td>\n",
       "    </tr>\n",
       "  </tbody>\n",
       "</table>\n",
       "</div>"
      ],
      "text/plain": [
       "    chrom        pos ref alt  label      start        end     length  \\\n",
       "167  chr1  248897507   G   A   True  248799202  248995810  248956422   \n",
       "\n",
       "     within_bounds  \n",
       "167          False  "
      ]
     },
     "execution_count": 34,
     "metadata": {},
     "output_type": "execute_result"
    }
   ],
   "source": [
    "V[~V.within_bounds]"
   ]
  },
  {
   "cell_type": "code",
   "execution_count": 5,
   "metadata": {},
   "outputs": [],
   "source": [
    "n = 4"
   ]
  },
  {
   "cell_type": "code",
   "execution_count": 19,
   "metadata": {},
   "outputs": [
    {
     "name": "stdout",
     "output_type": "stream",
     "text": [
      "making dataset\n"
     ]
    },
    {
     "ename": "AssertionError",
     "evalue": "All input sequences must have the same length.",
     "output_type": "error",
     "traceback": [
      "\u001b[0;31m---------------------------------------------------------------------------\u001b[0m",
      "\u001b[0;31mAssertionError\u001b[0m                            Traceback (most recent call last)",
      "Cell \u001b[0;32mIn[19], line 1\u001b[0m\n\u001b[0;32m----> 1\u001b[0m delta \u001b[38;5;241m=\u001b[39m grelu\u001b[38;5;241m.\u001b[39mvariant\u001b[38;5;241m.\u001b[39mpredict_variant_effects(\n\u001b[1;32m      2\u001b[0m     \u001b[38;5;66;03m#variants=V.head(n),\u001b[39;00m\n\u001b[1;32m      3\u001b[0m     \u001b[38;5;66;03m#variants=V,\u001b[39;00m\n\u001b[1;32m      4\u001b[0m     variants\u001b[38;5;241m=\u001b[39mV\u001b[38;5;241m.\u001b[39miloc[\u001b[38;5;241m167\u001b[39m:\u001b[38;5;241m170\u001b[39m],\n\u001b[1;32m      5\u001b[0m     model\u001b[38;5;241m=\u001b[39mmodel, \n\u001b[1;32m      6\u001b[0m     devices\u001b[38;5;241m=\u001b[39m\u001b[38;5;241m0\u001b[39m, \u001b[38;5;66;03m# Run on GPU 0\u001b[39;00m\n\u001b[1;32m      7\u001b[0m     num_workers\u001b[38;5;241m=\u001b[39m\u001b[38;5;241m8\u001b[39m,\n\u001b[1;32m      8\u001b[0m     batch_size\u001b[38;5;241m=\u001b[39m\u001b[38;5;241m2\u001b[39m,\n\u001b[1;32m      9\u001b[0m     genome\u001b[38;5;241m=\u001b[39m\u001b[38;5;124m\"\u001b[39m\u001b[38;5;124mhg38\u001b[39m\u001b[38;5;124m\"\u001b[39m,\n\u001b[1;32m     10\u001b[0m     compare_func\u001b[38;5;241m=\u001b[39m\u001b[38;5;124m\"\u001b[39m\u001b[38;5;124msubtract\u001b[39m\u001b[38;5;124m\"\u001b[39m,\n\u001b[1;32m     11\u001b[0m     return_ad\u001b[38;5;241m=\u001b[39m\u001b[38;5;28;01mFalse\u001b[39;00m,\n\u001b[1;32m     12\u001b[0m     rc \u001b[38;5;241m=\u001b[39m \u001b[38;5;28;01mTrue\u001b[39;00m, \u001b[38;5;66;03m# Reverse complement the ref/alt predictions and average them.\u001b[39;00m\n\u001b[1;32m     13\u001b[0m )\n\u001b[1;32m     14\u001b[0m delta\u001b[38;5;241m.\u001b[39mshape\n",
      "File \u001b[0;32m~/projects/gReLU/src/grelu/variant.py:231\u001b[0m, in \u001b[0;36mpredict_variant_effects\u001b[0;34m(variants, model, devices, seq_len, batch_size, num_workers, genome, rc, max_seq_shift, compare_func, return_ad, check_reference)\u001b[0m\n\u001b[1;32m    228\u001b[0m     check_reference(variants, genome\u001b[38;5;241m=\u001b[39mgenome)\n\u001b[1;32m    230\u001b[0m \u001b[38;5;28mprint\u001b[39m(\u001b[38;5;124m\"\u001b[39m\u001b[38;5;124mmaking dataset\u001b[39m\u001b[38;5;124m\"\u001b[39m)\n\u001b[0;32m--> 231\u001b[0m dataset \u001b[38;5;241m=\u001b[39m VariantDataset(\n\u001b[1;32m    232\u001b[0m     variants,\n\u001b[1;32m    233\u001b[0m     seq_len\u001b[38;5;241m=\u001b[39mseq_len \u001b[38;5;129;01mor\u001b[39;00m model\u001b[38;5;241m.\u001b[39mdata_params[\u001b[38;5;124m\"\u001b[39m\u001b[38;5;124mtrain_seq_len\u001b[39m\u001b[38;5;124m\"\u001b[39m],\n\u001b[1;32m    234\u001b[0m     genome\u001b[38;5;241m=\u001b[39mgenome,\n\u001b[1;32m    235\u001b[0m     rc\u001b[38;5;241m=\u001b[39mrc,\n\u001b[1;32m    236\u001b[0m     max_seq_shift\u001b[38;5;241m=\u001b[39mmax_seq_shift,\n\u001b[1;32m    237\u001b[0m )\n\u001b[1;32m    239\u001b[0m \u001b[38;5;66;03m# Model forward pass\u001b[39;00m\n\u001b[1;32m    240\u001b[0m odds \u001b[38;5;241m=\u001b[39m model\u001b[38;5;241m.\u001b[39mpredict_on_dataset(\n\u001b[1;32m    241\u001b[0m     dataset,\n\u001b[1;32m    242\u001b[0m     devices\u001b[38;5;241m=\u001b[39mdevices,\n\u001b[0;32m   (...)\u001b[0m\n\u001b[1;32m    246\u001b[0m     compare_func\u001b[38;5;241m=\u001b[39mcompare_func,\n\u001b[1;32m    247\u001b[0m )\n",
      "File \u001b[0;32m~/projects/gReLU/src/grelu/data/dataset.py:575\u001b[0m, in \u001b[0;36mVariantDataset.__init__\u001b[0;34m(self, variants, seq_len, genome, rc, max_seq_shift, frac_mutation, n_mutated_seqs, protect, seed, augment_mode)\u001b[0m\n\u001b[1;32m    572\u001b[0m \u001b[38;5;28mself\u001b[39m\u001b[38;5;241m.\u001b[39mn_alleles \u001b[38;5;241m=\u001b[39m \u001b[38;5;241m2\u001b[39m\n\u001b[1;32m    574\u001b[0m \u001b[38;5;66;03m# Ingest sequences\u001b[39;00m\n\u001b[0;32m--> 575\u001b[0m \u001b[38;5;28mself\u001b[39m\u001b[38;5;241m.\u001b[39m_load_seqs(variants)\n\u001b[1;32m    576\u001b[0m \u001b[38;5;28mself\u001b[39m\u001b[38;5;241m.\u001b[39mn_seqs \u001b[38;5;241m=\u001b[39m \u001b[38;5;28mself\u001b[39m\u001b[38;5;241m.\u001b[39mseqs\u001b[38;5;241m.\u001b[39mshape[\u001b[38;5;241m0\u001b[39m]\n\u001b[1;32m    578\u001b[0m \u001b[38;5;66;03m# Protect central positions for mutation\u001b[39;00m\n",
      "File \u001b[0;32m~/projects/gReLU/src/grelu/data/dataset.py:606\u001b[0m, in \u001b[0;36mVariantDataset._load_seqs\u001b[0;34m(self, variants)\u001b[0m\n\u001b[1;32m    604\u001b[0m \u001b[38;5;28mself\u001b[39m\u001b[38;5;241m.\u001b[39mpadded_seq_len \u001b[38;5;241m=\u001b[39m \u001b[38;5;28mself\u001b[39m\u001b[38;5;241m.\u001b[39mseq_len \u001b[38;5;241m+\u001b[39m (\u001b[38;5;241m2\u001b[39m \u001b[38;5;241m*\u001b[39m \u001b[38;5;28mself\u001b[39m\u001b[38;5;241m.\u001b[39mmax_seq_shift)\n\u001b[1;32m    605\u001b[0m \u001b[38;5;28mself\u001b[39m\u001b[38;5;241m.\u001b[39mintervals \u001b[38;5;241m=\u001b[39m variants_to_intervals(variants, seq_len\u001b[38;5;241m=\u001b[39m\u001b[38;5;28mself\u001b[39m\u001b[38;5;241m.\u001b[39mpadded_seq_len)\n\u001b[0;32m--> 606\u001b[0m \u001b[38;5;28mself\u001b[39m\u001b[38;5;241m.\u001b[39mseqs \u001b[38;5;241m=\u001b[39m convert_input_type(\u001b[38;5;28mself\u001b[39m\u001b[38;5;241m.\u001b[39mintervals, \u001b[38;5;124m\"\u001b[39m\u001b[38;5;124mindices\u001b[39m\u001b[38;5;124m\"\u001b[39m, genome\u001b[38;5;241m=\u001b[39m\u001b[38;5;28mself\u001b[39m\u001b[38;5;241m.\u001b[39mgenome)\n",
      "File \u001b[0;32m~/projects/gReLU/src/grelu/sequence/format.py:414\u001b[0m, in \u001b[0;36mconvert_input_type\u001b[0;34m(inputs, output_type, genome, add_batch_axis)\u001b[0m\n\u001b[1;32m    412\u001b[0m         \u001b[38;5;28;01mreturn\u001b[39;00m strings_to_one_hot(inputs, add_batch_axis\u001b[38;5;241m=\u001b[39madd_batch_axis)\n\u001b[1;32m    413\u001b[0m     \u001b[38;5;28;01melif\u001b[39;00m output_type \u001b[38;5;241m==\u001b[39m \u001b[38;5;124m\"\u001b[39m\u001b[38;5;124mindices\u001b[39m\u001b[38;5;124m\"\u001b[39m:\n\u001b[0;32m--> 414\u001b[0m         \u001b[38;5;28;01mreturn\u001b[39;00m strings_to_indices(inputs, add_batch_axis\u001b[38;5;241m=\u001b[39madd_batch_axis)\n\u001b[1;32m    416\u001b[0m \u001b[38;5;66;03m# Convert indices\u001b[39;00m\n\u001b[1;32m    417\u001b[0m \u001b[38;5;28;01mif\u001b[39;00m input_type \u001b[38;5;241m==\u001b[39m \u001b[38;5;124m\"\u001b[39m\u001b[38;5;124mindices\u001b[39m\u001b[38;5;124m\"\u001b[39m:\n",
      "File \u001b[0;32m~/projects/gReLU/src/grelu/sequence/format.py:251\u001b[0m, in \u001b[0;36mstrings_to_indices\u001b[0;34m(strings, add_batch_axis)\u001b[0m\n\u001b[1;32m    247\u001b[0m         \u001b[38;5;28;01mreturn\u001b[39;00m arr\n\u001b[1;32m    249\u001b[0m \u001b[38;5;66;03m# Convert multiple sequences; they must all have equal length\u001b[39;00m\n\u001b[1;32m    250\u001b[0m \u001b[38;5;28;01melse\u001b[39;00m:\n\u001b[0;32m--> 251\u001b[0m     \u001b[38;5;28;01massert\u001b[39;00m check_equal_lengths(\n\u001b[1;32m    252\u001b[0m         strings\n\u001b[1;32m    253\u001b[0m     ), \u001b[38;5;124m\"\u001b[39m\u001b[38;5;124mAll input sequences must have the same length.\u001b[39m\u001b[38;5;124m\"\u001b[39m\n\u001b[1;32m    254\u001b[0m     \u001b[38;5;28;01mreturn\u001b[39;00m np\u001b[38;5;241m.\u001b[39mstack(\n\u001b[1;32m    255\u001b[0m         [[BASE_TO_INDEX_HASH[base] \u001b[38;5;28;01mfor\u001b[39;00m base \u001b[38;5;129;01min\u001b[39;00m string] \u001b[38;5;28;01mfor\u001b[39;00m string \u001b[38;5;129;01min\u001b[39;00m strings]\n\u001b[1;32m    256\u001b[0m     )\u001b[38;5;241m.\u001b[39mastype(np\u001b[38;5;241m.\u001b[39mint8)\n",
      "\u001b[0;31mAssertionError\u001b[0m: All input sequences must have the same length."
     ]
    }
   ],
   "source": [
    "delta = grelu.variant.predict_variant_effects(\n",
    "    #variants=V.head(n),\n",
    "    #variants=V,\n",
    "    variants=V.iloc[167:170],\n",
    "    model=model, \n",
    "    devices=0, # Run on GPU 0\n",
    "    num_workers=8,\n",
    "    batch_size=2,\n",
    "    genome=\"hg38\",\n",
    "    compare_func=\"subtract\",\n",
    "    return_ad=False,\n",
    "    rc = True, # Reverse complement the ref/alt predictions and average them.\n",
    ")\n",
    "delta.shape"
   ]
  },
  {
   "cell_type": "code",
   "execution_count": 20,
   "metadata": {},
   "outputs": [
    {
     "data": {
      "text/html": [
       "<div>\n",
       "<style scoped>\n",
       "    .dataframe tbody tr th:only-of-type {\n",
       "        vertical-align: middle;\n",
       "    }\n",
       "\n",
       "    .dataframe tbody tr th {\n",
       "        vertical-align: top;\n",
       "    }\n",
       "\n",
       "    .dataframe thead th {\n",
       "        text-align: right;\n",
       "    }\n",
       "</style>\n",
       "<table border=\"1\" class=\"dataframe\">\n",
       "  <thead>\n",
       "    <tr style=\"text-align: right;\">\n",
       "      <th></th>\n",
       "      <th>chrom</th>\n",
       "      <th>pos</th>\n",
       "      <th>ref</th>\n",
       "      <th>alt</th>\n",
       "      <th>label</th>\n",
       "    </tr>\n",
       "  </thead>\n",
       "  <tbody>\n",
       "    <tr>\n",
       "      <th>167</th>\n",
       "      <td>chr1</td>\n",
       "      <td>248897507</td>\n",
       "      <td>G</td>\n",
       "      <td>A</td>\n",
       "      <td>True</td>\n",
       "    </tr>\n",
       "    <tr>\n",
       "      <th>168</th>\n",
       "      <td>chr2</td>\n",
       "      <td>242793</td>\n",
       "      <td>G</td>\n",
       "      <td>C</td>\n",
       "      <td>True</td>\n",
       "    </tr>\n",
       "    <tr>\n",
       "      <th>169</th>\n",
       "      <td>chr2</td>\n",
       "      <td>417167</td>\n",
       "      <td>T</td>\n",
       "      <td>C</td>\n",
       "      <td>True</td>\n",
       "    </tr>\n",
       "    <tr>\n",
       "      <th>170</th>\n",
       "      <td>chr2</td>\n",
       "      <td>6586354</td>\n",
       "      <td>A</td>\n",
       "      <td>T</td>\n",
       "      <td>False</td>\n",
       "    </tr>\n",
       "  </tbody>\n",
       "</table>\n",
       "</div>"
      ],
      "text/plain": [
       "    chrom        pos ref alt  label\n",
       "167  chr1  248897507   G   A   True\n",
       "168  chr2     242793   G   C   True\n",
       "169  chr2     417167   T   C   True\n",
       "170  chr2    6586354   A   T  False"
      ]
     },
     "execution_count": 20,
     "metadata": {},
     "output_type": "execute_result"
    }
   ],
   "source": [
    "V.loc[167:170]"
   ]
  },
  {
   "cell_type": "code",
   "execution_count": 21,
   "metadata": {},
   "outputs": [
    {
     "data": {
      "text/plain": [
       "58915"
      ]
     },
     "execution_count": 21,
     "metadata": {},
     "output_type": "execute_result"
    }
   ],
   "source": [
    "248956422 - 248897507"
   ]
  },
  {
   "cell_type": "code",
   "execution_count": 8,
   "metadata": {},
   "outputs": [
    {
     "data": {
      "text/plain": [
       "(4, 7611)"
      ]
     },
     "execution_count": 8,
     "metadata": {},
     "output_type": "execute_result"
    }
   ],
   "source": [
    "sum_score = np.sum(delta, axis=2)\n",
    "sum_score.shape"
   ]
  },
  {
   "cell_type": "code",
   "execution_count": 9,
   "metadata": {},
   "outputs": [
    {
     "name": "stdout",
     "output_type": "stream",
     "text": [
      "making dataset\n"
     ]
    },
    {
     "name": "stderr",
     "output_type": "stream",
     "text": [
      "/scratch/users/gbenegas/software/mambaforge/envs/gpn/lib/python3.11/site-packages/lightning_fabric/plugins/environments/slurm.py:204: The `srun` command is available on your system but is not used. HINT: If your intention is to run Lightning on SLURM, prepend your python command with `srun` like so: srun python /scratch/users/gbenegas/software/mambaforge/envs/gpn ...\n",
      "GPU available: True (cuda), used: True\n",
      "TPU available: False, using: 0 TPU cores\n",
      "IPU available: False, using: 0 IPUs\n",
      "HPU available: False, using: 0 HPUs\n",
      "LOCAL_RANK: 0 - CUDA_VISIBLE_DEVICES: [0]\n"
     ]
    },
    {
     "name": "stdout",
     "output_type": "stream",
     "text": [
      "Predicting DataLoader 0: 100%|█████████████████████████████████████| 8/8 [00:10<00:00,  0.74it/s]\n"
     ]
    },
    {
     "data": {
      "text/plain": [
       "(4, 7611, 6144)"
      ]
     },
     "execution_count": 9,
     "metadata": {},
     "output_type": "execute_result"
    }
   ],
   "source": [
    "def log2fc_1p(x: np.ndarray, y: np.ndarray) -> np.ndarray:\n",
    "    return np.log2(1+x) - np.log2(1+y)\n",
    "\n",
    "lfc = grelu.variant.predict_variant_effects(\n",
    "    variants=V.head(n),\n",
    "    model=model, \n",
    "    devices=0, # Run on GPU 0\n",
    "    num_workers=8,\n",
    "    batch_size=2,\n",
    "    genome=\"hg38\",\n",
    "    compare_func=log2fc_1p,\n",
    "    return_ad=False, # Return an anndata object.\n",
    "    rc = True, # Reverse complement the ref/alt predictions and average them.\n",
    ")\n",
    "lfc.shape"
   ]
  },
  {
   "cell_type": "code",
   "execution_count": 10,
   "metadata": {},
   "outputs": [
    {
     "data": {
      "text/plain": [
       "(4, 7611)"
      ]
     },
     "execution_count": 10,
     "metadata": {},
     "output_type": "execute_result"
    }
   ],
   "source": [
    "l2_score = np.linalg.norm(lfc, axis=2)\n",
    "l2_score.shape"
   ]
  },
  {
   "cell_type": "markdown",
   "metadata": {},
   "source": [
    "## Benchmarking"
   ]
  },
  {
   "cell_type": "code",
   "execution_count": 13,
   "metadata": {},
   "outputs": [
    {
     "data": {
      "text/plain": [
       "0.5"
      ]
     },
     "execution_count": 13,
     "metadata": {},
     "output_type": "execute_result"
    }
   ],
   "source": [
    "V.head(n).label.mean()"
   ]
  },
  {
   "cell_type": "code",
   "execution_count": 14,
   "metadata": {},
   "outputs": [
    {
     "data": {
      "text/plain": [
       "1.0"
      ]
     },
     "execution_count": 14,
     "metadata": {},
     "output_type": "execute_result"
    }
   ],
   "source": [
    "average_precision_score(V.head(n).label, np.linalg.norm(precomputed[:n], axis=1))"
   ]
  },
  {
   "cell_type": "code",
   "execution_count": 15,
   "metadata": {},
   "outputs": [
    {
     "data": {
      "text/plain": [
       "1.0"
      ]
     },
     "execution_count": 15,
     "metadata": {},
     "output_type": "execute_result"
    }
   ],
   "source": [
    "average_precision_score(V.head(n).label, np.linalg.norm(sum_score[:n], axis=1))"
   ]
  },
  {
   "cell_type": "code",
   "execution_count": 16,
   "metadata": {},
   "outputs": [
    {
     "data": {
      "text/plain": [
       "1.0"
      ]
     },
     "execution_count": 16,
     "metadata": {},
     "output_type": "execute_result"
    }
   ],
   "source": [
    "average_precision_score(V.head(n).label, np.linalg.norm(l2_score[:n], axis=1))"
   ]
  }
 ],
 "metadata": {
  "kernelspec": {
   "display_name": "gpn",
   "language": "python",
   "name": "gpn"
  },
  "language_info": {
   "codemirror_mode": {
    "name": "ipython",
    "version": 3
   },
   "file_extension": ".py",
   "mimetype": "text/x-python",
   "name": "python",
   "nbconvert_exporter": "python",
   "pygments_lexer": "ipython3",
   "version": "3.11.3"
  }
 },
 "nbformat": 4,
 "nbformat_minor": 2
}
