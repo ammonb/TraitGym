{
 "cells": [
  {
   "cell_type": "code",
   "execution_count": 1,
   "metadata": {},
   "outputs": [
    {
     "name": "stderr",
     "output_type": "stream",
     "text": [
      "/accounts/projects/yss/gbenegas/.local/lib/python3.11/site-packages/tqdm/auto.py:21: TqdmWarning: IProgress not found. Please update jupyter and ipywidgets. See https://ipywidgets.readthedocs.io/en/stable/user_install.html\n",
      "  from .autonotebook import tqdm as notebook_tqdm\n",
      "/scratch/users/gbenegas/software/mambaforge/envs/gpn/lib/python3.11/site-packages/transformers/utils/hub.py:124: FutureWarning: Using `TRANSFORMERS_CACHE` is deprecated and will be removed in v5 of Transformers. Use `HF_HOME` instead.\n",
      "  warnings.warn(\n",
      "2024-08-10 23:16:38.838590: I tensorflow/core/util/port.cc:110] oneDNN custom operations are on. You may see slightly different numerical results due to floating-point round-off errors from different computation orders. To turn them off, set the environment variable `TF_ENABLE_ONEDNN_OPTS=0`.\n",
      "2024-08-10 23:16:38.885784: I tensorflow/core/platform/cpu_feature_guard.cc:182] This TensorFlow binary is optimized to use available CPU instructions in performance-critical operations.\n",
      "To enable the following instructions: SSE4.1 SSE4.2 AVX AVX2 AVX512F AVX512_VNNI FMA, in other operations, rebuild TensorFlow with the appropriate compiler flags.\n"
     ]
    }
   ],
   "source": [
    "from Bio.Seq import Seq\n",
    "from datasets import load_dataset\n",
    "from gpn.data import Genome\n",
    "import grelu.resources\n",
    "from grelu.sequence.format import strings_to_one_hot\n",
    "import grelu.variant\n",
    "import numpy as np\n",
    "import pandas as pd\n",
    "from scipy.stats import spearmanr, pearsonr\n",
    "from sklearn.metrics import average_precision_score\n",
    "import tempfile\n",
    "import torch\n",
    "from transformers import Trainer, TrainingArguments"
   ]
  },
  {
   "cell_type": "code",
   "execution_count": 2,
   "metadata": {},
   "outputs": [],
   "source": [
    "dataset_path = \"gonzalobenegas/siraj_gwas_highpip\""
   ]
  },
  {
   "cell_type": "code",
   "execution_count": 3,
   "metadata": {},
   "outputs": [
    {
     "data": {
      "text/html": [
       "<div>\n",
       "<style scoped>\n",
       "    .dataframe tbody tr th:only-of-type {\n",
       "        vertical-align: middle;\n",
       "    }\n",
       "\n",
       "    .dataframe tbody tr th {\n",
       "        vertical-align: top;\n",
       "    }\n",
       "\n",
       "    .dataframe thead th {\n",
       "        text-align: right;\n",
       "    }\n",
       "</style>\n",
       "<table border=\"1\" class=\"dataframe\">\n",
       "  <thead>\n",
       "    <tr style=\"text-align: right;\">\n",
       "      <th></th>\n",
       "      <th>chrom</th>\n",
       "      <th>pos</th>\n",
       "      <th>ref</th>\n",
       "      <th>alt</th>\n",
       "      <th>label</th>\n",
       "    </tr>\n",
       "  </thead>\n",
       "  <tbody>\n",
       "    <tr>\n",
       "      <th>0</th>\n",
       "      <td>chr1</td>\n",
       "      <td>3080038</td>\n",
       "      <td>T</td>\n",
       "      <td>C</td>\n",
       "      <td>True</td>\n",
       "    </tr>\n",
       "    <tr>\n",
       "      <th>1</th>\n",
       "      <td>chr1</td>\n",
       "      <td>3774964</td>\n",
       "      <td>A</td>\n",
       "      <td>G</td>\n",
       "      <td>True</td>\n",
       "    </tr>\n",
       "    <tr>\n",
       "      <th>2</th>\n",
       "      <td>chr1</td>\n",
       "      <td>6616131</td>\n",
       "      <td>C</td>\n",
       "      <td>T</td>\n",
       "      <td>False</td>\n",
       "    </tr>\n",
       "    <tr>\n",
       "      <th>3</th>\n",
       "      <td>chr1</td>\n",
       "      <td>7665224</td>\n",
       "      <td>C</td>\n",
       "      <td>A</td>\n",
       "      <td>False</td>\n",
       "    </tr>\n",
       "    <tr>\n",
       "      <th>4</th>\n",
       "      <td>chr1</td>\n",
       "      <td>8407293</td>\n",
       "      <td>G</td>\n",
       "      <td>A</td>\n",
       "      <td>False</td>\n",
       "    </tr>\n",
       "    <tr>\n",
       "      <th>...</th>\n",
       "      <td>...</td>\n",
       "      <td>...</td>\n",
       "      <td>...</td>\n",
       "      <td>...</td>\n",
       "      <td>...</td>\n",
       "    </tr>\n",
       "    <tr>\n",
       "      <th>1778</th>\n",
       "      <td>chr22</td>\n",
       "      <td>47019717</td>\n",
       "      <td>G</td>\n",
       "      <td>T</td>\n",
       "      <td>False</td>\n",
       "    </tr>\n",
       "    <tr>\n",
       "      <th>1779</th>\n",
       "      <td>chr22</td>\n",
       "      <td>47990921</td>\n",
       "      <td>C</td>\n",
       "      <td>T</td>\n",
       "      <td>True</td>\n",
       "    </tr>\n",
       "    <tr>\n",
       "      <th>1780</th>\n",
       "      <td>chr22</td>\n",
       "      <td>50007172</td>\n",
       "      <td>T</td>\n",
       "      <td>C</td>\n",
       "      <td>False</td>\n",
       "    </tr>\n",
       "    <tr>\n",
       "      <th>1781</th>\n",
       "      <td>chr22</td>\n",
       "      <td>50190508</td>\n",
       "      <td>G</td>\n",
       "      <td>A</td>\n",
       "      <td>True</td>\n",
       "    </tr>\n",
       "    <tr>\n",
       "      <th>1782</th>\n",
       "      <td>chr22</td>\n",
       "      <td>50532837</td>\n",
       "      <td>T</td>\n",
       "      <td>C</td>\n",
       "      <td>True</td>\n",
       "    </tr>\n",
       "  </tbody>\n",
       "</table>\n",
       "<p>1783 rows × 5 columns</p>\n",
       "</div>"
      ],
      "text/plain": [
       "      chrom       pos ref alt  label\n",
       "0      chr1   3080038   T   C   True\n",
       "1      chr1   3774964   A   G   True\n",
       "2      chr1   6616131   C   T  False\n",
       "3      chr1   7665224   C   A  False\n",
       "4      chr1   8407293   G   A  False\n",
       "...     ...       ...  ..  ..    ...\n",
       "1778  chr22  47019717   G   T  False\n",
       "1779  chr22  47990921   C   T   True\n",
       "1780  chr22  50007172   T   C  False\n",
       "1781  chr22  50190508   G   A   True\n",
       "1782  chr22  50532837   T   C   True\n",
       "\n",
       "[1783 rows x 5 columns]"
      ]
     },
     "execution_count": 3,
     "metadata": {},
     "output_type": "execute_result"
    }
   ],
   "source": [
    "V = load_dataset(dataset_path, split=\"test\").to_pandas()\n",
    "#V = V.head(32)\n",
    "V.chrom = \"chr\" + V.chrom\n",
    "V"
   ]
  },
  {
   "cell_type": "code",
   "execution_count": 4,
   "metadata": {},
   "outputs": [
    {
     "data": {
      "text/plain": [
       "Dataset({\n",
       "    features: ['chrom', 'pos', 'ref', 'alt', 'label'],\n",
       "    num_rows: 1783\n",
       "})"
      ]
     },
     "execution_count": 4,
     "metadata": {},
     "output_type": "execute_result"
    }
   ],
   "source": [
    "d = load_dataset(dataset_path, split=\"test\")\n",
    "d"
   ]
  },
  {
   "cell_type": "code",
   "execution_count": 5,
   "metadata": {},
   "outputs": [],
   "source": [
    "genome = Genome(\"../../results/genome.fa.gz\")"
   ]
  },
  {
   "cell_type": "code",
   "execution_count": 6,
   "metadata": {},
   "outputs": [],
   "source": [
    "def transform_f(V):\n",
    "    # we convert from 1-based coordinate (standard in VCF) to\n",
    "    # 0-based, to use with Genome\n",
    "    chrom = np.array(V[\"chrom\"])\n",
    "    n = len(chrom)\n",
    "    pos = np.array(V[\"pos\"]) - 1\n",
    "    start = pos - window_size // 2\n",
    "    end = pos + window_size // 2\n",
    "    seq_fwd, seq_rev = zip(\n",
    "        *(genome.get_seq_fwd_rev(chrom[i], start[i], end[i]) for i in range(n))\n",
    "    )\n",
    "    seq_fwd = np.array([list(seq.upper()) for seq in seq_fwd], dtype=\"object\")\n",
    "    seq_rev = np.array([list(seq.upper()) for seq in seq_rev], dtype=\"object\")\n",
    "    assert seq_fwd.shape[1] == window_size\n",
    "    assert seq_rev.shape[1] == window_size\n",
    "    ref_fwd = np.array(V[\"ref\"])\n",
    "    alt_fwd = np.array(V[\"alt\"])\n",
    "    ref_rev = np.array([str(Seq(x).reverse_complement()) for x in ref_fwd])\n",
    "    alt_rev = np.array([str(Seq(x).reverse_complement()) for x in alt_fwd])\n",
    "    pos_fwd = window_size // 2\n",
    "    pos_rev = pos_fwd - 1 if window_size % 2 == 0 else pos_fwd\n",
    "\n",
    "    def prepare_output(seq, pos, ref, alt):\n",
    "        assert (seq[:, pos] == ref).all(), f\"{seq[:, pos]}, {ref}\"\n",
    "        seq_ref = seq\n",
    "        seq_alt = seq.copy()\n",
    "        seq_alt[:, pos] = alt\n",
    "        return (\n",
    "            strings_to_one_hot([\"\".join(x) for x in seq_ref]),\n",
    "            strings_to_one_hot([\"\".join(x) for x in seq_alt]),\n",
    "        )\n",
    "\n",
    "    res = {}\n",
    "    res[\"x_ref_fwd\"], res[\"x_alt_fwd\"] = prepare_output(seq_fwd, pos_fwd, ref_fwd, alt_fwd)\n",
    "    res[\"x_ref_rev\"], res[\"x_alt_rev\"] = prepare_output(seq_rev, pos_rev, ref_rev, alt_rev)\n",
    "    return res"
   ]
  },
  {
   "cell_type": "code",
   "execution_count": 7,
   "metadata": {},
   "outputs": [],
   "source": [
    "d.set_transform(transform_f)"
   ]
  },
  {
   "cell_type": "code",
   "execution_count": 8,
   "metadata": {},
   "outputs": [],
   "source": [
    "class VEPModel(torch.nn.Module):\n",
    "    def __init__(self, model):\n",
    "        super().__init__()\n",
    "        self.model = model\n",
    "\n",
    "    def get_scores(self, x_ref, x_alt):\n",
    "        y_ref = self.model(x_ref)\n",
    "        y_alt = self.model(x_alt)\n",
    "        lfc = torch.log2(1 + y_alt) - torch.log2(1 + y_ref)\n",
    "        l2 = torch.linalg.norm(lfc, dim=2)\n",
    "        return l2\n",
    "\n",
    "    def forward(\n",
    "        self,\n",
    "        x_ref_fwd=None,\n",
    "        x_alt_fwd=None,\n",
    "        x_ref_rev=None,\n",
    "        x_alt_rev=None,\n",
    "    ):\n",
    "        fwd = self.get_scores(x_ref_fwd, x_alt_fwd)\n",
    "        rev = self.get_scores(x_ref_rev, x_alt_rev)\n",
    "        return (fwd + rev) / 2"
   ]
  },
  {
   "cell_type": "code",
   "execution_count": 9,
   "metadata": {},
   "outputs": [
    {
     "name": "stderr",
     "output_type": "stream",
     "text": [
      "Failed to detect the name of this notebook, you can set it manually with the WANDB_NOTEBOOK_NAME environment variable to enable code saving.\n",
      "\u001b[34m\u001b[1mwandb\u001b[0m: Currently logged in as: \u001b[33mgonzalobenegas\u001b[0m. Use \u001b[1m`wandb login --relogin`\u001b[0m to force relogin\n",
      "\u001b[34m\u001b[1mwandb\u001b[0m: Downloading large artifact human_fold0:latest, 711.00MB. 1 files... \n",
      "\u001b[34m\u001b[1mwandb\u001b[0m:   1 of 1 files downloaded.  \n",
      "Done. 0:0:0.8\n"
     ]
    }
   ],
   "source": [
    "#model = grelu.resources.load_model(project=\"enformer\", model_name=\"human\")\n",
    "model = grelu.resources.load_model(project=\"borzoi\", model_name=\"human_fold0\")\n",
    "\n",
    "columns = model.data_params['tasks'][\"name\"]\n",
    "window_size = model.data_params[\"train_seq_len\"]\n",
    "model = VEPModel(model.model)"
   ]
  },
  {
   "cell_type": "code",
   "execution_count": 10,
   "metadata": {},
   "outputs": [],
   "source": [
    "#torch.set_float32_matmul_precision(\"medium\")\n",
    "training_args = TrainingArguments(\n",
    "    output_dir=tempfile.TemporaryDirectory().name,\n",
    "    per_device_eval_batch_size=8,\n",
    "    dataloader_num_workers=8,\n",
    "    remove_unused_columns=False,\n",
    "    #torch_compile=True,\n",
    "    #fp16=True,\n",
    "    #fp16_full_eval=True,\n",
    ")\n",
    "trainer = Trainer(model=model, args=training_args)\n",
    "preds = trainer.predict(test_dataset=d).predictions\n",
    "#preds.shape\n",
    "preds"
   ]
  },
  {
   "cell_type": "markdown",
   "metadata": {},
   "source": [
    "## Benchmarking"
   ]
  },
  {
   "cell_type": "code",
   "execution_count": 16,
   "metadata": {},
   "outputs": [
    {
     "data": {
      "text/plain": [
       "0.5002804262478968"
      ]
     },
     "execution_count": 16,
     "metadata": {},
     "output_type": "execute_result"
    }
   ],
   "source": [
    "V.label.mean()"
   ]
  },
  {
   "cell_type": "code",
   "execution_count": 17,
   "metadata": {},
   "outputs": [
    {
     "data": {
      "text/plain": [
       "0.7148561444772359"
      ]
     },
     "execution_count": 17,
     "metadata": {},
     "output_type": "execute_result"
    }
   ],
   "source": [
    "average_precision_score(V.label, np.linalg.norm(preds, axis=1))"
   ]
  },
  {
   "cell_type": "code",
   "execution_count": null,
   "metadata": {},
   "outputs": [],
   "source": [
    "df = pd.DataFrame(preds, columns=columns)\n",
    "df"
   ]
  },
  {
   "cell_type": "code",
   "execution_count": null,
   "metadata": {},
   "outputs": [],
   "source": [
    "#df.to_parquet(\"Enformer.parquet\", index=False)\n",
    "#df.to_parquet(\"Borzoi.parquet\", index=False)"
   ]
  },
  {
   "cell_type": "code",
   "execution_count": 18,
   "metadata": {},
   "outputs": [
    {
     "data": {
      "text/plain": [
       "0"
      ]
     },
     "execution_count": 18,
     "metadata": {},
     "output_type": "execute_result"
    }
   ],
   "source": [
    "np.isnan(preds).sum()"
   ]
  },
  {
   "cell_type": "code",
   "execution_count": null,
   "metadata": {},
   "outputs": [],
   "source": []
  }
 ],
 "metadata": {
  "kernelspec": {
   "display_name": "gpn",
   "language": "python",
   "name": "gpn"
  }
 },
 "nbformat": 4,
 "nbformat_minor": 2
}
