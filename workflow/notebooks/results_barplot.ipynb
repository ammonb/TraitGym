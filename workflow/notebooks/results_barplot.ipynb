{
 "cells": [
  {
   "cell_type": "code",
   "execution_count": 3,
   "metadata": {},
   "outputs": [],
   "source": [
    "from datasets import load_dataset\n",
    "import matplotlib.pyplot as plt\n",
    "import pandas as pd\n",
    "import seaborn as sns"
   ]
  },
  {
   "cell_type": "code",
   "execution_count": 8,
   "metadata": {},
   "outputs": [],
   "source": [
    "def format_number(num):\n",
    "    \"\"\"\n",
    "    Converts a number into a more readable format, using K for thousands, M for millions, etc.\n",
    "    Args:\n",
    "    - num: The number to format.\n",
    "    \n",
    "    Returns:\n",
    "    - A formatted string representing the number.\n",
    "    \"\"\"\n",
    "    if num >= 1e9:\n",
    "        return f'{num/1e9:.1f}B'\n",
    "    elif num >= 1e6:\n",
    "        return f'{num/1e6:.1f}M'\n",
    "    elif num >= 1e3:\n",
    "        return f'{num/1e3:.1f}K'\n",
    "    else:\n",
    "        return str(num)\n"
   ]
  },
  {
   "cell_type": "code",
   "execution_count": 6,
   "metadata": {},
   "outputs": [],
   "source": [
    "dataset = \"gonzalobenegas/siraj_gwas_highpip\"\n",
    "\n",
    "benchmark_set_path = f\"../../results/benchmark_set/{dataset}.parquet\"\n",
    "metrics_path = f\"../../results/merged_metrics/{dataset}.csv\"\n",
    "\n",
    "V = load_dataset(dataset, split=\"test\").to_pandas()\n",
    "V = V.merge(pd.read_parquet(benchmark_set_path), on=[\"chrom\", \"pos\", \"ref\", \"alt\"], how=\"inner\")\n",
    "n_pos, n_neg = V.label.sum(), len(V) - V.label.sum()\n",
    "res = pd.read_csv(metrics_path)"
   ]
  },
  {
   "cell_type": "code",
   "execution_count": 14,
   "metadata": {},
   "outputs": [],
   "source": [
    "res.Model = res.Model.str.split(\".\").str[0]"
   ]
  },
  {
   "cell_type": "code",
   "execution_count": 17,
   "metadata": {},
   "outputs": [
    {
     "name": "stderr",
     "output_type": "stream",
     "text": [
      "/scratch/users/gbenegas/software/mambaforge/envs/gpn/lib/python3.11/site-packages/seaborn/_oldcore.py:1498: FutureWarning: is_categorical_dtype is deprecated and will be removed in a future version. Use isinstance(dtype, CategoricalDtype) instead\n",
      "  if pd.api.types.is_categorical_dtype(vector):\n",
      "/scratch/users/gbenegas/software/mambaforge/envs/gpn/lib/python3.11/site-packages/seaborn/_oldcore.py:1498: FutureWarning: is_categorical_dtype is deprecated and will be removed in a future version. Use isinstance(dtype, CategoricalDtype) instead\n",
      "  if pd.api.types.is_categorical_dtype(vector):\n",
      "/scratch/users/gbenegas/software/mambaforge/envs/gpn/lib/python3.11/site-packages/seaborn/_oldcore.py:1498: FutureWarning: is_categorical_dtype is deprecated and will be removed in a future version. Use isinstance(dtype, CategoricalDtype) instead\n",
      "  if pd.api.types.is_categorical_dtype(vector):\n"
     ]
    },
    {
     "data": {
      "image/png": "[encoded data removed]",
      "text/plain": [
       "<Figure size 144x144 with 1 Axes>"
      ]
     },
     "metadata": {
      "needs_background": "light"
     },
     "output_type": "display_data"
    }
   ],
   "source": [
    "metric = res.columns[-1]\n",
    "if metric == \"AUROC\":\n",
    "    baseline = 0.5\n",
    "elif metric == \"AUPRC\":\n",
    "    baseline = n_pos / (n_pos + n_neg)\n",
    "plt.figure(figsize=(2,2))\n",
    "g = sns.barplot(\n",
    "    data=res,\n",
    "    y=\"Model\",\n",
    "    x=metric,\n",
    "    color=\"C0\",\n",
    ")\n",
    "sns.despine()\n",
    "sample_size = f\"n={format_number(n_pos)} vs. {format_number(n_neg)}\"\n",
    "g.set(xlim=baseline, ylabel=\"\")\n",
    "title = f\"GWAS high vs. low PIP\\n{sample_size}\"\n",
    "plt.title(title)\n",
    "for bar, model in zip(g.patches, res.Model):\n",
    "    text = f'{bar.get_width():.3f}'\n",
    "\n",
    "    g.text(\n",
    "        max(bar.get_width(), baseline),  # X position, here at the end of the bar\n",
    "        bar.get_y() + bar.get_height()/2,  # Y position, in the middle of the bar\n",
    "        text,  # Text to be displayed, formatted to 3 decimal places\n",
    "        va='center'  # Vertical alignment\n",
    "    )\n",
    "plt.savefig(\"barplot.pdf\", bbox_inches=\"tight\")"
   ]
  },
  {
   "cell_type": "code",
   "execution_count": null,
   "metadata": {},
   "outputs": [],
   "source": []
  }
 ],
 "metadata": {
  "kernelspec": {
   "display_name": "gpn",
   "language": "python",
   "name": "gpn"
  },
  "language_info": {
   "codemirror_mode": {
    "name": "ipython",
    "version": 3
   },
   "file_extension": ".py",
   "mimetype": "text/x-python",
   "name": "python",
   "nbconvert_exporter": "python",
   "pygments_lexer": "ipython3",
   "version": "3.11.3"
  }
 },
 "nbformat": 4,
 "nbformat_minor": 2
}
