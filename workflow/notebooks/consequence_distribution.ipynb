{
 "cells": [
  {
   "cell_type": "code",
   "execution_count": 1,
   "metadata": {},
   "outputs": [],
   "source": [
    "import matplotlib.pyplot as plt\n",
    "import pandas as pd\n",
    "import seaborn as sns"
   ]
  },
  {
   "cell_type": "code",
   "execution_count": 34,
   "metadata": {},
   "outputs": [
    {
     "data": {
      "text/html": [
       "<div>\n",
       "<style scoped>\n",
       "    .dataframe tbody tr th:only-of-type {\n",
       "        vertical-align: middle;\n",
       "    }\n",
       "\n",
       "    .dataframe tbody tr th {\n",
       "        vertical-align: top;\n",
       "    }\n",
       "\n",
       "    .dataframe thead th {\n",
       "        text-align: right;\n",
       "    }\n",
       "</style>\n",
       "<table border=\"1\" class=\"dataframe\">\n",
       "  <thead>\n",
       "    <tr style=\"text-align: right;\">\n",
       "      <th></th>\n",
       "      <th>chrom</th>\n",
       "      <th>pos</th>\n",
       "      <th>ref</th>\n",
       "      <th>alt</th>\n",
       "      <th>pip</th>\n",
       "      <th>trait</th>\n",
       "      <th>label</th>\n",
       "      <th>maf</th>\n",
       "      <th>ld_score</th>\n",
       "      <th>consequence</th>\n",
       "      <th>tss_dist</th>\n",
       "      <th>match_group</th>\n",
       "    </tr>\n",
       "  </thead>\n",
       "  <tbody>\n",
       "    <tr>\n",
       "      <th>8</th>\n",
       "      <td>1</td>\n",
       "      <td>2293397</td>\n",
       "      <td>G</td>\n",
       "      <td>A</td>\n",
       "      <td>0.999932</td>\n",
       "      <td>Height</td>\n",
       "      <td>True</td>\n",
       "      <td>0.370570</td>\n",
       "      <td>32.3020</td>\n",
       "      <td>dELS</td>\n",
       "      <td>65077</td>\n",
       "      <td>dELS_0</td>\n",
       "    </tr>\n",
       "    <tr>\n",
       "      <th>17</th>\n",
       "      <td>1</td>\n",
       "      <td>3080038</td>\n",
       "      <td>T</td>\n",
       "      <td>C</td>\n",
       "      <td>0.999895</td>\n",
       "      <td>MCH,MCV,Plt,RBC</td>\n",
       "      <td>True</td>\n",
       "      <td>0.232720</td>\n",
       "      <td>31.6060</td>\n",
       "      <td>dELS</td>\n",
       "      <td>10826</td>\n",
       "      <td>dELS_1</td>\n",
       "    </tr>\n",
       "    <tr>\n",
       "      <th>26</th>\n",
       "      <td>1</td>\n",
       "      <td>3774964</td>\n",
       "      <td>A</td>\n",
       "      <td>G</td>\n",
       "      <td>0.999973</td>\n",
       "      <td>Hb,HbA1c,MCHC,RBC</td>\n",
       "      <td>True</td>\n",
       "      <td>0.230570</td>\n",
       "      <td>95.3170</td>\n",
       "      <td>dELS</td>\n",
       "      <td>2138</td>\n",
       "      <td>dELS_2</td>\n",
       "    </tr>\n",
       "    <tr>\n",
       "      <th>60</th>\n",
       "      <td>1</td>\n",
       "      <td>9181780</td>\n",
       "      <td>G</td>\n",
       "      <td>A</td>\n",
       "      <td>1.000000</td>\n",
       "      <td>AST,Mono</td>\n",
       "      <td>True</td>\n",
       "      <td>0.074322</td>\n",
       "      <td>35.4720</td>\n",
       "      <td>non_coding_transcript_exon_variant</td>\n",
       "      <td>52677</td>\n",
       "      <td>non_coding_transcript_exon_variant_0</td>\n",
       "    </tr>\n",
       "    <tr>\n",
       "      <th>61</th>\n",
       "      <td>1</td>\n",
       "      <td>9295877</td>\n",
       "      <td>G</td>\n",
       "      <td>T</td>\n",
       "      <td>0.993319</td>\n",
       "      <td>DVT</td>\n",
       "      <td>True</td>\n",
       "      <td>0.265060</td>\n",
       "      <td>46.3070</td>\n",
       "      <td>dELS</td>\n",
       "      <td>1348</td>\n",
       "      <td>dELS_3</td>\n",
       "    </tr>\n",
       "    <tr>\n",
       "      <th>...</th>\n",
       "      <td>...</td>\n",
       "      <td>...</td>\n",
       "      <td>...</td>\n",
       "      <td>...</td>\n",
       "      <td>...</td>\n",
       "      <td>...</td>\n",
       "      <td>...</td>\n",
       "      <td>...</td>\n",
       "      <td>...</td>\n",
       "      <td>...</td>\n",
       "      <td>...</td>\n",
       "      <td>...</td>\n",
       "    </tr>\n",
       "    <tr>\n",
       "      <th>11354</th>\n",
       "      <td>22</td>\n",
       "      <td>45969257</td>\n",
       "      <td>G</td>\n",
       "      <td>A</td>\n",
       "      <td>0.999905</td>\n",
       "      <td>eBMD</td>\n",
       "      <td>True</td>\n",
       "      <td>0.002641</td>\n",
       "      <td>9.5349</td>\n",
       "      <td>dELS</td>\n",
       "      <td>3457</td>\n",
       "      <td>dELS_207</td>\n",
       "    </tr>\n",
       "    <tr>\n",
       "      <th>11355</th>\n",
       "      <td>22</td>\n",
       "      <td>45979731</td>\n",
       "      <td>C</td>\n",
       "      <td>T</td>\n",
       "      <td>0.980260</td>\n",
       "      <td>eBMD</td>\n",
       "      <td>True</td>\n",
       "      <td>0.167140</td>\n",
       "      <td>37.7760</td>\n",
       "      <td>dELS</td>\n",
       "      <td>2568</td>\n",
       "      <td>dELS_208</td>\n",
       "    </tr>\n",
       "    <tr>\n",
       "      <th>11359</th>\n",
       "      <td>22</td>\n",
       "      <td>46219479</td>\n",
       "      <td>G</td>\n",
       "      <td>A</td>\n",
       "      <td>0.945802</td>\n",
       "      <td>BW</td>\n",
       "      <td>True</td>\n",
       "      <td>0.128710</td>\n",
       "      <td>164.8500</td>\n",
       "      <td>dELS_flank</td>\n",
       "      <td>28805</td>\n",
       "      <td>dELS_flank_108</td>\n",
       "    </tr>\n",
       "    <tr>\n",
       "      <th>11372</th>\n",
       "      <td>22</td>\n",
       "      <td>47990921</td>\n",
       "      <td>C</td>\n",
       "      <td>T</td>\n",
       "      <td>0.997536</td>\n",
       "      <td>BMI</td>\n",
       "      <td>True</td>\n",
       "      <td>0.437610</td>\n",
       "      <td>53.5140</td>\n",
       "      <td>intron_variant</td>\n",
       "      <td>498631</td>\n",
       "      <td>intron_variant_124</td>\n",
       "    </tr>\n",
       "    <tr>\n",
       "      <th>11393</th>\n",
       "      <td>22</td>\n",
       "      <td>50190508</td>\n",
       "      <td>G</td>\n",
       "      <td>A</td>\n",
       "      <td>1.000000</td>\n",
       "      <td>Plt</td>\n",
       "      <td>True</td>\n",
       "      <td>0.072852</td>\n",
       "      <td>57.9700</td>\n",
       "      <td>PLS</td>\n",
       "      <td>89</td>\n",
       "      <td>PLS_21</td>\n",
       "    </tr>\n",
       "  </tbody>\n",
       "</table>\n",
       "<p>1140 rows × 12 columns</p>\n",
       "</div>"
      ],
      "text/plain": [
       "      chrom       pos ref alt       pip              trait  label       maf  \\\n",
       "8         1   2293397   G   A  0.999932             Height   True  0.370570   \n",
       "17        1   3080038   T   C  0.999895    MCH,MCV,Plt,RBC   True  0.232720   \n",
       "26        1   3774964   A   G  0.999973  Hb,HbA1c,MCHC,RBC   True  0.230570   \n",
       "60        1   9181780   G   A  1.000000           AST,Mono   True  0.074322   \n",
       "61        1   9295877   G   T  0.993319                DVT   True  0.265060   \n",
       "...     ...       ...  ..  ..       ...                ...    ...       ...   \n",
       "11354    22  45969257   G   A  0.999905               eBMD   True  0.002641   \n",
       "11355    22  45979731   C   T  0.980260               eBMD   True  0.167140   \n",
       "11359    22  46219479   G   A  0.945802                 BW   True  0.128710   \n",
       "11372    22  47990921   C   T  0.997536                BMI   True  0.437610   \n",
       "11393    22  50190508   G   A  1.000000                Plt   True  0.072852   \n",
       "\n",
       "       ld_score                         consequence  tss_dist  \\\n",
       "8       32.3020                                dELS     65077   \n",
       "17      31.6060                                dELS     10826   \n",
       "26      95.3170                                dELS      2138   \n",
       "60      35.4720  non_coding_transcript_exon_variant     52677   \n",
       "61      46.3070                                dELS      1348   \n",
       "...         ...                                 ...       ...   \n",
       "11354    9.5349                                dELS      3457   \n",
       "11355   37.7760                                dELS      2568   \n",
       "11359  164.8500                          dELS_flank     28805   \n",
       "11372   53.5140                      intron_variant    498631   \n",
       "11393   57.9700                                 PLS        89   \n",
       "\n",
       "                                match_group  \n",
       "8                                    dELS_0  \n",
       "17                                   dELS_1  \n",
       "26                                   dELS_2  \n",
       "60     non_coding_transcript_exon_variant_0  \n",
       "61                                   dELS_3  \n",
       "...                                     ...  \n",
       "11354                              dELS_207  \n",
       "11355                              dELS_208  \n",
       "11359                        dELS_flank_108  \n",
       "11372                    intron_variant_124  \n",
       "11393                                PLS_21  \n",
       "\n",
       "[1140 rows x 12 columns]"
      ]
     },
     "execution_count": 34,
     "metadata": {},
     "output_type": "execute_result"
    }
   ],
   "source": [
    "COORDINATES = [\"chrom\", \"pos\", \"ref\", \"alt\"]\n",
    "\n",
    "dataset_renaming = {\n",
    "    \"mendelian_traits_matched_9\": \"Mendelian traits\",\n",
    "    \"complex_traits_matched_9\": \"Complex traits\",\n",
    "}\n",
    "\n",
    "#dataset = \"mendelian_traits_matched_9\"\n",
    "dataset = \"complex_traits_matched_9\"\n",
    "base_dir = f\"../../results/dataset/{dataset}\"\n",
    "V = pd.read_parquet(f\"{base_dir}/test.parquet\").query(\"label\")\n",
    "V"
   ]
  },
  {
   "cell_type": "code",
   "execution_count": 35,
   "metadata": {},
   "outputs": [
    {
     "data": {
      "text/plain": [
       "consequence\n",
       "Non-exonic-\\ndistal      872\n",
       "Non-exonic-\\nproximal    105\n",
       "ncRNA                     69\n",
       "3' UTR                    52\n",
       "5' UTR                    42\n",
       "Name: count, dtype: int64"
      ]
     },
     "execution_count": 35,
     "metadata": {},
     "output_type": "execute_result"
    }
   ],
   "source": [
    "consequences = {\n",
    "    \"nonexonic_AND_distal\": \"Non-exonic-\\ndistal\",\n",
    "    \"nonexonic_AND_proximal\": \"Non-exonic-\\nproximal\",\n",
    "    \"5_prime_UTR_variant\": \"5' UTR\",\n",
    "    \"3_prime_UTR_variant\": \"3' UTR\",\n",
    "    \"non_coding_transcript_exon_variant\": \"ncRNA\",\n",
    "}\n",
    "\n",
    "V[\"consequence\"] = \"Other\"\n",
    "\n",
    "for consequence, label in consequences.items():\n",
    "    if \"mask\" in V.columns: V = V.drop(columns=\"mask\")\n",
    "    df = pd.read_parquet(f\"{base_dir}/subset/{consequence}.parquet\")\n",
    "    df[\"mask\"] = True\n",
    "    V = V.merge(df, how=\"left\", on=COORDINATES).fillna(False)\n",
    "    V.loc[V[\"mask\"], \"consequence\"] = label\n",
    "\n",
    "V[\"consequence\"].value_counts()"
   ]
  },
  {
   "cell_type": "code",
   "execution_count": 36,
   "metadata": {},
   "outputs": [
    {
     "data": {
      "text/plain": [
       "['Non-exonic-\\ndistal', 'Non-exonic-\\nproximal', \"5' UTR\", \"3' UTR\", 'ncRNA']"
      ]
     },
     "execution_count": 36,
     "metadata": {},
     "output_type": "execute_result"
    }
   ],
   "source": [
    "cs = list(consequences.values())\n",
    "cs"
   ]
  },
  {
   "cell_type": "code",
   "execution_count": 37,
   "metadata": {},
   "outputs": [
    {
     "data": {
      "text/plain": [
       "[(0.4, 0.7607843137254902, 0.6470588235294118),\n",
       " (0.9882352941176471, 0.5529411764705883, 0.3843137254901961),\n",
       " (0.6509803921568628, 0.8470588235294118, 0.32941176470588235),\n",
       " (0.9058823529411765, 0.5411764705882353, 0.7647058823529411),\n",
       " (0.5529411764705883, 0.6274509803921569, 0.796078431372549)]"
      ]
     },
     "execution_count": 37,
     "metadata": {},
     "output_type": "execute_result"
    }
   ],
   "source": [
    "df = V[\"consequence\"].value_counts()\n",
    "palette = sns.color_palette('Set2')\n",
    "palette = [palette[cs.index(c)] for c in df.index]\n",
    "palette"
   ]
  },
  {
   "cell_type": "code",
   "execution_count": 38,
   "metadata": {},
   "outputs": [
    {
     "data": {
      "text/plain": [
       "Non-exonic-\\ndistal (872)      872\n",
       "Non-exonic-\\nproximal (105)    105\n",
       "ncRNA (69)                      69\n",
       "3' UTR (52)                     52\n",
       "5' UTR (42)                     42\n",
       "Name: count, dtype: int64"
      ]
     },
     "execution_count": 38,
     "metadata": {},
     "output_type": "execute_result"
    }
   ],
   "source": [
    "df.index = df.index + \" (\" + df.astype(str) + \")\"\n",
    "df"
   ]
  },
  {
   "cell_type": "code",
   "execution_count": 39,
   "metadata": {},
   "outputs": [
    {
     "data": {
      "image/png": "[encoded data removed]",
      "text/plain": [
       "<Figure size 144x144 with 1 Axes>"
      ]
     },
     "metadata": {},
     "output_type": "display_data"
    }
   ],
   "source": [
    "df.plot.pie(colors=palette, figsize=(2.0,2.0), labeldistance=1.3)\n",
    "plt.ylabel(\"\")\n",
    "plt.title(dataset_renaming[dataset]);\n",
    "plt.savefig(f\"../../results/plots/consequence_distribution_{dataset}.svg\", bbox_inches=\"tight\")"
   ]
  },
  {
   "cell_type": "code",
   "execution_count": null,
   "metadata": {},
   "outputs": [],
   "source": []
  }
 ],
 "metadata": {
  "kernelspec": {
   "display_name": "gpn",
   "language": "python",
   "name": "gpn"
  }
 },
 "nbformat": 4,
 "nbformat_minor": 2
}
