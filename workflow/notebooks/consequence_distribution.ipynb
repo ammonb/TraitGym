{
 "cells": [
  {
   "cell_type": "code",
   "execution_count": 1,
   "metadata": {},
   "outputs": [],
   "source": [
    "import matplotlib.pyplot as plt\n",
    "import pandas as pd\n",
    "import seaborn as sns"
   ]
  },
  {
   "cell_type": "code",
   "execution_count": 5,
   "metadata": {},
   "outputs": [
    {
     "data": {
      "text/html": [
       "<div>\n",
       "<style scoped>\n",
       "    .dataframe tbody tr th:only-of-type {\n",
       "        vertical-align: middle;\n",
       "    }\n",
       "\n",
       "    .dataframe tbody tr th {\n",
       "        vertical-align: top;\n",
       "    }\n",
       "\n",
       "    .dataframe thead th {\n",
       "        text-align: right;\n",
       "    }\n",
       "</style>\n",
       "<table border=\"1\" class=\"dataframe\">\n",
       "  <thead>\n",
       "    <tr style=\"text-align: right;\">\n",
       "      <th></th>\n",
       "      <th>chrom</th>\n",
       "      <th>pos</th>\n",
       "      <th>ref</th>\n",
       "      <th>alt</th>\n",
       "      <th>consequence</th>\n",
       "      <th>source</th>\n",
       "      <th>OMIM</th>\n",
       "      <th>label</th>\n",
       "      <th>tss_dist</th>\n",
       "      <th>match_group</th>\n",
       "    </tr>\n",
       "  </thead>\n",
       "  <tbody>\n",
       "    <tr>\n",
       "      <th>0</th>\n",
       "      <td>1</td>\n",
       "      <td>7961859</td>\n",
       "      <td>C</td>\n",
       "      <td>G</td>\n",
       "      <td>PLS</td>\n",
       "      <td>OMIM</td>\n",
       "      <td>MIM 606324</td>\n",
       "      <td>True</td>\n",
       "      <td>34</td>\n",
       "      <td>PLS_0</td>\n",
       "    </tr>\n",
       "    <tr>\n",
       "      <th>1</th>\n",
       "      <td>1</td>\n",
       "      <td>9943502</td>\n",
       "      <td>A</td>\n",
       "      <td>T</td>\n",
       "      <td>5_prime_UTR_variant</td>\n",
       "      <td>OMIM</td>\n",
       "      <td>MIM 608553</td>\n",
       "      <td>True</td>\n",
       "      <td>26</td>\n",
       "      <td>5_prime_UTR_variant_0</td>\n",
       "    </tr>\n",
       "    <tr>\n",
       "      <th>2</th>\n",
       "      <td>1</td>\n",
       "      <td>9943503</td>\n",
       "      <td>C</td>\n",
       "      <td>T</td>\n",
       "      <td>5_prime_UTR_variant</td>\n",
       "      <td>OMIM</td>\n",
       "      <td>MIM 608553</td>\n",
       "      <td>True</td>\n",
       "      <td>27</td>\n",
       "      <td>5_prime_UTR_variant_1</td>\n",
       "    </tr>\n",
       "    <tr>\n",
       "      <th>3</th>\n",
       "      <td>1</td>\n",
       "      <td>11023351</td>\n",
       "      <td>G</td>\n",
       "      <td>A</td>\n",
       "      <td>3_prime_UTR_variant</td>\n",
       "      <td>OMIM</td>\n",
       "      <td>MIM 612069</td>\n",
       "      <td>True</td>\n",
       "      <td>1206</td>\n",
       "      <td>3_prime_UTR_variant_0</td>\n",
       "    </tr>\n",
       "    <tr>\n",
       "      <th>4</th>\n",
       "      <td>1</td>\n",
       "      <td>21509427</td>\n",
       "      <td>C</td>\n",
       "      <td>T</td>\n",
       "      <td>5_prime_UTR_variant</td>\n",
       "      <td>OMIM</td>\n",
       "      <td>MIM 241500</td>\n",
       "      <td>True</td>\n",
       "      <td>0</td>\n",
       "      <td>5_prime_UTR_variant_2</td>\n",
       "    </tr>\n",
       "    <tr>\n",
       "      <th>...</th>\n",
       "      <td>...</td>\n",
       "      <td>...</td>\n",
       "      <td>...</td>\n",
       "      <td>...</td>\n",
       "      <td>...</td>\n",
       "      <td>...</td>\n",
       "      <td>...</td>\n",
       "      <td>...</td>\n",
       "      <td>...</td>\n",
       "      <td>...</td>\n",
       "    </tr>\n",
       "    <tr>\n",
       "      <th>339</th>\n",
       "      <td>X</td>\n",
       "      <td>155022770</td>\n",
       "      <td>A</td>\n",
       "      <td>G</td>\n",
       "      <td>PLS</td>\n",
       "      <td>OMIM</td>\n",
       "      <td>MIM 306700</td>\n",
       "      <td>True</td>\n",
       "      <td>46</td>\n",
       "      <td>PLS_58</td>\n",
       "    </tr>\n",
       "    <tr>\n",
       "      <th>340</th>\n",
       "      <td>X</td>\n",
       "      <td>155022771</td>\n",
       "      <td>G</td>\n",
       "      <td>A</td>\n",
       "      <td>PLS</td>\n",
       "      <td>OMIM</td>\n",
       "      <td>MIM 306700</td>\n",
       "      <td>True</td>\n",
       "      <td>47</td>\n",
       "      <td>PLS_59</td>\n",
       "    </tr>\n",
       "    <tr>\n",
       "      <th>341</th>\n",
       "      <td>X</td>\n",
       "      <td>155022773</td>\n",
       "      <td>A</td>\n",
       "      <td>T</td>\n",
       "      <td>PLS</td>\n",
       "      <td>OMIM</td>\n",
       "      <td>MIM 306700</td>\n",
       "      <td>True</td>\n",
       "      <td>49</td>\n",
       "      <td>PLS_60</td>\n",
       "    </tr>\n",
       "    <tr>\n",
       "      <th>342</th>\n",
       "      <td>X</td>\n",
       "      <td>155022807</td>\n",
       "      <td>T</td>\n",
       "      <td>C</td>\n",
       "      <td>PLS</td>\n",
       "      <td>OMIM</td>\n",
       "      <td>MIM 306700</td>\n",
       "      <td>True</td>\n",
       "      <td>83</td>\n",
       "      <td>PLS_61</td>\n",
       "    </tr>\n",
       "    <tr>\n",
       "      <th>343</th>\n",
       "      <td>X</td>\n",
       "      <td>155022809</td>\n",
       "      <td>A</td>\n",
       "      <td>C</td>\n",
       "      <td>PLS</td>\n",
       "      <td>OMIM</td>\n",
       "      <td>MIM 306700</td>\n",
       "      <td>True</td>\n",
       "      <td>85</td>\n",
       "      <td>PLS_62</td>\n",
       "    </tr>\n",
       "  </tbody>\n",
       "</table>\n",
       "<p>344 rows × 10 columns</p>\n",
       "</div>"
      ],
      "text/plain": [
       "    chrom        pos ref alt          consequence source        OMIM  label  \\\n",
       "0       1    7961859   C   G                  PLS   OMIM  MIM 606324   True   \n",
       "1       1    9943502   A   T  5_prime_UTR_variant   OMIM  MIM 608553   True   \n",
       "2       1    9943503   C   T  5_prime_UTR_variant   OMIM  MIM 608553   True   \n",
       "3       1   11023351   G   A  3_prime_UTR_variant   OMIM  MIM 612069   True   \n",
       "4       1   21509427   C   T  5_prime_UTR_variant   OMIM  MIM 241500   True   \n",
       "..    ...        ...  ..  ..                  ...    ...         ...    ...   \n",
       "339     X  155022770   A   G                  PLS   OMIM  MIM 306700   True   \n",
       "340     X  155022771   G   A                  PLS   OMIM  MIM 306700   True   \n",
       "341     X  155022773   A   T                  PLS   OMIM  MIM 306700   True   \n",
       "342     X  155022807   T   C                  PLS   OMIM  MIM 306700   True   \n",
       "343     X  155022809   A   C                  PLS   OMIM  MIM 306700   True   \n",
       "\n",
       "     tss_dist            match_group  \n",
       "0          34                  PLS_0  \n",
       "1          26  5_prime_UTR_variant_0  \n",
       "2          27  5_prime_UTR_variant_1  \n",
       "3        1206  3_prime_UTR_variant_0  \n",
       "4           0  5_prime_UTR_variant_2  \n",
       "..        ...                    ...  \n",
       "339        46                 PLS_58  \n",
       "340        47                 PLS_59  \n",
       "341        49                 PLS_60  \n",
       "342        83                 PLS_61  \n",
       "343        85                 PLS_62  \n",
       "\n",
       "[344 rows x 10 columns]"
      ]
     },
     "execution_count": 5,
     "metadata": {},
     "output_type": "execute_result"
    }
   ],
   "source": [
    "COORDINATES = [\"chrom\", \"pos\", \"ref\", \"alt\"]\n",
    "\n",
    "subset_filter = \"non_coding\"\n",
    "\n",
    "dataset_renaming = {\n",
    "    \"mendelian_matched_9\": \"Mendelian traits\",\n",
    "    \"gwas_matched_9\": \"Complex traits\",\n",
    "}\n",
    "\n",
    "dataset = \"mendelian_matched_9\"\n",
    "#dataset = \"gwas_matched_9\"\n",
    "base_dir = f\"../../results/dataset/{dataset}\"\n",
    "V = pd.read_parquet(f\"{base_dir}/test.parquet\").query(\"label\")\n",
    "V = V.merge(\n",
    "    pd.read_parquet(f\"{base_dir}/subset/{subset_filter}.parquet\"),\n",
    "    how=\"inner\", on=COORDINATES\n",
    ")\n",
    "V"
   ]
  },
  {
   "cell_type": "code",
   "execution_count": 7,
   "metadata": {},
   "outputs": [
    {
     "data": {
      "text/plain": [
       "114"
      ]
     },
     "execution_count": 7,
     "metadata": {},
     "output_type": "execute_result"
    }
   ],
   "source": [
    "V.OMIM.nunique()"
   ]
  },
  {
   "cell_type": "code",
   "execution_count": 8,
   "metadata": {},
   "outputs": [
    {
     "data": {
      "text/plain": [
       "consequence\n",
       "5' UTR                 114\n",
       "Non-exonic-proximal     90\n",
       "ncRNA                   71\n",
       "Non-exonic-distal       34\n",
       "3' UTR                  29\n",
       "Other                    6\n",
       "Name: count, dtype: int64"
      ]
     },
     "execution_count": 8,
     "metadata": {},
     "output_type": "execute_result"
    }
   ],
   "source": [
    "consequences = {\n",
    "    \"nonexonic_AND_distal\": \"Non-exonic-distal\",\n",
    "    \"nonexonic_AND_proximal\": \"Non-exonic-proximal\",\n",
    "    \"5_prime_UTR_variant\": \"5' UTR\",\n",
    "    \"3_prime_UTR_variant\": \"3' UTR\",\n",
    "    \"non_coding_transcript_exon_variant\": \"ncRNA\",\n",
    "}\n",
    "\n",
    "V[\"consequence\"] = \"Other\"\n",
    "\n",
    "for consequence, label in consequences.items():\n",
    "    if \"mask\" in V.columns: V = V.drop(columns=\"mask\")\n",
    "    df = pd.read_parquet(f\"{base_dir}/subset/{consequence}.parquet\")\n",
    "    df[\"mask\"] = True\n",
    "    V = V.merge(df, how=\"left\", on=COORDINATES).fillna(False)\n",
    "    V.loc[V[\"mask\"], \"consequence\"] = label\n",
    "\n",
    "V[\"consequence\"].value_counts()"
   ]
  },
  {
   "cell_type": "code",
   "execution_count": 9,
   "metadata": {},
   "outputs": [
    {
     "data": {
      "text/plain": [
       "['Non-exonic-distal',\n",
       " 'Non-exonic-proximal',\n",
       " \"5' UTR\",\n",
       " \"3' UTR\",\n",
       " 'ncRNA',\n",
       " 'Other']"
      ]
     },
     "execution_count": 9,
     "metadata": {},
     "output_type": "execute_result"
    }
   ],
   "source": [
    "cs = list(consequences.values()) + [\"Other\"]\n",
    "cs"
   ]
  },
  {
   "cell_type": "code",
   "execution_count": 10,
   "metadata": {},
   "outputs": [
    {
     "data": {
      "text/plain": [
       "[(0.5529411764705883, 0.6274509803921569, 0.796078431372549),\n",
       " (0.9882352941176471, 0.5529411764705883, 0.3843137254901961),\n",
       " (0.6509803921568628, 0.8470588235294118, 0.32941176470588235),\n",
       " (0.4, 0.7607843137254902, 0.6470588235294118),\n",
       " (0.9058823529411765, 0.5411764705882353, 0.7647058823529411),\n",
       " (1.0, 0.8509803921568627, 0.1843137254901961)]"
      ]
     },
     "execution_count": 10,
     "metadata": {},
     "output_type": "execute_result"
    }
   ],
   "source": [
    "df = V[\"consequence\"].value_counts()\n",
    "palette = sns.color_palette('Set2')\n",
    "palette = [palette[cs.index(c)] for c in df.index]\n",
    "palette"
   ]
  },
  {
   "cell_type": "code",
   "execution_count": 11,
   "metadata": {},
   "outputs": [
    {
     "data": {
      "text/plain": [
       "5' UTR (114)                114\n",
       "Non-exonic-proximal (90)     90\n",
       "ncRNA (71)                   71\n",
       "Non-exonic-distal (34)       34\n",
       "3' UTR (29)                  29\n",
       "Other (6)                     6\n",
       "Name: count, dtype: int64"
      ]
     },
     "execution_count": 11,
     "metadata": {},
     "output_type": "execute_result"
    }
   ],
   "source": [
    "df.index = df.index + \" (\" + df.astype(str) + \")\"\n",
    "df"
   ]
  },
  {
   "cell_type": "code",
   "execution_count": 12,
   "metadata": {},
   "outputs": [
    {
     "data": {
      "image/png": "[encoded data removed]",
      "text/plain": [
       "<Figure size 180x180 with 1 Axes>"
      ]
     },
     "metadata": {},
     "output_type": "display_data"
    }
   ],
   "source": [
    "df.plot.pie(colors=palette, figsize=(2.5,2.5))\n",
    "plt.ylabel(\"\")\n",
    "plt.title(dataset_renaming[dataset]);\n",
    "plt.savefig(f\"../../results/plots/consequence_distribution_{dataset}.svg\", bbox_inches=\"tight\")"
   ]
  },
  {
   "cell_type": "code",
   "execution_count": null,
   "metadata": {},
   "outputs": [],
   "source": []
  }
 ],
 "metadata": {
  "kernelspec": {
   "display_name": "gpn",
   "language": "python",
   "name": "gpn"
  },
  "language_info": {
   "codemirror_mode": {
    "name": "ipython",
    "version": 3
   },
   "file_extension": ".py",
   "mimetype": "text/x-python",
   "name": "python",
   "nbconvert_exporter": "python",
   "pygments_lexer": "ipython3",
   "version": "3.11.3"
  }
 },
 "nbformat": 4,
 "nbformat_minor": 2
}
