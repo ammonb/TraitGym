{
 "cells": [
  {
   "cell_type": "code",
   "execution_count": 1,
   "metadata": {},
   "outputs": [],
   "source": [
    "import matplotlib.pyplot as plt\n",
    "import numpy as np\n",
    "import pandas as pd\n",
    "import seaborn as sns"
   ]
  },
  {
   "cell_type": "code",
   "execution_count": 2,
   "metadata": {},
   "outputs": [],
   "source": [
    "dataset_renaming = {\n",
    "    \"mendelian_traits_matched_9\": \"Mendelian traits\",\n",
    "    \"complex_traits_matched_9\": \"Complex traits\",\n",
    "}\n",
    "\n",
    "subset_renaming = {\n",
    "    \"all\": \"All\",\n",
    "}"
   ]
  },
  {
   "cell_type": "code",
   "execution_count": 3,
   "metadata": {},
   "outputs": [],
   "source": [
    "datasets = [\n",
    "    \"mendelian_traits_matched_9\",\n",
    "]\n",
    "\n",
    "subsets = [\n",
    "    \"all\",\n",
    "]\n",
    "\n",
    "models = [\n",
    "    \"CADD\",\n",
    "    \"CADD+GPN-MSA_LLR\",\n",
    "    \"CADD+Borzoi_L2_L2\",\n",
    "    \"CADD+GPN-MSA_LLR+Borzoi_L2_L2\",\n",
    "]\n",
    "\n",
    "def get_model_path(dataset, subset, model):\n",
    "    return (\n",
    "        f\"../../results/dataset/{dataset}/metrics_by_chrom_weighted_average/\"\n",
    "        f\"{subset}/{model}.LogisticRegression.chrom.csv\"\n",
    "    )"
   ]
  },
  {
   "cell_type": "code",
   "execution_count": 4,
   "metadata": {},
   "outputs": [
    {
     "data": {
      "text/html": [
       "<div>\n",
       "<style scoped>\n",
       "    .dataframe tbody tr th:only-of-type {\n",
       "        vertical-align: middle;\n",
       "    }\n",
       "\n",
       "    .dataframe tbody tr th {\n",
       "        vertical-align: top;\n",
       "    }\n",
       "\n",
       "    .dataframe thead th {\n",
       "        text-align: right;\n",
       "    }\n",
       "</style>\n",
       "<table border=\"1\" class=\"dataframe\">\n",
       "  <thead>\n",
       "    <tr style=\"text-align: right;\">\n",
       "      <th></th>\n",
       "      <th>dataset</th>\n",
       "      <th>subset</th>\n",
       "      <th>model</th>\n",
       "      <th>AUPRC</th>\n",
       "      <th>se</th>\n",
       "    </tr>\n",
       "  </thead>\n",
       "  <tbody>\n",
       "    <tr>\n",
       "      <th>0</th>\n",
       "      <td>Mendelian traits</td>\n",
       "      <td>All</td>\n",
       "      <td>CADD</td>\n",
       "      <td>0.874660</td>\n",
       "      <td>0.030533</td>\n",
       "    </tr>\n",
       "    <tr>\n",
       "      <th>1</th>\n",
       "      <td>Mendelian traits</td>\n",
       "      <td>All</td>\n",
       "      <td>CADD+GPN-MSA_LLR</td>\n",
       "      <td>0.888816</td>\n",
       "      <td>0.025609</td>\n",
       "    </tr>\n",
       "    <tr>\n",
       "      <th>2</th>\n",
       "      <td>Mendelian traits</td>\n",
       "      <td>All</td>\n",
       "      <td>CADD+Borzoi_L2_L2</td>\n",
       "      <td>0.884345</td>\n",
       "      <td>0.028858</td>\n",
       "    </tr>\n",
       "    <tr>\n",
       "      <th>3</th>\n",
       "      <td>Mendelian traits</td>\n",
       "      <td>All</td>\n",
       "      <td>CADD+GPN-MSA_LLR+Borzoi_L2_L2</td>\n",
       "      <td>0.896619</td>\n",
       "      <td>0.026021</td>\n",
       "    </tr>\n",
       "  </tbody>\n",
       "</table>\n",
       "</div>"
      ],
      "text/plain": [
       "            dataset subset                          model     AUPRC        se\n",
       "0  Mendelian traits    All                           CADD  0.874660  0.030533\n",
       "1  Mendelian traits    All               CADD+GPN-MSA_LLR  0.888816  0.025609\n",
       "2  Mendelian traits    All              CADD+Borzoi_L2_L2  0.884345  0.028858\n",
       "3  Mendelian traits    All  CADD+GPN-MSA_LLR+Borzoi_L2_L2  0.896619  0.026021"
      ]
     },
     "execution_count": 4,
     "metadata": {},
     "output_type": "execute_result"
    }
   ],
   "source": [
    "rows = []\n",
    "for dataset in datasets:\n",
    "    for subset in subsets:\n",
    "        for model in models:\n",
    "            path = get_model_path(dataset, subset, model)\n",
    "            df = pd.read_csv(path).iloc[0]\n",
    "            rows.append([\n",
    "                dataset_renaming.get(dataset, dataset),\n",
    "                subset_renaming.get(subset, subset),\n",
    "                model,\n",
    "                df[\"score\"],\n",
    "                df[\"se\"]]\n",
    "            )\n",
    "df = pd.DataFrame(rows, columns=[\"dataset\", \"subset\", \"model\", \"AUPRC\", \"se\"])\n",
    "df"
   ]
  },
  {
   "cell_type": "code",
   "execution_count": 34,
   "metadata": {},
   "outputs": [
    {
     "name": "stderr",
     "output_type": "stream",
     "text": [
      "/scratch/users/gbenegas/software/mambaforge/envs/gpn/lib/python3.11/site-packages/seaborn/_oldcore.py:1498: FutureWarning: is_categorical_dtype is deprecated and will be removed in a future version. Use isinstance(dtype, CategoricalDtype) instead\n",
      "  if pd.api.types.is_categorical_dtype(vector):\n",
      "/scratch/users/gbenegas/software/mambaforge/envs/gpn/lib/python3.11/site-packages/seaborn/_oldcore.py:1498: FutureWarning: is_categorical_dtype is deprecated and will be removed in a future version. Use isinstance(dtype, CategoricalDtype) instead\n",
      "  if pd.api.types.is_categorical_dtype(vector):\n",
      "/scratch/users/gbenegas/software/mambaforge/envs/gpn/lib/python3.11/site-packages/seaborn/_oldcore.py:1498: FutureWarning: is_categorical_dtype is deprecated and will be removed in a future version. Use isinstance(dtype, CategoricalDtype) instead\n",
      "  if pd.api.types.is_categorical_dtype(vector):\n"
     ]
    },
    {
     "data": {
      "image/png": "[encoded data removed]",
      "text/plain": [
       "<Figure size 72x72 with 1 Axes>"
      ]
     },
     "metadata": {
      "needs_background": "light"
     },
     "output_type": "display_data"
    }
   ],
   "source": [
    "data = df.sort_values(\"AUPRC\", ascending=False)\n",
    "plt.figure(figsize=(1.0,1.0))\n",
    "g = sns.pointplot(\n",
    "    data=data,\n",
    "    y=\"model\",\n",
    "    x=\"AUPRC\",\n",
    "    color=\"gray\",\n",
    "    join=False,\n",
    "    #markersize=1,\n",
    "    #s=10,\n",
    "    scale=0.5,\n",
    ")\n",
    "plt.errorbar(\n",
    "    x=data[\"AUPRC\"],\n",
    "    y=data[\"model\"],\n",
    "    xerr=data[\"se\"],\n",
    "    fmt='none',\n",
    "    color=\"black\",\n",
    ")\n",
    "\n",
    "g.set(\n",
    "    ylabel=\"\",\n",
    "    #xlim=0.1,\n",
    ")\n",
    "plt.title(\"Mendelian traits\")\n",
    "sns.despine()\n",
    "plt.savefig(f\"../../results/plots/performance_ensemble_light_All.pdf\", bbox_inches=\"tight\")"
   ]
  },
  {
   "cell_type": "code",
   "execution_count": null,
   "metadata": {},
   "outputs": [],
   "source": []
  }
 ],
 "metadata": {
  "kernelspec": {
   "display_name": "gpn",
   "language": "python",
   "name": "gpn"
  },
  "language_info": {
   "codemirror_mode": {
    "name": "ipython",
    "version": 3
   },
   "file_extension": ".py",
   "mimetype": "text/x-python",
   "name": "python",
   "nbconvert_exporter": "python",
   "pygments_lexer": "ipython3",
   "version": "3.11.3"
  }
 },
 "nbformat": 4,
 "nbformat_minor": 2
}
