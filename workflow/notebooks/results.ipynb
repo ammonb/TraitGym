{
 "cells": [
  {
   "cell_type": "code",
   "execution_count": 1,
   "metadata": {},
   "outputs": [],
   "source": [
    "import matplotlib.patches as mpatches\n",
    "import matplotlib.pyplot as plt\n",
    "import pandas as pd\n",
    "import polars as pl\n",
    "import seaborn as sns\n",
    "from tqdm import tqdm\n",
    "import warnings\n",
    "warnings.filterwarnings(\"ignore\")"
   ]
  },
  {
   "cell_type": "code",
   "execution_count": 2,
   "metadata": {},
   "outputs": [],
   "source": [
    "def format_number(num):\n",
    "    \"\"\"\n",
    "    Converts a number into a more readable format, using K for thousands, M for millions, etc.\n",
    "    Args:\n",
    "    - num: The number to format.\n",
    "    \n",
    "    Returns:\n",
    "    - A formatted string representing the number.\n",
    "    \"\"\"\n",
    "    if num >= 1e9:\n",
    "        return f'{num/1e9:.1f}B'\n",
    "    elif num >= 1e6:\n",
    "        return f'{num/1e6:.1f}M'\n",
    "    elif num >= 1e3:\n",
    "        return f'{num/1e3:.1f}K'\n",
    "    else:\n",
    "        return str(num)"
   ]
  },
  {
   "cell_type": "code",
   "execution_count": 57,
   "metadata": {},
   "outputs": [
    {
     "name": "stdout",
     "output_type": "stream",
     "text": [
      "UKBB\tMCH\tMean corpuscular hemoglobin\t30050\t351324\tNA\tNA\n",
      "UKBB\tMCHC\tMean corpuscular hemoglobin concentration\t30060\t351321\tNA\tNA\n"
     ]
    }
   ],
   "source": [
    "!grep MCH ../../results/gwas/raw/release1.1/UKBB_94traits_release1.traits"
   ]
  },
  {
   "cell_type": "code",
   "execution_count": 58,
   "metadata": {},
   "outputs": [
    {
     "name": "stdout",
     "output_type": "stream",
     "text": [
      "UKBB\teGFR\tEstimated glomerular filtration rate (serum creatinine)\teGFR based on serum creatinine (30700) using the CKD-EPI formula\t345067\tNA\tNA\n",
      "UKBB\teGFRcys\tEstimated glomerular filtration rate (cystain C)\teGFR based on cystain C (30720) using the CKD-EPI formula\t345219\tNA\tNA\n"
     ]
    }
   ],
   "source": [
    "!grep eGFR ../../results/gwas/raw/release1.1/UKBB_94traits_release1.traits"
   ]
  },
  {
   "cell_type": "code",
   "execution_count": 3,
   "metadata": {},
   "outputs": [
    {
     "data": {
      "text/plain": [
       "{}"
      ]
     },
     "execution_count": 3,
     "metadata": {},
     "output_type": "execute_result"
    }
   ],
   "source": [
    "trait_renaming = pd.read_csv(\n",
    "    \"../../results/gwas/raw/release1.1/UKBB_94traits_release1.traits\", sep=\"\\t\",\n",
    ").set_index(\"trait\")[\"description\"].to_dict()\n",
    "trait_renaming = {}  # override\n",
    "trait_renaming"
   ]
  },
  {
   "cell_type": "code",
   "execution_count": 4,
   "metadata": {},
   "outputs": [],
   "source": [
    "consequence_renaming = {\n",
    "    \"missense_variant\": \"missense\",\n",
    "    \"non_coding_transcript_exon_variant\": \"ncRNA\",\n",
    "    \"3_prime_UTR_variant\": \"3' UTR\",\n",
    "    \"5_prime_UTR_variant\": \"5' UTR\",\n",
    "}\n",
    "\n",
    "subset_renaming = {**trait_renaming, **consequence_renaming}"
   ]
  },
  {
   "cell_type": "code",
   "execution_count": 10,
   "metadata": {},
   "outputs": [
    {
     "name": "stderr",
     "output_type": "stream",
     "text": [
      "  0%|   | 0/24 [00:00<?, ?it/s]"
     ]
    },
    {
     "name": "stderr",
     "output_type": "stream",
     "text": [
      "100%|█| 24/24 [00:00<00:00, 49.\n"
     ]
    },
    {
     "data": {
      "text/html": [
       "<div>\n",
       "<style scoped>\n",
       "    .dataframe tbody tr th:only-of-type {\n",
       "        vertical-align: middle;\n",
       "    }\n",
       "\n",
       "    .dataframe tbody tr th {\n",
       "        vertical-align: top;\n",
       "    }\n",
       "\n",
       "    .dataframe thead th {\n",
       "        text-align: right;\n",
       "    }\n",
       "</style>\n",
       "<table border=\"1\" class=\"dataframe\">\n",
       "  <thead>\n",
       "    <tr style=\"text-align: right;\">\n",
       "      <th></th>\n",
       "      <th>Model</th>\n",
       "      <th>AUPRC</th>\n",
       "      <th>subset</th>\n",
       "    </tr>\n",
       "  </thead>\n",
       "  <tbody>\n",
       "    <tr>\n",
       "      <th>0</th>\n",
       "      <td>Enformer_L2+GPN-MSA+CADD</td>\n",
       "      <td>0.362071</td>\n",
       "      <td>all</td>\n",
       "    </tr>\n",
       "    <tr>\n",
       "      <th>0</th>\n",
       "      <td>Enformer_L2</td>\n",
       "      <td>0.291667</td>\n",
       "      <td>all</td>\n",
       "    </tr>\n",
       "    <tr>\n",
       "      <th>0</th>\n",
       "      <td>Borzoi_L2</td>\n",
       "      <td>0.281835</td>\n",
       "      <td>all</td>\n",
       "    </tr>\n",
       "    <tr>\n",
       "      <th>0</th>\n",
       "      <td>GPN-MSA</td>\n",
       "      <td>0.273633</td>\n",
       "      <td>all</td>\n",
       "    </tr>\n",
       "    <tr>\n",
       "      <th>0</th>\n",
       "      <td>CADD</td>\n",
       "      <td>0.259164</td>\n",
       "      <td>all</td>\n",
       "    </tr>\n",
       "    <tr>\n",
       "      <th>...</th>\n",
       "      <td>...</td>\n",
       "      <td>...</td>\n",
       "      <td>...</td>\n",
       "    </tr>\n",
       "    <tr>\n",
       "      <th>0</th>\n",
       "      <td>Enformer_L2+GPN-MSA+CADD</td>\n",
       "      <td>0.502842</td>\n",
       "      <td>TP</td>\n",
       "    </tr>\n",
       "    <tr>\n",
       "      <th>0</th>\n",
       "      <td>Enformer_L2</td>\n",
       "      <td>0.444450</td>\n",
       "      <td>TP</td>\n",
       "    </tr>\n",
       "    <tr>\n",
       "      <th>0</th>\n",
       "      <td>Borzoi_L2</td>\n",
       "      <td>0.480790</td>\n",
       "      <td>TP</td>\n",
       "    </tr>\n",
       "    <tr>\n",
       "      <th>0</th>\n",
       "      <td>GPN-MSA</td>\n",
       "      <td>0.331127</td>\n",
       "      <td>TP</td>\n",
       "    </tr>\n",
       "    <tr>\n",
       "      <th>0</th>\n",
       "      <td>CADD</td>\n",
       "      <td>0.457521</td>\n",
       "      <td>TP</td>\n",
       "    </tr>\n",
       "  </tbody>\n",
       "</table>\n",
       "<p>120 rows × 3 columns</p>\n",
       "</div>"
      ],
      "text/plain": [
       "                       Model     AUPRC subset\n",
       "0   Enformer_L2+GPN-MSA+CADD  0.362071    all\n",
       "0                Enformer_L2  0.291667    all\n",
       "0                  Borzoi_L2  0.281835    all\n",
       "0                    GPN-MSA  0.273633    all\n",
       "0                       CADD  0.259164    all\n",
       "..                       ...       ...    ...\n",
       "0   Enformer_L2+GPN-MSA+CADD  0.502842     TP\n",
       "0                Enformer_L2  0.444450     TP\n",
       "0                  Borzoi_L2  0.480790     TP\n",
       "0                    GPN-MSA  0.331127     TP\n",
       "0                       CADD  0.457521     TP\n",
       "\n",
       "[120 rows x 3 columns]"
      ]
     },
     "execution_count": 10,
     "metadata": {},
     "output_type": "execute_result"
    }
   ],
   "source": [
    "subsets = [\n",
    "    \"all\",\n",
    "\n",
    "#    \"nonexonic\",\n",
    "#    \"missense_variant\",\n",
    "#    \"non_coding_transcript_exon_variant\",\n",
    "#    \"3_prime_UTR_variant\",\n",
    "#    \"5_prime_UTR_variant\",\n",
    "\n",
    "    \"Height\",\n",
    "    \"MCV\",\n",
    "    \"MCH\",\n",
    "    \"Mono\",\n",
    "    \"Plt\",\n",
    "    \"eBMD\",\n",
    "    \"HbA1c\",\n",
    "    \"RBC\",\n",
    "    \"ALP\",\n",
    "    \"IGF1\",\n",
    "    \"HDLC\",\n",
    "    \"Eosino\",\n",
    "    \"LDLC\",\n",
    "    \"SHBG\",\n",
    "    \"AG\",\n",
    "    \"Lym\",\n",
    "    \"Hb\",\n",
    "    \"GGT\",\n",
    "    \"eGFRcys\",\n",
    "    \"ApoA\",\n",
    "    \"WBC\",\n",
    "    \"eGFR\",\n",
    "    \"TP\",\n",
    "]\n",
    "\n",
    "models = [\n",
    "    \"Enformer_L2+GPN-MSA+CADD\",\n",
    "    \"Enformer_L2\",\n",
    "    \"Borzoi_L2\",\n",
    "    \"GPN-MSA\",\n",
    "    \"CADD\",\n",
    "]\n",
    "\n",
    "classifier = \"LogisticRegression\"\n",
    "\n",
    "palette = {model: f\"C{i}\" for i, model in enumerate(models)}\n",
    "\n",
    "dfs = []\n",
    "sample_size = {}\n",
    "\n",
    "base_dir = f\"../../results/dataset/gwas_matched_9\"\n",
    "V = pd.read_parquet(f\"{base_dir}/test.parquet\")\n",
    "\n",
    "for subset in tqdm(subsets):\n",
    "    s = pd.read_parquet(f\"{base_dir}/subset/{subset}.parquet\")\n",
    "    V_s = s.merge(V, on=[\"chrom\", \"pos\", \"ref\", \"alt\"], how=\"left\")\n",
    "    sample_size[subset] = V_s.label.sum(), (~V_s.label).sum()\n",
    "    for model in models:\n",
    "        df = pd.read_csv(f\"{base_dir}/metrics_by_chrom_weighted_average/{subset}/{model}.{classifier}.chrom.csv\")\n",
    "        df.Model = model\n",
    "        df[\"subset\"] = subset\n",
    "        dfs.append(df)\n",
    "df = pd.concat(dfs)\n",
    "df"
   ]
  },
  {
   "cell_type": "code",
   "execution_count": 11,
   "metadata": {},
   "outputs": [
    {
     "data": {
      "text/html": [
       "<div>\n",
       "<style scoped>\n",
       "    .dataframe tbody tr th:only-of-type {\n",
       "        vertical-align: middle;\n",
       "    }\n",
       "\n",
       "    .dataframe tbody tr th {\n",
       "        vertical-align: top;\n",
       "    }\n",
       "\n",
       "    .dataframe thead th {\n",
       "        text-align: right;\n",
       "    }\n",
       "</style>\n",
       "<table border=\"1\" class=\"dataframe\">\n",
       "  <thead>\n",
       "    <tr style=\"text-align: right;\">\n",
       "      <th></th>\n",
       "      <th>Model</th>\n",
       "      <th>AUPRC</th>\n",
       "      <th>subset</th>\n",
       "      <th>n_pos</th>\n",
       "    </tr>\n",
       "  </thead>\n",
       "  <tbody>\n",
       "    <tr>\n",
       "      <th>0</th>\n",
       "      <td>Enformer_L2+GPN-MSA+CADD</td>\n",
       "      <td>0.362071</td>\n",
       "      <td>all</td>\n",
       "      <td>1627</td>\n",
       "    </tr>\n",
       "    <tr>\n",
       "      <th>0</th>\n",
       "      <td>Enformer_L2</td>\n",
       "      <td>0.291667</td>\n",
       "      <td>all</td>\n",
       "      <td>1627</td>\n",
       "    </tr>\n",
       "    <tr>\n",
       "      <th>0</th>\n",
       "      <td>Borzoi_L2</td>\n",
       "      <td>0.281835</td>\n",
       "      <td>all</td>\n",
       "      <td>1627</td>\n",
       "    </tr>\n",
       "    <tr>\n",
       "      <th>0</th>\n",
       "      <td>GPN-MSA</td>\n",
       "      <td>0.273633</td>\n",
       "      <td>all</td>\n",
       "      <td>1627</td>\n",
       "    </tr>\n",
       "    <tr>\n",
       "      <th>0</th>\n",
       "      <td>CADD</td>\n",
       "      <td>0.259164</td>\n",
       "      <td>all</td>\n",
       "      <td>1627</td>\n",
       "    </tr>\n",
       "    <tr>\n",
       "      <th>...</th>\n",
       "      <td>...</td>\n",
       "      <td>...</td>\n",
       "      <td>...</td>\n",
       "      <td>...</td>\n",
       "    </tr>\n",
       "    <tr>\n",
       "      <th>0</th>\n",
       "      <td>Enformer_L2+GPN-MSA+CADD</td>\n",
       "      <td>0.502842</td>\n",
       "      <td>TP</td>\n",
       "      <td>50</td>\n",
       "    </tr>\n",
       "    <tr>\n",
       "      <th>0</th>\n",
       "      <td>Enformer_L2</td>\n",
       "      <td>0.444450</td>\n",
       "      <td>TP</td>\n",
       "      <td>50</td>\n",
       "    </tr>\n",
       "    <tr>\n",
       "      <th>0</th>\n",
       "      <td>Borzoi_L2</td>\n",
       "      <td>0.480790</td>\n",
       "      <td>TP</td>\n",
       "      <td>50</td>\n",
       "    </tr>\n",
       "    <tr>\n",
       "      <th>0</th>\n",
       "      <td>GPN-MSA</td>\n",
       "      <td>0.331127</td>\n",
       "      <td>TP</td>\n",
       "      <td>50</td>\n",
       "    </tr>\n",
       "    <tr>\n",
       "      <th>0</th>\n",
       "      <td>CADD</td>\n",
       "      <td>0.457521</td>\n",
       "      <td>TP</td>\n",
       "      <td>50</td>\n",
       "    </tr>\n",
       "  </tbody>\n",
       "</table>\n",
       "<p>120 rows × 4 columns</p>\n",
       "</div>"
      ],
      "text/plain": [
       "                       Model     AUPRC subset  n_pos\n",
       "0   Enformer_L2+GPN-MSA+CADD  0.362071    all   1627\n",
       "0                Enformer_L2  0.291667    all   1627\n",
       "0                  Borzoi_L2  0.281835    all   1627\n",
       "0                    GPN-MSA  0.273633    all   1627\n",
       "0                       CADD  0.259164    all   1627\n",
       "..                       ...       ...    ...    ...\n",
       "0   Enformer_L2+GPN-MSA+CADD  0.502842     TP     50\n",
       "0                Enformer_L2  0.444450     TP     50\n",
       "0                  Borzoi_L2  0.480790     TP     50\n",
       "0                    GPN-MSA  0.331127     TP     50\n",
       "0                       CADD  0.457521     TP     50\n",
       "\n",
       "[120 rows x 4 columns]"
      ]
     },
     "execution_count": 11,
     "metadata": {},
     "output_type": "execute_result"
    }
   ],
   "source": []
  },
  {
   "cell_type": "code",
   "execution_count": 17,
   "metadata": {},
   "outputs": [
    {
     "data": {
      "text/plain": [
       "<matplotlib.legend.Legend at 0x7fe131402550>"
      ]
     },
     "execution_count": 17,
     "metadata": {},
     "output_type": "execute_result"
    },
    {
     "data": {
      "image/png": "[encoded data removed]",
      "text/plain": [
       "<Figure size 864x576 with 24 Axes>"
      ]
     },
     "metadata": {
      "needs_background": "light"
     },
     "output_type": "display_data"
    }
   ],
   "source": [
    "#nrows, ncols = 2, 3\n",
    "nrows, ncols = 4, 6\n",
    "width, height = 2, 2\n",
    "wspace, hspace = 0.9, 0.9\n",
    "metric = \"AUPRC\"\n",
    "\n",
    "fig, axes = plt.subplots(\n",
    "    nrows=nrows, ncols=ncols, sharex=False, sharey=False,\n",
    "    figsize=(width*ncols, height*nrows), squeeze=False,\n",
    "    gridspec_kw={'wspace': wspace, 'hspace': hspace},\n",
    ")\n",
    "\n",
    "for subset, ax in zip(subsets, axes.flat):\n",
    "    df_s = df[df.subset==subset].sort_values(metric, ascending=False)\n",
    "    n_pos, n_neg = sample_size[subset]\n",
    "\n",
    "    if metric == \"AUROC\":\n",
    "        baseline = 0.5\n",
    "    elif metric == \"AUPRC\":\n",
    "        baseline = n_pos / (n_pos + n_neg)\n",
    "    elif metric == \"Odds ratio\":\n",
    "        baseline = 1\n",
    "\n",
    "    g = sns.barplot(\n",
    "        data=df_s,\n",
    "        y=\"Model\",\n",
    "        x=metric,\n",
    "        palette=palette,\n",
    "        ax=ax,\n",
    "    )\n",
    "    sns.despine()\n",
    "    sample_size_str = f\"n={format_number(n_pos)} vs. {format_number(n_neg)}\"\n",
    "    subtitle = f\"{subset_renaming.get(subset, subset)}\\n{sample_size_str}\"\n",
    "    g.set_title(subtitle, fontsize=10)\n",
    "    g.set(\n",
    "        xlim=baseline,\n",
    "        ylabel=\"\",\n",
    "        yticks=[],\n",
    "    )\n",
    "\n",
    "    for bar, model in zip(g.patches, df_s.Model):\n",
    "        text = f'{bar.get_width():.3f}'\n",
    "        g.text(\n",
    "            max(bar.get_width(), baseline),  # X position, here at the end of the bar\n",
    "            bar.get_y() + bar.get_height()/2,  # Y position, in the middle of the bar\n",
    "            text,  # Text to be displayed, formatted to 3 decimal places\n",
    "            va='center'  # Vertical alignment\n",
    "        )\n",
    "\n",
    "plt.legend(\n",
    "    handles=[mpatches.Patch(color=palette[model], label=model) for model in models],\n",
    "    bbox_to_anchor=(1.4, 3.2),\n",
    "    loc='upper left', borderaxespad=0.,\n",
    "    title=\"Model\",\n",
    ")"
   ]
  },
  {
   "cell_type": "code",
   "execution_count": 12,
   "metadata": {},
   "outputs": [
    {
     "data": {
      "text/html": [
       "<div>\n",
       "<style scoped>\n",
       "    .dataframe tbody tr th:only-of-type {\n",
       "        vertical-align: middle;\n",
       "    }\n",
       "\n",
       "    .dataframe tbody tr th {\n",
       "        vertical-align: top;\n",
       "    }\n",
       "\n",
       "    .dataframe thead th {\n",
       "        text-align: right;\n",
       "    }\n",
       "</style>\n",
       "<table border=\"1\" class=\"dataframe\">\n",
       "  <thead>\n",
       "    <tr style=\"text-align: right;\">\n",
       "      <th></th>\n",
       "      <th>Model</th>\n",
       "      <th>AUPRC</th>\n",
       "    </tr>\n",
       "  </thead>\n",
       "  <tbody>\n",
       "    <tr>\n",
       "      <th>0</th>\n",
       "      <td>Enformer_L2+GPN-MSA+CADD</td>\n",
       "      <td>0.425580</td>\n",
       "    </tr>\n",
       "    <tr>\n",
       "      <th>1</th>\n",
       "      <td>Borzoi_L2</td>\n",
       "      <td>0.390190</td>\n",
       "    </tr>\n",
       "    <tr>\n",
       "      <th>2</th>\n",
       "      <td>Enformer_L2</td>\n",
       "      <td>0.385289</td>\n",
       "    </tr>\n",
       "    <tr>\n",
       "      <th>3</th>\n",
       "      <td>CADD</td>\n",
       "      <td>0.329040</td>\n",
       "    </tr>\n",
       "    <tr>\n",
       "      <th>4</th>\n",
       "      <td>GPN-MSA</td>\n",
       "      <td>0.305609</td>\n",
       "    </tr>\n",
       "  </tbody>\n",
       "</table>\n",
       "</div>"
      ],
      "text/plain": [
       "                      Model     AUPRC\n",
       "0  Enformer_L2+GPN-MSA+CADD  0.425580\n",
       "1                 Borzoi_L2  0.390190\n",
       "2               Enformer_L2  0.385289\n",
       "3                      CADD  0.329040\n",
       "4                   GPN-MSA  0.305609"
      ]
     },
     "execution_count": 12,
     "metadata": {},
     "output_type": "execute_result"
    }
   ],
   "source": [
    "df[\"n_pos\"] = df.subset.apply(lambda x: sample_size[x][0])\n",
    "\n",
    "def weighted_average(df):\n",
    "    weights = df[\"n_pos\"] / df[\"n_pos\"].sum()\n",
    "    return (df.AUPRC * weights).sum()\n",
    "\n",
    "df_w = (\n",
    "    df[df.subset!=\"all\"].groupby(\"Model\").apply(weighted_average).rename(\"AUPRC\")\n",
    "    .sort_values(ascending=False).to_frame().reset_index()\n",
    ")\n",
    "df_w"
   ]
  },
  {
   "cell_type": "code",
   "execution_count": 14,
   "metadata": {},
   "outputs": [
    {
     "data": {
      "image/png": "[encoded data removed]",
      "text/plain": [
       "<Figure size 144x144 with 1 Axes>"
      ]
     },
     "metadata": {
      "needs_background": "light"
     },
     "output_type": "display_data"
    }
   ],
   "source": [
    "plt.figure(figsize=(2,2))\n",
    "g = sns.barplot(\n",
    "    data=df_w,\n",
    "    y=\"Model\",\n",
    "    x=\"AUPRC\",\n",
    "    order=df_w.sort_values(\"AUPRC\", ascending=False).Model,\n",
    "    palette=palette,\n",
    ")\n",
    "for bar, model in zip(g.patches, df_w.Model):\n",
    "    text = f'{bar.get_width():.3f}'\n",
    "    g.text(\n",
    "        max(bar.get_width(), baseline),  # X position, here at the end of the bar\n",
    "        bar.get_y() + bar.get_height()/2,  # Y position, in the middle of the bar\n",
    "        text,  # Text to be displayed, formatted to 3 decimal places\n",
    "        va='center'  # Vertical alignment\n",
    "    )\n",
    "g.set(\n",
    "    ylabel=\"\",\n",
    "    xlim=0.1,\n",
    ")\n",
    "sns.despine();"
   ]
  },
  {
   "cell_type": "code",
   "execution_count": 18,
   "metadata": {},
   "outputs": [
    {
     "data": {
      "image/png": "[encoded data removed]",
      "text/plain": [
       "<Figure size 144x144 with 1 Axes>"
      ]
     },
     "metadata": {
      "needs_background": "light"
     },
     "output_type": "display_data"
    }
   ],
   "source": [
    "df_all = df[df.subset==\"all\"]\n",
    "\n",
    "plt.figure(figsize=(2,2))\n",
    "g = sns.barplot(\n",
    "    data=df_all,\n",
    "    y=\"Model\",\n",
    "    x=\"AUPRC\",\n",
    "    order=df_all.sort_values(\"AUPRC\", ascending=False).Model,\n",
    "    palette=palette,\n",
    ")\n",
    "for bar, model in zip(g.patches, df_all.Model):\n",
    "    text = f'{bar.get_width():.3f}'\n",
    "    g.text(\n",
    "        max(bar.get_width(), baseline),  # X position, here at the end of the bar\n",
    "        bar.get_y() + bar.get_height()/2,  # Y position, in the middle of the bar\n",
    "        text,  # Text to be displayed, formatted to 3 decimal places\n",
    "        va='center'  # Vertical alignment\n",
    "    )\n",
    "g.set(\n",
    "    ylabel=\"\",\n",
    "    xlim=0.1,\n",
    ")\n",
    "sns.despine();"
   ]
  },
  {
   "cell_type": "code",
   "execution_count": null,
   "metadata": {},
   "outputs": [],
   "source": []
  }
 ],
 "metadata": {
  "kernelspec": {
   "display_name": "gpn",
   "language": "python",
   "name": "gpn"
  },
  "language_info": {
   "codemirror_mode": {
    "name": "ipython",
    "version": 3
   },
   "file_extension": ".py",
   "mimetype": "text/x-python",
   "name": "python",
   "nbconvert_exporter": "python",
   "pygments_lexer": "ipython3",
   "version": "3.11.3"
  }
 },
 "nbformat": 4,
 "nbformat_minor": 2
}
