{
 "cells": [
  {
   "cell_type": "code",
   "execution_count": 1,
   "metadata": {},
   "outputs": [],
   "source": [
    "import polars as pl"
   ]
  },
  {
   "cell_type": "code",
   "execution_count": 2,
   "metadata": {},
   "outputs": [
    {
     "name": "stdout",
     "output_type": "stream",
     "text": [
      "--2024-08-19 14:31:11--  https://storage.googleapis.com/finucane-requester-pays/ukbb-finemapping/UKBB.AD.SuSiE.tsv.bgz\n",
      "Resolving storage.googleapis.com (storage.googleapis.com)... 142.251.32.59, 142.250.189.251, 142.251.46.251, ...\n",
      "Connecting to storage.googleapis.com (storage.googleapis.com)|142.251.32.59|:443... connected.\n",
      "HTTP request sent, awaiting response... 400 Bad Request\n",
      "2024-08-19 14:31:12 ERROR 400: Bad Request.\n",
      "\n"
     ]
    }
   ],
   "source": [
    "!wget https://storage.googleapis.com/finucane-requester-pays/ukbb-finemapping/UKBB.AD.SuSiE.tsv.bgz"
   ]
  },
  {
   "cell_type": "code",
   "execution_count": null,
   "metadata": {},
   "outputs": [],
   "source": []
  }
 ],
 "metadata": {
  "kernelspec": {
   "display_name": "gpn",
   "language": "python",
   "name": "gpn"
  },
  "language_info": {
   "codemirror_mode": {
    "name": "ipython",
    "version": 3
   },
   "file_extension": ".py",
   "mimetype": "text/x-python",
   "name": "python",
   "nbconvert_exporter": "python",
   "pygments_lexer": "ipython3",
   "version": "3.11.3"
  }
 },
 "nbformat": 4,
 "nbformat_minor": 2
}
