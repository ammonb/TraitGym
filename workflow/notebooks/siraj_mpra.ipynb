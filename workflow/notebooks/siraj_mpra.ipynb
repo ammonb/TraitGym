{
 "cells": [
  {
   "cell_type": "code",
   "execution_count": 5,
   "metadata": {},
   "outputs": [],
   "source": [
    "import pandas as pd\n",
    "import polars as pl"
   ]
  },
  {
   "cell_type": "markdown",
   "metadata": {},
   "source": [
    "## ST1"
   ]
  },
  {
   "cell_type": "code",
   "execution_count": 2,
   "metadata": {},
   "outputs": [
    {
     "name": "stdout",
     "output_type": "stream",
     "text": [
      "--2024-08-06 10:13:41--  https://www.biorxiv.org/content/biorxiv/early/2024/05/06/2024.05.05.592437/DC2/embed/media-2.xlsx?download=true\n",
      "Resolving www.biorxiv.org (www.biorxiv.org)... 104.18.36.45, 172.64.151.211\n",
      "Connecting to www.biorxiv.org (www.biorxiv.org)|104.18.36.45|:443... connected.\n",
      "HTTP request sent, awaiting response... 200 OK\n",
      "Length: unspecified [application/vnd.openxmlformats-officedocument.spreadsheetml.sheet]\n",
      "Saving to: ‘ST1.xlsx’\n",
      "\n",
      "ST1.xlsx                [     <=>            ]  71.23M  85.5MB/s    in 0.8s    \n",
      "\n",
      "2024-08-06 10:13:50 (85.5 MB/s) - ‘ST1.xlsx’ saved [74686750]\n",
      "\n"
     ]
    }
   ],
   "source": [
    "#!wget https://www.biorxiv.org/content/biorxiv/early/2024/05/06/2024.05.05.592437/DC2/embed/media-2.xlsx?download=true -O ST1.xlsx"
   ]
  },
  {
   "cell_type": "code",
   "execution_count": 39,
   "metadata": {},
   "outputs": [
    {
     "data": {
      "text/html": [
       "<div><style>\n",
       ".dataframe > thead > tr,\n",
       ".dataframe > tbody > tr {\n",
       "  text-align: right;\n",
       "  white-space: pre-wrap;\n",
       "}\n",
       "</style>\n",
       "<small>shape: (684_275, 18)</small><table border=\"1\" class=\"dataframe\"><thead><tr><th>Variant</th><th>Chromosome</th><th>Position</th><th>Allele1</th><th>Allele2</th><th>Minor allele</th><th>MAF</th><th>Fine-mapping beta</th><th>Fine-mapping SE</th><th>PIP</th><th>CS Size</th><th>Category</th><th>Tissue</th><th>Gene</th><th>Trait</th><th>Region</th><th>Variant Selection Type</th><th>CS Unique ID</th></tr><tr><td>str</td><td>str</td><td>i64</td><td>str</td><td>str</td><td>str</td><td>f64</td><td>f64</td><td>f64</td><td>f64</td><td>i64</td><td>str</td><td>str</td><td>str</td><td>str</td><td>null</td><td>str</td><td>str</td></tr></thead><tbody><tr><td>&quot;chr1:14677:G:A&quot;</td><td>&quot;chr1&quot;</td><td>14677</td><td>&quot;G&quot;</td><td>&quot;A&quot;</td><td>&quot;A&quot;</td><td>0.0516351</td><td>0.742337</td><td>0.0906542</td><td>1.0</td><td>null</td><td>&quot;GTEx&quot;</td><td>&quot;Adipose_Subcutaneous&quot;</td><td>&quot;ENSG00000228327.3&quot;</td><td>&quot;NA&quot;</td><td>null</td><td>&quot;49tissue_PIP50&quot;</td><td>&quot;GTEx;Adipose_Subcutaneous;ENSG…</td></tr><tr><td>&quot;chr1:14677:G:A&quot;</td><td>&quot;chr1&quot;</td><td>14677</td><td>&quot;G&quot;</td><td>&quot;A&quot;</td><td>&quot;A&quot;</td><td>0.0522388</td><td>0.889035</td><td>0.112513</td><td>1.0</td><td>null</td><td>&quot;GTEx&quot;</td><td>&quot;Adipose_Visceral_Omentum&quot;</td><td>&quot;ENSG00000228327.3&quot;</td><td>&quot;NA&quot;</td><td>null</td><td>&quot;49tissue_PIP50&quot;</td><td>&quot;GTEx;Adipose_Visceral_Omentum;…</td></tr><tr><td>&quot;chr1:14677:G:A&quot;</td><td>&quot;chr1&quot;</td><td>14677</td><td>&quot;G&quot;</td><td>&quot;A&quot;</td><td>&quot;A&quot;</td><td>0.0522388</td><td>-0.901493</td><td>0.120957</td><td>0.993733</td><td>null</td><td>&quot;GTEx&quot;</td><td>&quot;Adipose_Visceral_Omentum&quot;</td><td>&quot;ENSG00000228463.9&quot;</td><td>&quot;NA&quot;</td><td>null</td><td>&quot;49tissue_PIP50&quot;</td><td>&quot;GTEx;Adipose_Visceral_Omentum;…</td></tr><tr><td>&quot;chr1:14677:G:A&quot;</td><td>&quot;chr1&quot;</td><td>14677</td><td>&quot;G&quot;</td><td>&quot;A&quot;</td><td>&quot;A&quot;</td><td>0.0522388</td><td>0.955911</td><td>0.148454</td><td>0.999992</td><td>null</td><td>&quot;GTEx&quot;</td><td>&quot;Adipose_Visceral_Omentum&quot;</td><td>&quot;ENSG00000241860.6&quot;</td><td>&quot;NA&quot;</td><td>null</td><td>&quot;49tissue_PIP50&quot;</td><td>&quot;GTEx;Adipose_Visceral_Omentum;…</td></tr><tr><td>&quot;chr1:14677:G:A&quot;</td><td>&quot;chr1&quot;</td><td>14677</td><td>&quot;G&quot;</td><td>&quot;A&quot;</td><td>&quot;A&quot;</td><td>0.0453767</td><td>0.445997</td><td>0.0773705</td><td>0.999992</td><td>null</td><td>&quot;GTEx&quot;</td><td>&quot;Artery_Tibial&quot;</td><td>&quot;ENSG00000228327.3&quot;</td><td>&quot;NA&quot;</td><td>null</td><td>&quot;49tissue_PIP50&quot;</td><td>&quot;GTEx;Artery_Tibial;ENSG0000022…</td></tr><tr><td>&hellip;</td><td>&hellip;</td><td>&hellip;</td><td>&hellip;</td><td>&hellip;</td><td>&hellip;</td><td>&hellip;</td><td>&hellip;</td><td>&hellip;</td><td>&hellip;</td><td>&hellip;</td><td>&hellip;</td><td>&hellip;</td><td>&hellip;</td><td>&hellip;</td><td>&hellip;</td><td>&hellip;</td><td>&hellip;</td></tr><tr><td>&quot;chr1:249191706:G:A&quot;</td><td>&quot;chr1&quot;</td><td>249191706</td><td>&quot;G&quot;</td><td>&quot;A&quot;</td><td>&quot;G&quot;</td><td>0.23882</td><td>-0.020757</td><td>0.0025475</td><td>0.99581</td><td>1</td><td>&quot;UKBB&quot;</td><td>&quot;NA&quot;</td><td>&quot;NA&quot;</td><td>&quot;Plt&quot;</td><td>null</td><td>&quot;PIP10&quot;</td><td>&quot;UKBB;Plt;chr1:246219769-249219…</td></tr><tr><td>&quot;chr1:249191706:G:A&quot;</td><td>&quot;chr1&quot;</td><td>249191706</td><td>&quot;G&quot;</td><td>&quot;A&quot;</td><td>&quot;G&quot;</td><td>0.23882</td><td>-0.020757</td><td>0.0025475</td><td>0.99581</td><td>1</td><td>&quot;UKBB&quot;</td><td>&quot;NA&quot;</td><td>&quot;NA&quot;</td><td>&quot;Plt&quot;</td><td>null</td><td>&quot;CS&quot;</td><td>&quot;UKBB;Plt;chr1:246219769-249219…</td></tr><tr><td>&quot;chr1:249191706:G:A&quot;</td><td>&quot;chr1&quot;</td><td>249191706</td><td>&quot;G&quot;</td><td>&quot;A&quot;</td><td>&quot;G&quot;</td><td>0.23882</td><td>0.011891</td><td>0.0023429</td><td>0.34384</td><td>null</td><td>&quot;UKBB&quot;</td><td>&quot;NA&quot;</td><td>&quot;NA&quot;</td><td>&quot;RBC&quot;</td><td>null</td><td>&quot;PIP10&quot;</td><td>&quot;NA&quot;</td></tr><tr><td>&quot;chr1:249192008:C:CA&quot;</td><td>&quot;NA&quot;</td><td>249192008</td><td>&quot;NA&quot;</td><td>&quot;NA&quot;</td><td>&quot;NA&quot;</td><td>null</td><td>null</td><td>null</td><td>null</td><td>null</td><td>&quot;control&quot;</td><td>&quot;NA&quot;</td><td>&quot;NA&quot;</td><td>&quot;Plt&quot;</td><td>null</td><td>&quot;loc_CS&quot;</td><td>&quot;NA&quot;</td></tr><tr><td>&quot;chr1:249200985:A:G&quot;</td><td>&quot;chr1&quot;</td><td>249200985</td><td>&quot;A&quot;</td><td>&quot;G&quot;</td><td>&quot;G&quot;</td><td>0.18333</td><td>0.016149</td><td>0.0031712</td><td>0.034072</td><td>2</td><td>&quot;UKBB&quot;</td><td>&quot;NA&quot;</td><td>&quot;NA&quot;</td><td>&quot;Lym&quot;</td><td>null</td><td>&quot;CS&quot;</td><td>&quot;UKBB;Lym;chr1:246222588-249222…</td></tr></tbody></table></div>"
      ],
      "text/plain": [
       "shape: (684_275, 18)\n",
       "┌──────────────┬────────────┬───────────┬─────────┬───┬───────┬────────┬─────────────┬─────────────┐\n",
       "│ Variant      ┆ Chromosome ┆ Position  ┆ Allele1 ┆ … ┆ Trait ┆ Region ┆ Variant     ┆ CS Unique   │\n",
       "│ ---          ┆ ---        ┆ ---       ┆ ---     ┆   ┆ ---   ┆ ---    ┆ Selection   ┆ ID          │\n",
       "│ str          ┆ str        ┆ i64       ┆ str     ┆   ┆ str   ┆ null   ┆ Type        ┆ ---         │\n",
       "│              ┆            ┆           ┆         ┆   ┆       ┆        ┆ ---         ┆ str         │\n",
       "│              ┆            ┆           ┆         ┆   ┆       ┆        ┆ str         ┆             │\n",
       "╞══════════════╪════════════╪═══════════╪═════════╪═══╪═══════╪════════╪═════════════╪═════════════╡\n",
       "│ chr1:14677:G ┆ chr1       ┆ 14677     ┆ G       ┆ … ┆ NA    ┆ null   ┆ 49tissue_PI ┆ GTEx;Adipos │\n",
       "│ :A           ┆            ┆           ┆         ┆   ┆       ┆        ┆ P50         ┆ e_Subcutane │\n",
       "│              ┆            ┆           ┆         ┆   ┆       ┆        ┆             ┆ ous;ENSG…   │\n",
       "│ chr1:14677:G ┆ chr1       ┆ 14677     ┆ G       ┆ … ┆ NA    ┆ null   ┆ 49tissue_PI ┆ GTEx;Adipos │\n",
       "│ :A           ┆            ┆           ┆         ┆   ┆       ┆        ┆ P50         ┆ e_Visceral_ │\n",
       "│              ┆            ┆           ┆         ┆   ┆       ┆        ┆             ┆ Omentum;…   │\n",
       "│ chr1:14677:G ┆ chr1       ┆ 14677     ┆ G       ┆ … ┆ NA    ┆ null   ┆ 49tissue_PI ┆ GTEx;Adipos │\n",
       "│ :A           ┆            ┆           ┆         ┆   ┆       ┆        ┆ P50         ┆ e_Visceral_ │\n",
       "│              ┆            ┆           ┆         ┆   ┆       ┆        ┆             ┆ Omentum;…   │\n",
       "│ chr1:14677:G ┆ chr1       ┆ 14677     ┆ G       ┆ … ┆ NA    ┆ null   ┆ 49tissue_PI ┆ GTEx;Adipos │\n",
       "│ :A           ┆            ┆           ┆         ┆   ┆       ┆        ┆ P50         ┆ e_Visceral_ │\n",
       "│              ┆            ┆           ┆         ┆   ┆       ┆        ┆             ┆ Omentum;…   │\n",
       "│ chr1:14677:G ┆ chr1       ┆ 14677     ┆ G       ┆ … ┆ NA    ┆ null   ┆ 49tissue_PI ┆ GTEx;Artery │\n",
       "│ :A           ┆            ┆           ┆         ┆   ┆       ┆        ┆ P50         ┆ _Tibial;ENS │\n",
       "│              ┆            ┆           ┆         ┆   ┆       ┆        ┆             ┆ G0000022…   │\n",
       "│ …            ┆ …          ┆ …         ┆ …       ┆ … ┆ …     ┆ …      ┆ …           ┆ …           │\n",
       "│ chr1:2491917 ┆ chr1       ┆ 249191706 ┆ G       ┆ … ┆ Plt   ┆ null   ┆ PIP10       ┆ UKBB;Plt;ch │\n",
       "│ 06:G:A       ┆            ┆           ┆         ┆   ┆       ┆        ┆             ┆ r1:24621976 │\n",
       "│              ┆            ┆           ┆         ┆   ┆       ┆        ┆             ┆ 9-249219…   │\n",
       "│ chr1:2491917 ┆ chr1       ┆ 249191706 ┆ G       ┆ … ┆ Plt   ┆ null   ┆ CS          ┆ UKBB;Plt;ch │\n",
       "│ 06:G:A       ┆            ┆           ┆         ┆   ┆       ┆        ┆             ┆ r1:24621976 │\n",
       "│              ┆            ┆           ┆         ┆   ┆       ┆        ┆             ┆ 9-249219…   │\n",
       "│ chr1:2491917 ┆ chr1       ┆ 249191706 ┆ G       ┆ … ┆ RBC   ┆ null   ┆ PIP10       ┆ NA          │\n",
       "│ 06:G:A       ┆            ┆           ┆         ┆   ┆       ┆        ┆             ┆             │\n",
       "│ chr1:2491920 ┆ NA         ┆ 249192008 ┆ NA      ┆ … ┆ Plt   ┆ null   ┆ loc_CS      ┆ NA          │\n",
       "│ 08:C:CA      ┆            ┆           ┆         ┆   ┆       ┆        ┆             ┆             │\n",
       "│ chr1:2492009 ┆ chr1       ┆ 249200985 ┆ A       ┆ … ┆ Lym   ┆ null   ┆ CS          ┆ UKBB;Lym;ch │\n",
       "│ 85:A:G       ┆            ┆           ┆         ┆   ┆       ┆        ┆             ┆ r1:24622258 │\n",
       "│              ┆            ┆           ┆         ┆   ┆       ┆        ┆             ┆ 8-249222…   │\n",
       "└──────────────┴────────────┴───────────┴─────────┴───┴───────┴────────┴─────────────┴─────────────┘"
      ]
     },
     "execution_count": 39,
     "metadata": {},
     "output_type": "execute_result"
    }
   ],
   "source": [
    "st1 = pl.read_excel(\"ST1.xlsx\", read_options=dict(header_row=1))\n",
    "st1"
   ]
  },
  {
   "cell_type": "code",
   "execution_count": 43,
   "metadata": {},
   "outputs": [
    {
     "data": {
      "text/html": [
       "<div><style>\n",
       ".dataframe > thead > tr,\n",
       ".dataframe > tbody > tr {\n",
       "  text-align: right;\n",
       "  white-space: pre-wrap;\n",
       "}\n",
       "</style>\n",
       "<small>shape: (304_278, 18)</small><table border=\"1\" class=\"dataframe\"><thead><tr><th>Variant</th><th>Chromosome</th><th>Position</th><th>Allele1</th><th>Allele2</th><th>Minor allele</th><th>MAF</th><th>Fine-mapping beta</th><th>Fine-mapping SE</th><th>PIP</th><th>CS Size</th><th>Category</th><th>Tissue</th><th>Gene</th><th>Trait</th><th>Region</th><th>Variant Selection Type</th><th>CS Unique ID</th></tr><tr><td>str</td><td>str</td><td>i64</td><td>str</td><td>str</td><td>str</td><td>f64</td><td>f64</td><td>f64</td><td>f64</td><td>i64</td><td>str</td><td>str</td><td>str</td><td>str</td><td>null</td><td>str</td><td>str</td></tr></thead><tbody><tr><td>&quot;chr6:44077356:A:G&quot;</td><td>&quot;NA&quot;</td><td>44077356</td><td>&quot;NA&quot;</td><td>&quot;NA&quot;</td><td>&quot;NA&quot;</td><td>null</td><td>null</td><td>null</td><td>null</td><td>null</td><td>&quot;control&quot;</td><td>&quot;NA&quot;</td><td>&quot;NA&quot;</td><td>&quot;Morning_Person&quot;</td><td>null</td><td>&quot;annot_CS&quot;</td><td>&quot;NA&quot;</td></tr><tr><td>&quot;chr10:119580730:G:A&quot;</td><td>&quot;NA&quot;</td><td>119580730</td><td>&quot;NA&quot;</td><td>&quot;NA&quot;</td><td>&quot;NA&quot;</td><td>null</td><td>null</td><td>null</td><td>null</td><td>null</td><td>&quot;control&quot;</td><td>&quot;NA&quot;</td><td>&quot;NA&quot;</td><td>&quot;Age_at_Menarche&quot;</td><td>null</td><td>&quot;annot_CS&quot;</td><td>&quot;NA&quot;</td></tr><tr><td>&quot;chr9:4763491:G:A&quot;</td><td>&quot;chr9&quot;</td><td>4763491</td><td>&quot;G&quot;</td><td>&quot;A&quot;</td><td>&quot;A&quot;</td><td>0.31249</td><td>0.013957</td><td>0.0024464</td><td>0.98651</td><td>1</td><td>&quot;UKBB&quot;</td><td>&quot;NA&quot;</td><td>&quot;NA&quot;</td><td>&quot;Eosino&quot;</td><td>null</td><td>&quot;PIP10&quot;</td><td>&quot;UKBB;Eosino;chr9:4697392-76973…</td></tr><tr><td>&quot;chr3:197342309:C:A&quot;</td><td>&quot;chr3&quot;</td><td>197342309</td><td>&quot;C&quot;</td><td>&quot;A&quot;</td><td>&quot;A&quot;</td><td>0.121134</td><td>0.716878</td><td>0.0891334</td><td>0.009755</td><td>21</td><td>&quot;GTEx&quot;</td><td>&quot;Brain_Caudate_basal_ganglia&quot;</td><td>&quot;ENSG00000214135.8&quot;</td><td>&quot;NA&quot;</td><td>null</td><td>&quot;3tissue_CS&quot;</td><td>&quot;GTEx;Brain_Caudate_basal_gangl…</td></tr><tr><td>&quot;chr3:61046863:G:A&quot;</td><td>&quot;chr3&quot;</td><td>61046863</td><td>&quot;NA&quot;</td><td>&quot;NA&quot;</td><td>&quot;NA&quot;</td><td>null</td><td>null</td><td>null</td><td>0.5</td><td>null</td><td>&quot;control&quot;</td><td>&quot;NA&quot;</td><td>&quot;NA&quot;</td><td>&quot;NA&quot;</td><td>null</td><td>&quot;3tissue_annotctrl&quot;</td><td>&quot;NA&quot;</td></tr><tr><td>&hellip;</td><td>&hellip;</td><td>&hellip;</td><td>&hellip;</td><td>&hellip;</td><td>&hellip;</td><td>&hellip;</td><td>&hellip;</td><td>&hellip;</td><td>&hellip;</td><td>&hellip;</td><td>&hellip;</td><td>&hellip;</td><td>&hellip;</td><td>&hellip;</td><td>&hellip;</td><td>&hellip;</td><td>&hellip;</td></tr><tr><td>&quot;chr2:133469250:T:A&quot;</td><td>&quot;chr2&quot;</td><td>133469250</td><td>&quot;T&quot;</td><td>&quot;A&quot;</td><td>&quot;A&quot;</td><td>0.079919</td><td>0.023445</td><td>0.0039749</td><td>0.054132</td><td>8</td><td>&quot;UKBB&quot;</td><td>&quot;NA&quot;</td><td>&quot;NA&quot;</td><td>&quot;BMI&quot;</td><td>null</td><td>&quot;CS&quot;</td><td>&quot;UKBB;BMI;chr2:131961865-134961…</td></tr><tr><td>&quot;chr2:56192818:C:T&quot;</td><td>&quot;chr2&quot;</td><td>56192818</td><td>&quot;C&quot;</td><td>&quot;T&quot;</td><td>&quot;C&quot;</td><td>0.42954</td><td>0.12432</td><td>0.012918</td><td>0.091583</td><td>35</td><td>&quot;UKBB&quot;</td><td>&quot;NA&quot;</td><td>&quot;NA&quot;</td><td>&quot;Inguinal_Hernia&quot;</td><td>null</td><td>&quot;CS&quot;</td><td>&quot;UKBB;Inguinal_Hernia;chr2:5460…</td></tr><tr><td>&quot;chr3:85046504:T:C&quot;</td><td>&quot;chr3&quot;</td><td>85046504</td><td>&quot;T&quot;</td><td>&quot;C&quot;</td><td>&quot;C&quot;</td><td>0.329897</td><td>0.28232</td><td>0.0448627</td><td>0.063879</td><td>22</td><td>&quot;GTEx&quot;</td><td>&quot;Brain_Caudate_basal_ganglia&quot;</td><td>&quot;ENSG00000175161.13&quot;</td><td>&quot;NA&quot;</td><td>null</td><td>&quot;3tissue_CS&quot;</td><td>&quot;GTEx;Brain_Caudate_basal_gangl…</td></tr><tr><td>&quot;chr16:85706564:G:A&quot;</td><td>&quot;chr16&quot;</td><td>85706564</td><td>&quot;G&quot;</td><td>&quot;A&quot;</td><td>&quot;A&quot;</td><td>0.27319</td><td>0.020886</td><td>0.0023374</td><td>0.44325</td><td>10</td><td>&quot;UKBB&quot;</td><td>&quot;NA&quot;</td><td>&quot;NA&quot;</td><td>&quot;Plt&quot;</td><td>null</td><td>&quot;PIP10&quot;</td><td>&quot;UKBB;Plt;chr16:83915465-869154…</td></tr><tr><td>&quot;chr3:139270783:C:T&quot;</td><td>&quot;chr3&quot;</td><td>139270783</td><td>&quot;C&quot;</td><td>&quot;T&quot;</td><td>&quot;T&quot;</td><td>0.0861244</td><td>0.593274</td><td>0.0829617</td><td>0.035976</td><td>25</td><td>&quot;GTEx&quot;</td><td>&quot;Brain_Cerebellum&quot;</td><td>&quot;ENSG00000114115.9&quot;</td><td>&quot;NA&quot;</td><td>null</td><td>&quot;3tissue_CS&quot;</td><td>&quot;GTEx;Brain_Cerebellum;ENSG0000…</td></tr></tbody></table></div>"
      ],
      "text/plain": [
       "shape: (304_278, 18)\n",
       "┌────────────┬────────────┬───────────┬─────────┬───┬────────────┬────────┬────────────┬───────────┐\n",
       "│ Variant    ┆ Chromosome ┆ Position  ┆ Allele1 ┆ … ┆ Trait      ┆ Region ┆ Variant    ┆ CS Unique │\n",
       "│ ---        ┆ ---        ┆ ---       ┆ ---     ┆   ┆ ---        ┆ ---    ┆ Selection  ┆ ID        │\n",
       "│ str        ┆ str        ┆ i64       ┆ str     ┆   ┆ str        ┆ null   ┆ Type       ┆ ---       │\n",
       "│            ┆            ┆           ┆         ┆   ┆            ┆        ┆ ---        ┆ str       │\n",
       "│            ┆            ┆           ┆         ┆   ┆            ┆        ┆ str        ┆           │\n",
       "╞════════════╪════════════╪═══════════╪═════════╪═══╪════════════╪════════╪════════════╪═══════════╡\n",
       "│ chr6:44077 ┆ NA         ┆ 44077356  ┆ NA      ┆ … ┆ Morning_Pe ┆ null   ┆ annot_CS   ┆ NA        │\n",
       "│ 356:A:G    ┆            ┆           ┆         ┆   ┆ rson       ┆        ┆            ┆           │\n",
       "│ chr10:1195 ┆ NA         ┆ 119580730 ┆ NA      ┆ … ┆ Age_at_Men ┆ null   ┆ annot_CS   ┆ NA        │\n",
       "│ 80730:G:A  ┆            ┆           ┆         ┆   ┆ arche      ┆        ┆            ┆           │\n",
       "│ chr9:47634 ┆ chr9       ┆ 4763491   ┆ G       ┆ … ┆ Eosino     ┆ null   ┆ PIP10      ┆ UKBB;Eosi │\n",
       "│ 91:G:A     ┆            ┆           ┆         ┆   ┆            ┆        ┆            ┆ no;chr9:4 │\n",
       "│            ┆            ┆           ┆         ┆   ┆            ┆        ┆            ┆ 697392-76 │\n",
       "│            ┆            ┆           ┆         ┆   ┆            ┆        ┆            ┆ 973…      │\n",
       "│ chr3:19734 ┆ chr3       ┆ 197342309 ┆ C       ┆ … ┆ NA         ┆ null   ┆ 3tissue_CS ┆ GTEx;Brai │\n",
       "│ 2309:C:A   ┆            ┆           ┆         ┆   ┆            ┆        ┆            ┆ n_Caudate │\n",
       "│            ┆            ┆           ┆         ┆   ┆            ┆        ┆            ┆ _basal_ga │\n",
       "│            ┆            ┆           ┆         ┆   ┆            ┆        ┆            ┆ ngl…      │\n",
       "│ chr3:61046 ┆ chr3       ┆ 61046863  ┆ NA      ┆ … ┆ NA         ┆ null   ┆ 3tissue_an ┆ NA        │\n",
       "│ 863:G:A    ┆            ┆           ┆         ┆   ┆            ┆        ┆ notctrl    ┆           │\n",
       "│ …          ┆ …          ┆ …         ┆ …       ┆ … ┆ …          ┆ …      ┆ …          ┆ …         │\n",
       "│ chr2:13346 ┆ chr2       ┆ 133469250 ┆ T       ┆ … ┆ BMI        ┆ null   ┆ CS         ┆ UKBB;BMI; │\n",
       "│ 9250:T:A   ┆            ┆           ┆         ┆   ┆            ┆        ┆            ┆ chr2:1319 │\n",
       "│            ┆            ┆           ┆         ┆   ┆            ┆        ┆            ┆ 61865-134 │\n",
       "│            ┆            ┆           ┆         ┆   ┆            ┆        ┆            ┆ 961…      │\n",
       "│ chr2:56192 ┆ chr2       ┆ 56192818  ┆ C       ┆ … ┆ Inguinal_H ┆ null   ┆ CS         ┆ UKBB;Ingu │\n",
       "│ 818:C:T    ┆            ┆           ┆         ┆   ┆ ernia      ┆        ┆            ┆ inal_Hern │\n",
       "│            ┆            ┆           ┆         ┆   ┆            ┆        ┆            ┆ ia;chr2:5 │\n",
       "│            ┆            ┆           ┆         ┆   ┆            ┆        ┆            ┆ 460…      │\n",
       "│ chr3:85046 ┆ chr3       ┆ 85046504  ┆ T       ┆ … ┆ NA         ┆ null   ┆ 3tissue_CS ┆ GTEx;Brai │\n",
       "│ 504:T:C    ┆            ┆           ┆         ┆   ┆            ┆        ┆            ┆ n_Caudate │\n",
       "│            ┆            ┆           ┆         ┆   ┆            ┆        ┆            ┆ _basal_ga │\n",
       "│            ┆            ┆           ┆         ┆   ┆            ┆        ┆            ┆ ngl…      │\n",
       "│ chr16:8570 ┆ chr16      ┆ 85706564  ┆ G       ┆ … ┆ Plt        ┆ null   ┆ PIP10      ┆ UKBB;Plt; │\n",
       "│ 6564:G:A   ┆            ┆           ┆         ┆   ┆            ┆        ┆            ┆ chr16:839 │\n",
       "│            ┆            ┆           ┆         ┆   ┆            ┆        ┆            ┆ 15465-869 │\n",
       "│            ┆            ┆           ┆         ┆   ┆            ┆        ┆            ┆ 154…      │\n",
       "│ chr3:13927 ┆ chr3       ┆ 139270783 ┆ C       ┆ … ┆ NA         ┆ null   ┆ 3tissue_CS ┆ GTEx;Brai │\n",
       "│ 0783:C:T   ┆            ┆           ┆         ┆   ┆            ┆        ┆            ┆ n_Cerebel │\n",
       "│            ┆            ┆           ┆         ┆   ┆            ┆        ┆            ┆ lum;ENSG0 │\n",
       "│            ┆            ┆           ┆         ┆   ┆            ┆        ┆            ┆ 000…      │\n",
       "└────────────┴────────────┴───────────┴─────────┴───┴────────────┴────────┴────────────┴───────────┘"
      ]
     },
     "execution_count": 43,
     "metadata": {},
     "output_type": "execute_result"
    }
   ],
   "source": [
    "st1_u = st1.unique(subset=[\"Variant\"])\n",
    "st1_u"
   ]
  },
  {
   "cell_type": "code",
   "execution_count": 44,
   "metadata": {},
   "outputs": [
    {
     "data": {
      "text/html": [
       "<div><style>\n",
       ".dataframe > thead > tr,\n",
       ".dataframe > tbody > tr {\n",
       "  text-align: right;\n",
       "  white-space: pre-wrap;\n",
       "}\n",
       "</style>\n",
       "<small>shape: (4, 2)</small><table border=\"1\" class=\"dataframe\"><thead><tr><th>Category</th><th>count</th></tr><tr><td>str</td><td>u32</td></tr></thead><tbody><tr><td>&quot;UKBB&quot;</td><td>72579</td></tr><tr><td>&quot;BBJ&quot;</td><td>5659</td></tr><tr><td>&quot;GTEx&quot;</td><td>141846</td></tr><tr><td>&quot;control&quot;</td><td>84194</td></tr></tbody></table></div>"
      ],
      "text/plain": [
       "shape: (4, 2)\n",
       "┌──────────┬────────┐\n",
       "│ Category ┆ count  │\n",
       "│ ---      ┆ ---    │\n",
       "│ str      ┆ u32    │\n",
       "╞══════════╪════════╡\n",
       "│ UKBB     ┆ 72579  │\n",
       "│ BBJ      ┆ 5659   │\n",
       "│ GTEx     ┆ 141846 │\n",
       "│ control  ┆ 84194  │\n",
       "└──────────┴────────┘"
      ]
     },
     "execution_count": 44,
     "metadata": {},
     "output_type": "execute_result"
    }
   ],
   "source": [
    "st1_u[\"Category\"].value_counts()"
   ]
  },
  {
   "cell_type": "code",
   "execution_count": 45,
   "metadata": {},
   "outputs": [
    {
     "name": "stdout",
     "output_type": "stream",
     "text": [
      "shape: (15, 2)\n",
      "┌────────────────────────┬────────┐\n",
      "│ Variant Selection Type ┆ count  │\n",
      "│ ---                    ┆ ---    │\n",
      "│ str                    ┆ u32    │\n",
      "╞════════════════════════╪════════╡\n",
      "│ 3tissue_CS             ┆ 105649 │\n",
      "│ CS                     ┆ 55323  │\n",
      "│ 49tissue_PIP50         ┆ 26409  │\n",
      "│ PIP10                  ┆ 22915  │\n",
      "│ null_CS                ┆ 11268  │\n",
      "│ 3tissue_annotctrl      ┆ 11089  │\n",
      "│ annot_CS               ┆ 10509  │\n",
      "│ 3tissue_PIP10          ┆ 9788   │\n",
      "│ 3tissue_locctrl        ┆ 9556   │\n",
      "│ loc_CS                 ┆ 9191   │\n",
      "│ 49tissue_annotctrl     ┆ 8680   │\n",
      "│ annot_PIP10            ┆ 8499   │\n",
      "│ 49tissue_locctrl       ┆ 7306   │\n",
      "│ loc_PIP10              ┆ 5473   │\n",
      "│ null_PIP10             ┆ 2623   │\n",
      "└────────────────────────┴────────┘\n"
     ]
    }
   ],
   "source": [
    "with pl.Config(tbl_rows=20):\n",
    "    print(st1_u[\"Variant Selection Type\"].value_counts().sort(\"count\", descending=True))"
   ]
  },
  {
   "cell_type": "code",
   "execution_count": 51,
   "metadata": {},
   "outputs": [
    {
     "data": {
      "text/html": [
       "<div><style>\n",
       ".dataframe > thead > tr,\n",
       ".dataframe > tbody > tr {\n",
       "  text-align: right;\n",
       "  white-space: pre-wrap;\n",
       "}\n",
       "</style>\n",
       "<small>shape: (2, 2)</small><table border=\"1\" class=\"dataframe\"><thead><tr><th>Variant Selection Type</th><th>count</th></tr><tr><td>str</td><td>u32</td></tr></thead><tbody><tr><td>&quot;CS&quot;</td><td>51058</td></tr><tr><td>&quot;PIP10&quot;</td><td>21521</td></tr></tbody></table></div>"
      ],
      "text/plain": [
       "shape: (2, 2)\n",
       "┌────────────────────────┬───────┐\n",
       "│ Variant Selection Type ┆ count │\n",
       "│ ---                    ┆ ---   │\n",
       "│ str                    ┆ u32   │\n",
       "╞════════════════════════╪═══════╡\n",
       "│ CS                     ┆ 51058 │\n",
       "│ PIP10                  ┆ 21521 │\n",
       "└────────────────────────┴───────┘"
      ]
     },
     "execution_count": 51,
     "metadata": {},
     "output_type": "execute_result"
    }
   ],
   "source": [
    "st1_u.filter(Category=\"UKBB\")[\"Variant Selection Type\"].value_counts()"
   ]
  },
  {
   "cell_type": "code",
   "execution_count": 52,
   "metadata": {},
   "outputs": [
    {
     "data": {
      "text/html": [
       "<div><style>\n",
       ".dataframe > thead > tr,\n",
       ".dataframe > tbody > tr {\n",
       "  text-align: right;\n",
       "  white-space: pre-wrap;\n",
       "}\n",
       "</style>\n",
       "<small>shape: (2, 2)</small><table border=\"1\" class=\"dataframe\"><thead><tr><th>Variant Selection Type</th><th>count</th></tr><tr><td>str</td><td>u32</td></tr></thead><tbody><tr><td>&quot;PIP10&quot;</td><td>1394</td></tr><tr><td>&quot;CS&quot;</td><td>4265</td></tr></tbody></table></div>"
      ],
      "text/plain": [
       "shape: (2, 2)\n",
       "┌────────────────────────┬───────┐\n",
       "│ Variant Selection Type ┆ count │\n",
       "│ ---                    ┆ ---   │\n",
       "│ str                    ┆ u32   │\n",
       "╞════════════════════════╪═══════╡\n",
       "│ PIP10                  ┆ 1394  │\n",
       "│ CS                     ┆ 4265  │\n",
       "└────────────────────────┴───────┘"
      ]
     },
     "execution_count": 52,
     "metadata": {},
     "output_type": "execute_result"
    }
   ],
   "source": [
    "st1_u.filter(Category=\"BBJ\")[\"Variant Selection Type\"].value_counts()"
   ]
  },
  {
   "cell_type": "code",
   "execution_count": 53,
   "metadata": {},
   "outputs": [
    {
     "data": {
      "text/html": [
       "<div><style>\n",
       ".dataframe > thead > tr,\n",
       ".dataframe > tbody > tr {\n",
       "  text-align: right;\n",
       "  white-space: pre-wrap;\n",
       "}\n",
       "</style>\n",
       "<small>shape: (3, 2)</small><table border=\"1\" class=\"dataframe\"><thead><tr><th>Variant Selection Type</th><th>count</th></tr><tr><td>str</td><td>u32</td></tr></thead><tbody><tr><td>&quot;3tissue_PIP10&quot;</td><td>9788</td></tr><tr><td>&quot;3tissue_CS&quot;</td><td>105649</td></tr><tr><td>&quot;49tissue_PIP50&quot;</td><td>26409</td></tr></tbody></table></div>"
      ],
      "text/plain": [
       "shape: (3, 2)\n",
       "┌────────────────────────┬────────┐\n",
       "│ Variant Selection Type ┆ count  │\n",
       "│ ---                    ┆ ---    │\n",
       "│ str                    ┆ u32    │\n",
       "╞════════════════════════╪════════╡\n",
       "│ 3tissue_PIP10          ┆ 9788   │\n",
       "│ 3tissue_CS             ┆ 105649 │\n",
       "│ 49tissue_PIP50         ┆ 26409  │\n",
       "└────────────────────────┴────────┘"
      ]
     },
     "execution_count": 53,
     "metadata": {},
     "output_type": "execute_result"
    }
   ],
   "source": [
    "st1_u.filter(Category=\"GTEx\")[\"Variant Selection Type\"].value_counts()"
   ]
  },
  {
   "cell_type": "code",
   "execution_count": 50,
   "metadata": {},
   "outputs": [
    {
     "data": {
      "text/html": [
       "<div><style>\n",
       ".dataframe > thead > tr,\n",
       ".dataframe > tbody > tr {\n",
       "  text-align: right;\n",
       "  white-space: pre-wrap;\n",
       "}\n",
       "</style>\n",
       "<small>shape: (10, 2)</small><table border=\"1\" class=\"dataframe\"><thead><tr><th>Variant Selection Type</th><th>count</th></tr><tr><td>str</td><td>u32</td></tr></thead><tbody><tr><td>&quot;null_CS&quot;</td><td>11268</td></tr><tr><td>&quot;3tissue_locctrl&quot;</td><td>9556</td></tr><tr><td>&quot;null_PIP10&quot;</td><td>2623</td></tr><tr><td>&quot;3tissue_annotctrl&quot;</td><td>11089</td></tr><tr><td>&quot;49tissue_locctrl&quot;</td><td>7306</td></tr><tr><td>&quot;loc_CS&quot;</td><td>9191</td></tr><tr><td>&quot;49tissue_annotctrl&quot;</td><td>8680</td></tr><tr><td>&quot;annot_PIP10&quot;</td><td>8499</td></tr><tr><td>&quot;loc_PIP10&quot;</td><td>5473</td></tr><tr><td>&quot;annot_CS&quot;</td><td>10509</td></tr></tbody></table></div>"
      ],
      "text/plain": [
       "shape: (10, 2)\n",
       "┌────────────────────────┬───────┐\n",
       "│ Variant Selection Type ┆ count │\n",
       "│ ---                    ┆ ---   │\n",
       "│ str                    ┆ u32   │\n",
       "╞════════════════════════╪═══════╡\n",
       "│ null_CS                ┆ 11268 │\n",
       "│ 3tissue_locctrl        ┆ 9556  │\n",
       "│ null_PIP10             ┆ 2623  │\n",
       "│ 3tissue_annotctrl      ┆ 11089 │\n",
       "│ 49tissue_locctrl       ┆ 7306  │\n",
       "│ loc_CS                 ┆ 9191  │\n",
       "│ 49tissue_annotctrl     ┆ 8680  │\n",
       "│ annot_PIP10            ┆ 8499  │\n",
       "│ loc_PIP10              ┆ 5473  │\n",
       "│ annot_CS               ┆ 10509 │\n",
       "└────────────────────────┴───────┘"
      ]
     },
     "execution_count": 50,
     "metadata": {},
     "output_type": "execute_result"
    }
   ],
   "source": [
    "st1_u.filter(Category=\"control\")[\"Variant Selection Type\"].value_counts()"
   ]
  },
  {
   "cell_type": "markdown",
   "metadata": {},
   "source": [
    "## ST3"
   ]
  },
  {
   "cell_type": "code",
   "execution_count": 23,
   "metadata": {},
   "outputs": [
    {
     "name": "stdout",
     "output_type": "stream",
     "text": [
      "--2024-08-06 10:51:22--  https://www.biorxiv.org/content/biorxiv/early/2024/05/06/2024.05.05.592437/DC4/embed/media-4.xlsx?download=true\n",
      "Resolving www.biorxiv.org (www.biorxiv.org)... 104.18.36.45, 172.64.151.211\n",
      "Connecting to www.biorxiv.org (www.biorxiv.org)|104.18.36.45|:443... connected.\n",
      "HTTP request sent, awaiting response... 200 OK\n",
      "Length: unspecified [application/vnd.openxmlformats-officedocument.spreadsheetml.sheet]\n",
      "Saving to: ‘ST3.xslx’\n",
      "\n",
      "ST3.xslx                [           <=>      ] 214.56M   104MB/s    in 2.1s    \n",
      "\n",
      "2024-08-06 10:52:05 (104 MB/s) - ‘ST3.xslx’ saved [224981820]\n",
      "\n"
     ]
    }
   ],
   "source": [
    "#!wget https://www.biorxiv.org/content/biorxiv/early/2024/05/06/2024.05.05.592437/DC4/embed/media-4.xlsx?download=true -O ST3.xlsx"
   ]
  },
  {
   "cell_type": "code",
   "execution_count": 27,
   "metadata": {},
   "outputs": [
    {
     "data": {
      "text/html": [
       "<div><style>\n",
       ".dataframe > thead > tr,\n",
       ".dataframe > tbody > tr {\n",
       "  text-align: right;\n",
       "  white-space: pre-wrap;\n",
       "}\n",
       "</style>\n",
       "<small>shape: (304_278, 78)</small><table border=\"1\" class=\"dataframe\"><thead><tr><th>variant</th><th>active.any</th><th>emVar.any</th><th>allele1.log2FC_A549</th><th>allele1.log2FC_HEPG2</th><th>allele1.log2FC_K562</th><th>allele1.log2FC_SKNSH</th><th>allele1.log2FC_HCT116</th><th>allele1.log2FC.SE_A549</th><th>allele1.log2FC.SE_HEPG2</th><th>allele1.log2FC.SE_K562</th><th>allele1.log2FC.SE_SKNSH</th><th>allele1.log2FC.SE_HCT116</th><th>allele2.log2FC_A549</th><th>allele2.log2FC_HEPG2</th><th>allele2.log2FC_K562</th><th>allele2.log2FC_SKNSH</th><th>allele2.log2FC_HCT116</th><th>allele2.log2FC.SE_A549</th><th>allele2.log2FC.SE_HEPG2</th><th>allele2.log2FC.SE_K562</th><th>allele2.log2FC.SE_SKNSH</th><th>allele2.log2FC.SE_HCT116</th><th>log2FC_A549</th><th>log2FC_HEPG2</th><th>log2FC_K562</th><th>log2FC_SKNSH</th><th>log2FC_HCT116</th><th>active_A549</th><th>active_HEPG2</th><th>active_K562</th><th>active_SKNSH</th><th>active_HCT116</th><th>log2FC.logPadj_A549</th><th>log2FC.logPadj_HEPG2</th><th>log2FC.logPadj_K562</th><th>log2FC.logPadj_SKNSH</th><th>&hellip;</th><th>log2Skew_SKNSH</th><th>log2Skew_HCT116</th><th>emVar_A549</th><th>emVar_HEPG2</th><th>emVar_K562</th><th>emVar_SKNSH</th><th>emVar_HCT116</th><th>log2Skew.SE_A549</th><th>log2Skew.SE_HEPG2</th><th>log2Skew.SE_K562</th><th>log2Skew.SE_SKNSH</th><th>log2Skew.SE_HCT116</th><th>log2Skew.FDR_A549</th><th>log2Skew.FDR_HEPG2</th><th>log2Skew.FDR_K562</th><th>log2Skew.FDR_SKNSH</th><th>log2Skew.FDR_HCT116</th><th>mean_Plasmid_ref_A549</th><th>mean_Plasmid_ref_HEPG2</th><th>mean_Plasmid_ref_K562</th><th>mean_Plasmid_ref_SKNSH</th><th>mean_Plasmid_ref_HCT116</th><th>mean_Plasmid_alt_A549</th><th>mean_Plasmid_alt_HEPG2</th><th>mean_Plasmid_alt_K562</th><th>mean_Plasmid_alt_SKNSH</th><th>mean_Plasmid_alt_HCT116</th><th>mean_RNA_ref_A549</th><th>mean_RNA_ref_HEPG2</th><th>mean_RNA_ref_K562</th><th>mean_RNA_ref_SKNSH</th><th>mean_RNA_ref_HCT116</th><th>mean_RNA_alt_A549</th><th>mean_RNA_alt_HEPG2</th><th>mean_RNA_alt_K562</th><th>mean_RNA_alt_SKNSH</th><th>mean_RNA_alt_HCT116</th></tr><tr><td>str</td><td>bool</td><td>bool</td><td>f64</td><td>f64</td><td>f64</td><td>f64</td><td>f64</td><td>f64</td><td>f64</td><td>f64</td><td>f64</td><td>f64</td><td>f64</td><td>f64</td><td>f64</td><td>f64</td><td>f64</td><td>f64</td><td>f64</td><td>f64</td><td>f64</td><td>f64</td><td>f64</td><td>f64</td><td>f64</td><td>f64</td><td>f64</td><td>bool</td><td>bool</td><td>bool</td><td>bool</td><td>bool</td><td>f64</td><td>f64</td><td>f64</td><td>f64</td><td>&hellip;</td><td>f64</td><td>f64</td><td>bool</td><td>bool</td><td>bool</td><td>bool</td><td>bool</td><td>f64</td><td>f64</td><td>f64</td><td>f64</td><td>f64</td><td>f64</td><td>f64</td><td>f64</td><td>f64</td><td>f64</td><td>f64</td><td>f64</td><td>f64</td><td>f64</td><td>f64</td><td>f64</td><td>f64</td><td>f64</td><td>f64</td><td>f64</td><td>f64</td><td>f64</td><td>f64</td><td>f64</td><td>f64</td><td>f64</td><td>f64</td><td>f64</td><td>f64</td><td>f64</td></tr></thead><tbody><tr><td>&quot;chr10:100025816:G:A&quot;</td><td>true</td><td>false</td><td>null</td><td>1.623685</td><td>2.044789</td><td>1.22237</td><td>1.280575</td><td>null</td><td>0.155521</td><td>0.185498</td><td>0.359527</td><td>0.230448</td><td>null</td><td>1.649226</td><td>1.950421</td><td>1.807569</td><td>1.162127</td><td>null</td><td>0.151078</td><td>0.183093</td><td>0.185257</td><td>0.151925</td><td>null</td><td>1.649226</td><td>2.044789</td><td>1.807569</td><td>1.280575</td><td>null</td><td>true</td><td>true</td><td>true</td><td>true</td><td>null</td><td>21.923012</td><td>22.140539</td><td>16.670578</td><td>&hellip;</td><td>0.724454</td><td>-0.047431</td><td>null</td><td>false</td><td>false</td><td>false</td><td>false</td><td>null</td><td>0.195777</td><td>0.196078</td><td>0.439279</td><td>0.233935</td><td>null</td><td>0.010413</td><td>0.06306</td><td>0.424458</td><td>0.018761</td><td>null</td><td>242.8</td><td>290.8</td><td>242.8</td><td>242.8</td><td>null</td><td>378.4</td><td>417.6</td><td>378.4</td><td>378.4</td><td>null</td><td>453.0</td><td>593.166667</td><td>305.4</td><td>459.0</td><td>null</td><td>719.6</td><td>796.0</td><td>599.4</td><td>656.2</td></tr><tr><td>&quot;chr10:100029561:C:T&quot;</td><td>true</td><td>true</td><td>null</td><td>3.390524</td><td>0.296395</td><td>3.402503</td><td>2.162766</td><td>null</td><td>0.088808</td><td>0.152572</td><td>0.127544</td><td>0.095213</td><td>null</td><td>2.610401</td><td>0.443055</td><td>2.651665</td><td>1.619869</td><td>null</td><td>0.095686</td><td>0.177961</td><td>0.164879</td><td>0.090494</td><td>null</td><td>3.390524</td><td>0.443055</td><td>3.402503</td><td>2.162766</td><td>null</td><td>true</td><td>false</td><td>true</td><td>true</td><td>null</td><td>301.853225</td><td>0.0</td><td>150.967331</td><td>&hellip;</td><td>-0.769913</td><td>-0.534979</td><td>null</td><td>true</td><td>false</td><td>true</td><td>true</td><td>null</td><td>0.089439</td><td>0.227539</td><td>0.148557</td><td>0.108471</td><td>null</td><td>15.729672</td><td>0.106012</td><td>5.08773</td><td>4.439165</td><td>null</td><td>1023.0</td><td>1091.4</td><td>1023.0</td><td>1023.0</td><td>null</td><td>600.8</td><td>660.0</td><td>600.8</td><td>600.8</td><td>null</td><td>6677.2</td><td>665.166667</td><td>5250.0</td><td>3554.4</td><td>null</td><td>2298.8</td><td>439.333333</td><td>1873.8</td><td>1458.4</td></tr><tr><td>&quot;chr10:100098716:G:T&quot;</td><td>true</td><td>true</td><td>null</td><td>1.174309</td><td>0.853279</td><td>1.283911</td><td>1.000218</td><td>null</td><td>0.071422</td><td>0.112936</td><td>0.066361</td><td>0.080771</td><td>null</td><td>1.063949</td><td>0.748978</td><td>1.688784</td><td>0.928368</td><td>null</td><td>0.067332</td><td>0.208261</td><td>0.090971</td><td>0.106027</td><td>null</td><td>1.174309</td><td>0.853279</td><td>1.688784</td><td>1.000218</td><td>null</td><td>true</td><td>false</td><td>true</td><td>true</td><td>null</td><td>54.934453</td><td>7.990028</td><td>77.584687</td><td>&hellip;</td><td>0.413191</td><td>-0.063969</td><td>null</td><td>false</td><td>false</td><td>true</td><td>false</td><td>null</td><td>0.112231</td><td>0.169844</td><td>0.137692</td><td>0.137764</td><td>null</td><td>0.133376</td><td>0.1724</td><td>1.462701</td><td>0.046878</td><td>null</td><td>1664.0</td><td>1276.8</td><td>1389.6</td><td>1664.0</td><td>null</td><td>652.0</td><td>448.8</td><td>482.2</td><td>652.0</td><td>null</td><td>3417.4</td><td>1131.666667</td><td>2423.0</td><td>2850.0</td><td>null</td><td>1243.4</td><td>374.333333</td><td>1114.2</td><td>1060.4</td></tr><tr><td>&quot;chr10:100109592:T:C&quot;</td><td>false</td><td>false</td><td>null</td><td>-0.007378</td><td>0.301644</td><td>0.592409</td><td>-0.03329</td><td>null</td><td>0.139805</td><td>0.209596</td><td>0.182099</td><td>0.137844</td><td>null</td><td>0.265591</td><td>0.059337</td><td>0.883992</td><td>0.054046</td><td>null</td><td>0.127487</td><td>0.141697</td><td>0.144764</td><td>0.114669</td><td>null</td><td>0.265591</td><td>0.301644</td><td>0.883992</td><td>0.054046</td><td>null</td><td>false</td><td>false</td><td>false</td><td>false</td><td>null</td><td>0.0</td><td>0.0</td><td>3.898167</td><td>&hellip;</td><td>0.299795</td><td>0.089272</td><td>null</td><td>false</td><td>false</td><td>false</td><td>false</td><td>null</td><td>0.140901</td><td>0.22147</td><td>0.182924</td><td>0.168513</td><td>null</td><td>0.564655</td><td>0.206934</td><td>0.419341</td><td>0.059115</td><td>null</td><td>919.2</td><td>1010.0</td><td>919.2</td><td>919.2</td><td>null</td><td>940.0</td><td>1022.4</td><td>940.0</td><td>940.0</td><td>null</td><td>564.6</td><td>601.666667</td><td>643.4</td><td>718.6</td><td>null</td><td>695.2</td><td>522.5</td><td>802.6</td><td>754.0</td></tr><tr><td>&quot;chr10:100141027:T:C&quot;</td><td>false</td><td>false</td><td>null</td><td>-0.238128</td><td>-0.00355</td><td>-0.288184</td><td>0.041701</td><td>null</td><td>0.076976</td><td>0.213346</td><td>0.183222</td><td>0.100912</td><td>null</td><td>-0.391381</td><td>-0.19638</td><td>-0.657045</td><td>-0.190311</td><td>null</td><td>0.089988</td><td>0.22547</td><td>0.154121</td><td>0.162814</td><td>null</td><td>-0.391381</td><td>-0.19638</td><td>-0.657045</td><td>-0.190311</td><td>null</td><td>false</td><td>false</td><td>false</td><td>false</td><td>null</td><td>0.0</td><td>0.0</td><td>0.0</td><td>&hellip;</td><td>-0.345535</td><td>-0.272083</td><td>null</td><td>false</td><td>false</td><td>false</td><td>false</td><td>null</td><td>0.13693</td><td>0.277642</td><td>0.224041</td><td>0.181988</td><td>null</td><td>0.224241</td><td>0.312881</td><td>0.371479</td><td>0.287279</td><td>null</td><td>832.0</td><td>740.2</td><td>708.6</td><td>832.0</td><td>null</td><td>899.2</td><td>868.8</td><td>729.2</td><td>899.2</td><td>null</td><td>645.4</td><td>361.666667</td><td>417.0</td><td>731.2</td><td>null</td><td>627.8</td><td>374.666667</td><td>333.2</td><td>660.4</td></tr><tr><td>&hellip;</td><td>&hellip;</td><td>&hellip;</td><td>&hellip;</td><td>&hellip;</td><td>&hellip;</td><td>&hellip;</td><td>&hellip;</td><td>&hellip;</td><td>&hellip;</td><td>&hellip;</td><td>&hellip;</td><td>&hellip;</td><td>&hellip;</td><td>&hellip;</td><td>&hellip;</td><td>&hellip;</td><td>&hellip;</td><td>&hellip;</td><td>&hellip;</td><td>&hellip;</td><td>&hellip;</td><td>&hellip;</td><td>&hellip;</td><td>&hellip;</td><td>&hellip;</td><td>&hellip;</td><td>&hellip;</td><td>&hellip;</td><td>&hellip;</td><td>&hellip;</td><td>&hellip;</td><td>&hellip;</td><td>&hellip;</td><td>&hellip;</td><td>&hellip;</td><td>&hellip;</td><td>&hellip;</td><td>&hellip;</td><td>&hellip;</td><td>&hellip;</td><td>&hellip;</td><td>&hellip;</td><td>&hellip;</td><td>&hellip;</td><td>&hellip;</td><td>&hellip;</td><td>&hellip;</td><td>&hellip;</td><td>&hellip;</td><td>&hellip;</td><td>&hellip;</td><td>&hellip;</td><td>&hellip;</td><td>&hellip;</td><td>&hellip;</td><td>&hellip;</td><td>&hellip;</td><td>&hellip;</td><td>&hellip;</td><td>&hellip;</td><td>&hellip;</td><td>&hellip;</td><td>&hellip;</td><td>&hellip;</td><td>&hellip;</td><td>&hellip;</td><td>&hellip;</td><td>&hellip;</td><td>&hellip;</td><td>&hellip;</td><td>&hellip;</td><td>&hellip;</td><td>&hellip;</td><td>&hellip;</td></tr><tr><td>&quot;chrX:99995091:A:G&quot;</td><td>false</td><td>false</td><td>null</td><td>0.171016</td><td>0.41844</td><td>-0.541239</td><td>0.296166</td><td>null</td><td>0.136126</td><td>0.212108</td><td>0.279012</td><td>0.113346</td><td>null</td><td>-0.188583</td><td>0.693828</td><td>-0.373362</td><td>0.203649</td><td>null</td><td>0.219743</td><td>0.221492</td><td>0.390294</td><td>0.199645</td><td>null</td><td>-0.188583</td><td>0.693828</td><td>-0.541239</td><td>0.296166</td><td>null</td><td>false</td><td>false</td><td>false</td><td>false</td><td>null</td><td>0.0</td><td>0.0</td><td>0.0</td><td>&hellip;</td><td>0.156318</td><td>-0.107737</td><td>null</td><td>false</td><td>false</td><td>false</td><td>false</td><td>null</td><td>0.219268</td><td>0.258777</td><td>0.249636</td><td>0.216457</td><td>null</td><td>0.431508</td><td>0.145843</td><td>0.092473</td><td>0.054555</td><td>null</td><td>825.6</td><td>593.0</td><td>825.6</td><td>825.6</td><td>null</td><td>369.2</td><td>289.0</td><td>369.2</td><td>369.2</td><td>null</td><td>576.2</td><td>390.166667</td><td>281.0</td><td>794.0</td><td>null</td><td>211.6</td><td>226.0</td><td>140.2</td><td>320.4</td></tr><tr><td>&quot;chrX:99995933:C:G&quot;</td><td>false</td><td>false</td><td>null</td><td>0.433557</td><td>0.23761</td><td>0.368939</td><td>-0.133435</td><td>null</td><td>0.064148</td><td>0.191399</td><td>0.109297</td><td>0.101338</td><td>null</td><td>0.402471</td><td>-0.325169</td><td>0.395378</td><td>0.076269</td><td>null</td><td>0.056217</td><td>0.138956</td><td>0.088136</td><td>0.093454</td><td>null</td><td>0.433557</td><td>-0.325169</td><td>0.395378</td><td>-0.133435</td><td>null</td><td>false</td><td>false</td><td>false</td><td>false</td><td>null</td><td>7.006534</td><td>0.0</td><td>0.055041</td><td>&hellip;</td><td>0.026746</td><td>0.206039</td><td>null</td><td>false</td><td>false</td><td>false</td><td>false</td><td>null</td><td>0.104559</td><td>0.169642</td><td>0.111666</td><td>0.129329</td><td>null</td><td>0.034193</td><td>1.978587</td><td>0.02737</td><td>0.325676</td><td>null</td><td>1233.8</td><td>970.4</td><td>961.6</td><td>1233.8</td><td>null</td><td>1534.6</td><td>1680.0</td><td>1482.2</td><td>1534.6</td><td>null</td><td>1524.6</td><td>562.666667</td><td>884.2</td><td>948.6</td><td>null</td><td>1853.8</td><td>657.833333</td><td>1382.6</td><td>1364.2</td></tr><tr><td>&quot;chrX:99996102:A:G&quot;</td><td>false</td><td>false</td><td>null</td><td>0.09405</td><td>0.310849</td><td>0.070434</td><td>0.048445</td><td>null</td><td>0.060897</td><td>0.146592</td><td>0.120936</td><td>0.07888</td><td>null</td><td>0.174034</td><td>0.108281</td><td>-0.039556</td><td>0.019372</td><td>null</td><td>0.057526</td><td>0.135842</td><td>0.094154</td><td>0.079786</td><td>null</td><td>0.174034</td><td>0.310849</td><td>0.070434</td><td>0.048445</td><td>null</td><td>false</td><td>false</td><td>false</td><td>false</td><td>null</td><td>0.0</td><td>0.0</td><td>0.0</td><td>&hellip;</td><td>-0.096928</td><td>-0.02797</td><td>null</td><td>false</td><td>false</td><td>false</td><td>false</td><td>null</td><td>0.079867</td><td>0.155053</td><td>0.130012</td><td>0.097895</td><td>null</td><td>0.180893</td><td>0.409547</td><td>0.114369</td><td>0.026172</td><td>null</td><td>1916.6</td><td>1564.6</td><td>1567.8</td><td>1916.6</td><td>null</td><td>1885.6</td><td>1703.4</td><td>1621.8</td><td>1885.6</td><td>null</td><td>1862.0</td><td>953.333333</td><td>1182.0</td><td>1679.4</td><td>null</td><td>1936.0</td><td>908.166667</td><td>1137.8</td><td>1626.6</td></tr><tr><td>&quot;chrX:99998829:C:T&quot;</td><td>false</td><td>false</td><td>null</td><td>-0.496841</td><td>0.125072</td><td>0.011764</td><td>-0.355709</td><td>null</td><td>0.132722</td><td>0.394328</td><td>0.245986</td><td>0.179031</td><td>null</td><td>-0.199757</td><td>0.231536</td><td>-0.198834</td><td>0.298371</td><td>null</td><td>0.13197</td><td>0.347729</td><td>0.189626</td><td>0.150091</td><td>null</td><td>-0.496841</td><td>0.231536</td><td>-0.198834</td><td>-0.355709</td><td>null</td><td>false</td><td>false</td><td>false</td><td>false</td><td>null</td><td>0.0</td><td>0.0</td><td>0.0</td><td>&hellip;</td><td>-0.18002</td><td>0.661467</td><td>null</td><td>false</td><td>false</td><td>false</td><td>false</td><td>null</td><td>0.184796</td><td>0.425591</td><td>0.272976</td><td>0.226946</td><td>null</td><td>0.389922</td><td>0.062259</td><td>0.096104</td><td>1.210964</td><td>null</td><td>399.6</td><td>228.8</td><td>283.8</td><td>399.6</td><td>null</td><td>387.0</td><td>202.0</td><td>325.8</td><td>387.0</td><td>null</td><td>259.8</td><td>123.666667</td><td>207.4</td><td>265.0</td><td>null</td><td>306.4</td><td>118.166667</td><td>206.8</td><td>402.6</td></tr><tr><td>&quot;chrX:99999349:G:A&quot;</td><td>false</td><td>false</td><td>null</td><td>-0.077544</td><td>0.012644</td><td>-0.169617</td><td>0.142693</td><td>null</td><td>0.057932</td><td>0.133003</td><td>0.128833</td><td>0.088809</td><td>null</td><td>0.14298</td><td>-0.222729</td><td>-0.242416</td><td>0.482251</td><td>null</td><td>0.064118</td><td>0.185202</td><td>0.122499</td><td>0.081872</td><td>null</td><td>0.14298</td><td>-0.222729</td><td>-0.242416</td><td>0.482251</td><td>null</td><td>false</td><td>false</td><td>false</td><td>false</td><td>null</td><td>0.0</td><td>0.0</td><td>0.0</td><td>&hellip;</td><td>-0.058262</td><td>0.343274</td><td>null</td><td>false</td><td>false</td><td>false</td><td>false</td><td>null</td><td>0.100432</td><td>0.18596</td><td>0.156149</td><td>0.128619</td><td>null</td><td>0.721721</td><td>0.25276</td><td>0.045528</td><td>0.983797</td><td>null</td><td>1808.0</td><td>1521.2</td><td>1412.4</td><td>1808.0</td><td>null</td><td>1127.0</td><td>1220.8</td><td>1027.2</td><td>1127.0</td><td>null</td><td>1561.2</td><td>737.166667</td><td>911.4</td><td>1702.0</td><td>null</td><td>1136.0</td><td>508.166667</td><td>629.4</td><td>1341.0</td></tr></tbody></table></div>"
      ],
      "text/plain": [
       "shape: (304_278, 78)\n",
       "┌───────────┬───────────┬───────────┬───────────┬───┬───────────┬───────────┬───────────┬──────────┐\n",
       "│ variant   ┆ active.an ┆ emVar.any ┆ allele1.l ┆ … ┆ mean_RNA_ ┆ mean_RNA_ ┆ mean_RNA_ ┆ mean_RNA │\n",
       "│ ---       ┆ y         ┆ ---       ┆ og2FC_A54 ┆   ┆ alt_HEPG2 ┆ alt_K562  ┆ alt_SKNSH ┆ _alt_HCT │\n",
       "│ str       ┆ ---       ┆ bool      ┆ 9         ┆   ┆ ---       ┆ ---       ┆ ---       ┆ 116      │\n",
       "│           ┆ bool      ┆           ┆ ---       ┆   ┆ f64       ┆ f64       ┆ f64       ┆ ---      │\n",
       "│           ┆           ┆           ┆ f64       ┆   ┆           ┆           ┆           ┆ f64      │\n",
       "╞═══════════╪═══════════╪═══════════╪═══════════╪═══╪═══════════╪═══════════╪═══════════╪══════════╡\n",
       "│ chr10:100 ┆ true      ┆ false     ┆ null      ┆ … ┆ 719.6     ┆ 796.0     ┆ 599.4     ┆ 656.2    │\n",
       "│ 025816:G: ┆           ┆           ┆           ┆   ┆           ┆           ┆           ┆          │\n",
       "│ A         ┆           ┆           ┆           ┆   ┆           ┆           ┆           ┆          │\n",
       "│ chr10:100 ┆ true      ┆ true      ┆ null      ┆ … ┆ 2298.8    ┆ 439.33333 ┆ 1873.8    ┆ 1458.4   │\n",
       "│ 029561:C: ┆           ┆           ┆           ┆   ┆           ┆ 3         ┆           ┆          │\n",
       "│ T         ┆           ┆           ┆           ┆   ┆           ┆           ┆           ┆          │\n",
       "│ chr10:100 ┆ true      ┆ true      ┆ null      ┆ … ┆ 1243.4    ┆ 374.33333 ┆ 1114.2    ┆ 1060.4   │\n",
       "│ 098716:G: ┆           ┆           ┆           ┆   ┆           ┆ 3         ┆           ┆          │\n",
       "│ T         ┆           ┆           ┆           ┆   ┆           ┆           ┆           ┆          │\n",
       "│ chr10:100 ┆ false     ┆ false     ┆ null      ┆ … ┆ 695.2     ┆ 522.5     ┆ 802.6     ┆ 754.0    │\n",
       "│ 109592:T: ┆           ┆           ┆           ┆   ┆           ┆           ┆           ┆          │\n",
       "│ C         ┆           ┆           ┆           ┆   ┆           ┆           ┆           ┆          │\n",
       "│ chr10:100 ┆ false     ┆ false     ┆ null      ┆ … ┆ 627.8     ┆ 374.66666 ┆ 333.2     ┆ 660.4    │\n",
       "│ 141027:T: ┆           ┆           ┆           ┆   ┆           ┆ 7         ┆           ┆          │\n",
       "│ C         ┆           ┆           ┆           ┆   ┆           ┆           ┆           ┆          │\n",
       "│ …         ┆ …         ┆ …         ┆ …         ┆ … ┆ …         ┆ …         ┆ …         ┆ …        │\n",
       "│ chrX:9999 ┆ false     ┆ false     ┆ null      ┆ … ┆ 211.6     ┆ 226.0     ┆ 140.2     ┆ 320.4    │\n",
       "│ 5091:A:G  ┆           ┆           ┆           ┆   ┆           ┆           ┆           ┆          │\n",
       "│ chrX:9999 ┆ false     ┆ false     ┆ null      ┆ … ┆ 1853.8    ┆ 657.83333 ┆ 1382.6    ┆ 1364.2   │\n",
       "│ 5933:C:G  ┆           ┆           ┆           ┆   ┆           ┆ 3         ┆           ┆          │\n",
       "│ chrX:9999 ┆ false     ┆ false     ┆ null      ┆ … ┆ 1936.0    ┆ 908.16666 ┆ 1137.8    ┆ 1626.6   │\n",
       "│ 6102:A:G  ┆           ┆           ┆           ┆   ┆           ┆ 7         ┆           ┆          │\n",
       "│ chrX:9999 ┆ false     ┆ false     ┆ null      ┆ … ┆ 306.4     ┆ 118.16666 ┆ 206.8     ┆ 402.6    │\n",
       "│ 8829:C:T  ┆           ┆           ┆           ┆   ┆           ┆ 7         ┆           ┆          │\n",
       "│ chrX:9999 ┆ false     ┆ false     ┆ null      ┆ … ┆ 1136.0    ┆ 508.16666 ┆ 629.4     ┆ 1341.0   │\n",
       "│ 9349:G:A  ┆           ┆           ┆           ┆   ┆           ┆ 7         ┆           ┆          │\n",
       "└───────────┴───────────┴───────────┴───────────┴───┴───────────┴───────────┴───────────┴──────────┘"
      ]
     },
     "execution_count": 27,
     "metadata": {},
     "output_type": "execute_result"
    }
   ],
   "source": [
    "st3 = pl.read_excel(\"ST3.xlsx\", read_options=dict(header_row=1))\n",
    "st3"
   ]
  },
  {
   "cell_type": "code",
   "execution_count": 29,
   "metadata": {},
   "outputs": [
    {
     "data": {
      "text/html": [
       "<div><style>\n",
       ".dataframe > thead > tr,\n",
       ".dataframe > tbody > tr {\n",
       "  text-align: right;\n",
       "  white-space: pre-wrap;\n",
       "}\n",
       "</style>\n",
       "<small>shape: (2, 2)</small><table border=\"1\" class=\"dataframe\"><thead><tr><th>active.any</th><th>count</th></tr><tr><td>bool</td><td>u32</td></tr></thead><tbody><tr><td>true</td><td>92560</td></tr><tr><td>false</td><td>211718</td></tr></tbody></table></div>"
      ],
      "text/plain": [
       "shape: (2, 2)\n",
       "┌────────────┬────────┐\n",
       "│ active.any ┆ count  │\n",
       "│ ---        ┆ ---    │\n",
       "│ bool       ┆ u32    │\n",
       "╞════════════╪════════╡\n",
       "│ true       ┆ 92560  │\n",
       "│ false      ┆ 211718 │\n",
       "└────────────┴────────┘"
      ]
     },
     "execution_count": 29,
     "metadata": {},
     "output_type": "execute_result"
    }
   ],
   "source": [
    "st3[\"active.any\"].value_counts()"
   ]
  },
  {
   "cell_type": "code",
   "execution_count": 28,
   "metadata": {},
   "outputs": [
    {
     "data": {
      "text/html": [
       "<div><style>\n",
       ".dataframe > thead > tr,\n",
       ".dataframe > tbody > tr {\n",
       "  text-align: right;\n",
       "  white-space: pre-wrap;\n",
       "}\n",
       "</style>\n",
       "<small>shape: (2, 2)</small><table border=\"1\" class=\"dataframe\"><thead><tr><th>emVar.any</th><th>count</th></tr><tr><td>bool</td><td>u32</td></tr></thead><tbody><tr><td>true</td><td>37249</td></tr><tr><td>false</td><td>267029</td></tr></tbody></table></div>"
      ],
      "text/plain": [
       "shape: (2, 2)\n",
       "┌───────────┬────────┐\n",
       "│ emVar.any ┆ count  │\n",
       "│ ---       ┆ ---    │\n",
       "│ bool      ┆ u32    │\n",
       "╞═══════════╪════════╡\n",
       "│ true      ┆ 37249  │\n",
       "│ false     ┆ 267029 │\n",
       "└───────────┴────────┘"
      ]
     },
     "execution_count": 28,
     "metadata": {},
     "output_type": "execute_result"
    }
   ],
   "source": [
    "st3[\"emVar.any\"].value_counts()"
   ]
  },
  {
   "cell_type": "code",
   "execution_count": 48,
   "metadata": {},
   "outputs": [
    {
     "data": {
      "text/html": [
       "<div><style>\n",
       ".dataframe > thead > tr,\n",
       ".dataframe > tbody > tr {\n",
       "  text-align: right;\n",
       "  white-space: pre-wrap;\n",
       "}\n",
       "</style>\n",
       "<small>shape: (304_278, 3)</small><table border=\"1\" class=\"dataframe\"><thead><tr><th>variant</th><th>emVar.any</th><th>Category</th></tr><tr><td>str</td><td>bool</td><td>str</td></tr></thead><tbody><tr><td>&quot;chr6:44077356:A:G&quot;</td><td>false</td><td>&quot;control&quot;</td></tr><tr><td>&quot;chr10:119580730:G:A&quot;</td><td>false</td><td>&quot;control&quot;</td></tr><tr><td>&quot;chr9:4763491:G:A&quot;</td><td>true</td><td>&quot;UKBB&quot;</td></tr><tr><td>&quot;chr3:197342309:C:A&quot;</td><td>false</td><td>&quot;GTEx&quot;</td></tr><tr><td>&quot;chr3:61046863:G:A&quot;</td><td>false</td><td>&quot;control&quot;</td></tr><tr><td>&hellip;</td><td>&hellip;</td><td>&hellip;</td></tr><tr><td>&quot;chr2:133469250:T:A&quot;</td><td>false</td><td>&quot;UKBB&quot;</td></tr><tr><td>&quot;chr2:56192818:C:T&quot;</td><td>false</td><td>&quot;UKBB&quot;</td></tr><tr><td>&quot;chr3:85046504:T:C&quot;</td><td>false</td><td>&quot;GTEx&quot;</td></tr><tr><td>&quot;chr16:85706564:G:A&quot;</td><td>true</td><td>&quot;UKBB&quot;</td></tr><tr><td>&quot;chr3:139270783:C:T&quot;</td><td>false</td><td>&quot;GTEx&quot;</td></tr></tbody></table></div>"
      ],
      "text/plain": [
       "shape: (304_278, 3)\n",
       "┌─────────────────────┬───────────┬──────────┐\n",
       "│ variant             ┆ emVar.any ┆ Category │\n",
       "│ ---                 ┆ ---       ┆ ---      │\n",
       "│ str                 ┆ bool      ┆ str      │\n",
       "╞═════════════════════╪═══════════╪══════════╡\n",
       "│ chr6:44077356:A:G   ┆ false     ┆ control  │\n",
       "│ chr10:119580730:G:A ┆ false     ┆ control  │\n",
       "│ chr9:4763491:G:A    ┆ true      ┆ UKBB     │\n",
       "│ chr3:197342309:C:A  ┆ false     ┆ GTEx     │\n",
       "│ chr3:61046863:G:A   ┆ false     ┆ control  │\n",
       "│ …                   ┆ …         ┆ …        │\n",
       "│ chr2:133469250:T:A  ┆ false     ┆ UKBB     │\n",
       "│ chr2:56192818:C:T   ┆ false     ┆ UKBB     │\n",
       "│ chr3:85046504:T:C   ┆ false     ┆ GTEx     │\n",
       "│ chr16:85706564:G:A  ┆ true      ┆ UKBB     │\n",
       "│ chr3:139270783:C:T  ┆ false     ┆ GTEx     │\n",
       "└─────────────────────┴───────────┴──────────┘"
      ]
     },
     "execution_count": 48,
     "metadata": {},
     "output_type": "execute_result"
    }
   ],
   "source": [
    "df = st3[[\"variant\", \"emVar.any\"]].join(st1_u[[\"Variant\", \"Category\"]], left_on=\"variant\", right_on=\"Variant\", how=\"inner\")\n",
    "df"
   ]
  },
  {
   "cell_type": "code",
   "execution_count": 49,
   "metadata": {},
   "outputs": [
    {
     "data": {
      "text/html": [
       "<div><style>\n",
       ".dataframe > thead > tr,\n",
       ".dataframe > tbody > tr {\n",
       "  text-align: right;\n",
       "  white-space: pre-wrap;\n",
       "}\n",
       "</style>\n",
       "<small>shape: (2, 2)</small><table border=\"1\" class=\"dataframe\"><thead><tr><th>emVar.any</th><th>count</th></tr><tr><td>bool</td><td>u32</td></tr></thead><tbody><tr><td>true</td><td>28036</td></tr><tr><td>false</td><td>192048</td></tr></tbody></table></div>"
      ],
      "text/plain": [
       "shape: (2, 2)\n",
       "┌───────────┬────────┐\n",
       "│ emVar.any ┆ count  │\n",
       "│ ---       ┆ ---    │\n",
       "│ bool      ┆ u32    │\n",
       "╞═══════════╪════════╡\n",
       "│ true      ┆ 28036  │\n",
       "│ false     ┆ 192048 │\n",
       "└───────────┴────────┘"
      ]
     },
     "execution_count": 49,
     "metadata": {},
     "output_type": "execute_result"
    }
   ],
   "source": [
    "df.filter(pl.col(\"Category\") != \"control\")[\"emVar.any\"].value_counts()"
   ]
  },
  {
   "cell_type": "markdown",
   "metadata": {},
   "source": [
    "## ST4"
   ]
  },
  {
   "cell_type": "code",
   "execution_count": 30,
   "metadata": {},
   "outputs": [
    {
     "name": "stdout",
     "output_type": "stream",
     "text": [
      "--2024-08-06 11:05:37--  https://www.biorxiv.org/content/biorxiv/early/2024/05/06/2024.05.05.592437/DC9/embed/media-9.xlsx?download=true\n",
      "Resolving www.biorxiv.org (www.biorxiv.org)... 172.64.151.211, 104.18.36.45\n",
      "Connecting to www.biorxiv.org (www.biorxiv.org)|172.64.151.211|:443... connected.\n",
      "HTTP request sent, awaiting response... 200 OK\n",
      "Length: unspecified [application/vnd.openxmlformats-officedocument.spreadsheetml.sheet]\n",
      "Saving to: ‘STOther.xlsx’\n",
      "\n",
      "STOther.xlsx            [ <=>                ]  14.83M  75.5MB/s    in 0.2s    \n",
      "\n",
      "2024-08-06 11:05:39 (75.5 MB/s) - ‘STOther.xlsx’ saved [15552459]\n",
      "\n"
     ]
    }
   ],
   "source": [
    "#!wget https://www.biorxiv.org/content/biorxiv/early/2024/05/06/2024.05.05.592437/DC9/embed/media-9.xlsx?download=true -O STOther.xlsx"
   ]
  },
  {
   "cell_type": "code",
   "execution_count": 31,
   "metadata": {},
   "outputs": [
    {
     "data": {
      "text/html": [
       "<div><style>\n",
       ".dataframe > thead > tr,\n",
       ".dataframe > tbody > tr {\n",
       "  text-align: right;\n",
       "  white-space: pre-wrap;\n",
       "}\n",
       "</style>\n",
       "<small>shape: (31_988, 12)</small><table border=\"1\" class=\"dataframe\"><thead><tr><th>Variant</th><th>PIP</th><th>Likely causal</th><th>emVar</th><th>CRE</th><th>emVar, CRE</th><th>emVar, no CRE</th><th>Active</th><th>Active, CRE</th><th>Promoter</th><th>ChIP-seq</th><th>Variant Type</th></tr><tr><td>str</td><td>f64</td><td>bool</td><td>bool</td><td>i64</td><td>bool</td><td>bool</td><td>bool</td><td>bool</td><td>i64</td><td>i64</td><td>str</td></tr></thead><tbody><tr><td>&quot;chr1:14677:G:A&quot;</td><td>1.0</td><td>true</td><td>false</td><td>0</td><td>false</td><td>false</td><td>false</td><td>false</td><td>0</td><td>0</td><td>&quot;eQTL test&quot;</td></tr><tr><td>&quot;chr1:63697:T:C&quot;</td><td>0.981661</td><td>true</td><td>false</td><td>0</td><td>false</td><td>false</td><td>true</td><td>false</td><td>0</td><td>0</td><td>&quot;eQTL test&quot;</td></tr><tr><td>&quot;chr1:64764:C:T&quot;</td><td>0.983757</td><td>true</td><td>false</td><td>0</td><td>false</td><td>false</td><td>false</td><td>false</td><td>0</td><td>0</td><td>&quot;eQTL test&quot;</td></tr><tr><td>&quot;chr1:108230:C:T&quot;</td><td>0.99888</td><td>true</td><td>false</td><td>0</td><td>false</td><td>false</td><td>false</td><td>false</td><td>0</td><td>0</td><td>&quot;eQTL test&quot;</td></tr><tr><td>&quot;chr1:108826:G:C&quot;</td><td>1.0</td><td>true</td><td>false</td><td>0</td><td>false</td><td>false</td><td>false</td><td>false</td><td>0</td><td>0</td><td>&quot;eQTL test&quot;</td></tr><tr><td>&hellip;</td><td>&hellip;</td><td>&hellip;</td><td>&hellip;</td><td>&hellip;</td><td>&hellip;</td><td>&hellip;</td><td>&hellip;</td><td>&hellip;</td><td>&hellip;</td><td>&hellip;</td><td>&hellip;</td></tr><tr><td>&quot;chr3:114402087:C:T&quot;</td><td>0.0029116</td><td>false</td><td>false</td><td>0</td><td>false</td><td>false</td><td>true</td><td>false</td><td>0</td><td>0</td><td>&quot;Complex traits control&quot;</td></tr><tr><td>&quot;chr7:124160887:A:G&quot;</td><td>0.0028545</td><td>false</td><td>false</td><td>0</td><td>false</td><td>false</td><td>false</td><td>false</td><td>0</td><td>0</td><td>&quot;Complex traits control&quot;</td></tr><tr><td>&quot;chr17:40576816:A:C&quot;</td><td>0.0019614</td><td>false</td><td>false</td><td>0</td><td>false</td><td>false</td><td>true</td><td>false</td><td>1</td><td>0</td><td>&quot;Complex traits control&quot;</td></tr><tr><td>&quot;chr7:113005029:C:T&quot;</td><td>0.0021632</td><td>false</td><td>true</td><td>0</td><td>false</td><td>true</td><td>true</td><td>false</td><td>0</td><td>0</td><td>&quot;Complex traits control&quot;</td></tr><tr><td>&quot;chr11:115449290:A:T&quot;</td><td>0.0059517</td><td>false</td><td>false</td><td>1</td><td>false</td><td>false</td><td>true</td><td>true</td><td>0</td><td>0</td><td>&quot;Complex traits control&quot;</td></tr></tbody></table></div>"
      ],
      "text/plain": [
       "shape: (31_988, 12)\n",
       "┌──────────────┬───────────┬────────┬───────┬───┬──────────────┬──────────┬──────────┬─────────────┐\n",
       "│ Variant      ┆ PIP       ┆ Likely ┆ emVar ┆ … ┆ Active, CRE  ┆ Promoter ┆ ChIP-seq ┆ Variant     │\n",
       "│ ---          ┆ ---       ┆ causal ┆ ---   ┆   ┆ ---          ┆ ---      ┆ ---      ┆ Type        │\n",
       "│ str          ┆ f64       ┆ ---    ┆ bool  ┆   ┆ bool         ┆ i64      ┆ i64      ┆ ---         │\n",
       "│              ┆           ┆ bool   ┆       ┆   ┆              ┆          ┆          ┆ str         │\n",
       "╞══════════════╪═══════════╪════════╪═══════╪═══╪══════════════╪══════════╪══════════╪═════════════╡\n",
       "│ chr1:14677:G ┆ 1.0       ┆ true   ┆ false ┆ … ┆ false        ┆ 0        ┆ 0        ┆ eQTL test   │\n",
       "│ :A           ┆           ┆        ┆       ┆   ┆              ┆          ┆          ┆             │\n",
       "│ chr1:63697:T ┆ 0.981661  ┆ true   ┆ false ┆ … ┆ false        ┆ 0        ┆ 0        ┆ eQTL test   │\n",
       "│ :C           ┆           ┆        ┆       ┆   ┆              ┆          ┆          ┆             │\n",
       "│ chr1:64764:C ┆ 0.983757  ┆ true   ┆ false ┆ … ┆ false        ┆ 0        ┆ 0        ┆ eQTL test   │\n",
       "│ :T           ┆           ┆        ┆       ┆   ┆              ┆          ┆          ┆             │\n",
       "│ chr1:108230: ┆ 0.99888   ┆ true   ┆ false ┆ … ┆ false        ┆ 0        ┆ 0        ┆ eQTL test   │\n",
       "│ C:T          ┆           ┆        ┆       ┆   ┆              ┆          ┆          ┆             │\n",
       "│ chr1:108826: ┆ 1.0       ┆ true   ┆ false ┆ … ┆ false        ┆ 0        ┆ 0        ┆ eQTL test   │\n",
       "│ G:C          ┆           ┆        ┆       ┆   ┆              ┆          ┆          ┆             │\n",
       "│ …            ┆ …         ┆ …      ┆ …     ┆ … ┆ …            ┆ …        ┆ …        ┆ …           │\n",
       "│ chr3:1144020 ┆ 0.0029116 ┆ false  ┆ false ┆ … ┆ false        ┆ 0        ┆ 0        ┆ Complex     │\n",
       "│ 87:C:T       ┆           ┆        ┆       ┆   ┆              ┆          ┆          ┆ traits      │\n",
       "│              ┆           ┆        ┆       ┆   ┆              ┆          ┆          ┆ control     │\n",
       "│ chr7:1241608 ┆ 0.0028545 ┆ false  ┆ false ┆ … ┆ false        ┆ 0        ┆ 0        ┆ Complex     │\n",
       "│ 87:A:G       ┆           ┆        ┆       ┆   ┆              ┆          ┆          ┆ traits      │\n",
       "│              ┆           ┆        ┆       ┆   ┆              ┆          ┆          ┆ control     │\n",
       "│ chr17:405768 ┆ 0.0019614 ┆ false  ┆ false ┆ … ┆ false        ┆ 1        ┆ 0        ┆ Complex     │\n",
       "│ 16:A:C       ┆           ┆        ┆       ┆   ┆              ┆          ┆          ┆ traits      │\n",
       "│              ┆           ┆        ┆       ┆   ┆              ┆          ┆          ┆ control     │\n",
       "│ chr7:1130050 ┆ 0.0021632 ┆ false  ┆ true  ┆ … ┆ false        ┆ 0        ┆ 0        ┆ Complex     │\n",
       "│ 29:C:T       ┆           ┆        ┆       ┆   ┆              ┆          ┆          ┆ traits      │\n",
       "│              ┆           ┆        ┆       ┆   ┆              ┆          ┆          ┆ control     │\n",
       "│ chr11:115449 ┆ 0.0059517 ┆ false  ┆ false ┆ … ┆ true         ┆ 0        ┆ 0        ┆ Complex     │\n",
       "│ 290:A:T      ┆           ┆        ┆       ┆   ┆              ┆          ┆          ┆ traits      │\n",
       "│              ┆           ┆        ┆       ┆   ┆              ┆          ┆          ┆ control     │\n",
       "└──────────────┴───────────┴────────┴───────┴───┴──────────────┴──────────┴──────────┴─────────────┘"
      ]
     },
     "execution_count": 31,
     "metadata": {},
     "output_type": "execute_result"
    }
   ],
   "source": [
    "st4 = pl.read_excel(\"STOther.xlsx\", sheet_name=\"S4.MPRA PrC\", read_options=dict(header_row=1))\n",
    "st4"
   ]
  },
  {
   "cell_type": "code",
   "execution_count": 32,
   "metadata": {},
   "outputs": [
    {
     "data": {
      "text/html": [
       "<div><style>\n",
       ".dataframe > thead > tr,\n",
       ".dataframe > tbody > tr {\n",
       "  text-align: right;\n",
       "  white-space: pre-wrap;\n",
       "}\n",
       "</style>\n",
       "<small>shape: (4, 2)</small><table border=\"1\" class=\"dataframe\"><thead><tr><th>Variant Type</th><th>count</th></tr><tr><td>str</td><td>u32</td></tr></thead><tbody><tr><td>&quot;Complex traits control&quot;</td><td>995</td></tr><tr><td>&quot;eQTL control&quot;</td><td>14999</td></tr><tr><td>&quot;eQTL test&quot;</td><td>14999</td></tr><tr><td>&quot;Complex traits test&quot;</td><td>995</td></tr></tbody></table></div>"
      ],
      "text/plain": [
       "shape: (4, 2)\n",
       "┌────────────────────────┬───────┐\n",
       "│ Variant Type           ┆ count │\n",
       "│ ---                    ┆ ---   │\n",
       "│ str                    ┆ u32   │\n",
       "╞════════════════════════╪═══════╡\n",
       "│ Complex traits control ┆ 995   │\n",
       "│ eQTL control           ┆ 14999 │\n",
       "│ eQTL test              ┆ 14999 │\n",
       "│ Complex traits test    ┆ 995   │\n",
       "└────────────────────────┴───────┘"
      ]
     },
     "execution_count": 32,
     "metadata": {},
     "output_type": "execute_result"
    }
   ],
   "source": [
    "st4[\"Variant Type\"].value_counts()"
   ]
  },
  {
   "cell_type": "code",
   "execution_count": 37,
   "metadata": {},
   "outputs": [
    {
     "data": {
      "text/html": [
       "<div><style>\n",
       ".dataframe > thead > tr,\n",
       ".dataframe > tbody > tr {\n",
       "  text-align: right;\n",
       "  white-space: pre-wrap;\n",
       "}\n",
       "</style>\n",
       "<small>shape: (8, 3)</small><table border=\"1\" class=\"dataframe\"><thead><tr><th>emVar</th><th>Variant Type</th><th>len</th></tr><tr><td>bool</td><td>str</td><td>u32</td></tr></thead><tbody><tr><td>false</td><td>&quot;Complex traits test&quot;</td><td>747</td></tr><tr><td>true</td><td>&quot;Complex traits test&quot;</td><td>248</td></tr><tr><td>true</td><td>&quot;Complex traits control&quot;</td><td>107</td></tr><tr><td>true</td><td>&quot;eQTL test&quot;</td><td>3339</td></tr><tr><td>true</td><td>&quot;eQTL control&quot;</td><td>1545</td></tr><tr><td>false</td><td>&quot;eQTL control&quot;</td><td>13454</td></tr><tr><td>false</td><td>&quot;eQTL test&quot;</td><td>11660</td></tr><tr><td>false</td><td>&quot;Complex traits control&quot;</td><td>888</td></tr></tbody></table></div>"
      ],
      "text/plain": [
       "shape: (8, 3)\n",
       "┌───────┬────────────────────────┬───────┐\n",
       "│ emVar ┆ Variant Type           ┆ len   │\n",
       "│ ---   ┆ ---                    ┆ ---   │\n",
       "│ bool  ┆ str                    ┆ u32   │\n",
       "╞═══════╪════════════════════════╪═══════╡\n",
       "│ false ┆ Complex traits test    ┆ 747   │\n",
       "│ true  ┆ Complex traits test    ┆ 248   │\n",
       "│ true  ┆ Complex traits control ┆ 107   │\n",
       "│ true  ┆ eQTL test              ┆ 3339  │\n",
       "│ true  ┆ eQTL control           ┆ 1545  │\n",
       "│ false ┆ eQTL control           ┆ 13454 │\n",
       "│ false ┆ eQTL test              ┆ 11660 │\n",
       "│ false ┆ Complex traits control ┆ 888   │\n",
       "└───────┴────────────────────────┴───────┘"
      ]
     },
     "execution_count": 37,
     "metadata": {},
     "output_type": "execute_result"
    }
   ],
   "source": [
    "st4.group_by([\"emVar\", \"Variant Type\"]).len()"
   ]
  },
  {
   "cell_type": "code",
   "execution_count": 38,
   "metadata": {},
   "outputs": [
    {
     "data": {
      "text/plain": [
       "3587"
      ]
     },
     "execution_count": 38,
     "metadata": {},
     "output_type": "execute_result"
    }
   ],
   "source": [
    "248 + 3339"
   ]
  },
  {
   "cell_type": "code",
   "execution_count": null,
   "metadata": {},
   "outputs": [],
   "source": []
  }
 ],
 "metadata": {
  "kernelspec": {
   "display_name": "gpn",
   "language": "python",
   "name": "gpn"
  },
  "language_info": {
   "codemirror_mode": {
    "name": "ipython",
    "version": 3
   },
   "file_extension": ".py",
   "mimetype": "text/x-python",
   "name": "python",
   "nbconvert_exporter": "python",
   "pygments_lexer": "ipython3",
   "version": "3.11.3"
  }
 },
 "nbformat": 4,
 "nbformat_minor": 2
}
