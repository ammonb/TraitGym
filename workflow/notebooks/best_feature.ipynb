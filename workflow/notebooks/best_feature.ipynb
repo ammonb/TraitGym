{
 "cells": [
  {
   "cell_type": "code",
   "execution_count": 1,
   "metadata": {},
   "outputs": [],
   "source": [
    "import matplotlib.pyplot as plt\n",
    "import pandas as pd\n",
    "import polars as pl\n",
    "import seaborn as sns\n",
    "from tqdm import tqdm\n",
    "import warnings\n",
    "warnings.filterwarnings(\"ignore\")"
   ]
  },
  {
   "cell_type": "code",
   "execution_count": 2,
   "metadata": {},
   "outputs": [
    {
     "data": {
      "text/plain": [
       "{'AD': 'alzheimers_disease',\n",
       " 'ADHD': 'attention_deficit_hyperactivity_disorder',\n",
       " 'AIT': 'autoimmune_disease',\n",
       " 'ASM': 'asthma',\n",
       " 'BMD-HT': 'bone_mineral_density',\n",
       " 'BMI': 'body_mass_index',\n",
       " 'BP': 'bipolar_disorder',\n",
       " 'Breast_cancer': 'breast_cancer',\n",
       " 'CAD': 'coronary_artery_disease',\n",
       " 'CD': 'crohns_disease',\n",
       " 'Celiac': 'celiac',\n",
       " 'CVD': 'cardiovascular_disease',\n",
       " 'ECOL': 'college_educatiojn',\n",
       " 'Eczema': 'eczema',\n",
       " 'EY': 'years_education',\n",
       " 'FG': 'fasting_glucose',\n",
       " 'Glucose': 'glucose',\n",
       " 'HbA1c': 'hba1c',\n",
       " 'HDL': 'hdl',\n",
       " 'Height': 'height',\n",
       " 'HT': 'hypothyroidism',\n",
       " 'HTN': 'hypertension',\n",
       " 'IBD': 'inflammatory_bowel_disease',\n",
       " 'Insomnia': 'insomnia',\n",
       " 'Intel': 'intelligence',\n",
       " 'LDL': 'ldl',\n",
       " 'MCH': 'mean_corpuscular_hemoglobin',\n",
       " 'MDD': 'major_depressive_disorder',\n",
       " 'MNP': 'morning_person',\n",
       " 'MNR': 'age_of_menarche',\n",
       " 'MS': 'multiple_sclerosis',\n",
       " 'NRT': 'neuroticism',\n",
       " 'PLT': 'platelet_count',\n",
       " 'RA': 'rheumatoid_arthritis',\n",
       " 'RBC': 'red_count',\n",
       " 'RDW': 'red_blood_cell_width',\n",
       " 'RR-ENT': 'resp_ent',\n",
       " 'SCZ': 'schizophrenia',\n",
       " 'SLE': 'lupus',\n",
       " 'SWB': 'positive_mood_disorder',\n",
       " 'T2D': 't2d',\n",
       " 'TC': 'cholesterol',\n",
       " 'TG': 'triglycerides',\n",
       " 'WHR': 'whr_adj_bmi'}"
      ]
     },
     "execution_count": 2,
     "metadata": {},
     "output_type": "execute_result"
    }
   ],
   "source": [
    "trait_renaming = pd.read_csv(\n",
    "    \"../../results/gwas_gokcen/raw/disease_list.txt\", delim_whitespace=True, header=None,\n",
    "    names=[\"trait\", \"source\", \"name\"]\n",
    ").set_index(\"trait\")[\"name\"].to_dict()\n",
    "trait_renaming"
   ]
  },
  {
   "cell_type": "code",
   "execution_count": 3,
   "metadata": {},
   "outputs": [
    {
     "name": "stderr",
     "output_type": "stream",
     "text": [
      "  0%|                                                                    | 0/34 [00:00<?, ?it/s]"
     ]
    },
    {
     "name": "stderr",
     "output_type": "stream",
     "text": [
      "100%|███████████████████████████████████████████████████████████| 34/34 [00:00<00:00, 38.66it/s]\n"
     ]
    },
    {
     "data": {
      "text/html": [
       "<div>\n",
       "<style scoped>\n",
       "    .dataframe tbody tr th:only-of-type {\n",
       "        vertical-align: middle;\n",
       "    }\n",
       "\n",
       "    .dataframe tbody tr th {\n",
       "        vertical-align: top;\n",
       "    }\n",
       "\n",
       "    .dataframe thead th {\n",
       "        text-align: right;\n",
       "    }\n",
       "</style>\n",
       "<table border=\"1\" class=\"dataframe\">\n",
       "  <thead>\n",
       "    <tr style=\"text-align: right;\">\n",
       "      <th></th>\n",
       "      <th>Model</th>\n",
       "      <th>AUPRC</th>\n",
       "      <th>trait</th>\n",
       "      <th>n_hits</th>\n",
       "    </tr>\n",
       "  </thead>\n",
       "  <tbody>\n",
       "    <tr>\n",
       "      <th>0</th>\n",
       "      <td>Enformer_L2</td>\n",
       "      <td>0.121652</td>\n",
       "      <td>AD</td>\n",
       "      <td>10</td>\n",
       "    </tr>\n",
       "    <tr>\n",
       "      <th>0</th>\n",
       "      <td>Borzoi_L2</td>\n",
       "      <td>0.338235</td>\n",
       "      <td>AD</td>\n",
       "      <td>10</td>\n",
       "    </tr>\n",
       "    <tr>\n",
       "      <th>0</th>\n",
       "      <td>CADD</td>\n",
       "      <td>0.437859</td>\n",
       "      <td>AD</td>\n",
       "      <td>10</td>\n",
       "    </tr>\n",
       "    <tr>\n",
       "      <th>0</th>\n",
       "      <td>GPN-MSA</td>\n",
       "      <td>0.184432</td>\n",
       "      <td>AD</td>\n",
       "      <td>10</td>\n",
       "    </tr>\n",
       "    <tr>\n",
       "      <th>0</th>\n",
       "      <td>Enformer_L2</td>\n",
       "      <td>0.354396</td>\n",
       "      <td>AIT</td>\n",
       "      <td>7</td>\n",
       "    </tr>\n",
       "    <tr>\n",
       "      <th>...</th>\n",
       "      <td>...</td>\n",
       "      <td>...</td>\n",
       "      <td>...</td>\n",
       "      <td>...</td>\n",
       "    </tr>\n",
       "    <tr>\n",
       "      <th>0</th>\n",
       "      <td>GPN-MSA</td>\n",
       "      <td>0.206799</td>\n",
       "      <td>TG</td>\n",
       "      <td>119</td>\n",
       "    </tr>\n",
       "    <tr>\n",
       "      <th>0</th>\n",
       "      <td>Enformer_L2</td>\n",
       "      <td>0.461391</td>\n",
       "      <td>WHR</td>\n",
       "      <td>57</td>\n",
       "    </tr>\n",
       "    <tr>\n",
       "      <th>0</th>\n",
       "      <td>Borzoi_L2</td>\n",
       "      <td>0.312091</td>\n",
       "      <td>WHR</td>\n",
       "      <td>57</td>\n",
       "    </tr>\n",
       "    <tr>\n",
       "      <th>0</th>\n",
       "      <td>CADD</td>\n",
       "      <td>0.428214</td>\n",
       "      <td>WHR</td>\n",
       "      <td>57</td>\n",
       "    </tr>\n",
       "    <tr>\n",
       "      <th>0</th>\n",
       "      <td>GPN-MSA</td>\n",
       "      <td>0.245537</td>\n",
       "      <td>WHR</td>\n",
       "      <td>57</td>\n",
       "    </tr>\n",
       "  </tbody>\n",
       "</table>\n",
       "<p>136 rows × 4 columns</p>\n",
       "</div>"
      ],
      "text/plain": [
       "          Model     AUPRC trait  n_hits\n",
       "0   Enformer_L2  0.121652    AD      10\n",
       "0     Borzoi_L2  0.338235    AD      10\n",
       "0          CADD  0.437859    AD      10\n",
       "0       GPN-MSA  0.184432    AD      10\n",
       "0   Enformer_L2  0.354396   AIT       7\n",
       "..          ...       ...   ...     ...\n",
       "0       GPN-MSA  0.206799    TG     119\n",
       "0   Enformer_L2  0.461391   WHR      57\n",
       "0     Borzoi_L2  0.312091   WHR      57\n",
       "0          CADD  0.428214   WHR      57\n",
       "0       GPN-MSA  0.245537   WHR      57\n",
       "\n",
       "[136 rows x 4 columns]"
      ]
     },
     "execution_count": 3,
     "metadata": {},
     "output_type": "execute_result"
    }
   ],
   "source": [
    "exclude_traits = [\n",
    "    \"SWB\",\n",
    "    \"SCZ\",\n",
    "    \"MDD\",\n",
    "    \"BP\",\n",
    "    \"SLE\",\n",
    "    \"RA\",\n",
    "    \"NRT\",\n",
    "    \"Celiac\",\n",
    "    \"Insomnia\",\n",
    "    \"DHD\",\t\n",
    "    \"Celiac\",\n",
    "    \"Insomnia\",\n",
    "    \"ADHD\",\n",
    "]\n",
    "\n",
    "traits = [trait for trait in trait_renaming.keys() if trait not in exclude_traits]\n",
    "\n",
    "models = [\n",
    "    \"Enformer_L2\",\n",
    "    \"Borzoi_L2\",\n",
    "    \"CADD\",\n",
    "    \"GPN-MSA\",\n",
    "]\n",
    "\n",
    "palette = {model: f\"C{i}\" for i, model in enumerate(models)}\n",
    "\n",
    "dfs = []\n",
    "n_hits = {}\n",
    "\n",
    "for trait in tqdm(traits):\n",
    "    base_dir = f\"../../results/dataset/gwas_gokcen_{trait}_matched_9_nonexonic/\"\n",
    "    n_hits[trait] = len(pd.read_parquet(base_dir + \"test.parquet\")) // 10\n",
    "    for model in models:\n",
    "        df = pd.read_csv(base_dir + f\"metrics_by_chrom_weighted_average/{model}.BestFeature.chrom.csv\")\n",
    "        df.Model = df.Model.str.split(\".\").str[0]\n",
    "        df[\"trait\"] = trait\n",
    "        dfs.append(df)\n",
    "df = pd.concat(dfs)\n",
    "df[\"n_hits\"] = df.trait.map(n_hits)\n",
    "df"
   ]
  },
  {
   "cell_type": "code",
   "execution_count": 12,
   "metadata": {},
   "outputs": [
    {
     "data": {
      "text/plain": [
       "Model\n",
       "Enformer_L2    0.361953\n",
       "Borzoi_L2      0.341002\n",
       "CADD           0.317764\n",
       "GPN-MSA        0.280088\n",
       "Name: AUPRC, dtype: float64"
      ]
     },
     "execution_count": 12,
     "metadata": {},
     "output_type": "execute_result"
    }
   ],
   "source": [
    "df.groupby(\"Model\").AUPRC.mean().sort_values(ascending=False)"
   ]
  },
  {
   "cell_type": "code",
   "execution_count": 4,
   "metadata": {},
   "outputs": [
    {
     "data": {
      "image/png": "[encoded data removed]",
      "text/plain": [
       "<Figure size 144x144 with 1 Axes>"
      ]
     },
     "metadata": {
      "needs_background": "light"
     },
     "output_type": "display_data"
    }
   ],
   "source": [
    "plt.figure(figsize=(2,2))\n",
    "g = sns.boxplot(\n",
    "    data=df,\n",
    "    y=\"Model\",\n",
    "    x=\"AUPRC\",\n",
    "    order=df.groupby(\"Model\").AUPRC.median().sort_values(ascending=False).index,\n",
    "    palette=palette,\n",
    ")\n",
    "g.set(\n",
    "    ylabel=\"\",\n",
    ")\n",
    "sns.despine();"
   ]
  },
  {
   "cell_type": "code",
   "execution_count": 5,
   "metadata": {},
   "outputs": [],
   "source": [
    "#plt.figure(figsize=(2,2))\n",
    "#g = sns.boxplot(\n",
    "#    data=best.query('n_hits >= 30'),\n",
    "#    y=\"model\",\n",
    "#    x=\"AUPRC\",\n",
    "#    order=best.query('n_hits >= 30').groupby(\"model\").AUPRC.median().sort_values(ascending=False).index,\n",
    "#    palette=palette,\n",
    "#)\n",
    "#g.set(\n",
    "#    ylabel=\"\",\n",
    "#)\n",
    "#sns.despine();"
   ]
  },
  {
   "cell_type": "code",
   "execution_count": 6,
   "metadata": {},
   "outputs": [
    {
     "data": {
      "text/html": [
       "<div>\n",
       "<style scoped>\n",
       "    .dataframe tbody tr th:only-of-type {\n",
       "        vertical-align: middle;\n",
       "    }\n",
       "\n",
       "    .dataframe tbody tr th {\n",
       "        vertical-align: top;\n",
       "    }\n",
       "\n",
       "    .dataframe thead th {\n",
       "        text-align: right;\n",
       "    }\n",
       "</style>\n",
       "<table border=\"1\" class=\"dataframe\">\n",
       "  <thead>\n",
       "    <tr style=\"text-align: right;\">\n",
       "      <th></th>\n",
       "      <th>trait</th>\n",
       "      <th>winner</th>\n",
       "      <th>n_hits</th>\n",
       "    </tr>\n",
       "  </thead>\n",
       "  <tbody>\n",
       "    <tr>\n",
       "      <th>0</th>\n",
       "      <td>AD</td>\n",
       "      <td>CADD</td>\n",
       "      <td>10</td>\n",
       "    </tr>\n",
       "    <tr>\n",
       "      <th>1</th>\n",
       "      <td>AIT</td>\n",
       "      <td>Enformer_L2</td>\n",
       "      <td>7</td>\n",
       "    </tr>\n",
       "    <tr>\n",
       "      <th>2</th>\n",
       "      <td>ASM</td>\n",
       "      <td>Enformer_L2</td>\n",
       "      <td>15</td>\n",
       "    </tr>\n",
       "    <tr>\n",
       "      <th>3</th>\n",
       "      <td>BMD-HT</td>\n",
       "      <td>CADD</td>\n",
       "      <td>195</td>\n",
       "    </tr>\n",
       "    <tr>\n",
       "      <th>4</th>\n",
       "      <td>BMI</td>\n",
       "      <td>GPN-MSA</td>\n",
       "      <td>57</td>\n",
       "    </tr>\n",
       "    <tr>\n",
       "      <th>5</th>\n",
       "      <td>Breast_cancer</td>\n",
       "      <td>Borzoi_L2</td>\n",
       "      <td>9</td>\n",
       "    </tr>\n",
       "    <tr>\n",
       "      <th>6</th>\n",
       "      <td>CAD</td>\n",
       "      <td>CADD</td>\n",
       "      <td>15</td>\n",
       "    </tr>\n",
       "    <tr>\n",
       "      <th>7</th>\n",
       "      <td>CD</td>\n",
       "      <td>Enformer_L2</td>\n",
       "      <td>83</td>\n",
       "    </tr>\n",
       "    <tr>\n",
       "      <th>8</th>\n",
       "      <td>CVD</td>\n",
       "      <td>Borzoi_L2</td>\n",
       "      <td>25</td>\n",
       "    </tr>\n",
       "    <tr>\n",
       "      <th>9</th>\n",
       "      <td>ECOL</td>\n",
       "      <td>GPN-MSA</td>\n",
       "      <td>17</td>\n",
       "    </tr>\n",
       "    <tr>\n",
       "      <th>10</th>\n",
       "      <td>EY</td>\n",
       "      <td>CADD</td>\n",
       "      <td>17</td>\n",
       "    </tr>\n",
       "    <tr>\n",
       "      <th>11</th>\n",
       "      <td>Eczema</td>\n",
       "      <td>Borzoi_L2</td>\n",
       "      <td>26</td>\n",
       "    </tr>\n",
       "    <tr>\n",
       "      <th>12</th>\n",
       "      <td>FG</td>\n",
       "      <td>CADD</td>\n",
       "      <td>13</td>\n",
       "    </tr>\n",
       "    <tr>\n",
       "      <th>13</th>\n",
       "      <td>Glucose</td>\n",
       "      <td>CADD</td>\n",
       "      <td>33</td>\n",
       "    </tr>\n",
       "    <tr>\n",
       "      <th>14</th>\n",
       "      <td>HDL</td>\n",
       "      <td>Borzoi_L2</td>\n",
       "      <td>161</td>\n",
       "    </tr>\n",
       "    <tr>\n",
       "      <th>15</th>\n",
       "      <td>HT</td>\n",
       "      <td>Enformer_L2</td>\n",
       "      <td>17</td>\n",
       "    </tr>\n",
       "    <tr>\n",
       "      <th>16</th>\n",
       "      <td>HTN</td>\n",
       "      <td>Borzoi_L2</td>\n",
       "      <td>41</td>\n",
       "    </tr>\n",
       "    <tr>\n",
       "      <th>17</th>\n",
       "      <td>HbA1c</td>\n",
       "      <td>Enformer_L2</td>\n",
       "      <td>80</td>\n",
       "    </tr>\n",
       "    <tr>\n",
       "      <th>18</th>\n",
       "      <td>Height</td>\n",
       "      <td>GPN-MSA</td>\n",
       "      <td>372</td>\n",
       "    </tr>\n",
       "    <tr>\n",
       "      <th>19</th>\n",
       "      <td>IBD</td>\n",
       "      <td>Enformer_L2</td>\n",
       "      <td>112</td>\n",
       "    </tr>\n",
       "    <tr>\n",
       "      <th>20</th>\n",
       "      <td>Intel</td>\n",
       "      <td>CADD</td>\n",
       "      <td>9</td>\n",
       "    </tr>\n",
       "    <tr>\n",
       "      <th>21</th>\n",
       "      <td>LDL</td>\n",
       "      <td>Enformer_L2</td>\n",
       "      <td>55</td>\n",
       "    </tr>\n",
       "    <tr>\n",
       "      <th>22</th>\n",
       "      <td>MCH</td>\n",
       "      <td>Enformer_L2</td>\n",
       "      <td>170</td>\n",
       "    </tr>\n",
       "    <tr>\n",
       "      <th>23</th>\n",
       "      <td>MNP</td>\n",
       "      <td>Enformer_L2</td>\n",
       "      <td>13</td>\n",
       "    </tr>\n",
       "    <tr>\n",
       "      <th>24</th>\n",
       "      <td>MNR</td>\n",
       "      <td>Borzoi_L2</td>\n",
       "      <td>29</td>\n",
       "    </tr>\n",
       "    <tr>\n",
       "      <th>25</th>\n",
       "      <td>MS</td>\n",
       "      <td>Enformer_L2</td>\n",
       "      <td>9</td>\n",
       "    </tr>\n",
       "    <tr>\n",
       "      <th>26</th>\n",
       "      <td>PLT</td>\n",
       "      <td>Enformer_L2</td>\n",
       "      <td>187</td>\n",
       "    </tr>\n",
       "    <tr>\n",
       "      <th>27</th>\n",
       "      <td>RBC</td>\n",
       "      <td>Enformer_L2</td>\n",
       "      <td>128</td>\n",
       "    </tr>\n",
       "    <tr>\n",
       "      <th>28</th>\n",
       "      <td>RDW</td>\n",
       "      <td>Enformer_L2</td>\n",
       "      <td>128</td>\n",
       "    </tr>\n",
       "    <tr>\n",
       "      <th>29</th>\n",
       "      <td>RR-ENT</td>\n",
       "      <td>Enformer_L2</td>\n",
       "      <td>9</td>\n",
       "    </tr>\n",
       "    <tr>\n",
       "      <th>30</th>\n",
       "      <td>T2D</td>\n",
       "      <td>CADD</td>\n",
       "      <td>18</td>\n",
       "    </tr>\n",
       "    <tr>\n",
       "      <th>31</th>\n",
       "      <td>TC</td>\n",
       "      <td>Enformer_L2</td>\n",
       "      <td>70</td>\n",
       "    </tr>\n",
       "    <tr>\n",
       "      <th>32</th>\n",
       "      <td>TG</td>\n",
       "      <td>Enformer_L2</td>\n",
       "      <td>119</td>\n",
       "    </tr>\n",
       "    <tr>\n",
       "      <th>33</th>\n",
       "      <td>WHR</td>\n",
       "      <td>Enformer_L2</td>\n",
       "      <td>57</td>\n",
       "    </tr>\n",
       "  </tbody>\n",
       "</table>\n",
       "</div>"
      ],
      "text/plain": [
       "            trait       winner  n_hits\n",
       "0              AD         CADD      10\n",
       "1             AIT  Enformer_L2       7\n",
       "2             ASM  Enformer_L2      15\n",
       "3          BMD-HT         CADD     195\n",
       "4             BMI      GPN-MSA      57\n",
       "5   Breast_cancer    Borzoi_L2       9\n",
       "6             CAD         CADD      15\n",
       "7              CD  Enformer_L2      83\n",
       "8             CVD    Borzoi_L2      25\n",
       "9            ECOL      GPN-MSA      17\n",
       "10             EY         CADD      17\n",
       "11         Eczema    Borzoi_L2      26\n",
       "12             FG         CADD      13\n",
       "13        Glucose         CADD      33\n",
       "14            HDL    Borzoi_L2     161\n",
       "15             HT  Enformer_L2      17\n",
       "16            HTN    Borzoi_L2      41\n",
       "17          HbA1c  Enformer_L2      80\n",
       "18         Height      GPN-MSA     372\n",
       "19            IBD  Enformer_L2     112\n",
       "20          Intel         CADD       9\n",
       "21            LDL  Enformer_L2      55\n",
       "22            MCH  Enformer_L2     170\n",
       "23            MNP  Enformer_L2      13\n",
       "24            MNR    Borzoi_L2      29\n",
       "25             MS  Enformer_L2       9\n",
       "26            PLT  Enformer_L2     187\n",
       "27            RBC  Enformer_L2     128\n",
       "28            RDW  Enformer_L2     128\n",
       "29         RR-ENT  Enformer_L2       9\n",
       "30            T2D         CADD      18\n",
       "31             TC  Enformer_L2      70\n",
       "32             TG  Enformer_L2     119\n",
       "33            WHR  Enformer_L2      57"
      ]
     },
     "execution_count": 6,
     "metadata": {},
     "output_type": "execute_result"
    }
   ],
   "source": [
    "wins = df.groupby(\"trait\").apply(lambda x: x.sort_values(\"AUPRC\", ascending=False).Model.iloc[0]).rename(\"winner\").to_frame().reset_index()\n",
    "wins[\"n_hits\"] = wins.trait.map(n_hits)\n",
    "wins"
   ]
  },
  {
   "cell_type": "code",
   "execution_count": 7,
   "metadata": {},
   "outputs": [
    {
     "data": {
      "text/plain": [
       "<Axes: xlabel='count', ylabel='winner'>"
      ]
     },
     "execution_count": 7,
     "metadata": {},
     "output_type": "execute_result"
    },
    {
     "data": {
      "image/png": "[encoded data removed]",
      "text/plain": [
       "<Figure size 144x144 with 1 Axes>"
      ]
     },
     "metadata": {
      "needs_background": "light"
     },
     "output_type": "display_data"
    }
   ],
   "source": [
    "plt.figure(figsize=(2,2))\n",
    "sns.countplot(\n",
    "    data=wins,\n",
    "    y=\"winner\",\n",
    "    order=wins.groupby(\"winner\").trait.count().sort_values(ascending=False).index,\n",
    "    palette=palette,\n",
    ")"
   ]
  },
  {
   "cell_type": "code",
   "execution_count": 8,
   "metadata": {},
   "outputs": [
    {
     "data": {
      "text/html": [
       "<div>\n",
       "<style scoped>\n",
       "    .dataframe tbody tr th:only-of-type {\n",
       "        vertical-align: middle;\n",
       "    }\n",
       "\n",
       "    .dataframe tbody tr th {\n",
       "        vertical-align: top;\n",
       "    }\n",
       "\n",
       "    .dataframe thead th {\n",
       "        text-align: right;\n",
       "    }\n",
       "</style>\n",
       "<table border=\"1\" class=\"dataframe\">\n",
       "  <thead>\n",
       "    <tr style=\"text-align: right;\">\n",
       "      <th></th>\n",
       "      <th>trait</th>\n",
       "      <th>winner</th>\n",
       "      <th>n_hits</th>\n",
       "    </tr>\n",
       "  </thead>\n",
       "  <tbody>\n",
       "    <tr>\n",
       "      <th>4</th>\n",
       "      <td>BMI</td>\n",
       "      <td>GPN-MSA</td>\n",
       "      <td>57</td>\n",
       "    </tr>\n",
       "    <tr>\n",
       "      <th>9</th>\n",
       "      <td>ECOL</td>\n",
       "      <td>GPN-MSA</td>\n",
       "      <td>17</td>\n",
       "    </tr>\n",
       "    <tr>\n",
       "      <th>18</th>\n",
       "      <td>Height</td>\n",
       "      <td>GPN-MSA</td>\n",
       "      <td>372</td>\n",
       "    </tr>\n",
       "  </tbody>\n",
       "</table>\n",
       "</div>"
      ],
      "text/plain": [
       "     trait   winner  n_hits\n",
       "4      BMI  GPN-MSA      57\n",
       "9     ECOL  GPN-MSA      17\n",
       "18  Height  GPN-MSA     372"
      ]
     },
     "execution_count": 8,
     "metadata": {},
     "output_type": "execute_result"
    }
   ],
   "source": [
    "wins[wins.winner==\"GPN-MSA\"]"
   ]
  },
  {
   "cell_type": "code",
   "execution_count": 16,
   "metadata": {},
   "outputs": [
    {
     "data": {
      "image/png": "[encoded data removed]",
      "text/plain": [
       "<Figure size 144x144 with 1 Axes>"
      ]
     },
     "metadata": {
      "needs_background": "light"
     },
     "output_type": "display_data"
    },
    {
     "data": {
      "image/png": "[encoded data removed]",
      "text/plain": [
       "<Figure size 144x144 with 1 Axes>"
      ]
     },
     "metadata": {
      "needs_background": "light"
     },
     "output_type": "display_data"
    },
    {
     "data": {
      "image/png": "[encoded data removed]",
      "text/plain": [
       "<Figure size 144x144 with 1 Axes>"
      ]
     },
     "metadata": {
      "needs_background": "light"
     },
     "output_type": "display_data"
    },
    {
     "data": {
      "image/png": "[encoded data removed]",
      "text/plain": [
       "<Figure size 144x144 with 1 Axes>"
      ]
     },
     "metadata": {
      "needs_background": "light"
     },
     "output_type": "display_data"
    },
    {
     "data": {
      "image/png": "[encoded data removed]",
      "text/plain": [
       "<Figure size 144x144 with 1 Axes>"
      ]
     },
     "metadata": {
      "needs_background": "light"
     },
     "output_type": "display_data"
    },
    {
     "data": {
      "image/png": "[encoded data removed]",
      "text/plain": [
       "<Figure size 144x144 with 1 Axes>"
      ]
     },
     "metadata": {
      "needs_background": "light"
     },
     "output_type": "display_data"
    },
    {
     "data": {
      "image/png": "[encoded data removed]",
      "text/plain": [
       "<Figure size 144x144 with 1 Axes>"
      ]
     },
     "metadata": {
      "needs_background": "light"
     },
     "output_type": "display_data"
    },
    {
     "data": {
      "image/png": "[encoded data removed]",
      "text/plain": [
       "<Figure size 144x144 with 1 Axes>"
      ]
     },
     "metadata": {
      "needs_background": "light"
     },
     "output_type": "display_data"
    },
    {
     "data": {
      "image/png": "[encoded data removed]",
      "text/plain": [
       "<Figure size 144x144 with 1 Axes>"
      ]
     },
     "metadata": {
      "needs_background": "light"
     },
     "output_type": "display_data"
    },
    {
     "data": {
      "image/png": "[encoded data removed]",
      "text/plain": [
       "<Figure size 144x144 with 1 Axes>"
      ]
     },
     "metadata": {
      "needs_background": "light"
     },
     "output_type": "display_data"
    }
   ],
   "source": [
    "for trait in df.trait.sample(n=10, random_state=42):\n",
    "    plt.figure(figsize=(2,2))\n",
    "    g = sns.barplot(\n",
    "        data=df[df.trait==trait],\n",
    "        y=\"Model\",\n",
    "        x=\"AUPRC\",\n",
    "        order=df[df.trait==trait].sort_values(\"AUPRC\", ascending=False).Model,\n",
    "        palette=palette,\n",
    "    )\n",
    "    g.set(\n",
    "        ylabel=\"\",\n",
    "        title=trait_renaming[trait] + f\"\\n(n_causal={n_hits[trait]})\",\n",
    "    )\n",
    "    sns.despine();\n",
    "    plt.show()"
   ]
  },
  {
   "cell_type": "code",
   "execution_count": null,
   "metadata": {},
   "outputs": [],
   "source": []
  }
 ],
 "metadata": {
  "kernelspec": {
   "display_name": "gpn",
   "language": "python",
   "name": "gpn"
  },
  "language_info": {
   "codemirror_mode": {
    "name": "ipython",
    "version": 3
   },
   "file_extension": ".py",
   "mimetype": "text/x-python",
   "name": "python",
   "nbconvert_exporter": "python",
   "pygments_lexer": "ipython3",
   "version": "3.11.3"
  }
 },
 "nbformat": 4,
 "nbformat_minor": 2
}
