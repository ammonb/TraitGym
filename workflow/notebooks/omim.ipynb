{
 "cells": [
  {
   "cell_type": "code",
   "execution_count": 1,
   "metadata": {},
   "outputs": [],
   "source": [
    "import polars as pl"
   ]
  },
  {
   "cell_type": "code",
   "execution_count": 2,
   "metadata": {},
   "outputs": [
    {
     "data": {
      "text/html": [
       "<div><style>\n",
       ".dataframe > thead > tr,\n",
       ".dataframe > tbody > tr {\n",
       "  text-align: right;\n",
       "  white-space: pre-wrap;\n",
       "}\n",
       "</style>\n",
       "<small>shape: (392, 8)</small><table border=\"1\" class=\"dataframe\"><thead><tr><th>chrom</th><th>pos</th><th>ref</th><th>alt</th><th>OMIM</th><th>consequence</th><th>label</th><th>match_group</th></tr><tr><td>str</td><td>i64</td><td>str</td><td>str</td><td>str</td><td>str</td><td>bool</td><td>i64</td></tr></thead><tbody><tr><td>&quot;1&quot;</td><td>7961859</td><td>&quot;C&quot;</td><td>&quot;G&quot;</td><td>&quot;MIM 606324&quot;</td><td>&quot;PLS&quot;</td><td>true</td><td>277</td></tr><tr><td>&quot;1&quot;</td><td>9943502</td><td>&quot;A&quot;</td><td>&quot;T&quot;</td><td>&quot;MIM 608553&quot;</td><td>&quot;5_prime_UTR_variant&quot;</td><td>true</td><td>35</td></tr><tr><td>&quot;1&quot;</td><td>9943503</td><td>&quot;C&quot;</td><td>&quot;T&quot;</td><td>&quot;MIM 608553&quot;</td><td>&quot;5_prime_UTR_variant&quot;</td><td>true</td><td>36</td></tr><tr><td>&quot;1&quot;</td><td>11023351</td><td>&quot;G&quot;</td><td>&quot;A&quot;</td><td>&quot;MIM 612069&quot;</td><td>&quot;3_prime_UTR_variant&quot;</td><td>true</td><td>242</td></tr><tr><td>&quot;1&quot;</td><td>21509427</td><td>&quot;C&quot;</td><td>&quot;T&quot;</td><td>&quot;MIM 241500&quot;</td><td>&quot;5_prime_UTR_variant&quot;</td><td>true</td><td>37</td></tr><tr><td>&hellip;</td><td>&hellip;</td><td>&hellip;</td><td>&hellip;</td><td>&hellip;</td><td>&hellip;</td><td>&hellip;</td><td>&hellip;</td></tr><tr><td>&quot;X&quot;</td><td>155022771</td><td>&quot;G&quot;</td><td>&quot;A&quot;</td><td>&quot;MIM 306700&quot;</td><td>&quot;PLS&quot;</td><td>true</td><td>328</td></tr><tr><td>&quot;X&quot;</td><td>155022773</td><td>&quot;A&quot;</td><td>&quot;T&quot;</td><td>&quot;MIM 306700&quot;</td><td>&quot;PLS&quot;</td><td>true</td><td>313</td></tr><tr><td>&quot;X&quot;</td><td>155022807</td><td>&quot;T&quot;</td><td>&quot;C&quot;</td><td>&quot;MIM 306700&quot;</td><td>&quot;PLS&quot;</td><td>true</td><td>314</td></tr><tr><td>&quot;X&quot;</td><td>155022809</td><td>&quot;A&quot;</td><td>&quot;C&quot;</td><td>&quot;MIM 306700&quot;</td><td>&quot;PLS&quot;</td><td>true</td><td>315</td></tr><tr><td>&quot;Y&quot;</td><td>2787678</td><td>&quot;C&quot;</td><td>&quot;T&quot;</td><td>&quot;MIM 400044&quot;</td><td>&quot;5_prime_UTR_variant&quot;</td><td>true</td><td>111</td></tr></tbody></table></div>"
      ],
      "text/plain": [
       "shape: (392, 8)\n",
       "┌───────┬───────────┬─────┬─────┬────────────┬─────────────────────┬───────┬─────────────┐\n",
       "│ chrom ┆ pos       ┆ ref ┆ alt ┆ OMIM       ┆ consequence         ┆ label ┆ match_group │\n",
       "│ ---   ┆ ---       ┆ --- ┆ --- ┆ ---        ┆ ---                 ┆ ---   ┆ ---         │\n",
       "│ str   ┆ i64       ┆ str ┆ str ┆ str        ┆ str                 ┆ bool  ┆ i64         │\n",
       "╞═══════╪═══════════╪═════╪═════╪════════════╪═════════════════════╪═══════╪═════════════╡\n",
       "│ 1     ┆ 7961859   ┆ C   ┆ G   ┆ MIM 606324 ┆ PLS                 ┆ true  ┆ 277         │\n",
       "│ 1     ┆ 9943502   ┆ A   ┆ T   ┆ MIM 608553 ┆ 5_prime_UTR_variant ┆ true  ┆ 35          │\n",
       "│ 1     ┆ 9943503   ┆ C   ┆ T   ┆ MIM 608553 ┆ 5_prime_UTR_variant ┆ true  ┆ 36          │\n",
       "│ 1     ┆ 11023351  ┆ G   ┆ A   ┆ MIM 612069 ┆ 3_prime_UTR_variant ┆ true  ┆ 242         │\n",
       "│ 1     ┆ 21509427  ┆ C   ┆ T   ┆ MIM 241500 ┆ 5_prime_UTR_variant ┆ true  ┆ 37          │\n",
       "│ …     ┆ …         ┆ …   ┆ …   ┆ …          ┆ …                   ┆ …     ┆ …           │\n",
       "│ X     ┆ 155022771 ┆ G   ┆ A   ┆ MIM 306700 ┆ PLS                 ┆ true  ┆ 328         │\n",
       "│ X     ┆ 155022773 ┆ A   ┆ T   ┆ MIM 306700 ┆ PLS                 ┆ true  ┆ 313         │\n",
       "│ X     ┆ 155022807 ┆ T   ┆ C   ┆ MIM 306700 ┆ PLS                 ┆ true  ┆ 314         │\n",
       "│ X     ┆ 155022809 ┆ A   ┆ C   ┆ MIM 306700 ┆ PLS                 ┆ true  ┆ 315         │\n",
       "│ Y     ┆ 2787678   ┆ C   ┆ T   ┆ MIM 400044 ┆ 5_prime_UTR_variant ┆ true  ┆ 111         │\n",
       "└───────┴───────────┴─────┴─────┴────────────┴─────────────────────┴───────┴─────────────┘"
      ]
     },
     "execution_count": 2,
     "metadata": {},
     "output_type": "execute_result"
    }
   ],
   "source": [
    "V = pl.read_parquet(\"../../results/dataset/omim_subsampled_9/test.parquet\").filter(label=True)\n",
    "V"
   ]
  },
  {
   "cell_type": "code",
   "execution_count": 3,
   "metadata": {},
   "outputs": [
    {
     "data": {
      "text/plain": [
       "array([['5_prime_UTR_variant', 121],\n",
       "       ['PLS', 74],\n",
       "       ['non_coding_transcript_exon_variant', 73],\n",
       "       ['3_prime_UTR_variant', 33],\n",
       "       ['upstream_gene_variant', 21],\n",
       "       ['dELS', 15],\n",
       "       ['missense_variant', 13],\n",
       "       ['intron_variant', 9],\n",
       "       ['splice_region_variant', 6],\n",
       "       ['dELS_flank', 6],\n",
       "       ['PLS_flank', 4],\n",
       "       ['mature_miRNA_variant', 4],\n",
       "       ['pELS', 4],\n",
       "       ['pELS_flank', 4],\n",
       "       ['synonymous_variant', 3],\n",
       "       ['intergenic_variant', 2]], dtype=object)"
      ]
     },
     "execution_count": 3,
     "metadata": {},
     "output_type": "execute_result"
    }
   ],
   "source": [
    "V[\"consequence\"].value_counts().sort(\"count\", descending=True).to_numpy()"
   ]
  },
  {
   "cell_type": "code",
   "execution_count": 5,
   "metadata": {},
   "outputs": [
    {
     "data": {
      "text/plain": [
       "array([['X', 59],\n",
       "       ['11', 51],\n",
       "       ['19', 40],\n",
       "       ['3', 33],\n",
       "       ['2', 29],\n",
       "       ['7', 27],\n",
       "       ['9', 26],\n",
       "       ['1', 23],\n",
       "       ['10', 22],\n",
       "       ['13', 21],\n",
       "       ['8', 15],\n",
       "       ['17', 8],\n",
       "       ['16', 8],\n",
       "       ['12', 7],\n",
       "       ['20', 6],\n",
       "       ['5', 5],\n",
       "       ['14', 4],\n",
       "       ['6', 4],\n",
       "       ['22', 2],\n",
       "       ['15', 1],\n",
       "       ['Y', 1]], dtype=object)"
      ]
     },
     "execution_count": 5,
     "metadata": {},
     "output_type": "execute_result"
    }
   ],
   "source": [
    "V[\"chrom\"].value_counts().sort(\"count\", descending=True).to_numpy()"
   ]
  },
  {
   "cell_type": "code",
   "execution_count": null,
   "metadata": {},
   "outputs": [],
   "source": []
  }
 ],
 "metadata": {
  "kernelspec": {
   "display_name": "gpn",
   "language": "python",
   "name": "gpn"
  },
  "language_info": {
   "codemirror_mode": {
    "name": "ipython",
    "version": 3
   },
   "file_extension": ".py",
   "mimetype": "text/x-python",
   "name": "python",
   "nbconvert_exporter": "python",
   "pygments_lexer": "ipython3",
   "version": "3.11.3"
  }
 },
 "nbformat": 4,
 "nbformat_minor": 2
}
