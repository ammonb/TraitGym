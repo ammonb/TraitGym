{
 "cells": [
  {
   "cell_type": "code",
   "execution_count": 1,
   "metadata": {},
   "outputs": [],
   "source": [
    "import pandas as pd\n",
    "import polars as pl\n",
    "from sklearn.metrics import average_precision_score\n",
    "import seaborn as sns\n",
    "import matplotlib.pyplot as plt\n",
    "from tqdm import tqdm"
   ]
  },
  {
   "cell_type": "code",
   "execution_count": 2,
   "metadata": {},
   "outputs": [
    {
     "data": {
      "text/html": [
       "<div>\n",
       "<style scoped>\n",
       "    .dataframe tbody tr th:only-of-type {\n",
       "        vertical-align: middle;\n",
       "    }\n",
       "\n",
       "    .dataframe tbody tr th {\n",
       "        vertical-align: top;\n",
       "    }\n",
       "\n",
       "    .dataframe thead th {\n",
       "        text-align: right;\n",
       "    }\n",
       "</style>\n",
       "<table border=\"1\" class=\"dataframe\">\n",
       "  <thead>\n",
       "    <tr style=\"text-align: right;\">\n",
       "      <th></th>\n",
       "      <th>name</th>\n",
       "      <th>description</th>\n",
       "      <th>color</th>\n",
       "    </tr>\n",
       "  </thead>\n",
       "  <tbody>\n",
       "    <tr>\n",
       "      <th>0</th>\n",
       "      <td>CADD</td>\n",
       "      <td>CADD</td>\n",
       "      <td>C0</td>\n",
       "    </tr>\n",
       "    <tr>\n",
       "      <th>1</th>\n",
       "      <td>GPN-MSA</td>\n",
       "      <td>GPN-MSA</td>\n",
       "      <td>C1</td>\n",
       "    </tr>\n",
       "    <tr>\n",
       "      <th>2</th>\n",
       "      <td>Borzoi</td>\n",
       "      <td>Borzoi</td>\n",
       "      <td>C2</td>\n",
       "    </tr>\n",
       "    <tr>\n",
       "      <th>3</th>\n",
       "      <td>Enformer</td>\n",
       "      <td>Enformer</td>\n",
       "      <td>C3</td>\n",
       "    </tr>\n",
       "    <tr>\n",
       "      <th>4</th>\n",
       "      <td>GPN</td>\n",
       "      <td>gLM-Promoter</td>\n",
       "      <td>C4</td>\n",
       "    </tr>\n",
       "    <tr>\n",
       "      <th>5</th>\n",
       "      <td>NucleotideTransformer</td>\n",
       "      <td>NT</td>\n",
       "      <td>C5</td>\n",
       "    </tr>\n",
       "    <tr>\n",
       "      <th>6</th>\n",
       "      <td>HyenaDNA</td>\n",
       "      <td>HyenaDNA</td>\n",
       "      <td>C6</td>\n",
       "    </tr>\n",
       "    <tr>\n",
       "      <th>7</th>\n",
       "      <td>Caduceus</td>\n",
       "      <td>Caduceus</td>\n",
       "      <td>C7</td>\n",
       "    </tr>\n",
       "    <tr>\n",
       "      <th>8</th>\n",
       "      <td>CADD+GPN-MSA+Borzoi</td>\n",
       "      <td>Ensemble</td>\n",
       "      <td>C8</td>\n",
       "    </tr>\n",
       "    <tr>\n",
       "      <th>9</th>\n",
       "      <td>Sei</td>\n",
       "      <td>Sei</td>\n",
       "      <td>C9</td>\n",
       "    </tr>\n",
       "    <tr>\n",
       "      <th>10</th>\n",
       "      <td>GPN_final</td>\n",
       "      <td>gLM-Promoter</td>\n",
       "      <td>C4</td>\n",
       "    </tr>\n",
       "  </tbody>\n",
       "</table>\n",
       "</div>"
      ],
      "text/plain": [
       "                     name   description color\n",
       "0                    CADD          CADD    C0\n",
       "1                 GPN-MSA       GPN-MSA    C1\n",
       "2                  Borzoi        Borzoi    C2\n",
       "3                Enformer      Enformer    C3\n",
       "4                     GPN  gLM-Promoter    C4\n",
       "5   NucleotideTransformer            NT    C5\n",
       "6                HyenaDNA      HyenaDNA    C6\n",
       "7                Caduceus      Caduceus    C7\n",
       "8     CADD+GPN-MSA+Borzoi      Ensemble    C8\n",
       "9                     Sei           Sei    C9\n",
       "10              GPN_final  gLM-Promoter    C4"
      ]
     },
     "execution_count": 2,
     "metadata": {},
     "output_type": "execute_result"
    }
   ],
   "source": [
    "model_metadata = pd.read_csv(\"../../config/models.csv\")\n",
    "palette = model_metadata.set_index(\"description\")[\"color\"].to_dict()\n",
    "model_renaming = model_metadata.set_index(\"name\")[\"description\"].to_dict()\n",
    "model_metadata"
   ]
  },
  {
   "cell_type": "code",
   "execution_count": 3,
   "metadata": {},
   "outputs": [],
   "source": [
    "dataset_renaming = {\n",
    "    \"mendelian_traits_all\": \"Mendelian traits\",\n",
    "    \"complex_traits_all\": \"Complex traits\",\n",
    "}\n",
    "\n",
    "subset_renaming = {\n",
    "    \"all\": \"All\",\n",
    "}"
   ]
  },
  {
   "cell_type": "code",
   "execution_count": 4,
   "metadata": {},
   "outputs": [
    {
     "data": {
      "text/html": [
       "<div><style>\n",
       ".dataframe > thead > tr,\n",
       ".dataframe > tbody > tr {\n",
       "  text-align: right;\n",
       "  white-space: pre-wrap;\n",
       "}\n",
       "</style>\n",
       "<small>shape: (11_775_258, 12)</small><table border=\"1\" class=\"dataframe\"><thead><tr><th>chrom</th><th>pos</th><th>ref</th><th>alt</th><th>pip</th><th>trait</th><th>label</th><th>maf</th><th>ld_score</th><th>consequence</th><th>CADD_RawScore</th><th>GPN-MSA_absLLR_score</th></tr><tr><td>str</td><td>i64</td><td>str</td><td>str</td><td>f64</td><td>str</td><td>bool</td><td>f64</td><td>f64</td><td>str</td><td>f32</td><td>f32</td></tr></thead><tbody><tr><td>&quot;1&quot;</td><td>758351</td><td>&quot;A&quot;</td><td>&quot;G&quot;</td><td>0.0</td><td>&quot;&quot;</td><td>false</td><td>0.11581</td><td>80.222</td><td>&quot;intron_variant&quot;</td><td>0.745346</td><td>0.050781</td></tr><tr><td>&quot;1&quot;</td><td>772142</td><td>&quot;G&quot;</td><td>&quot;C&quot;</td><td>0.0</td><td>&quot;&quot;</td><td>false</td><td>0.097076</td><td>73.052</td><td>&quot;intron_variant&quot;</td><td>-0.382612</td><td>1.642578</td></tr><tr><td>&quot;1&quot;</td><td>782207</td><td>&quot;G&quot;</td><td>&quot;A&quot;</td><td>0.0</td><td>&quot;&quot;</td><td>false</td><td>0.015778</td><td>12.172</td><td>&quot;intron_variant&quot;</td><td>0.207167</td><td>0.259766</td></tr><tr><td>&quot;1&quot;</td><td>787949</td><td>&quot;A&quot;</td><td>&quot;T&quot;</td><td>0.0</td><td>&quot;&quot;</td><td>false</td><td>0.0017441</td><td>5.0762</td><td>&quot;intron_variant&quot;</td><td>0.327236</td><td>3.337891</td></tr><tr><td>&quot;1&quot;</td><td>794707</td><td>&quot;T&quot;</td><td>&quot;C&quot;</td><td>0.0</td><td>&quot;&quot;</td><td>false</td><td>0.056288</td><td>50.019</td><td>&quot;intron_variant&quot;</td><td>0.611349</td><td>1.332031</td></tr><tr><td>&hellip;</td><td>&hellip;</td><td>&hellip;</td><td>&hellip;</td><td>&hellip;</td><td>&hellip;</td><td>&hellip;</td><td>&hellip;</td><td>&hellip;</td><td>&hellip;</td><td>&hellip;</td><td>&hellip;</td></tr><tr><td>&quot;22&quot;</td><td>50791377</td><td>&quot;T&quot;</td><td>&quot;C&quot;</td><td>0.0</td><td>&quot;&quot;</td><td>false</td><td>0.072962</td><td>59.296</td><td>&quot;intron_variant&quot;</td><td>0.361089</td><td>0.30957</td></tr><tr><td>&quot;22&quot;</td><td>50792792</td><td>&quot;A&quot;</td><td>&quot;G&quot;</td><td>0.0</td><td>&quot;&quot;</td><td>false</td><td>0.05375</td><td>43.457</td><td>&quot;intron_variant&quot;</td><td>1.123357</td><td>0.059998</td></tr><tr><td>&quot;22&quot;</td><td>50795771</td><td>&quot;T&quot;</td><td>&quot;C&quot;</td><td>0.0</td><td>&quot;&quot;</td><td>false</td><td>0.000132</td><td>45.399</td><td>&quot;intron_variant&quot;</td><td>-0.395607</td><td>1.624023</td></tr><tr><td>&quot;22&quot;</td><td>50798635</td><td>&quot;T&quot;</td><td>&quot;C&quot;</td><td>0.001031</td><td>&quot;&quot;</td><td>false</td><td>0.29837</td><td>36.021</td><td>&quot;intron_variant&quot;</td><td>0.363428</td><td>2.371094</td></tr><tr><td>&quot;22&quot;</td><td>50799284</td><td>&quot;G&quot;</td><td>&quot;A&quot;</td><td>0.0</td><td>&quot;&quot;</td><td>false</td><td>0.055278</td><td>42.957</td><td>&quot;non_coding_transcript_exon_var…</td><td>0.626373</td><td>3.484375</td></tr></tbody></table></div>"
      ],
      "text/plain": [
       "shape: (11_775_258, 12)\n",
       "┌───────┬──────────┬─────┬─────┬───┬──────────┬──────────────────┬───────────────┬─────────────────┐\n",
       "│ chrom ┆ pos      ┆ ref ┆ alt ┆ … ┆ ld_score ┆ consequence      ┆ CADD_RawScore ┆ GPN-MSA_absLLR_ │\n",
       "│ ---   ┆ ---      ┆ --- ┆ --- ┆   ┆ ---      ┆ ---              ┆ ---           ┆ score           │\n",
       "│ str   ┆ i64      ┆ str ┆ str ┆   ┆ f64      ┆ str              ┆ f32           ┆ ---             │\n",
       "│       ┆          ┆     ┆     ┆   ┆          ┆                  ┆               ┆ f32             │\n",
       "╞═══════╪══════════╪═════╪═════╪═══╪══════════╪══════════════════╪═══════════════╪═════════════════╡\n",
       "│ 1     ┆ 758351   ┆ A   ┆ G   ┆ … ┆ 80.222   ┆ intron_variant   ┆ 0.745346      ┆ 0.050781        │\n",
       "│ 1     ┆ 772142   ┆ G   ┆ C   ┆ … ┆ 73.052   ┆ intron_variant   ┆ -0.382612     ┆ 1.642578        │\n",
       "│ 1     ┆ 782207   ┆ G   ┆ A   ┆ … ┆ 12.172   ┆ intron_variant   ┆ 0.207167      ┆ 0.259766        │\n",
       "│ 1     ┆ 787949   ┆ A   ┆ T   ┆ … ┆ 5.0762   ┆ intron_variant   ┆ 0.327236      ┆ 3.337891        │\n",
       "│ 1     ┆ 794707   ┆ T   ┆ C   ┆ … ┆ 50.019   ┆ intron_variant   ┆ 0.611349      ┆ 1.332031        │\n",
       "│ …     ┆ …        ┆ …   ┆ …   ┆ … ┆ …        ┆ …                ┆ …             ┆ …               │\n",
       "│ 22    ┆ 50791377 ┆ T   ┆ C   ┆ … ┆ 59.296   ┆ intron_variant   ┆ 0.361089      ┆ 0.30957         │\n",
       "│ 22    ┆ 50792792 ┆ A   ┆ G   ┆ … ┆ 43.457   ┆ intron_variant   ┆ 1.123357      ┆ 0.059998        │\n",
       "│ 22    ┆ 50795771 ┆ T   ┆ C   ┆ … ┆ 45.399   ┆ intron_variant   ┆ -0.395607     ┆ 1.624023        │\n",
       "│ 22    ┆ 50798635 ┆ T   ┆ C   ┆ … ┆ 36.021   ┆ intron_variant   ┆ 0.363428      ┆ 2.371094        │\n",
       "│ 22    ┆ 50799284 ┆ G   ┆ A   ┆ … ┆ 42.957   ┆ non_coding_trans ┆ 0.626373      ┆ 3.484375        │\n",
       "│       ┆          ┆     ┆     ┆   ┆          ┆ cript_exon_var…  ┆               ┆                 │\n",
       "└───────┴──────────┴─────┴─────┴───┴──────────┴──────────────────┴───────────────┴─────────────────┘"
      ]
     },
     "execution_count": 4,
     "metadata": {},
     "output_type": "execute_result"
    }
   ],
   "source": [
    "#dataset = \"mendelian_traits_all\"\n",
    "dataset = \"complex_traits_all\"\n",
    "subset = \"all\"\n",
    "\n",
    "\n",
    "features = [\n",
    "    \"CADD\",\n",
    "    #\"GPN-MSA_LLR\",\n",
    "    \"GPN-MSA_absLLR\",\n",
    "\n",
    "#    \"GPN_LLR\",\n",
    "#    \"GPN_absLLR\",\n",
    "]\n",
    "\n",
    "base_dir = f\"../../results/dataset/{dataset}\"\n",
    "V = pl.read_parquet(f\"{base_dir}/test.parquet\")\n",
    "for feature in features:\n",
    "    df = pl.read_parquet(f\"{base_dir}/features/{feature}.parquet\")\n",
    "    df.columns = [f\"{feature}_{col}\" for col in df.columns]\n",
    "    V = pl.concat([V, df], how=\"horizontal\")\n",
    "subset_df = pl.read_parquet(f\"{base_dir}/subset/{subset}.parquet\")\n",
    "V = subset_df.join(V, on=[\"chrom\", \"pos\", \"ref\", \"alt\"], how=\"left\")\n",
    "V"
   ]
  },
  {
   "cell_type": "code",
   "execution_count": 11,
   "metadata": {},
   "outputs": [
    {
     "data": {},
     "metadata": {},
     "output_type": "display_data"
    },
    {
     "data": {
      "application/vnd.holoviews_exec.v0+json": "",
      "text/html": [
       "<div id='p1153'>\n",
       "  <div id=\"c592705a-ea98-4496-83b4-6f6454733fe3\" data-root-id=\"p1153\" style=\"display: contents;\"></div>\n",
       "</div>\n",
       "<script type=\"application/javascript\">(function(root) {\n",
       "  var docs_json = {\"e78e0fe7-1c08-48a7-91b9-1574fc528d35\":{\"version\":\"3.1.1\",\"title\":\"Bokeh Application\",\"defs\":[{\"type\":\"model\",\"name\":\"ReactiveHTML1\"},{\"type\":\"model\",\"name\":\"FlexBox1\",\"properties\":[{\"name\":\"align_content\",\"kind\":\"Any\",\"default\":\"flex-start\"},{\"name\":\"align_items\",\"kind\":\"Any\",\"default\":\"flex-start\"},{\"name\":\"flex_direction\",\"kind\":\"Any\",\"default\":\"row\"},{\"name\":\"flex_wrap\",\"kind\":\"Any\",\"default\":\"wrap\"},{\"name\":\"justify_content\",\"kind\":\"Any\",\"default\":\"flex-start\"}]},{\"type\":\"model\",\"name\":\"FloatPanel1\",\"properties\":[{\"name\":\"config\",\"kind\":\"Any\",\"default\":{\"type\":\"map\"}},{\"name\":\"contained\",\"kind\":\"Any\",\"default\":true},{\"name\":\"position\",\"kind\":\"Any\",\"default\":\"right-top\"},{\"name\":\"offsetx\",\"kind\":\"Any\",\"default\":null},{\"name\":\"offsety\",\"kind\":\"Any\",\"default\":null},{\"name\":\"theme\",\"kind\":\"Any\",\"default\":\"primary\"},{\"name\":\"status\",\"kind\":\"Any\",\"default\":\"normalized\"}]},{\"type\":\"model\",\"name\":\"GridStack1\",\"properties\":[{\"name\":\"mode\",\"kind\":\"Any\",\"default\":\"warn\"},{\"name\":\"ncols\",\"kind\":\"Any\",\"default\":null},{\"name\":\"nrows\",\"kind\":\"Any\",\"default\":null},{\"name\":\"allow_resize\",\"kind\":\"Any\",\"default\":true},{\"name\":\"allow_drag\",\"kind\":\"Any\",\"default\":true},{\"name\":\"state\",\"kind\":\"Any\",\"default\":[]}]},{\"type\":\"model\",\"name\":\"drag1\",\"properties\":[{\"name\":\"slider_width\",\"kind\":\"Any\",\"default\":5},{\"name\":\"slider_color\",\"kind\":\"Any\",\"default\":\"black\"},{\"name\":\"value\",\"kind\":\"Any\",\"default\":50}]},{\"type\":\"model\",\"name\":\"click1\",\"properties\":[{\"name\":\"terminal_output\",\"kind\":\"Any\",\"default\":\"\"},{\"name\":\"debug_name\",\"kind\":\"Any\",\"default\":\"\"},{\"name\":\"clears\",\"kind\":\"Any\",\"default\":0}]},{\"type\":\"model\",\"name\":\"FastWrapper1\",\"properties\":[{\"name\":\"object\",\"kind\":\"Any\",\"default\":null},{\"name\":\"style\",\"kind\":\"Any\",\"default\":null}]},{\"type\":\"model\",\"name\":\"NotificationAreaBase1\",\"properties\":[{\"name\":\"position\",\"kind\":\"Any\",\"default\":\"bottom-right\"},{\"name\":\"_clear\",\"kind\":\"Any\",\"default\":0}]},{\"type\":\"model\",\"name\":\"NotificationArea1\",\"properties\":[{\"name\":\"notifications\",\"kind\":\"Any\",\"default\":[]},{\"name\":\"position\",\"kind\":\"Any\",\"default\":\"bottom-right\"},{\"name\":\"_clear\",\"kind\":\"Any\",\"default\":0},{\"name\":\"types\",\"kind\":\"Any\",\"default\":[{\"type\":\"map\",\"entries\":[[\"type\",\"warning\"],[\"background\",\"#ffc107\"],[\"icon\",{\"type\":\"map\",\"entries\":[[\"className\",\"fas fa-exclamation-triangle\"],[\"tagName\",\"i\"],[\"color\",\"white\"]]}]]},{\"type\":\"map\",\"entries\":[[\"type\",\"info\"],[\"background\",\"#007bff\"],[\"icon\",{\"type\":\"map\",\"entries\":[[\"className\",\"fas fa-info-circle\"],[\"tagName\",\"i\"],[\"color\",\"white\"]]}]]}]}]},{\"type\":\"model\",\"name\":\"Notification\",\"properties\":[{\"name\":\"background\",\"kind\":\"Any\",\"default\":null},{\"name\":\"duration\",\"kind\":\"Any\",\"default\":3000},{\"name\":\"icon\",\"kind\":\"Any\",\"default\":null},{\"name\":\"message\",\"kind\":\"Any\",\"default\":\"\"},{\"name\":\"notification_type\",\"kind\":\"Any\",\"default\":null},{\"name\":\"_destroyed\",\"kind\":\"Any\",\"default\":false}]},{\"type\":\"model\",\"name\":\"TemplateActions1\",\"properties\":[{\"name\":\"open_modal\",\"kind\":\"Any\",\"default\":0},{\"name\":\"close_modal\",\"kind\":\"Any\",\"default\":0}]},{\"type\":\"model\",\"name\":\"BootstrapTemplateActions1\",\"properties\":[{\"name\":\"open_modal\",\"kind\":\"Any\",\"default\":0},{\"name\":\"close_modal\",\"kind\":\"Any\",\"default\":0}]},{\"type\":\"model\",\"name\":\"MaterialTemplateActions1\",\"properties\":[{\"name\":\"open_modal\",\"kind\":\"Any\",\"default\":0},{\"name\":\"close_modal\",\"kind\":\"Any\",\"default\":0}]}],\"roots\":[{\"type\":\"object\",\"name\":\"Row\",\"id\":\"p1153\",\"attributes\":{\"name\":\"Row00990\",\"tags\":[\"embedded\"],\"stylesheets\":[\"\\n:host(.pn-loading.pn-arc):before, .pn-loading.pn-arc:before {\\n  background-image: url(\\\"data:image/svg+xml;base64,PHN2ZyB4bWxucz0iaHR0cDovL3d3dy53My5vcmcvMjAwMC9zdmciIHN0eWxlPSJtYXJnaW46IGF1dG87IGJhY2tncm91bmQ6IG5vbmU7IGRpc3BsYXk6IGJsb2NrOyBzaGFwZS1yZW5kZXJpbmc6IGF1dG87IiB2aWV3Qm94PSIwIDAgMTAwIDEwMCIgcHJlc2VydmVBc3BlY3RSYXRpbz0ieE1pZFlNaWQiPiAgPGNpcmNsZSBjeD0iNTAiIGN5PSI1MCIgZmlsbD0ibm9uZSIgc3Ryb2tlPSIjYzNjM2MzIiBzdHJva2Utd2lkdGg9IjEwIiByPSIzNSIgc3Ryb2tlLWRhc2hhcnJheT0iMTY0LjkzMzYxNDMxMzQ2NDE1IDU2Ljk3Nzg3MTQzNzgyMTM4Ij4gICAgPGFuaW1hdGVUcmFuc2Zvcm0gYXR0cmlidXRlTmFtZT0idHJhbnNmb3JtIiB0eXBlPSJyb3RhdGUiIHJlcGVhdENvdW50PSJpbmRlZmluaXRlIiBkdXI9IjFzIiB2YWx1ZXM9IjAgNTAgNTA7MzYwIDUwIDUwIiBrZXlUaW1lcz0iMDsxIj48L2FuaW1hdGVUcmFuc2Zvcm0+ICA8L2NpcmNsZT48L3N2Zz4=\\\");\\n  background-size: auto calc(min(50%, 400px));\\n}\",{\"type\":\"object\",\"name\":\"ImportedStyleSheet\",\"id\":\"p1156\",\"attributes\":{\"url\":\"https://cdn.holoviz.org/panel/1.1.0/dist/css/loading.css\"}},{\"type\":\"object\",\"name\":\"ImportedStyleSheet\",\"id\":\"p1245\",\"attributes\":{\"url\":\"https://cdn.holoviz.org/panel/1.1.0/dist/css/listpanel.css\"}},{\"type\":\"object\",\"name\":\"ImportedStyleSheet\",\"id\":\"p1154\",\"attributes\":{\"url\":\"https://cdn.holoviz.org/panel/1.1.0/dist/bundled/theme/default.css\"}},{\"type\":\"object\",\"name\":\"ImportedStyleSheet\",\"id\":\"p1155\",\"attributes\":{\"url\":\"https://cdn.holoviz.org/panel/1.1.0/dist/bundled/theme/native.css\"}}],\"min_width\":0,\"margin\":0,\"sizing_mode\":\"stretch_width\",\"align\":\"start\",\"children\":[{\"type\":\"object\",\"name\":\"Spacer\",\"id\":\"p1157\",\"attributes\":{\"name\":\"HSpacer01001\",\"stylesheets\":[\"\\n:host(.pn-loading.pn-arc):before, .pn-loading.pn-arc:before {\\n  background-image: url(\\\"data:image/svg+xml;base64,PHN2ZyB4bWxucz0iaHR0cDovL3d3dy53My5vcmcvMjAwMC9zdmciIHN0eWxlPSJtYXJnaW46IGF1dG87IGJhY2tncm91bmQ6IG5vbmU7IGRpc3BsYXk6IGJsb2NrOyBzaGFwZS1yZW5kZXJpbmc6IGF1dG87IiB2aWV3Qm94PSIwIDAgMTAwIDEwMCIgcHJlc2VydmVBc3BlY3RSYXRpbz0ieE1pZFlNaWQiPiAgPGNpcmNsZSBjeD0iNTAiIGN5PSI1MCIgZmlsbD0ibm9uZSIgc3Ryb2tlPSIjYzNjM2MzIiBzdHJva2Utd2lkdGg9IjEwIiByPSIzNSIgc3Ryb2tlLWRhc2hhcnJheT0iMTY0LjkzMzYxNDMxMzQ2NDE1IDU2Ljk3Nzg3MTQzNzgyMTM4Ij4gICAgPGFuaW1hdGVUcmFuc2Zvcm0gYXR0cmlidXRlTmFtZT0idHJhbnNmb3JtIiB0eXBlPSJyb3RhdGUiIHJlcGVhdENvdW50PSJpbmRlZmluaXRlIiBkdXI9IjFzIiB2YWx1ZXM9IjAgNTAgNTA7MzYwIDUwIDUwIiBrZXlUaW1lcz0iMDsxIj48L2FuaW1hdGVUcmFuc2Zvcm0+ICA8L2NpcmNsZT48L3N2Zz4=\\\");\\n  background-size: auto calc(min(50%, 400px));\\n}\",{\"id\":\"p1156\"},{\"id\":\"p1154\"},{\"id\":\"p1155\"}],\"margin\":0,\"sizing_mode\":\"stretch_width\",\"align\":\"start\"}},{\"type\":\"object\",\"name\":\"Figure\",\"id\":\"p1161\",\"attributes\":{\"width\":700,\"height\":300,\"margin\":[5,10],\"sizing_mode\":\"fixed\",\"align\":\"start\",\"x_range\":{\"type\":\"object\",\"name\":\"Range1d\",\"id\":\"p1158\",\"attributes\":{\"tags\":[[[\"maf\",\"maf\",null]]],\"start\":-0.020422432714285715,\"end\":0.5205127027142857,\"reset_start\":-0.020422432714285715,\"reset_end\":0.5205127027142857}},\"y_range\":{\"type\":\"object\",\"name\":\"Range1d\",\"id\":\"p1159\",\"attributes\":{\"tags\":[[[\"maf_count\",\"Count\",null]]],\"end\":141.9,\"reset_start\":0.0,\"reset_end\":141.9}},\"x_scale\":{\"type\":\"object\",\"name\":\"LinearScale\",\"id\":\"p1173\"},\"y_scale\":{\"type\":\"object\",\"name\":\"LinearScale\",\"id\":\"p1175\"},\"title\":{\"type\":\"object\",\"name\":\"Title\",\"id\":\"p1164\",\"attributes\":{\"text_color\":\"black\",\"text_font_size\":\"12pt\"}},\"renderers\":[{\"type\":\"object\",\"name\":\"GlyphRenderer\",\"id\":\"p1215\",\"attributes\":{\"data_source\":{\"type\":\"object\",\"name\":\"ColumnDataSource\",\"id\":\"p1205\",\"attributes\":{\"selected\":{\"type\":\"object\",\"name\":\"Selection\",\"id\":\"p1207\",\"attributes\":{\"indices\":[],\"line_indices\":[]}},\"selection_policy\":{\"type\":\"object\",\"name\":\"UnionRenderers\",\"id\":\"p1206\"},\"data\":{\"type\":\"map\",\"entries\":[[\"top\",{\"type\":\"ndarray\",\"array\":{\"type\":\"bytes\",\"data\":\"ggAAADQAAAAuAAAAIQAAACEAAAAgAAAAGAAAACgAAAAOAAAAEQAAAA8AAAAOAAAAEQAAABMAAAAVAAAADQAAABQAAAASAAAADQAAAA4AAAAUAAAADwAAABMAAAATAAAAFQAAABEAAAAVAAAAHAAAAA8AAAAbAAAAEwAAAA8AAAAUAAAAEAAAABEAAAATAAAAEQAAABEAAAAMAAAAFgAAAB0AAAAVAAAAFwAAABIAAAAPAAAAEgAAABAAAAALAAAAEAAAAAwAAAA=\"},\"shape\":[50],\"dtype\":\"int32\",\"order\":\"little\"}],[\"left\",{\"type\":\"ndarray\",\"array\":{\"type\":\"bytes\",\"data\":\"nE/8nKt7Tj8B9jX5C1CGP4QTTpwuXJU/BywBPFeQnz9FItrtP+KkP4eusz1U/Kk/yDqNjWgWrz+FY7NuPhiyP6YpoJZIpbQ/x++MvlIytz/otXnmXL+5Pwl8Zg5nTLw/KUJTNnHZvj8mBCCvPbPAPzZnFsPC+cE/R8oM10dAwz9XLQPrzIbEP2eQ+f5RzcU/ePPvEtcTxz+IVuYmXFrIP5m53DrhoMk/qRzTTmbnyj+6f8li6y3MP8riv3ZwdM0/2kW2ivW6zj91VFZPvQDQP/6FUdn/o9A/hrdMY0JH0T8O6UfthOrRP5YaQ3fHjdI/H0w+AQox0z+nfTmLTNTTPy+vNBWPd9Q/t+Avn9Ea1T8/EispFL7VP8hDJrNWYdY/UHUhPZkE1z/YphzH26fXP2DYF1EeS9g/6QkT22Du2D9xOw5lo5HZP/lsCe/lNNo/gZ4EeSjY2j8J0P8Ca3vbP5IB+4ytHtw/GjP2FvDB3D+iZPGgMmXdPyqW7Cp1CN4/ssfntLer3j87+eI++k7fPw==\"},\"shape\":[50],\"dtype\":\"float64\",\"order\":\"little\"}],[\"right\",{\"type\":\"ndarray\",\"array\":{\"type\":\"bytes\",\"data\":\"AfY1+QtQhj+EE06cLlyVPwcsATxXkJ8/RSLa7T/ipD+HrrM9VPypP8g6jY1oFq8/hWOzbj4Ysj+mKaCWSKW0P8fvjL5SMrc/6LV55ly/uT8JfGYOZ0y8PylCUzZx2b4/JgQgrz2zwD82ZxbDwvnBP0fKDNdHQMM/Vy0D68yGxD9nkPn+Uc3FP3jz7xLXE8c/iFbmJlxayD+Zudw64aDJP6kc005m58o/un/JYustzD/K4r92cHTNP9pFtor1us4/dVRWT70A0D/+hVHZ/6PQP4a3TGNCR9E/DulH7YTq0T+WGkN3x43SPx9MPgEKMdM/p305i0zU0z8vrzQVj3fUP7fgL5/RGtU/PxIrKRS+1T/IQyazVmHWP1B1IT2ZBNc/2KYcx9un1z9g2BdRHkvYP+kJE9tg7tg/cTsOZaOR2T/5bAnv5TTaP4GeBHko2No/CdD/Amt72z+SAfuMrR7cPxoz9hbwwdw/omTxoDJl3T8qluwqdQjeP7LH57S3q94/O/niPvpO3z/DKt7IPPLfPw==\"},\"shape\":[50],\"dtype\":\"float64\",\"order\":\"little\"}],[\"maf\",{\"type\":\"ndarray\",\"array\":{\"type\":\"bytes\",\"data\":\"+roFs8Y3eD9Ch3RMGkKQP8afJ+xCdpo/JFztxTVVoj9m6MYVSm+nP6h0oGVeiaw/dAC9WrnRsD+WxqmCw16zP7aMlqrN67U/2FKD0td4uD/4GHD64QW7PxnfXCLskr0/ndIkJfsPwD+uNRs5gFbBP76YEU0FncI/z/sHYYrjwz/fXv50DyrFP/DB9IiUcMY/ACXrnBm3xz8QiOGwnv3IPyHr18QjRMo/Mk7O2KiKyz9CscTsLdHMP1IUuwCzF84/YnexFDhezz867VOUXlLQP8IeTx6h9dA/SlBKqOOY0T/SgUUyJjzSP1qzQLxo39I/4+Q7RquC0z9rFjfQ7SXUP/NHMlowydQ/e3kt5HJs1T8EqyhutQ/WP4zcI/j3stY/FA4fgjpW1z+cPxoMffnXPyRxFZa/nNg/raIQIAJA2T811AuqROPZP70FBzSHhto/RTcCvskp2z/OaP1HDM3bP1aa+NFOcNw/3svzW5ET3T9m/e7l07bdP+4u6m8WWt4/dmDl+Vj93j//keCDm6DfPw==\"},\"shape\":[50],\"dtype\":\"float64\",\"order\":\"little\"}],[\"maf_count\",{\"type\":\"ndarray\",\"array\":{\"type\":\"bytes\",\"data\":\"ggAAADQAAAAuAAAAIQAAACEAAAAgAAAAGAAAACgAAAAOAAAAEQAAAA8AAAAOAAAAEQAAABMAAAAVAAAADQAAABQAAAASAAAADQAAAA4AAAAUAAAADwAAABMAAAATAAAAFQAAABEAAAAVAAAAHAAAAA8AAAAbAAAAEwAAAA8AAAAUAAAAEAAAABEAAAATAAAAEQAAABEAAAAMAAAAFgAAAB0AAAAVAAAAFwAAABIAAAAPAAAAEgAAABAAAAALAAAAEAAAAAwAAAA=\"},\"shape\":[50],\"dtype\":\"int32\",\"order\":\"little\"}]]}}},\"view\":{\"type\":\"object\",\"name\":\"CDSView\",\"id\":\"p1216\",\"attributes\":{\"filter\":{\"type\":\"object\",\"name\":\"AllIndices\",\"id\":\"p1217\"}}},\"glyph\":{\"type\":\"object\",\"name\":\"Quad\",\"id\":\"p1212\",\"attributes\":{\"tags\":[\"apply_ranges\"],\"left\":{\"type\":\"field\",\"field\":\"left\"},\"right\":{\"type\":\"field\",\"field\":\"right\"},\"bottom\":{\"type\":\"value\",\"value\":0},\"top\":{\"type\":\"field\",\"field\":\"top\"},\"fill_color\":{\"type\":\"value\",\"value\":\"#30a2da\"},\"hatch_color\":{\"type\":\"value\",\"value\":\"#30a2da\"}}},\"selection_glyph\":{\"type\":\"object\",\"name\":\"Quad\",\"id\":\"p1218\",\"attributes\":{\"tags\":[\"apply_ranges\"],\"left\":{\"type\":\"field\",\"field\":\"left\"},\"right\":{\"type\":\"field\",\"field\":\"right\"},\"bottom\":{\"type\":\"value\",\"value\":0},\"top\":{\"type\":\"field\",\"field\":\"top\"},\"line_color\":{\"type\":\"value\",\"value\":\"black\"},\"line_alpha\":{\"type\":\"value\",\"value\":1.0},\"line_width\":{\"type\":\"value\",\"value\":1},\"line_join\":{\"type\":\"value\",\"value\":\"bevel\"},\"line_cap\":{\"type\":\"value\",\"value\":\"butt\"},\"line_dash\":{\"type\":\"value\",\"value\":[]},\"line_dash_offset\":{\"type\":\"value\",\"value\":0},\"fill_color\":{\"type\":\"value\",\"value\":\"#30a2da\"},\"fill_alpha\":{\"type\":\"value\",\"value\":1.0},\"hatch_color\":{\"type\":\"value\",\"value\":\"#30a2da\"},\"hatch_alpha\":{\"type\":\"value\",\"value\":1.0},\"hatch_scale\":{\"type\":\"value\",\"value\":12.0},\"hatch_pattern\":{\"type\":\"value\",\"value\":null},\"hatch_weight\":{\"type\":\"value\",\"value\":1.0}}},\"nonselection_glyph\":{\"type\":\"object\",\"name\":\"Quad\",\"id\":\"p1213\",\"attributes\":{\"tags\":[\"apply_ranges\"],\"left\":{\"type\":\"field\",\"field\":\"left\"},\"right\":{\"type\":\"field\",\"field\":\"right\"},\"bottom\":{\"type\":\"value\",\"value\":0},\"top\":{\"type\":\"field\",\"field\":\"top\"},\"line_alpha\":{\"type\":\"value\",\"value\":0.1},\"fill_color\":{\"type\":\"value\",\"value\":\"#30a2da\"},\"fill_alpha\":{\"type\":\"value\",\"value\":0.1},\"hatch_color\":{\"type\":\"value\",\"value\":\"#30a2da\"},\"hatch_alpha\":{\"type\":\"value\",\"value\":0.1}}},\"muted_glyph\":{\"type\":\"object\",\"name\":\"Quad\",\"id\":\"p1214\",\"attributes\":{\"tags\":[\"apply_ranges\"],\"left\":{\"type\":\"field\",\"field\":\"left\"},\"right\":{\"type\":\"field\",\"field\":\"right\"},\"bottom\":{\"type\":\"value\",\"value\":0},\"top\":{\"type\":\"field\",\"field\":\"top\"},\"line_alpha\":{\"type\":\"value\",\"value\":0.2},\"fill_color\":{\"type\":\"value\",\"value\":\"#30a2da\"},\"fill_alpha\":{\"type\":\"value\",\"value\":0.2},\"hatch_color\":{\"type\":\"value\",\"value\":\"#30a2da\"},\"hatch_alpha\":{\"type\":\"value\",\"value\":0.2}}}}}],\"toolbar\":{\"type\":\"object\",\"name\":\"Toolbar\",\"id\":\"p1170\",\"attributes\":{\"tools\":[{\"type\":\"object\",\"name\":\"HoverTool\",\"id\":\"p1160\",\"attributes\":{\"tags\":[\"hv_created\"],\"renderers\":[{\"id\":\"p1215\"}],\"tooltips\":[[\"maf\",\"@{maf}\"],[\"Count\",\"@{maf_count}\"]]}},{\"type\":\"object\",\"name\":\"SaveTool\",\"id\":\"p1191\"},{\"type\":\"object\",\"name\":\"PanTool\",\"id\":\"p1192\"},{\"type\":\"object\",\"name\":\"WheelZoomTool\",\"id\":\"p1193\"},{\"type\":\"object\",\"name\":\"BoxZoomTool\",\"id\":\"p1194\",\"attributes\":{\"overlay\":{\"type\":\"object\",\"name\":\"BoxAnnotation\",\"id\":\"p1195\",\"attributes\":{\"syncable\":false,\"level\":\"overlay\",\"visible\":false,\"left_units\":\"canvas\",\"right_units\":\"canvas\",\"bottom_units\":\"canvas\",\"top_units\":\"canvas\",\"line_color\":\"black\",\"line_alpha\":1.0,\"line_width\":2,\"line_dash\":[4,4],\"fill_color\":\"lightgrey\",\"fill_alpha\":0.5}}}},{\"type\":\"object\",\"name\":\"ResetTool\",\"id\":\"p1196\"}],\"active_drag\":{\"id\":\"p1192\"},\"active_scroll\":{\"id\":\"p1193\"}}},\"left\":[{\"type\":\"object\",\"name\":\"LinearAxis\",\"id\":\"p1184\",\"attributes\":{\"ticker\":{\"type\":\"object\",\"name\":\"BasicTicker\",\"id\":\"p1186\",\"attributes\":{\"mantissas\":[1,2,5]}},\"formatter\":{\"type\":\"object\",\"name\":\"BasicTickFormatter\",\"id\":\"p1187\"},\"axis_label\":\"\",\"major_label_policy\":{\"type\":\"object\",\"name\":\"AllLabels\",\"id\":\"p1185\"}}}],\"below\":[{\"type\":\"object\",\"name\":\"LinearAxis\",\"id\":\"p1177\",\"attributes\":{\"ticker\":{\"type\":\"object\",\"name\":\"BasicTicker\",\"id\":\"p1179\",\"attributes\":{\"mantissas\":[1,2,5]}},\"formatter\":{\"type\":\"object\",\"name\":\"BasicTickFormatter\",\"id\":\"p1180\"},\"axis_label\":\"maf\",\"major_label_policy\":{\"type\":\"object\",\"name\":\"AllLabels\",\"id\":\"p1178\"}}}],\"center\":[{\"type\":\"object\",\"name\":\"Grid\",\"id\":\"p1183\",\"attributes\":{\"axis\":{\"id\":\"p1177\"},\"grid_line_color\":null}},{\"type\":\"object\",\"name\":\"Grid\",\"id\":\"p1190\",\"attributes\":{\"dimension\":1,\"axis\":{\"id\":\"p1184\"},\"grid_line_color\":null}}],\"min_border_top\":10,\"min_border_bottom\":10,\"min_border_left\":10,\"min_border_right\":10,\"output_backend\":\"webgl\"}},{\"type\":\"object\",\"name\":\"Spacer\",\"id\":\"p1243\",\"attributes\":{\"name\":\"HSpacer01004\",\"stylesheets\":[\"\\n:host(.pn-loading.pn-arc):before, .pn-loading.pn-arc:before {\\n  background-image: url(\\\"data:image/svg+xml;base64,PHN2ZyB4bWxucz0iaHR0cDovL3d3dy53My5vcmcvMjAwMC9zdmciIHN0eWxlPSJtYXJnaW46IGF1dG87IGJhY2tncm91bmQ6IG5vbmU7IGRpc3BsYXk6IGJsb2NrOyBzaGFwZS1yZW5kZXJpbmc6IGF1dG87IiB2aWV3Qm94PSIwIDAgMTAwIDEwMCIgcHJlc2VydmVBc3BlY3RSYXRpbz0ieE1pZFlNaWQiPiAgPGNpcmNsZSBjeD0iNTAiIGN5PSI1MCIgZmlsbD0ibm9uZSIgc3Ryb2tlPSIjYzNjM2MzIiBzdHJva2Utd2lkdGg9IjEwIiByPSIzNSIgc3Ryb2tlLWRhc2hhcnJheT0iMTY0LjkzMzYxNDMxMzQ2NDE1IDU2Ljk3Nzg3MTQzNzgyMTM4Ij4gICAgPGFuaW1hdGVUcmFuc2Zvcm0gYXR0cmlidXRlTmFtZT0idHJhbnNmb3JtIiB0eXBlPSJyb3RhdGUiIHJlcGVhdENvdW50PSJpbmRlZmluaXRlIiBkdXI9IjFzIiB2YWx1ZXM9IjAgNTAgNTA7MzYwIDUwIDUwIiBrZXlUaW1lcz0iMDsxIj48L2FuaW1hdGVUcmFuc2Zvcm0+ICA8L2NpcmNsZT48L3N2Zz4=\\\");\\n  background-size: auto calc(min(50%, 400px));\\n}\",{\"id\":\"p1156\"},{\"id\":\"p1154\"},{\"id\":\"p1155\"}],\"margin\":0,\"sizing_mode\":\"stretch_width\",\"align\":\"start\"}}]}}],\"callbacks\":{\"type\":\"map\"}}};\n",
       "  var render_items = [{\"docid\":\"e78e0fe7-1c08-48a7-91b9-1574fc528d35\",\"roots\":{\"p1153\":\"c592705a-ea98-4496-83b4-6f6454733fe3\"},\"root_ids\":[\"p1153\"]}];\n",
       "  var docs = Object.values(docs_json)\n",
       "  if (!docs) {\n",
       "    return\n",
       "  }\n",
       "  const py_version = docs[0].version.replace('rc', '-rc.')\n",
       "  const is_dev = py_version.indexOf(\"+\") !== -1 || py_version.indexOf(\"-\") !== -1\n",
       "  function embed_document(root) {\n",
       "    var Bokeh = get_bokeh(root)\n",
       "    Bokeh.embed.embed_items_notebook(docs_json, render_items);\n",
       "    for (const render_item of render_items) {\n",
       "      for (const root_id of render_item.root_ids) {\n",
       "\tconst id_el = document.getElementById(root_id)\n",
       "\tif (id_el.children.length && (id_el.children[0].className === 'bk-root')) {\n",
       "\t  const root_el = id_el.children[0]\n",
       "\t  root_el.id = root_el.id + '-rendered'\n",
       "\t}\n",
       "      }\n",
       "    }\n",
       "  }\n",
       "  function get_bokeh(root) {\n",
       "    if (root.Bokeh === undefined) {\n",
       "      return null\n",
       "    } else if (root.Bokeh.version !== py_version && !is_dev) {\n",
       "      if (root.Bokeh.versions === undefined || !root.Bokeh.versions.has(py_version)) {\n",
       "\treturn null\n",
       "      }\n",
       "      return root.Bokeh.versions.get(py_version);\n",
       "    } else if (root.Bokeh.version === py_version) {\n",
       "      return root.Bokeh\n",
       "    }\n",
       "    return null\n",
       "  }\n",
       "  function is_loaded(root) {\n",
       "    var Bokeh = get_bokeh(root)\n",
       "    return (Bokeh != null && Bokeh.Panel !== undefined)\n",
       "  }\n",
       "  if (is_loaded(root)) {\n",
       "    embed_document(root);\n",
       "  } else {\n",
       "    var attempts = 0;\n",
       "    var timer = setInterval(function(root) {\n",
       "      if (is_loaded(root)) {\n",
       "        clearInterval(timer);\n",
       "        embed_document(root);\n",
       "      } else if (document.readyState == \"complete\") {\n",
       "        attempts++;\n",
       "        if (attempts > 200) {\n",
       "          clearInterval(timer);\n",
       "\t  var Bokeh = get_bokeh(root)\n",
       "\t  if (Bokeh == null || Bokeh.Panel == null) {\n",
       "            console.warn(\"Panel: ERROR: Unable to run Panel code because Bokeh or Panel library is missing\");\n",
       "\t  } else {\n",
       "\t    console.warn(\"Panel: WARNING: Attempting to render but not all required libraries could be resolved.\")\n",
       "\t    embed_document(root)\n",
       "\t  }\n",
       "        }\n",
       "      }\n",
       "    }, 25, root)\n",
       "  }\n",
       "})(window);</script>"
      ],
      "text/plain": [
       ":Histogram   [maf]   (maf_count)"
      ]
     },
     "execution_count": 11,
     "metadata": {
      "application/vnd.holoviews_exec.v0+json": {
       "id": "p1153"
      }
     },
     "output_type": "execute_result"
    }
   ],
   "source": [
    "V.filter(pl.col(\"label\"))[\"maf\"].plot.hist(bins=50)"
   ]
  },
  {
   "cell_type": "code",
   "execution_count": 12,
   "metadata": {},
   "outputs": [
    {
     "data": {},
     "metadata": {},
     "output_type": "display_data"
    },
    {
     "data": {
      "application/vnd.holoviews_exec.v0+json": "",
      "text/html": [
       "<div id='p1304'>\n",
       "  <div id=\"bd88e73d-8af0-4b89-838b-8ccc4f1143cf\" data-root-id=\"p1304\" style=\"display: contents;\"></div>\n",
       "</div>\n",
       "<script type=\"application/javascript\">(function(root) {\n",
       "  var docs_json = {\"98b13f53-34f6-4040-abd1-23a9d03e3012\":{\"version\":\"3.1.1\",\"title\":\"Bokeh Application\",\"defs\":[{\"type\":\"model\",\"name\":\"ReactiveHTML1\"},{\"type\":\"model\",\"name\":\"FlexBox1\",\"properties\":[{\"name\":\"align_content\",\"kind\":\"Any\",\"default\":\"flex-start\"},{\"name\":\"align_items\",\"kind\":\"Any\",\"default\":\"flex-start\"},{\"name\":\"flex_direction\",\"kind\":\"Any\",\"default\":\"row\"},{\"name\":\"flex_wrap\",\"kind\":\"Any\",\"default\":\"wrap\"},{\"name\":\"justify_content\",\"kind\":\"Any\",\"default\":\"flex-start\"}]},{\"type\":\"model\",\"name\":\"FloatPanel1\",\"properties\":[{\"name\":\"config\",\"kind\":\"Any\",\"default\":{\"type\":\"map\"}},{\"name\":\"contained\",\"kind\":\"Any\",\"default\":true},{\"name\":\"position\",\"kind\":\"Any\",\"default\":\"right-top\"},{\"name\":\"offsetx\",\"kind\":\"Any\",\"default\":null},{\"name\":\"offsety\",\"kind\":\"Any\",\"default\":null},{\"name\":\"theme\",\"kind\":\"Any\",\"default\":\"primary\"},{\"name\":\"status\",\"kind\":\"Any\",\"default\":\"normalized\"}]},{\"type\":\"model\",\"name\":\"GridStack1\",\"properties\":[{\"name\":\"mode\",\"kind\":\"Any\",\"default\":\"warn\"},{\"name\":\"ncols\",\"kind\":\"Any\",\"default\":null},{\"name\":\"nrows\",\"kind\":\"Any\",\"default\":null},{\"name\":\"allow_resize\",\"kind\":\"Any\",\"default\":true},{\"name\":\"allow_drag\",\"kind\":\"Any\",\"default\":true},{\"name\":\"state\",\"kind\":\"Any\",\"default\":[]}]},{\"type\":\"model\",\"name\":\"drag1\",\"properties\":[{\"name\":\"slider_width\",\"kind\":\"Any\",\"default\":5},{\"name\":\"slider_color\",\"kind\":\"Any\",\"default\":\"black\"},{\"name\":\"value\",\"kind\":\"Any\",\"default\":50}]},{\"type\":\"model\",\"name\":\"click1\",\"properties\":[{\"name\":\"terminal_output\",\"kind\":\"Any\",\"default\":\"\"},{\"name\":\"debug_name\",\"kind\":\"Any\",\"default\":\"\"},{\"name\":\"clears\",\"kind\":\"Any\",\"default\":0}]},{\"type\":\"model\",\"name\":\"FastWrapper1\",\"properties\":[{\"name\":\"object\",\"kind\":\"Any\",\"default\":null},{\"name\":\"style\",\"kind\":\"Any\",\"default\":null}]},{\"type\":\"model\",\"name\":\"NotificationAreaBase1\",\"properties\":[{\"name\":\"position\",\"kind\":\"Any\",\"default\":\"bottom-right\"},{\"name\":\"_clear\",\"kind\":\"Any\",\"default\":0}]},{\"type\":\"model\",\"name\":\"NotificationArea1\",\"properties\":[{\"name\":\"notifications\",\"kind\":\"Any\",\"default\":[]},{\"name\":\"position\",\"kind\":\"Any\",\"default\":\"bottom-right\"},{\"name\":\"_clear\",\"kind\":\"Any\",\"default\":0},{\"name\":\"types\",\"kind\":\"Any\",\"default\":[{\"type\":\"map\",\"entries\":[[\"type\",\"warning\"],[\"background\",\"#ffc107\"],[\"icon\",{\"type\":\"map\",\"entries\":[[\"className\",\"fas fa-exclamation-triangle\"],[\"tagName\",\"i\"],[\"color\",\"white\"]]}]]},{\"type\":\"map\",\"entries\":[[\"type\",\"info\"],[\"background\",\"#007bff\"],[\"icon\",{\"type\":\"map\",\"entries\":[[\"className\",\"fas fa-info-circle\"],[\"tagName\",\"i\"],[\"color\",\"white\"]]}]]}]}]},{\"type\":\"model\",\"name\":\"Notification\",\"properties\":[{\"name\":\"background\",\"kind\":\"Any\",\"default\":null},{\"name\":\"duration\",\"kind\":\"Any\",\"default\":3000},{\"name\":\"icon\",\"kind\":\"Any\",\"default\":null},{\"name\":\"message\",\"kind\":\"Any\",\"default\":\"\"},{\"name\":\"notification_type\",\"kind\":\"Any\",\"default\":null},{\"name\":\"_destroyed\",\"kind\":\"Any\",\"default\":false}]},{\"type\":\"model\",\"name\":\"TemplateActions1\",\"properties\":[{\"name\":\"open_modal\",\"kind\":\"Any\",\"default\":0},{\"name\":\"close_modal\",\"kind\":\"Any\",\"default\":0}]},{\"type\":\"model\",\"name\":\"BootstrapTemplateActions1\",\"properties\":[{\"name\":\"open_modal\",\"kind\":\"Any\",\"default\":0},{\"name\":\"close_modal\",\"kind\":\"Any\",\"default\":0}]},{\"type\":\"model\",\"name\":\"MaterialTemplateActions1\",\"properties\":[{\"name\":\"open_modal\",\"kind\":\"Any\",\"default\":0},{\"name\":\"close_modal\",\"kind\":\"Any\",\"default\":0}]}],\"roots\":[{\"type\":\"object\",\"name\":\"Row\",\"id\":\"p1304\",\"attributes\":{\"name\":\"Row01112\",\"tags\":[\"embedded\"],\"stylesheets\":[\"\\n:host(.pn-loading.pn-arc):before, .pn-loading.pn-arc:before {\\n  background-image: url(\\\"data:image/svg+xml;base64,PHN2ZyB4bWxucz0iaHR0cDovL3d3dy53My5vcmcvMjAwMC9zdmciIHN0eWxlPSJtYXJnaW46IGF1dG87IGJhY2tncm91bmQ6IG5vbmU7IGRpc3BsYXk6IGJsb2NrOyBzaGFwZS1yZW5kZXJpbmc6IGF1dG87IiB2aWV3Qm94PSIwIDAgMTAwIDEwMCIgcHJlc2VydmVBc3BlY3RSYXRpbz0ieE1pZFlNaWQiPiAgPGNpcmNsZSBjeD0iNTAiIGN5PSI1MCIgZmlsbD0ibm9uZSIgc3Ryb2tlPSIjYzNjM2MzIiBzdHJva2Utd2lkdGg9IjEwIiByPSIzNSIgc3Ryb2tlLWRhc2hhcnJheT0iMTY0LjkzMzYxNDMxMzQ2NDE1IDU2Ljk3Nzg3MTQzNzgyMTM4Ij4gICAgPGFuaW1hdGVUcmFuc2Zvcm0gYXR0cmlidXRlTmFtZT0idHJhbnNmb3JtIiB0eXBlPSJyb3RhdGUiIHJlcGVhdENvdW50PSJpbmRlZmluaXRlIiBkdXI9IjFzIiB2YWx1ZXM9IjAgNTAgNTA7MzYwIDUwIDUwIiBrZXlUaW1lcz0iMDsxIj48L2FuaW1hdGVUcmFuc2Zvcm0+ICA8L2NpcmNsZT48L3N2Zz4=\\\");\\n  background-size: auto calc(min(50%, 400px));\\n}\",{\"type\":\"object\",\"name\":\"ImportedStyleSheet\",\"id\":\"p1307\",\"attributes\":{\"url\":\"https://cdn.holoviz.org/panel/1.1.0/dist/css/loading.css\"}},{\"type\":\"object\",\"name\":\"ImportedStyleSheet\",\"id\":\"p1396\",\"attributes\":{\"url\":\"https://cdn.holoviz.org/panel/1.1.0/dist/css/listpanel.css\"}},{\"type\":\"object\",\"name\":\"ImportedStyleSheet\",\"id\":\"p1305\",\"attributes\":{\"url\":\"https://cdn.holoviz.org/panel/1.1.0/dist/bundled/theme/default.css\"}},{\"type\":\"object\",\"name\":\"ImportedStyleSheet\",\"id\":\"p1306\",\"attributes\":{\"url\":\"https://cdn.holoviz.org/panel/1.1.0/dist/bundled/theme/native.css\"}}],\"min_width\":0,\"margin\":0,\"sizing_mode\":\"stretch_width\",\"align\":\"start\",\"children\":[{\"type\":\"object\",\"name\":\"Spacer\",\"id\":\"p1308\",\"attributes\":{\"name\":\"HSpacer01123\",\"stylesheets\":[\"\\n:host(.pn-loading.pn-arc):before, .pn-loading.pn-arc:before {\\n  background-image: url(\\\"data:image/svg+xml;base64,PHN2ZyB4bWxucz0iaHR0cDovL3d3dy53My5vcmcvMjAwMC9zdmciIHN0eWxlPSJtYXJnaW46IGF1dG87IGJhY2tncm91bmQ6IG5vbmU7IGRpc3BsYXk6IGJsb2NrOyBzaGFwZS1yZW5kZXJpbmc6IGF1dG87IiB2aWV3Qm94PSIwIDAgMTAwIDEwMCIgcHJlc2VydmVBc3BlY3RSYXRpbz0ieE1pZFlNaWQiPiAgPGNpcmNsZSBjeD0iNTAiIGN5PSI1MCIgZmlsbD0ibm9uZSIgc3Ryb2tlPSIjYzNjM2MzIiBzdHJva2Utd2lkdGg9IjEwIiByPSIzNSIgc3Ryb2tlLWRhc2hhcnJheT0iMTY0LjkzMzYxNDMxMzQ2NDE1IDU2Ljk3Nzg3MTQzNzgyMTM4Ij4gICAgPGFuaW1hdGVUcmFuc2Zvcm0gYXR0cmlidXRlTmFtZT0idHJhbnNmb3JtIiB0eXBlPSJyb3RhdGUiIHJlcGVhdENvdW50PSJpbmRlZmluaXRlIiBkdXI9IjFzIiB2YWx1ZXM9IjAgNTAgNTA7MzYwIDUwIDUwIiBrZXlUaW1lcz0iMDsxIj48L2FuaW1hdGVUcmFuc2Zvcm0+ICA8L2NpcmNsZT48L3N2Zz4=\\\");\\n  background-size: auto calc(min(50%, 400px));\\n}\",{\"id\":\"p1307\"},{\"id\":\"p1305\"},{\"id\":\"p1306\"}],\"margin\":0,\"sizing_mode\":\"stretch_width\",\"align\":\"start\"}},{\"type\":\"object\",\"name\":\"Figure\",\"id\":\"p1312\",\"attributes\":{\"width\":700,\"height\":300,\"margin\":[5,10],\"sizing_mode\":\"fixed\",\"align\":\"start\",\"x_range\":{\"type\":\"object\",\"name\":\"Range1d\",\"id\":\"p1309\",\"attributes\":{\"tags\":[[[\"maf\",\"maf\",null]]],\"start\":-0.021423762605714283,\"end\":0.5214283738057143,\"reset_start\":-0.021423762605714283,\"reset_end\":0.5214283738057143}},\"y_range\":{\"type\":\"object\",\"name\":\"Range1d\",\"id\":\"p1310\",\"attributes\":{\"tags\":[[[\"maf_count\",\"Count\",null]]],\"end\":4458492.4,\"reset_start\":0.0,\"reset_end\":4458492.4}},\"x_scale\":{\"type\":\"object\",\"name\":\"LinearScale\",\"id\":\"p1324\"},\"y_scale\":{\"type\":\"object\",\"name\":\"LinearScale\",\"id\":\"p1326\"},\"title\":{\"type\":\"object\",\"name\":\"Title\",\"id\":\"p1315\",\"attributes\":{\"text_color\":\"black\",\"text_font_size\":\"12pt\"}},\"renderers\":[{\"type\":\"object\",\"name\":\"GlyphRenderer\",\"id\":\"p1366\",\"attributes\":{\"data_source\":{\"type\":\"object\",\"name\":\"ColumnDataSource\",\"id\":\"p1356\",\"attributes\":{\"selected\":{\"type\":\"object\",\"name\":\"Selection\",\"id\":\"p1358\",\"attributes\":{\"indices\":[],\"line_indices\":[]}},\"selection_policy\":{\"type\":\"object\",\"name\":\"UnionRenderers\",\"id\":\"p1357\"},\"data\":{\"type\":\"map\",\"entries\":[[\"top\",{\"type\":\"ndarray\",\"array\":{\"type\":\"bytes\",\"data\":\"nfY9ABz0DgDCqAgA81YGAOf8BAAlPgQAy74DAPhHAwCyBwMAecYCALSoAgBzggIA33ECAM5EAgAgJwIADAsCAOEEAgAn+QEAKOsBAN7VAQDOywEATrsBAPDCAQDfnwEAzKkBAA2QAQABmwEANI8BAOx9AQDbgAEANIABAJx5AQDadwEAsmwBAFBiAQCfbAEA/GcBAN1mAQBQZQEAfWEBAPxWAQB+WAEAilMBAM9OAQBPYQEARVgBAONIAQB/VgEArk0BAAhTAQA=\"},\"shape\":[50],\"dtype\":\"int32\",\"order\":\"little\"}],[\"left\",{\"type\":\"ndarray\",\"array\":{\"type\":\"bytes\",\"data\":\"X+wmAT1X0z5UV4POP32EP+VEs1oKfJQ/IN4kznS5nj+tO8ugb3ukP0sIhNokmqk/6NQ8FNq4rj/D0Pqmx+uxPxI310Mie7Q/YZ2z4HwKtz+wA5B915m5P/5pbBoyKbw/TdBIt4y4vj9OmxKq86PAP3XOgPig68E/nQHvRk4zwz/ENF2V+3rEP+tny+OowsU/E5s5MlYKxz86zqeAA1LIP2IBFs+wmck/iTSEHV7hyj+wZ/JrCynMP9iaYLq4cM0//83OCGa4zj+TgJ6rCQDQPyea1VLgo9A/u7MM+rZH0T9OzUOhjevRP+Lmekhkj9I/dgCy7zoz0z8JGumWEdfTP50zID7oetQ/MU1X5b4e1T/EZo6MlcLVP1iAxTNsZtY/7Jn82kIK1z9/szOCGa7XPxPNainwUdg/p+ah0Mb12D87ANl3nZnZP84ZEB90Pdo/YjNHxkrh2j/2TH5tIYXbP4lmtRT4KNw/HYDsu87M3D+xmSNjpXDdP0SzWgp8FN4/2MyRsVK43j9s5shYKVzfPw==\"},\"shape\":[50],\"dtype\":\"float64\",\"order\":\"little\"}],[\"right\",{\"type\":\"ndarray\",\"array\":{\"type\":\"bytes\",\"data\":\"VFeDzj99hD/lRLNaCnyUPyDeJM50uZ4/rTvLoG97pD9LCITaJJqpP+jUPBTauK4/w9D6psfrsT8SN9dDInu0P2Gds+B8Crc/sAOQfdeZuT/+aWwaMim8P03QSLeMuL4/TpsSqvOjwD91zoD4oOvBP50B70ZOM8M/xDRdlft6xD/rZ8vjqMLFPxObOTJWCsc/Os6ngANSyD9iARbPsJnJP4k0hB1e4co/sGfyawspzD/YmmC6uHDNP//NzghmuM4/k4CeqwkA0D8nmtVS4KPQP7uzDPq2R9E/Ts1DoY3r0T/i5npIZI/SP3YAsu86M9M/CRrplhHX0z+dMyA+6HrUPzFNV+W+HtU/xGaOjJXC1T9YgMUzbGbWP+yZ/NpCCtc/f7Mzghmu1z8TzWop8FHYP6fmodDG9dg/OwDZd52Z2T/OGRAfdD3aP2IzR8ZK4do/9kx+bSGF2z+JZrUU+CjcPx2A7LvOzNw/sZkjY6Vw3T9Es1oKfBTeP9jMkbFSuN4/bObIWClc3z8AAAAAAADgPw==\"},\"shape\":[50],\"dtype\":\"float64\",\"order\":\"little\"}],[\"maf\",{\"type\":\"ndarray\",\"array\":{\"type\":\"bytes\",\"data\":\"MXwjtqp/dD+P8PRBqrqOP4IRbJS/mpk/XtXuAxXsoT/8oac9ygqnP5puYHd/Kaw/nJ2MWBqksD/qA2n1dDOzPzpqRZLPwrU/iNAhLypSuD/XNv7LhOG6Pyad2mjfcL0/uoHbAh0AwD/itElRykfBPwnot593j8I/MBsm7iTXwz9YTpQ80h7FP3+BAot/ZsY/prRw2Syuxz/O594n2vXIP/YaTXaHPco/HE67xDSFyz9EgSkT4szMP2y0l2GPFM4/kucFsDxczz9dDTr/9FHQP/EmcabL9dA/hECoTaKZ0T8YWt/0eD3SP6xzFpxP4dI/QI1NQyaF0z/TpoTq/CjUP2fAu5HTzNQ/+tnyOKpw1T+O8ynggBTWPyINYYdXuNY/tiaYLi5c1z9JQM/VBADYP91ZBn3bo9g/cXM9JLJH2T8EjXTLiOvZP5imq3Jfj9o/LMDiGTYz2z/A2RnBDNfbP1PzUGjjetw/5wyID7oe3T96Jr+2kMLdPw5A9l1nZt4/olktBT4K3z82c2SsFK7fPw==\"},\"shape\":[50],\"dtype\":\"float64\",\"order\":\"little\"}],[\"maf_count\",{\"type\":\"ndarray\",\"array\":{\"type\":\"bytes\",\"data\":\"nfY9ABz0DgDCqAgA81YGAOf8BAAlPgQAy74DAPhHAwCyBwMAecYCALSoAgBzggIA33ECAM5EAgAgJwIADAsCAOEEAgAn+QEAKOsBAN7VAQDOywEATrsBAPDCAQDfnwEAzKkBAA2QAQABmwEANI8BAOx9AQDbgAEANIABAJx5AQDadwEAsmwBAFBiAQCfbAEA/GcBAN1mAQBQZQEAfWEBAPxWAQB+WAEAilMBAM9OAQBPYQEARVgBAONIAQB/VgEArk0BAAhTAQA=\"},\"shape\":[50],\"dtype\":\"int32\",\"order\":\"little\"}]]}}},\"view\":{\"type\":\"object\",\"name\":\"CDSView\",\"id\":\"p1367\",\"attributes\":{\"filter\":{\"type\":\"object\",\"name\":\"AllIndices\",\"id\":\"p1368\"}}},\"glyph\":{\"type\":\"object\",\"name\":\"Quad\",\"id\":\"p1363\",\"attributes\":{\"tags\":[\"apply_ranges\"],\"left\":{\"type\":\"field\",\"field\":\"left\"},\"right\":{\"type\":\"field\",\"field\":\"right\"},\"bottom\":{\"type\":\"value\",\"value\":0},\"top\":{\"type\":\"field\",\"field\":\"top\"},\"fill_color\":{\"type\":\"value\",\"value\":\"#30a2da\"},\"hatch_color\":{\"type\":\"value\",\"value\":\"#30a2da\"}}},\"selection_glyph\":{\"type\":\"object\",\"name\":\"Quad\",\"id\":\"p1369\",\"attributes\":{\"tags\":[\"apply_ranges\"],\"left\":{\"type\":\"field\",\"field\":\"left\"},\"right\":{\"type\":\"field\",\"field\":\"right\"},\"bottom\":{\"type\":\"value\",\"value\":0},\"top\":{\"type\":\"field\",\"field\":\"top\"},\"line_color\":{\"type\":\"value\",\"value\":\"black\"},\"line_alpha\":{\"type\":\"value\",\"value\":1.0},\"line_width\":{\"type\":\"value\",\"value\":1},\"line_join\":{\"type\":\"value\",\"value\":\"bevel\"},\"line_cap\":{\"type\":\"value\",\"value\":\"butt\"},\"line_dash\":{\"type\":\"value\",\"value\":[]},\"line_dash_offset\":{\"type\":\"value\",\"value\":0},\"fill_color\":{\"type\":\"value\",\"value\":\"#30a2da\"},\"fill_alpha\":{\"type\":\"value\",\"value\":1.0},\"hatch_color\":{\"type\":\"value\",\"value\":\"#30a2da\"},\"hatch_alpha\":{\"type\":\"value\",\"value\":1.0},\"hatch_scale\":{\"type\":\"value\",\"value\":12.0},\"hatch_pattern\":{\"type\":\"value\",\"value\":null},\"hatch_weight\":{\"type\":\"value\",\"value\":1.0}}},\"nonselection_glyph\":{\"type\":\"object\",\"name\":\"Quad\",\"id\":\"p1364\",\"attributes\":{\"tags\":[\"apply_ranges\"],\"left\":{\"type\":\"field\",\"field\":\"left\"},\"right\":{\"type\":\"field\",\"field\":\"right\"},\"bottom\":{\"type\":\"value\",\"value\":0},\"top\":{\"type\":\"field\",\"field\":\"top\"},\"line_alpha\":{\"type\":\"value\",\"value\":0.1},\"fill_color\":{\"type\":\"value\",\"value\":\"#30a2da\"},\"fill_alpha\":{\"type\":\"value\",\"value\":0.1},\"hatch_color\":{\"type\":\"value\",\"value\":\"#30a2da\"},\"hatch_alpha\":{\"type\":\"value\",\"value\":0.1}}},\"muted_glyph\":{\"type\":\"object\",\"name\":\"Quad\",\"id\":\"p1365\",\"attributes\":{\"tags\":[\"apply_ranges\"],\"left\":{\"type\":\"field\",\"field\":\"left\"},\"right\":{\"type\":\"field\",\"field\":\"right\"},\"bottom\":{\"type\":\"value\",\"value\":0},\"top\":{\"type\":\"field\",\"field\":\"top\"},\"line_alpha\":{\"type\":\"value\",\"value\":0.2},\"fill_color\":{\"type\":\"value\",\"value\":\"#30a2da\"},\"fill_alpha\":{\"type\":\"value\",\"value\":0.2},\"hatch_color\":{\"type\":\"value\",\"value\":\"#30a2da\"},\"hatch_alpha\":{\"type\":\"value\",\"value\":0.2}}}}}],\"toolbar\":{\"type\":\"object\",\"name\":\"Toolbar\",\"id\":\"p1321\",\"attributes\":{\"tools\":[{\"type\":\"object\",\"name\":\"HoverTool\",\"id\":\"p1311\",\"attributes\":{\"tags\":[\"hv_created\"],\"renderers\":[{\"id\":\"p1366\"}],\"tooltips\":[[\"maf\",\"@{maf}\"],[\"Count\",\"@{maf_count}\"]]}},{\"type\":\"object\",\"name\":\"SaveTool\",\"id\":\"p1342\"},{\"type\":\"object\",\"name\":\"PanTool\",\"id\":\"p1343\"},{\"type\":\"object\",\"name\":\"WheelZoomTool\",\"id\":\"p1344\"},{\"type\":\"object\",\"name\":\"BoxZoomTool\",\"id\":\"p1345\",\"attributes\":{\"overlay\":{\"type\":\"object\",\"name\":\"BoxAnnotation\",\"id\":\"p1346\",\"attributes\":{\"syncable\":false,\"level\":\"overlay\",\"visible\":false,\"left_units\":\"canvas\",\"right_units\":\"canvas\",\"bottom_units\":\"canvas\",\"top_units\":\"canvas\",\"line_color\":\"black\",\"line_alpha\":1.0,\"line_width\":2,\"line_dash\":[4,4],\"fill_color\":\"lightgrey\",\"fill_alpha\":0.5}}}},{\"type\":\"object\",\"name\":\"ResetTool\",\"id\":\"p1347\"}],\"active_drag\":{\"id\":\"p1343\"},\"active_scroll\":{\"id\":\"p1344\"}}},\"left\":[{\"type\":\"object\",\"name\":\"LinearAxis\",\"id\":\"p1335\",\"attributes\":{\"ticker\":{\"type\":\"object\",\"name\":\"BasicTicker\",\"id\":\"p1337\",\"attributes\":{\"mantissas\":[1,2,5]}},\"formatter\":{\"type\":\"object\",\"name\":\"BasicTickFormatter\",\"id\":\"p1338\"},\"axis_label\":\"\",\"major_label_policy\":{\"type\":\"object\",\"name\":\"AllLabels\",\"id\":\"p1336\"}}}],\"below\":[{\"type\":\"object\",\"name\":\"LinearAxis\",\"id\":\"p1328\",\"attributes\":{\"ticker\":{\"type\":\"object\",\"name\":\"BasicTicker\",\"id\":\"p1330\",\"attributes\":{\"mantissas\":[1,2,5]}},\"formatter\":{\"type\":\"object\",\"name\":\"BasicTickFormatter\",\"id\":\"p1331\"},\"axis_label\":\"maf\",\"major_label_policy\":{\"type\":\"object\",\"name\":\"AllLabels\",\"id\":\"p1329\"}}}],\"center\":[{\"type\":\"object\",\"name\":\"Grid\",\"id\":\"p1334\",\"attributes\":{\"axis\":{\"id\":\"p1328\"},\"grid_line_color\":null}},{\"type\":\"object\",\"name\":\"Grid\",\"id\":\"p1341\",\"attributes\":{\"dimension\":1,\"axis\":{\"id\":\"p1335\"},\"grid_line_color\":null}}],\"min_border_top\":10,\"min_border_bottom\":10,\"min_border_left\":10,\"min_border_right\":10,\"output_backend\":\"webgl\"}},{\"type\":\"object\",\"name\":\"Spacer\",\"id\":\"p1394\",\"attributes\":{\"name\":\"HSpacer01126\",\"stylesheets\":[\"\\n:host(.pn-loading.pn-arc):before, .pn-loading.pn-arc:before {\\n  background-image: url(\\\"data:image/svg+xml;base64,PHN2ZyB4bWxucz0iaHR0cDovL3d3dy53My5vcmcvMjAwMC9zdmciIHN0eWxlPSJtYXJnaW46IGF1dG87IGJhY2tncm91bmQ6IG5vbmU7IGRpc3BsYXk6IGJsb2NrOyBzaGFwZS1yZW5kZXJpbmc6IGF1dG87IiB2aWV3Qm94PSIwIDAgMTAwIDEwMCIgcHJlc2VydmVBc3BlY3RSYXRpbz0ieE1pZFlNaWQiPiAgPGNpcmNsZSBjeD0iNTAiIGN5PSI1MCIgZmlsbD0ibm9uZSIgc3Ryb2tlPSIjYzNjM2MzIiBzdHJva2Utd2lkdGg9IjEwIiByPSIzNSIgc3Ryb2tlLWRhc2hhcnJheT0iMTY0LjkzMzYxNDMxMzQ2NDE1IDU2Ljk3Nzg3MTQzNzgyMTM4Ij4gICAgPGFuaW1hdGVUcmFuc2Zvcm0gYXR0cmlidXRlTmFtZT0idHJhbnNmb3JtIiB0eXBlPSJyb3RhdGUiIHJlcGVhdENvdW50PSJpbmRlZmluaXRlIiBkdXI9IjFzIiB2YWx1ZXM9IjAgNTAgNTA7MzYwIDUwIDUwIiBrZXlUaW1lcz0iMDsxIj48L2FuaW1hdGVUcmFuc2Zvcm0+ICA8L2NpcmNsZT48L3N2Zz4=\\\");\\n  background-size: auto calc(min(50%, 400px));\\n}\",{\"id\":\"p1307\"},{\"id\":\"p1305\"},{\"id\":\"p1306\"}],\"margin\":0,\"sizing_mode\":\"stretch_width\",\"align\":\"start\"}}]}}],\"callbacks\":{\"type\":\"map\"}}};\n",
       "  var render_items = [{\"docid\":\"98b13f53-34f6-4040-abd1-23a9d03e3012\",\"roots\":{\"p1304\":\"bd88e73d-8af0-4b89-838b-8ccc4f1143cf\"},\"root_ids\":[\"p1304\"]}];\n",
       "  var docs = Object.values(docs_json)\n",
       "  if (!docs) {\n",
       "    return\n",
       "  }\n",
       "  const py_version = docs[0].version.replace('rc', '-rc.')\n",
       "  const is_dev = py_version.indexOf(\"+\") !== -1 || py_version.indexOf(\"-\") !== -1\n",
       "  function embed_document(root) {\n",
       "    var Bokeh = get_bokeh(root)\n",
       "    Bokeh.embed.embed_items_notebook(docs_json, render_items);\n",
       "    for (const render_item of render_items) {\n",
       "      for (const root_id of render_item.root_ids) {\n",
       "\tconst id_el = document.getElementById(root_id)\n",
       "\tif (id_el.children.length && (id_el.children[0].className === 'bk-root')) {\n",
       "\t  const root_el = id_el.children[0]\n",
       "\t  root_el.id = root_el.id + '-rendered'\n",
       "\t}\n",
       "      }\n",
       "    }\n",
       "  }\n",
       "  function get_bokeh(root) {\n",
       "    if (root.Bokeh === undefined) {\n",
       "      return null\n",
       "    } else if (root.Bokeh.version !== py_version && !is_dev) {\n",
       "      if (root.Bokeh.versions === undefined || !root.Bokeh.versions.has(py_version)) {\n",
       "\treturn null\n",
       "      }\n",
       "      return root.Bokeh.versions.get(py_version);\n",
       "    } else if (root.Bokeh.version === py_version) {\n",
       "      return root.Bokeh\n",
       "    }\n",
       "    return null\n",
       "  }\n",
       "  function is_loaded(root) {\n",
       "    var Bokeh = get_bokeh(root)\n",
       "    return (Bokeh != null && Bokeh.Panel !== undefined)\n",
       "  }\n",
       "  if (is_loaded(root)) {\n",
       "    embed_document(root);\n",
       "  } else {\n",
       "    var attempts = 0;\n",
       "    var timer = setInterval(function(root) {\n",
       "      if (is_loaded(root)) {\n",
       "        clearInterval(timer);\n",
       "        embed_document(root);\n",
       "      } else if (document.readyState == \"complete\") {\n",
       "        attempts++;\n",
       "        if (attempts > 200) {\n",
       "          clearInterval(timer);\n",
       "\t  var Bokeh = get_bokeh(root)\n",
       "\t  if (Bokeh == null || Bokeh.Panel == null) {\n",
       "            console.warn(\"Panel: ERROR: Unable to run Panel code because Bokeh or Panel library is missing\");\n",
       "\t  } else {\n",
       "\t    console.warn(\"Panel: WARNING: Attempting to render but not all required libraries could be resolved.\")\n",
       "\t    embed_document(root)\n",
       "\t  }\n",
       "        }\n",
       "      }\n",
       "    }, 25, root)\n",
       "  }\n",
       "})(window);</script>"
      ],
      "text/plain": [
       ":Histogram   [maf]   (maf_count)"
      ]
     },
     "execution_count": 12,
     "metadata": {
      "application/vnd.holoviews_exec.v0+json": {
       "id": "p1304"
      }
     },
     "output_type": "execute_result"
    }
   ],
   "source": [
    "V.filter(~pl.col(\"label\"))[\"maf\"].plot.hist(bins=50)"
   ]
  },
  {
   "cell_type": "code",
   "execution_count": 13,
   "metadata": {},
   "outputs": [
    {
     "data": {},
     "metadata": {},
     "output_type": "display_data"
    },
    {
     "data": {
      "application/vnd.holoviews_exec.v0+json": "",
      "text/html": [
       "<div id='p1455'>\n",
       "  <div id=\"ac9b73a5-a964-429c-90e6-f951edc4a4c6\" data-root-id=\"p1455\" style=\"display: contents;\"></div>\n",
       "</div>\n",
       "<script type=\"application/javascript\">(function(root) {\n",
       "  var docs_json = {\"4a88b105-2063-4ab3-a70b-1b549f093391\":{\"version\":\"3.1.1\",\"title\":\"Bokeh Application\",\"defs\":[{\"type\":\"model\",\"name\":\"ReactiveHTML1\"},{\"type\":\"model\",\"name\":\"FlexBox1\",\"properties\":[{\"name\":\"align_content\",\"kind\":\"Any\",\"default\":\"flex-start\"},{\"name\":\"align_items\",\"kind\":\"Any\",\"default\":\"flex-start\"},{\"name\":\"flex_direction\",\"kind\":\"Any\",\"default\":\"row\"},{\"name\":\"flex_wrap\",\"kind\":\"Any\",\"default\":\"wrap\"},{\"name\":\"justify_content\",\"kind\":\"Any\",\"default\":\"flex-start\"}]},{\"type\":\"model\",\"name\":\"FloatPanel1\",\"properties\":[{\"name\":\"config\",\"kind\":\"Any\",\"default\":{\"type\":\"map\"}},{\"name\":\"contained\",\"kind\":\"Any\",\"default\":true},{\"name\":\"position\",\"kind\":\"Any\",\"default\":\"right-top\"},{\"name\":\"offsetx\",\"kind\":\"Any\",\"default\":null},{\"name\":\"offsety\",\"kind\":\"Any\",\"default\":null},{\"name\":\"theme\",\"kind\":\"Any\",\"default\":\"primary\"},{\"name\":\"status\",\"kind\":\"Any\",\"default\":\"normalized\"}]},{\"type\":\"model\",\"name\":\"GridStack1\",\"properties\":[{\"name\":\"mode\",\"kind\":\"Any\",\"default\":\"warn\"},{\"name\":\"ncols\",\"kind\":\"Any\",\"default\":null},{\"name\":\"nrows\",\"kind\":\"Any\",\"default\":null},{\"name\":\"allow_resize\",\"kind\":\"Any\",\"default\":true},{\"name\":\"allow_drag\",\"kind\":\"Any\",\"default\":true},{\"name\":\"state\",\"kind\":\"Any\",\"default\":[]}]},{\"type\":\"model\",\"name\":\"drag1\",\"properties\":[{\"name\":\"slider_width\",\"kind\":\"Any\",\"default\":5},{\"name\":\"slider_color\",\"kind\":\"Any\",\"default\":\"black\"},{\"name\":\"value\",\"kind\":\"Any\",\"default\":50}]},{\"type\":\"model\",\"name\":\"click1\",\"properties\":[{\"name\":\"terminal_output\",\"kind\":\"Any\",\"default\":\"\"},{\"name\":\"debug_name\",\"kind\":\"Any\",\"default\":\"\"},{\"name\":\"clears\",\"kind\":\"Any\",\"default\":0}]},{\"type\":\"model\",\"name\":\"FastWrapper1\",\"properties\":[{\"name\":\"object\",\"kind\":\"Any\",\"default\":null},{\"name\":\"style\",\"kind\":\"Any\",\"default\":null}]},{\"type\":\"model\",\"name\":\"NotificationAreaBase1\",\"properties\":[{\"name\":\"position\",\"kind\":\"Any\",\"default\":\"bottom-right\"},{\"name\":\"_clear\",\"kind\":\"Any\",\"default\":0}]},{\"type\":\"model\",\"name\":\"NotificationArea1\",\"properties\":[{\"name\":\"notifications\",\"kind\":\"Any\",\"default\":[]},{\"name\":\"position\",\"kind\":\"Any\",\"default\":\"bottom-right\"},{\"name\":\"_clear\",\"kind\":\"Any\",\"default\":0},{\"name\":\"types\",\"kind\":\"Any\",\"default\":[{\"type\":\"map\",\"entries\":[[\"type\",\"warning\"],[\"background\",\"#ffc107\"],[\"icon\",{\"type\":\"map\",\"entries\":[[\"className\",\"fas fa-exclamation-triangle\"],[\"tagName\",\"i\"],[\"color\",\"white\"]]}]]},{\"type\":\"map\",\"entries\":[[\"type\",\"info\"],[\"background\",\"#007bff\"],[\"icon\",{\"type\":\"map\",\"entries\":[[\"className\",\"fas fa-info-circle\"],[\"tagName\",\"i\"],[\"color\",\"white\"]]}]]}]}]},{\"type\":\"model\",\"name\":\"Notification\",\"properties\":[{\"name\":\"background\",\"kind\":\"Any\",\"default\":null},{\"name\":\"duration\",\"kind\":\"Any\",\"default\":3000},{\"name\":\"icon\",\"kind\":\"Any\",\"default\":null},{\"name\":\"message\",\"kind\":\"Any\",\"default\":\"\"},{\"name\":\"notification_type\",\"kind\":\"Any\",\"default\":null},{\"name\":\"_destroyed\",\"kind\":\"Any\",\"default\":false}]},{\"type\":\"model\",\"name\":\"TemplateActions1\",\"properties\":[{\"name\":\"open_modal\",\"kind\":\"Any\",\"default\":0},{\"name\":\"close_modal\",\"kind\":\"Any\",\"default\":0}]},{\"type\":\"model\",\"name\":\"BootstrapTemplateActions1\",\"properties\":[{\"name\":\"open_modal\",\"kind\":\"Any\",\"default\":0},{\"name\":\"close_modal\",\"kind\":\"Any\",\"default\":0}]},{\"type\":\"model\",\"name\":\"MaterialTemplateActions1\",\"properties\":[{\"name\":\"open_modal\",\"kind\":\"Any\",\"default\":0},{\"name\":\"close_modal\",\"kind\":\"Any\",\"default\":0}]}],\"roots\":[{\"type\":\"object\",\"name\":\"Row\",\"id\":\"p1455\",\"attributes\":{\"name\":\"Row01234\",\"tags\":[\"embedded\"],\"stylesheets\":[\"\\n:host(.pn-loading.pn-arc):before, .pn-loading.pn-arc:before {\\n  background-image: url(\\\"data:image/svg+xml;base64,PHN2ZyB4bWxucz0iaHR0cDovL3d3dy53My5vcmcvMjAwMC9zdmciIHN0eWxlPSJtYXJnaW46IGF1dG87IGJhY2tncm91bmQ6IG5vbmU7IGRpc3BsYXk6IGJsb2NrOyBzaGFwZS1yZW5kZXJpbmc6IGF1dG87IiB2aWV3Qm94PSIwIDAgMTAwIDEwMCIgcHJlc2VydmVBc3BlY3RSYXRpbz0ieE1pZFlNaWQiPiAgPGNpcmNsZSBjeD0iNTAiIGN5PSI1MCIgZmlsbD0ibm9uZSIgc3Ryb2tlPSIjYzNjM2MzIiBzdHJva2Utd2lkdGg9IjEwIiByPSIzNSIgc3Ryb2tlLWRhc2hhcnJheT0iMTY0LjkzMzYxNDMxMzQ2NDE1IDU2Ljk3Nzg3MTQzNzgyMTM4Ij4gICAgPGFuaW1hdGVUcmFuc2Zvcm0gYXR0cmlidXRlTmFtZT0idHJhbnNmb3JtIiB0eXBlPSJyb3RhdGUiIHJlcGVhdENvdW50PSJpbmRlZmluaXRlIiBkdXI9IjFzIiB2YWx1ZXM9IjAgNTAgNTA7MzYwIDUwIDUwIiBrZXlUaW1lcz0iMDsxIj48L2FuaW1hdGVUcmFuc2Zvcm0+ICA8L2NpcmNsZT48L3N2Zz4=\\\");\\n  background-size: auto calc(min(50%, 400px));\\n}\",{\"type\":\"object\",\"name\":\"ImportedStyleSheet\",\"id\":\"p1458\",\"attributes\":{\"url\":\"https://cdn.holoviz.org/panel/1.1.0/dist/css/loading.css\"}},{\"type\":\"object\",\"name\":\"ImportedStyleSheet\",\"id\":\"p1547\",\"attributes\":{\"url\":\"https://cdn.holoviz.org/panel/1.1.0/dist/css/listpanel.css\"}},{\"type\":\"object\",\"name\":\"ImportedStyleSheet\",\"id\":\"p1456\",\"attributes\":{\"url\":\"https://cdn.holoviz.org/panel/1.1.0/dist/bundled/theme/default.css\"}},{\"type\":\"object\",\"name\":\"ImportedStyleSheet\",\"id\":\"p1457\",\"attributes\":{\"url\":\"https://cdn.holoviz.org/panel/1.1.0/dist/bundled/theme/native.css\"}}],\"min_width\":0,\"margin\":0,\"sizing_mode\":\"stretch_width\",\"align\":\"start\",\"children\":[{\"type\":\"object\",\"name\":\"Spacer\",\"id\":\"p1459\",\"attributes\":{\"name\":\"HSpacer01245\",\"stylesheets\":[\"\\n:host(.pn-loading.pn-arc):before, .pn-loading.pn-arc:before {\\n  background-image: url(\\\"data:image/svg+xml;base64,PHN2ZyB4bWxucz0iaHR0cDovL3d3dy53My5vcmcvMjAwMC9zdmciIHN0eWxlPSJtYXJnaW46IGF1dG87IGJhY2tncm91bmQ6IG5vbmU7IGRpc3BsYXk6IGJsb2NrOyBzaGFwZS1yZW5kZXJpbmc6IGF1dG87IiB2aWV3Qm94PSIwIDAgMTAwIDEwMCIgcHJlc2VydmVBc3BlY3RSYXRpbz0ieE1pZFlNaWQiPiAgPGNpcmNsZSBjeD0iNTAiIGN5PSI1MCIgZmlsbD0ibm9uZSIgc3Ryb2tlPSIjYzNjM2MzIiBzdHJva2Utd2lkdGg9IjEwIiByPSIzNSIgc3Ryb2tlLWRhc2hhcnJheT0iMTY0LjkzMzYxNDMxMzQ2NDE1IDU2Ljk3Nzg3MTQzNzgyMTM4Ij4gICAgPGFuaW1hdGVUcmFuc2Zvcm0gYXR0cmlidXRlTmFtZT0idHJhbnNmb3JtIiB0eXBlPSJyb3RhdGUiIHJlcGVhdENvdW50PSJpbmRlZmluaXRlIiBkdXI9IjFzIiB2YWx1ZXM9IjAgNTAgNTA7MzYwIDUwIDUwIiBrZXlUaW1lcz0iMDsxIj48L2FuaW1hdGVUcmFuc2Zvcm0+ICA8L2NpcmNsZT48L3N2Zz4=\\\");\\n  background-size: auto calc(min(50%, 400px));\\n}\",{\"id\":\"p1458\"},{\"id\":\"p1456\"},{\"id\":\"p1457\"}],\"margin\":0,\"sizing_mode\":\"stretch_width\",\"align\":\"start\"}},{\"type\":\"object\",\"name\":\"Figure\",\"id\":\"p1463\",\"attributes\":{\"width\":700,\"height\":300,\"margin\":[5,10],\"sizing_mode\":\"fixed\",\"align\":\"start\",\"x_range\":{\"type\":\"object\",\"name\":\"Range1d\",\"id\":\"p1460\",\"attributes\":{\"tags\":[[[\"maf\",\"maf\",null]]],\"start\":-0.020422432714285715,\"end\":0.5205127027142857,\"reset_start\":-0.020422432714285715,\"reset_end\":0.5205127027142857}},\"y_range\":{\"type\":\"object\",\"name\":\"Range1d\",\"id\":\"p1461\",\"attributes\":{\"tags\":[[[\"maf_count\",\"Count\",null]]],\"end\":73.5,\"reset_start\":0.0,\"reset_end\":73.5}},\"x_scale\":{\"type\":\"object\",\"name\":\"LinearScale\",\"id\":\"p1475\"},\"y_scale\":{\"type\":\"object\",\"name\":\"LinearScale\",\"id\":\"p1477\"},\"title\":{\"type\":\"object\",\"name\":\"Title\",\"id\":\"p1466\",\"attributes\":{\"text_color\":\"black\",\"text_font_size\":\"12pt\"}},\"renderers\":[{\"type\":\"object\",\"name\":\"GlyphRenderer\",\"id\":\"p1517\",\"attributes\":{\"data_source\":{\"type\":\"object\",\"name\":\"ColumnDataSource\",\"id\":\"p1507\",\"attributes\":{\"selected\":{\"type\":\"object\",\"name\":\"Selection\",\"id\":\"p1509\",\"attributes\":{\"indices\":[],\"line_indices\":[]}},\"selection_policy\":{\"type\":\"object\",\"name\":\"UnionRenderers\",\"id\":\"p1508\"},\"data\":{\"type\":\"map\",\"entries\":[[\"top\",{\"type\":\"ndarray\",\"array\":{\"type\":\"bytes\",\"data\":\"QwAAAD8AAAAiAAAAEgAAABoAAAAUAAAAEAAAABEAAAAVAAAADAAAAA4AAAASAAAADwAAAAkAAAATAAAAFQAAAAkAAAAFAAAACQAAAAgAAAAGAAAACQAAAAcAAAAHAAAACAAAAAkAAAAKAAAACQAAAAsAAAAKAAAABgAAAAcAAAAIAAAADAAAAAoAAAAIAAAABgAAAAcAAAAIAAAABgAAAAsAAAAJAAAABwAAAAgAAAALAAAACAAAAAgAAAALAAAABgAAAA8AAAAGAAAACwAAAAoAAAALAAAACwAAABEAAAAFAAAACgAAAA4AAAANAAAACAAAAAsAAAAKAAAABQAAAAYAAAAOAAAACgAAAAYAAAAIAAAACQAAAAoAAAAJAAAABwAAAAoAAAAJAAAACAAAAAcAAAAFAAAACgAAAAwAAAARAAAADAAAAAYAAAAPAAAADwAAAAgAAAAHAAAACwAAAAYAAAAJAAAAEAAAAAIAAAAHAAAACQAAAAYAAAAFAAAACAAAAAgAAAAGAAAABgAAAA==\"},\"shape\":[100],\"dtype\":\"int32\",\"order\":\"little\"}],[\"left\",{\"type\":\"ndarray\",\"array\":{\"type\":\"bytes\",\"data\":\"nE/8nKt7Tj/6ugWzxjd4PwH2NfkLUIY/Qod0TBpCkD+EE06cLlyVP8afJ+xCdpo/BywBPFeQnz8kXO3FNVWiP0Ui2u0/4qQ/ZujGFUpvpz+HrrM9VPypP6h0oGVeiaw/yDqNjWgWrz91AL1audGwP4Vjs24+GLI/lsapgsNesz+mKaCWSKW0P7aMlqrN67U/x++MvlIytz/XUoPS13i4P+i1eeZcv7k/+Bhw+uEFuz8JfGYOZ0y8PxnfXCLskr0/KUJTNnHZvj+d0iQl+w/APyYEIK89s8A/rjUbOYBWwT82ZxbDwvnBP76YEU0FncI/R8oM10dAwz/P+wdhiuPDP1ctA+vMhsQ/317+dA8qxT9nkPn+Uc3FP/DB9IiUcMY/ePPvEtcTxz8AJeucGbfHP4hW5iZcWsg/EYjhsJ79yD+Zudw64aDJPyHr18QjRMo/qRzTTmbnyj8xTs7YqIrLP7p/yWLrLcw/QrHE7C3RzD/K4r92cHTNP1IUuwCzF84/2kW2ivW6zj9jd7EUOF7PP3VUVk+9ANA/Ou1TlF5S0D/+hVHZ/6PQP8IeTx6h9dA/hrdMY0JH0T9KUEqo45jRPw7pR+2E6tE/0oFFMiY80j+WGkN3x43SP1qzQLxo39I/H0w+AQox0z/j5DtGq4LTP6d9OYtM1NM/axY30O0l1D8vrzQVj3fUP/NHMlowydQ/t+Avn9Ea1T97eS3kcmzVPz8SKykUvtU/BKsobrUP1j/IQyazVmHWP4zcI/j3stY/UHUhPZkE1z8UDh+COlbXP9imHMfbp9c/nD8aDH351z9g2BdRHkvYPyRxFZa/nNg/6QkT22Du2D+tohAgAkDZP3E7DmWjkdk/NdQLqkTj2T/5bAnv5TTaP70FBzSHhto/gZ4EeSjY2j9FNwK+ySnbPwnQ/wJre9s/zmj9RwzN2z+SAfuMrR7cP1aa+NFOcNw/GjP2FvDB3D/ey/NbkRPdP6Jk8aAyZd0/Zv3u5dO23T8qluwqdQjeP+4u6m8WWt4/ssfntLer3j93YOX5WP3ePzv54j76Tt8//5Hgg5ug3z8=\"},\"shape\":[100],\"dtype\":\"float64\",\"order\":\"little\"}],[\"right\",{\"type\":\"ndarray\",\"array\":{\"type\":\"bytes\",\"data\":\"+roFs8Y3eD8B9jX5C1CGP0KHdEwaQpA/hBNOnC5clT/GnyfsQnaaPwcsATxXkJ8/JFztxTVVoj9FItrtP+KkP2boxhVKb6c/h66zPVT8qT+odKBlXomsP8g6jY1oFq8/dQC9WrnRsD+FY7NuPhiyP5bGqYLDXrM/pimglkiltD+2jJaqzeu1P8fvjL5SMrc/11KD0td4uD/otXnmXL+5P/gYcPrhBbs/CXxmDmdMvD8Z31wi7JK9PylCUzZx2b4/ndIkJfsPwD8mBCCvPbPAP641GzmAVsE/NmcWw8L5wT++mBFNBZ3CP0fKDNdHQMM/z/sHYYrjwz9XLQPrzIbEP99e/nQPKsU/Z5D5/lHNxT/wwfSIlHDGP3jz7xLXE8c/ACXrnBm3xz+IVuYmXFrIPxGI4bCe/cg/mbncOuGgyT8h69fEI0TKP6kc005m58o/MU7O2KiKyz+6f8li6y3MP0KxxOwt0cw/yuK/dnB0zT9SFLsAsxfOP9pFtor1us4/Y3exFDhezz91VFZPvQDQPzrtU5ReUtA//oVR2f+j0D/CHk8eofXQP4a3TGNCR9E/SlBKqOOY0T8O6UfthOrRP9KBRTImPNI/lhpDd8eN0j9as0C8aN/SPx9MPgEKMdM/4+Q7RquC0z+nfTmLTNTTP2sWN9DtJdQ/L680FY931D/zRzJaMMnUP7fgL5/RGtU/e3kt5HJs1T8/EispFL7VPwSrKG61D9Y/yEMms1Zh1j+M3CP497LWP1B1IT2ZBNc/FA4fgjpW1z/YphzH26fXP5w/Ggx9+dc/YNgXUR5L2D8kcRWWv5zYP+kJE9tg7tg/raIQIAJA2T9xOw5lo5HZPzXUC6pE49k/+WwJ7+U02j+9BQc0h4baP4GeBHko2No/RTcCvskp2z8J0P8Ca3vbP85o/UcMzds/kgH7jK0e3D9WmvjRTnDcPxoz9hbwwdw/3svzW5ET3T+iZPGgMmXdP2b97uXTtt0/KpbsKnUI3j/uLupvFlreP7LH57S3q94/d2Dl+Vj93j87+eI++k7fP/+R4IOboN8/wyreyDzy3z8=\"},\"shape\":[100],\"dtype\":\"float64\",\"order\":\"little\"}],[\"maf\",{\"type\":\"ndarray\",\"array\":{\"type\":\"bytes\",\"data\":\"7USlJjwHbD+/aVyp9zWBP0KCD0kgaos/Y01hdCTPkj+l2TrEOOmXP+ZlFBRNA50/FPn2sbAOoT80v+PZupujP1aF0AHFKKY/dku9Kc+1qD+YEapR2UKrP7jXlnnjz60/7M7B0HYusD/9Mbjk+3SxPw6VrviAu7I/HvikDAYCtD8uW5sgi0i1Pz6+kTQQj7Y/TyGISJXVtz9ghH5cGhy5P3DndHCfYro/gEprhCSpuz+RrWGYqe+8P6EQWKwuNr4/snNOwLN8vz9iayJqnGHAP+qcHfTeBME/cs4YfiGowT/6/xMIZEvCP4IxD5Km7sI/C2MKHOmRwz+TlAWmKzXEPxvGADBu2MQ/o/f7ubB7xT8sKfdD8x7GP7Ra8s01wsY/PIztV3hlxz/EvejhugjIP0zv42v9q8g/1SDf9T9PyT9dUtp/gvLJP+WD1QnFlco/bbXQkwc5yz/25ssdStzLP34Yx6eMf8w/BkrCMc8izT+Oe727EcbNPxatuEVUac4/nt6zz5YMzz8mEK9Z2a/PP9gg1fGNKdA/nLnSNi970D9gUtB70MzQPyTrzcBxHtE/6IPLBRNw0T+sHMlKtMHRP3C1xo9VE9I/NE7E1PZk0j/45sEZmLbSP7x/v145CNM/gRi9o9pZ0z9Fsbroe6vTPwlKuC0d/dM/zeK1cr5O1D+Re7O3X6DUP1UUsfwA8tQ/Ga2uQaJD1T/dRayGQ5XVP6Leqcvk5tU/ZnenEIY41j8qEKVVJ4rWP+6ooprI29Y/skGg32kt1z922p0kC3/XPzpzm2ms0Nc//guZrk0i2D/CpJbz7nPYP4Y9lDiQxdg/S9aRfTEX2T8Pb4/C0mjZP9MHjQd0utk/l6CKTBUM2j9bOYiRtl3aPx/ShdZXr9o/42qDG/kA2z+nA4FgmlLbP2ycfqU7pNs/MDV86tz12z/0zXkvfkfcP7hmd3Qfmdw/fP90ucDq3D9AmHL+YTzdPwQxcEMDjt0/yMltiKTf3T+MYmvNRTHeP1D7aBLngt4/FJRmV4jU3j/ZLGScKSbfP53FYeHKd98/YV5fJmzJ3z8=\"},\"shape\":[100],\"dtype\":\"float64\",\"order\":\"little\"}],[\"maf_count\",{\"type\":\"ndarray\",\"array\":{\"type\":\"bytes\",\"data\":\"QwAAAD8AAAAiAAAAEgAAABoAAAAUAAAAEAAAABEAAAAVAAAADAAAAA4AAAASAAAADwAAAAkAAAATAAAAFQAAAAkAAAAFAAAACQAAAAgAAAAGAAAACQAAAAcAAAAHAAAACAAAAAkAAAAKAAAACQAAAAsAAAAKAAAABgAAAAcAAAAIAAAADAAAAAoAAAAIAAAABgAAAAcAAAAIAAAABgAAAAsAAAAJAAAABwAAAAgAAAALAAAACAAAAAgAAAALAAAABgAAAA8AAAAGAAAACwAAAAoAAAALAAAACwAAABEAAAAFAAAACgAAAA4AAAANAAAACAAAAAsAAAAKAAAABQAAAAYAAAAOAAAACgAAAAYAAAAIAAAACQAAAAoAAAAJAAAABwAAAAoAAAAJAAAACAAAAAcAAAAFAAAACgAAAAwAAAARAAAADAAAAAYAAAAPAAAADwAAAAgAAAAHAAAACwAAAAYAAAAJAAAAEAAAAAIAAAAHAAAACQAAAAYAAAAFAAAACAAAAAgAAAAGAAAABgAAAA==\"},\"shape\":[100],\"dtype\":\"int32\",\"order\":\"little\"}]]}}},\"view\":{\"type\":\"object\",\"name\":\"CDSView\",\"id\":\"p1518\",\"attributes\":{\"filter\":{\"type\":\"object\",\"name\":\"AllIndices\",\"id\":\"p1519\"}}},\"glyph\":{\"type\":\"object\",\"name\":\"Quad\",\"id\":\"p1514\",\"attributes\":{\"tags\":[\"apply_ranges\"],\"left\":{\"type\":\"field\",\"field\":\"left\"},\"right\":{\"type\":\"field\",\"field\":\"right\"},\"bottom\":{\"type\":\"value\",\"value\":0},\"top\":{\"type\":\"field\",\"field\":\"top\"},\"fill_color\":{\"type\":\"value\",\"value\":\"#30a2da\"},\"hatch_color\":{\"type\":\"value\",\"value\":\"#30a2da\"}}},\"selection_glyph\":{\"type\":\"object\",\"name\":\"Quad\",\"id\":\"p1520\",\"attributes\":{\"tags\":[\"apply_ranges\"],\"left\":{\"type\":\"field\",\"field\":\"left\"},\"right\":{\"type\":\"field\",\"field\":\"right\"},\"bottom\":{\"type\":\"value\",\"value\":0},\"top\":{\"type\":\"field\",\"field\":\"top\"},\"line_color\":{\"type\":\"value\",\"value\":\"black\"},\"line_alpha\":{\"type\":\"value\",\"value\":1.0},\"line_width\":{\"type\":\"value\",\"value\":1},\"line_join\":{\"type\":\"value\",\"value\":\"bevel\"},\"line_cap\":{\"type\":\"value\",\"value\":\"butt\"},\"line_dash\":{\"type\":\"value\",\"value\":[]},\"line_dash_offset\":{\"type\":\"value\",\"value\":0},\"fill_color\":{\"type\":\"value\",\"value\":\"#30a2da\"},\"fill_alpha\":{\"type\":\"value\",\"value\":1.0},\"hatch_color\":{\"type\":\"value\",\"value\":\"#30a2da\"},\"hatch_alpha\":{\"type\":\"value\",\"value\":1.0},\"hatch_scale\":{\"type\":\"value\",\"value\":12.0},\"hatch_pattern\":{\"type\":\"value\",\"value\":null},\"hatch_weight\":{\"type\":\"value\",\"value\":1.0}}},\"nonselection_glyph\":{\"type\":\"object\",\"name\":\"Quad\",\"id\":\"p1515\",\"attributes\":{\"tags\":[\"apply_ranges\"],\"left\":{\"type\":\"field\",\"field\":\"left\"},\"right\":{\"type\":\"field\",\"field\":\"right\"},\"bottom\":{\"type\":\"value\",\"value\":0},\"top\":{\"type\":\"field\",\"field\":\"top\"},\"line_alpha\":{\"type\":\"value\",\"value\":0.1},\"fill_color\":{\"type\":\"value\",\"value\":\"#30a2da\"},\"fill_alpha\":{\"type\":\"value\",\"value\":0.1},\"hatch_color\":{\"type\":\"value\",\"value\":\"#30a2da\"},\"hatch_alpha\":{\"type\":\"value\",\"value\":0.1}}},\"muted_glyph\":{\"type\":\"object\",\"name\":\"Quad\",\"id\":\"p1516\",\"attributes\":{\"tags\":[\"apply_ranges\"],\"left\":{\"type\":\"field\",\"field\":\"left\"},\"right\":{\"type\":\"field\",\"field\":\"right\"},\"bottom\":{\"type\":\"value\",\"value\":0},\"top\":{\"type\":\"field\",\"field\":\"top\"},\"line_alpha\":{\"type\":\"value\",\"value\":0.2},\"fill_color\":{\"type\":\"value\",\"value\":\"#30a2da\"},\"fill_alpha\":{\"type\":\"value\",\"value\":0.2},\"hatch_color\":{\"type\":\"value\",\"value\":\"#30a2da\"},\"hatch_alpha\":{\"type\":\"value\",\"value\":0.2}}}}}],\"toolbar\":{\"type\":\"object\",\"name\":\"Toolbar\",\"id\":\"p1472\",\"attributes\":{\"tools\":[{\"type\":\"object\",\"name\":\"HoverTool\",\"id\":\"p1462\",\"attributes\":{\"tags\":[\"hv_created\"],\"renderers\":[{\"id\":\"p1517\"}],\"tooltips\":[[\"maf\",\"@{maf}\"],[\"Count\",\"@{maf_count}\"]]}},{\"type\":\"object\",\"name\":\"SaveTool\",\"id\":\"p1493\"},{\"type\":\"object\",\"name\":\"PanTool\",\"id\":\"p1494\"},{\"type\":\"object\",\"name\":\"WheelZoomTool\",\"id\":\"p1495\"},{\"type\":\"object\",\"name\":\"BoxZoomTool\",\"id\":\"p1496\",\"attributes\":{\"overlay\":{\"type\":\"object\",\"name\":\"BoxAnnotation\",\"id\":\"p1497\",\"attributes\":{\"syncable\":false,\"level\":\"overlay\",\"visible\":false,\"left_units\":\"canvas\",\"right_units\":\"canvas\",\"bottom_units\":\"canvas\",\"top_units\":\"canvas\",\"line_color\":\"black\",\"line_alpha\":1.0,\"line_width\":2,\"line_dash\":[4,4],\"fill_color\":\"lightgrey\",\"fill_alpha\":0.5}}}},{\"type\":\"object\",\"name\":\"ResetTool\",\"id\":\"p1498\"}],\"active_drag\":{\"id\":\"p1494\"},\"active_scroll\":{\"id\":\"p1495\"}}},\"left\":[{\"type\":\"object\",\"name\":\"LinearAxis\",\"id\":\"p1486\",\"attributes\":{\"ticker\":{\"type\":\"object\",\"name\":\"BasicTicker\",\"id\":\"p1488\",\"attributes\":{\"mantissas\":[1,2,5]}},\"formatter\":{\"type\":\"object\",\"name\":\"BasicTickFormatter\",\"id\":\"p1489\"},\"axis_label\":\"\",\"major_label_policy\":{\"type\":\"object\",\"name\":\"AllLabels\",\"id\":\"p1487\"}}}],\"below\":[{\"type\":\"object\",\"name\":\"LinearAxis\",\"id\":\"p1479\",\"attributes\":{\"ticker\":{\"type\":\"object\",\"name\":\"BasicTicker\",\"id\":\"p1481\",\"attributes\":{\"mantissas\":[1,2,5]}},\"formatter\":{\"type\":\"object\",\"name\":\"BasicTickFormatter\",\"id\":\"p1482\"},\"axis_label\":\"maf\",\"major_label_policy\":{\"type\":\"object\",\"name\":\"AllLabels\",\"id\":\"p1480\"}}}],\"center\":[{\"type\":\"object\",\"name\":\"Grid\",\"id\":\"p1485\",\"attributes\":{\"axis\":{\"id\":\"p1479\"},\"grid_line_color\":null}},{\"type\":\"object\",\"name\":\"Grid\",\"id\":\"p1492\",\"attributes\":{\"dimension\":1,\"axis\":{\"id\":\"p1486\"},\"grid_line_color\":null}}],\"min_border_top\":10,\"min_border_bottom\":10,\"min_border_left\":10,\"min_border_right\":10,\"output_backend\":\"webgl\"}},{\"type\":\"object\",\"name\":\"Spacer\",\"id\":\"p1545\",\"attributes\":{\"name\":\"HSpacer01248\",\"stylesheets\":[\"\\n:host(.pn-loading.pn-arc):before, .pn-loading.pn-arc:before {\\n  background-image: url(\\\"data:image/svg+xml;base64,PHN2ZyB4bWxucz0iaHR0cDovL3d3dy53My5vcmcvMjAwMC9zdmciIHN0eWxlPSJtYXJnaW46IGF1dG87IGJhY2tncm91bmQ6IG5vbmU7IGRpc3BsYXk6IGJsb2NrOyBzaGFwZS1yZW5kZXJpbmc6IGF1dG87IiB2aWV3Qm94PSIwIDAgMTAwIDEwMCIgcHJlc2VydmVBc3BlY3RSYXRpbz0ieE1pZFlNaWQiPiAgPGNpcmNsZSBjeD0iNTAiIGN5PSI1MCIgZmlsbD0ibm9uZSIgc3Ryb2tlPSIjYzNjM2MzIiBzdHJva2Utd2lkdGg9IjEwIiByPSIzNSIgc3Ryb2tlLWRhc2hhcnJheT0iMTY0LjkzMzYxNDMxMzQ2NDE1IDU2Ljk3Nzg3MTQzNzgyMTM4Ij4gICAgPGFuaW1hdGVUcmFuc2Zvcm0gYXR0cmlidXRlTmFtZT0idHJhbnNmb3JtIiB0eXBlPSJyb3RhdGUiIHJlcGVhdENvdW50PSJpbmRlZmluaXRlIiBkdXI9IjFzIiB2YWx1ZXM9IjAgNTAgNTA7MzYwIDUwIDUwIiBrZXlUaW1lcz0iMDsxIj48L2FuaW1hdGVUcmFuc2Zvcm0+ICA8L2NpcmNsZT48L3N2Zz4=\\\");\\n  background-size: auto calc(min(50%, 400px));\\n}\",{\"id\":\"p1458\"},{\"id\":\"p1456\"},{\"id\":\"p1457\"}],\"margin\":0,\"sizing_mode\":\"stretch_width\",\"align\":\"start\"}}]}}],\"callbacks\":{\"type\":\"map\"}}};\n",
       "  var render_items = [{\"docid\":\"4a88b105-2063-4ab3-a70b-1b549f093391\",\"roots\":{\"p1455\":\"ac9b73a5-a964-429c-90e6-f951edc4a4c6\"},\"root_ids\":[\"p1455\"]}];\n",
       "  var docs = Object.values(docs_json)\n",
       "  if (!docs) {\n",
       "    return\n",
       "  }\n",
       "  const py_version = docs[0].version.replace('rc', '-rc.')\n",
       "  const is_dev = py_version.indexOf(\"+\") !== -1 || py_version.indexOf(\"-\") !== -1\n",
       "  function embed_document(root) {\n",
       "    var Bokeh = get_bokeh(root)\n",
       "    Bokeh.embed.embed_items_notebook(docs_json, render_items);\n",
       "    for (const render_item of render_items) {\n",
       "      for (const root_id of render_item.root_ids) {\n",
       "\tconst id_el = document.getElementById(root_id)\n",
       "\tif (id_el.children.length && (id_el.children[0].className === 'bk-root')) {\n",
       "\t  const root_el = id_el.children[0]\n",
       "\t  root_el.id = root_el.id + '-rendered'\n",
       "\t}\n",
       "      }\n",
       "    }\n",
       "  }\n",
       "  function get_bokeh(root) {\n",
       "    if (root.Bokeh === undefined) {\n",
       "      return null\n",
       "    } else if (root.Bokeh.version !== py_version && !is_dev) {\n",
       "      if (root.Bokeh.versions === undefined || !root.Bokeh.versions.has(py_version)) {\n",
       "\treturn null\n",
       "      }\n",
       "      return root.Bokeh.versions.get(py_version);\n",
       "    } else if (root.Bokeh.version === py_version) {\n",
       "      return root.Bokeh\n",
       "    }\n",
       "    return null\n",
       "  }\n",
       "  function is_loaded(root) {\n",
       "    var Bokeh = get_bokeh(root)\n",
       "    return (Bokeh != null && Bokeh.Panel !== undefined)\n",
       "  }\n",
       "  if (is_loaded(root)) {\n",
       "    embed_document(root);\n",
       "  } else {\n",
       "    var attempts = 0;\n",
       "    var timer = setInterval(function(root) {\n",
       "      if (is_loaded(root)) {\n",
       "        clearInterval(timer);\n",
       "        embed_document(root);\n",
       "      } else if (document.readyState == \"complete\") {\n",
       "        attempts++;\n",
       "        if (attempts > 200) {\n",
       "          clearInterval(timer);\n",
       "\t  var Bokeh = get_bokeh(root)\n",
       "\t  if (Bokeh == null || Bokeh.Panel == null) {\n",
       "            console.warn(\"Panel: ERROR: Unable to run Panel code because Bokeh or Panel library is missing\");\n",
       "\t  } else {\n",
       "\t    console.warn(\"Panel: WARNING: Attempting to render but not all required libraries could be resolved.\")\n",
       "\t    embed_document(root)\n",
       "\t  }\n",
       "        }\n",
       "      }\n",
       "    }, 25, root)\n",
       "  }\n",
       "})(window);</script>"
      ],
      "text/plain": [
       ":Histogram   [maf]   (maf_count)"
      ]
     },
     "execution_count": 13,
     "metadata": {
      "application/vnd.holoviews_exec.v0+json": {
       "id": "p1455"
      }
     },
     "output_type": "execute_result"
    }
   ],
   "source": [
    "V.filter(pl.col(\"label\"))[\"maf\"].plot.hist(bins=100)"
   ]
  },
  {
   "cell_type": "code",
   "execution_count": 14,
   "metadata": {},
   "outputs": [
    {
     "data": {},
     "metadata": {},
     "output_type": "display_data"
    },
    {
     "data": {
      "application/vnd.holoviews_exec.v0+json": "",
      "text/html": [
       "<div id='p1606'>\n",
       "  <div id=\"a7327b3b-5ae5-45ba-8f78-e1b6e98c4837\" data-root-id=\"p1606\" style=\"display: contents;\"></div>\n",
       "</div>\n",
       "<script type=\"application/javascript\">(function(root) {\n",
       "  var docs_json = {\"b3c31e04-3f4a-4d93-82e0-7d4f5c9425f5\":{\"version\":\"3.1.1\",\"title\":\"Bokeh Application\",\"defs\":[{\"type\":\"model\",\"name\":\"ReactiveHTML1\"},{\"type\":\"model\",\"name\":\"FlexBox1\",\"properties\":[{\"name\":\"align_content\",\"kind\":\"Any\",\"default\":\"flex-start\"},{\"name\":\"align_items\",\"kind\":\"Any\",\"default\":\"flex-start\"},{\"name\":\"flex_direction\",\"kind\":\"Any\",\"default\":\"row\"},{\"name\":\"flex_wrap\",\"kind\":\"Any\",\"default\":\"wrap\"},{\"name\":\"justify_content\",\"kind\":\"Any\",\"default\":\"flex-start\"}]},{\"type\":\"model\",\"name\":\"FloatPanel1\",\"properties\":[{\"name\":\"config\",\"kind\":\"Any\",\"default\":{\"type\":\"map\"}},{\"name\":\"contained\",\"kind\":\"Any\",\"default\":true},{\"name\":\"position\",\"kind\":\"Any\",\"default\":\"right-top\"},{\"name\":\"offsetx\",\"kind\":\"Any\",\"default\":null},{\"name\":\"offsety\",\"kind\":\"Any\",\"default\":null},{\"name\":\"theme\",\"kind\":\"Any\",\"default\":\"primary\"},{\"name\":\"status\",\"kind\":\"Any\",\"default\":\"normalized\"}]},{\"type\":\"model\",\"name\":\"GridStack1\",\"properties\":[{\"name\":\"mode\",\"kind\":\"Any\",\"default\":\"warn\"},{\"name\":\"ncols\",\"kind\":\"Any\",\"default\":null},{\"name\":\"nrows\",\"kind\":\"Any\",\"default\":null},{\"name\":\"allow_resize\",\"kind\":\"Any\",\"default\":true},{\"name\":\"allow_drag\",\"kind\":\"Any\",\"default\":true},{\"name\":\"state\",\"kind\":\"Any\",\"default\":[]}]},{\"type\":\"model\",\"name\":\"drag1\",\"properties\":[{\"name\":\"slider_width\",\"kind\":\"Any\",\"default\":5},{\"name\":\"slider_color\",\"kind\":\"Any\",\"default\":\"black\"},{\"name\":\"value\",\"kind\":\"Any\",\"default\":50}]},{\"type\":\"model\",\"name\":\"click1\",\"properties\":[{\"name\":\"terminal_output\",\"kind\":\"Any\",\"default\":\"\"},{\"name\":\"debug_name\",\"kind\":\"Any\",\"default\":\"\"},{\"name\":\"clears\",\"kind\":\"Any\",\"default\":0}]},{\"type\":\"model\",\"name\":\"FastWrapper1\",\"properties\":[{\"name\":\"object\",\"kind\":\"Any\",\"default\":null},{\"name\":\"style\",\"kind\":\"Any\",\"default\":null}]},{\"type\":\"model\",\"name\":\"NotificationAreaBase1\",\"properties\":[{\"name\":\"position\",\"kind\":\"Any\",\"default\":\"bottom-right\"},{\"name\":\"_clear\",\"kind\":\"Any\",\"default\":0}]},{\"type\":\"model\",\"name\":\"NotificationArea1\",\"properties\":[{\"name\":\"notifications\",\"kind\":\"Any\",\"default\":[]},{\"name\":\"position\",\"kind\":\"Any\",\"default\":\"bottom-right\"},{\"name\":\"_clear\",\"kind\":\"Any\",\"default\":0},{\"name\":\"types\",\"kind\":\"Any\",\"default\":[{\"type\":\"map\",\"entries\":[[\"type\",\"warning\"],[\"background\",\"#ffc107\"],[\"icon\",{\"type\":\"map\",\"entries\":[[\"className\",\"fas fa-exclamation-triangle\"],[\"tagName\",\"i\"],[\"color\",\"white\"]]}]]},{\"type\":\"map\",\"entries\":[[\"type\",\"info\"],[\"background\",\"#007bff\"],[\"icon\",{\"type\":\"map\",\"entries\":[[\"className\",\"fas fa-info-circle\"],[\"tagName\",\"i\"],[\"color\",\"white\"]]}]]}]}]},{\"type\":\"model\",\"name\":\"Notification\",\"properties\":[{\"name\":\"background\",\"kind\":\"Any\",\"default\":null},{\"name\":\"duration\",\"kind\":\"Any\",\"default\":3000},{\"name\":\"icon\",\"kind\":\"Any\",\"default\":null},{\"name\":\"message\",\"kind\":\"Any\",\"default\":\"\"},{\"name\":\"notification_type\",\"kind\":\"Any\",\"default\":null},{\"name\":\"_destroyed\",\"kind\":\"Any\",\"default\":false}]},{\"type\":\"model\",\"name\":\"TemplateActions1\",\"properties\":[{\"name\":\"open_modal\",\"kind\":\"Any\",\"default\":0},{\"name\":\"close_modal\",\"kind\":\"Any\",\"default\":0}]},{\"type\":\"model\",\"name\":\"BootstrapTemplateActions1\",\"properties\":[{\"name\":\"open_modal\",\"kind\":\"Any\",\"default\":0},{\"name\":\"close_modal\",\"kind\":\"Any\",\"default\":0}]},{\"type\":\"model\",\"name\":\"MaterialTemplateActions1\",\"properties\":[{\"name\":\"open_modal\",\"kind\":\"Any\",\"default\":0},{\"name\":\"close_modal\",\"kind\":\"Any\",\"default\":0}]}],\"roots\":[{\"type\":\"object\",\"name\":\"Row\",\"id\":\"p1606\",\"attributes\":{\"name\":\"Row01356\",\"tags\":[\"embedded\"],\"stylesheets\":[\"\\n:host(.pn-loading.pn-arc):before, .pn-loading.pn-arc:before {\\n  background-image: url(\\\"data:image/svg+xml;base64,PHN2ZyB4bWxucz0iaHR0cDovL3d3dy53My5vcmcvMjAwMC9zdmciIHN0eWxlPSJtYXJnaW46IGF1dG87IGJhY2tncm91bmQ6IG5vbmU7IGRpc3BsYXk6IGJsb2NrOyBzaGFwZS1yZW5kZXJpbmc6IGF1dG87IiB2aWV3Qm94PSIwIDAgMTAwIDEwMCIgcHJlc2VydmVBc3BlY3RSYXRpbz0ieE1pZFlNaWQiPiAgPGNpcmNsZSBjeD0iNTAiIGN5PSI1MCIgZmlsbD0ibm9uZSIgc3Ryb2tlPSIjYzNjM2MzIiBzdHJva2Utd2lkdGg9IjEwIiByPSIzNSIgc3Ryb2tlLWRhc2hhcnJheT0iMTY0LjkzMzYxNDMxMzQ2NDE1IDU2Ljk3Nzg3MTQzNzgyMTM4Ij4gICAgPGFuaW1hdGVUcmFuc2Zvcm0gYXR0cmlidXRlTmFtZT0idHJhbnNmb3JtIiB0eXBlPSJyb3RhdGUiIHJlcGVhdENvdW50PSJpbmRlZmluaXRlIiBkdXI9IjFzIiB2YWx1ZXM9IjAgNTAgNTA7MzYwIDUwIDUwIiBrZXlUaW1lcz0iMDsxIj48L2FuaW1hdGVUcmFuc2Zvcm0+ICA8L2NpcmNsZT48L3N2Zz4=\\\");\\n  background-size: auto calc(min(50%, 400px));\\n}\",{\"type\":\"object\",\"name\":\"ImportedStyleSheet\",\"id\":\"p1609\",\"attributes\":{\"url\":\"https://cdn.holoviz.org/panel/1.1.0/dist/css/loading.css\"}},{\"type\":\"object\",\"name\":\"ImportedStyleSheet\",\"id\":\"p1698\",\"attributes\":{\"url\":\"https://cdn.holoviz.org/panel/1.1.0/dist/css/listpanel.css\"}},{\"type\":\"object\",\"name\":\"ImportedStyleSheet\",\"id\":\"p1607\",\"attributes\":{\"url\":\"https://cdn.holoviz.org/panel/1.1.0/dist/bundled/theme/default.css\"}},{\"type\":\"object\",\"name\":\"ImportedStyleSheet\",\"id\":\"p1608\",\"attributes\":{\"url\":\"https://cdn.holoviz.org/panel/1.1.0/dist/bundled/theme/native.css\"}}],\"min_width\":0,\"margin\":0,\"sizing_mode\":\"stretch_width\",\"align\":\"start\",\"children\":[{\"type\":\"object\",\"name\":\"Spacer\",\"id\":\"p1610\",\"attributes\":{\"name\":\"HSpacer01367\",\"stylesheets\":[\"\\n:host(.pn-loading.pn-arc):before, .pn-loading.pn-arc:before {\\n  background-image: url(\\\"data:image/svg+xml;base64,PHN2ZyB4bWxucz0iaHR0cDovL3d3dy53My5vcmcvMjAwMC9zdmciIHN0eWxlPSJtYXJnaW46IGF1dG87IGJhY2tncm91bmQ6IG5vbmU7IGRpc3BsYXk6IGJsb2NrOyBzaGFwZS1yZW5kZXJpbmc6IGF1dG87IiB2aWV3Qm94PSIwIDAgMTAwIDEwMCIgcHJlc2VydmVBc3BlY3RSYXRpbz0ieE1pZFlNaWQiPiAgPGNpcmNsZSBjeD0iNTAiIGN5PSI1MCIgZmlsbD0ibm9uZSIgc3Ryb2tlPSIjYzNjM2MzIiBzdHJva2Utd2lkdGg9IjEwIiByPSIzNSIgc3Ryb2tlLWRhc2hhcnJheT0iMTY0LjkzMzYxNDMxMzQ2NDE1IDU2Ljk3Nzg3MTQzNzgyMTM4Ij4gICAgPGFuaW1hdGVUcmFuc2Zvcm0gYXR0cmlidXRlTmFtZT0idHJhbnNmb3JtIiB0eXBlPSJyb3RhdGUiIHJlcGVhdENvdW50PSJpbmRlZmluaXRlIiBkdXI9IjFzIiB2YWx1ZXM9IjAgNTAgNTA7MzYwIDUwIDUwIiBrZXlUaW1lcz0iMDsxIj48L2FuaW1hdGVUcmFuc2Zvcm0+ICA8L2NpcmNsZT48L3N2Zz4=\\\");\\n  background-size: auto calc(min(50%, 400px));\\n}\",{\"id\":\"p1609\"},{\"id\":\"p1607\"},{\"id\":\"p1608\"}],\"margin\":0,\"sizing_mode\":\"stretch_width\",\"align\":\"start\"}},{\"type\":\"object\",\"name\":\"Figure\",\"id\":\"p1614\",\"attributes\":{\"width\":700,\"height\":300,\"margin\":[5,10],\"sizing_mode\":\"fixed\",\"align\":\"start\",\"x_range\":{\"type\":\"object\",\"name\":\"Range1d\",\"id\":\"p1611\",\"attributes\":{\"tags\":[[[\"maf\",\"maf\",null]]],\"start\":-0.021423762605714283,\"end\":0.5214283738057143,\"reset_start\":-0.021423762605714283,\"reset_end\":0.5214283738057143}},\"y_range\":{\"type\":\"object\",\"name\":\"Range1d\",\"id\":\"p1612\",\"attributes\":{\"tags\":[[[\"maf_count\",\"Count\",null]]],\"end\":3352674.8,\"reset_start\":0.0,\"reset_end\":3352674.8}},\"x_scale\":{\"type\":\"object\",\"name\":\"LinearScale\",\"id\":\"p1626\"},\"y_scale\":{\"type\":\"object\",\"name\":\"LinearScale\",\"id\":\"p1628\"},\"title\":{\"type\":\"object\",\"name\":\"Title\",\"id\":\"p1617\",\"attributes\":{\"text_color\":\"black\",\"text_font_size\":\"12pt\"}},\"renderers\":[{\"type\":\"object\",\"name\":\"GlyphRenderer\",\"id\":\"p1668\",\"attributes\":{\"data_source\":{\"type\":\"object\",\"name\":\"ColumnDataSource\",\"id\":\"p1658\",\"attributes\":{\"selected\":{\"type\":\"object\",\"name\":\"Selection\",\"id\":\"p1660\",\"attributes\":{\"indices\":[],\"line_indices\":[]}},\"selection_policy\":{\"type\":\"object\",\"name\":\"UnionRenderers\",\"id\":\"p1659\"},\"data\":{\"type\":\"map\",\"entries\":[[\"top\",{\"type\":\"ndarray\",\"array\":{\"type\":\"bytes\",\"data\":\"gZAuABxmDwDGuQgAVjoGAE7GBAB04gMALmEDAMX1AgBvnAIAeGACAAg4AgAdBgIA8/cBANjGAQCArgEAeJkBAGGKAQBRfQEA12gBAKJdAQD3UwEAvVQBAB1EAQBWPgEAYzYBAHw7AQDvJAEA3x8BAK8SAQBxFAEAsQEBAFsJAQC8BQEAJf8AAPb/AAAx+QAAO/gAAO3yAADQ6wAADuoAAIDoAABO4wAAot4AAKzcAAAU3gAA3OQAADjNAACn0gAAn9gAAC3RAAAqygAA48UAAHvNAACGzQAA9ccAAD/HAAAJvwAA474AACu/AACwwQAAa8AAAMm/AAA1vwAAZ7oAAMW/AAAVuAAAlbkAAB2zAAAbsgAANbAAALK2AADttQAAR7YAALWxAADusgAA77MAAA2zAABDsgAAZK8AABmyAAAdqwAA36sAAAKuAAB8qgAA2KgAALKqAAAApAAAz6oAAEqxAAAFsAAALq0AABerAAA0pwAAr6EAAHKtAAANqQAAW6QAAFOpAACLqQAAfakAAA==\"},\"shape\":[100],\"dtype\":\"int32\",\"order\":\"little\"}],[\"left\",{\"type\":\"ndarray\",\"array\":{\"type\":\"bytes\",\"data\":\"X+wmAT1X0z4xfCO2qn90P1RXg84/fYQ/j/D0Qaq6jj/lRLNaCnyUP4MRbJS/mpk/IN4kznS5nj9e1e4DFeyhP607y6Bve6Q//KGnPcoKpz9LCITaJJqpP5luYHd/Kaw/6NQ8FNq4rj+cnYxYGqSwP8PQ+qbH67E/6wNp9XQzsz8SN9dDInu0PzlqRZLPwrU/YZ2z4HwKtz+I0CEvKlK4P7ADkH3Xmbk/1zb+y4Thuj/+aWwaMim8Pyad2mjfcL0/TdBIt4y4vj+6gdsCHQDAP06bEqrzo8A/4rRJUcpHwT91zoD4oOvBPwnot593j8I/nQHvRk4zwz8wGybuJNfDP8Q0XZX7esQ/WE6UPNIexT/rZ8vjqMLFP3+BAot/ZsY/E5s5MlYKxz+mtHDZLK7HPzrOp4ADUsg/zufeJ9r1yD9iARbPsJnJP/UaTXaHPco/iTSEHV7hyj8dTrvENIXLP7Bn8msLKcw/RIEpE+LMzD/YmmC6uHDNP2u0l2GPFM4//83OCGa4zj+T5wWwPFzPP5OAnqsJANA/XQ06//RR0D8nmtVS4KPQP/EmcabL9dA/u7MM+rZH0T+EQKhNopnRP07NQ6GN69E/GFrf9Hg90j/i5npIZI/SP6xzFpxP4dI/dgCy7zoz0z8/jU1DJoXTPwka6ZYR19M/06aE6vwo1D+dMyA+6HrUP2fAu5HTzNQ/MU1X5b4e1T/72fI4qnDVP8RmjoyVwtU/jvMp4IAU1j9YgMUzbGbWPyINYYdXuNY/7Jn82kIK1z+2JpguLlzXP3+zM4IZrtc/SUDP1QQA2D8TzWop8FHYP91ZBn3bo9g/p+ah0Mb12D9xcz0kskfZPzsA2Xedmdk/BI10y4jr2T/OGRAfdD3aP5imq3Jfj9o/YjNHxkrh2j8swOIZNjPbP/ZMfm0hhds/v9kZwQzX2z+JZrUU+CjcP1PzUGjjetw/HYDsu87M3D/nDIgPuh7dP7GZI2OlcN0/eia/tpDC3T9Es1oKfBTePw5A9l1nZt4/2MyRsVK43j+iWS0FPgrfP2zmyFgpXN8/NnNkrBSu3z8=\"},\"shape\":[100],\"dtype\":\"float64\",\"order\":\"little\"}],[\"right\",{\"type\":\"ndarray\",\"array\":{\"type\":\"bytes\",\"data\":\"MXwjtqp/dD9UV4POP32EP4/w9EGquo4/5USzWgp8lD+DEWyUv5qZPyDeJM50uZ4/XtXuAxXsoT+tO8ugb3ukP/yhpz3KCqc/SwiE2iSaqT+ZbmB3fymsP+jUPBTauK4/nJ2MWBqksD/D0Pqmx+uxP+sDafV0M7M/EjfXQyJ7tD85akWSz8K1P2Gds+B8Crc/iNAhLypSuD+wA5B915m5P9c2/suE4bo//mlsGjIpvD8mndpo33C9P03QSLeMuL4/uoHbAh0AwD9OmxKq86PAP+K0SVHKR8E/dc6A+KDrwT8J6Lefd4/CP50B70ZOM8M/MBsm7iTXwz/ENF2V+3rEP1hOlDzSHsU/62fL46jCxT9/gQKLf2bGPxObOTJWCsc/prRw2Syuxz86zqeAA1LIP87n3ifa9cg/YgEWz7CZyT/1Gk12hz3KP4k0hB1e4co/HU67xDSFyz+wZ/JrCynMP0SBKRPizMw/2JpgurhwzT9rtJdhjxTOP//NzghmuM4/k+cFsDxczz+TgJ6rCQDQP10NOv/0UdA/J5rVUuCj0D/xJnGmy/XQP7uzDPq2R9E/hECoTaKZ0T9OzUOhjevRPxha3/R4PdI/4uZ6SGSP0j+scxacT+HSP3YAsu86M9M/P41NQyaF0z8JGumWEdfTP9OmhOr8KNQ/nTMgPuh61D9nwLuR08zUPzFNV+W+HtU/+9nyOKpw1T/EZo6MlcLVP47zKeCAFNY/WIDFM2xm1j8iDWGHV7jWP+yZ/NpCCtc/tiaYLi5c1z9/szOCGa7XP0lAz9UEANg/E81qKfBR2D/dWQZ926PYP6fmodDG9dg/cXM9JLJH2T87ANl3nZnZPwSNdMuI69k/zhkQH3Q92j+YpqtyX4/aP2IzR8ZK4do/LMDiGTYz2z/2TH5tIYXbP7/ZGcEM19s/iWa1FPgo3D9T81Bo43rcPx2A7LvOzNw/5wyID7oe3T+xmSNjpXDdP3omv7aQwt0/RLNaCnwU3j8OQPZdZ2beP9jMkbFSuN4/olktBT4K3z9s5shYKVzfPzZzZKwUrt8/AAAAAAAA4D8=\"},\"shape\":[100],\"dtype\":\"float64\",\"order\":\"little\"}],[\"maf\",{\"type\":\"ndarray\",\"array\":{\"type\":\"bytes\",\"data\":\"7MVjhYCEZD9sFZUpFb1+P/IjPAj1m4k/lt7Wva/skT80q4/3ZAuXP9J3SDEaKpw/N6KAtWekoD+GCF1SwjOjP9RuOe8cw6U/JNUVjHdSqD9yO/Io0uGqP8ChzsUsca0/CIRVsUMAsD8wt8P/8EexP1fqMU6ej7I/fh2gnEvXsz+mUA7r+B61P82DfDmmZrY/9Lbqh1Outz8c6ljWAPa4P0QdxySuPbo/alA1c1uFuz+Sg6PBCM28P7q2ERC2FL4/4Ol/XmNcvz+EDndWCFLAPxgorv3e9cA/rEHlpLWZwT8/WxxMjD3CP9N0U/Ni4cI/Zo6KmjmFwz/6p8FBECnEP47B+OjmzMQ/ItsvkL1wxT+19GY3lBTGP0kOnt5quMY/3CfVhUFcxz9wQQwtGADIPwRbQ9Tuo8g/mHR6e8VHyT8sjrEinOvJP7+n6Mlyj8o/U8EfcUkzyz/m2lYYINfLP3r0jb/2esw/Dg7FZs0ezT+iJ/wNpMLNPzVBM7V6Zs4/yVpqXFEKzz9cdKEDKK7PP/hGbFX/KNA/wtMHqep60D+MYKP81czQP1btPlDBHtE/IHrao6xw0T/pBnb3l8LRP7OTEUuDFNI/fSCtnm5m0j9HrUjyWbjSPxE65EVFCtM/2sZ/mTBc0z+kUxvtG67TP27gtkAHANQ/OG1SlPJR1D8C+u3n3aPUP8yGiTvJ9dQ/lhMlj7RH1T9goMDin5nVPyktXDaL69U/87n3iXY91j+9RpPdYY/WP4fTLjFN4dY/UWDKhDgz1z8a7WXYI4XXP+R5ASwP19c/rgadf/oo2D94kzjT5XrYP0Ig1CbRzNg/DK1verwe2T/WOQvOp3DZP6DGpiGTwtk/aVNCdX4U2j8z4N3IaWbaP/1seRxVuNo/x/kUcEAK2z+RhrDDK1zbP1oTTBcXrts/JKDnagIA3D/uLIO+7VHcP7i5HhLZo9w/gka6ZcT13D9M01W5r0fdPxZg8Qybmd0/3+yMYIbr3T+peSi0cT3eP3MGxAddj94/PZNfW0jh3j8HIPuuMzPfP9GslgIfhd8/mzkyVgrX3z8=\"},\"shape\":[100],\"dtype\":\"float64\",\"order\":\"little\"}],[\"maf_count\",{\"type\":\"ndarray\",\"array\":{\"type\":\"bytes\",\"data\":\"gZAuABxmDwDGuQgAVjoGAE7GBAB04gMALmEDAMX1AgBvnAIAeGACAAg4AgAdBgIA8/cBANjGAQCArgEAeJkBAGGKAQBRfQEA12gBAKJdAQD3UwEAvVQBAB1EAQBWPgEAYzYBAHw7AQDvJAEA3x8BAK8SAQBxFAEAsQEBAFsJAQC8BQEAJf8AAPb/AAAx+QAAO/gAAO3yAADQ6wAADuoAAIDoAABO4wAAot4AAKzcAAAU3gAA3OQAADjNAACn0gAAn9gAAC3RAAAqygAA48UAAHvNAACGzQAA9ccAAD/HAAAJvwAA474AACu/AACwwQAAa8AAAMm/AAA1vwAAZ7oAAMW/AAAVuAAAlbkAAB2zAAAbsgAANbAAALK2AADttQAAR7YAALWxAADusgAA77MAAA2zAABDsgAAZK8AABmyAAAdqwAA36sAAAKuAAB8qgAA2KgAALKqAAAApAAAz6oAAEqxAAAFsAAALq0AABerAAA0pwAAr6EAAHKtAAANqQAAW6QAAFOpAACLqQAAfakAAA==\"},\"shape\":[100],\"dtype\":\"int32\",\"order\":\"little\"}]]}}},\"view\":{\"type\":\"object\",\"name\":\"CDSView\",\"id\":\"p1669\",\"attributes\":{\"filter\":{\"type\":\"object\",\"name\":\"AllIndices\",\"id\":\"p1670\"}}},\"glyph\":{\"type\":\"object\",\"name\":\"Quad\",\"id\":\"p1665\",\"attributes\":{\"tags\":[\"apply_ranges\"],\"left\":{\"type\":\"field\",\"field\":\"left\"},\"right\":{\"type\":\"field\",\"field\":\"right\"},\"bottom\":{\"type\":\"value\",\"value\":0},\"top\":{\"type\":\"field\",\"field\":\"top\"},\"fill_color\":{\"type\":\"value\",\"value\":\"#30a2da\"},\"hatch_color\":{\"type\":\"value\",\"value\":\"#30a2da\"}}},\"selection_glyph\":{\"type\":\"object\",\"name\":\"Quad\",\"id\":\"p1671\",\"attributes\":{\"tags\":[\"apply_ranges\"],\"left\":{\"type\":\"field\",\"field\":\"left\"},\"right\":{\"type\":\"field\",\"field\":\"right\"},\"bottom\":{\"type\":\"value\",\"value\":0},\"top\":{\"type\":\"field\",\"field\":\"top\"},\"line_color\":{\"type\":\"value\",\"value\":\"black\"},\"line_alpha\":{\"type\":\"value\",\"value\":1.0},\"line_width\":{\"type\":\"value\",\"value\":1},\"line_join\":{\"type\":\"value\",\"value\":\"bevel\"},\"line_cap\":{\"type\":\"value\",\"value\":\"butt\"},\"line_dash\":{\"type\":\"value\",\"value\":[]},\"line_dash_offset\":{\"type\":\"value\",\"value\":0},\"fill_color\":{\"type\":\"value\",\"value\":\"#30a2da\"},\"fill_alpha\":{\"type\":\"value\",\"value\":1.0},\"hatch_color\":{\"type\":\"value\",\"value\":\"#30a2da\"},\"hatch_alpha\":{\"type\":\"value\",\"value\":1.0},\"hatch_scale\":{\"type\":\"value\",\"value\":12.0},\"hatch_pattern\":{\"type\":\"value\",\"value\":null},\"hatch_weight\":{\"type\":\"value\",\"value\":1.0}}},\"nonselection_glyph\":{\"type\":\"object\",\"name\":\"Quad\",\"id\":\"p1666\",\"attributes\":{\"tags\":[\"apply_ranges\"],\"left\":{\"type\":\"field\",\"field\":\"left\"},\"right\":{\"type\":\"field\",\"field\":\"right\"},\"bottom\":{\"type\":\"value\",\"value\":0},\"top\":{\"type\":\"field\",\"field\":\"top\"},\"line_alpha\":{\"type\":\"value\",\"value\":0.1},\"fill_color\":{\"type\":\"value\",\"value\":\"#30a2da\"},\"fill_alpha\":{\"type\":\"value\",\"value\":0.1},\"hatch_color\":{\"type\":\"value\",\"value\":\"#30a2da\"},\"hatch_alpha\":{\"type\":\"value\",\"value\":0.1}}},\"muted_glyph\":{\"type\":\"object\",\"name\":\"Quad\",\"id\":\"p1667\",\"attributes\":{\"tags\":[\"apply_ranges\"],\"left\":{\"type\":\"field\",\"field\":\"left\"},\"right\":{\"type\":\"field\",\"field\":\"right\"},\"bottom\":{\"type\":\"value\",\"value\":0},\"top\":{\"type\":\"field\",\"field\":\"top\"},\"line_alpha\":{\"type\":\"value\",\"value\":0.2},\"fill_color\":{\"type\":\"value\",\"value\":\"#30a2da\"},\"fill_alpha\":{\"type\":\"value\",\"value\":0.2},\"hatch_color\":{\"type\":\"value\",\"value\":\"#30a2da\"},\"hatch_alpha\":{\"type\":\"value\",\"value\":0.2}}}}}],\"toolbar\":{\"type\":\"object\",\"name\":\"Toolbar\",\"id\":\"p1623\",\"attributes\":{\"tools\":[{\"type\":\"object\",\"name\":\"HoverTool\",\"id\":\"p1613\",\"attributes\":{\"tags\":[\"hv_created\"],\"renderers\":[{\"id\":\"p1668\"}],\"tooltips\":[[\"maf\",\"@{maf}\"],[\"Count\",\"@{maf_count}\"]]}},{\"type\":\"object\",\"name\":\"SaveTool\",\"id\":\"p1644\"},{\"type\":\"object\",\"name\":\"PanTool\",\"id\":\"p1645\"},{\"type\":\"object\",\"name\":\"WheelZoomTool\",\"id\":\"p1646\"},{\"type\":\"object\",\"name\":\"BoxZoomTool\",\"id\":\"p1647\",\"attributes\":{\"overlay\":{\"type\":\"object\",\"name\":\"BoxAnnotation\",\"id\":\"p1648\",\"attributes\":{\"syncable\":false,\"level\":\"overlay\",\"visible\":false,\"left_units\":\"canvas\",\"right_units\":\"canvas\",\"bottom_units\":\"canvas\",\"top_units\":\"canvas\",\"line_color\":\"black\",\"line_alpha\":1.0,\"line_width\":2,\"line_dash\":[4,4],\"fill_color\":\"lightgrey\",\"fill_alpha\":0.5}}}},{\"type\":\"object\",\"name\":\"ResetTool\",\"id\":\"p1649\"}],\"active_drag\":{\"id\":\"p1645\"},\"active_scroll\":{\"id\":\"p1646\"}}},\"left\":[{\"type\":\"object\",\"name\":\"LinearAxis\",\"id\":\"p1637\",\"attributes\":{\"ticker\":{\"type\":\"object\",\"name\":\"BasicTicker\",\"id\":\"p1639\",\"attributes\":{\"mantissas\":[1,2,5]}},\"formatter\":{\"type\":\"object\",\"name\":\"BasicTickFormatter\",\"id\":\"p1640\"},\"axis_label\":\"\",\"major_label_policy\":{\"type\":\"object\",\"name\":\"AllLabels\",\"id\":\"p1638\"}}}],\"below\":[{\"type\":\"object\",\"name\":\"LinearAxis\",\"id\":\"p1630\",\"attributes\":{\"ticker\":{\"type\":\"object\",\"name\":\"BasicTicker\",\"id\":\"p1632\",\"attributes\":{\"mantissas\":[1,2,5]}},\"formatter\":{\"type\":\"object\",\"name\":\"BasicTickFormatter\",\"id\":\"p1633\"},\"axis_label\":\"maf\",\"major_label_policy\":{\"type\":\"object\",\"name\":\"AllLabels\",\"id\":\"p1631\"}}}],\"center\":[{\"type\":\"object\",\"name\":\"Grid\",\"id\":\"p1636\",\"attributes\":{\"axis\":{\"id\":\"p1630\"},\"grid_line_color\":null}},{\"type\":\"object\",\"name\":\"Grid\",\"id\":\"p1643\",\"attributes\":{\"dimension\":1,\"axis\":{\"id\":\"p1637\"},\"grid_line_color\":null}}],\"min_border_top\":10,\"min_border_bottom\":10,\"min_border_left\":10,\"min_border_right\":10,\"output_backend\":\"webgl\"}},{\"type\":\"object\",\"name\":\"Spacer\",\"id\":\"p1696\",\"attributes\":{\"name\":\"HSpacer01370\",\"stylesheets\":[\"\\n:host(.pn-loading.pn-arc):before, .pn-loading.pn-arc:before {\\n  background-image: url(\\\"data:image/svg+xml;base64,PHN2ZyB4bWxucz0iaHR0cDovL3d3dy53My5vcmcvMjAwMC9zdmciIHN0eWxlPSJtYXJnaW46IGF1dG87IGJhY2tncm91bmQ6IG5vbmU7IGRpc3BsYXk6IGJsb2NrOyBzaGFwZS1yZW5kZXJpbmc6IGF1dG87IiB2aWV3Qm94PSIwIDAgMTAwIDEwMCIgcHJlc2VydmVBc3BlY3RSYXRpbz0ieE1pZFlNaWQiPiAgPGNpcmNsZSBjeD0iNTAiIGN5PSI1MCIgZmlsbD0ibm9uZSIgc3Ryb2tlPSIjYzNjM2MzIiBzdHJva2Utd2lkdGg9IjEwIiByPSIzNSIgc3Ryb2tlLWRhc2hhcnJheT0iMTY0LjkzMzYxNDMxMzQ2NDE1IDU2Ljk3Nzg3MTQzNzgyMTM4Ij4gICAgPGFuaW1hdGVUcmFuc2Zvcm0gYXR0cmlidXRlTmFtZT0idHJhbnNmb3JtIiB0eXBlPSJyb3RhdGUiIHJlcGVhdENvdW50PSJpbmRlZmluaXRlIiBkdXI9IjFzIiB2YWx1ZXM9IjAgNTAgNTA7MzYwIDUwIDUwIiBrZXlUaW1lcz0iMDsxIj48L2FuaW1hdGVUcmFuc2Zvcm0+ICA8L2NpcmNsZT48L3N2Zz4=\\\");\\n  background-size: auto calc(min(50%, 400px));\\n}\",{\"id\":\"p1609\"},{\"id\":\"p1607\"},{\"id\":\"p1608\"}],\"margin\":0,\"sizing_mode\":\"stretch_width\",\"align\":\"start\"}}]}}],\"callbacks\":{\"type\":\"map\"}}};\n",
       "  var render_items = [{\"docid\":\"b3c31e04-3f4a-4d93-82e0-7d4f5c9425f5\",\"roots\":{\"p1606\":\"a7327b3b-5ae5-45ba-8f78-e1b6e98c4837\"},\"root_ids\":[\"p1606\"]}];\n",
       "  var docs = Object.values(docs_json)\n",
       "  if (!docs) {\n",
       "    return\n",
       "  }\n",
       "  const py_version = docs[0].version.replace('rc', '-rc.')\n",
       "  const is_dev = py_version.indexOf(\"+\") !== -1 || py_version.indexOf(\"-\") !== -1\n",
       "  function embed_document(root) {\n",
       "    var Bokeh = get_bokeh(root)\n",
       "    Bokeh.embed.embed_items_notebook(docs_json, render_items);\n",
       "    for (const render_item of render_items) {\n",
       "      for (const root_id of render_item.root_ids) {\n",
       "\tconst id_el = document.getElementById(root_id)\n",
       "\tif (id_el.children.length && (id_el.children[0].className === 'bk-root')) {\n",
       "\t  const root_el = id_el.children[0]\n",
       "\t  root_el.id = root_el.id + '-rendered'\n",
       "\t}\n",
       "      }\n",
       "    }\n",
       "  }\n",
       "  function get_bokeh(root) {\n",
       "    if (root.Bokeh === undefined) {\n",
       "      return null\n",
       "    } else if (root.Bokeh.version !== py_version && !is_dev) {\n",
       "      if (root.Bokeh.versions === undefined || !root.Bokeh.versions.has(py_version)) {\n",
       "\treturn null\n",
       "      }\n",
       "      return root.Bokeh.versions.get(py_version);\n",
       "    } else if (root.Bokeh.version === py_version) {\n",
       "      return root.Bokeh\n",
       "    }\n",
       "    return null\n",
       "  }\n",
       "  function is_loaded(root) {\n",
       "    var Bokeh = get_bokeh(root)\n",
       "    return (Bokeh != null && Bokeh.Panel !== undefined)\n",
       "  }\n",
       "  if (is_loaded(root)) {\n",
       "    embed_document(root);\n",
       "  } else {\n",
       "    var attempts = 0;\n",
       "    var timer = setInterval(function(root) {\n",
       "      if (is_loaded(root)) {\n",
       "        clearInterval(timer);\n",
       "        embed_document(root);\n",
       "      } else if (document.readyState == \"complete\") {\n",
       "        attempts++;\n",
       "        if (attempts > 200) {\n",
       "          clearInterval(timer);\n",
       "\t  var Bokeh = get_bokeh(root)\n",
       "\t  if (Bokeh == null || Bokeh.Panel == null) {\n",
       "            console.warn(\"Panel: ERROR: Unable to run Panel code because Bokeh or Panel library is missing\");\n",
       "\t  } else {\n",
       "\t    console.warn(\"Panel: WARNING: Attempting to render but not all required libraries could be resolved.\")\n",
       "\t    embed_document(root)\n",
       "\t  }\n",
       "        }\n",
       "      }\n",
       "    }, 25, root)\n",
       "  }\n",
       "})(window);</script>"
      ],
      "text/plain": [
       ":Histogram   [maf]   (maf_count)"
      ]
     },
     "execution_count": 14,
     "metadata": {
      "application/vnd.holoviews_exec.v0+json": {
       "id": "p1606"
      }
     },
     "output_type": "execute_result"
    }
   ],
   "source": [
    "V.filter(~pl.col(\"label\"))[\"maf\"].plot.hist(bins=100)"
   ]
  },
  {
   "cell_type": "code",
   "execution_count": 16,
   "metadata": {},
   "outputs": [
    {
     "data": {
      "text/html": [
       "<div>\n",
       "<style scoped>\n",
       "    .dataframe tbody tr th:only-of-type {\n",
       "        vertical-align: middle;\n",
       "    }\n",
       "\n",
       "    .dataframe tbody tr th {\n",
       "        vertical-align: top;\n",
       "    }\n",
       "\n",
       "    .dataframe thead th {\n",
       "        text-align: right;\n",
       "    }\n",
       "</style>\n",
       "<table border=\"1\" class=\"dataframe\">\n",
       "  <thead>\n",
       "    <tr style=\"text-align: right;\">\n",
       "      <th></th>\n",
       "      <th>chrom</th>\n",
       "      <th>pos</th>\n",
       "      <th>ref</th>\n",
       "      <th>alt</th>\n",
       "      <th>pip</th>\n",
       "      <th>trait</th>\n",
       "      <th>label</th>\n",
       "      <th>maf</th>\n",
       "      <th>ld_score</th>\n",
       "      <th>consequence</th>\n",
       "      <th>CADD_RawScore</th>\n",
       "      <th>GPN-MSA_absLLR_score</th>\n",
       "    </tr>\n",
       "  </thead>\n",
       "  <tbody>\n",
       "    <tr>\n",
       "      <th>0</th>\n",
       "      <td>1</td>\n",
       "      <td>758351</td>\n",
       "      <td>A</td>\n",
       "      <td>G</td>\n",
       "      <td>0.000000</td>\n",
       "      <td></td>\n",
       "      <td>False</td>\n",
       "      <td>0.115810</td>\n",
       "      <td>80.2220</td>\n",
       "      <td>intron_variant</td>\n",
       "      <td>0.745346</td>\n",
       "      <td>0.050781</td>\n",
       "    </tr>\n",
       "    <tr>\n",
       "      <th>1</th>\n",
       "      <td>1</td>\n",
       "      <td>772142</td>\n",
       "      <td>G</td>\n",
       "      <td>C</td>\n",
       "      <td>0.000000</td>\n",
       "      <td></td>\n",
       "      <td>False</td>\n",
       "      <td>0.097076</td>\n",
       "      <td>73.0520</td>\n",
       "      <td>intron_variant</td>\n",
       "      <td>-0.382612</td>\n",
       "      <td>1.642578</td>\n",
       "    </tr>\n",
       "    <tr>\n",
       "      <th>2</th>\n",
       "      <td>1</td>\n",
       "      <td>782207</td>\n",
       "      <td>G</td>\n",
       "      <td>A</td>\n",
       "      <td>0.000000</td>\n",
       "      <td></td>\n",
       "      <td>False</td>\n",
       "      <td>0.015778</td>\n",
       "      <td>12.1720</td>\n",
       "      <td>intron_variant</td>\n",
       "      <td>0.207167</td>\n",
       "      <td>0.259766</td>\n",
       "    </tr>\n",
       "    <tr>\n",
       "      <th>3</th>\n",
       "      <td>1</td>\n",
       "      <td>787949</td>\n",
       "      <td>A</td>\n",
       "      <td>T</td>\n",
       "      <td>0.000000</td>\n",
       "      <td></td>\n",
       "      <td>False</td>\n",
       "      <td>0.001744</td>\n",
       "      <td>5.0762</td>\n",
       "      <td>intron_variant</td>\n",
       "      <td>0.327236</td>\n",
       "      <td>3.337891</td>\n",
       "    </tr>\n",
       "    <tr>\n",
       "      <th>4</th>\n",
       "      <td>1</td>\n",
       "      <td>794707</td>\n",
       "      <td>T</td>\n",
       "      <td>C</td>\n",
       "      <td>0.000000</td>\n",
       "      <td></td>\n",
       "      <td>False</td>\n",
       "      <td>0.056288</td>\n",
       "      <td>50.0190</td>\n",
       "      <td>intron_variant</td>\n",
       "      <td>0.611349</td>\n",
       "      <td>1.332031</td>\n",
       "    </tr>\n",
       "    <tr>\n",
       "      <th>...</th>\n",
       "      <td>...</td>\n",
       "      <td>...</td>\n",
       "      <td>...</td>\n",
       "      <td>...</td>\n",
       "      <td>...</td>\n",
       "      <td>...</td>\n",
       "      <td>...</td>\n",
       "      <td>...</td>\n",
       "      <td>...</td>\n",
       "      <td>...</td>\n",
       "      <td>...</td>\n",
       "      <td>...</td>\n",
       "    </tr>\n",
       "    <tr>\n",
       "      <th>11775253</th>\n",
       "      <td>22</td>\n",
       "      <td>50791377</td>\n",
       "      <td>T</td>\n",
       "      <td>C</td>\n",
       "      <td>0.000000</td>\n",
       "      <td></td>\n",
       "      <td>False</td>\n",
       "      <td>0.072962</td>\n",
       "      <td>59.2960</td>\n",
       "      <td>intron_variant</td>\n",
       "      <td>0.361089</td>\n",
       "      <td>0.309570</td>\n",
       "    </tr>\n",
       "    <tr>\n",
       "      <th>11775254</th>\n",
       "      <td>22</td>\n",
       "      <td>50792792</td>\n",
       "      <td>A</td>\n",
       "      <td>G</td>\n",
       "      <td>0.000000</td>\n",
       "      <td></td>\n",
       "      <td>False</td>\n",
       "      <td>0.053750</td>\n",
       "      <td>43.4570</td>\n",
       "      <td>intron_variant</td>\n",
       "      <td>1.123357</td>\n",
       "      <td>0.059998</td>\n",
       "    </tr>\n",
       "    <tr>\n",
       "      <th>11775255</th>\n",
       "      <td>22</td>\n",
       "      <td>50795771</td>\n",
       "      <td>T</td>\n",
       "      <td>C</td>\n",
       "      <td>0.000000</td>\n",
       "      <td></td>\n",
       "      <td>False</td>\n",
       "      <td>0.000132</td>\n",
       "      <td>45.3990</td>\n",
       "      <td>intron_variant</td>\n",
       "      <td>-0.395607</td>\n",
       "      <td>1.624023</td>\n",
       "    </tr>\n",
       "    <tr>\n",
       "      <th>11775256</th>\n",
       "      <td>22</td>\n",
       "      <td>50798635</td>\n",
       "      <td>T</td>\n",
       "      <td>C</td>\n",
       "      <td>0.001031</td>\n",
       "      <td></td>\n",
       "      <td>False</td>\n",
       "      <td>0.298370</td>\n",
       "      <td>36.0210</td>\n",
       "      <td>intron_variant</td>\n",
       "      <td>0.363428</td>\n",
       "      <td>2.371094</td>\n",
       "    </tr>\n",
       "    <tr>\n",
       "      <th>11775257</th>\n",
       "      <td>22</td>\n",
       "      <td>50799284</td>\n",
       "      <td>G</td>\n",
       "      <td>A</td>\n",
       "      <td>0.000000</td>\n",
       "      <td></td>\n",
       "      <td>False</td>\n",
       "      <td>0.055278</td>\n",
       "      <td>42.9570</td>\n",
       "      <td>non_coding_transcript_exon_variant</td>\n",
       "      <td>0.626373</td>\n",
       "      <td>3.484375</td>\n",
       "    </tr>\n",
       "  </tbody>\n",
       "</table>\n",
       "<p>11775258 rows × 12 columns</p>\n",
       "</div>"
      ],
      "text/plain": [
       "         chrom       pos ref alt       pip trait  label       maf  ld_score  \\\n",
       "0            1    758351   A   G  0.000000        False  0.115810   80.2220   \n",
       "1            1    772142   G   C  0.000000        False  0.097076   73.0520   \n",
       "2            1    782207   G   A  0.000000        False  0.015778   12.1720   \n",
       "3            1    787949   A   T  0.000000        False  0.001744    5.0762   \n",
       "4            1    794707   T   C  0.000000        False  0.056288   50.0190   \n",
       "...        ...       ...  ..  ..       ...   ...    ...       ...       ...   \n",
       "11775253    22  50791377   T   C  0.000000        False  0.072962   59.2960   \n",
       "11775254    22  50792792   A   G  0.000000        False  0.053750   43.4570   \n",
       "11775255    22  50795771   T   C  0.000000        False  0.000132   45.3990   \n",
       "11775256    22  50798635   T   C  0.001031        False  0.298370   36.0210   \n",
       "11775257    22  50799284   G   A  0.000000        False  0.055278   42.9570   \n",
       "\n",
       "                                 consequence  CADD_RawScore  \\\n",
       "0                             intron_variant       0.745346   \n",
       "1                             intron_variant      -0.382612   \n",
       "2                             intron_variant       0.207167   \n",
       "3                             intron_variant       0.327236   \n",
       "4                             intron_variant       0.611349   \n",
       "...                                      ...            ...   \n",
       "11775253                      intron_variant       0.361089   \n",
       "11775254                      intron_variant       1.123357   \n",
       "11775255                      intron_variant      -0.395607   \n",
       "11775256                      intron_variant       0.363428   \n",
       "11775257  non_coding_transcript_exon_variant       0.626373   \n",
       "\n",
       "          GPN-MSA_absLLR_score  \n",
       "0                     0.050781  \n",
       "1                     1.642578  \n",
       "2                     0.259766  \n",
       "3                     3.337891  \n",
       "4                     1.332031  \n",
       "...                        ...  \n",
       "11775253              0.309570  \n",
       "11775254              0.059998  \n",
       "11775255              1.624023  \n",
       "11775256              2.371094  \n",
       "11775257              3.484375  \n",
       "\n",
       "[11775258 rows x 12 columns]"
      ]
     },
     "execution_count": 16,
     "metadata": {},
     "output_type": "execute_result"
    }
   ],
   "source": [
    "# just for experimentation\n",
    "V = V.to_pandas()\n",
    "V"
   ]
  },
  {
   "cell_type": "code",
   "execution_count": 91,
   "metadata": {},
   "outputs": [
    {
     "data": {
      "text/plain": [
       "array([0.   , 0.005, 0.01 , 0.015, 0.02 , 0.025, 0.03 , 0.035, 0.04 ,\n",
       "       0.045, 0.05 , 0.055, 0.06 , 0.065, 0.07 , 0.075, 0.08 , 0.085,\n",
       "       0.09 , 0.095, 0.1  , 0.105, 0.11 , 0.115, 0.12 , 0.125, 0.13 ,\n",
       "       0.135, 0.14 , 0.145, 0.15 , 0.155, 0.16 , 0.165, 0.17 , 0.175,\n",
       "       0.18 , 0.185, 0.19 , 0.195, 0.2  , 0.205, 0.21 , 0.215, 0.22 ,\n",
       "       0.225, 0.23 , 0.235, 0.24 , 0.245, 0.25 , 0.255, 0.26 , 0.265,\n",
       "       0.27 , 0.275, 0.28 , 0.285, 0.29 , 0.295, 0.3  , 0.305, 0.31 ,\n",
       "       0.315, 0.32 , 0.325, 0.33 , 0.335, 0.34 , 0.345, 0.35 , 0.355,\n",
       "       0.36 , 0.365, 0.37 , 0.375, 0.38 , 0.385, 0.39 , 0.395, 0.4  ,\n",
       "       0.405, 0.41 , 0.415, 0.42 , 0.425, 0.43 , 0.435, 0.44 , 0.445,\n",
       "       0.45 , 0.455, 0.46 , 0.465, 0.47 , 0.475, 0.48 , 0.485, 0.49 ,\n",
       "       0.495, 0.5  ])"
      ]
     },
     "execution_count": 91,
     "metadata": {},
     "output_type": "execute_result"
    }
   ],
   "source": [
    "n_bins = 100\n",
    "bins = np.linspace(0, 0.5, n_bins + 1)\n",
    "bins"
   ]
  },
  {
   "cell_type": "code",
   "execution_count": 92,
   "metadata": {},
   "outputs": [],
   "source": [
    "V[\"maf_bin\"] = pd.cut(V.maf, bins=bins, labels=False)"
   ]
  },
  {
   "cell_type": "code",
   "execution_count": 93,
   "metadata": {},
   "outputs": [
    {
     "data": {
      "text/plain": [
       "(11775258, 1140, 11774118)"
      ]
     },
     "execution_count": 93,
     "metadata": {},
     "output_type": "execute_result"
    }
   ],
   "source": [
    "import numpy as np\n",
    "\n",
    "V_pos = V.query(\"label\")\n",
    "V_neg = V.query(\"not label\")\n",
    "\n",
    "len(V), len(V_pos), len(V_neg)"
   ]
  },
  {
   "cell_type": "code",
   "execution_count": 94,
   "metadata": {},
   "outputs": [
    {
     "data": {
      "text/plain": [
       "array([58, 65, 30, 26, 25, 21, 17, 18, 18, 15, 14, 17, 14, 11, 18, 21,  9,\n",
       "        3, 12,  8,  6,  7, 10,  5, 10,  8,  8, 11, 10,  9,  9,  7,  6, 13,\n",
       "       10,  8,  7,  7,  8,  6, 10, 10,  7,  7, 12,  8,  8, 11,  6, 15,  6,\n",
       "       11, 10, 11, 11, 17,  5, 10, 14, 13,  8, 11, 11,  4,  7, 14,  9,  7,\n",
       "        8,  9,  9,  9, 10,  7, 10,  8,  6,  6, 10, 14, 14, 12,  6, 17, 14,\n",
       "        7,  7, 12,  5, 11, 15,  2,  8,  8,  5,  6, 10,  7,  4,  6])"
      ]
     },
     "execution_count": 94,
     "metadata": {},
     "output_type": "execute_result"
    }
   ],
   "source": [
    "pos_hist = V_pos.maf_bin.value_counts().sort_index().values\n",
    "pos_hist"
   ]
  },
  {
   "cell_type": "code",
   "execution_count": 96,
   "metadata": {},
   "outputs": [
    {
     "data": {
      "text/plain": [
       "array([3050253, 1010013,  572033,  408236,  312958,  254620,  221521,\n",
       "        193993,  171142,  155765,  145438,  132627,  129057,  116454,\n",
       "        110227,  104824,  100961,   97621,   92374,   89555,   87031,\n",
       "         87229,   82973,   81494,   79459,   80764,   74991,   73695,\n",
       "         70299,   70774,   65960,   67933,   66992,   65331,   65524,\n",
       "         63787,   63552,   62212,   60368,   59918,   59520,   58190,\n",
       "         56994,   56492,   56852,   58588,   52536,   53927,   55455,\n",
       "         53549,   51754,   50659,   52603,   52614,   51189,   51007,\n",
       "         48905,   48846,   48939,   49587,   49252,   49070,   49001,\n",
       "         47719,   49093,   47125,   47509,   45853,   45595,   45109,\n",
       "         46770,   46573,   46663,   45493,   45806,   46063,   45837,\n",
       "         45635,   44900,   45593,   43805,   43999,   44546,   43613,\n",
       "         43221,   43682,   41992,   43769,   45386,   45061,   44334,\n",
       "         43799,   42804,   41391,   44402,   43277,   42075,   43347,\n",
       "         43403,   43389])"
      ]
     },
     "execution_count": 96,
     "metadata": {},
     "output_type": "execute_result"
    }
   ],
   "source": [
    "neg_hist = V_neg.maf_bin.value_counts().sort_index().values\n",
    "neg_hist"
   ]
  },
  {
   "cell_type": "code",
   "execution_count": 97,
   "metadata": {},
   "outputs": [
    {
     "data": {
      "text/plain": [
       "array([0.05087719, 0.05701754, 0.02631579, 0.02280702, 0.02192982,\n",
       "       0.01842105, 0.01491228, 0.01578947, 0.01578947, 0.01315789,\n",
       "       0.0122807 , 0.01491228, 0.0122807 , 0.00964912, 0.01578947,\n",
       "       0.01842105, 0.00789474, 0.00263158, 0.01052632, 0.00701754,\n",
       "       0.00526316, 0.00614035, 0.00877193, 0.00438596, 0.00877193,\n",
       "       0.00701754, 0.00701754, 0.00964912, 0.00877193, 0.00789474,\n",
       "       0.00789474, 0.00614035, 0.00526316, 0.01140351, 0.00877193,\n",
       "       0.00701754, 0.00614035, 0.00614035, 0.00701754, 0.00526316,\n",
       "       0.00877193, 0.00877193, 0.00614035, 0.00614035, 0.01052632,\n",
       "       0.00701754, 0.00701754, 0.00964912, 0.00526316, 0.01315789,\n",
       "       0.00526316, 0.00964912, 0.00877193, 0.00964912, 0.00964912,\n",
       "       0.01491228, 0.00438596, 0.00877193, 0.0122807 , 0.01140351,\n",
       "       0.00701754, 0.00964912, 0.00964912, 0.00350877, 0.00614035,\n",
       "       0.0122807 , 0.00789474, 0.00614035, 0.00701754, 0.00789474,\n",
       "       0.00789474, 0.00789474, 0.00877193, 0.00614035, 0.00877193,\n",
       "       0.00701754, 0.00526316, 0.00526316, 0.00877193, 0.0122807 ,\n",
       "       0.0122807 , 0.01052632, 0.00526316, 0.01491228, 0.0122807 ,\n",
       "       0.00614035, 0.00614035, 0.01052632, 0.00438596, 0.00964912,\n",
       "       0.01315789, 0.00175439, 0.00701754, 0.00701754, 0.00438596,\n",
       "       0.00526316, 0.00877193, 0.00614035, 0.00350877, 0.00526316])"
      ]
     },
     "execution_count": 97,
     "metadata": {},
     "output_type": "execute_result"
    }
   ],
   "source": [
    "pos_dist = pos_hist / len(V_pos)\n",
    "pos_dist"
   ]
  },
  {
   "cell_type": "code",
   "execution_count": 98,
   "metadata": {},
   "outputs": [
    {
     "data": {
      "text/plain": [
       "array([0.89230769, 1.        , 0.46153846, 0.4       , 0.38461538,\n",
       "       0.32307692, 0.26153846, 0.27692308, 0.27692308, 0.23076923,\n",
       "       0.21538462, 0.26153846, 0.21538462, 0.16923077, 0.27692308,\n",
       "       0.32307692, 0.13846154, 0.04615385, 0.18461538, 0.12307692,\n",
       "       0.09230769, 0.10769231, 0.15384615, 0.07692308, 0.15384615,\n",
       "       0.12307692, 0.12307692, 0.16923077, 0.15384615, 0.13846154,\n",
       "       0.13846154, 0.10769231, 0.09230769, 0.2       , 0.15384615,\n",
       "       0.12307692, 0.10769231, 0.10769231, 0.12307692, 0.09230769,\n",
       "       0.15384615, 0.15384615, 0.10769231, 0.10769231, 0.18461538,\n",
       "       0.12307692, 0.12307692, 0.16923077, 0.09230769, 0.23076923,\n",
       "       0.09230769, 0.16923077, 0.15384615, 0.16923077, 0.16923077,\n",
       "       0.26153846, 0.07692308, 0.15384615, 0.21538462, 0.2       ,\n",
       "       0.12307692, 0.16923077, 0.16923077, 0.06153846, 0.10769231,\n",
       "       0.21538462, 0.13846154, 0.10769231, 0.12307692, 0.13846154,\n",
       "       0.13846154, 0.13846154, 0.15384615, 0.10769231, 0.15384615,\n",
       "       0.12307692, 0.09230769, 0.09230769, 0.15384615, 0.21538462,\n",
       "       0.21538462, 0.18461538, 0.09230769, 0.26153846, 0.21538462,\n",
       "       0.10769231, 0.10769231, 0.18461538, 0.07692308, 0.16923077,\n",
       "       0.23076923, 0.03076923, 0.12307692, 0.12307692, 0.07692308,\n",
       "       0.09230769, 0.15384615, 0.10769231, 0.06153846, 0.09230769])"
      ]
     },
     "execution_count": 98,
     "metadata": {},
     "output_type": "execute_result"
    }
   ],
   "source": [
    "pos_dist_ratio_to_max = pos_dist / pos_dist.max()\n",
    "pos_dist_ratio_to_max"
   ]
  },
  {
   "cell_type": "code",
   "execution_count": 99,
   "metadata": {},
   "outputs": [
    {
     "data": {
      "text/plain": [
       "1010013"
      ]
     },
     "execution_count": 99,
     "metadata": {},
     "output_type": "execute_result"
    }
   ],
   "source": [
    "neg_hist_max = neg_hist[pos_hist.argmax()]\n",
    "neg_hist_max"
   ]
  },
  {
   "cell_type": "code",
   "execution_count": 100,
   "metadata": {},
   "outputs": [
    {
     "data": {
      "text/plain": [
       "array([ 901242., 1010013.,  466159.,  404005.,  388466.,  326311.,\n",
       "        264157.,  279695.,  279695.,  233079.,  217541.,  264157.,\n",
       "        217541.,  170925.,  279695.,  326311.,  139847.,   46615.,\n",
       "        186463.,  124309.,   93231.,  108770.,  155386.,   77693.,\n",
       "        155386.,  124309.,  124309.,  170925.,  155386.,  139847.,\n",
       "        139847.,  108770.,   93231.,  202002.,  155386.,  124309.,\n",
       "        108770.,  108770.,  124309.,   93231.,  155386.,  155386.,\n",
       "        108770.,  108770.,  186463.,  124309.,  124309.,  170925.,\n",
       "         93231.,  233079.,   93231.,  170925.,  155386.,  170925.,\n",
       "        170925.,  264157.,   77693.,  155386.,  217541.,  202002.,\n",
       "        124309.,  170925.,  170925.,   62154.,  108770.,  217541.,\n",
       "        139847.,  108770.,  124309.,  139847.,  139847.,  139847.,\n",
       "        155386.,  108770.,  155386.,  124309.,   93231.,   93231.,\n",
       "        155386.,  217541.,  217541.,  186463.,   93231.,  264157.,\n",
       "        217541.,  108770.,  108770.,  186463.,   77693.,  170925.,\n",
       "        233079.,   31077.,  124309.,  124309.,   77693.,   93231.,\n",
       "        155386.,  108770.,   62154.,   93231.])"
      ]
     },
     "execution_count": 100,
     "metadata": {},
     "output_type": "execute_result"
    }
   ],
   "source": [
    "upper_bound = np.floor(neg_hist_max * pos_dist_ratio_to_max)\n",
    "upper_bound"
   ]
  },
  {
   "cell_type": "code",
   "execution_count": 101,
   "metadata": {},
   "outputs": [
    {
     "data": {
      "text/plain": [
       "0.1651025715767517"
      ]
     },
     "execution_count": 101,
     "metadata": {},
     "output_type": "execute_result"
    }
   ],
   "source": [
    "downsample = (neg_hist / upper_bound).min()\n",
    "downsample"
   ]
  },
  {
   "cell_type": "code",
   "execution_count": 102,
   "metadata": {},
   "outputs": [
    {
     "data": {
      "text/plain": [
       "array([148797, 166755,  76964,  66702,  64136,  53874,  43613,  46178,\n",
       "        46178,  38481,  35916,  43613,  35916,  28220,  46178,  53874,\n",
       "        23089,   7696,  30785,  20523,  15392,  17958,  25654,  12827,\n",
       "        25654,  20523,  20523,  28220,  25654,  23089,  23089,  17958,\n",
       "        15392,  33351,  25654,  20523,  17958,  17958,  20523,  15392,\n",
       "        25654,  25654,  17958,  17958,  30785,  20523,  20523,  28220,\n",
       "        15392,  38481,  15392,  28220,  25654,  28220,  28220,  43613,\n",
       "        12827,  25654,  35916,  33351,  20523,  28220,  28220,  10261,\n",
       "        17958,  35916,  23089,  17958,  20523,  23089,  23089,  23089,\n",
       "        25654,  17958,  25654,  20523,  15392,  15392,  25654,  35916,\n",
       "        35916,  30785,  15392,  43613,  35916,  17958,  17958,  30785,\n",
       "        12827,  28220,  38481,   5130,  20523,  20523,  12827,  15392,\n",
       "        25654,  17958,  10261,  15392])"
      ]
     },
     "execution_count": 102,
     "metadata": {},
     "output_type": "execute_result"
    }
   ],
   "source": [
    "target_n_samples = np.floor(upper_bound * downsample).astype(int)\n",
    "target_n_samples"
   ]
  },
  {
   "cell_type": "code",
   "execution_count": 103,
   "metadata": {},
   "outputs": [
    {
     "data": {
      "text/html": [
       "<div>\n",
       "<style scoped>\n",
       "    .dataframe tbody tr th:only-of-type {\n",
       "        vertical-align: middle;\n",
       "    }\n",
       "\n",
       "    .dataframe tbody tr th {\n",
       "        vertical-align: top;\n",
       "    }\n",
       "\n",
       "    .dataframe thead th {\n",
       "        text-align: right;\n",
       "    }\n",
       "</style>\n",
       "<table border=\"1\" class=\"dataframe\">\n",
       "  <thead>\n",
       "    <tr style=\"text-align: right;\">\n",
       "      <th></th>\n",
       "      <th>chrom</th>\n",
       "      <th>pos</th>\n",
       "      <th>ref</th>\n",
       "      <th>alt</th>\n",
       "      <th>pip</th>\n",
       "      <th>trait</th>\n",
       "      <th>label</th>\n",
       "      <th>maf</th>\n",
       "      <th>ld_score</th>\n",
       "      <th>consequence</th>\n",
       "      <th>CADD_RawScore</th>\n",
       "      <th>GPN-MSA_absLLR_score</th>\n",
       "      <th>maf_bin</th>\n",
       "    </tr>\n",
       "  </thead>\n",
       "  <tbody>\n",
       "    <tr>\n",
       "      <th>1201938</th>\n",
       "      <td>2</td>\n",
       "      <td>57462871</td>\n",
       "      <td>T</td>\n",
       "      <td>C</td>\n",
       "      <td>0.0</td>\n",
       "      <td></td>\n",
       "      <td>False</td>\n",
       "      <td>0.000253</td>\n",
       "      <td>156.240</td>\n",
       "      <td>intergenic_variant</td>\n",
       "      <td>-0.301615</td>\n",
       "      <td>1.440430</td>\n",
       "      <td>0</td>\n",
       "    </tr>\n",
       "    <tr>\n",
       "      <th>8685356</th>\n",
       "      <td>12</td>\n",
       "      <td>110105824</td>\n",
       "      <td>C</td>\n",
       "      <td>T</td>\n",
       "      <td>0.0</td>\n",
       "      <td></td>\n",
       "      <td>False</td>\n",
       "      <td>0.001428</td>\n",
       "      <td>10.241</td>\n",
       "      <td>intergenic_variant</td>\n",
       "      <td>-0.234153</td>\n",
       "      <td>1.178711</td>\n",
       "      <td>0</td>\n",
       "    </tr>\n",
       "    <tr>\n",
       "      <th>6682991</th>\n",
       "      <td>9</td>\n",
       "      <td>30675884</td>\n",
       "      <td>A</td>\n",
       "      <td>G</td>\n",
       "      <td>0.0</td>\n",
       "      <td></td>\n",
       "      <td>False</td>\n",
       "      <td>0.004612</td>\n",
       "      <td>14.325</td>\n",
       "      <td>intergenic_variant</td>\n",
       "      <td>0.007553</td>\n",
       "      <td>1.083984</td>\n",
       "      <td>0</td>\n",
       "    </tr>\n",
       "    <tr>\n",
       "      <th>10492345</th>\n",
       "      <td>17</td>\n",
       "      <td>53933506</td>\n",
       "      <td>T</td>\n",
       "      <td>C</td>\n",
       "      <td>0.0</td>\n",
       "      <td></td>\n",
       "      <td>False</td>\n",
       "      <td>0.000103</td>\n",
       "      <td>80.133</td>\n",
       "      <td>intron_variant</td>\n",
       "      <td>0.381275</td>\n",
       "      <td>1.523438</td>\n",
       "      <td>0</td>\n",
       "    </tr>\n",
       "    <tr>\n",
       "      <th>3987124</th>\n",
       "      <td>5</td>\n",
       "      <td>93403202</td>\n",
       "      <td>A</td>\n",
       "      <td>G</td>\n",
       "      <td>0.0</td>\n",
       "      <td></td>\n",
       "      <td>False</td>\n",
       "      <td>0.001336</td>\n",
       "      <td>8.981</td>\n",
       "      <td>CTCF-only</td>\n",
       "      <td>1.658042</td>\n",
       "      <td>4.542969</td>\n",
       "      <td>0</td>\n",
       "    </tr>\n",
       "    <tr>\n",
       "      <th>...</th>\n",
       "      <td>...</td>\n",
       "      <td>...</td>\n",
       "      <td>...</td>\n",
       "      <td>...</td>\n",
       "      <td>...</td>\n",
       "      <td>...</td>\n",
       "      <td>...</td>\n",
       "      <td>...</td>\n",
       "      <td>...</td>\n",
       "      <td>...</td>\n",
       "      <td>...</td>\n",
       "      <td>...</td>\n",
       "      <td>...</td>\n",
       "    </tr>\n",
       "    <tr>\n",
       "      <th>7532908</th>\n",
       "      <td>10</td>\n",
       "      <td>111460477</td>\n",
       "      <td>A</td>\n",
       "      <td>G</td>\n",
       "      <td>0.0</td>\n",
       "      <td></td>\n",
       "      <td>False</td>\n",
       "      <td>0.497510</td>\n",
       "      <td>312.990</td>\n",
       "      <td>intergenic_variant</td>\n",
       "      <td>0.085837</td>\n",
       "      <td>0.114746</td>\n",
       "      <td>99</td>\n",
       "    </tr>\n",
       "    <tr>\n",
       "      <th>4878088</th>\n",
       "      <td>6</td>\n",
       "      <td>103203962</td>\n",
       "      <td>G</td>\n",
       "      <td>A</td>\n",
       "      <td>0.0</td>\n",
       "      <td></td>\n",
       "      <td>False</td>\n",
       "      <td>0.495740</td>\n",
       "      <td>417.260</td>\n",
       "      <td>intergenic_variant</td>\n",
       "      <td>0.355211</td>\n",
       "      <td>0.916992</td>\n",
       "      <td>99</td>\n",
       "    </tr>\n",
       "    <tr>\n",
       "      <th>3661667</th>\n",
       "      <td>5</td>\n",
       "      <td>6109815</td>\n",
       "      <td>C</td>\n",
       "      <td>T</td>\n",
       "      <td>0.0</td>\n",
       "      <td></td>\n",
       "      <td>False</td>\n",
       "      <td>0.498430</td>\n",
       "      <td>101.880</td>\n",
       "      <td>intergenic_variant</td>\n",
       "      <td>-0.185021</td>\n",
       "      <td>1.083008</td>\n",
       "      <td>99</td>\n",
       "    </tr>\n",
       "    <tr>\n",
       "      <th>9464688</th>\n",
       "      <td>14</td>\n",
       "      <td>82961336</td>\n",
       "      <td>C</td>\n",
       "      <td>T</td>\n",
       "      <td>0.0</td>\n",
       "      <td></td>\n",
       "      <td>False</td>\n",
       "      <td>0.497970</td>\n",
       "      <td>85.037</td>\n",
       "      <td>intergenic_variant</td>\n",
       "      <td>0.269634</td>\n",
       "      <td>2.501953</td>\n",
       "      <td>99</td>\n",
       "    </tr>\n",
       "    <tr>\n",
       "      <th>5123190</th>\n",
       "      <td>6</td>\n",
       "      <td>159146391</td>\n",
       "      <td>T</td>\n",
       "      <td>C</td>\n",
       "      <td>0.0</td>\n",
       "      <td></td>\n",
       "      <td>False</td>\n",
       "      <td>0.499310</td>\n",
       "      <td>205.780</td>\n",
       "      <td>intergenic_variant</td>\n",
       "      <td>0.329139</td>\n",
       "      <td>1.774414</td>\n",
       "      <td>99</td>\n",
       "    </tr>\n",
       "  </tbody>\n",
       "</table>\n",
       "<p>2924584 rows × 13 columns</p>\n",
       "</div>"
      ],
      "text/plain": [
       "         chrom        pos ref alt  pip trait  label       maf  ld_score  \\\n",
       "1201938      2   57462871   T   C  0.0        False  0.000253   156.240   \n",
       "8685356     12  110105824   C   T  0.0        False  0.001428    10.241   \n",
       "6682991      9   30675884   A   G  0.0        False  0.004612    14.325   \n",
       "10492345    17   53933506   T   C  0.0        False  0.000103    80.133   \n",
       "3987124      5   93403202   A   G  0.0        False  0.001336     8.981   \n",
       "...        ...        ...  ..  ..  ...   ...    ...       ...       ...   \n",
       "7532908     10  111460477   A   G  0.0        False  0.497510   312.990   \n",
       "4878088      6  103203962   G   A  0.0        False  0.495740   417.260   \n",
       "3661667      5    6109815   C   T  0.0        False  0.498430   101.880   \n",
       "9464688     14   82961336   C   T  0.0        False  0.497970    85.037   \n",
       "5123190      6  159146391   T   C  0.0        False  0.499310   205.780   \n",
       "\n",
       "                 consequence  CADD_RawScore  GPN-MSA_absLLR_score  maf_bin  \n",
       "1201938   intergenic_variant      -0.301615              1.440430        0  \n",
       "8685356   intergenic_variant      -0.234153              1.178711        0  \n",
       "6682991   intergenic_variant       0.007553              1.083984        0  \n",
       "10492345      intron_variant       0.381275              1.523438        0  \n",
       "3987124            CTCF-only       1.658042              4.542969        0  \n",
       "...                      ...            ...                   ...      ...  \n",
       "7532908   intergenic_variant       0.085837              0.114746       99  \n",
       "4878088   intergenic_variant       0.355211              0.916992       99  \n",
       "3661667   intergenic_variant      -0.185021              1.083008       99  \n",
       "9464688   intergenic_variant       0.269634              2.501953       99  \n",
       "5123190   intergenic_variant       0.329139              1.774414       99  \n",
       "\n",
       "[2924584 rows x 13 columns]"
      ]
     },
     "execution_count": 103,
     "metadata": {},
     "output_type": "execute_result"
    }
   ],
   "source": [
    "V_neg_matched = pd.concat([\n",
    "    V_neg[V_neg.maf_bin == i].sample(target_n_samples[i], replace=False, random_state=42)\n",
    "    for i in range(n_bins)\n",
    "])\n",
    "V_neg_matched"
   ]
  },
  {
   "cell_type": "code",
   "execution_count": 104,
   "metadata": {},
   "outputs": [
    {
     "data": {
      "text/plain": [
       "<Axes: >"
      ]
     },
     "execution_count": 104,
     "metadata": {},
     "output_type": "execute_result"
    },
    {
     "data": {
      "image/png": "[encoded data removed]",
      "text/plain": [
       "<Figure size 432x288 with 1 Axes>"
      ]
     },
     "metadata": {
      "needs_background": "light"
     },
     "output_type": "display_data"
    }
   ],
   "source": [
    "V_pos.maf.hist(bins=bins)"
   ]
  },
  {
   "cell_type": "code",
   "execution_count": 105,
   "metadata": {},
   "outputs": [
    {
     "data": {
      "text/plain": [
       "<Axes: >"
      ]
     },
     "execution_count": 105,
     "metadata": {},
     "output_type": "execute_result"
    },
    {
     "data": {
      "image/png": "[encoded data removed]",
      "text/plain": [
       "<Figure size 432x288 with 1 Axes>"
      ]
     },
     "metadata": {
      "needs_background": "light"
     },
     "output_type": "display_data"
    }
   ],
   "source": [
    "# rounding error??\n",
    "V_neg_matched.maf.hist(bins=bins)"
   ]
  },
  {
   "cell_type": "code",
   "execution_count": 107,
   "metadata": {},
   "outputs": [
    {
     "data": {
      "text/plain": [
       "11775258"
      ]
     },
     "execution_count": 107,
     "metadata": {},
     "output_type": "execute_result"
    }
   ],
   "source": [
    "len(V)"
   ]
  },
  {
   "cell_type": "code",
   "execution_count": 106,
   "metadata": {},
   "outputs": [
    {
     "data": {
      "text/plain": [
       "<Axes: >"
      ]
     },
     "execution_count": 106,
     "metadata": {},
     "output_type": "execute_result"
    },
    {
     "data": {
      "image/png": "[encoded data removed]",
      "text/plain": [
       "<Figure size 432x288 with 1 Axes>"
      ]
     },
     "metadata": {
      "needs_background": "light"
     },
     "output_type": "display_data"
    }
   ],
   "source": [
    "V_neg.maf.hist(bins=bins)"
   ]
  },
  {
   "cell_type": "code",
   "execution_count": 12,
   "metadata": {},
   "outputs": [],
   "source": [
    "V = V.with_columns(\n",
    "    pl.col(\"CADD_RawScore\").alias(\"CADD\"),\n",
    "    #-pl.col(\"GPN-MSA_LLR_score\").alias(\"GPN-MSA\"),\n",
    "    #-pl.col(\"GPN_LLR_score\").alias(\"gLM-Promoter\"),\n",
    "\n",
    "    pl.col(\"GPN-MSA_absLLR_score\").alias(\"GPN-MSA\"),\n",
    "    pl.col(\"GPN_absLLR_score\").alias(\"gLM-Promoter\"),\n",
    ")\n",
    "models = [\n",
    "    \"CADD\",\n",
    "    \"GPN-MSA\",\n",
    "    \"gLM-Promoter\",\n",
    "]"
   ]
  },
  {
   "cell_type": "markdown",
   "metadata": {},
   "source": [
    "## Bootstrap AUPRC"
   ]
  },
  {
   "cell_type": "code",
   "execution_count": 13,
   "metadata": {},
   "outputs": [
    {
     "name": "stderr",
     "output_type": "stream",
     "text": [
      "100%|████████████████████████████████████████████| 100/100 [00:20<00:00,  4.86it/s]\n",
      "100%|████████████████████████████████████████████| 100/100 [04:05<00:00,  2.46s/it]\n",
      "100%|████████████████████████████████████████████| 100/100 [03:18<00:00,  1.99s/it]\n",
      "100%|████████████████████████████████████████████| 100/100 [03:21<00:00,  2.01s/it]\n"
     ]
    },
    {
     "data": {
      "text/html": [
       "<div>\n",
       "<style scoped>\n",
       "    .dataframe tbody tr th:only-of-type {\n",
       "        vertical-align: middle;\n",
       "    }\n",
       "\n",
       "    .dataframe tbody tr th {\n",
       "        vertical-align: top;\n",
       "    }\n",
       "\n",
       "    .dataframe thead th {\n",
       "        text-align: right;\n",
       "    }\n",
       "</style>\n",
       "<table border=\"1\" class=\"dataframe\">\n",
       "  <thead>\n",
       "    <tr style=\"text-align: right;\">\n",
       "      <th></th>\n",
       "      <th>model</th>\n",
       "      <th>AUPRC</th>\n",
       "      <th>se</th>\n",
       "    </tr>\n",
       "  </thead>\n",
       "  <tbody>\n",
       "    <tr>\n",
       "      <th>0</th>\n",
       "      <td>CADD</td>\n",
       "      <td>0.001035</td>\n",
       "      <td>0.000553</td>\n",
       "    </tr>\n",
       "    <tr>\n",
       "      <th>1</th>\n",
       "      <td>GPN-MSA</td>\n",
       "      <td>0.000846</td>\n",
       "      <td>0.000144</td>\n",
       "    </tr>\n",
       "    <tr>\n",
       "      <th>2</th>\n",
       "      <td>gLM-Promoter</td>\n",
       "      <td>0.000147</td>\n",
       "      <td>0.000004</td>\n",
       "    </tr>\n",
       "  </tbody>\n",
       "</table>\n",
       "</div>"
      ],
      "text/plain": [
       "          model     AUPRC        se\n",
       "0          CADD  0.001035  0.000553\n",
       "1       GPN-MSA  0.000846  0.000144\n",
       "2  gLM-Promoter  0.000147  0.000004"
      ]
     },
     "execution_count": 13,
     "metadata": {},
     "output_type": "execute_result"
    }
   ],
   "source": [
    "n_bootstraps = 100\n",
    "V = V.select([\"label\"] + models)\n",
    "\n",
    "def resample(V, seed):\n",
    "    V_pos = V.filter(pl.col(\"label\"))\n",
    "    V_pos = V_pos.sample(len(V_pos), with_replacement=True, seed=seed)\n",
    "    V_neg = V.filter(~pl.col(\"label\"))\n",
    "    V_neg = V_neg.sample(len(V_neg), with_replacement=True, seed=seed)\n",
    "    return pl.concat([V_pos, V_neg])\n",
    "\n",
    "V_bs = [resample(V, i) for i in tqdm(range(n_bootstraps))]\n",
    "\n",
    "res = []\n",
    "for model in models:\n",
    "    def stat(V):\n",
    "        return average_precision_score(V[\"label\"], V[model])\n",
    "    se = pl.Series([stat(V_b) for V_b in tqdm(V_bs)]).std()\n",
    "    res.append([model, stat(V), se])\n",
    "res = pd.DataFrame(res, columns=[\"model\", \"AUPRC\", \"se\"])\n",
    "res"
   ]
  },
  {
   "cell_type": "code",
   "execution_count": 14,
   "metadata": {},
   "outputs": [
    {
     "name": "stderr",
     "output_type": "stream",
     "text": [
      "/scratch/users/gbenegas/software/mambaforge/envs/gpn/lib/python3.11/site-packages/seaborn/_oldcore.py:1498: FutureWarning: is_categorical_dtype is deprecated and will be removed in a future version. Use isinstance(dtype, CategoricalDtype) instead\n",
      "  if pd.api.types.is_categorical_dtype(vector):\n",
      "/scratch/users/gbenegas/software/mambaforge/envs/gpn/lib/python3.11/site-packages/seaborn/_oldcore.py:1498: FutureWarning: is_categorical_dtype is deprecated and will be removed in a future version. Use isinstance(dtype, CategoricalDtype) instead\n",
      "  if pd.api.types.is_categorical_dtype(vector):\n",
      "/scratch/users/gbenegas/software/mambaforge/envs/gpn/lib/python3.11/site-packages/seaborn/_oldcore.py:1498: FutureWarning: is_categorical_dtype is deprecated and will be removed in a future version. Use isinstance(dtype, CategoricalDtype) instead\n",
      "  if pd.api.types.is_categorical_dtype(vector):\n"
     ]
    },
    {
     "data": {
      "image/png": "[encoded data removed]",
      "text/plain": [
       "<Figure size 144x72 with 1 Axes>"
      ]
     },
     "metadata": {
      "needs_background": "light"
     },
     "output_type": "display_data"
    }
   ],
   "source": [
    "def format_number(num):\n",
    "    \"\"\"\n",
    "    Converts a number into a more readable format, using K for thousands, M for millions, etc.\n",
    "    Args:\n",
    "    - num: The number to format.\n",
    "    \n",
    "    Returns:\n",
    "    - A formatted string representing the number.\n",
    "    \"\"\"\n",
    "    if num >= 1e9:\n",
    "        return f'{num/1e9:.1f}B'\n",
    "    elif num >= 1e6:\n",
    "        return f'{num/1e6:.1f}M'\n",
    "    elif num >= 1e3:\n",
    "        return f'{num/1e3:.1f}K'\n",
    "    else:\n",
    "        return str(num)\n",
    "\n",
    "n_pos, n_neg = V[\"label\"].sum(), len(V) - V[\"label\"].sum()\n",
    "pos_prop = n_pos / len(V)\n",
    "\n",
    "data = res.sort_values(\"AUPRC\", ascending=False)\n",
    "plt.figure(figsize=(2,1))\n",
    "g = sns.barplot(\n",
    "    data=data,\n",
    "    y=\"model\",\n",
    "    x=\"AUPRC\",\n",
    "    palette=palette,\n",
    ")\n",
    "bar_height = g.patches[0].get_height()\n",
    "y_coords = sorted([bar.get_y() + bar_height / 2 for bar in g.patches])\n",
    "g.errorbar(\n",
    "    x=data[\"AUPRC\"],\n",
    "    y=y_coords,\n",
    "    xerr=data[\"se\"],\n",
    "    fmt='none',\n",
    "    color=\"black\",\n",
    ")\n",
    "g.set(\n",
    "    ylabel=\"\",\n",
    "    xlim=pos_prop,\n",
    ")\n",
    "ss = f\"n={format_number(n_pos)} vs. {format_number(n_neg)}\"\n",
    "d = dataset_renaming.get(dataset, dataset)\n",
    "s = subset_renaming.get(subset, subset)\n",
    "plt.title(f\"{d} ({s})\\n{ss}\")\n",
    "sns.despine();\n",
    "#plt.savefig(\"../../results/plots/performance_mendelian_all.pdf\", bbox_inches=\"tight\")"
   ]
  },
  {
   "cell_type": "code",
   "execution_count": null,
   "metadata": {},
   "outputs": [],
   "source": []
  }
 ],
 "metadata": {
  "kernelspec": {
   "display_name": "gpn",
   "language": "python",
   "name": "gpn"
  },
  "language_info": {
   "codemirror_mode": {
    "name": "ipython",
    "version": 3
   },
   "file_extension": ".py",
   "mimetype": "text/x-python",
   "name": "python",
   "nbconvert_exporter": "python",
   "pygments_lexer": "ipython3",
   "version": "3.11.3"
  }
 },
 "nbformat": 4,
 "nbformat_minor": 2
}
