{
 "cells": [
  {
   "cell_type": "code",
   "execution_count": 1,
   "metadata": {},
   "outputs": [],
   "source": [
    "import pandas as pd\n",
    "import polars as pl\n",
    "from sklearn.metrics import average_precision_score\n",
    "import seaborn as sns\n",
    "import matplotlib.pyplot as plt\n",
    "from tqdm import tqdm"
   ]
  },
  {
   "cell_type": "code",
   "execution_count": null,
   "metadata": {},
   "outputs": [],
   "source": [
    "TODO: use the precomputed results from rule get_metric\n",
    "and make the subset be a function of dataset\n",
    "so all results loaded as once\n",
    "also the score should be a function of the dataset\n",
    "e.g. get l2 dist etc.\n",
    "similar to performance.ipynb\n",
    "and rename this notebook as performance_all.ipynb"
   ]
  },
  {
   "cell_type": "code",
   "execution_count": 2,
   "metadata": {},
   "outputs": [
    {
     "data": {
      "text/html": [
       "<div>\n",
       "<style scoped>\n",
       "    .dataframe tbody tr th:only-of-type {\n",
       "        vertical-align: middle;\n",
       "    }\n",
       "\n",
       "    .dataframe tbody tr th {\n",
       "        vertical-align: top;\n",
       "    }\n",
       "\n",
       "    .dataframe thead th {\n",
       "        text-align: right;\n",
       "    }\n",
       "</style>\n",
       "<table border=\"1\" class=\"dataframe\">\n",
       "  <thead>\n",
       "    <tr style=\"text-align: right;\">\n",
       "      <th></th>\n",
       "      <th>name</th>\n",
       "      <th>description</th>\n",
       "      <th>color</th>\n",
       "    </tr>\n",
       "  </thead>\n",
       "  <tbody>\n",
       "    <tr>\n",
       "      <th>0</th>\n",
       "      <td>CADD</td>\n",
       "      <td>CADD</td>\n",
       "      <td>C0</td>\n",
       "    </tr>\n",
       "    <tr>\n",
       "      <th>1</th>\n",
       "      <td>GPN-MSA</td>\n",
       "      <td>GPN-MSA</td>\n",
       "      <td>C1</td>\n",
       "    </tr>\n",
       "    <tr>\n",
       "      <th>2</th>\n",
       "      <td>Borzoi</td>\n",
       "      <td>Borzoi</td>\n",
       "      <td>C2</td>\n",
       "    </tr>\n",
       "    <tr>\n",
       "      <th>3</th>\n",
       "      <td>Enformer</td>\n",
       "      <td>Enformer</td>\n",
       "      <td>C3</td>\n",
       "    </tr>\n",
       "    <tr>\n",
       "      <th>4</th>\n",
       "      <td>GPN</td>\n",
       "      <td>gLM-Promoter</td>\n",
       "      <td>C4</td>\n",
       "    </tr>\n",
       "    <tr>\n",
       "      <th>5</th>\n",
       "      <td>NucleotideTransformer</td>\n",
       "      <td>NT</td>\n",
       "      <td>C5</td>\n",
       "    </tr>\n",
       "    <tr>\n",
       "      <th>6</th>\n",
       "      <td>HyenaDNA</td>\n",
       "      <td>HyenaDNA</td>\n",
       "      <td>C6</td>\n",
       "    </tr>\n",
       "    <tr>\n",
       "      <th>7</th>\n",
       "      <td>Caduceus</td>\n",
       "      <td>Caduceus</td>\n",
       "      <td>C7</td>\n",
       "    </tr>\n",
       "    <tr>\n",
       "      <th>8</th>\n",
       "      <td>CADD+GPN-MSA+Borzoi</td>\n",
       "      <td>Ensemble</td>\n",
       "      <td>C8</td>\n",
       "    </tr>\n",
       "    <tr>\n",
       "      <th>9</th>\n",
       "      <td>Sei</td>\n",
       "      <td>Sei</td>\n",
       "      <td>C9</td>\n",
       "    </tr>\n",
       "    <tr>\n",
       "      <th>10</th>\n",
       "      <td>GPN_final</td>\n",
       "      <td>gLM-Promoter</td>\n",
       "      <td>C4</td>\n",
       "    </tr>\n",
       "  </tbody>\n",
       "</table>\n",
       "</div>"
      ],
      "text/plain": [
       "                     name   description color\n",
       "0                    CADD          CADD    C0\n",
       "1                 GPN-MSA       GPN-MSA    C1\n",
       "2                  Borzoi        Borzoi    C2\n",
       "3                Enformer      Enformer    C3\n",
       "4                     GPN  gLM-Promoter    C4\n",
       "5   NucleotideTransformer            NT    C5\n",
       "6                HyenaDNA      HyenaDNA    C6\n",
       "7                Caduceus      Caduceus    C7\n",
       "8     CADD+GPN-MSA+Borzoi      Ensemble    C8\n",
       "9                     Sei           Sei    C9\n",
       "10              GPN_final  gLM-Promoter    C4"
      ]
     },
     "execution_count": 2,
     "metadata": {},
     "output_type": "execute_result"
    }
   ],
   "source": [
    "model_metadata = pd.read_csv(\"../../config/models.csv\")\n",
    "palette = model_metadata.set_index(\"description\")[\"color\"].to_dict()\n",
    "model_renaming = model_metadata.set_index(\"name\")[\"description\"].to_dict()\n",
    "model_metadata"
   ]
  },
  {
   "cell_type": "code",
   "execution_count": 3,
   "metadata": {},
   "outputs": [],
   "source": [
    "dataset_renaming = {\n",
    "    \"mendelian_traits_all\": \"Mendelian traits\",\n",
    "    \"complex_traits_all\": \"Complex traits\",\n",
    "}\n",
    "\n",
    "subset_renaming = {\n",
    "    \"all\": \"All\",\n",
    "}"
   ]
  },
  {
   "cell_type": "code",
   "execution_count": 22,
   "metadata": {},
   "outputs": [
    {
     "data": {
      "text/html": [
       "<div><style>\n",
       ".dataframe > thead > tr,\n",
       ".dataframe > tbody > tr {\n",
       "  text-align: right;\n",
       "  white-space: pre-wrap;\n",
       "}\n",
       "</style>\n",
       "<small>shape: (4_945_675, 8)</small><table border=\"1\" class=\"dataframe\"><thead><tr><th>chrom</th><th>pos</th><th>ref</th><th>alt</th><th>OMIM</th><th>consequence</th><th>label</th><th>GPN_final_LLR_score</th></tr><tr><td>str</td><td>i64</td><td>str</td><td>str</td><td>str</td><td>str</td><td>bool</td><td>f32</td></tr></thead><tbody><tr><td>&quot;1&quot;</td><td>13273</td><td>&quot;G&quot;</td><td>&quot;C&quot;</td><td>null</td><td>&quot;non_coding_transcript_exon_var…</td><td>false</td><td>0.298584</td></tr><tr><td>&quot;1&quot;</td><td>14464</td><td>&quot;A&quot;</td><td>&quot;T&quot;</td><td>null</td><td>&quot;non_coding_transcript_exon_var…</td><td>false</td><td>-0.432617</td></tr><tr><td>&quot;1&quot;</td><td>15211</td><td>&quot;T&quot;</td><td>&quot;G&quot;</td><td>null</td><td>&quot;intron_variant&quot;</td><td>false</td><td>-1.960938</td></tr><tr><td>&quot;1&quot;</td><td>16257</td><td>&quot;G&quot;</td><td>&quot;C&quot;</td><td>null</td><td>&quot;intron_variant&quot;</td><td>false</td><td>-1.417969</td></tr><tr><td>&quot;1&quot;</td><td>16487</td><td>&quot;T&quot;</td><td>&quot;C&quot;</td><td>null</td><td>&quot;intron_variant&quot;</td><td>false</td><td>-0.369141</td></tr><tr><td>&hellip;</td><td>&hellip;</td><td>&hellip;</td><td>&hellip;</td><td>&hellip;</td><td>&hellip;</td><td>&hellip;</td><td>&hellip;</td></tr><tr><td>&quot;Y&quot;</td><td>22315970</td><td>&quot;T&quot;</td><td>&quot;C&quot;</td><td>null</td><td>&quot;non_coding_transcript_exon_var…</td><td>false</td><td>-0.945312</td></tr><tr><td>&quot;Y&quot;</td><td>22319145</td><td>&quot;G&quot;</td><td>&quot;A&quot;</td><td>null</td><td>&quot;intron_variant&quot;</td><td>false</td><td>2.388672</td></tr><tr><td>&quot;Y&quot;</td><td>22332256</td><td>&quot;A&quot;</td><td>&quot;G&quot;</td><td>null</td><td>&quot;non_coding_transcript_exon_var…</td><td>false</td><td>-2.384766</td></tr><tr><td>&quot;Y&quot;</td><td>22353396</td><td>&quot;C&quot;</td><td>&quot;T&quot;</td><td>null</td><td>&quot;intergenic_variant&quot;</td><td>false</td><td>0.312012</td></tr><tr><td>&quot;Y&quot;</td><td>22726092</td><td>&quot;C&quot;</td><td>&quot;A&quot;</td><td>null</td><td>&quot;intergenic_variant&quot;</td><td>false</td><td>0.524414</td></tr></tbody></table></div>"
      ],
      "text/plain": [
       "shape: (4_945_675, 8)\n",
       "┌───────┬──────────┬─────┬─────┬──────┬──────────────────────────────┬───────┬─────────────────────┐\n",
       "│ chrom ┆ pos      ┆ ref ┆ alt ┆ OMIM ┆ consequence                  ┆ label ┆ GPN_final_LLR_score │\n",
       "│ ---   ┆ ---      ┆ --- ┆ --- ┆ ---  ┆ ---                          ┆ ---   ┆ ---                 │\n",
       "│ str   ┆ i64      ┆ str ┆ str ┆ str  ┆ str                          ┆ bool  ┆ f32                 │\n",
       "╞═══════╪══════════╪═════╪═════╪══════╪══════════════════════════════╪═══════╪═════════════════════╡\n",
       "│ 1     ┆ 13273    ┆ G   ┆ C   ┆ null ┆ non_coding_transcript_exon_v ┆ false ┆ 0.298584            │\n",
       "│       ┆          ┆     ┆     ┆      ┆ ar…                          ┆       ┆                     │\n",
       "│ 1     ┆ 14464    ┆ A   ┆ T   ┆ null ┆ non_coding_transcript_exon_v ┆ false ┆ -0.432617           │\n",
       "│       ┆          ┆     ┆     ┆      ┆ ar…                          ┆       ┆                     │\n",
       "│ 1     ┆ 15211    ┆ T   ┆ G   ┆ null ┆ intron_variant               ┆ false ┆ -1.960938           │\n",
       "│ 1     ┆ 16257    ┆ G   ┆ C   ┆ null ┆ intron_variant               ┆ false ┆ -1.417969           │\n",
       "│ 1     ┆ 16487    ┆ T   ┆ C   ┆ null ┆ intron_variant               ┆ false ┆ -0.369141           │\n",
       "│ …     ┆ …        ┆ …   ┆ …   ┆ …    ┆ …                            ┆ …     ┆ …                   │\n",
       "│ Y     ┆ 22315970 ┆ T   ┆ C   ┆ null ┆ non_coding_transcript_exon_v ┆ false ┆ -0.945312           │\n",
       "│       ┆          ┆     ┆     ┆      ┆ ar…                          ┆       ┆                     │\n",
       "│ Y     ┆ 22319145 ┆ G   ┆ A   ┆ null ┆ intron_variant               ┆ false ┆ 2.388672            │\n",
       "│ Y     ┆ 22332256 ┆ A   ┆ G   ┆ null ┆ non_coding_transcript_exon_v ┆ false ┆ -2.384766           │\n",
       "│       ┆          ┆     ┆     ┆      ┆ ar…                          ┆       ┆                     │\n",
       "│ Y     ┆ 22353396 ┆ C   ┆ T   ┆ null ┆ intergenic_variant           ┆ false ┆ 0.312012            │\n",
       "│ Y     ┆ 22726092 ┆ C   ┆ A   ┆ null ┆ intergenic_variant           ┆ false ┆ 0.524414            │\n",
       "└───────┴──────────┴─────┴─────┴──────┴──────────────────────────────┴───────┴─────────────────────┘"
      ]
     },
     "execution_count": 22,
     "metadata": {},
     "output_type": "execute_result"
    }
   ],
   "source": [
    "dataset = \"mendelian_traits_all\"\n",
    "subset = \"all\"\n",
    "#dataset = \"complex_traits_all\"\n",
    "#subset = \"maf_match\"\n",
    "\n",
    "\n",
    "features = [\n",
    "    #\"CADD\",\n",
    "    #\"GPN-MSA_LLR\",\n",
    "    #\"GPN-MSA_absLLR\",\n",
    "\n",
    "    \"GPN_final_LLR\",\n",
    "#    \"GPN_EuclideanDistance2\",\n",
    "]\n",
    "\n",
    "base_dir = f\"../../results/dataset/{dataset}\"\n",
    "V = pl.read_parquet(f\"{base_dir}/test.parquet\")\n",
    "for feature in features:\n",
    "    df = pl.read_parquet(f\"{base_dir}/features/{feature}.parquet\")\n",
    "    df.columns = [f\"{feature}_{col}\" for col in df.columns]\n",
    "    V = pl.concat([V, df], how=\"horizontal\")\n",
    "subset_df = pl.read_parquet(f\"{base_dir}/subset/{subset}.parquet\")\n",
    "V = subset_df.join(V, on=[\"chrom\", \"pos\", \"ref\", \"alt\"], how=\"left\")\n",
    "V"
   ]
  },
  {
   "cell_type": "code",
   "execution_count": 23,
   "metadata": {},
   "outputs": [],
   "source": [
    "V = V.with_columns(\n",
    "    #pl.col(\"CADD_RawScore\").alias(\"CADD\"),\n",
    "\n",
    "    #-pl.col(\"GPN-MSA_LLR_score\").alias(\"GPN-MSA\"),\n",
    "    #pl.col(\"GPN-MSA_absLLR_score\").alias(\"GPN-MSA\"),\n",
    "\n",
    "    -pl.col(\"GPN_final_LLR_score\").alias(\"gLM-Promoter\"),\n",
    "    #pl.col(\"GPN_final_EuclideanDistance_score\").alias(\"gLM-Promoter\"),\n",
    ")\n",
    "models = [\n",
    "    #\"CADD\",\n",
    "    #\"GPN-MSA\",\n",
    "    \"gLM-Promoter\",\n",
    "]"
   ]
  },
  {
   "cell_type": "markdown",
   "metadata": {},
   "source": [
    "## Bootstrap AUPRC"
   ]
  },
  {
   "cell_type": "code",
   "execution_count": 24,
   "metadata": {},
   "outputs": [
    {
     "name": "stderr",
     "output_type": "stream",
     "text": [
      "100%|██████████████████████████████| 100/100 [00:13<00:00,  7.64it/s]\n",
      "100%|██████████████████████████████| 100/100 [01:56<00:00,  1.17s/it]\n"
     ]
    },
    {
     "data": {
      "text/html": [
       "<div>\n",
       "<style scoped>\n",
       "    .dataframe tbody tr th:only-of-type {\n",
       "        vertical-align: middle;\n",
       "    }\n",
       "\n",
       "    .dataframe tbody tr th {\n",
       "        vertical-align: top;\n",
       "    }\n",
       "\n",
       "    .dataframe thead th {\n",
       "        text-align: right;\n",
       "    }\n",
       "</style>\n",
       "<table border=\"1\" class=\"dataframe\">\n",
       "  <thead>\n",
       "    <tr style=\"text-align: right;\">\n",
       "      <th></th>\n",
       "      <th>model</th>\n",
       "      <th>AUPRC</th>\n",
       "      <th>se</th>\n",
       "    </tr>\n",
       "  </thead>\n",
       "  <tbody>\n",
       "    <tr>\n",
       "      <th>0</th>\n",
       "      <td>gLM-Promoter</td>\n",
       "      <td>0.022274</td>\n",
       "      <td>0.00743</td>\n",
       "    </tr>\n",
       "  </tbody>\n",
       "</table>\n",
       "</div>"
      ],
      "text/plain": [
       "          model     AUPRC       se\n",
       "0  gLM-Promoter  0.022274  0.00743"
      ]
     },
     "execution_count": 24,
     "metadata": {},
     "output_type": "execute_result"
    }
   ],
   "source": [
    "n_bootstraps = 100\n",
    "V = V.select([\"label\"] + models)\n",
    "\n",
    "def resample(V, seed):\n",
    "    V_pos = V.filter(pl.col(\"label\"))\n",
    "    V_pos = V_pos.sample(len(V_pos), with_replacement=True, seed=seed)\n",
    "    V_neg = V.filter(~pl.col(\"label\"))\n",
    "    V_neg = V_neg.sample(len(V_neg), with_replacement=True, seed=seed)\n",
    "    return pl.concat([V_pos, V_neg])\n",
    "\n",
    "V_bs = [resample(V, i) for i in tqdm(range(n_bootstraps))]\n",
    "\n",
    "res = []\n",
    "for model in models:\n",
    "    def stat(V):\n",
    "        return average_precision_score(V[\"label\"], V[model])\n",
    "    se = pl.Series([stat(V_b) for V_b in tqdm(V_bs)]).std()\n",
    "    res.append([model, stat(V), se])\n",
    "res = pd.DataFrame(res, columns=[\"model\", \"AUPRC\", \"se\"])\n",
    "res"
   ]
  },
  {
   "cell_type": "code",
   "execution_count": 16,
   "metadata": {},
   "outputs": [
    {
     "name": "stderr",
     "output_type": "stream",
     "text": [
      "/scratch/users/gbenegas/software/mambaforge/envs/gpn/lib/python3.11/site-packages/seaborn/_oldcore.py:1498: FutureWarning: is_categorical_dtype is deprecated and will be removed in a future version. Use isinstance(dtype, CategoricalDtype) instead\n",
      "  if pd.api.types.is_categorical_dtype(vector):\n",
      "/scratch/users/gbenegas/software/mambaforge/envs/gpn/lib/python3.11/site-packages/seaborn/_oldcore.py:1498: FutureWarning: is_categorical_dtype is deprecated and will be removed in a future version. Use isinstance(dtype, CategoricalDtype) instead\n",
      "  if pd.api.types.is_categorical_dtype(vector):\n",
      "/scratch/users/gbenegas/software/mambaforge/envs/gpn/lib/python3.11/site-packages/seaborn/_oldcore.py:1498: FutureWarning: is_categorical_dtype is deprecated and will be removed in a future version. Use isinstance(dtype, CategoricalDtype) instead\n",
      "  if pd.api.types.is_categorical_dtype(vector):\n"
     ]
    },
    {
     "data": {
      "image/png": "[encoded data removed]",
      "text/plain": [
       "<Figure size 144x72 with 1 Axes>"
      ]
     },
     "metadata": {
      "needs_background": "light"
     },
     "output_type": "display_data"
    }
   ],
   "source": [
    "def format_number(num):\n",
    "    \"\"\"\n",
    "    Converts a number into a more readable format, using K for thousands, M for millions, etc.\n",
    "    Args:\n",
    "    - num: The number to format.\n",
    "    \n",
    "    Returns:\n",
    "    - A formatted string representing the number.\n",
    "    \"\"\"\n",
    "    if num >= 1e9:\n",
    "        return f'{num/1e9:.1f}B'\n",
    "    elif num >= 1e6:\n",
    "        return f'{num/1e6:.1f}M'\n",
    "    elif num >= 1e3:\n",
    "        return f'{num/1e3:.1f}K'\n",
    "    else:\n",
    "        return str(num)\n",
    "\n",
    "n_pos, n_neg = V[\"label\"].sum(), len(V) - V[\"label\"].sum()\n",
    "pos_prop = n_pos / len(V)\n",
    "\n",
    "data = res.sort_values(\"AUPRC\", ascending=False)\n",
    "plt.figure(figsize=(2,1))\n",
    "g = sns.barplot(\n",
    "    data=data,\n",
    "    y=\"model\",\n",
    "    x=\"AUPRC\",\n",
    "    palette=palette,\n",
    ")\n",
    "bar_height = g.patches[0].get_height()\n",
    "y_coords = sorted([bar.get_y() + bar_height / 2 for bar in g.patches])\n",
    "g.errorbar(\n",
    "    x=data[\"AUPRC\"],\n",
    "    y=y_coords,\n",
    "    xerr=data[\"se\"],\n",
    "    fmt='none',\n",
    "    color=\"black\",\n",
    ")\n",
    "g.set(\n",
    "    ylabel=\"\",\n",
    "    xlim=pos_prop,\n",
    ")\n",
    "ss = f\"n={format_number(n_pos)} vs. {format_number(n_neg)}\"\n",
    "d = dataset_renaming.get(dataset, dataset)\n",
    "s = subset_renaming.get(subset, subset)\n",
    "#plt.title(f\"{d} ({s})\\n{ss}\")\n",
    "plt.title(f\"{d}\\n{ss}\")\n",
    "sns.despine();\n",
    "#plt.savefig(\"../../results/plots/performance_mendelian_all.pdf\", bbox_inches=\"tight\")"
   ]
  },
  {
   "cell_type": "code",
   "execution_count": 13,
   "metadata": {},
   "outputs": [
    {
     "data": {
      "text/plain": [
       "6.854473858472302e-05"
      ]
     },
     "execution_count": 13,
     "metadata": {},
     "output_type": "execute_result"
    }
   ],
   "source": [
    "V[\"label\"].mean()"
   ]
  },
  {
   "cell_type": "code",
   "execution_count": null,
   "metadata": {},
   "outputs": [],
   "source": []
  }
 ],
 "metadata": {
  "kernelspec": {
   "display_name": "gpn",
   "language": "python",
   "name": "gpn"
  },
  "language_info": {
   "codemirror_mode": {
    "name": "ipython",
    "version": 3
   },
   "file_extension": ".py",
   "mimetype": "text/x-python",
   "name": "python",
   "nbconvert_exporter": "python",
   "pygments_lexer": "ipython3",
   "version": "3.11.3"
  }
 },
 "nbformat": 4,
 "nbformat_minor": 2
}
