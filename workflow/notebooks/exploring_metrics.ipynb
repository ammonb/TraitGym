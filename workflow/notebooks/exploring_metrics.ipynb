{
 "cells": [
  {
   "cell_type": "code",
   "execution_count": 1,
   "metadata": {},
   "outputs": [],
   "source": [
    "import pandas as pd\n",
    "import polars as pl\n",
    "from sklearn.metrics import average_precision_score\n",
    "import seaborn as sns\n",
    "import matplotlib.pyplot as plt\n",
    "from tqdm import tqdm"
   ]
  },
  {
   "cell_type": "code",
   "execution_count": 2,
   "metadata": {},
   "outputs": [
    {
     "data": {
      "text/html": [
       "<div>\n",
       "<style scoped>\n",
       "    .dataframe tbody tr th:only-of-type {\n",
       "        vertical-align: middle;\n",
       "    }\n",
       "\n",
       "    .dataframe tbody tr th {\n",
       "        vertical-align: top;\n",
       "    }\n",
       "\n",
       "    .dataframe thead th {\n",
       "        text-align: right;\n",
       "    }\n",
       "</style>\n",
       "<table border=\"1\" class=\"dataframe\">\n",
       "  <thead>\n",
       "    <tr style=\"text-align: right;\">\n",
       "      <th></th>\n",
       "      <th>name</th>\n",
       "      <th>description</th>\n",
       "      <th>color</th>\n",
       "    </tr>\n",
       "  </thead>\n",
       "  <tbody>\n",
       "    <tr>\n",
       "      <th>0</th>\n",
       "      <td>CADD</td>\n",
       "      <td>CADD</td>\n",
       "      <td>C0</td>\n",
       "    </tr>\n",
       "    <tr>\n",
       "      <th>1</th>\n",
       "      <td>GPN-MSA</td>\n",
       "      <td>GPN-MSA</td>\n",
       "      <td>C1</td>\n",
       "    </tr>\n",
       "    <tr>\n",
       "      <th>2</th>\n",
       "      <td>Borzoi</td>\n",
       "      <td>Borzoi</td>\n",
       "      <td>C2</td>\n",
       "    </tr>\n",
       "    <tr>\n",
       "      <th>3</th>\n",
       "      <td>Enformer</td>\n",
       "      <td>Enformer</td>\n",
       "      <td>C3</td>\n",
       "    </tr>\n",
       "    <tr>\n",
       "      <th>4</th>\n",
       "      <td>GPN</td>\n",
       "      <td>gLM-Promoter</td>\n",
       "      <td>C4</td>\n",
       "    </tr>\n",
       "    <tr>\n",
       "      <th>5</th>\n",
       "      <td>NucleotideTransformer</td>\n",
       "      <td>NT</td>\n",
       "      <td>C5</td>\n",
       "    </tr>\n",
       "    <tr>\n",
       "      <th>6</th>\n",
       "      <td>HyenaDNA</td>\n",
       "      <td>HyenaDNA</td>\n",
       "      <td>C6</td>\n",
       "    </tr>\n",
       "    <tr>\n",
       "      <th>7</th>\n",
       "      <td>Caduceus</td>\n",
       "      <td>Caduceus</td>\n",
       "      <td>C7</td>\n",
       "    </tr>\n",
       "    <tr>\n",
       "      <th>8</th>\n",
       "      <td>CADD+GPN-MSA+Borzoi</td>\n",
       "      <td>Ensemble</td>\n",
       "      <td>C8</td>\n",
       "    </tr>\n",
       "  </tbody>\n",
       "</table>\n",
       "</div>"
      ],
      "text/plain": [
       "                    name   description color\n",
       "0                   CADD          CADD    C0\n",
       "1                GPN-MSA       GPN-MSA    C1\n",
       "2                 Borzoi        Borzoi    C2\n",
       "3               Enformer      Enformer    C3\n",
       "4                    GPN  gLM-Promoter    C4\n",
       "5  NucleotideTransformer            NT    C5\n",
       "6               HyenaDNA      HyenaDNA    C6\n",
       "7               Caduceus      Caduceus    C7\n",
       "8    CADD+GPN-MSA+Borzoi      Ensemble    C8"
      ]
     },
     "execution_count": 2,
     "metadata": {},
     "output_type": "execute_result"
    }
   ],
   "source": [
    "model_metadata = pd.read_csv(\"../../config/models.csv\")\n",
    "palette = model_metadata.set_index(\"description\")[\"color\"].to_dict()\n",
    "model_renaming = model_metadata.set_index(\"name\")[\"description\"].to_dict()\n",
    "model_metadata"
   ]
  },
  {
   "cell_type": "code",
   "execution_count": 3,
   "metadata": {},
   "outputs": [
    {
     "data": {
      "text/html": [
       "<div><style>\n",
       ".dataframe > thead > tr,\n",
       ".dataframe > tbody > tr {\n",
       "  text-align: right;\n",
       "  white-space: pre-wrap;\n",
       "}\n",
       "</style>\n",
       "<small>shape: (4_945_675, 12)</small><table border=\"1\" class=\"dataframe\"><thead><tr><th>chrom</th><th>pos</th><th>ref</th><th>alt</th><th>OMIM</th><th>consequence</th><th>label</th><th>CADD_RawScore</th><th>GPN-MSA_LLR_score</th><th>GPN-MSA_absLLR_score</th><th>GPN_LLR_score</th><th>GPN_absLLR_score</th></tr><tr><td>str</td><td>i64</td><td>str</td><td>str</td><td>str</td><td>str</td><td>bool</td><td>f32</td><td>f32</td><td>f32</td><td>f32</td><td>f32</td></tr></thead><tbody><tr><td>&quot;1&quot;</td><td>13273</td><td>&quot;G&quot;</td><td>&quot;C&quot;</td><td>null</td><td>&quot;non_coding_transcript_exon_var…</td><td>false</td><td>0.670358</td><td>-4.074219</td><td>4.074219</td><td>0.2578125</td><td>0.2578125</td></tr><tr><td>&quot;1&quot;</td><td>14464</td><td>&quot;A&quot;</td><td>&quot;T&quot;</td><td>null</td><td>&quot;non_coding_transcript_exon_var…</td><td>false</td><td>-0.020478</td><td>0.89502</td><td>0.89502</td><td>0.235107</td><td>0.235107</td></tr><tr><td>&quot;1&quot;</td><td>15211</td><td>&quot;T&quot;</td><td>&quot;G&quot;</td><td>null</td><td>&quot;intron_variant&quot;</td><td>false</td><td>0.351956</td><td>-0.74707</td><td>0.74707</td><td>-2.019531</td><td>2.019531</td></tr><tr><td>&quot;1&quot;</td><td>16257</td><td>&quot;G&quot;</td><td>&quot;C&quot;</td><td>null</td><td>&quot;intron_variant&quot;</td><td>false</td><td>-0.324504</td><td>-0.17627</td><td>0.17627</td><td>-1.402344</td><td>1.402344</td></tr><tr><td>&quot;1&quot;</td><td>16487</td><td>&quot;T&quot;</td><td>&quot;C&quot;</td><td>null</td><td>&quot;intron_variant&quot;</td><td>false</td><td>0.94002</td><td>-3.699219</td><td>3.699219</td><td>-0.171265</td><td>0.171265</td></tr><tr><td>&hellip;</td><td>&hellip;</td><td>&hellip;</td><td>&hellip;</td><td>&hellip;</td><td>&hellip;</td><td>&hellip;</td><td>&hellip;</td><td>&hellip;</td><td>&hellip;</td><td>&hellip;</td><td>&hellip;</td></tr><tr><td>&quot;Y&quot;</td><td>22315970</td><td>&quot;T&quot;</td><td>&quot;C&quot;</td><td>null</td><td>&quot;non_coding_transcript_exon_var…</td><td>false</td><td>0.282118</td><td>-0.430664</td><td>0.430664</td><td>-0.996582</td><td>0.996582</td></tr><tr><td>&quot;Y&quot;</td><td>22319145</td><td>&quot;G&quot;</td><td>&quot;A&quot;</td><td>null</td><td>&quot;intron_variant&quot;</td><td>false</td><td>-0.213298</td><td>2.28125</td><td>2.28125</td><td>2.4296875</td><td>2.4296875</td></tr><tr><td>&quot;Y&quot;</td><td>22332256</td><td>&quot;A&quot;</td><td>&quot;G&quot;</td><td>null</td><td>&quot;non_coding_transcript_exon_var…</td><td>false</td><td>0.352299</td><td>-1.597656</td><td>1.597656</td><td>-2.197266</td><td>2.197266</td></tr><tr><td>&quot;Y&quot;</td><td>22353396</td><td>&quot;C&quot;</td><td>&quot;T&quot;</td><td>null</td><td>&quot;intergenic_variant&quot;</td><td>false</td><td>0.347638</td><td>-1.453125</td><td>1.453125</td><td>0.467285</td><td>0.467285</td></tr><tr><td>&quot;Y&quot;</td><td>22726092</td><td>&quot;C&quot;</td><td>&quot;A&quot;</td><td>null</td><td>&quot;intergenic_variant&quot;</td><td>false</td><td>-0.957143</td><td>1.142578</td><td>1.142578</td><td>-0.939453</td><td>0.939453</td></tr></tbody></table></div>"
      ],
      "text/plain": [
       "shape: (4_945_675, 12)\n",
       "┌───────┬──────────┬─────┬─────┬───┬───────────────┬───────────────┬───────────────┬───────────────┐\n",
       "│ chrom ┆ pos      ┆ ref ┆ alt ┆ … ┆ GPN-MSA_LLR_s ┆ GPN-MSA_absLL ┆ GPN_LLR_score ┆ GPN_absLLR_sc │\n",
       "│ ---   ┆ ---      ┆ --- ┆ --- ┆   ┆ core          ┆ R_score       ┆ ---           ┆ ore           │\n",
       "│ str   ┆ i64      ┆ str ┆ str ┆   ┆ ---           ┆ ---           ┆ f32           ┆ ---           │\n",
       "│       ┆          ┆     ┆     ┆   ┆ f32           ┆ f32           ┆               ┆ f32           │\n",
       "╞═══════╪══════════╪═════╪═════╪═══╪═══════════════╪═══════════════╪═══════════════╪═══════════════╡\n",
       "│ 1     ┆ 13273    ┆ G   ┆ C   ┆ … ┆ -4.074219     ┆ 4.074219      ┆ 0.2578125     ┆ 0.2578125     │\n",
       "│ 1     ┆ 14464    ┆ A   ┆ T   ┆ … ┆ 0.89502       ┆ 0.89502       ┆ 0.235107      ┆ 0.235107      │\n",
       "│ 1     ┆ 15211    ┆ T   ┆ G   ┆ … ┆ -0.74707      ┆ 0.74707       ┆ -2.019531     ┆ 2.019531      │\n",
       "│ 1     ┆ 16257    ┆ G   ┆ C   ┆ … ┆ -0.17627      ┆ 0.17627       ┆ -1.402344     ┆ 1.402344      │\n",
       "│ 1     ┆ 16487    ┆ T   ┆ C   ┆ … ┆ -3.699219     ┆ 3.699219      ┆ -0.171265     ┆ 0.171265      │\n",
       "│ …     ┆ …        ┆ …   ┆ …   ┆ … ┆ …             ┆ …             ┆ …             ┆ …             │\n",
       "│ Y     ┆ 22315970 ┆ T   ┆ C   ┆ … ┆ -0.430664     ┆ 0.430664      ┆ -0.996582     ┆ 0.996582      │\n",
       "│ Y     ┆ 22319145 ┆ G   ┆ A   ┆ … ┆ 2.28125       ┆ 2.28125       ┆ 2.4296875     ┆ 2.4296875     │\n",
       "│ Y     ┆ 22332256 ┆ A   ┆ G   ┆ … ┆ -1.597656     ┆ 1.597656      ┆ -2.197266     ┆ 2.197266      │\n",
       "│ Y     ┆ 22353396 ┆ C   ┆ T   ┆ … ┆ -1.453125     ┆ 1.453125      ┆ 0.467285      ┆ 0.467285      │\n",
       "│ Y     ┆ 22726092 ┆ C   ┆ A   ┆ … ┆ 1.142578      ┆ 1.142578      ┆ -0.939453     ┆ 0.939453      │\n",
       "└───────┴──────────┴─────┴─────┴───┴───────────────┴───────────────┴───────────────┴───────────────┘"
      ]
     },
     "execution_count": 3,
     "metadata": {},
     "output_type": "execute_result"
    }
   ],
   "source": [
    "#dataset = \"mendelian_traits_matched_9\"\n",
    "dataset = \"mendelian_traits_all\"\n",
    "#dataset = \"complex_traits_all\"\n",
    "subset = \"all\"\n",
    "\n",
    "#subset = \"maf_0.00_0.05\"\n",
    "#subset = \"maf_0.05_0.50\"\n",
    "#subset = \"maf_0.0_0.1\"\n",
    "#subset = \"maf_0.1_0.2\"\n",
    "#subset = \"maf_0.2_0.3\"\n",
    "#subset = \"maf_0.3_0.4\"\n",
    "#subset = \"maf_0.4_0.5\"\n",
    "\n",
    "features = [\n",
    "    \"CADD\",\n",
    "    \"GPN-MSA_LLR\",\n",
    "    \"GPN-MSA_absLLR\",\n",
    "\n",
    "    \"GPN_LLR\",\n",
    "    \"GPN_absLLR\",\n",
    "]\n",
    "\n",
    "base_dir = f\"../../results/dataset/{dataset}\"\n",
    "V = pl.read_parquet(f\"{base_dir}/test.parquet\")\n",
    "for feature in features:\n",
    "    df = pl.read_parquet(f\"{base_dir}/features/{feature}.parquet\")\n",
    "    df.columns = [f\"{feature}_{col}\" for col in df.columns]\n",
    "    V = pl.concat([V, df], how=\"horizontal\")\n",
    "subset_df = pl.read_parquet(f\"{base_dir}/subset/{subset}.parquet\")\n",
    "V = subset_df.join(V, on=[\"chrom\", \"pos\", \"ref\", \"alt\"], how=\"left\")\n",
    "V"
   ]
  },
  {
   "cell_type": "code",
   "execution_count": 4,
   "metadata": {},
   "outputs": [],
   "source": [
    "V = V.with_columns(\n",
    "    pl.col(\"CADD_RawScore\").alias(\"CADD\"),\n",
    "    -pl.col(\"GPN-MSA_LLR_score\").alias(\"GPN-MSA\"),\n",
    "    -pl.col(\"GPN_LLR_score\").alias(\"gLM-Promoter\"),\n",
    "    #pl.col(\"GPN-MSA_absLLR_score\").alias(\"GPN-MSA\"),\n",
    ")\n",
    "models = [\n",
    "    \"CADD\",\n",
    "    \"GPN-MSA\",\n",
    "    \"gLM-Promoter\",\n",
    "]"
   ]
  },
  {
   "cell_type": "markdown",
   "metadata": {},
   "source": [
    "## Precision @ K"
   ]
  },
  {
   "cell_type": "code",
   "execution_count": 37,
   "metadata": {},
   "outputs": [],
   "source": [
    "sorted_V = {\n",
    "    \"CADD\": V.sort(\"CADD_RawScore\", descending=True),\n",
    "\n",
    "    \"GPN-MSA\": V.sort(\"GPN-MSA_LLR_score\", descending=False),\n",
    "    \"gLM-Promoter\": V.sort(\"GPN_LLR_score\", descending=False),\n",
    "\n",
    "    #\"GPN-MSA\": V.sort(\"GPN-MSA_absLLR_score\", descending=True),\n",
    "    #\"gLM-Promoter\": V.sort(\"GPN_absLLR_score\", descending=True),\n",
    "}"
   ]
  },
  {
   "cell_type": "code",
   "execution_count": 44,
   "metadata": {},
   "outputs": [],
   "source": [
    "n_pos = V[\"label\"].sum()\n",
    "k = n_pos"
   ]
  },
  {
   "cell_type": "code",
   "execution_count": 45,
   "metadata": {},
   "outputs": [
    {
     "data": {
      "text/html": [
       "<div>\n",
       "<style scoped>\n",
       "    .dataframe tbody tr th:only-of-type {\n",
       "        vertical-align: middle;\n",
       "    }\n",
       "\n",
       "    .dataframe tbody tr th {\n",
       "        vertical-align: top;\n",
       "    }\n",
       "\n",
       "    .dataframe thead th {\n",
       "        text-align: right;\n",
       "    }\n",
       "</style>\n",
       "<table border=\"1\" class=\"dataframe\">\n",
       "  <thead>\n",
       "    <tr style=\"text-align: right;\">\n",
       "      <th></th>\n",
       "      <th>model</th>\n",
       "      <th>k</th>\n",
       "      <th>n_pos@k</th>\n",
       "      <th>precision@k</th>\n",
       "    </tr>\n",
       "  </thead>\n",
       "  <tbody>\n",
       "    <tr>\n",
       "      <th>1</th>\n",
       "      <td>GPN-MSA</td>\n",
       "      <td>339</td>\n",
       "      <td>51</td>\n",
       "      <td>0.150442</td>\n",
       "    </tr>\n",
       "    <tr>\n",
       "      <th>0</th>\n",
       "      <td>CADD</td>\n",
       "      <td>339</td>\n",
       "      <td>5</td>\n",
       "      <td>0.014749</td>\n",
       "    </tr>\n",
       "    <tr>\n",
       "      <th>2</th>\n",
       "      <td>gLM-Promoter</td>\n",
       "      <td>339</td>\n",
       "      <td>1</td>\n",
       "      <td>0.002950</td>\n",
       "    </tr>\n",
       "  </tbody>\n",
       "</table>\n",
       "</div>"
      ],
      "text/plain": [
       "          model    k  n_pos@k  precision@k\n",
       "1       GPN-MSA  339       51     0.150442\n",
       "0          CADD  339        5     0.014749\n",
       "2  gLM-Promoter  339        1     0.002950"
      ]
     },
     "execution_count": 45,
     "metadata": {},
     "output_type": "execute_result"
    }
   ],
   "source": [
    "res = []\n",
    "for model, df in sorted_V.items():\n",
    "    n = df.head(k)[\"label\"].sum()\n",
    "    precision_at_k = n / k\n",
    "    res.append([\n",
    "        model,\n",
    "        k,\n",
    "        n,\n",
    "        precision_at_k,\n",
    "    ])\n",
    "res = pd.DataFrame(res, columns=[\"model\", \"k\", \"n_pos@k\", \"precision@k\"])\n",
    "res = res.sort_values(\"precision@k\", ascending=False)\n",
    "res"
   ]
  },
  {
   "cell_type": "code",
   "execution_count": 46,
   "metadata": {},
   "outputs": [
    {
     "name": "stderr",
     "output_type": "stream",
     "text": [
      "/scratch/users/gbenegas/software/mambaforge/envs/gpn/lib/python3.11/site-packages/seaborn/_oldcore.py:1498: FutureWarning: is_categorical_dtype is deprecated and will be removed in a future version. Use isinstance(dtype, CategoricalDtype) instead\n",
      "  if pd.api.types.is_categorical_dtype(vector):\n",
      "/scratch/users/gbenegas/software/mambaforge/envs/gpn/lib/python3.11/site-packages/seaborn/_oldcore.py:1498: FutureWarning: is_categorical_dtype is deprecated and will be removed in a future version. Use isinstance(dtype, CategoricalDtype) instead\n",
      "  if pd.api.types.is_categorical_dtype(vector):\n",
      "/scratch/users/gbenegas/software/mambaforge/envs/gpn/lib/python3.11/site-packages/seaborn/_oldcore.py:1498: FutureWarning: is_categorical_dtype is deprecated and will be removed in a future version. Use isinstance(dtype, CategoricalDtype) instead\n",
      "  if pd.api.types.is_categorical_dtype(vector):\n"
     ]
    },
    {
     "data": {
      "image/png": "[encoded data removed]",
      "text/plain": [
       "<Figure size 144x144 with 1 Axes>"
      ]
     },
     "metadata": {
      "needs_background": "light"
     },
     "output_type": "display_data"
    }
   ],
   "source": [
    "plt.figure(figsize=(2,2))\n",
    "g = sns.barplot(\n",
    "    data=res,\n",
    "    y=\"model\",\n",
    "    x=\"precision@k\",\n",
    "    palette=palette,\n",
    ")\n",
    "g.set(\n",
    "    ylabel=\"\",\n",
    ")\n",
    "sns.despine();"
   ]
  },
  {
   "cell_type": "markdown",
   "metadata": {},
   "source": [
    "## Enrichment (similar to GeneticsGym)"
   ]
  },
  {
   "cell_type": "code",
   "execution_count": 42,
   "metadata": {},
   "outputs": [
    {
     "data": {
      "text/html": [
       "<div>\n",
       "<style scoped>\n",
       "    .dataframe tbody tr th:only-of-type {\n",
       "        vertical-align: middle;\n",
       "    }\n",
       "\n",
       "    .dataframe tbody tr th {\n",
       "        vertical-align: top;\n",
       "    }\n",
       "\n",
       "    .dataframe thead th {\n",
       "        text-align: right;\n",
       "    }\n",
       "</style>\n",
       "<table border=\"1\" class=\"dataframe\">\n",
       "  <thead>\n",
       "    <tr style=\"text-align: right;\">\n",
       "      <th></th>\n",
       "      <th>model</th>\n",
       "      <th>n</th>\n",
       "    </tr>\n",
       "  </thead>\n",
       "  <tbody>\n",
       "    <tr>\n",
       "      <th>0</th>\n",
       "      <td>CADD</td>\n",
       "      <td>284</td>\n",
       "    </tr>\n",
       "    <tr>\n",
       "      <th>1</th>\n",
       "      <td>GPN-MSA</td>\n",
       "      <td>257</td>\n",
       "    </tr>\n",
       "    <tr>\n",
       "      <th>2</th>\n",
       "      <td>gLM-Promoter</td>\n",
       "      <td>90</td>\n",
       "    </tr>\n",
       "  </tbody>\n",
       "</table>\n",
       "</div>"
      ],
      "text/plain": [
       "          model    n\n",
       "0          CADD  284\n",
       "1       GPN-MSA  257\n",
       "2  gLM-Promoter   90"
      ]
     },
     "execution_count": 42,
     "metadata": {},
     "output_type": "execute_result"
    }
   ],
   "source": [
    "res = []\n",
    "for model, df in sorted_V.items():\n",
    "    threshold_i = int(0.05 * len(df))\n",
    "    df_head = df[:threshold_i]\n",
    "    df_rest = df[threshold_i:]\n",
    "    n = df_head[\"label\"].sum()\n",
    "    res.append([\n",
    "        model,\n",
    "        n,\n",
    "    ])\n",
    "res = pd.DataFrame(res, columns=[\"model\", \"n\"])\n",
    "res = res.sort_values(\"n\", ascending=False)\n",
    "res"
   ]
  },
  {
   "cell_type": "markdown",
   "metadata": {},
   "source": [
    "## Bootstrap AUPRC"
   ]
  },
  {
   "cell_type": "code",
   "execution_count": 5,
   "metadata": {},
   "outputs": [
    {
     "name": "stderr",
     "output_type": "stream",
     "text": [
      "100%|█████████████████████| 100/100 [00:19<00:00,  5.12it/s]\n",
      "100%|█████████████████████| 100/100 [02:14<00:00,  1.35s/it]\n",
      "100%|█████████████████████| 100/100 [01:52<00:00,  1.13s/it]\n",
      "100%|█████████████████████| 100/100 [01:54<00:00,  1.15s/it]\n"
     ]
    },
    {
     "data": {
      "text/html": [
       "<div>\n",
       "<style scoped>\n",
       "    .dataframe tbody tr th:only-of-type {\n",
       "        vertical-align: middle;\n",
       "    }\n",
       "\n",
       "    .dataframe tbody tr th {\n",
       "        vertical-align: top;\n",
       "    }\n",
       "\n",
       "    .dataframe thead th {\n",
       "        text-align: right;\n",
       "    }\n",
       "</style>\n",
       "<table border=\"1\" class=\"dataframe\">\n",
       "  <thead>\n",
       "    <tr style=\"text-align: right;\">\n",
       "      <th></th>\n",
       "      <th>model</th>\n",
       "      <th>AUPRC</th>\n",
       "      <th>se</th>\n",
       "    </tr>\n",
       "  </thead>\n",
       "  <tbody>\n",
       "    <tr>\n",
       "      <th>0</th>\n",
       "      <td>CADD</td>\n",
       "      <td>0.011185</td>\n",
       "      <td>0.001305</td>\n",
       "    </tr>\n",
       "    <tr>\n",
       "      <th>1</th>\n",
       "      <td>GPN-MSA</td>\n",
       "      <td>0.080031</td>\n",
       "      <td>0.016472</td>\n",
       "    </tr>\n",
       "    <tr>\n",
       "      <th>2</th>\n",
       "      <td>gLM-Promoter</td>\n",
       "      <td>0.000853</td>\n",
       "      <td>0.000943</td>\n",
       "    </tr>\n",
       "  </tbody>\n",
       "</table>\n",
       "</div>"
      ],
      "text/plain": [
       "          model     AUPRC        se\n",
       "0          CADD  0.011185  0.001305\n",
       "1       GPN-MSA  0.080031  0.016472\n",
       "2  gLM-Promoter  0.000853  0.000943"
      ]
     },
     "execution_count": 5,
     "metadata": {},
     "output_type": "execute_result"
    }
   ],
   "source": [
    "n_bootstraps = 100\n",
    "V = V.select([\"label\"] + models)\n",
    "\n",
    "def resample(V, seed):\n",
    "    V_pos = V.filter(pl.col(\"label\"))\n",
    "    V_pos = V_pos.sample(len(V_pos), with_replacement=True, seed=seed)\n",
    "    V_neg = V.filter(~pl.col(\"label\"))\n",
    "    V_neg = V_neg.sample(len(V_neg), with_replacement=True, seed=seed)\n",
    "    return pl.concat([V_pos, V_neg])\n",
    "\n",
    "V_bs = [resample(V, i) for i in tqdm(range(n_bootstraps))]\n",
    "\n",
    "res = []\n",
    "for model in models:\n",
    "    def stat(V):\n",
    "        return average_precision_score(V[\"label\"], V[model])\n",
    "    se = pl.Series([stat(V_b) for V_b in tqdm(V_bs)]).std()\n",
    "    res.append([model, stat(V), se])\n",
    "res = pd.DataFrame(res, columns=[\"model\", \"AUPRC\", \"se\"])\n",
    "res"
   ]
  },
  {
   "cell_type": "code",
   "execution_count": 14,
   "metadata": {},
   "outputs": [
    {
     "name": "stderr",
     "output_type": "stream",
     "text": [
      "/scratch/users/gbenegas/software/mambaforge/envs/gpn/lib/python3.11/site-packages/seaborn/_oldcore.py:1498: FutureWarning: is_categorical_dtype is deprecated and will be removed in a future version. Use isinstance(dtype, CategoricalDtype) instead\n",
      "  if pd.api.types.is_categorical_dtype(vector):\n",
      "/scratch/users/gbenegas/software/mambaforge/envs/gpn/lib/python3.11/site-packages/seaborn/_oldcore.py:1498: FutureWarning: is_categorical_dtype is deprecated and will be removed in a future version. Use isinstance(dtype, CategoricalDtype) instead\n",
      "  if pd.api.types.is_categorical_dtype(vector):\n",
      "/scratch/users/gbenegas/software/mambaforge/envs/gpn/lib/python3.11/site-packages/seaborn/_oldcore.py:1498: FutureWarning: is_categorical_dtype is deprecated and will be removed in a future version. Use isinstance(dtype, CategoricalDtype) instead\n",
      "  if pd.api.types.is_categorical_dtype(vector):\n"
     ]
    },
    {
     "data": {
      "image/png": "[encoded data removed]",
      "text/plain": [
       "<Figure size 144x72 with 1 Axes>"
      ]
     },
     "metadata": {
      "needs_background": "light"
     },
     "output_type": "display_data"
    }
   ],
   "source": [
    "def format_number(num):\n",
    "    \"\"\"\n",
    "    Converts a number into a more readable format, using K for thousands, M for millions, etc.\n",
    "    Args:\n",
    "    - num: The number to format.\n",
    "    \n",
    "    Returns:\n",
    "    - A formatted string representing the number.\n",
    "    \"\"\"\n",
    "    if num >= 1e9:\n",
    "        return f'{num/1e9:.1f}B'\n",
    "    elif num >= 1e6:\n",
    "        return f'{num/1e6:.1f}M'\n",
    "    elif num >= 1e3:\n",
    "        return f'{num/1e3:.1f}K'\n",
    "    else:\n",
    "        return str(num)\n",
    "\n",
    "n_pos, n_neg = V[\"label\"].sum(), len(V) - V[\"label\"].sum()\n",
    "pos_prop = n_pos / len(V)\n",
    "\n",
    "data = res.sort_values(\"AUPRC\", ascending=False)\n",
    "plt.figure(figsize=(2,1))\n",
    "g = sns.barplot(\n",
    "    data=data,\n",
    "    y=\"model\",\n",
    "    x=\"AUPRC\",\n",
    "    palette=palette,\n",
    ")\n",
    "bar_height = g.patches[0].get_height()\n",
    "y_coords = sorted([bar.get_y() + bar_height / 2 for bar in g.patches])\n",
    "g.errorbar(\n",
    "    x=data[\"AUPRC\"],\n",
    "    y=y_coords,\n",
    "    xerr=data[\"se\"],\n",
    "    fmt='none',\n",
    "    color=\"black\",\n",
    ")\n",
    "g.set(\n",
    "    ylabel=\"\",\n",
    "    xlim=pos_prop,\n",
    ")\n",
    "ss = f\"n={format_number(n_pos)} vs. {format_number(n_neg)}\"\n",
    "plt.title(f\"Mendelian traits (all)\\n{ss}\")\n",
    "sns.despine();\n",
    "plt.savefig(\"../../results/plots/performance_mendelian_all.pdf\", bbox_inches=\"tight\")"
   ]
  }
 ],
 "metadata": {
  "kernelspec": {
   "display_name": "gpn",
   "language": "python",
   "name": "gpn"
  },
  "language_info": {
   "codemirror_mode": {
    "name": "ipython",
    "version": 3
   },
   "file_extension": ".py",
   "mimetype": "text/x-python",
   "name": "python",
   "nbconvert_exporter": "python",
   "pygments_lexer": "ipython3",
   "version": "3.11.3"
  }
 },
 "nbformat": 4,
 "nbformat_minor": 2
}
