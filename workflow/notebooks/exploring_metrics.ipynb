{
 "cells": [
  {
   "cell_type": "code",
   "execution_count": 1,
   "metadata": {},
   "outputs": [],
   "source": [
    "import pandas as pd\n",
    "import polars as pl\n",
    "import seaborn as sns\n",
    "import matplotlib.pyplot as plt"
   ]
  },
  {
   "cell_type": "code",
   "execution_count": 2,
   "metadata": {},
   "outputs": [
    {
     "data": {
      "text/html": [
       "<div>\n",
       "<style scoped>\n",
       "    .dataframe tbody tr th:only-of-type {\n",
       "        vertical-align: middle;\n",
       "    }\n",
       "\n",
       "    .dataframe tbody tr th {\n",
       "        vertical-align: top;\n",
       "    }\n",
       "\n",
       "    .dataframe thead th {\n",
       "        text-align: right;\n",
       "    }\n",
       "</style>\n",
       "<table border=\"1\" class=\"dataframe\">\n",
       "  <thead>\n",
       "    <tr style=\"text-align: right;\">\n",
       "      <th></th>\n",
       "      <th>name</th>\n",
       "      <th>description</th>\n",
       "      <th>color</th>\n",
       "    </tr>\n",
       "  </thead>\n",
       "  <tbody>\n",
       "    <tr>\n",
       "      <th>0</th>\n",
       "      <td>CADD</td>\n",
       "      <td>CADD</td>\n",
       "      <td>C0</td>\n",
       "    </tr>\n",
       "    <tr>\n",
       "      <th>1</th>\n",
       "      <td>GPN-MSA</td>\n",
       "      <td>GPN-MSA</td>\n",
       "      <td>C1</td>\n",
       "    </tr>\n",
       "    <tr>\n",
       "      <th>2</th>\n",
       "      <td>Borzoi</td>\n",
       "      <td>Borzoi</td>\n",
       "      <td>C2</td>\n",
       "    </tr>\n",
       "    <tr>\n",
       "      <th>3</th>\n",
       "      <td>Enformer</td>\n",
       "      <td>Enformer</td>\n",
       "      <td>C3</td>\n",
       "    </tr>\n",
       "    <tr>\n",
       "      <th>4</th>\n",
       "      <td>GPN</td>\n",
       "      <td>gLM-Promoter</td>\n",
       "      <td>C4</td>\n",
       "    </tr>\n",
       "    <tr>\n",
       "      <th>5</th>\n",
       "      <td>NucleotideTransformer</td>\n",
       "      <td>NT</td>\n",
       "      <td>C5</td>\n",
       "    </tr>\n",
       "    <tr>\n",
       "      <th>6</th>\n",
       "      <td>HyenaDNA</td>\n",
       "      <td>HyenaDNA</td>\n",
       "      <td>C6</td>\n",
       "    </tr>\n",
       "    <tr>\n",
       "      <th>7</th>\n",
       "      <td>Caduceus</td>\n",
       "      <td>Caduceus</td>\n",
       "      <td>C7</td>\n",
       "    </tr>\n",
       "    <tr>\n",
       "      <th>8</th>\n",
       "      <td>CADD+GPN-MSA+Borzoi</td>\n",
       "      <td>Ensemble</td>\n",
       "      <td>C8</td>\n",
       "    </tr>\n",
       "  </tbody>\n",
       "</table>\n",
       "</div>"
      ],
      "text/plain": [
       "                    name   description color\n",
       "0                   CADD          CADD    C0\n",
       "1                GPN-MSA       GPN-MSA    C1\n",
       "2                 Borzoi        Borzoi    C2\n",
       "3               Enformer      Enformer    C3\n",
       "4                    GPN  gLM-Promoter    C4\n",
       "5  NucleotideTransformer            NT    C5\n",
       "6               HyenaDNA      HyenaDNA    C6\n",
       "7               Caduceus      Caduceus    C7\n",
       "8    CADD+GPN-MSA+Borzoi      Ensemble    C8"
      ]
     },
     "execution_count": 2,
     "metadata": {},
     "output_type": "execute_result"
    }
   ],
   "source": [
    "model_metadata = pd.read_csv(\"../../config/models.csv\")\n",
    "palette = model_metadata.set_index(\"description\")[\"color\"].to_dict()\n",
    "model_renaming = model_metadata.set_index(\"name\")[\"description\"].to_dict()\n",
    "model_metadata"
   ]
  },
  {
   "cell_type": "code",
   "execution_count": 74,
   "metadata": {},
   "outputs": [
    {
     "data": {
      "text/html": [
       "<div><style>\n",
       ".dataframe > thead > tr,\n",
       ".dataframe > tbody > tr {\n",
       "  text-align: right;\n",
       "  white-space: pre-wrap;\n",
       "}\n",
       "</style>\n",
       "<small>shape: (11_775_258, 15)</small><table border=\"1\" class=\"dataframe\"><thead><tr><th>chrom</th><th>pos</th><th>ref</th><th>alt</th><th>pip</th><th>trait</th><th>label</th><th>maf</th><th>ld_score</th><th>consequence</th><th>CADD_RawScore</th><th>GPN-MSA_LLR_score</th><th>GPN-MSA_absLLR_score</th><th>GPN_LLR_score</th><th>GPN_absLLR_score</th></tr><tr><td>str</td><td>i64</td><td>str</td><td>str</td><td>f64</td><td>str</td><td>bool</td><td>f64</td><td>f64</td><td>str</td><td>f32</td><td>f32</td><td>f32</td><td>f32</td><td>f32</td></tr></thead><tbody><tr><td>&quot;1&quot;</td><td>758351</td><td>&quot;A&quot;</td><td>&quot;G&quot;</td><td>0.0</td><td>&quot;&quot;</td><td>false</td><td>0.11581</td><td>80.222</td><td>&quot;intron_variant&quot;</td><td>0.745346</td><td>-0.050781</td><td>0.050781</td><td>-0.114136</td><td>0.114136</td></tr><tr><td>&quot;1&quot;</td><td>772142</td><td>&quot;G&quot;</td><td>&quot;C&quot;</td><td>0.0</td><td>&quot;&quot;</td><td>false</td><td>0.097076</td><td>73.052</td><td>&quot;intron_variant&quot;</td><td>-0.382612</td><td>-1.642578</td><td>1.642578</td><td>-1.837891</td><td>1.837891</td></tr><tr><td>&quot;1&quot;</td><td>782207</td><td>&quot;G&quot;</td><td>&quot;A&quot;</td><td>0.0</td><td>&quot;&quot;</td><td>false</td><td>0.015778</td><td>12.172</td><td>&quot;intron_variant&quot;</td><td>0.207167</td><td>0.259766</td><td>0.259766</td><td>-1.181641</td><td>1.181641</td></tr><tr><td>&quot;1&quot;</td><td>787949</td><td>&quot;A&quot;</td><td>&quot;T&quot;</td><td>0.0</td><td>&quot;&quot;</td><td>false</td><td>0.0017441</td><td>5.0762</td><td>&quot;intron_variant&quot;</td><td>0.327236</td><td>-3.337891</td><td>3.337891</td><td>-0.032837</td><td>0.032837</td></tr><tr><td>&quot;1&quot;</td><td>794707</td><td>&quot;T&quot;</td><td>&quot;C&quot;</td><td>0.0</td><td>&quot;&quot;</td><td>false</td><td>0.056288</td><td>50.019</td><td>&quot;intron_variant&quot;</td><td>0.611349</td><td>-1.332031</td><td>1.332031</td><td>0.281006</td><td>0.281006</td></tr><tr><td>&hellip;</td><td>&hellip;</td><td>&hellip;</td><td>&hellip;</td><td>&hellip;</td><td>&hellip;</td><td>&hellip;</td><td>&hellip;</td><td>&hellip;</td><td>&hellip;</td><td>&hellip;</td><td>&hellip;</td><td>&hellip;</td><td>&hellip;</td><td>&hellip;</td></tr><tr><td>&quot;22&quot;</td><td>50791377</td><td>&quot;T&quot;</td><td>&quot;C&quot;</td><td>0.0</td><td>&quot;&quot;</td><td>false</td><td>0.072962</td><td>59.296</td><td>&quot;intron_variant&quot;</td><td>0.361089</td><td>-0.30957</td><td>0.30957</td><td>-0.782227</td><td>0.782227</td></tr><tr><td>&quot;22&quot;</td><td>50792792</td><td>&quot;A&quot;</td><td>&quot;G&quot;</td><td>0.0</td><td>&quot;&quot;</td><td>false</td><td>0.05375</td><td>43.457</td><td>&quot;intron_variant&quot;</td><td>1.123357</td><td>-0.059998</td><td>0.059998</td><td>0.120972</td><td>0.120972</td></tr><tr><td>&quot;22&quot;</td><td>50795771</td><td>&quot;T&quot;</td><td>&quot;C&quot;</td><td>0.0</td><td>&quot;&quot;</td><td>false</td><td>0.000132</td><td>45.399</td><td>&quot;intron_variant&quot;</td><td>-0.395607</td><td>-1.624023</td><td>1.624023</td><td>-2.128906</td><td>2.128906</td></tr><tr><td>&quot;22&quot;</td><td>50798635</td><td>&quot;T&quot;</td><td>&quot;C&quot;</td><td>0.001031</td><td>&quot;&quot;</td><td>false</td><td>0.29837</td><td>36.021</td><td>&quot;intron_variant&quot;</td><td>0.363428</td><td>-2.371094</td><td>2.371094</td><td>-0.854492</td><td>0.854492</td></tr><tr><td>&quot;22&quot;</td><td>50799284</td><td>&quot;G&quot;</td><td>&quot;A&quot;</td><td>0.0</td><td>&quot;&quot;</td><td>false</td><td>0.055278</td><td>42.957</td><td>&quot;non_coding_transcript_exon_var…</td><td>0.626373</td><td>-3.484375</td><td>3.484375</td><td>0.762695</td><td>0.762695</td></tr></tbody></table></div>"
      ],
      "text/plain": [
       "shape: (11_775_258, 15)\n",
       "┌───────┬──────────┬─────┬─────┬───┬───────────────┬───────────────┬───────────────┬───────────────┐\n",
       "│ chrom ┆ pos      ┆ ref ┆ alt ┆ … ┆ GPN-MSA_LLR_s ┆ GPN-MSA_absLL ┆ GPN_LLR_score ┆ GPN_absLLR_sc │\n",
       "│ ---   ┆ ---      ┆ --- ┆ --- ┆   ┆ core          ┆ R_score       ┆ ---           ┆ ore           │\n",
       "│ str   ┆ i64      ┆ str ┆ str ┆   ┆ ---           ┆ ---           ┆ f32           ┆ ---           │\n",
       "│       ┆          ┆     ┆     ┆   ┆ f32           ┆ f32           ┆               ┆ f32           │\n",
       "╞═══════╪══════════╪═════╪═════╪═══╪═══════════════╪═══════════════╪═══════════════╪═══════════════╡\n",
       "│ 1     ┆ 758351   ┆ A   ┆ G   ┆ … ┆ -0.050781     ┆ 0.050781      ┆ -0.114136     ┆ 0.114136      │\n",
       "│ 1     ┆ 772142   ┆ G   ┆ C   ┆ … ┆ -1.642578     ┆ 1.642578      ┆ -1.837891     ┆ 1.837891      │\n",
       "│ 1     ┆ 782207   ┆ G   ┆ A   ┆ … ┆ 0.259766      ┆ 0.259766      ┆ -1.181641     ┆ 1.181641      │\n",
       "│ 1     ┆ 787949   ┆ A   ┆ T   ┆ … ┆ -3.337891     ┆ 3.337891      ┆ -0.032837     ┆ 0.032837      │\n",
       "│ 1     ┆ 794707   ┆ T   ┆ C   ┆ … ┆ -1.332031     ┆ 1.332031      ┆ 0.281006      ┆ 0.281006      │\n",
       "│ …     ┆ …        ┆ …   ┆ …   ┆ … ┆ …             ┆ …             ┆ …             ┆ …             │\n",
       "│ 22    ┆ 50791377 ┆ T   ┆ C   ┆ … ┆ -0.30957      ┆ 0.30957       ┆ -0.782227     ┆ 0.782227      │\n",
       "│ 22    ┆ 50792792 ┆ A   ┆ G   ┆ … ┆ -0.059998     ┆ 0.059998      ┆ 0.120972      ┆ 0.120972      │\n",
       "│ 22    ┆ 50795771 ┆ T   ┆ C   ┆ … ┆ -1.624023     ┆ 1.624023      ┆ -2.128906     ┆ 2.128906      │\n",
       "│ 22    ┆ 50798635 ┆ T   ┆ C   ┆ … ┆ -2.371094     ┆ 2.371094      ┆ -0.854492     ┆ 0.854492      │\n",
       "│ 22    ┆ 50799284 ┆ G   ┆ A   ┆ … ┆ -3.484375     ┆ 3.484375      ┆ 0.762695      ┆ 0.762695      │\n",
       "└───────┴──────────┴─────┴─────┴───┴───────────────┴───────────────┴───────────────┴───────────────┘"
      ]
     },
     "execution_count": 74,
     "metadata": {},
     "output_type": "execute_result"
    }
   ],
   "source": [
    "#dataset = \"mendelian_traits_all\"\n",
    "dataset = \"complex_traits_all\"\n",
    "subset = \"all\"\n",
    "\n",
    "#subset = \"maf_0.00_0.05\"\n",
    "#subset = \"maf_0.05_0.50\"\n",
    "#subset = \"maf_0.0_0.1\"\n",
    "#subset = \"maf_0.1_0.2\"\n",
    "#subset = \"maf_0.2_0.3\"\n",
    "#subset = \"maf_0.3_0.4\"\n",
    "#subset = \"maf_0.4_0.5\"\n",
    "\n",
    "features = [\n",
    "    \"CADD\",\n",
    "    \"GPN-MSA_LLR\",\n",
    "    \"GPN-MSA_absLLR\",\n",
    "\n",
    "    \"GPN_LLR\",\n",
    "    \"GPN_absLLR\",\n",
    "]\n",
    "\n",
    "base_dir = f\"../../results/dataset/{dataset}\"\n",
    "V = pl.read_parquet(f\"{base_dir}/test.parquet\")\n",
    "for feature in features:\n",
    "    df = pl.read_parquet(f\"{base_dir}/features/{feature}.parquet\")\n",
    "    df.columns = [f\"{feature}_{col}\" for col in df.columns]\n",
    "    V = pl.concat([V, df], how=\"horizontal\")\n",
    "subset_df = pl.read_parquet(f\"{base_dir}/subset/{subset}.parquet\")\n",
    "V = subset_df.join(V, on=[\"chrom\", \"pos\", \"ref\", \"alt\"], how=\"left\")\n",
    "V"
   ]
  },
  {
   "cell_type": "code",
   "execution_count": 75,
   "metadata": {},
   "outputs": [],
   "source": [
    "sorted_V = {\n",
    "    \"CADD\": V.sort(\"CADD_RawScore\", descending=True),\n",
    "\n",
    "    #\"GPN-MSA\": V.sort(\"GPN-MSA_LLR_score\", descending=False),\n",
    "    #\"gLM-Promoter\": V.sort(\"GPN_LLR_score\", descending=False),\n",
    "\n",
    "    \"GPN-MSA\": V.sort(\"GPN-MSA_absLLR_score\", descending=True),\n",
    "    \"gLM-Promoter\": V.sort(\"GPN_absLLR_score\", descending=True),\n",
    "}"
   ]
  },
  {
   "cell_type": "code",
   "execution_count": 44,
   "metadata": {},
   "outputs": [],
   "source": [
    "n_pos = V[\"label\"].sum()\n",
    "k = n_pos"
   ]
  },
  {
   "cell_type": "code",
   "execution_count": 45,
   "metadata": {},
   "outputs": [
    {
     "data": {
      "text/html": [
       "<div>\n",
       "<style scoped>\n",
       "    .dataframe tbody tr th:only-of-type {\n",
       "        vertical-align: middle;\n",
       "    }\n",
       "\n",
       "    .dataframe tbody tr th {\n",
       "        vertical-align: top;\n",
       "    }\n",
       "\n",
       "    .dataframe thead th {\n",
       "        text-align: right;\n",
       "    }\n",
       "</style>\n",
       "<table border=\"1\" class=\"dataframe\">\n",
       "  <thead>\n",
       "    <tr style=\"text-align: right;\">\n",
       "      <th></th>\n",
       "      <th>model</th>\n",
       "      <th>k</th>\n",
       "      <th>n_pos@k</th>\n",
       "      <th>precision@k</th>\n",
       "    </tr>\n",
       "  </thead>\n",
       "  <tbody>\n",
       "    <tr>\n",
       "      <th>1</th>\n",
       "      <td>GPN-MSA</td>\n",
       "      <td>339</td>\n",
       "      <td>51</td>\n",
       "      <td>0.150442</td>\n",
       "    </tr>\n",
       "    <tr>\n",
       "      <th>0</th>\n",
       "      <td>CADD</td>\n",
       "      <td>339</td>\n",
       "      <td>5</td>\n",
       "      <td>0.014749</td>\n",
       "    </tr>\n",
       "    <tr>\n",
       "      <th>2</th>\n",
       "      <td>gLM-Promoter</td>\n",
       "      <td>339</td>\n",
       "      <td>1</td>\n",
       "      <td>0.002950</td>\n",
       "    </tr>\n",
       "  </tbody>\n",
       "</table>\n",
       "</div>"
      ],
      "text/plain": [
       "          model    k  n_pos@k  precision@k\n",
       "1       GPN-MSA  339       51     0.150442\n",
       "0          CADD  339        5     0.014749\n",
       "2  gLM-Promoter  339        1     0.002950"
      ]
     },
     "execution_count": 45,
     "metadata": {},
     "output_type": "execute_result"
    }
   ],
   "source": [
    "res = []\n",
    "for model, df in sorted_V.items():\n",
    "    n = df.head(k)[\"label\"].sum()\n",
    "    precision_at_k = n / k\n",
    "    res.append([\n",
    "        model,\n",
    "        k,\n",
    "        n,\n",
    "        precision_at_k,\n",
    "    ])\n",
    "res = pd.DataFrame(res, columns=[\"model\", \"k\", \"n_pos@k\", \"precision@k\"])\n",
    "res = res.sort_values(\"precision@k\", ascending=False)\n",
    "res"
   ]
  },
  {
   "cell_type": "code",
   "execution_count": 46,
   "metadata": {},
   "outputs": [
    {
     "name": "stderr",
     "output_type": "stream",
     "text": [
      "/scratch/users/gbenegas/software/mambaforge/envs/gpn/lib/python3.11/site-packages/seaborn/_oldcore.py:1498: FutureWarning: is_categorical_dtype is deprecated and will be removed in a future version. Use isinstance(dtype, CategoricalDtype) instead\n",
      "  if pd.api.types.is_categorical_dtype(vector):\n",
      "/scratch/users/gbenegas/software/mambaforge/envs/gpn/lib/python3.11/site-packages/seaborn/_oldcore.py:1498: FutureWarning: is_categorical_dtype is deprecated and will be removed in a future version. Use isinstance(dtype, CategoricalDtype) instead\n",
      "  if pd.api.types.is_categorical_dtype(vector):\n",
      "/scratch/users/gbenegas/software/mambaforge/envs/gpn/lib/python3.11/site-packages/seaborn/_oldcore.py:1498: FutureWarning: is_categorical_dtype is deprecated and will be removed in a future version. Use isinstance(dtype, CategoricalDtype) instead\n",
      "  if pd.api.types.is_categorical_dtype(vector):\n"
     ]
    },
    {
     "data": {
      "image/png": "[encoded data removed]",
      "text/plain": [
       "<Figure size 144x144 with 1 Axes>"
      ]
     },
     "metadata": {
      "needs_background": "light"
     },
     "output_type": "display_data"
    }
   ],
   "source": [
    "plt.figure(figsize=(2,2))\n",
    "g = sns.barplot(\n",
    "    data=res,\n",
    "    y=\"model\",\n",
    "    x=\"precision@k\",\n",
    "    palette=palette,\n",
    ")\n",
    "g.set(\n",
    "    ylabel=\"\",\n",
    ")\n",
    "sns.despine();"
   ]
  },
  {
   "cell_type": "code",
   "execution_count": 47,
   "metadata": {},
   "outputs": [],
   "source": [
    "from sklearn.metrics import roc_auc_score, precision_recall_curve, auc, RocCurveDisplay, average_precision_score, PrecisionRecallDisplay"
   ]
  },
  {
   "cell_type": "code",
   "execution_count": 85,
   "metadata": {},
   "outputs": [
    {
     "data": {
      "text/plain": [
       "Text(0, 0.5, 'Precision')"
      ]
     },
     "execution_count": 85,
     "metadata": {},
     "output_type": "execute_result"
    },
    {
     "data": {
      "image/png": "[encoded data removed]",
      "text/plain": [
       "<Figure size 144x144 with 1 Axes>"
      ]
     },
     "metadata": {
      "needs_background": "light"
     },
     "output_type": "display_data"
    }
   ],
   "source": [
    "#k = 1 * n_pos\n",
    "#k = 10 * n_pos\n",
    "k = 100 * n_pos\n",
    "fig, ax = plt.subplots(figsize=(2,2))\n",
    "df = sorted_V[\"GPN-MSA\"].head(k)\n",
    "AUC = average_precision_score(df[\"label\"], -df[\"GPN-MSA_LLR_score\"])\n",
    "PrecisionRecallDisplay.from_predictions(\n",
    "    df[\"label\"], -df[\"GPN-MSA_LLR_score\"], label=f\"GPN-MSA ({AUC=:.2f})\",\n",
    "    ax=ax, color=palette[\"GPN-MSA\"],\n",
    ")\n",
    "df = sorted_V[\"CADD\"].head(k)\n",
    "AUC = average_precision_score(df[\"label\"], df[\"CADD_RawScore\"])\n",
    "PrecisionRecallDisplay.from_predictions(\n",
    "    df[\"label\"], df[\"CADD_RawScore\"], label=f\"CADD ({AUC=:.2f})\",\n",
    "    ax=ax, color=palette[\"CADD\"],\n",
    ")\n",
    "sns.move_legend(ax, \"upper left\", bbox_to_anchor=(1, 1))\n",
    "sns.despine()\n",
    "plt.xlabel(\"Recall\")\n",
    "plt.ylabel(\"Precision\")"
   ]
  },
  {
   "cell_type": "code",
   "execution_count": 86,
   "metadata": {},
   "outputs": [
    {
     "data": {
      "text/plain": [
       "Text(0, 0.5, 'Precision')"
      ]
     },
     "execution_count": 86,
     "metadata": {},
     "output_type": "execute_result"
    },
    {
     "data": {
      "image/png": "[encoded data removed]",
      "text/plain": [
       "<Figure size 144x144 with 1 Axes>"
      ]
     },
     "metadata": {
      "needs_background": "light"
     },
     "output_type": "display_data"
    }
   ],
   "source": [
    "n_pos = V[\"label\"].sum()\n",
    "#k = 1 * n_pos\n",
    "#k = 10 * n_pos\n",
    "k = 100 * n_pos\n",
    "fig, ax = plt.subplots(figsize=(2,2))\n",
    "df = sorted_V[\"GPN-MSA\"].head(k)\n",
    "AUC = average_precision_score(df[\"label\"], df[\"GPN-MSA_absLLR_score\"])\n",
    "PrecisionRecallDisplay.from_predictions(\n",
    "    df[\"label\"], df[\"GPN-MSA_absLLR_score\"], label=f\"GPN-MSA ({AUC=:.2f})\",\n",
    "    ax=ax, color=palette[\"GPN-MSA\"],\n",
    ")\n",
    "df = sorted_V[\"CADD\"].head(k)\n",
    "AUC = average_precision_score(df[\"label\"], df[\"CADD_RawScore\"])\n",
    "PrecisionRecallDisplay.from_predictions(\n",
    "    df[\"label\"], df[\"CADD_RawScore\"], label=f\"CADD ({AUC=:.2f})\",\n",
    "    ax=ax, color=palette[\"CADD\"],\n",
    ")\n",
    "sns.move_legend(ax, \"upper left\", bbox_to_anchor=(1, 1))\n",
    "sns.despine()\n",
    "plt.xlabel(\"Recall\")\n",
    "plt.ylabel(\"Precision\")"
   ]
  },
  {
   "cell_type": "code",
   "execution_count": 83,
   "metadata": {},
   "outputs": [
    {
     "data": {
      "text/plain": [
       "33"
      ]
     },
     "execution_count": 83,
     "metadata": {},
     "output_type": "execute_result"
    }
   ],
   "source": [
    "sorted_V[\"GPN-MSA\"].head(k)[\"label\"].sum()"
   ]
  },
  {
   "cell_type": "code",
   "execution_count": 84,
   "metadata": {},
   "outputs": [
    {
     "data": {
      "text/plain": [
       "30"
      ]
     },
     "execution_count": 84,
     "metadata": {},
     "output_type": "execute_result"
    }
   ],
   "source": [
    "sorted_V[\"CADD\"].head(k)[\"label\"].sum()"
   ]
  },
  {
   "cell_type": "code",
   "execution_count": null,
   "metadata": {},
   "outputs": [],
   "source": []
  }
 ],
 "metadata": {
  "kernelspec": {
   "display_name": "gpn",
   "language": "python",
   "name": "gpn"
  },
  "language_info": {
   "codemirror_mode": {
    "name": "ipython",
    "version": 3
   },
   "file_extension": ".py",
   "mimetype": "text/x-python",
   "name": "python",
   "nbconvert_exporter": "python",
   "pygments_lexer": "ipython3",
   "version": "3.11.3"
  }
 },
 "nbformat": 4,
 "nbformat_minor": 2
}
