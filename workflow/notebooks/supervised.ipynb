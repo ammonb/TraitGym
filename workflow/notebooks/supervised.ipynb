{
 "cells": [
  {
   "cell_type": "code",
   "execution_count": 1,
   "metadata": {},
   "outputs": [],
   "source": [
    "import matplotlib.patches as mpatches\n",
    "import matplotlib.pyplot as plt\n",
    "import pandas as pd\n",
    "import polars as pl\n",
    "import seaborn as sns\n",
    "from tqdm import tqdm\n",
    "import warnings\n",
    "warnings.filterwarnings(\"ignore\")"
   ]
  },
  {
   "cell_type": "code",
   "execution_count": 2,
   "metadata": {},
   "outputs": [],
   "source": [
    "def format_number(num):\n",
    "    \"\"\"\n",
    "    Converts a number into a more readable format, using K for thousands, M for millions, etc.\n",
    "    Args:\n",
    "    - num: The number to format.\n",
    "    \n",
    "    Returns:\n",
    "    - A formatted string representing the number.\n",
    "    \"\"\"\n",
    "    if num >= 1e9:\n",
    "        return f'{num/1e9:.1f}B'\n",
    "    elif num >= 1e6:\n",
    "        return f'{num/1e6:.1f}M'\n",
    "    elif num >= 1e3:\n",
    "        return f'{num/1e3:.1f}K'\n",
    "    else:\n",
    "        return str(num)\n",
    "\n",
    "def single_barplot(subset, title):\n",
    "    df_s = df[df.subset==subset]\n",
    "    n_pos, n_neg = sample_size[subset]\n",
    "    metric = \"AUROC\" if n_pos == n_neg else \"AUPRC\"\n",
    "    if metric == \"AUROC\":\n",
    "        baseline = 0.5\n",
    "    elif metric == \"AUPRC\":\n",
    "        baseline = n_pos / (n_pos + n_neg)\n",
    "    elif metric == \"Odds ratio\":\n",
    "        baseline = 1\n",
    "    plt.figure(figsize=(2,2))\n",
    "    g = sns.barplot(\n",
    "        data=df_s,\n",
    "        y=\"Model\",\n",
    "        x=metric,\n",
    "        order=df_s.sort_values(metric, ascending=False).Model,\n",
    "        palette=models.color.to_dict(),\n",
    "    )\n",
    "    for bar, model in zip(g.patches, df_s.Model):\n",
    "        text = f'{bar.get_width():.3f}'\n",
    "        g.text(\n",
    "            max(bar.get_width(), baseline),  # X position, here at the end of the bar\n",
    "            bar.get_y() + bar.get_height()/2,  # Y position, in the middle of the bar\n",
    "            text,  # Text to be displayed, formatted to 3 decimal places\n",
    "            va='center'  # Vertical alignment\n",
    "        )\n",
    "    sample_size_str = f\"n={format_number(n_pos)} vs. {format_number(n_neg)}\"\n",
    "    g.set_title(f\"{title}\\n{sample_size_str}\", fontsize=10)\n",
    "    g.set(\n",
    "        ylabel=\"\",\n",
    "        xlim=baseline,\n",
    "    )\n",
    "    sns.despine();"
   ]
  },
  {
   "cell_type": "code",
   "execution_count": 20,
   "metadata": {},
   "outputs": [
    {
     "data": {
      "text/html": [
       "<div>\n",
       "<style scoped>\n",
       "    .dataframe tbody tr th:only-of-type {\n",
       "        vertical-align: middle;\n",
       "    }\n",
       "\n",
       "    .dataframe tbody tr th {\n",
       "        vertical-align: top;\n",
       "    }\n",
       "\n",
       "    .dataframe thead th {\n",
       "        text-align: right;\n",
       "    }\n",
       "</style>\n",
       "<table border=\"1\" class=\"dataframe\">\n",
       "  <thead>\n",
       "    <tr style=\"text-align: right;\">\n",
       "      <th></th>\n",
       "      <th>path</th>\n",
       "      <th>color</th>\n",
       "    </tr>\n",
       "    <tr>\n",
       "      <th>Model</th>\n",
       "      <th></th>\n",
       "      <th></th>\n",
       "    </tr>\n",
       "  </thead>\n",
       "  <tbody>\n",
       "    <tr>\n",
       "      <th>Enformer</th>\n",
       "      <td>Enformer_L2.LogisticRegression.odd_even</td>\n",
       "      <td>C0</td>\n",
       "    </tr>\n",
       "    <tr>\n",
       "      <th>Borzoi</th>\n",
       "      <td>Borzoi_L2.LogisticRegression.odd_even</td>\n",
       "      <td>C1</td>\n",
       "    </tr>\n",
       "    <tr>\n",
       "      <th>CADD</th>\n",
       "      <td>CADD.LogisticRegression.odd_even</td>\n",
       "      <td>C2</td>\n",
       "    </tr>\n",
       "    <tr>\n",
       "      <th>GPN-MSA</th>\n",
       "      <td>GPN-MSA_LLR+InnerProducts.LogisticRegression.o...</td>\n",
       "      <td>C3</td>\n",
       "    </tr>\n",
       "    <tr>\n",
       "      <th>GPN</th>\n",
       "      <td>GPN_LLR+InnerProducts.LogisticRegression.odd_even</td>\n",
       "      <td>C4</td>\n",
       "    </tr>\n",
       "    <tr>\n",
       "      <th>NT</th>\n",
       "      <td>NucleotideTransformer_LLR+InnerProducts.Logist...</td>\n",
       "      <td>C5</td>\n",
       "    </tr>\n",
       "    <tr>\n",
       "      <th>HyenaDNA</th>\n",
       "      <td>HyenaDNA_LLR+InnerProducts.LogisticRegression....</td>\n",
       "      <td>C6</td>\n",
       "    </tr>\n",
       "    <tr>\n",
       "      <th>Caduceus</th>\n",
       "      <td>Caduceus_LLR+InnerProducts.LogisticRegression....</td>\n",
       "      <td>C8</td>\n",
       "    </tr>\n",
       "    <tr>\n",
       "      <th>Enformer+Borzoi+GPN-MSA+CADD(*)</th>\n",
       "      <td>OMIM_Ensemble.LogisticRegression.odd_even</td>\n",
       "      <td>C9</td>\n",
       "    </tr>\n",
       "    <tr>\n",
       "      <th>GPN-MSA+CADD(**)</th>\n",
       "      <td>CADD+GPN-MSA_LLR.LogisticRegression.odd_even</td>\n",
       "      <td>black</td>\n",
       "    </tr>\n",
       "  </tbody>\n",
       "</table>\n",
       "</div>"
      ],
      "text/plain": [
       "                                                                              path  \\\n",
       "Model                                                                                \n",
       "Enformer                                   Enformer_L2.LogisticRegression.odd_even   \n",
       "Borzoi                                       Borzoi_L2.LogisticRegression.odd_even   \n",
       "CADD                                              CADD.LogisticRegression.odd_even   \n",
       "GPN-MSA                          GPN-MSA_LLR+InnerProducts.LogisticRegression.o...   \n",
       "GPN                              GPN_LLR+InnerProducts.LogisticRegression.odd_even   \n",
       "NT                               NucleotideTransformer_LLR+InnerProducts.Logist...   \n",
       "HyenaDNA                         HyenaDNA_LLR+InnerProducts.LogisticRegression....   \n",
       "Caduceus                         Caduceus_LLR+InnerProducts.LogisticRegression....   \n",
       "Enformer+Borzoi+GPN-MSA+CADD(*)          OMIM_Ensemble.LogisticRegression.odd_even   \n",
       "GPN-MSA+CADD(**)                      CADD+GPN-MSA_LLR.LogisticRegression.odd_even   \n",
       "\n",
       "                                 color  \n",
       "Model                                   \n",
       "Enformer                            C0  \n",
       "Borzoi                              C1  \n",
       "CADD                                C2  \n",
       "GPN-MSA                             C3  \n",
       "GPN                                 C4  \n",
       "NT                                  C5  \n",
       "HyenaDNA                            C6  \n",
       "Caduceus                            C8  \n",
       "Enformer+Borzoi+GPN-MSA+CADD(*)     C9  \n",
       "GPN-MSA+CADD(**)                 black  "
      ]
     },
     "execution_count": 20,
     "metadata": {},
     "output_type": "execute_result"
    }
   ],
   "source": [
    "LLR_version = \"LLR\"\n",
    "#LLR_version = \"absLLR\"\n",
    "\n",
    "classifier = \"LogisticRegression.odd_even\"\n",
    "\n",
    "models = pd.DataFrame(\n",
    "    [\n",
    "        [\"Enformer\", f\"Enformer_L2.{classifier}\", \"C0\"],\n",
    "        [\"Borzoi\", f\"Borzoi_L2.{classifier}\", \"C1\"],\n",
    "        [\"CADD\", f\"CADD.{classifier}\", \"C2\"],\n",
    "        [\"GPN-MSA\", f\"GPN-MSA_{LLR_version}+InnerProducts.{classifier}\", \"C3\"],\n",
    "        [\"GPN\", f\"GPN_{LLR_version}+InnerProducts.{classifier}\", \"C4\"],\n",
    "        [\"NT\", f\"NucleotideTransformer_{LLR_version}+InnerProducts.{classifier}\", \"C5\"],\n",
    "        [\"HyenaDNA\", f\"HyenaDNA_{LLR_version}+InnerProducts.{classifier}\", \"C6\"],\n",
    "        #[\"Enformer+GPN-MSA+CADD\", f\"Enformer_L2+GPN-MSA+CADD.{classifier}\", \"C7\"],\n",
    "        [\"Caduceus\", f\"Caduceus_{LLR_version}+InnerProducts.{classifier}\", \"C8\"],\n",
    "        [\"Enformer+Borzoi+GPN-MSA+CADD(*)\", f\"OMIM_Ensemble.{classifier}\", \"C9\"],\n",
    "        [\"GPN-MSA+CADD(**)\", f\"CADD+GPN-MSA_LLR.{classifier}\", \"black\"],\n",
    "    ],\n",
    "    columns=[\"Model\", \"path\", \"color\"]\n",
    ").set_index(\"Model\")\n",
    "models"
   ]
  },
  {
   "cell_type": "code",
   "execution_count": 4,
   "metadata": {},
   "outputs": [
    {
     "data": {
      "text/plain": [
       "{}"
      ]
     },
     "execution_count": 4,
     "metadata": {},
     "output_type": "execute_result"
    }
   ],
   "source": [
    "trait_renaming = pd.read_csv(\n",
    "    \"../../results/gwas/raw/release1.1/UKBB_94traits_release1.traits\", sep=\"\\t\",\n",
    ").set_index(\"trait\")[\"description\"].to_dict()\n",
    "trait_renaming = {}  # override\n",
    "trait_renaming"
   ]
  },
  {
   "cell_type": "code",
   "execution_count": 5,
   "metadata": {},
   "outputs": [],
   "source": [
    "consequence_renaming = {\n",
    "    \"nonexonic\": \"non-exonic\",\n",
    "    \"missense_variant\": \"missense\",\n",
    "    \"non_coding_transcript_exon_variant\": \"ncRNA\",\n",
    "    \"3_prime_UTR_variant\": \"3' UTR\",\n",
    "    \"5_prime_UTR_variant\": \"5' UTR\",\n",
    "}\n",
    "\n",
    "subset_renaming = {**trait_renaming, **consequence_renaming}"
   ]
  },
  {
   "cell_type": "code",
   "execution_count": 21,
   "metadata": {},
   "outputs": [
    {
     "name": "stderr",
     "output_type": "stream",
     "text": [
      "  0%|                                                                     | 0/1 [00:00<?, ?it/s]"
     ]
    },
    {
     "name": "stderr",
     "output_type": "stream",
     "text": [
      "100%|█████████████████████████████████████████████████████████████| 1/1 [00:00<00:00, 20.94it/s]\n"
     ]
    },
    {
     "data": {
      "text/html": [
       "<div>\n",
       "<style scoped>\n",
       "    .dataframe tbody tr th:only-of-type {\n",
       "        vertical-align: middle;\n",
       "    }\n",
       "\n",
       "    .dataframe tbody tr th {\n",
       "        vertical-align: top;\n",
       "    }\n",
       "\n",
       "    .dataframe thead th {\n",
       "        text-align: right;\n",
       "    }\n",
       "</style>\n",
       "<table border=\"1\" class=\"dataframe\">\n",
       "  <thead>\n",
       "    <tr style=\"text-align: right;\">\n",
       "      <th></th>\n",
       "      <th>Model</th>\n",
       "      <th>AUPRC</th>\n",
       "      <th>subset</th>\n",
       "    </tr>\n",
       "  </thead>\n",
       "  <tbody>\n",
       "    <tr>\n",
       "      <th>0</th>\n",
       "      <td>Enformer</td>\n",
       "      <td>0.491497</td>\n",
       "      <td>all</td>\n",
       "    </tr>\n",
       "    <tr>\n",
       "      <th>0</th>\n",
       "      <td>Borzoi</td>\n",
       "      <td>0.496619</td>\n",
       "      <td>all</td>\n",
       "    </tr>\n",
       "    <tr>\n",
       "      <th>0</th>\n",
       "      <td>CADD</td>\n",
       "      <td>0.826344</td>\n",
       "      <td>all</td>\n",
       "    </tr>\n",
       "    <tr>\n",
       "      <th>0</th>\n",
       "      <td>GPN-MSA</td>\n",
       "      <td>0.567623</td>\n",
       "      <td>all</td>\n",
       "    </tr>\n",
       "    <tr>\n",
       "      <th>0</th>\n",
       "      <td>GPN</td>\n",
       "      <td>0.302047</td>\n",
       "      <td>all</td>\n",
       "    </tr>\n",
       "    <tr>\n",
       "      <th>0</th>\n",
       "      <td>NT</td>\n",
       "      <td>0.140089</td>\n",
       "      <td>all</td>\n",
       "    </tr>\n",
       "    <tr>\n",
       "      <th>0</th>\n",
       "      <td>HyenaDNA</td>\n",
       "      <td>0.104614</td>\n",
       "      <td>all</td>\n",
       "    </tr>\n",
       "    <tr>\n",
       "      <th>0</th>\n",
       "      <td>Caduceus</td>\n",
       "      <td>0.095010</td>\n",
       "      <td>all</td>\n",
       "    </tr>\n",
       "    <tr>\n",
       "      <th>0</th>\n",
       "      <td>Enformer+Borzoi+GPN-MSA+CADD(*)</td>\n",
       "      <td>0.881230</td>\n",
       "      <td>all</td>\n",
       "    </tr>\n",
       "    <tr>\n",
       "      <th>0</th>\n",
       "      <td>GPN-MSA+CADD(**)</td>\n",
       "      <td>0.847501</td>\n",
       "      <td>all</td>\n",
       "    </tr>\n",
       "  </tbody>\n",
       "</table>\n",
       "</div>"
      ],
      "text/plain": [
       "                             Model     AUPRC subset\n",
       "0                         Enformer  0.491497    all\n",
       "0                           Borzoi  0.496619    all\n",
       "0                             CADD  0.826344    all\n",
       "0                          GPN-MSA  0.567623    all\n",
       "0                              GPN  0.302047    all\n",
       "0                               NT  0.140089    all\n",
       "0                         HyenaDNA  0.104614    all\n",
       "0                         Caduceus  0.095010    all\n",
       "0  Enformer+Borzoi+GPN-MSA+CADD(*)  0.881230    all\n",
       "0                 GPN-MSA+CADD(**)  0.847501    all"
      ]
     },
     "execution_count": 21,
     "metadata": {},
     "output_type": "execute_result"
    }
   ],
   "source": [
    "subsets = [\n",
    "    \"all\",\n",
    "\n",
    "#    \"nonexonic\",\n",
    "#    \"missense_variant\",\n",
    "#    \"non_coding_transcript_exon_variant\",\n",
    "#    \"3_prime_UTR_variant\",\n",
    "#    \"5_prime_UTR_variant\",\n",
    "\n",
    "#    \"Height\",\n",
    "#    \"MCV\",\n",
    "###    \"MCH\",\n",
    "#    \"Mono\",\n",
    "#    \"Plt\",\n",
    "#    \"eBMD\",\n",
    "##    \"HbA1c\",\n",
    "##    \"RBC\",\n",
    "##    \"ALP\",\n",
    "##    \"IGF1\",\n",
    "##    \"HDLC\",\n",
    "##    \"Eosino\",\n",
    "##    \"LDLC\",\n",
    "##    \"SHBG\",\n",
    "##    \"AG\",\n",
    "##    \"Lym\",\n",
    "##    \"Hb\",\n",
    "##    \"GGT\",\n",
    "##    \"eGFRcys\",\n",
    "##    \"ApoA\",\n",
    "##    \"WBC\",\n",
    "##    \"eGFR\",\n",
    "##    \"TP\",\n",
    "\n",
    "#    \"traits_n50\",\n",
    "\n",
    "#    \"Thyroid\",\n",
    "#    \"Whole_Blood\",\n",
    "#    \"Lung\",\n",
    "#    \"Brain_Cortex\",\n",
    "#    \"Liver\",\n",
    "]\n",
    "\n",
    "dfs = []\n",
    "sample_size = {}\n",
    "\n",
    "base_dir = f\"../../results/dataset/omim_subsampled_9\"\n",
    "#base_dir = f\"../../results/dataset/gwas_matched_9\"\n",
    "#base_dir = f\"../../results/dataset/eqtl_matched_1\"\n",
    "V = pd.read_parquet(f\"{base_dir}/test.parquet\")\n",
    "\n",
    "for subset in tqdm(subsets):\n",
    "    s = pd.read_parquet(f\"{base_dir}/subset/{subset}.parquet\")\n",
    "    V_s = s.merge(V, on=[\"chrom\", \"pos\", \"ref\", \"alt\"], how=\"left\")\n",
    "    sample_size[subset] = V_s.label.sum(), (~V_s.label).sum()\n",
    "    for model in models.index:\n",
    "        df = pd.read_csv(f\"{base_dir}/metrics/{subset}/{models.loc[model, 'path']}.csv\")\n",
    "        df.Model = model\n",
    "        df[\"subset\"] = subset\n",
    "        dfs.append(df)\n",
    "df = pd.concat(dfs)\n",
    "df"
   ]
  },
  {
   "cell_type": "code",
   "execution_count": 22,
   "metadata": {},
   "outputs": [
    {
     "data": {
      "image/png": "[encoded data removed]",
      "text/plain": [
       "<Figure size 144x144 with 1 Axes>"
      ]
     },
     "metadata": {
      "needs_background": "light"
     },
     "output_type": "display_data"
    }
   ],
   "source": [
    "single_barplot(\"all\", \"OMIM\")"
   ]
  },
  {
   "cell_type": "code",
   "execution_count": 11,
   "metadata": {},
   "outputs": [
    {
     "data": {
      "image/png": "[encoded data removed]",
      "text/plain": [
       "<Figure size 144x144 with 1 Axes>"
      ]
     },
     "metadata": {
      "needs_background": "light"
     },
     "output_type": "display_data"
    }
   ],
   "source": [
    "single_barplot(\"all\", \"GWAS\")"
   ]
  },
  {
   "cell_type": "code",
   "execution_count": 13,
   "metadata": {},
   "outputs": [
    {
     "data": {
      "image/png": "[encoded data removed]",
      "text/plain": [
       "<Figure size 144x144 with 1 Axes>"
      ]
     },
     "metadata": {
      "needs_background": "light"
     },
     "output_type": "display_data"
    }
   ],
   "source": [
    "single_barplot(\"all\", \"eQTL\")"
   ]
  },
  {
   "cell_type": "code",
   "execution_count": 39,
   "metadata": {},
   "outputs": [
    {
     "data": {
      "text/plain": [
       "<matplotlib.legend.Legend at 0x7f4b2c8d61d0>"
      ]
     },
     "execution_count": 39,
     "metadata": {},
     "output_type": "execute_result"
    },
    {
     "data": {
      "image/png": "[encoded data removed]",
      "text/plain": [
       "<Figure size 720x144 with 5 Axes>"
      ]
     },
     "metadata": {
      "needs_background": "light"
     },
     "output_type": "display_data"
    }
   ],
   "source": [
    "#nrows, ncols = 2, 3\n",
    "#nrows, ncols = 4, 6\n",
    "nrows, ncols = 1, 5\n",
    "\n",
    "width, height = 2, 2\n",
    "\n",
    "#wspace, hspace = 0.9, 0.9\n",
    "wspace, hspace = None, 0.9\n",
    "\n",
    "#metric = \"AUPRC\"\n",
    "metric = \"AUROC\"\n",
    "\n",
    "fig, axes = plt.subplots(\n",
    "    nrows=nrows, ncols=ncols, sharex=False, sharey=False,\n",
    "    figsize=(width*ncols, height*nrows), squeeze=False,\n",
    "    gridspec_kw={'wspace': wspace, 'hspace': hspace},\n",
    ")\n",
    "\n",
    "for subset, ax in zip(subsets, axes.flat):\n",
    "    df_s = df[df.subset==subset].sort_values(metric, ascending=False)\n",
    "    n_pos, n_neg = sample_size[subset]\n",
    "\n",
    "    if metric == \"AUROC\":\n",
    "        baseline = 0.5\n",
    "    elif metric == \"AUPRC\":\n",
    "        baseline = n_pos / (n_pos + n_neg)\n",
    "    elif metric == \"Odds ratio\":\n",
    "        baseline = 1\n",
    "\n",
    "    g = sns.barplot(\n",
    "        data=df_s,\n",
    "        y=\"Model\",\n",
    "        x=metric,\n",
    "        palette=palette,\n",
    "        ax=ax,\n",
    "    )\n",
    "    sns.despine()\n",
    "    sample_size_str = f\"n={format_number(n_pos)} vs. {format_number(n_neg)}\"\n",
    "    subtitle = f\"{subset_renaming.get(subset, subset)}\\n{sample_size_str}\"\n",
    "    g.set_title(subtitle, fontsize=10)\n",
    "    g.set(\n",
    "        xlim=baseline,\n",
    "        ylabel=\"\",\n",
    "        yticks=[],\n",
    "    )\n",
    "\n",
    "    for bar, model in zip(g.patches, df_s.Model):\n",
    "        text = f'{bar.get_width():.3f}'\n",
    "        g.text(\n",
    "            max(bar.get_width(), baseline),  # X position, here at the end of the bar\n",
    "            bar.get_y() + bar.get_height()/2,  # Y position, in the middle of the bar\n",
    "            text,  # Text to be displayed, formatted to 3 decimal places\n",
    "            va='center'  # Vertical alignment\n",
    "        )\n",
    "\n",
    "plt.legend(\n",
    "    handles=[mpatches.Patch(color=palette[model], label=model) for model in models],\n",
    "    #bbox_to_anchor=(1.4, 3.2),\n",
    "    bbox_to_anchor=(1.4, 1.0),\n",
    "    loc='upper left', borderaxespad=0.,\n",
    "    title=\"Model\",\n",
    ")"
   ]
  },
  {
   "cell_type": "code",
   "execution_count": 9,
   "metadata": {},
   "outputs": [
    {
     "data": {
      "text/html": [
       "<div>\n",
       "<style scoped>\n",
       "    .dataframe tbody tr th:only-of-type {\n",
       "        vertical-align: middle;\n",
       "    }\n",
       "\n",
       "    .dataframe tbody tr th {\n",
       "        vertical-align: top;\n",
       "    }\n",
       "\n",
       "    .dataframe thead th {\n",
       "        text-align: right;\n",
       "    }\n",
       "</style>\n",
       "<table border=\"1\" class=\"dataframe\">\n",
       "  <thead>\n",
       "    <tr style=\"text-align: right;\">\n",
       "      <th></th>\n",
       "      <th>Model</th>\n",
       "      <th>AUPRC</th>\n",
       "    </tr>\n",
       "  </thead>\n",
       "  <tbody>\n",
       "    <tr>\n",
       "      <th>0</th>\n",
       "      <td>Enformer_L2+GPN-MSA+CADD</td>\n",
       "      <td>0.402273</td>\n",
       "    </tr>\n",
       "    <tr>\n",
       "      <th>1</th>\n",
       "      <td>Enformer_L2</td>\n",
       "      <td>0.386182</td>\n",
       "    </tr>\n",
       "    <tr>\n",
       "      <th>2</th>\n",
       "      <td>Borzoi_L2</td>\n",
       "      <td>0.383519</td>\n",
       "    </tr>\n",
       "    <tr>\n",
       "      <th>3</th>\n",
       "      <td>CADD</td>\n",
       "      <td>0.311857</td>\n",
       "    </tr>\n",
       "    <tr>\n",
       "      <th>4</th>\n",
       "      <td>GPN-MSA</td>\n",
       "      <td>0.288772</td>\n",
       "    </tr>\n",
       "  </tbody>\n",
       "</table>\n",
       "</div>"
      ],
      "text/plain": [
       "                      Model     AUPRC\n",
       "0  Enformer_L2+GPN-MSA+CADD  0.402273\n",
       "1               Enformer_L2  0.386182\n",
       "2                 Borzoi_L2  0.383519\n",
       "3                      CADD  0.311857\n",
       "4                   GPN-MSA  0.288772"
      ]
     },
     "execution_count": 9,
     "metadata": {},
     "output_type": "execute_result"
    }
   ],
   "source": [
    "df[\"n_pos\"] = df.subset.apply(lambda x: sample_size[x][0])\n",
    "\n",
    "def weighted_average(df):\n",
    "    weights = df[\"n_pos\"] / df[\"n_pos\"].sum()\n",
    "    return (df.AUPRC * weights).sum()\n",
    "\n",
    "df_w = (\n",
    "    df[df.subset!=\"all\"].groupby(\"Model\").apply(weighted_average).rename(\"AUPRC\")\n",
    "    .sort_values(ascending=False).to_frame().reset_index()\n",
    ")\n",
    "df_w"
   ]
  },
  {
   "cell_type": "code",
   "execution_count": 16,
   "metadata": {},
   "outputs": [],
   "source": [
    "def single_barplot(subset, title):\n",
    "    df_s = df[df.subset==subset]\n",
    "    n_pos, n_neg = sample_size[subset]\n",
    "    metric = \"AUROC\" if n_pos == n_neg else \"AUPRC\"\n",
    "    plt.figure(figsize=(2,2))\n",
    "    g = sns.barplot(\n",
    "        data=df_s,\n",
    "        y=\"Model\",\n",
    "        x=metric,\n",
    "        order=df_s.sort_values(metric, ascending=False).Model,\n",
    "        palette=palette,\n",
    "    )\n",
    "    for bar, model in zip(g.patches, df_s.Model):\n",
    "        text = f'{bar.get_width():.3f}'\n",
    "        g.text(\n",
    "            max(bar.get_width(), baseline),  # X position, here at the end of the bar\n",
    "            bar.get_y() + bar.get_height()/2,  # Y position, in the middle of the bar\n",
    "            text,  # Text to be displayed, formatted to 3 decimal places\n",
    "            va='center'  # Vertical alignment\n",
    "        )\n",
    "    sample_size_str = f\"n={format_number(n_pos)} vs. {format_number(n_neg)}\"\n",
    "    g.set_title(f\"{title}\\n{sample_size_str}\", fontsize=10)\n",
    "    g.set(\n",
    "        ylabel=\"\",\n",
    "        xlim=n_pos/(n_pos+n_neg),\n",
    "    )\n",
    "    sns.despine();"
   ]
  },
  {
   "cell_type": "code",
   "execution_count": 11,
   "metadata": {},
   "outputs": [
    {
     "data": {
      "image/png": "[encoded data removed]",
      "text/plain": [
       "<Figure size 144x144 with 1 Axes>"
      ]
     },
     "metadata": {
      "needs_background": "light"
     },
     "output_type": "display_data"
    }
   ],
   "source": [
    "single_barplot(\"all\", \"GWAS\")"
   ]
  },
  {
   "cell_type": "code",
   "execution_count": 17,
   "metadata": {},
   "outputs": [
    {
     "data": {
      "image/png": "[encoded data removed]",
      "text/plain": [
       "<Figure size 144x144 with 1 Axes>"
      ]
     },
     "metadata": {
      "needs_background": "light"
     },
     "output_type": "display_data"
    }
   ],
   "source": [
    "single_barplot(\"all\", \"eQTL\")"
   ]
  },
  {
   "cell_type": "code",
   "execution_count": 10,
   "metadata": {},
   "outputs": [
    {
     "data": {
      "image/png": "[encoded data removed]",
      "text/plain": [
       "<Figure size 144x144 with 1 Axes>"
      ]
     },
     "metadata": {
      "needs_background": "light"
     },
     "output_type": "display_data"
    }
   ],
   "source": [
    "#single_barplot(df_w, \"weighted\")"
   ]
  },
  {
   "cell_type": "code",
   "execution_count": null,
   "metadata": {},
   "outputs": [],
   "source": []
  }
 ],
 "metadata": {
  "kernelspec": {
   "display_name": "gpn",
   "language": "python",
   "name": "gpn"
  },
  "language_info": {
   "codemirror_mode": {
    "name": "ipython",
    "version": 3
   },
   "file_extension": ".py",
   "mimetype": "text/x-python",
   "name": "python",
   "nbconvert_exporter": "python",
   "pygments_lexer": "ipython3",
   "version": "3.11.3"
  }
 },
 "nbformat": 4,
 "nbformat_minor": 2
}
