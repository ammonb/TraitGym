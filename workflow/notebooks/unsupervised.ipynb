{
 "cells": [
  {
   "cell_type": "code",
   "execution_count": 1,
   "metadata": {},
   "outputs": [],
   "source": [
    "import matplotlib.patches as mpatches\n",
    "import matplotlib.pyplot as plt\n",
    "import pandas as pd\n",
    "import polars as pl\n",
    "import seaborn as sns\n",
    "from tqdm import tqdm\n",
    "import warnings\n",
    "warnings.filterwarnings(\"ignore\")"
   ]
  },
  {
   "cell_type": "code",
   "execution_count": 2,
   "metadata": {},
   "outputs": [],
   "source": [
    "def format_number(num):\n",
    "    \"\"\"\n",
    "    Converts a number into a more readable format, using K for thousands, M for millions, etc.\n",
    "    Args:\n",
    "    - num: The number to format.\n",
    "    \n",
    "    Returns:\n",
    "    - A formatted string representing the number.\n",
    "    \"\"\"\n",
    "    if num >= 1e9:\n",
    "        return f'{num/1e9:.1f}B'\n",
    "    elif num >= 1e6:\n",
    "        return f'{num/1e6:.1f}M'\n",
    "    elif num >= 1e3:\n",
    "        return f'{num/1e3:.1f}K'\n",
    "    else:\n",
    "        return str(num)"
   ]
  },
  {
   "cell_type": "code",
   "execution_count": 14,
   "metadata": {},
   "outputs": [
    {
     "name": "stderr",
     "output_type": "stream",
     "text": [
      "100%|██████████████████████████████████████████| 1/1 [00:00<00:00, 22.86it/s]"
     ]
    },
    {
     "name": "stderr",
     "output_type": "stream",
     "text": [
      "\n"
     ]
    },
    {
     "data": {
      "text/html": [
       "<div>\n",
       "<style scoped>\n",
       "    .dataframe tbody tr th:only-of-type {\n",
       "        vertical-align: middle;\n",
       "    }\n",
       "\n",
       "    .dataframe tbody tr th {\n",
       "        vertical-align: top;\n",
       "    }\n",
       "\n",
       "    .dataframe thead th {\n",
       "        text-align: right;\n",
       "    }\n",
       "</style>\n",
       "<table border=\"1\" class=\"dataframe\">\n",
       "  <thead>\n",
       "    <tr style=\"text-align: right;\">\n",
       "      <th></th>\n",
       "      <th>AUPRC</th>\n",
       "      <th>Model</th>\n",
       "      <th>subset</th>\n",
       "    </tr>\n",
       "  </thead>\n",
       "  <tbody>\n",
       "    <tr>\n",
       "      <th>1</th>\n",
       "      <td>0.191004</td>\n",
       "      <td>Enformer_L2_L2</td>\n",
       "      <td>all</td>\n",
       "    </tr>\n",
       "    <tr>\n",
       "      <th>2</th>\n",
       "      <td>0.187332</td>\n",
       "      <td>Borzoi_L2_L2</td>\n",
       "      <td>all</td>\n",
       "    </tr>\n",
       "    <tr>\n",
       "      <th>0</th>\n",
       "      <td>0.169172</td>\n",
       "      <td>GPN-MSA_absLLR</td>\n",
       "      <td>all</td>\n",
       "    </tr>\n",
       "    <tr>\n",
       "      <th>2</th>\n",
       "      <td>0.166877</td>\n",
       "      <td>CADD</td>\n",
       "      <td>all</td>\n",
       "    </tr>\n",
       "  </tbody>\n",
       "</table>\n",
       "</div>"
      ],
      "text/plain": [
       "      AUPRC           Model subset\n",
       "1  0.191004  Enformer_L2_L2    all\n",
       "2  0.187332    Borzoi_L2_L2    all\n",
       "0  0.169172  GPN-MSA_absLLR    all\n",
       "2  0.166877            CADD    all"
      ]
     },
     "execution_count": 14,
     "metadata": {},
     "output_type": "execute_result"
    }
   ],
   "source": [
    "subsets = [\n",
    "    \"all\",\n",
    "]\n",
    "\n",
    "model_feature = {\n",
    "    \"Enformer_L2_L2\": \"all\",\n",
    "    \"Borzoi_L2_L2\": \"all\",\n",
    "    #\"GPN-MSA_LLR\": \"score\",\n",
    "    \"GPN-MSA_absLLR\": \"score\",\n",
    "    \"CADD\": \"RawScore\",\n",
    "}\n",
    "models = list(model_feature.keys())\n",
    "\n",
    "palette = {model: f\"C{i}\" for i, model in enumerate(models)}\n",
    "\n",
    "dfs = []\n",
    "sample_size = {}\n",
    "\n",
    "base_dir = f\"../../results/dataset/gwas_matched_9\"\n",
    "#base_dir = f\"../../results/dataset/omim_subsampled_9\"\n",
    "V = pd.read_parquet(f\"{base_dir}/test.parquet\")\n",
    "\n",
    "for subset in tqdm(subsets):\n",
    "    s = pd.read_parquet(f\"{base_dir}/subset/{subset}.parquet\")\n",
    "    V_s = s.merge(V, on=[\"chrom\", \"pos\", \"ref\", \"alt\"], how=\"left\")\n",
    "    sample_size[subset] = V_s.label.sum(), (~V_s.label).sum()\n",
    "    for model in models:\n",
    "        df = pd.read_csv(f\"{base_dir}/unsupervised_metrics/{subset}/{model}.csv\")\n",
    "        df = df[df.feature == model_feature[model]].drop(columns=[\"feature\"])\n",
    "        df[\"Model\"] = model\n",
    "        df[\"subset\"] = subset\n",
    "        dfs.append(df)\n",
    "df = pd.concat(dfs)\n",
    "df"
   ]
  },
  {
   "cell_type": "code",
   "execution_count": 39,
   "metadata": {},
   "outputs": [
    {
     "data": {
      "text/plain": [
       "<matplotlib.legend.Legend at 0x7f4b2c8d61d0>"
      ]
     },
     "execution_count": 39,
     "metadata": {},
     "output_type": "execute_result"
    },
    {
     "data": {
      "image/png": "[encoded data removed]",
      "text/plain": [
       "<Figure size 720x144 with 5 Axes>"
      ]
     },
     "metadata": {
      "needs_background": "light"
     },
     "output_type": "display_data"
    }
   ],
   "source": [
    "#nrows, ncols = 2, 3\n",
    "#nrows, ncols = 4, 6\n",
    "nrows, ncols = 1, 5\n",
    "\n",
    "width, height = 2, 2\n",
    "\n",
    "#wspace, hspace = 0.9, 0.9\n",
    "wspace, hspace = None, 0.9\n",
    "\n",
    "#metric = \"AUPRC\"\n",
    "metric = \"AUROC\"\n",
    "\n",
    "fig, axes = plt.subplots(\n",
    "    nrows=nrows, ncols=ncols, sharex=False, sharey=False,\n",
    "    figsize=(width*ncols, height*nrows), squeeze=False,\n",
    "    gridspec_kw={'wspace': wspace, 'hspace': hspace},\n",
    ")\n",
    "\n",
    "for subset, ax in zip(subsets, axes.flat):\n",
    "    df_s = df[df.subset==subset].sort_values(metric, ascending=False)\n",
    "    n_pos, n_neg = sample_size[subset]\n",
    "\n",
    "    if metric == \"AUROC\":\n",
    "        baseline = 0.5\n",
    "    elif metric == \"AUPRC\":\n",
    "        baseline = n_pos / (n_pos + n_neg)\n",
    "    elif metric == \"Odds ratio\":\n",
    "        baseline = 1\n",
    "\n",
    "    g = sns.barplot(\n",
    "        data=df_s,\n",
    "        y=\"Model\",\n",
    "        x=metric,\n",
    "        palette=palette,\n",
    "        ax=ax,\n",
    "    )\n",
    "    sns.despine()\n",
    "    sample_size_str = f\"n={format_number(n_pos)} vs. {format_number(n_neg)}\"\n",
    "    subtitle = f\"{subset_renaming.get(subset, subset)}\\n{sample_size_str}\"\n",
    "    g.set_title(subtitle, fontsize=10)\n",
    "    g.set(\n",
    "        xlim=baseline,\n",
    "        ylabel=\"\",\n",
    "        yticks=[],\n",
    "    )\n",
    "\n",
    "    for bar, model in zip(g.patches, df_s.Model):\n",
    "        text = f'{bar.get_width():.3f}'\n",
    "        g.text(\n",
    "            max(bar.get_width(), baseline),  # X position, here at the end of the bar\n",
    "            bar.get_y() + bar.get_height()/2,  # Y position, in the middle of the bar\n",
    "            text,  # Text to be displayed, formatted to 3 decimal places\n",
    "            va='center'  # Vertical alignment\n",
    "        )\n",
    "\n",
    "plt.legend(\n",
    "    handles=[mpatches.Patch(color=palette[model], label=model) for model in models],\n",
    "    #bbox_to_anchor=(1.4, 3.2),\n",
    "    bbox_to_anchor=(1.4, 1.0),\n",
    "    loc='upper left', borderaxespad=0.,\n",
    "    title=\"Model\",\n",
    ")"
   ]
  },
  {
   "cell_type": "code",
   "execution_count": 9,
   "metadata": {},
   "outputs": [
    {
     "data": {
      "text/html": [
       "<div>\n",
       "<style scoped>\n",
       "    .dataframe tbody tr th:only-of-type {\n",
       "        vertical-align: middle;\n",
       "    }\n",
       "\n",
       "    .dataframe tbody tr th {\n",
       "        vertical-align: top;\n",
       "    }\n",
       "\n",
       "    .dataframe thead th {\n",
       "        text-align: right;\n",
       "    }\n",
       "</style>\n",
       "<table border=\"1\" class=\"dataframe\">\n",
       "  <thead>\n",
       "    <tr style=\"text-align: right;\">\n",
       "      <th></th>\n",
       "      <th>Model</th>\n",
       "      <th>AUPRC</th>\n",
       "    </tr>\n",
       "  </thead>\n",
       "  <tbody>\n",
       "    <tr>\n",
       "      <th>0</th>\n",
       "      <td>Enformer_L2+GPN-MSA+CADD</td>\n",
       "      <td>0.402273</td>\n",
       "    </tr>\n",
       "    <tr>\n",
       "      <th>1</th>\n",
       "      <td>Enformer_L2</td>\n",
       "      <td>0.386182</td>\n",
       "    </tr>\n",
       "    <tr>\n",
       "      <th>2</th>\n",
       "      <td>Borzoi_L2</td>\n",
       "      <td>0.383519</td>\n",
       "    </tr>\n",
       "    <tr>\n",
       "      <th>3</th>\n",
       "      <td>CADD</td>\n",
       "      <td>0.311857</td>\n",
       "    </tr>\n",
       "    <tr>\n",
       "      <th>4</th>\n",
       "      <td>GPN-MSA</td>\n",
       "      <td>0.288772</td>\n",
       "    </tr>\n",
       "  </tbody>\n",
       "</table>\n",
       "</div>"
      ],
      "text/plain": [
       "                      Model     AUPRC\n",
       "0  Enformer_L2+GPN-MSA+CADD  0.402273\n",
       "1               Enformer_L2  0.386182\n",
       "2                 Borzoi_L2  0.383519\n",
       "3                      CADD  0.311857\n",
       "4                   GPN-MSA  0.288772"
      ]
     },
     "execution_count": 9,
     "metadata": {},
     "output_type": "execute_result"
    }
   ],
   "source": [
    "df[\"n_pos\"] = df.subset.apply(lambda x: sample_size[x][0])\n",
    "\n",
    "def weighted_average(df):\n",
    "    weights = df[\"n_pos\"] / df[\"n_pos\"].sum()\n",
    "    return (df.AUPRC * weights).sum()\n",
    "\n",
    "df_w = (\n",
    "    df[df.subset!=\"all\"].groupby(\"Model\").apply(weighted_average).rename(\"AUPRC\")\n",
    "    .sort_values(ascending=False).to_frame().reset_index()\n",
    ")\n",
    "df_w"
   ]
  },
  {
   "cell_type": "code",
   "execution_count": 11,
   "metadata": {},
   "outputs": [],
   "source": [
    "def single_barplot(subset, title):\n",
    "    df_s = df[df.subset==subset]\n",
    "    n_pos, n_neg = sample_size[subset]\n",
    "    metric = \"AUROC\" if n_pos == n_neg else \"AUPRC\"\n",
    "    if metric == \"AUROC\":\n",
    "        baseline = 0.5\n",
    "    elif metric == \"AUPRC\":\n",
    "        baseline = n_pos / (n_pos + n_neg)\n",
    "    elif metric == \"Odds ratio\":\n",
    "        baseline = 1\n",
    "    plt.figure(figsize=(2,2))\n",
    "    g = sns.barplot(\n",
    "        data=df_s,\n",
    "        y=\"Model\",\n",
    "        x=metric,\n",
    "        order=df_s.sort_values(metric, ascending=False).Model,\n",
    "        palette=palette,\n",
    "    )\n",
    "    for bar, model in zip(g.patches, df_s.Model):\n",
    "        text = f'{bar.get_width():.3f}'\n",
    "        g.text(\n",
    "            max(bar.get_width(), baseline),  # X position, here at the end of the bar\n",
    "            bar.get_y() + bar.get_height()/2,  # Y position, in the middle of the bar\n",
    "            text,  # Text to be displayed, formatted to 3 decimal places\n",
    "            va='center'  # Vertical alignment\n",
    "        )\n",
    "    sample_size_str = f\"n={format_number(n_pos)} vs. {format_number(n_neg)}\"\n",
    "    g.set_title(f\"{title}\\n{sample_size_str}\", fontsize=10)\n",
    "    g.set(\n",
    "        ylabel=\"\",\n",
    "        xlim=n_pos/(n_pos+n_neg),\n",
    "    )\n",
    "    sns.despine();"
   ]
  },
  {
   "cell_type": "code",
   "execution_count": 15,
   "metadata": {},
   "outputs": [
    {
     "data": {
      "image/png": "[encoded data removed]",
      "text/plain": [
       "<Figure size 144x144 with 1 Axes>"
      ]
     },
     "metadata": {
      "needs_background": "light"
     },
     "output_type": "display_data"
    }
   ],
   "source": [
    "single_barplot(\"all\", \"GWAS\")"
   ]
  },
  {
   "cell_type": "code",
   "execution_count": 12,
   "metadata": {},
   "outputs": [
    {
     "data": {
      "image/png": "[encoded data removed]",
      "text/plain": [
       "<Figure size 144x144 with 1 Axes>"
      ]
     },
     "metadata": {
      "needs_background": "light"
     },
     "output_type": "display_data"
    }
   ],
   "source": [
    "single_barplot(\"all\", \"OMIM\")"
   ]
  },
  {
   "cell_type": "code",
   "execution_count": null,
   "metadata": {},
   "outputs": [],
   "source": []
  }
 ],
 "metadata": {
  "kernelspec": {
   "display_name": "gpn",
   "language": "python",
   "name": "gpn"
  },
  "language_info": {
   "codemirror_mode": {
    "name": "ipython",
    "version": 3
   },
   "file_extension": ".py",
   "mimetype": "text/x-python",
   "name": "python",
   "nbconvert_exporter": "python",
   "pygments_lexer": "ipython3",
   "version": "3.11.3"
  }
 },
 "nbformat": 4,
 "nbformat_minor": 2
}
