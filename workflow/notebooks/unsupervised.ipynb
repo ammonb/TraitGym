{
 "cells": [
  {
   "cell_type": "code",
   "execution_count": 1,
   "metadata": {},
   "outputs": [],
   "source": [
    "import matplotlib.patches as mpatches\n",
    "import matplotlib.pyplot as plt\n",
    "import pandas as pd\n",
    "import polars as pl\n",
    "import seaborn as sns\n",
    "from tqdm import tqdm\n",
    "import warnings\n",
    "warnings.filterwarnings(\"ignore\")"
   ]
  },
  {
   "cell_type": "code",
   "execution_count": 15,
   "metadata": {},
   "outputs": [],
   "source": [
    "def format_number(num):\n",
    "    \"\"\"\n",
    "    Converts a number into a more readable format, using K for thousands, M for millions, etc.\n",
    "    Args:\n",
    "    - num: The number to format.\n",
    "    \n",
    "    Returns:\n",
    "    - A formatted string representing the number.\n",
    "    \"\"\"\n",
    "    if num >= 1e9:\n",
    "        return f'{num/1e9:.1f}B'\n",
    "    elif num >= 1e6:\n",
    "        return f'{num/1e6:.1f}M'\n",
    "    elif num >= 1e3:\n",
    "        return f'{num/1e3:.1f}K'\n",
    "    else:\n",
    "        return str(num)\n",
    "\n",
    "def single_barplot(subset, title):\n",
    "    df_s = df[df.subset==subset]\n",
    "    n_pos, n_neg = sample_size[subset]\n",
    "    metric = \"AUROC\" if n_pos == n_neg else \"AUPRC\"\n",
    "    if metric == \"AUROC\":\n",
    "        baseline = 0.5\n",
    "    elif metric == \"AUPRC\":\n",
    "        baseline = n_pos / (n_pos + n_neg)\n",
    "    elif metric == \"Odds ratio\":\n",
    "        baseline = 1\n",
    "    plt.figure(figsize=(2,2))\n",
    "    g = sns.barplot(\n",
    "        data=df_s,\n",
    "        y=\"Model\",\n",
    "        x=metric,\n",
    "        order=df_s.sort_values(metric, ascending=False).Model,\n",
    "        palette=models.color.to_dict(),\n",
    "    )\n",
    "    for bar, model in zip(g.patches, df_s.Model):\n",
    "        text = f'{bar.get_width():.3f}'\n",
    "        g.text(\n",
    "            max(bar.get_width(), baseline),  # X position, here at the end of the bar\n",
    "            bar.get_y() + bar.get_height()/2,  # Y position, in the middle of the bar\n",
    "            text,  # Text to be displayed, formatted to 3 decimal places\n",
    "            va='center'  # Vertical alignment\n",
    "        )\n",
    "    sample_size_str = f\"n={format_number(n_pos)} vs. {format_number(n_neg)}\"\n",
    "    g.set_title(f\"{title}\\n{sample_size_str}\", fontsize=10)\n",
    "    g.set(\n",
    "        ylabel=\"\",\n",
    "        xlim=baseline,\n",
    "    )\n",
    "    sns.despine();"
   ]
  },
  {
   "cell_type": "code",
   "execution_count": 23,
   "metadata": {},
   "outputs": [
    {
     "data": {
      "text/html": [
       "<div>\n",
       "<style scoped>\n",
       "    .dataframe tbody tr th:only-of-type {\n",
       "        vertical-align: middle;\n",
       "    }\n",
       "\n",
       "    .dataframe tbody tr th {\n",
       "        vertical-align: top;\n",
       "    }\n",
       "\n",
       "    .dataframe thead th {\n",
       "        text-align: right;\n",
       "    }\n",
       "</style>\n",
       "<table border=\"1\" class=\"dataframe\">\n",
       "  <thead>\n",
       "    <tr style=\"text-align: right;\">\n",
       "      <th></th>\n",
       "      <th>path</th>\n",
       "      <th>feature</th>\n",
       "      <th>color</th>\n",
       "    </tr>\n",
       "    <tr>\n",
       "      <th>Model</th>\n",
       "      <th></th>\n",
       "      <th></th>\n",
       "      <th></th>\n",
       "    </tr>\n",
       "  </thead>\n",
       "  <tbody>\n",
       "    <tr>\n",
       "      <th>Enformer</th>\n",
       "      <td>Enformer_L2_L2</td>\n",
       "      <td>all</td>\n",
       "      <td>C0</td>\n",
       "    </tr>\n",
       "    <tr>\n",
       "      <th>Borzoi</th>\n",
       "      <td>Borzoi_L2_L2</td>\n",
       "      <td>all</td>\n",
       "      <td>C1</td>\n",
       "    </tr>\n",
       "    <tr>\n",
       "      <th>CADD</th>\n",
       "      <td>CADD</td>\n",
       "      <td>RawScore</td>\n",
       "      <td>C2</td>\n",
       "    </tr>\n",
       "    <tr>\n",
       "      <th>GPN-MSA</th>\n",
       "      <td>GPN-MSA_LLR</td>\n",
       "      <td>score</td>\n",
       "      <td>C3</td>\n",
       "    </tr>\n",
       "    <tr>\n",
       "      <th>GPN</th>\n",
       "      <td>GPN_LLR</td>\n",
       "      <td>score</td>\n",
       "      <td>C4</td>\n",
       "    </tr>\n",
       "    <tr>\n",
       "      <th>NT</th>\n",
       "      <td>NucleotideTransformer_LLR</td>\n",
       "      <td>score</td>\n",
       "      <td>C5</td>\n",
       "    </tr>\n",
       "    <tr>\n",
       "      <th>HyenaDNA</th>\n",
       "      <td>HyenaDNA_LLR</td>\n",
       "      <td>score</td>\n",
       "      <td>C6</td>\n",
       "    </tr>\n",
       "    <tr>\n",
       "      <th>Caduceus</th>\n",
       "      <td>Caduceus_LLR</td>\n",
       "      <td>score</td>\n",
       "      <td>C7</td>\n",
       "    </tr>\n",
       "  </tbody>\n",
       "</table>\n",
       "</div>"
      ],
      "text/plain": [
       "                               path   feature color\n",
       "Model                                              \n",
       "Enformer             Enformer_L2_L2       all    C0\n",
       "Borzoi                 Borzoi_L2_L2       all    C1\n",
       "CADD                           CADD  RawScore    C2\n",
       "GPN-MSA                 GPN-MSA_LLR     score    C3\n",
       "GPN                         GPN_LLR     score    C4\n",
       "NT        NucleotideTransformer_LLR     score    C5\n",
       "HyenaDNA               HyenaDNA_LLR     score    C6\n",
       "Caduceus               Caduceus_LLR     score    C7"
      ]
     },
     "execution_count": 23,
     "metadata": {},
     "output_type": "execute_result"
    }
   ],
   "source": [
    "LLR_version = \"LLR\"\n",
    "#LLR_version = \"absLLR\"\n",
    "\n",
    "models = pd.DataFrame(\n",
    "    [\n",
    "        [\"Enformer\", \"Enformer_L2_L2\", \"all\", \"C0\"],\n",
    "        [\"Borzoi\", \"Borzoi_L2_L2\", \"all\", \"C1\"],\n",
    "        [\"CADD\", \"CADD\", \"RawScore\", \"C2\"],\n",
    "        [\"GPN-MSA\", f\"GPN-MSA_{LLR_version}\", \"score\", \"C3\"],\n",
    "        [\"GPN\", f\"GPN_{LLR_version}\", \"score\", \"C4\"],\n",
    "        [\"NT\", f\"NucleotideTransformer_{LLR_version}\", \"score\", \"C5\"],\n",
    "        [\"HyenaDNA\", f\"HyenaDNA_{LLR_version}\", \"score\", \"C6\"],\n",
    "        [\"Caduceus\", f\"Caduceus_{LLR_version}\", \"score\", \"C7\"],\n",
    "    ],\n",
    "    columns=[\"Model\", \"path\", \"feature\", \"color\"]\n",
    ").set_index(\"Model\")\n",
    "models"
   ]
  },
  {
   "cell_type": "code",
   "execution_count": 24,
   "metadata": {},
   "outputs": [
    {
     "name": "stderr",
     "output_type": "stream",
     "text": [
      "100%|█████████████████████████████████████████████████████████████| 1/1 [00:00<00:00, 16.47it/s]\n"
     ]
    },
    {
     "data": {
      "text/html": [
       "<div>\n",
       "<style scoped>\n",
       "    .dataframe tbody tr th:only-of-type {\n",
       "        vertical-align: middle;\n",
       "    }\n",
       "\n",
       "    .dataframe tbody tr th {\n",
       "        vertical-align: top;\n",
       "    }\n",
       "\n",
       "    .dataframe thead th {\n",
       "        text-align: right;\n",
       "    }\n",
       "</style>\n",
       "<table border=\"1\" class=\"dataframe\">\n",
       "  <thead>\n",
       "    <tr style=\"text-align: right;\">\n",
       "      <th></th>\n",
       "      <th>AUPRC</th>\n",
       "      <th>Model</th>\n",
       "      <th>subset</th>\n",
       "    </tr>\n",
       "  </thead>\n",
       "  <tbody>\n",
       "    <tr>\n",
       "      <th>1</th>\n",
       "      <td>0.447432</td>\n",
       "      <td>Enformer</td>\n",
       "      <td>all</td>\n",
       "    </tr>\n",
       "    <tr>\n",
       "      <th>1</th>\n",
       "      <td>0.448000</td>\n",
       "      <td>Borzoi</td>\n",
       "      <td>all</td>\n",
       "    </tr>\n",
       "    <tr>\n",
       "      <th>1</th>\n",
       "      <td>0.598204</td>\n",
       "      <td>CADD</td>\n",
       "      <td>all</td>\n",
       "    </tr>\n",
       "    <tr>\n",
       "      <th>0</th>\n",
       "      <td>0.675998</td>\n",
       "      <td>GPN-MSA</td>\n",
       "      <td>all</td>\n",
       "    </tr>\n",
       "    <tr>\n",
       "      <th>0</th>\n",
       "      <td>0.312975</td>\n",
       "      <td>GPN</td>\n",
       "      <td>all</td>\n",
       "    </tr>\n",
       "    <tr>\n",
       "      <th>0</th>\n",
       "      <td>0.101155</td>\n",
       "      <td>NT</td>\n",
       "      <td>all</td>\n",
       "    </tr>\n",
       "    <tr>\n",
       "      <th>0</th>\n",
       "      <td>0.102673</td>\n",
       "      <td>HyenaDNA</td>\n",
       "      <td>all</td>\n",
       "    </tr>\n",
       "    <tr>\n",
       "      <th>0</th>\n",
       "      <td>0.093475</td>\n",
       "      <td>Caduceus</td>\n",
       "      <td>all</td>\n",
       "    </tr>\n",
       "  </tbody>\n",
       "</table>\n",
       "</div>"
      ],
      "text/plain": [
       "      AUPRC     Model subset\n",
       "1  0.447432  Enformer    all\n",
       "1  0.448000    Borzoi    all\n",
       "1  0.598204      CADD    all\n",
       "0  0.675998   GPN-MSA    all\n",
       "0  0.312975       GPN    all\n",
       "0  0.101155        NT    all\n",
       "0  0.102673  HyenaDNA    all\n",
       "0  0.093475  Caduceus    all"
      ]
     },
     "execution_count": 24,
     "metadata": {},
     "output_type": "execute_result"
    }
   ],
   "source": [
    "subsets = [\n",
    "    \"all\",\n",
    "]\n",
    "\n",
    "dfs = []\n",
    "sample_size = {}\n",
    "\n",
    "base_dir = f\"../../results/dataset/omim_subsampled_9\"\n",
    "#base_dir = f\"../../results/dataset/gwas_matched_9\"\n",
    "#base_dir = f\"../../results/dataset/eqtl_matched_1\"\n",
    "V = pd.read_parquet(f\"{base_dir}/test.parquet\")\n",
    "\n",
    "for subset in tqdm(subsets):\n",
    "    s = pd.read_parquet(f\"{base_dir}/subset/{subset}.parquet\")\n",
    "    V_s = s.merge(V, on=[\"chrom\", \"pos\", \"ref\", \"alt\"], how=\"left\")\n",
    "    sample_size[subset] = V_s.label.sum(), (~V_s.label).sum()\n",
    "    for model in models.index:\n",
    "        df = pd.read_csv(f\"{base_dir}/unsupervised_metrics/{subset}/{models.loc[model, 'path']}.csv\")\n",
    "        df = df[df.feature == models.loc[model, 'feature']].drop(columns=[\"feature\"])\n",
    "        df[\"Model\"] = model\n",
    "        df[\"subset\"] = subset\n",
    "        dfs.append(df)\n",
    "df = pd.concat(dfs)\n",
    "df"
   ]
  },
  {
   "cell_type": "code",
   "execution_count": 25,
   "metadata": {},
   "outputs": [
    {
     "data": {
      "image/png": "[encoded data removed]",
      "text/plain": [
       "<Figure size 144x144 with 1 Axes>"
      ]
     },
     "metadata": {
      "needs_background": "light"
     },
     "output_type": "display_data"
    }
   ],
   "source": [
    "single_barplot(\"all\", \"OMIM\")"
   ]
  },
  {
   "cell_type": "code",
   "execution_count": 20,
   "metadata": {},
   "outputs": [
    {
     "data": {
      "image/png": "[encoded data removed]",
      "text/plain": [
       "<Figure size 144x144 with 1 Axes>"
      ]
     },
     "metadata": {
      "needs_background": "light"
     },
     "output_type": "display_data"
    }
   ],
   "source": [
    "single_barplot(\"all\", \"GWAS\")"
   ]
  },
  {
   "cell_type": "code",
   "execution_count": 22,
   "metadata": {},
   "outputs": [
    {
     "data": {
      "image/png": "[encoded data removed]",
      "text/plain": [
       "<Figure size 144x144 with 1 Axes>"
      ]
     },
     "metadata": {
      "needs_background": "light"
     },
     "output_type": "display_data"
    }
   ],
   "source": [
    "single_barplot(\"all\", \"eQTL\")"
   ]
  },
  {
   "cell_type": "code",
   "execution_count": null,
   "metadata": {},
   "outputs": [],
   "source": []
  }
 ],
 "metadata": {
  "kernelspec": {
   "display_name": "gpn",
   "language": "python",
   "name": "gpn"
  },
  "language_info": {
   "codemirror_mode": {
    "name": "ipython",
    "version": 3
   },
   "file_extension": ".py",
   "mimetype": "text/x-python",
   "name": "python",
   "nbconvert_exporter": "python",
   "pygments_lexer": "ipython3",
   "version": "3.11.3"
  }
 },
 "nbformat": 4,
 "nbformat_minor": 2
}
