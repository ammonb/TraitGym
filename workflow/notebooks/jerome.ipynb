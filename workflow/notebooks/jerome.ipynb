{
 "cells": [
  {
   "cell_type": "code",
   "execution_count": 4,
   "metadata": {},
   "outputs": [
    {
     "name": "stdout",
     "output_type": "stream",
     "text": [
      "Downloading...\n",
      "From (original): https://drive.google.com/uc?id=1swfCMw_fMv9vn7c2v89MLdfHS0qvhF1l\n",
      "From (redirected): https://drive.google.com/uc?id=1swfCMw_fMv9vn7c2v89MLdfHS0qvhF1l&confirm=t&uuid=27683111-2d9d-4e4d-96fd-8323c04a2ef8\n",
      "To: /accounts/projects/yss/gbenegas/projects/functionality-prediction/workflow/notebooks/pQTL.tsv.gz\n",
      "100%|████████████████████████████████████████| 835M/835M [00:11<00:00, 73.5MB/s]\n"
     ]
    }
   ],
   "source": [
    "!gdown 1swfCMw_fMv9vn7c2v89MLdfHS0qvhF1l -O pQTL.tsv.gz"
   ]
  },
  {
   "cell_type": "code",
   "execution_count": 5,
   "metadata": {},
   "outputs": [
    {
     "name": "stdout",
     "output_type": "stream",
     "text": [
      "varid\tchrom\tposition\tOlinkID\tgene_id\tgene_chrom\tgene_TSS\tgene_name\tdistance_to_tss\tcis\tmaf\tfm_pip\tsu_pip\tivwa_pip\tgidx\n",
      "7_149169986_T_TA\t7\t149169986\tOID30639\tENSG00000179144\t7\t150514872\tGIMAP7\t1344886.0\tFalse\t0.0167634\t\t0.0006778348739305828\t0.0\t7_149169986_T_TA_ENSG00000179144\n",
      "7_149171734_G_A\t7\t149171734\tOID30639\tENSG00000179144\t7\t150514872\tGIMAP7\t1343138.0\tFalse\t0.0594358\t\t0.00047808602004129064\t0.0\t7_149171734_G_A_ENSG00000179144\n",
      "7_149171752_A_C\t7\t149171752\tOID30639\tENSG00000179144\t7\t150514872\tGIMAP7\t1343120.0\tFalse\t0.00439585\t\t0.00037035265627261005\t0.0\t7_149171752_A_C_ENSG00000179144\n",
      "7_149181584_A_G\t7\t149181584\tOID30639\tENSG00000179144\t7\t150514872\tGIMAP7\t1333288.0\tFalse\t0.0012288\t\t0.00025667936999185237\t0.0\t7_149181584_A_G_ENSG00000179144\n",
      "7_149191252_G_A\t7\t149191252\tOID30639\tENSG00000179144\t7\t150514872\tGIMAP7\t1323620.0\tFalse\t0.00427571\t\t0.0006924731477460089\t0.0\t7_149191252_G_A_ENSG00000179144\n",
      "7_149191256_G_A\t7\t149191256\tOID30639\tENSG00000179144\t7\t150514872\tGIMAP7\t1323616.0\tFalse\t0.00427571\t\t0.0006924731477460089\t0.0\t7_149191256_G_A_ENSG00000179144\n",
      "7_149194747_C_T\t7\t149194747\tOID30639\tENSG00000179144\t7\t150514872\tGIMAP7\t1320125.0\tFalse\t0.00215729\t\t0.00022551294324113513\t0.0\t7_149194747_C_T_ENSG00000179144\n",
      "7_149207039_C_G\t7\t149207039\tOID30639\tENSG00000179144\t7\t150514872\tGIMAP7\t1307833.0\tFalse\t0.00351054\t\t0.0003539783385625439\t0.0\t7_149207039_C_G_ENSG00000179144\n",
      "7_149210414_C_T\t7\t149210414\tOID30639\tENSG00000179144\t7\t150514872\tGIMAP7\t1304458.0\tFalse\t0.0695289\t\t0.0006146090855375652\t0.0\t7_149210414_C_T_ENSG00000179144\n",
      "\n",
      "gzip: stdout: Broken pipe\n"
     ]
    }
   ],
   "source": [
    "!zcat pQTL.tsv.gz | head"
   ]
  },
  {
   "cell_type": "code",
   "execution_count": 6,
   "metadata": {},
   "outputs": [
    {
     "name": "stdout",
     "output_type": "stream",
     "text": [
      "Downloading...\n",
      "From (original): https://drive.google.com/uc?id=1PLWm2Lxo0jk518aEPZ9WRdi82VK4a-RO\n",
      "From (redirected): https://drive.google.com/uc?id=1PLWm2Lxo0jk518aEPZ9WRdi82VK4a-RO&confirm=t&uuid=bddd7687-a76a-47a9-8628-de8b053b4270\n",
      "To: /accounts/projects/yss/gbenegas/projects/functionality-prediction/workflow/notebooks/GWAS-QTL-combined.tsv.gz\n",
      "100%|████████████████████████████████████████| 398M/398M [00:07<00:00, 53.8MB/s]\n"
     ]
    }
   ],
   "source": [
    "!gdown 1PLWm2Lxo0jk518aEPZ9WRdi82VK4a-RO -O GWAS-QTL-combined.tsv.gz"
   ]
  },
  {
   "cell_type": "code",
   "execution_count": 7,
   "metadata": {},
   "outputs": [
    {
     "name": "stdout",
     "output_type": "stream",
     "text": [
      "chrom\tpos\tref\talt\tvarid\tgene_id\tgene_TSS\tgidx\tcs_id\tpip\tbeta\tse\tdata_id\tstudy\tbiosample\tdistance\n",
      "1\t54815\tT\tC\t1_54815_T_C\tnone\t-1\t1_54815_T_C_\t1_0_2475093_Leucine_-1_3\t0.005034887925562113\t-0.000026152305611781378\t0.00039175283604070567\t1_0_2475093_Leucine\tUKBB-QTL-GWAS\tunknown\t-1\n",
      "1\t54815\tT\tC\t1_54815_T_C\tnone\t-1\t1_54815_T_C_\t1_0_2475093_Leucine_-1_2\t0.005031824282403656\t-0.000026152305611781378\t0.00039175283604070567\t1_0_2475093_Leucine\tUKBB-QTL-GWAS\tunknown\t-1\n",
      "1\t57098\tG\tA\t1_57098_G_A\tnone\t-1\t1_57098_G_A_\t1_0_2499842_HDL_cholesterol_-1_2\t0.02949440681629606\t-0.00016441133171034617\t0.0009893574516625315\t1_0_2499842_HDL_cholesterol\tUKBB-QTL-GWAS\tunknown\t-1\n",
      "1\t84097\tT\tA\t1_84097_T_A\tnone\t-1\t1_84097_T_A_\t1_0_2475093_Leucine_-1_3\t0.0052533202964485486\t0.000029337018114366033\t0.00041408862832397045\t1_0_2475093_Leucine\tUKBB-QTL-GWAS\tunknown\t-1\n",
      "1\t84097\tT\tA\t1_84097_T_A\tnone\t-1\t1_84097_T_A_\t1_0_2475093_Leucine_-1_2\t0.005212925061571337\t0.000029337018114366033\t0.00041408862832397045\t1_0_2475093_Leucine\tUKBB-QTL-GWAS\tunknown\t-1\n",
      "1\t98946\tC\tG\t1_98946_C_G\tnone\t-1\t1_98946_C_G_\t1_0_2629916_Phosphate_-1_3\t0.014205110331543242\t0.00006995708245594357\t0.0006112227194316843\t1_0_2629916_Phosphate\tUKBB-QTL-GWAS\tunknown\t-1\n",
      "1\t98946\tC\tG\t1_98946_C_G\tnone\t-1\t1_98946_C_G_\t1_0_2629916_Phosphate_-1_2\t0.014202127253645903\t0.00006995708245594357\t0.0006112227194316843\t1_0_2629916_Phosphate\tUKBB-QTL-GWAS\tunknown\t-1\n",
      "1\t109421\tT\tC\t1_109421_T_C\tnone\t-1\t1_109421_T_C_\t1_0_2499842_HDL_cholesterol_-1_2\t0.00531920533479249\t0.00002430082845507583\t0.00035370452892014476\t1_0_2499842_HDL_cholesterol\tUKBB-QTL-GWAS\tunknown\t-1\n",
      "1\t121119\tT\tG\t1_121119_T_G\tnone\t-1\t1_121119_T_G_\t1_0_2483237_Alanine_-1_3\t0.00816728152859117\t0.000047890226536263364\t0.0005592738259600747\t1_0_2483237_Alanine\tUKBB-QTL-GWAS\tunknown\t-1\n",
      "\n",
      "gzip: stdout: Broken pipe\n"
     ]
    }
   ],
   "source": [
    "!zcat GWAS-QTL-combined.tsv.gz | head"
   ]
  },
  {
   "cell_type": "code",
   "execution_count": null,
   "metadata": {},
   "outputs": [],
   "source": []
  }
 ],
 "metadata": {
  "kernelspec": {
   "display_name": "gpn",
   "language": "python",
   "name": "gpn"
  },
  "language_info": {
   "codemirror_mode": {
    "name": "ipython",
    "version": 3
   },
   "file_extension": ".py",
   "mimetype": "text/x-python",
   "name": "python",
   "nbconvert_exporter": "python",
   "pygments_lexer": "ipython3",
   "version": "3.11.3"
  }
 },
 "nbformat": 4,
 "nbformat_minor": 2
}
